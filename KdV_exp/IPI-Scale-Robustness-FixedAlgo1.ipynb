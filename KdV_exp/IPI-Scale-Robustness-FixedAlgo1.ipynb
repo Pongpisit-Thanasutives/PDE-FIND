{
 "cells": [
  {
   "cell_type": "code",
   "execution_count": 1,
   "metadata": {},
   "outputs": [
    {
     "name": "stdout",
     "output_type": "stream",
     "text": [
      "%pylab is deprecated, use %matplotlib inline and import the required libraries.\n",
      "Populating the interactive namespace from numpy and matplotlib\n",
      "Sklearn's version: 1.2.2\n",
      "mrmr is not installed in the env you are using. This may cause an error in future if you try to use the (missing) lib.\n"
     ]
    }
   ],
   "source": [
    "########### Old stuff ###########\n",
    "%pylab inline\n",
    "pylab.rcParams['figure.figsize'] = (12, 8)\n",
    "import numpy as np\n",
    "from mpl_toolkits.mplot3d import Axes3D\n",
    "import sys; sys.path.append('../')\n",
    "from PDE_FIND import *\n",
    "import scipy.io as sio\n",
    "from solvel0 import solvel0\n",
    "\n",
    "%load_ext autoreload\n",
    "%autoreload 2\n",
    "%matplotlib inline\n",
    "import matplotlib.pyplot as plt\n",
    "import warnings; warnings.filterwarnings(\"ignore\")\n",
    "\n",
    "import numpy as np\n",
    "from numpy.random import default_rng\n",
    "import pandas as pd\n",
    "\n",
    "import sys; sys.path.append('../')\n",
    "from PDE_FIND import *\n",
    "\n",
    "import os\n",
    "import sys; sys.path.append('../../parametric-discovery/')\n",
    "from best_subset import *\n",
    "from function_collections import BIC_AIC\n",
    "from frols import frols\n",
    "from p_linear_regression import PLinearRegression\n",
    "from r_pca import R_pca\n",
    "from pde_diff_new import RPCA\n",
    "from RobustPCA.rpca import RobustPCA\n",
    "\n",
    "########### add ons ###########\n",
    "import scipy.io as sio\n",
    "from scipy.signal import savgol_filter, butter, filtfilt, wiener\n",
    "from scipy import integrate\n",
    "from scipy.integrate import simpson, trapz, romb\n",
    "import itertools\n",
    "\n",
    "from sklearn.preprocessing import normalize\n",
    "from sklearn.linear_model import Ridge, BayesianRidge, LinearRegression as SkLinearRegression\n",
    "from sklearn.base import BaseEstimator\n",
    "from sklearn.pipeline import make_pipeline\n",
    "from sklearn.metrics import mean_squared_error\n",
    "from abess.linear import LinearRegression\n",
    "import pysindy as ps\n",
    "\n",
    "from os.path import join as join_path\n",
    "FIGURE_EXPORT_PATH = \"/Users/pongpisit/Documents/figure_export/\"\n",
    "\n",
    "def evaluate_coefficients(prediected_coeffs):\n",
    "    assert len(prediected_coeffs.flatten()) == 2\n",
    "    errs = 100*np.abs(prediected_coeffs.flatten()+1)\n",
    "    return errs.mean(), errs.std()\n",
    "\n",
    "def percent_coeff(pred, ground):\n",
    "    return 100*np.abs(pred-ground)/np.abs(ground)\n",
    "\n",
    "import torch, sympytorch\n",
    "import torch.nn as nn\n",
    "import torch.nn.functional as F\n",
    "from sympy import symbols, simplify, lambdify\n",
    "from mathparser import math_eval\n",
    "from varname import nameof\n",
    "from misc import h5file\n",
    "\n",
    "import derivative\n",
    "from tvregdiff import TVRegDiff, tvregdiff, numdiff, pysindydiff, savgol_denoise\n",
    "from functools import partial\n",
    "from findiff import FinDiff\n",
    "\n",
    "from tqdm import tqdm, trange\n",
    "from tsmoothie.smoother import *\n",
    "\n",
    "from omegaconf import OmegaConf"
   ]
  },
  {
   "cell_type": "code",
   "execution_count": 2,
   "metadata": {},
   "outputs": [
    {
     "name": "stdout",
     "output_type": "stream",
     "text": [
      "Domain shape: (512, 501)\n",
      "Clean data be like...\n"
     ]
    },
    {
     "data": {
      "image/png": "[encoded data removed]",
      "text/plain": [
       "<Figure size 432x288 with 1 Axes>"
      ]
     },
     "metadata": {
      "needs_background": "light"
     },
     "output_type": "display_data"
    }
   ],
   "source": [
    "# Two versions (1) KdV_rudy_{solver_name} & (2) KdV_sine_rep_{solver_name}\n",
    "data = sio.loadmat('../Datasets/KdV_sine_rep_big.mat')\n",
    "u = real(data['usol'])\n",
    "x = data['x'][0]\n",
    "t = data['t'][0]\n",
    "print(\"Domain shape:\", u.shape)\n",
    "dt = t[1]-t[0]\n",
    "dx = x[1]-x[0]\n",
    "X, T = np.meshgrid(x, t)\n",
    "XT = np.asarray([X, T]).T\n",
    "\n",
    "# Plot\n",
    "print(\"Clean data be like...\")\n",
    "plt.contourf(u)\n",
    "plt.show()"
   ]
  },
  {
   "cell_type": "code",
   "execution_count": 3,
   "metadata": {},
   "outputs": [
    {
     "name": "stdout",
     "output_type": "stream",
     "text": [
      "l0_penalty: 1\n",
      "PDE derived using STRidge\n",
      "u_t = (-1.000814 +0.000000i)uu_{x}\n",
      "    + (-1.002643 +0.000000i)u_{xxx}\n",
      "   \n"
     ]
    }
   ],
   "source": [
    "Ut, R, rhs_des = build_linear_system(u, dt, dx, D=3, P=2, time_diff = 'FD', space_diff = 'FD')\n",
    "\n",
    "# Solve with STRidge using 2-norm normalization\n",
    "w = TrainSTRidge(R,Ut,1e-6,1,l0_penalty=1)\n",
    "print(\"PDE derived using STRidge\")\n",
    "print_pde(w, rhs_des)"
   ]
  },
  {
   "cell_type": "code",
   "execution_count": 4,
   "metadata": {},
   "outputs": [],
   "source": [
    "np.random.seed(0)\n",
    "noise_lvs = [30, 70, 110, 150, 160]\n",
    "noise_lv = noise_lvs[3]\n",
    "un = u + 0.01*abs(noise_lv)*u.std()*np.random.randn(*u.shape)"
   ]
  },
  {
   "cell_type": "code",
   "execution_count": 5,
   "metadata": {},
   "outputs": [],
   "source": [
    "is_u_denoised = True\n",
    "if is_u_denoised and noise_lv == 160:\n",
    "    print(\"Loading denoised data...\")\n",
    "    un = np.load(f\"./denoised_files/KdV_rep_sine_noise{noise_lv}_reduced_dctV2ksvdreg_25x25.npy\")"
   ]
  },
  {
   "cell_type": "code",
   "execution_count": 6,
   "metadata": {},
   "outputs": [],
   "source": [
    "### originally from derivative ###\n",
    "## slow ##\n",
    "# diff_name, diff_func_kwargs = \"Kalman\", {'alpha':kalpha}\n",
    "## fast ##\n",
    "# diff_name, diff_func_kwargs = \"FiniteDifference\", {'k':1}\n",
    "# differentiation_method = Differentiator\n",
    "# differentiation_kwargs = {\"diff_name\": diff_name, \"diff_func_kwargs\": diff_func_kwargs}\n",
    "\n",
    "# originally from pysindy\n",
    "differentiation_method, differentiation_kwargs = ps.FiniteDifference, {}\n",
    "# differentiation_method, differentiation_kwargs = ps.SmoothedFiniteDifference, {}\n",
    "\n",
    "# originally from findiff (accurate and fast)\n",
    "# differentiation_method, differentiation_kwargs = FiniteDifferentiator, {'acc':4}\n",
    "\n",
    "diff_order = 4\n",
    "weak_pde_lib = ps.WeakPDELibrary(library_functions=[lambda x: x, lambda x: x * x], \n",
    "                                 function_names=[lambda x: x, lambda x: x + x], \n",
    "                                 derivative_order=diff_order, p=4, \n",
    "                                 spatiotemporal_grid=XT, \n",
    "                                 include_bias=False, is_uniform=True, K=10000, # new random K points in every calls to the ps.WeakPDELibrary\n",
    "                                 differentiation_method=differentiation_method, \n",
    "                                 differentiation_kwargs=differentiation_kwargs, \n",
    "                                 cache=True\n",
    "                                )\n",
    "kwargs = {'fit_intercept':False, 'copy_X':True, 'normalize_columns':False}"
   ]
  },
  {
   "cell_type": "code",
   "execution_count": 7,
   "metadata": {},
   "outputs": [],
   "source": [
    "# optimizer = BruteForceRegressor(3)\n",
    "# if feature_library=weak_pde_lib, then just differentiation_method=None is fine.\n",
    "optimizer_name = \"miosr\" # \"l0bnb\", \"miosr\"\n",
    "assert (optimizer_name == \"l0bnb\") or (optimizer_name == \"miosr\")\n",
    "if optimizer_name == \"l0bnb\":\n",
    "    optimizer = L0BNB(max_nonzeros=2+1, lam=1e-4, is_normal=True, normalize_columns=False, threshold=1e-4)\n",
    "elif optimizer_name == \"miosr\":\n",
    "    optimizer = ps.MIOSR(target_sparsity=2, alpha=1e-4, normalize_columns=False, regression_timeout=100)\n",
    "n_ensemble_models = 50\n",
    "model = ps.SINDy(feature_library=weak_pde_lib, optimizer=optimizer, \n",
    "                 differentiation_method=differentiation_method(**differentiation_kwargs), \n",
    "                 cache=True,\n",
    "                 feature_names=['u'])"
   ]
  },
  {
   "cell_type": "code",
   "execution_count": 8,
   "metadata": {},
   "outputs": [
    {
     "name": "stdout",
     "output_type": "stream",
     "text": [
      "Set parameter Username\n"
     ]
    },
    {
     "name": "stderr",
     "output_type": "stream",
     "text": [
      "2023-12-17 20:20:34,095 [INFO] Set parameter Username\n"
     ]
    },
    {
     "name": "stdout",
     "output_type": "stream",
     "text": [
      "Academic license - for non-commercial use only - expires 2024-06-04\n"
     ]
    },
    {
     "name": "stderr",
     "output_type": "stream",
     "text": [
      "2023-12-17 20:20:34,097 [INFO] Academic license - for non-commercial use only - expires 2024-06-04\n"
     ]
    },
    {
     "name": "stdout",
     "output_type": "stream",
     "text": [
      "['u', 'uu', 'u_1', 'u_11', 'u_111', 'u_1111', 'uu_1', 'uuu_1', 'uu_11', 'uuu_11', 'uu_111', 'uuu_111', 'uu_1111', 'uuu_1111']\n"
     ]
    }
   ],
   "source": [
    "model.fit(np.expand_dims(un, -1), t=dt, ensemble=True, library_ensemble=True, n_candidates_to_drop=1, n_models=n_ensemble_models)\n",
    "print(model.get_feature_names())\n",
    "X_pre, y_pre = np.squeeze(model.feature_library.cached_xp_full), model.cached_x_dot"
   ]
  },
  {
   "cell_type": "code",
   "execution_count": 9,
   "metadata": {},
   "outputs": [
    {
     "name": "stderr",
     "output_type": "stream",
     "text": [
      "100%|███████████████████████████████████████████████████████████████████████████████████████████████████████████████████| 14/14 [00:13<00:00,  1.02it/s]\n"
     ]
    },
    {
     "data": {
      "text/plain": [
       "[(6,),\n",
       " (4, 6),\n",
       " (2, 4, 6),\n",
       " (2, 4, 6, 10),\n",
       " (2, 3, 4, 6, 10),\n",
       " (2, 3, 4, 6, 9, 10),\n",
       " (2, 3, 4, 6, 9, 10, 13),\n",
       " (2, 3, 4, 5, 6, 9, 10, 13),\n",
       " (2, 3, 4, 6, 8, 9, 10, 12, 13),\n",
       " (2, 3, 4, 5, 6, 8, 9, 10, 12, 13),\n",
       " (0, 2, 3, 4, 5, 6, 8, 9, 10, 12, 13),\n",
       " (0, 1, 2, 3, 4, 5, 6, 8, 9, 10, 12, 13),\n",
       " (0, 1, 2, 3, 4, 5, 6, 8, 9, 10, 11, 12, 13),\n",
       " (0, 1, 2, 3, 4, 5, 6, 7, 8, 9, 10, 11, 12, 13)]"
      ]
     },
     "execution_count": 9,
     "metadata": {},
     "output_type": "execute_result"
    }
   ],
   "source": [
    "bf_solve, best_subsets = brute_force_all_subsets(X_pre, y_pre) # compare solvel0's res to bf_solve\n",
    "best_subsets"
   ]
  },
  {
   "cell_type": "code",
   "execution_count": 10,
   "metadata": {},
   "outputs": [],
   "source": [
    "from UBIC import *"
   ]
  },
  {
   "cell_type": "markdown",
   "metadata": {},
   "source": [
    "#### UBIC"
   ]
  },
  {
   "cell_type": "code",
   "execution_count": 11,
   "metadata": {},
   "outputs": [
    {
     "name": "stdout",
     "output_type": "stream",
     "text": [
      "0.06671046418132714\n",
      "1 <---> 8 0.02619989056443159\n"
     ]
    },
    {
     "data": {
      "text/plain": [
       "(2.2249671544963485,\n",
       " array([1403.42748473,    0.        ,  431.53388229,  338.15583061,\n",
       "         778.61188298,  779.33419133,  751.41150124, 1060.94738478,\n",
       "         795.58643304, 1114.43830295, 2807.28593399, 3225.48094034,\n",
       "        3463.60838253, 4027.43062247]),\n",
       " 1,\n",
       " 1)"
      ]
     },
     "execution_count": 11,
     "metadata": {},
     "output_type": "execute_result"
    }
   ],
   "source": [
    "tau = 3 # we fix its value as a constant\n",
    "scale = np.log(len(y_pre))\n",
    "# scale = 1\n",
    "per = 85 # 75 is fine with noise_lvs[-1]\n",
    "\n",
    "post_means, b_bics, b_uns = baye_uncertainties(best_subsets, (X_pre, y_pre), u_type='cv1', take_sqrt=True)\n",
    "predictions = X_pre@post_means\n",
    "\n",
    "b_bics = np.array(b_bics)\n",
    "max_complexity = len(b_bics)\n",
    "complexities = np.arange(max_complexity)+1\n",
    "slopes = np.diff(b_bics)/(np.diff(complexities)*b_bics[:-1])\n",
    "d_complexities = complexities[decreasing_values_indices(b_bics)]\n",
    "d_bics = b_bics[decreasing_values_indices(b_bics)]\n",
    "d_slopes = np.abs(np.diff(d_bics)/(np.diff(d_complexities)*d_bics[:-1]))\n",
    "thres = np.percentile(d_slopes, per)\n",
    "\n",
    "print(thres)\n",
    "\n",
    "lower_bounds = []\n",
    "for k, efi in enumerate(best_subsets):\n",
    "    assert len(efi) == np.count_nonzero(post_means[:, k:k+1])\n",
    "    com = len(efi)\n",
    "    lower_bound = 2*log_like_value(predictions[:, k:k+1], y_pre)-np.log(len(y_pre))*com\n",
    "    lower_bounds.append(lower_bound)\n",
    "\n",
    "last_lam = np.log10(max(max(lower_bounds/(b_uns*scale)), 0))\n",
    "delta = last_lam/tau\n",
    "now_lam = last_lam-delta\n",
    "last_ubic = UBIC(b_bics, b_uns, len(y_pre), hyp=10**last_lam, scale=scale)\n",
    "last_bc = np.argmin(last_ubic)\n",
    "while now_lam > 0:\n",
    "    now_ubic = UBIC(b_bics, b_uns, len(y_pre), hyp=10**now_lam, scale=scale)\n",
    "    now_bc = np.argmin(now_ubic)\n",
    "    \n",
    "    diff_com = now_bc-last_bc\n",
    "    diff_bic = b_bics[now_bc]-b_bics[last_bc]\n",
    "    imp = abs(diff_bic/(b_bics[last_bc]*diff_com))\n",
    "    \n",
    "    print(min(last_bc, now_bc), '<--->', max(last_bc, now_bc), np.nan_to_num(imp, nan=np.inf))\n",
    "    \n",
    "    if (diff_com > 0 and (diff_bic > 0 or imp < thres)) or \\\n",
    "        (diff_com < 0 and diff_bic > 0 and imp > thres):\n",
    "        break\n",
    "    \n",
    "    last_lam = now_lam\n",
    "    now_lam = last_lam-delta\n",
    "    last_ubic = now_ubic\n",
    "    last_bc = now_bc\n",
    "\n",
    "best_bc = last_bc\n",
    "if abs((b_bics[last_bc]-b_bics[last_bc-1])/b_bics[last_bc-1]) < thres:\n",
    "    print(\"Found unworthy improvement\")\n",
    "    best_bc = best_bc - 1\n",
    "    \n",
    "last_lam, last_ubic, last_bc, best_bc"
   ]
  },
  {
   "cell_type": "code",
   "execution_count": 12,
   "metadata": {},
   "outputs": [
    {
     "name": "stdout",
     "output_type": "stream",
     "text": [
      "0.06671046418132714\n",
      "1 <---> 8 0.02619989056443159\n"
     ]
    },
    {
     "data": {
      "text/plain": [
       "(2.2249671544963485,\n",
       " array([1403.42748473,    0.        ,  431.53388229,  338.15583061,\n",
       "         778.61188298,  779.33419133,  751.41150124, 1060.94738478,\n",
       "         795.58643304, 1114.43830295, 2807.28593399, 3225.48094034,\n",
       "        3463.60838253, 4027.43062247]),\n",
       " 1,\n",
       " 1)"
      ]
     },
     "execution_count": 12,
     "metadata": {},
     "output_type": "execute_result"
    }
   ],
   "source": [
    "tau = 3 # we fix its value as a constant\n",
    "scale = np.log(len(y_pre))\n",
    "# scale = 1\n",
    "per = 85 # 75 is fine with noise_lvs[-1]\n",
    "\n",
    "post_means, b_bics, b_uns = baye_uncertainties(best_subsets, (X_pre, y_pre), u_type='cv1', take_sqrt=True)\n",
    "predictions = X_pre@post_means\n",
    "\n",
    "b_bics = np.array(b_bics)\n",
    "max_complexity = len(b_bics)\n",
    "complexities = np.arange(max_complexity)+1\n",
    "slopes = np.diff(b_bics)/(np.diff(complexities)*b_bics[:-1])\n",
    "d_complexities = complexities[decreasing_values_indices(b_bics)]\n",
    "d_bics = b_bics[decreasing_values_indices(b_bics)]\n",
    "d_slopes = np.abs(np.diff(d_bics)/(np.diff(d_complexities)*d_bics[:-1]))\n",
    "thres = np.percentile(d_slopes, per)\n",
    "\n",
    "print(thres)\n",
    "\n",
    "lower_bounds = []\n",
    "for k, efi in enumerate(best_subsets):\n",
    "    assert len(efi) == np.count_nonzero(post_means[:, k:k+1])\n",
    "    com = len(efi)\n",
    "    lower_bound = 2*np.abs(log_like_value(predictions[:, k:k+1], y_pre))-np.log(len(y_pre))*com\n",
    "    lower_bounds.append(lower_bound)\n",
    "\n",
    "last_lam = np.log10(max(max(lower_bounds/(b_uns*scale)), 0))\n",
    "delta = last_lam/tau\n",
    "now_lam = last_lam-delta\n",
    "last_ubic = UBIC(b_bics, b_uns, len(y_pre), hyp=10**last_lam, scale=scale)\n",
    "last_bc = np.argmin(last_ubic)\n",
    "while now_lam >= 0:\n",
    "    now_ubic = UBIC(b_bics, b_uns, len(y_pre), hyp=10**now_lam, scale=scale)\n",
    "    now_bc = np.argmin(now_ubic)\n",
    "    \n",
    "    diff_com = now_bc-last_bc\n",
    "    diff_bic = b_bics[now_bc]-b_bics[last_bc]\n",
    "    imp = abs(diff_bic/(b_bics[last_bc]*diff_com))\n",
    "    \n",
    "    print(min(last_bc, now_bc), '<--->', max(last_bc, now_bc), np.nan_to_num(imp, nan=np.inf))\n",
    "    \n",
    "    if (diff_com > 0 and (diff_bic > 0 or imp < thres)) or \\\n",
    "        (diff_com < 0 and diff_bic > 0 and imp > thres):\n",
    "        break\n",
    "    \n",
    "    last_lam = now_lam\n",
    "    now_lam = round(last_lam-delta, 10)\n",
    "    last_ubic = now_ubic\n",
    "    last_bc = now_bc\n",
    "\n",
    "best_bc = last_bc\n",
    "if abs((b_bics[last_bc]-b_bics[last_bc-1])/b_bics[last_bc-1]) < thres:\n",
    "    print(\"Found unworthy improvement\")\n",
    "    best_bc = best_bc - 1\n",
    "    \n",
    "if last_lam >= 0: last_lam = abs(last_lam)\n",
    "last_lam, last_ubic, last_bc, best_bc"
   ]
  },
  {
   "cell_type": "code",
   "execution_count": 13,
   "metadata": {},
   "outputs": [],
   "source": [
    "assert np.alltrue(last_ubic == (b_bics + 10**(last_lam)*scale*b_uns))"
   ]
  },
  {
   "cell_type": "code",
   "execution_count": 14,
   "metadata": {},
   "outputs": [
    {
     "data": {
      "text/plain": [
       "(array([-0.15137931, -0.27677942]), (78.5920633227986, 6.270005705745618))"
      ]
     },
     "execution_count": 14,
     "metadata": {},
     "output_type": "execute_result"
    }
   ],
   "source": [
    "# noise160, without denoising: (80.09839637291726, 6.359564638006148)\n",
    "# noise160, with denoising: (75.14577309959625, 6.1474732255712965)\n",
    "found_coefficients = np.linalg.lstsq(X_pre[:, best_subsets[best_bc]], y_pre, rcond=None)[0]\n",
    "found_coefficients = found_coefficients.flatten()\n",
    "percent_coefficient_error = evaluate_coefficients(found_coefficients)\n",
    "found_coefficients, percent_coefficient_error"
   ]
  },
  {
   "cell_type": "code",
   "execution_count": 15,
   "metadata": {},
   "outputs": [
    {
     "data": {
      "text/plain": [
       "(78.5920633227986, 6.270005705745618)"
      ]
     },
     "execution_count": 15,
     "metadata": {},
     "output_type": "execute_result"
    }
   ],
   "source": [
    "errs = 100*np.abs(found_coefficients+1)\n",
    "errs.mean(), errs.std()"
   ]
  },
  {
   "cell_type": "code",
   "execution_count": 16,
   "metadata": {},
   "outputs": [],
   "source": [
    "yml = {'lam': float(last_lam), \n",
    "       'ubic': [float(e) for e in last_ubic.tolist()], \n",
    "       'bic': [float(e) for e in b_bics.tolist()], \n",
    "       'uns': [float(e) for e in b_uns.tolist()], \n",
    "       'bc': float(best_bc), \n",
    "       'found_coefficients': [float(e) for e in found_coefficients.tolist()], \n",
    "       'percent_coefficient_error': [float(e) for e in percent_coefficient_error], \n",
    "      }\n",
    "\n",
    "# OmegaConf.save(config=OmegaConf.create(yml), \n",
    "#                f=f'./robustness_output_files/kdv_robustness_noise{int(noise_lv)}.yaml')"
   ]
  },
  {
   "cell_type": "code",
   "execution_count": 17,
   "metadata": {},
   "outputs": [
    {
     "data": {
      "image/png": "[encoded data removed]",
      "text/plain": [
       "<Figure size 252x189 with 2 Axes>"
      ]
     },
     "metadata": {
      "needs_background": "light"
     },
     "output_type": "display_data"
    }
   ],
   "source": [
    "complexity_axis = [i+1 for i in range(X_pre.shape[1])]\n",
    "with plt.style.context(['science']):\n",
    "    fig, ax = plt.subplots()\n",
    "    ax2 = ax.twinx()\n",
    "    ax.set_zorder(ax2.get_zorder()+1)\n",
    "    ax.patch.set_visible(False)\n",
    "    \n",
    "    l0, = ax.plot(complexity_axis, b_bics, 's-', c='black', markerfacecolor='none', label=\"BIC\")\n",
    "    l1, = ax.plot(complexity_axis, last_ubic, 'o-', c='black', markerfacecolor='none', label=f\"$\\lambda = {abs(last_lam)}$\")\n",
    "    ax.set_xticks(complexity_axis)\n",
    "    ax.set_ylabel(\"$\\\\textrm{UBIC}(\\\\xi^{k}, 10^{\\\\lambda})$\", fontsize=12)\n",
    "    ax.set_xlabel(\"Support sizes ($s_{k}$)\", fontsize=12)\n",
    "\n",
    "    ax.annotate('$(u_{xxx}, uu_{x})\\checkmark$', fontsize=16, \n",
    "                 xy=(complexity_axis[best_bc], last_ubic[best_bc]), \n",
    "                 xytext=(complexity_axis[best_bc]+6, last_ubic[best_bc]-1500), \n",
    "                 arrowprops={'arrowstyle': '->', 'connectionstyle':'arc3, rad=0.1'})\n",
    "    \n",
    "    l2, = ax2.plot(complexity_axis, b_uns, 'o--', c='blue', markerfacecolor='none', label=\"Uncertainty $\\\\textrm{U}^{k}$\")\n",
    "    s1 = ax2.scatter(complexity_axis[np.argmin(b_uns)], b_uns[np.argmin(b_uns)], c='blue')\n",
    "    ax2.tick_params(axis='y', labelcolor='blue')\n",
    "#     ax.set_title(f\"$\\\\epsilon = {int(noise_lv)}$\")\n",
    "    ax.set_title(f\"$\\\\epsilon = {int(noise_lv)},$\" + ' ' + f\"$\\%\\\\textrm{{CE}} = {round(percent_coefficient_error[0], 2)}$\")\n",
    "    ax.legend([l0, l1, l2, s1], [\"BIC\", f\"UBIC with $\\lambda = {abs(round(last_lam,2))}$\", \"Uncertainty $\\\\textrm{U}^{k}$\", \"Min $\\\\textrm{U}^{k}$\"], \n",
    "              labelcolor='linecolor', loc='upper left', fontsize=11)\n",
    "    \n",
    "#     fig.savefig(\"tmp.pdf\")\n",
    "#     fig.savefig(\"../Figures/KdV/kdv_extreme_noise_V2.pdf\")\n",
    "    \n",
    "    plt.show()"
   ]
  },
  {
   "cell_type": "code",
   "execution_count": 18,
   "metadata": {},
   "outputs": [
    {
     "data": {
      "image/png": "[encoded data removed]",
      "text/plain": [
       "<Figure size 1152x288 with 8 Axes>"
      ]
     },
     "metadata": {
      "needs_background": "light"
     },
     "output_type": "display_data"
    }
   ],
   "source": [
    "complexity_axis = [i+1 for i in range(X_pre.shape[1])]\n",
    "with plt.style.context(['science']):\n",
    "    fig, axes = plt.subplots(ncols=4, figsize=(16, 4))\n",
    "    for i, noise_lv in enumerate(noise_lvs[:-1]):\n",
    "        ax = axes[i]\n",
    "        ax2 = ax.twinx()\n",
    "        ax.set_zorder(ax2.get_zorder()+1)\n",
    "        ax.patch.set_visible(False)\n",
    "        ax2.tick_params(axis='y', labelcolor='blue')\n",
    "        \n",
    "        noise_data = OmegaConf.load(f'./robustness_output_files/kdv_robustness_noise{int(noise_lv)}.yaml')\n",
    "        last_ubic = noise_data['ubic']\n",
    "        last_lam = noise_data['lam']\n",
    "        best_bc = int(noise_data['bc'])\n",
    "        bic = noise_data['bic']\n",
    "        uns = noise_data['uns']\n",
    "        \n",
    "        ax2.plot(complexity_axis, uns, 'o--', c='blue', markerfacecolor='none')\n",
    "        \n",
    "        ax.plot(complexity_axis, bic, 's-', c='black', markerfacecolor='none', label=f\"BIC\")\n",
    "        ax.plot(complexity_axis, last_ubic, 'o-', c='black', markerfacecolor='none', label=f\"UBIC ($\\lambda = {abs(round(last_lam, 2))}$)\")\n",
    "        ax.scatter(complexity_axis[best_bc], last_ubic[best_bc], c='black', label='min \\checkmark')\n",
    "        ax.set_xticks(complexity_axis)\n",
    "        if i == 0: ax.set_ylabel(\"$\\\\textrm{UBIC}(\\\\xi^{k}, 10^{\\\\lambda})$\", fontsize=12)\n",
    "        if i == 3: ax2.set_ylabel(\"Uncertainty ($\\\\textrm{U}^{k}$)\", c='blue', fontsize=12)\n",
    "        ax.set_xlabel(\"Support sizes ($s_{k}$)\", fontsize=12)\n",
    "        # ax.set_title(f\"$\\\\epsilon = {int(noise_lv)}$\")\n",
    "        ax.set_title(f\"$\\\\epsilon = {int(noise_lv)},$\" + ' ' + f\"$\\%\\\\textrm{{CE}} = {round(noise_data['percent_coefficient_error'][0], 2)}$\")\n",
    "        ax.legend(fontsize=12, loc='upper center', bbox_to_anchor=(-0.1,0,1,1))\n",
    "    plt.tight_layout()\n",
    "    # fig.savefig(\"../Figures/KdV/kdv_noise_robustness.pdf\")\n",
    "    plt.show()"
   ]
  },
  {
   "cell_type": "code",
   "execution_count": 19,
   "metadata": {},
   "outputs": [
    {
     "ename": "StopIteration",
     "evalue": "",
     "output_type": "error",
     "traceback": [
      "\u001b[0;31m---------------------------------------------------------------------------\u001b[0m",
      "\u001b[0;31mStopIteration\u001b[0m                             Traceback (most recent call last)",
      "Input \u001b[0;32mIn [19]\u001b[0m, in \u001b[0;36m<cell line: 1>\u001b[0;34m()\u001b[0m\n\u001b[0;32m----> 1\u001b[0m \u001b[38;5;28;01mraise\u001b[39;00m \u001b[38;5;167;01mStopIteration\u001b[39;00m\n",
      "\u001b[0;31mStopIteration\u001b[0m: "
     ]
    }
   ],
   "source": [
    "raise StopIteration"
   ]
  },
  {
   "cell_type": "code",
   "execution_count": null,
   "metadata": {},
   "outputs": [],
   "source": []
  },
  {
   "cell_type": "code",
   "execution_count": null,
   "metadata": {},
   "outputs": [],
   "source": [
    "# complexity_axis = [i+1 for i in range(X_pre.shape[1])]\n",
    "# with plt.style.context(['science', 'grid']):\n",
    "#     fig, axes = plt.subplots(ncols=1)\n",
    "#     for i, noise_lv in enumerate([noise_lvs[-1]]):\n",
    "#         ax = axes\n",
    "#         noise_data = OmegaConf.load(f'./robustness_output_files/kdv_robustness_noise{int(noise_lv)}.yaml')\n",
    "#         last_ubic = noise_data['ubic']\n",
    "#         last_lam = noise_data['lam']\n",
    "#         best_bc = int(noise_data['bc'])\n",
    "#         ax.plot(complexity_axis, last_ubic, 'o-', c='black', markerfacecolor='none', label=f\"$\\lambda = {abs(round(last_lam, 2))}$\")\n",
    "#         ax.scatter(complexity_axis[best_bc], last_ubic[best_bc], c='black', label='min \\checkmark')\n",
    "#         ax.set_xticks(complexity_axis)\n",
    "#         if i == 0: ax.set_ylabel(\"$\\\\textrm{UBIC}(\\\\xi^{k}, 10^{\\\\lambda})$\", fontsize=12)\n",
    "#         ax.set_xlabel(\"Support sizes ($s_{k}$)\", fontsize=12)\n",
    "#         ax.set_title(f\"$\\\\epsilon = {int(noise_lv)}$\")\n",
    "#         ax.legend(fontsize=12)\n",
    "#     plt.tight_layout()\n",
    "# #     fig.savefig(\"../Figures/KdV/kdv_extreme_noise.pdf\")\n",
    "#     plt.show()"
   ]
  },
  {
   "cell_type": "code",
   "execution_count": null,
   "metadata": {},
   "outputs": [],
   "source": [
    "# complexity_axis = list(st.track.keys())\n",
    "# with plt.style.context(['science', 'grid']):\n",
    "#     fig, ax = plt.subplots()\n",
    "#     ax.plot([], [], linestyle='', marker='', label='Target: $u_t$')\n",
    "#     ax.plot(complexity_axis, last_ubic, 'o-', c='black', markerfacecolor='none', label=f\"$\\lambda = {abs(round(last_lam, 2))}$\")\n",
    "#     ax.set_xticks(complexity_axis)\n",
    "#     ax.set_ylabel(\"$\\\\textrm{UBIC}_{\\\\Gamma}(\\\\xi^{k}, 10^{\\\\lambda})$\", fontsize=12)\n",
    "#     ax.set_xlabel(\"Support sizes ($s_{k}$)\", fontsize=12)\n",
    "#     plt.annotate('$(u_{xxx}, uu_{x})\\checkmark$', fontsize=16,  \n",
    "#                  xy=(complexity_axis[best_bc], last_ubic[best_bc]), \n",
    "#                  xytext=(complexity_axis[best_bc]+0.5, last_ubic[best_bc]+9000), \n",
    "#                  arrowprops={'arrowstyle': '->'})\n",
    "#     ax.legend(fontsize=12)\n",
    "#     fig.savefig(\"../Figures/KdV/kdv_scale_ubic.pdf\")\n",
    "#     plt.show()\n",
    "#     plt.close()"
   ]
  },
  {
   "cell_type": "code",
   "execution_count": null,
   "metadata": {},
   "outputs": [],
   "source": [
    "# complexity_axis = list(st.track.keys())\n",
    "# with plt.style.context(['science', 'grid']):\n",
    "#     fig, ax = plt.subplots()\n",
    "#     ax.plot([], [], linestyle='', marker='', label='Target: $u_t$')\n",
    "#     ax.plot(complexity_axis, b_uns, 'o-', c='black', markerfacecolor='none')\n",
    "#     ax.set_xticks(complexity_axis)\n",
    "#     ax.set_ylabel(\"Uncertainty ($\\\\textrm{U}^{k}$)\", fontsize=12)\n",
    "#     ax.set_xlabel(\"Support sizes ($s_{k}$)\", fontsize=12)\n",
    "#     plt.annotate('min', fontsize=16, \n",
    "#                  xy=(complexity_axis[best_bc], b_uns[best_bc]), \n",
    "#                  xytext=(complexity_axis[best_bc], b_uns[best_bc]+2.25), \n",
    "#                  arrowprops={'arrowstyle': '->'})\n",
    "#     ax.legend(fontsize=12)\n",
    "# #     fig.savefig(\"../Figures/KdV/kdv_uns.pdf\")\n",
    "#     plt.show()\n",
    "#     plt.close()"
   ]
  },
  {
   "cell_type": "code",
   "execution_count": null,
   "metadata": {},
   "outputs": [],
   "source": [
    "# ud_X, un_best_subsets, _, ud_y = h5file(\"./IPI_output_files/PMS_undenoised_data.h5\", 'r')\n",
    "# _, ud_bics, _ = baye_uncertainties([np.where(e>0)[0].tolist() for e in un_best_subsets], \n",
    "#                                    (ud_X, ud_y), u_type='cv1', take_sqrt=True)\n",
    "\n",
    "# complexity_axis = list(st.track.keys())\n",
    "# with plt.style.context(['science', 'grid']):\n",
    "#     fig, ax = plt.subplots()\n",
    "#     ax.plot([], [], linestyle='', marker='', label='Target: $u_t$')\n",
    "#     ax.plot(complexity_axis, ud_bics, 'o-', c='blue', markerfacecolor='none', label=\"w/o denoising\")\n",
    "#     ax.plot(complexity_axis, b_bics, 'o-', c='black', markerfacecolor='none', label=\"w/ denoising\")\n",
    "#     ax.fill_between(complexity_axis, ud_bics, b_bics, facecolor='blue', alpha=0.1)\n",
    "#     ax.set_xticks(complexity_axis)\n",
    "#     ax.set_ylabel(\"$\\\\textrm{BIC}(\\\\xi^{k}_{\\\\mu})$\", fontsize=12)\n",
    "#     ax.set_xlabel(\"Support sizes ($s_{k}$)\", fontsize=12)\n",
    "#     plt.annotate(f\"$({', '.join(eff_feature_names[np.argmin(b_bics)])})$\", fontsize=10, \n",
    "#                  xy=(complexity_axis[np.argmin(b_bics)], b_bics[np.argmin(b_bics)]), \n",
    "#                  xytext=(complexity_axis[np.argmin(b_bics)]-5, b_bics[np.argmin(b_bics)]+3000), \n",
    "#                  arrowprops={'arrowstyle': '->'})\n",
    "#     ax.legend(fontsize=10)\n",
    "# #     fig.savefig(\"../Figures/KdV/kdv_bic.pdf\")\n",
    "#     plt.show()\n",
    "#     plt.close()"
   ]
  }
 ],
 "metadata": {
  "anaconda-cloud": {},
  "kernelspec": {
   "display_name": "Python [conda env:pysr]",
   "language": "python",
   "name": "conda-env-pysr-py"
  },
  "language_info": {
   "codemirror_mode": {
    "name": "ipython",
    "version": 3
   },
   "file_extension": ".py",
   "mimetype": "text/x-python",
   "name": "python",
   "nbconvert_exporter": "python",
   "pygments_lexer": "ipython3",
   "version": "3.10.10"
  }
 },
 "nbformat": 4,
 "nbformat_minor": 1
}
