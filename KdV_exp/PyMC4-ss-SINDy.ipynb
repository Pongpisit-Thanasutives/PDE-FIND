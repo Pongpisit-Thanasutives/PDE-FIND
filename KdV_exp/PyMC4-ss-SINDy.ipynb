{
 "cells": [
  {
   "cell_type": "code",
   "execution_count": 1,
   "id": "9fe367b2",
   "metadata": {},
   "outputs": [],
   "source": [
    "%matplotlib inline\n",
    "import matplotlib.pyplot as plt\n",
    "import seaborn as sns\n",
    "import pandas as pd\n",
    "\n",
    "import random\n",
    "import arviz as az\n",
    "import pymc as pm\n",
    "import pymc.sampling.jax as pmjax\n",
    "import numpy as np\n",
    "\n",
    "import sys; sys.path.append('../')\n",
    "from misc import h5file\n",
    "import yaml\n",
    "import statsmodels.api as sm"
   ]
  },
  {
   "cell_type": "code",
   "execution_count": 2,
   "id": "687af58d",
   "metadata": {},
   "outputs": [
    {
     "name": "stdout",
     "output_type": "stream",
     "text": [
      "['X_pre', 'best_subsets', 'un', 'y_pre']\n"
     ]
    },
    {
     "data": {
      "text/plain": [
       "['u*u_1',\n",
       " 'u_111+u*u_1',\n",
       " 'u_111+u*u_1+u*u_111',\n",
       " 'u_111+u*u_1+u*u*u_1+u*u_111',\n",
       " 'u_1+u_111+u*u_1+u*u_111+u*u*u_111',\n",
       " 'u+u_1+u_111+u*u_1+u*u_111+u*u*u_111',\n",
       " 'u+u_1+u_111+u*u_1+u*u_11+u*u_111+u*u*u_111',\n",
       " 'u+u_1+u_111+u*u_1+u*u*u_1+u*u_11+u*u_111+u*u*u_111',\n",
       " 'u+u_1+u_11+u_111+u*u_1+u*u*u_1+u*u_11+u*u_111+u*u*u_111',\n",
       " 'u+u_1+u_11+u_111+u*u_1+u*u*u_1+u*u_11+u*u*u_11+u*u_111+u*u*u_111',\n",
       " 'u+u*u+u_1+u_11+u_111+u*u_1+u*u*u_1+u*u_11+u*u*u_11+u*u_111+u*u*u_111',\n",
       " 'u+u*u+u_1+u_11+u_111+u*u_1+u*u*u_1+u*u_11+u*u*u_11+u*u_111+u*u*u_111+u*u_1111',\n",
       " 'u+u*u+u_1+u_11+u_111+u*u_1+u*u*u_1+u*u_11+u*u*u_11+u*u_111+u*u*u_111+u*u_1111+u*u*u_1111',\n",
       " 'u+u*u+u_1+u_11+u_111+u_1111+u*u_1+u*u*u_1+u*u_11+u*u*u_11+u*u_111+u*u*u_111+u*u_1111+u*u*u_1111']"
      ]
     },
     "execution_count": 2,
     "metadata": {},
     "output_type": "execute_result"
    }
   ],
   "source": [
    "noise_lv = 30\n",
    "fp1 = \"./IPI_output_files/PMS_data.h5\"\n",
    "fp2 = \"./IPI_output_files/encoded_pde_names.yaml\"\n",
    "X_pre, best_subsets, un, y_pre = h5file(file_path=fp1, mode='r', return_dict=False)\n",
    "\n",
    "with open(fp2, 'r') as f:\n",
    "    config = yaml.load(f, yaml.Loader)\n",
    "f.close()\n",
    "encoded_feature_names = config[\"encoded_feature_names\"]\n",
    "encoded_pde_names = config[\"encoded_pde_names\"]\n",
    "encoded_pde_names"
   ]
  },
  {
   "cell_type": "code",
   "execution_count": 3,
   "id": "8f98b776",
   "metadata": {},
   "outputs": [
    {
     "data": {
      "text/plain": [
       "[[6],\n",
       " [4, 6],\n",
       " [4, 6, 10],\n",
       " [4, 6, 7, 10],\n",
       " [2, 4, 6, 10, 11],\n",
       " [0, 2, 4, 6, 10, 11],\n",
       " [0, 2, 4, 6, 8, 10, 11]]"
      ]
     },
     "execution_count": 3,
     "metadata": {},
     "output_type": "execute_result"
    }
   ],
   "source": [
    "bic_sel_complexity = 7\n",
    "max_complexity = len(best_subsets)//2\n",
    "hie = [np.where(best_subsets[i]>0)[0].tolist() for i in range(best_subsets.shape[-1])][:max_complexity]\n",
    "hie"
   ]
  },
  {
   "cell_type": "code",
   "execution_count": 4,
   "id": "ef1f3749",
   "metadata": {},
   "outputs": [
    {
     "name": "stdout",
     "output_type": "stream",
     "text": [
      "[-0.00272839 -0.02550555 -0.90364348 -0.96685633 -0.00405048 -0.19253602\n",
      "  0.07679068] 0.004769484870843118\n"
     ]
    },
    {
     "name": "stderr",
     "output_type": "stream",
     "text": [
      "Multiprocess sampling (4 chains in 4 jobs)\n",
      "CompoundStep\n",
      ">BinaryGibbsMetropolis: [xi]\n",
      ">NUTS: [beta, sigma]\n"
     ]
    },
    {
     "data": {
      "text/html": [
       "\n",
       "<style>\n",
       "    /* Turns off some styling */\n",
       "    progress {\n",
       "        /* gets rid of default border in Firefox and Opera. */\n",
       "        border: none;\n",
       "        /* Needs to be in here for Safari polyfill so background images work as expected. */\n",
       "        background-size: auto;\n",
       "    }\n",
       "    progress:not([value]), progress:not([value])::-webkit-progress-bar {\n",
       "        background: repeating-linear-gradient(45deg, #7e7e7e, #7e7e7e 10px, #5c5c5c 10px, #5c5c5c 20px);\n",
       "    }\n",
       "    .progress-bar-interrupted, .progress-bar-interrupted::-webkit-progress-bar {\n",
       "        background: #F44336;\n",
       "    }\n",
       "</style>\n"
      ],
      "text/plain": [
       "<IPython.core.display.HTML object>"
      ]
     },
     "metadata": {},
     "output_type": "display_data"
    },
    {
     "data": {
      "text/html": [
       "\n",
       "    <div>\n",
       "      <progress value='24000' class='' max='24000' style='width:300px; height:20px; vertical-align: middle;'></progress>\n",
       "      100.00% [24000/24000 47:43&lt;00:00 Sampling 4 chains, 3,822 divergences]\n",
       "    </div>\n",
       "    "
      ],
      "text/plain": [
       "<IPython.core.display.HTML object>"
      ]
     },
     "metadata": {},
     "output_type": "display_data"
    },
    {
     "name": "stderr",
     "output_type": "stream",
     "text": [
      "Sampling 4 chains for 2_000 tune and 4_000 draw iterations (8_000 + 16_000 draws total) took 2878 seconds.\n",
      "/Users/pongpisit/anaconda3/envs/pymc_env/lib/python3.11/site-packages/arviz/stats/diagnostics.py:592: RuntimeWarning: invalid value encountered in scalar divide\n",
      "  (between_chain_variance / within_chain_variance + num_samples - 1) / (num_samples)\n",
      "The rhat statistic is larger than 1.01 for some parameters. This indicates problems during sampling. See https://arxiv.org/abs/1903.08008 for details\n",
      "The effective sample size per chain is smaller than 100 for some parameters.  A higher number is needed for reliable rhat and ess computation. See https://arxiv.org/abs/1903.08008 for details\n",
      "There were 3822 divergences after tuning. Increase `target_accept` or reparameterize.\n"
     ]
    },
    {
     "data": {
      "text/html": [
       "\n",
       "<style>\n",
       "    /* Turns off some styling */\n",
       "    progress {\n",
       "        /* gets rid of default border in Firefox and Opera. */\n",
       "        border: none;\n",
       "        /* Needs to be in here for Safari polyfill so background images work as expected. */\n",
       "        background-size: auto;\n",
       "    }\n",
       "    progress:not([value]), progress:not([value])::-webkit-progress-bar {\n",
       "        background: repeating-linear-gradient(45deg, #7e7e7e, #7e7e7e 10px, #5c5c5c 10px, #5c5c5c 20px);\n",
       "    }\n",
       "    .progress-bar-interrupted, .progress-bar-interrupted::-webkit-progress-bar {\n",
       "        background: #F44336;\n",
       "    }\n",
       "</style>\n"
      ],
      "text/plain": [
       "<IPython.core.display.HTML object>"
      ]
     },
     "metadata": {},
     "output_type": "display_data"
    },
    {
     "data": {
      "text/html": [
       "\n",
       "    <div>\n",
       "      <progress value='16000' class='' max='16000' style='width:300px; height:20px; vertical-align: middle;'></progress>\n",
       "      100.00% [16000/16000 00:01&lt;00:00]\n",
       "    </div>\n",
       "    "
      ],
      "text/plain": [
       "<IPython.core.display.HTML object>"
      ]
     },
     "metadata": {},
     "output_type": "display_data"
    },
    {
     "name": "stderr",
     "output_type": "stream",
     "text": [
      "Initializing SMC sampler...\n",
      "Sampling 4 chains in 4 jobs\n"
     ]
    },
    {
     "name": "stdout",
     "output_type": "stream",
     "text": [
      "    "
     ]
    },
    {
     "name": "stderr",
     "output_type": "stream",
     "text": [
      "/Users/pongpisit/anaconda3/envs/pymc_env/lib/python3.11/site-packages/arviz/stats/diagnostics.py:592: RuntimeWarning: invalid value encountered in scalar divide\n",
      "  (between_chain_variance / within_chain_variance + num_samples - 1) / (num_samples)\n",
      "The rhat statistic is larger than 1.01 for some parameters. This indicates problems during sampling. See https://arxiv.org/abs/1903.08008 for details\n",
      "The effective sample size per chain is smaller than 100 for some parameters.  A higher number is needed for reliable rhat and ess computation. See https://arxiv.org/abs/1903.08008 for details\n"
     ]
    }
   ],
   "source": [
    "### Version 1 ###\n",
    "# Define the Bayesian linear regression model\n",
    "X_sup = X_pre[:, hie[-1]]\n",
    "y_sup = y_pre.ravel()\n",
    "support_sizes = X_sup.shape[-1]\n",
    "init_beta = np.linalg.lstsq(X_sup, y_sup, rcond=-1)[0]\n",
    "init_sigma = np.mean((X_sup@init_beta-y_sup)**2)\n",
    "print(init_beta, init_sigma)\n",
    "n_samples = 4000\n",
    "# n_samples = 40\n",
    "pinclusion = (bic_sel_complexity/len(best_subsets))/2 # normal pinclusion (0.25)\n",
    "pinclusion = (bic_sel_complexity/len(best_subsets))/4 # low pinclusion (0.125)\n",
    "pinclusion = 1e-2 # lowlow pinclusion (0.001)\n",
    "\n",
    "np.random.seed(0)\n",
    "with pm.Model() as model:\n",
    "    # beta = pm.Normal('beta', mu=0, sigma=1, shape=X_sup.shape[-1])\n",
    "    # sigma = pm.HalfCauchy('sigma', beta=init_sigma)\n",
    "    \n",
    "    xi = pm.Bernoulli('xi', pinclusion, shape=support_sizes)\n",
    "    beta = pm.MvNormal('beta', \n",
    "                       mu=init_beta.flatten(), cov=np.identity(support_sizes), \n",
    "                       shape=support_sizes)\n",
    "    coeffs = pm.Deterministic('coeffs', beta*xi)\n",
    "    sigma = pm.Exponential('sigma', lam=init_sigma)\n",
    "    mu = pm.math.dot(X_sup, coeffs)\n",
    "    likelihood = pm.Normal('y', mu=mu, sigma=sigma, observed=y_sup)\n",
    "\n",
    "    # Perform MCMC sampling\n",
    "    trace = pm.sample(n_samples, tune=n_samples//2, chains=4, cores=4, \n",
    "                      # nuts={'target_accept':0.99}, \n",
    "                      nuts={'target_accept':0.99, 'max_treedepth':12}, \n",
    "                      return_inferencedata=True)\n",
    "    # trace = pmjax.sample_numpyro_nuts(n_samples, tune=n_samples//2, chains=4, cores=4, return_inferencedata=return_inferencedata)\n",
    "    # trace = pmjax.sample_blackjax_nuts(n_samples, tune=n_samples//2, chains=4, cores=4, return_inferencedata=True)\n",
    "    pm.compute_log_likelihood(trace)\n",
    "    idata = pm.sample_smc(draws=n_samples, progressbar=False, cores=4)"
   ]
  },
  {
   "cell_type": "code",
   "execution_count": 5,
   "id": "00a4b1cb",
   "metadata": {},
   "outputs": [
    {
     "data": {
      "text/plain": [
       "'kdv_99_depth12_1e-2_pinclusion_idata.json'"
      ]
     },
     "execution_count": 5,
     "metadata": {},
     "output_type": "execute_result"
    }
   ],
   "source": [
    "# trace.to_netcdf(\"kdv_99_depth12_1e-2_pinclusion.trace\", overwrite_existing=True)\n",
    "# idata.to_json(\"kdv_99_depth12_1e-2_pinclusion_idata.json\")"
   ]
  },
  {
   "cell_type": "code",
   "execution_count": 6,
   "id": "b5cbf344",
   "metadata": {},
   "outputs": [],
   "source": [
    "# ### Version 2 (relaxed & faster) ###\n",
    "# # Define the Bayesian linear regression model\n",
    "# init_beta = np.linalg.lstsq(X_pre, y_pre, rcond=-1)[0]\n",
    "# init_sigma = np.mean((X_pre@init_beta-y_pre)**2)\n",
    "# thin_sigma = 1e-2\n",
    "# fat_sigma = 1\n",
    "\n",
    "# n_samples = 4000\n",
    "# # n_samples = 40\n",
    "\n",
    "# X_sup = X_pre\n",
    "# y_sup = y_pre.ravel()\n",
    "# support_sizes = X_sup.shape[-1]\n",
    "\n",
    "# np.random.seed(0)\n",
    "# with pm.Model() as model:    \n",
    "#     pinclusion = pm.Uniform(\"pip\", 0.0, (5/support_sizes)/2)\n",
    "#     pip = pm.Bernoulli('xi', pinclusion, shape=support_sizes)\n",
    "#     coeffs = pm.Normal(\"coeffs\", mu=0, sigma=(1-pip)*thin_sigma+pip*fat_sigma)\n",
    "# #     coeffs = pm.MvNormal(\"beta\", mu=init_beta.flatten(), \n",
    "# #                          sigma=((1-inclusion)*thin_sigma+inclusion*fat_sigma)*np.identity(support_sizes))\n",
    "    \n",
    "#     sigma = pm.Exponential('sigma', lam=init_sigma)\n",
    "#     mu = pm.math.dot(X_sup, coeffs)\n",
    "#     likelihood = pm.Normal('y', mu=mu, sigma=sigma, observed=y_sup)\n",
    "\n",
    "#     # Perform MCMC sampling\n",
    "#     trace = pm.sample(n_samples, tune=n_samples//2, chains=4, cores=4, \n",
    "#                       # nuts={'target_accept':0.99}, \n",
    "#                       nuts={'target_accept':0.99, 'max_treedepth':12}, \n",
    "#                       return_inferencedata=True)\n",
    "#     # trace = pmjax.sample_numpyro_nuts(n_samples, tune=n_samples//2, chains=4, cores=4, return_inferencedata=return_inferencedata)\n",
    "#     # trace = pmjax.sample_blackjax_nuts(n_samples, tune=n_samples//2, chains=4, cores=4, return_inferencedata=True)\n",
    "#     pm.compute_log_likelihood(trace)\n",
    "#     idata = pm.sample_smc(draws=n_samples, progressbar=False, cores=4)"
   ]
  },
  {
   "cell_type": "code",
   "execution_count": 84,
   "id": "98ab21fb",
   "metadata": {},
   "outputs": [],
   "source": [
    "post = idata.posterior\n",
    "post_coeff = post.coeffs\n",
    "post_xi = post.xi"
   ]
  },
  {
   "cell_type": "code",
   "execution_count": 85,
   "id": "c162b22b",
   "metadata": {},
   "outputs": [],
   "source": [
    "# import json\n",
    "# trace = trace.from_netcdf(\"kdv_99_depth12_low_pinclusion.trace\")\n",
    "# with open('kdv_99_depth12_low_pinclusion_idata.json') as f:\n",
    "#     idata = json.load(f)\n",
    "# post_coeff = idata['posterior']['coeffs']\n",
    "# post_xi = idata['posterior']['xi']"
   ]
  },
  {
   "cell_type": "code",
   "execution_count": 86,
   "id": "bc57cac9",
   "metadata": {},
   "outputs": [
    {
     "data": {
      "text/plain": [
       "{2: [(2, 3), -24202.09802250475, 15840],\n",
       " 3: [(2, 3, 5), -24516.283556873415, 159]}"
      ]
     },
     "execution_count": 86,
     "metadata": {},
     "output_type": "execute_result"
    }
   ],
   "source": [
    "# xi_npar = np.array(post.xi)\n",
    "xi_npar = np.array(post_xi)\n",
    "total_samples = xi_npar.shape[0]*xi_npar.shape[1]\n",
    "coll = {}\n",
    "tested = {}\n",
    "for nc in range(xi_npar.shape[0]):\n",
    "    for i in range(xi_npar.shape[1]):\n",
    "        eff = tuple(np.nonzero(xi_npar[nc][i])[0])\n",
    "        if eff not in tested:\n",
    "            com = len(eff)\n",
    "            bicv = sm.OLS(y_sup, X_sup[:, eff]).fit().bic\n",
    "            if (com not in coll) or (com in coll and coll[com][-1] > bicv):\n",
    "                coll[len(eff)] = [eff, bicv]\n",
    "            tested[eff] = 1\n",
    "        else:\n",
    "            tested[eff] += 1\n",
    "for com in coll: \n",
    "    coll[com].append(tested[coll[com][0]])\n",
    "counts = [tested[coll[com][0]] for com in coll]\n",
    "counts = np.array(counts)\n",
    "# counts = counts/sum(counts)\n",
    "counts = counts/total_samples\n",
    "coll"
   ]
  },
  {
   "cell_type": "code",
   "execution_count": 87,
   "id": "bc6556ad",
   "metadata": {},
   "outputs": [],
   "source": [
    "data = np.array(post_coeff).reshape(-1, support_sizes)\n",
    "prob = np.array(post_xi).reshape(-1, support_sizes)\n",
    "prob = prob.mean(axis=0)\n",
    "# prob = prob/sum(prob)\n",
    "index = tuple(sorted(np.argsort(prob)[::-1][:max(coll.keys())]))\n",
    "data = data[:, index]"
   ]
  },
  {
   "cell_type": "code",
   "execution_count": 88,
   "id": "861eacd3",
   "metadata": {},
   "outputs": [
    {
     "data": {
      "text/plain": [
       "['$u_{xxx}$', '$uu_{x}$', '$uu_{xxx}$']"
      ]
     },
     "execution_count": 88,
     "metadata": {},
     "output_type": "execute_result"
    }
   ],
   "source": [
    "encoded_feature_names = ['$u$', '$u^{2}$', '$u_{x}$', '$u_{xx}$', '$u_{xxx}$', '$u_{xxxx}$', '$uu_{x}$', '$u^{2}u_{x}$', \n",
    "                         '$uu_{xx}$', '$u^{2}u_{xx}$', '$uu_{xxx}$', '$u^{2}u_{xxx}$', '$uu_{xxxx}$', '$u^{2}u_{xxxx}']\n",
    "columns = [encoded_feature_names[hie[-1][i]] for i in index]\n",
    "columns"
   ]
  },
  {
   "cell_type": "code",
   "execution_count": 89,
   "id": "9aaa7ace",
   "metadata": {},
   "outputs": [
    {
     "data": {
      "image/png": "[encoded data removed]",
      "text/plain": [
       "<Figure size 350x262.5 with 1 Axes>"
      ]
     },
     "metadata": {},
     "output_type": "display_data"
    }
   ],
   "source": [
    "with plt.style.context(['science', 'grid']):\n",
    "    sns.kdeplot(data)\n",
    "#     sns.kdeplot(pd.DataFrame(data, columns=['$uu_{x}$', '$u_{xxx}$', '$u_{x}$', '$uu_{xxx}$', '$u^{2}u_{xxx}$', '$u$', '$uu_{xx}$']))\n",
    "    sns.kdeplot(pd.DataFrame(data, columns=columns))\n",
    "    plt.xlabel(f\"Top {len(columns)} candidates' coefficient values\")\n",
    "#     plt.ylabel(\"Marginal posterior density (MCMC)\")\n",
    "    plt.ylabel(\"Marginal posterior density (SMC)\")\n",
    "    plt.xticks([-1., -0.5, 0, 0.1])\n",
    "    # plt.ylim(0, 1000)\n",
    "#     plt.savefig(\"../Figures/KdV/posterior_smc_lowlow_pinclusion.pdf\")\n",
    "    plt.show()"
   ]
  },
  {
   "cell_type": "code",
   "execution_count": 90,
   "id": "453058d0",
   "metadata": {},
   "outputs": [
    {
     "data": {
      "image/png": "[encoded data removed]",
      "text/plain": [
       "<Figure size 350x262.5 with 1 Axes>"
      ]
     },
     "metadata": {},
     "output_type": "display_data"
    }
   ],
   "source": [
    "with plt.style.context(['science', 'grid']):\n",
    "    plt.bar([i+1 for i in hie[-1]], prob)\n",
    "    plt.xticks([i+1 for i in range(len(best_subsets))])\n",
    "    plt.ylabel(\"PIP of candidate\")\n",
    "    plt.xlabel(\"$k^{\\\\text{th}}$ Candidate\")\n",
    "#     plt.savefig(\"../Figures/KdV/PIP_candidate_smc_lowlow_pinclusion.pdf\")\n",
    "    plt.show()"
   ]
  },
  {
   "cell_type": "code",
   "execution_count": 91,
   "id": "b4a654f7",
   "metadata": {},
   "outputs": [
    {
     "data": {
      "image/png": "[encoded data removed]",
      "text/plain": [
       "<Figure size 350x262.5 with 1 Axes>"
      ]
     },
     "metadata": {},
     "output_type": "display_data"
    }
   ],
   "source": [
    "with plt.style.context(['science', 'grid']):\n",
    "    plt.bar(coll.keys(), counts)\n",
    "    plt.xticks(list(coll.keys()))\n",
    "    plt.ylabel(\"PIP of potential PDE\")\n",
    "    plt.xlabel(\"Support sizes\")\n",
    "#     plt.savefig(\"../Figures/KdV/PIP_model_smc_lowlow_pinclusion.pdf\")\n",
    "    plt.show()"
   ]
  },
  {
   "cell_type": "code",
   "execution_count": 92,
   "id": "3992efb0",
   "metadata": {},
   "outputs": [
    {
     "data": {
      "image/png": "[encoded data removed]",
      "text/plain": [
       "<Figure size 350x262.5 with 1 Axes>"
      ]
     },
     "metadata": {},
     "output_type": "display_data"
    }
   ],
   "source": [
    "map_est = np.linalg.lstsq(X_sup[:, index], y_sup, rcond=None)[0]\n",
    "uncert = np.abs(data.std(axis=0)/map_est)\n",
    "uncert = uncert/min(uncert)\n",
    "\n",
    "with plt.style.context(['science', 'grid']):\n",
    "    plt.plot([hie[-1][i]+1 for i in index], uncert, 'o-', c='black', markerfacecolor='none')\n",
    "    plt.xticks([hie[-1][i]+1 for i in index])\n",
    "#     plt.title(\"Spike and slap prior\")\n",
    "    plt.xlabel(\"$k^{\\\\textrm{th}}$ Candidate\")\n",
    "    plt.ylabel(\"Uncertainty factor\")\n",
    "#     plt.savefig(\"../Figures/KdV/ss_uncert_smc_lowlow_pinclusion.pdf\")\n",
    "    plt.show()"
   ]
  },
  {
   "cell_type": "code",
   "execution_count": null,
   "id": "569ae011",
   "metadata": {},
   "outputs": [],
   "source": []
  },
  {
   "cell_type": "code",
   "execution_count": null,
   "id": "85ad020c",
   "metadata": {},
   "outputs": [],
   "source": []
  }
 ],
 "metadata": {
  "kernelspec": {
   "display_name": "Python [conda env:pymc_env]",
   "language": "python",
   "name": "conda-env-pymc_env-py"
  },
  "language_info": {
   "codemirror_mode": {
    "name": "ipython",
    "version": 3
   },
   "file_extension": ".py",
   "mimetype": "text/x-python",
   "name": "python",
   "nbconvert_exporter": "python",
   "pygments_lexer": "ipython3",
   "version": "3.11.4"
  }
 },
 "nbformat": 4,
 "nbformat_minor": 5
}
