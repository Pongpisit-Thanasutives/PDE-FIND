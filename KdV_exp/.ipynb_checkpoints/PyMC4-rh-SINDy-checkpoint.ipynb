{
 "cells": [
  {
   "cell_type": "code",
   "execution_count": 1,
   "id": "9fe367b2",
   "metadata": {},
   "outputs": [],
   "source": [
    "%matplotlib inline\n",
    "import matplotlib.pyplot as plt\n",
    "import seaborn as sns\n",
    "import pandas as pd\n",
    "\n",
    "import random\n",
    "import arviz as az\n",
    "import pymc as pm\n",
    "import pymc.sampling.jax as pmjax\n",
    "import numpy as np\n",
    "\n",
    "import sys; sys.path.append('../')\n",
    "from rh_prior import horseshoe_prior\n",
    "from misc import h5file\n",
    "import yaml\n",
    "import statsmodels.api as sm"
   ]
  },
  {
   "cell_type": "code",
   "execution_count": 2,
   "id": "687af58d",
   "metadata": {},
   "outputs": [
    {
     "name": "stdout",
     "output_type": "stream",
     "text": [
      "['X_pre', 'best_subsets', 'un', 'y_pre']\n"
     ]
    },
    {
     "data": {
      "text/plain": [
       "['u*u_1',\n",
       " 'u_111+u*u_1',\n",
       " 'u_111+u*u_1+u*u_111',\n",
       " 'u_111+u*u_1+u*u*u_1+u*u_111',\n",
       " 'u_1+u_111+u*u_1+u*u_111+u*u*u_111',\n",
       " 'u+u_1+u_111+u*u_1+u*u_111+u*u*u_111',\n",
       " 'u+u_1+u_111+u*u_1+u*u_11+u*u_111+u*u*u_111',\n",
       " 'u+u_1+u_111+u*u_1+u*u*u_1+u*u_11+u*u_111+u*u*u_111',\n",
       " 'u+u_1+u_11+u_111+u*u_1+u*u*u_1+u*u_11+u*u_111+u*u*u_111',\n",
       " 'u+u_1+u_11+u_111+u*u_1+u*u*u_1+u*u_11+u*u*u_11+u*u_111+u*u*u_111',\n",
       " 'u+u*u+u_1+u_11+u_111+u*u_1+u*u*u_1+u*u_11+u*u*u_11+u*u_111+u*u*u_111',\n",
       " 'u+u*u+u_1+u_11+u_111+u*u_1+u*u*u_1+u*u_11+u*u*u_11+u*u_111+u*u*u_111+u*u_1111',\n",
       " 'u+u*u+u_1+u_11+u_111+u*u_1+u*u*u_1+u*u_11+u*u*u_11+u*u_111+u*u*u_111+u*u_1111+u*u*u_1111',\n",
       " 'u+u*u+u_1+u_11+u_111+u_1111+u*u_1+u*u*u_1+u*u_11+u*u*u_11+u*u_111+u*u*u_111+u*u_1111+u*u*u_1111']"
      ]
     },
     "execution_count": 2,
     "metadata": {},
     "output_type": "execute_result"
    }
   ],
   "source": [
    "noise_lv = 30\n",
    "fp1 = \"./IPI_output_files/PMS_data.h5\"\n",
    "fp2 = \"./IPI_output_files/encoded_pde_names.yaml\"\n",
    "X_pre, best_subsets, un, y_pre = h5file(file_path=fp1, mode='r', return_dict=False)\n",
    "\n",
    "with open(fp2, 'r') as f:\n",
    "    config = yaml.load(f, yaml.Loader)\n",
    "f.close()\n",
    "encoded_feature_names = config[\"encoded_feature_names\"]\n",
    "encoded_pde_names = config[\"encoded_pde_names\"]\n",
    "encoded_pde_names"
   ]
  },
  {
   "cell_type": "code",
   "execution_count": 3,
   "id": "8f98b776",
   "metadata": {},
   "outputs": [
    {
     "data": {
      "text/plain": [
       "[[6],\n",
       " [4, 6],\n",
       " [4, 6, 10],\n",
       " [4, 6, 7, 10],\n",
       " [2, 4, 6, 10, 11],\n",
       " [0, 2, 4, 6, 10, 11],\n",
       " [0, 2, 4, 6, 8, 10, 11]]"
      ]
     },
     "execution_count": 3,
     "metadata": {},
     "output_type": "execute_result"
    }
   ],
   "source": [
    "bic_sel_complexity = 7\n",
    "max_complexity = len(best_subsets)//2\n",
    "hie = [np.where(best_subsets[i]>0)[0].tolist() for i in range(best_subsets.shape[-1])][:max_complexity]\n",
    "hie"
   ]
  },
  {
   "cell_type": "code",
   "execution_count": 4,
   "id": "ef1f3749",
   "metadata": {},
   "outputs": [
    {
     "name": "stdout",
     "output_type": "stream",
     "text": [
      "[-0.00272839 -0.02550555 -0.90364348 -0.96685633 -0.00405048 -0.19253602\n",
      "  0.07679068] 0.004769484870843118\n",
      "Compiling...\n",
      "Compilation time =  0:00:03.731153\n",
      "Sampling...\n",
      "Sampling time =  0:00:06.351726\n",
      "Transforming variables...\n",
      "Transformation time =  0:08:42.010917\n"
     ]
    },
    {
     "data": {
      "text/html": [
       "\n",
       "<style>\n",
       "    /* Turns off some styling */\n",
       "    progress {\n",
       "        /* gets rid of default border in Firefox and Opera. */\n",
       "        border: none;\n",
       "        /* Needs to be in here for Safari polyfill so background images work as expected. */\n",
       "        background-size: auto;\n",
       "    }\n",
       "    progress:not([value]), progress:not([value])::-webkit-progress-bar {\n",
       "        background: repeating-linear-gradient(45deg, #7e7e7e, #7e7e7e 10px, #5c5c5c 10px, #5c5c5c 20px);\n",
       "    }\n",
       "    .progress-bar-interrupted, .progress-bar-interrupted::-webkit-progress-bar {\n",
       "        background: #F44336;\n",
       "    }\n",
       "</style>\n"
      ],
      "text/plain": [
       "<IPython.core.display.HTML object>"
      ]
     },
     "metadata": {},
     "output_type": "display_data"
    },
    {
     "data": {
      "text/html": [
       "\n",
       "    <div>\n",
       "      <progress value='16000' class='' max='16000' style='width:300px; height:20px; vertical-align: middle;'></progress>\n",
       "      100.00% [16000/16000 00:01&lt;00:00]\n",
       "    </div>\n",
       "    "
      ],
      "text/plain": [
       "<IPython.core.display.HTML object>"
      ]
     },
     "metadata": {},
     "output_type": "display_data"
    },
    {
     "name": "stderr",
     "output_type": "stream",
     "text": [
      "Initializing SMC sampler...\n",
      "Sampling 4 chains in 4 jobs\n"
     ]
    },
    {
     "name": "stdout",
     "output_type": "stream",
     "text": [
      "    "
     ]
    },
    {
     "name": "stderr",
     "output_type": "stream",
     "text": [
      "The rhat statistic is larger than 1.01 for some parameters. This indicates problems during sampling. See https://arxiv.org/abs/1903.08008 for details\n",
      "The effective sample size per chain is smaller than 100 for some parameters.  A higher number is needed for reliable rhat and ess computation. See https://arxiv.org/abs/1903.08008 for details\n"
     ]
    }
   ],
   "source": [
    "# Define the Bayesian linear regression model\n",
    "X_sup = X_pre[:, hie[-1]]\n",
    "y_sup = y_pre.ravel()\n",
    "support_sizes = X_sup.shape[-1]\n",
    "init_beta = np.linalg.lstsq(X_sup, y_sup, rcond=-1)[0]\n",
    "init_sigma = np.mean((X_sup@init_beta-y_sup)**2)\n",
    "print(init_beta, init_sigma)\n",
    "n_samples = 4000\n",
    "\n",
    "slab_df = 4\n",
    "slab_scale = 2\n",
    "tau0 = 1e-3\n",
    "\n",
    "np.random.seed(0)\n",
    "with pm.Model() as model:\n",
    "    tau = pm.HalfStudentT('tau', nu=1, sigma=tau0)\n",
    "    c2 = pm.InverseGamma('c2', alpha=0.5*slab_df, beta=0.5*slab_df*slab_scale**2)\n",
    "    l = pm.HalfStudentT('l', nu=1, sigma=1, shape=support_sizes)\n",
    "    lt = (pm.math.sqrt(c2)*l) / pm.math.sqrt(c2 + pm.math.sqr(tau) * pm.math.sqr(l))\n",
    "    z  = pm.Normal('z', mu=0, sigma=1, shape=support_sizes)\n",
    "    pn = pm.Deterministic('pn', z*tau*lt)\n",
    "    coeffs = pm.Deterministic('coeffs', z*tau*lt)\n",
    "    \n",
    "    sigma = pm.Exponential('sigma', lam=init_sigma)\n",
    "    mu = pm.math.dot(X_sup, coeffs)\n",
    "    likelihood = pm.Normal('y', mu=mu, sigma=sigma, observed=y_sup)\n",
    "\n",
    "    # Perform MCMC sampling\n",
    "#     trace = pm.sample(n_samples, tune=n_samples//2, chains=4, cores=4, \n",
    "#                       # nuts={'target_accept':0.99}, \n",
    "#                       nuts={'target_accept':0.99, 'max_treedepth':12}, \n",
    "#                       return_inferencedata=True)\n",
    "    # trace = pmjax.sample_numpyro_nuts(n_samples, tune=n_samples//2, chains=4, cores=4, return_inferencedata=True)\n",
    "    trace = pmjax.sample_blackjax_nuts(n_samples, tune=n_samples//2, chains=4, cores=4, return_inferencedata=True)\n",
    "    pm.compute_log_likelihood(trace)\n",
    "    idata = pm.sample_smc(draws=n_samples, progressbar=False, cores=4)"
   ]
  },
  {
   "cell_type": "code",
   "execution_count": 5,
   "id": "4cc8c75e",
   "metadata": {},
   "outputs": [
    {
     "data": {
      "text/plain": [
       "'kdv_rh_idata.json'"
      ]
     },
     "execution_count": 5,
     "metadata": {},
     "output_type": "execute_result"
    }
   ],
   "source": [
    "trace.to_netcdf(\"kdv_rh.trace\", overwrite_existing=True)\n",
    "idata.to_json(\"kdv_rh_idata.json\")"
   ]
  },
  {
   "cell_type": "code",
   "execution_count": 40,
   "id": "98ab21fb",
   "metadata": {},
   "outputs": [],
   "source": [
    "# trace = trace.from_netcdf(\"burgers_rh.trace\")\n",
    "post = idata.posterior"
   ]
  },
  {
   "cell_type": "code",
   "execution_count": 41,
   "id": "87d7bbdb",
   "metadata": {},
   "outputs": [
    {
     "data": {
      "image/png": "[encoded data removed]",
      "text/plain": [
       "<Figure size 350x262.5 with 1 Axes>"
      ]
     },
     "metadata": {},
     "output_type": "display_data"
    }
   ],
   "source": [
    "data = np.array(post.coeffs).reshape(-1, bic_sel_complexity)\n",
    "uncert = np.abs(data.std(axis=0)/data.mean(axis=0))\n",
    "uncert = uncert/min(uncert)\n",
    "index = np.argsort(uncert)\n",
    "data = data[:, index]\n",
    "\n",
    "with plt.style.context(['science', 'grid']):\n",
    "    plt.plot([i+1 for i in sorted(np.array(hie[-1])[index])], uncert, 'o-', c='black', markerfacecolor='none')\n",
    "    plt.xticks([i+1 for i in sorted(np.array(hie[-1])[index])])\n",
    "#     plt.title(\"Regularized horseshoe prior\")\n",
    "    plt.xlabel(\"$k^{\\\\textrm{th}}$ Candidate\")\n",
    "    plt.ylabel(\"Uncertainty factor\")\n",
    "    plt.savefig(\"../Figures/KdV/rh_uncert.pdf\")\n",
    "    plt.show()"
   ]
  },
  {
   "cell_type": "code",
   "execution_count": 42,
   "id": "1a22d963",
   "metadata": {},
   "outputs": [
    {
     "data": {
      "text/plain": [
       "(['u_111', 'u*u_1', 'u*u_111', 'u*u*u_111', 'u_1', 'u*u_11', 'u'],\n",
       " array([2, 3, 5, 6, 1, 4, 0]))"
      ]
     },
     "execution_count": 42,
     "metadata": {},
     "output_type": "execute_result"
    }
   ],
   "source": [
    "[encoded_feature_names[i] for i in np.array(hie[-1])[index]], index # Set columns accordingly"
   ]
  },
  {
   "cell_type": "code",
   "execution_count": 43,
   "id": "aed67bb5",
   "metadata": {},
   "outputs": [
    {
     "data": {
      "image/png": "[encoded data removed]",
      "text/plain": [
       "<Figure size 350x262.5 with 1 Axes>"
      ]
     },
     "metadata": {},
     "output_type": "display_data"
    }
   ],
   "source": [
    "with plt.style.context(['science', 'grid']):\n",
    "    sns.kdeplot(pd.DataFrame(data, columns=[\"$u_{xxx}$\", \"$uu_{x}$\", \"$uu_{xxx}$\", \"$u^{2}u_{xxx}$\", \"$u_{x}$\", \"$uu_{xx}$\", \"$u$\"]))\n",
    "    plt.ylabel(\"Marginal posterior density (SMC)\")\n",
    "    plt.xticks([-1., -0.5, 0, 0.1])\n",
    "    plt.xlabel(\"Top 7 candidates' coefficient values\")\n",
    "    plt.savefig(\"../Figures/KdV/rh_posterior.pdf\")\n",
    "    plt.show()"
   ]
  },
  {
   "cell_type": "code",
   "execution_count": null,
   "id": "07487a44",
   "metadata": {},
   "outputs": [],
   "source": []
  },
  {
   "cell_type": "code",
   "execution_count": null,
   "id": "65c90c8e",
   "metadata": {},
   "outputs": [],
   "source": []
  }
 ],
 "metadata": {
  "kernelspec": {
   "display_name": "Python [conda env:pymc_env]",
   "language": "python",
   "name": "conda-env-pymc_env-py"
  },
  "language_info": {
   "codemirror_mode": {
    "name": "ipython",
    "version": 3
   },
   "file_extension": ".py",
   "mimetype": "text/x-python",
   "name": "python",
   "nbconvert_exporter": "python",
   "pygments_lexer": "ipython3",
   "version": "3.11.4"
  }
 },
 "nbformat": 4,
 "nbformat_minor": 5
}
