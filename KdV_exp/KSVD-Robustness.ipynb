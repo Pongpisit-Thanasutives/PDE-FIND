{
 "cells": [
  {
   "cell_type": "code",
   "execution_count": 1,
   "id": "a778bb5d",
   "metadata": {},
   "outputs": [],
   "source": [
    "%matplotlib inline\n",
    "import matplotlib.pyplot as plt\n",
    "\n",
    "import os\n",
    "import numpy as np\n",
    "from scipy.io import loadmat, savemat\n",
    "from scipy.signal import savgol_filter, butter, filtfilt, wiener\n",
    "from statsmodels.nonparametric.smoothers_lowess import lowess as sm_lowess\n",
    "from tsmoothie.smoother import *\n",
    "\n",
    "import torch\n",
    "from torch import optim, nn, utils, Tensor\n",
    "from torchvision.datasets import MNIST\n",
    "from torchvision.transforms import ToTensor\n",
    "\n",
    "from skimage.util import img_as_float\n",
    "from sklearn.feature_extraction.image import extract_patches_2d, reconstruct_from_patches_2d\n",
    "from sklearn.decomposition import MiniBatchDictionaryLearning\n",
    "from ksvd import ApproximateKSVD\n",
    "from spmimage.decomposition import KSVD, generate_dct_dictionary, generate_dct_dict\n",
    "\n",
    "import sys; sys.path.insert(0, \"../\")\n",
    "from misc import yaml_load\n",
    "from savgol import *\n",
    "from savitzky_golay_werrors import savgol_filter_werror\n",
    "\n",
    "def l21shrink(epsilon, x):\n",
    "    output = x.copy()\n",
    "    norm = np.linalg.norm(x, ord=2, axis=0)\n",
    "    for i in range(x.shape[1]):\n",
    "        if norm[i] > epsilon:\n",
    "            for j in range(x.shape[0]):\n",
    "                output[j,i] = x[j,i] - epsilon * x[j,i] / norm[i]\n",
    "        else:\n",
    "            output[:,i] = 0.\n",
    "    return output\n",
    "\n",
    "main_seed = 0\n",
    "\n",
    "import pathlib\n",
    "def add_patchsize_signature(file_path, ps):\n",
    "    sig = str(ps[0])+'x'+str(ps[1])\n",
    "    pl = pathlib.Path(file_path)\n",
    "    ext = pl.name.split('.')[-1]\n",
    "    newname = pl.name.split('.')[0]+'_'+sig+'.'+ext\n",
    "    return os.path.join(str(pl.parent.absolute()), newname)\n",
    "\n",
    "def vis(rec):\n",
    "    global x, t\n",
    "    plt.contourf(*np.meshgrid(x, t), rec, levels=10)\n",
    "    plt.colorbar()\n",
    "    plt.show()"
   ]
  },
  {
   "cell_type": "code",
   "execution_count": 2,
   "id": "7f86444e",
   "metadata": {},
   "outputs": [
    {
     "name": "stdout",
     "output_type": "stream",
     "text": [
      "Domain shape: (512, 501)\n"
     ]
    }
   ],
   "source": [
    "data = loadmat('../Datasets/KdV_sine_rep_big.mat')\n",
    "u = (data['usol']).real\n",
    "x = data['x'][0]\n",
    "t = data['t'][0]\n",
    "print(\"Domain shape:\", u.shape)\n",
    "dt = t[1]-t[0]\n",
    "dx = x[1]-x[0]\n",
    "X, T = np.meshgrid(x, t)\n",
    "XT = np.asarray([X, T]).T"
   ]
  },
  {
   "cell_type": "code",
   "execution_count": 3,
   "id": "3e629403",
   "metadata": {},
   "outputs": [
    {
     "data": {
      "text/plain": [
       "1.6146344215597004"
      ]
     },
     "execution_count": 3,
     "metadata": {},
     "output_type": "execute_result"
    }
   ],
   "source": [
    "np.random.seed(0)\n",
    "noise_lv = 180\n",
    "un = u + 0.01*abs(noise_lv)*u.std()*np.random.randn(*u.shape)\n",
    "((un-u)**2).mean()"
   ]
  },
  {
   "cell_type": "code",
   "execution_count": 4,
   "id": "f385a082",
   "metadata": {},
   "outputs": [
    {
     "name": "stdout",
     "output_type": "stream",
     "text": [
      "(25, 25)\n"
     ]
    }
   ],
   "source": [
    "div = 20; axis = 1 # div = 10, 15, 20*\n",
    "patch_size = (int(u.shape[0]//div), int(u.shape[1]//div))\n",
    "avg_patch_size = (patch_size[0]+patch_size[1])//2\n",
    "patch_size = (avg_patch_size, avg_patch_size)\n",
    "print(patch_size)\n",
    "\n",
    "un_img = img_as_float(un)\n",
    "patches = extract_patches_2d(un_img, patch_size)\n",
    "\n",
    "signals = patches.reshape(patches.shape[0], -1)\n",
    "mean = np.mean(signals, axis=axis)\n",
    "mean = mean[:, np.newaxis] if axis > 0 else mean\n",
    "std = np.std(signals, axis=axis)\n",
    "std = std[:, np.newaxis] if axis > 0 else mean\n",
    "# signals = (signals-mean)/std\n",
    "signals = signals-mean"
   ]
  },
  {
   "cell_type": "code",
   "execution_count": 5,
   "id": "fc6f4052",
   "metadata": {},
   "outputs": [],
   "source": [
    "np.random.seed(main_seed)\n",
    "# 64, 50, 40, 32, 16, 8 (64 was not so good | max should be 40?)\n",
    "n_components = 32; alpha = 1; batch_size = 3\n",
    "transform_n_nonzero_coefs = None # 1\n",
    "mode = 'dctksvd_reg' # ksvd, dictionary_learning, spm_ksvd, spm_dctksvd, ksvd_reg\n",
    "# n_components = fconfig[\"n_components\"]"
   ]
  },
  {
   "cell_type": "code",
   "execution_count": 6,
   "id": "ce96dc47",
   "metadata": {},
   "outputs": [
    {
     "name": "stdout",
     "output_type": "stream",
     "text": [
      "/Users/pongpisit/Desktop/research/ompbox10/KdV_sine_rep_noise180_sig_25x25.mat\n"
     ]
    }
   ],
   "source": [
    "file_name = f\"/Users/pongpisit/Desktop/research/ompbox10/KdV_sine_rep_noise{noise_lv}_sig.mat\"\n",
    "if patch_size[0] == patch_size[1]: file_name = add_patchsize_signature(file_name, patch_size)\n",
    "mdict = {'sig':signals, 'D0':generate_dct_dict(n_components, (patch_size[0], patch_size[1])).T}\n",
    "print(file_name)\n",
    "# savemat(file_name, mdict)"
   ]
  },
  {
   "cell_type": "markdown",
   "id": "de74aa0b",
   "metadata": {},
   "source": [
    "## Load results from MATLAB"
   ]
  },
  {
   "cell_type": "code",
   "execution_count": 7,
   "id": "b7321806",
   "metadata": {},
   "outputs": [],
   "source": [
    "ksvd_reg_data = loadmat(f\"dctksvdV2_reg_out_noise{noise_lv}_25x25.mat\")\n",
    "Df = ksvd_reg_data['Df'].T\n",
    "Xf = ksvd_reg_data['Xf'].T\n",
    "omp_sc = ksvd_reg_data['sc']"
   ]
  },
  {
   "cell_type": "code",
   "execution_count": 8,
   "id": "0a59fada",
   "metadata": {},
   "outputs": [
    {
     "data": {
      "text/plain": [
       "0.013446637221694726"
      ]
     },
     "execution_count": 8,
     "metadata": {},
     "output_type": "execute_result"
    }
   ],
   "source": [
    "reduced_un = omp_sc.T.dot(Df)+mean\n",
    "reduced_un = reconstruct_from_patches_2d(reduced_un.reshape(patches.shape), un_img.shape)\n",
    "reduced_un = np.array(reduced_un).astype(np.float32)\n",
    "# np.save(\"./denoised_files/KdV_rep_sine_noise30_reduced_dctV2ksvdreg_25x25.npy\", denoised)\n",
    "((reduced_un-u)**2).mean() # 0.0007903031547856957"
   ]
  },
  {
   "cell_type": "code",
   "execution_count": 9,
   "id": "83fe9f73",
   "metadata": {},
   "outputs": [],
   "source": [
    "# np.save(f\"./denoised_files/KdV_rep_sine_noise{noise_lv}_reduced_dctV2ksvdreg_25x25\", \n",
    "#         reduced_un)"
   ]
  },
  {
   "cell_type": "markdown",
   "id": "85da597e",
   "metadata": {},
   "source": [
    "## DySMHO"
   ]
  },
  {
   "cell_type": "code",
   "execution_count": 9,
   "id": "bfea003b",
   "metadata": {},
   "outputs": [
    {
     "name": "stdout",
     "output_type": "stream",
     "text": [
      "Max windown size: 52\n",
      "\n",
      "\n",
      "--------------------------- Smoothing data ---------------------------\n",
      "\n",
      "\n",
      "Prev STD: 0.06460 - New STD: 0.01085 - Percent change: -83.21045\n",
      "Prev STD: 0.01085 - New STD: 0.00762 - Percent change: -29.74144\n",
      "Prev STD: 0.00762 - New STD: 0.00674 - Percent change: -11.53197\n",
      "Prev STD: 0.00674 - New STD: 0.00635 - Percent change: -5.85147\n",
      "Smoothing window size: 33 \n",
      "\n"
     ]
    },
    {
     "data": {
      "text/plain": [
       "(0.003138643255286905, 33)"
      ]
     },
     "execution_count": 9,
     "metadata": {},
     "output_type": "execute_result"
    }
   ],
   "source": [
    "dysmho = DySMHO(un.T, div=10)\n",
    "denoised = dysmho.smooth(window_size=3).T # 1(0.00641), 3(0.00635), 5(0.00664)\n",
    "# np.save(\"./denoised_files/KdV_rep_sine_noise30_reduced_dysmho_25x25.npy\", denoised)\n",
    "((denoised-u)**2).mean(), dysmho.best_window_size"
   ]
  },
  {
   "cell_type": "code",
   "execution_count": null,
   "id": "43786ba6",
   "metadata": {},
   "outputs": [],
   "source": []
  },
  {
   "cell_type": "code",
   "execution_count": null,
   "id": "b5140a40",
   "metadata": {},
   "outputs": [],
   "source": []
  },
  {
   "cell_type": "code",
   "execution_count": 10,
   "id": "f60848e5",
   "metadata": {},
   "outputs": [
    {
     "data": {
      "image/png": "[encoded data removed]",
      "text/plain": [
       "<Figure size 432x288 with 2 Axes>"
      ]
     },
     "metadata": {
      "needs_background": "light"
     },
     "output_type": "display_data"
    }
   ],
   "source": [
    "vis(u.T)"
   ]
  },
  {
   "cell_type": "code",
   "execution_count": 11,
   "id": "edab9e41",
   "metadata": {},
   "outputs": [
    {
     "data": {
      "image/png": "[encoded data removed]",
      "text/plain": [
       "<Figure size 432x288 with 2 Axes>"
      ]
     },
     "metadata": {
      "needs_background": "light"
     },
     "output_type": "display_data"
    }
   ],
   "source": [
    "vis(un.T)"
   ]
  },
  {
   "cell_type": "code",
   "execution_count": 12,
   "id": "bd863b25",
   "metadata": {},
   "outputs": [
    {
     "data": {
      "image/png": "[encoded data removed]",
      "text/plain": [
       "<Figure size 432x288 with 2 Axes>"
      ]
     },
     "metadata": {
      "needs_background": "light"
     },
     "output_type": "display_data"
    }
   ],
   "source": [
    "vis(reduced_un.T)"
   ]
  }
 ],
 "metadata": {
  "kernelspec": {
   "display_name": "Python [conda env:pysr]",
   "language": "python",
   "name": "conda-env-pysr-py"
  },
  "language_info": {
   "codemirror_mode": {
    "name": "ipython",
    "version": 3
   },
   "file_extension": ".py",
   "mimetype": "text/x-python",
   "name": "python",
   "nbconvert_exporter": "python",
   "pygments_lexer": "ipython3",
   "version": "3.10.10"
  }
 },
 "nbformat": 4,
 "nbformat_minor": 5
}
