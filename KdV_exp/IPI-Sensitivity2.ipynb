{
 "cells": [
  {
   "cell_type": "code",
   "execution_count": 1,
   "metadata": {},
   "outputs": [
    {
     "name": "stdout",
     "output_type": "stream",
     "text": [
      "%pylab is deprecated, use %matplotlib inline and import the required libraries.\n",
      "Populating the interactive namespace from numpy and matplotlib\n",
      "Sklearn's version: 1.2.2\n",
      "mrmr is not installed in the env you are using. This may cause an error in future if you try to use the (missing) lib.\n"
     ]
    }
   ],
   "source": [
    "########### Old stuff ###########\n",
    "%pylab inline\n",
    "pylab.rcParams['figure.figsize'] = (12, 8)\n",
    "import numpy as np\n",
    "from mpl_toolkits.mplot3d import Axes3D\n",
    "import sys; sys.path.append('../')\n",
    "from PDE_FIND import *\n",
    "import scipy.io as sio\n",
    "from solvel0 import solvel0\n",
    "\n",
    "%load_ext autoreload\n",
    "%autoreload 2\n",
    "%matplotlib inline\n",
    "import matplotlib.pyplot as plt\n",
    "import warnings; warnings.filterwarnings(\"ignore\")\n",
    "\n",
    "import numpy as np\n",
    "from numpy.random import default_rng\n",
    "import pandas as pd\n",
    "\n",
    "import sys; sys.path.append('../')\n",
    "from PDE_FIND import *\n",
    "\n",
    "import os\n",
    "import sys; sys.path.append('../../parametric-discovery/')\n",
    "from best_subset import *\n",
    "from function_collections import BIC_AIC\n",
    "from frols import frols\n",
    "from p_linear_regression import PLinearRegression\n",
    "from r_pca import R_pca\n",
    "from pde_diff_new import RPCA\n",
    "from RobustPCA.rpca import RobustPCA\n",
    "\n",
    "########### add ons ###########\n",
    "import scipy.io as sio\n",
    "from scipy.signal import savgol_filter, butter, filtfilt, wiener\n",
    "from scipy import integrate\n",
    "from scipy.integrate import simpson, trapz, romb\n",
    "import itertools\n",
    "\n",
    "from sklearn.preprocessing import normalize\n",
    "from sklearn.linear_model import Ridge, BayesianRidge, LinearRegression as SkLinearRegression\n",
    "from sklearn.base import BaseEstimator\n",
    "from sklearn.pipeline import make_pipeline\n",
    "from sklearn.metrics import mean_squared_error\n",
    "from abess.linear import LinearRegression\n",
    "import pysindy as ps\n",
    "\n",
    "from os.path import join as join_path\n",
    "FIGURE_EXPORT_PATH = \"/Users/pongpisit/Documents/figure_export/\"\n",
    "\n",
    "def evaluate_coefficients(prediected_coeffs):\n",
    "    assert len(prediected_coeffs.flatten()) == 2\n",
    "    errs = 100*np.abs(prediected_coeffs.flatten()+1)\n",
    "    return errs.mean(), errs.std()\n",
    "\n",
    "def percent_coeff(pred, ground):\n",
    "    return 100*np.abs(pred-ground)/np.abs(ground)\n",
    "\n",
    "import torch, sympytorch\n",
    "import torch.nn as nn\n",
    "import torch.nn.functional as F\n",
    "from sympy import symbols, simplify, lambdify\n",
    "from mathparser import math_eval\n",
    "from varname import nameof\n",
    "from misc import h5file\n",
    "\n",
    "import derivative\n",
    "from tvregdiff import TVRegDiff, tvregdiff, numdiff, pysindydiff, savgol_denoise\n",
    "from functools import partial\n",
    "from findiff import FinDiff\n",
    "\n",
    "from tqdm import tqdm, trange\n",
    "from tsmoothie.smoother import *"
   ]
  },
  {
   "cell_type": "code",
   "execution_count": 2,
   "metadata": {},
   "outputs": [
    {
     "name": "stdout",
     "output_type": "stream",
     "text": [
      "Domain shape: (512, 501)\n",
      "Clean data be like...\n"
     ]
    },
    {
     "data": {
      "image/png": "[encoded data removed]",
      "text/plain": [
       "<Figure size 432x288 with 1 Axes>"
      ]
     },
     "metadata": {
      "needs_background": "light"
     },
     "output_type": "display_data"
    }
   ],
   "source": [
    "# Two versions (1) KdV_rudy_{solver_name} & (2) KdV_sine_rep_{solver_name}\n",
    "data = sio.loadmat('../Datasets/KdV_sine_rep_big.mat')\n",
    "u = real(data['usol'])\n",
    "x = data['x'][0]\n",
    "t = data['t'][0]\n",
    "print(\"Domain shape:\", u.shape)\n",
    "dt = t[1]-t[0]\n",
    "dx = x[1]-x[0]\n",
    "X, T = np.meshgrid(x, t)\n",
    "XT = np.asarray([X, T]).T\n",
    "\n",
    "# Plot\n",
    "print(\"Clean data be like...\")\n",
    "plt.contourf(u)\n",
    "plt.show()"
   ]
  },
  {
   "cell_type": "code",
   "execution_count": 3,
   "metadata": {},
   "outputs": [
    {
     "name": "stdout",
     "output_type": "stream",
     "text": [
      "l0_penalty: 1\n",
      "PDE derived using STRidge\n",
      "u_t = (-1.000814 +0.000000i)uu_{x}\n",
      "    + (-1.002643 +0.000000i)u_{xxx}\n",
      "   \n"
     ]
    }
   ],
   "source": [
    "Ut, R, rhs_des = build_linear_system(u, dt, dx, D=3, P=2, time_diff = 'FD', space_diff = 'FD')\n",
    "\n",
    "# Solve with STRidge using 2-norm normalization\n",
    "w = TrainSTRidge(R,Ut,1e-6,1,l0_penalty=1)\n",
    "print(\"PDE derived using STRidge\")\n",
    "print_pde(w, rhs_des)"
   ]
  },
  {
   "cell_type": "code",
   "execution_count": 4,
   "metadata": {},
   "outputs": [],
   "source": [
    "np.random.seed(0)\n",
    "noise_lv = 30\n",
    "un = u + 0.01*abs(noise_lv)*u.std()*np.random.randn(*u.shape)"
   ]
  },
  {
   "cell_type": "code",
   "execution_count": 5,
   "metadata": {},
   "outputs": [
    {
     "name": "stdout",
     "output_type": "stream",
     "text": [
      "Loading denoised data...\n"
     ]
    }
   ],
   "source": [
    "is_u_denoised = True\n",
    "if is_u_denoised:\n",
    "    print(\"Loading denoised data...\")\n",
    "    # un = np.load(\"./denoised_files/KdV_rep_sine_noise30_reduced_dysmho_25x25.npy\")\n",
    "    un = np.load(\"./denoised_files/KdV_rep_sine_noise30_reduced_dctV2ksvdreg_25x25.npy\")"
   ]
  },
  {
   "cell_type": "code",
   "execution_count": 6,
   "metadata": {},
   "outputs": [],
   "source": [
    "### originally from derivative ###\n",
    "## slow ##\n",
    "# diff_name, diff_func_kwargs = \"Kalman\", {'alpha':kalpha}\n",
    "## fast ##\n",
    "# diff_name, diff_func_kwargs = \"FiniteDifference\", {'k':1}\n",
    "# differentiation_method = Differentiator\n",
    "# differentiation_kwargs = {\"diff_name\": diff_name, \"diff_func_kwargs\": diff_func_kwargs}\n",
    "\n",
    "# originally from pysindy\n",
    "differentiation_method, differentiation_kwargs = ps.FiniteDifference, {}\n",
    "# differentiation_method, differentiation_kwargs = ps.SmoothedFiniteDifference, {}\n",
    "\n",
    "# originally from findiff (accurate and fast)\n",
    "# differentiation_method, differentiation_kwargs = FiniteDifferentiator, {'acc':4}\n",
    "\n",
    "diff_order = 4\n",
    "weak_pde_lib = ps.WeakPDELibrary(library_functions=[lambda x: x, lambda x: x * x], \n",
    "                                 function_names=[lambda x: x, lambda x: x + x], \n",
    "                                 derivative_order=diff_order, p=4, \n",
    "                                 spatiotemporal_grid=XT, \n",
    "                                 include_bias=False, is_uniform=True, K=10000, # new random K points in every calls to the ps.WeakPDELibrary\n",
    "                                 differentiation_method=differentiation_method, \n",
    "                                 differentiation_kwargs=differentiation_kwargs, \n",
    "                                 cache=True\n",
    "                                )\n",
    "kwargs = {'fit_intercept':False, 'copy_X':True, 'normalize_columns':False}"
   ]
  },
  {
   "cell_type": "code",
   "execution_count": 7,
   "metadata": {},
   "outputs": [],
   "source": [
    "# optimizer = BruteForceRegressor(3)\n",
    "# if feature_library=weak_pde_lib, then just differentiation_method=None is fine.\n",
    "optimizer_name = \"miosr\" # \"l0bnb\", \"miosr\"\n",
    "assert (optimizer_name == \"l0bnb\") or (optimizer_name == \"miosr\")\n",
    "if optimizer_name == \"l0bnb\":\n",
    "    optimizer = L0BNB(max_nonzeros=2+1, lam=1e-4, is_normal=True, normalize_columns=False, threshold=1e-4)\n",
    "elif optimizer_name == \"miosr\":\n",
    "    optimizer = ps.MIOSR(target_sparsity=2, alpha=1e-4, normalize_columns=False, regression_timeout=100)\n",
    "n_ensemble_models = 50\n",
    "model = ps.SINDy(feature_library=weak_pde_lib, optimizer=optimizer, \n",
    "                 differentiation_method=differentiation_method(**differentiation_kwargs), \n",
    "                 cache=True,\n",
    "                 feature_names=['u'])"
   ]
  },
  {
   "cell_type": "code",
   "execution_count": 8,
   "metadata": {},
   "outputs": [
    {
     "name": "stdout",
     "output_type": "stream",
     "text": [
      "Set parameter Username\n"
     ]
    },
    {
     "name": "stderr",
     "output_type": "stream",
     "text": [
      "2023-12-17 22:06:19,354 [INFO] Set parameter Username\n"
     ]
    },
    {
     "name": "stdout",
     "output_type": "stream",
     "text": [
      "Academic license - for non-commercial use only - expires 2024-06-04\n"
     ]
    },
    {
     "name": "stderr",
     "output_type": "stream",
     "text": [
      "2023-12-17 22:06:19,356 [INFO] Academic license - for non-commercial use only - expires 2024-06-04\n"
     ]
    },
    {
     "name": "stdout",
     "output_type": "stream",
     "text": [
      "['u', 'uu', 'u_1', 'u_11', 'u_111', 'u_1111', 'uu_1', 'uuu_1', 'uu_11', 'uuu_11', 'uu_111', 'uuu_111', 'uu_1111', 'uuu_1111']\n"
     ]
    }
   ],
   "source": [
    "model.fit(np.expand_dims(un, -1), t=dt, ensemble=True, library_ensemble=True, n_candidates_to_drop=1, n_models=n_ensemble_models)\n",
    "print(model.get_feature_names())\n",
    "X_pre, y_pre = np.squeeze(model.feature_library.cached_xp_full), model.cached_x_dot"
   ]
  },
  {
   "cell_type": "code",
   "execution_count": 9,
   "metadata": {},
   "outputs": [],
   "source": [
    "def hierarchy(fitted_model, dataset, target_index=0, field=0):\n",
    "    Xd, yd = dataset\n",
    "    yd = yd[:, target_index]\n",
    "    model_results = {}\n",
    "    for effective_indices in fitted_model:\n",
    "        com = len(effective_indices)\n",
    "        X_pre_sup = Xd[:, effective_indices]\n",
    "        solve = np.linalg.lstsq(X_pre_sup, yd, rcond=None)\n",
    "        coeff = solve[0]\n",
    "        if len(solve[1]) == 1:\n",
    "            mse = solve[1][0]\n",
    "            if (com not in model_results) or model_results[com][-1] > mse:\n",
    "                model_results[com] = effective_indices, coeff, mse\n",
    "    if field < 0: \n",
    "        return model_results\n",
    "    else: \n",
    "        dkeys = model_results.keys()\n",
    "        dvals = (lambda lst, _: [t[_] for t in lst if len(t)>_])(model_results.values(), field)\n",
    "        return dict(zip(dkeys, dvals))\n",
    "\n",
    "def hierarchy_sindy(fitted_model, dataset, target_index=0):\n",
    "    Xd, yd = dataset\n",
    "    target_index = 0\n",
    "    model_results = {}\n",
    "    model_coef_array = np.array(fitted_model.get_coef_list())[:, target_index, :].T\n",
    "    # mses = (((Xd@(model_coef_array))-yd)**2).mean(axis=0)\n",
    "    eff = np.apply_along_axis(lambda arr: np.where(arr != 0, 1, arr), \n",
    "                              axis=-1, arr=model_coef_array).T\n",
    "\n",
    "    for i in range(eff.shape[0]-1):\n",
    "        effective_indices = tuple(np.where(eff[i]>0)[0])\n",
    "        X_pre_sup = Xd[:, effective_indices]\n",
    "        com = len(effective_indices)\n",
    "\n",
    "        solve = np.linalg.lstsq(X_pre_sup, yd, rcond=None)\n",
    "        coeff = solve[0]\n",
    "        # mse = ((X_pre_sup@coeff-yd)**2).mean()\n",
    "        if len(solve[1]) == 1:\n",
    "            mse = solve[1][0]\n",
    "            if (com not in model_results) or model_results[com][-1] > mse:\n",
    "                model_results[com] = effective_indices, coeff, mse\n",
    "\n",
    "    return model_results"
   ]
  },
  {
   "cell_type": "code",
   "execution_count": 10,
   "metadata": {},
   "outputs": [
    {
     "data": {
      "text/plain": [
       "{2: ((4, 6),\n",
       "  array([[-0.90371676],\n",
       "         [-0.91031006]]),\n",
       "  51.956739271436966)}"
      ]
     },
     "execution_count": 10,
     "metadata": {},
     "output_type": "execute_result"
    }
   ],
   "source": [
    "model_results = hierarchy_sindy(model, (X_pre, y_pre))\n",
    "# assert model_results[2][0] == (4, 6)\n",
    "model_results"
   ]
  },
  {
   "cell_type": "code",
   "execution_count": 11,
   "metadata": {},
   "outputs": [
    {
     "name": "stderr",
     "output_type": "stream",
     "text": [
      "100%|███████████████████████████████████████████████████████████████████████████████████████████████████████████████████| 14/14 [00:00<00:00, 27.39it/s]\n"
     ]
    },
    {
     "name": "stdout",
     "output_type": "stream",
     "text": [
      "Call backward_refinement...\n"
     ]
    },
    {
     "data": {
      "text/plain": [
       "[(6,),\n",
       " (4, 6),\n",
       " (4, 6, 10),\n",
       " (4, 6, 7, 10),\n",
       " (2, 4, 6, 10, 11),\n",
       " (0, 2, 4, 6, 10, 11),\n",
       " (0, 2, 4, 6, 8, 10, 11),\n",
       " (0, 2, 4, 6, 7, 8, 10, 11),\n",
       " (0, 2, 3, 4, 6, 7, 8, 10, 11),\n",
       " (0, 2, 3, 4, 6, 7, 8, 9, 10, 11),\n",
       " (0, 1, 2, 3, 4, 6, 7, 8, 9, 10, 11),\n",
       " (0, 1, 2, 3, 4, 6, 7, 8, 9, 10, 11, 12),\n",
       " (0, 1, 2, 3, 4, 6, 7, 8, 9, 10, 11, 12, 13),\n",
       " (0, 1, 2, 3, 4, 5, 6, 7, 8, 9, 10, 11, 12, 13)]"
      ]
     },
     "execution_count": 11,
     "metadata": {},
     "output_type": "execute_result"
    }
   ],
   "source": [
    "solvel0(X_pre, y_pre, intercept=False, refine=True)"
   ]
  },
  {
   "cell_type": "code",
   "execution_count": 12,
   "metadata": {},
   "outputs": [
    {
     "name": "stderr",
     "output_type": "stream",
     "text": [
      "100%|███████████████████████████████████████████████████████████████████████████████████████████████████████████████████| 14/14 [00:14<00:00,  1.06s/it]\n"
     ]
    },
    {
     "data": {
      "text/plain": [
       "[(6,),\n",
       " (4, 6),\n",
       " (4, 6, 10),\n",
       " (4, 6, 7, 10),\n",
       " (2, 4, 6, 10, 11),\n",
       " (0, 2, 4, 6, 10, 11),\n",
       " (0, 2, 4, 6, 8, 10, 11),\n",
       " (0, 2, 4, 6, 7, 8, 10, 11),\n",
       " (0, 2, 3, 4, 6, 7, 8, 10, 11),\n",
       " (0, 2, 3, 4, 6, 7, 8, 9, 10, 11),\n",
       " (0, 1, 2, 3, 4, 6, 7, 8, 9, 10, 11),\n",
       " (0, 1, 2, 3, 4, 6, 7, 8, 9, 10, 11, 12),\n",
       " (0, 1, 2, 3, 4, 6, 7, 8, 9, 10, 11, 12, 13),\n",
       " (0, 1, 2, 3, 4, 5, 6, 7, 8, 9, 10, 11, 12, 13)]"
      ]
     },
     "execution_count": 12,
     "metadata": {},
     "output_type": "execute_result"
    }
   ],
   "source": [
    "bf_solve, best_subsets = brute_force_all_subsets(X_pre, y_pre) # compare solvel0's res to bf_solve\n",
    "best_subsets"
   ]
  },
  {
   "cell_type": "code",
   "execution_count": 13,
   "metadata": {},
   "outputs": [],
   "source": [
    "# optimizer_name = \"miosr\" # \"l0bnb\", \"miosr\"\n",
    "# print(optimizer_name)\n",
    "# assert (optimizer_name == \"l0bnb\") or (optimizer_name == \"miosr\")\n",
    "# n_ensemble_models = 50; miosr_alpha = 1e-4\n",
    "# all_eff_rhs = []\n",
    "# for mnz in range(1, 9):\n",
    "#     print(mnz)    \n",
    "#     if optimizer_name == \"l0bnb\":\n",
    "#         optimizer = L0BNB(max_nonzeros=mnz, lam=miosr_alpha, is_normal=True, normalize_columns=False, threshold=1e-4)\n",
    "#     elif optimizer_name == \"miosr\":\n",
    "#         optimizer = ps.MIOSR(target_sparsity=mnz, alpha=5e-2, normalize_columns=False, regression_timeout=100)\n",
    "#     model = ps.SINDy(feature_library=weak_pde_lib, optimizer=optimizer, \n",
    "#                      differentiation_method=differentiation_method(**differentiation_kwargs), \n",
    "#                      cache=True,\n",
    "#                      feature_names=['u'])\n",
    "#     model.fit(np.expand_dims(un, -1), t=dt, ensemble=True, \n",
    "#               library_ensemble=True, n_candidates_to_drop=1, n_models=n_ensemble_models)\n",
    "    \n",
    "#     # ols_model, eff_rhs_indices = model.validate_coef_list()[0]\n",
    "#     # all_eff_rhs.append(eff_rhs_indices)\n",
    "#     all_eff_rhs.extend([v[0] for v in hierarchy_sindy(model, (X_pre, y_pre)).values()])"
   ]
  },
  {
   "cell_type": "code",
   "execution_count": 14,
   "metadata": {},
   "outputs": [
    {
     "data": {
      "text/plain": [
       "{1: ((6,), -2592.600598870076),\n",
       " 2: ((4, 6), -24202.09802250475),\n",
       " 3: ((4, 6, 10), -24516.283556873415),\n",
       " 4: ((4, 6, 7, 10), -24738.582027346103),\n",
       " 5: ((2, 4, 6, 10, 11), -24999.10330775339),\n",
       " 6: ((0, 2, 4, 6, 10, 11), -24999.657216473453),\n",
       " 7: ((0, 2, 4, 6, 8, 10, 11), -25011.926687778185),\n",
       " 8: ((0, 2, 4, 6, 7, 8, 10, 11), -25008.6178814571),\n",
       " 9: ((0, 2, 3, 4, 6, 7, 8, 10, 11), -25001.94884392114),\n",
       " 10: ((0, 2, 3, 4, 6, 7, 8, 9, 10, 11), -24995.82260426318),\n",
       " 11: ((0, 1, 2, 3, 4, 6, 7, 8, 9, 10, 11), -24986.941380697284),\n",
       " 12: ((0, 1, 2, 3, 4, 6, 7, 8, 9, 10, 11, 12), -24977.791968231177),\n",
       " 13: ((0, 1, 2, 3, 4, 6, 7, 8, 9, 10, 11, 12, 13), -24968.618676171485),\n",
       " 14: ((0, 1, 2, 3, 4, 5, 6, 7, 8, 9, 10, 11, 12, 13), -24959.417524022207)}"
      ]
     },
     "execution_count": 14,
     "metadata": {},
     "output_type": "execute_result"
    }
   ],
   "source": [
    "mode = 'rfe'; ic_type = 'bic'\n",
    "st = backward_refinement(best_subsets, (X_pre, y_pre), \n",
    "                         mode=mode, ic_type=ic_type, verbose=False)\n",
    "st.track"
   ]
  },
  {
   "cell_type": "code",
   "execution_count": 15,
   "metadata": {},
   "outputs": [
    {
     "name": "stdout",
     "output_type": "stream",
     "text": [
      "(6,) -2592.600598870076\n",
      "(4, 6) -24202.09802250475\n",
      "(4, 6, 10) -24516.283556873415\n",
      "(4, 6, 7, 10) -24738.582027346103\n",
      "(2, 4, 6, 10, 11) -24999.10330775339\n",
      "(0, 2, 4, 6, 10, 11) -24999.657216473453\n",
      "(0, 2, 4, 6, 8, 10, 11) -25011.926687778185\n",
      "(0, 2, 4, 6, 7, 8, 10, 11) -25008.6178814571\n",
      "(0, 2, 3, 4, 6, 7, 8, 10, 11) -25001.94884392114\n",
      "(0, 2, 3, 4, 6, 7, 8, 9, 10, 11) -24995.82260426318\n",
      "(0, 1, 2, 3, 4, 6, 7, 8, 9, 10, 11) -24986.941380697284\n",
      "(0, 1, 2, 3, 4, 6, 7, 8, 9, 10, 11, 12) -24977.791968231177\n",
      "(0, 1, 2, 3, 4, 6, 7, 8, 9, 10, 11, 12, 13) -24968.618676171485\n",
      "(0, 1, 2, 3, 4, 5, 6, 7, 8, 9, 10, 11, 12, 13) -24959.417524022207\n"
     ]
    },
    {
     "data": {
      "text/plain": [
       "-22419.32608890811"
      ]
     },
     "execution_count": 15,
     "metadata": {},
     "output_type": "execute_result"
    }
   ],
   "source": [
    "# w/o denoise: -16613.85200875413\n",
    "# w/ denoise: -22419.32608890811\n",
    "decreasing_aics = []\n",
    "complexities = []\n",
    "eff_feature_names = []\n",
    "now_aic = 1e6\n",
    "for com in sorted(st.track.keys()):\n",
    "    indices, aic = st.track[com]\n",
    "    aic = getattr(sm.OLS(y_pre, X_pre[:, indices]).fit(), ic_type)\n",
    "    print(indices, aic)\n",
    "    if aic < now_aic:\n",
    "        complexities.append(len(indices))\n",
    "        decreasing_aics.append(aic)\n",
    "        eff_feature_names.append([convert2latex(f) for i,f in enumerate(model.get_feature_names()) if i in indices])\n",
    "        now_aic = aic\n",
    "    # print(decreasing_aics, complexities)\n",
    "decreasing_aics = np.array(decreasing_aics)\n",
    "complexities = np.array(complexities)\n",
    "relative_decreasing_aics = decreasing_aics-np.min(decreasing_aics)\n",
    "min(decreasing_aics)-max(decreasing_aics)"
   ]
  },
  {
   "cell_type": "code",
   "execution_count": 16,
   "metadata": {},
   "outputs": [
    {
     "data": {
      "image/png": "[encoded data removed]",
      "text/plain": [
       "<Figure size 720x288 with 1 Axes>"
      ]
     },
     "metadata": {
      "needs_background": "light"
     },
     "output_type": "display_data"
    }
   ],
   "source": [
    "fig, ax = plt.subplots(figsize=(10,4))\n",
    "ax.plot(complexities, relative_decreasing_aics, color='blue', linewidth=2.5, label=\"BIC-decreasing models\")\n",
    "ax.scatter(complexities, relative_decreasing_aics, marker='*', c='red', s=300)\n",
    "for com, name, rel_aic in zip(complexities, eff_feature_names, relative_decreasing_aics):\n",
    "    rotation = (90+45)/2\n",
    "    if com == 1: rotation = 0\n",
    "    ax.annotate(f\"    $({','.join(name)})$\", (com, rel_aic), rotation=rotation)\n",
    "plt.xlim(0.8,8.1)\n",
    "plt.title(r\"Model selection based on $\\frac{\\Delta BIC}{\\Delta s}$\")\n",
    "plt.ylabel(\"Relative BIC\")\n",
    "plt.xlabel(\"Support sizes\")\n",
    "plt.legend()\n",
    "plt.tight_layout()\n",
    "plt.show()"
   ]
  },
  {
   "cell_type": "code",
   "execution_count": 17,
   "metadata": {},
   "outputs": [
    {
     "data": {
      "text/plain": [
       "{2, 3}"
      ]
     },
     "execution_count": 17,
     "metadata": {},
     "output_type": "execute_result"
    }
   ],
   "source": [
    "good_coms = set()\n",
    "min_pok = 1e-3 # 1e-2, 1e-3\n",
    "max_pok = 1.\n",
    "delta_pok = min_pok\n",
    "for p in np.arange(min_pok, max_pok+delta_pok, delta_pok):\n",
    "    c = find_transition_V5(decreasing_aics, complexities, percent_ok=p, verbose=False)\n",
    "    if c == 1: break\n",
    "    good_coms.add(c)\n",
    "good_coms"
   ]
  },
  {
   "cell_type": "code",
   "execution_count": 18,
   "metadata": {},
   "outputs": [
    {
     "name": "stdout",
     "output_type": "stream",
     "text": [
      "-21609.497423634675\n"
     ]
    },
    {
     "data": {
      "text/plain": [
       "(array([ -2592.60059887, -24202.0980225 , -24516.28355687, -24738.58202735,\n",
       "        -24999.10330775, -24999.65721647, -25011.92668778]),\n",
       " array([1, 2, 3, 4, 5, 6, 7]),\n",
       " [['uu_{x}'],\n",
       "  ['u_{xxx}', 'uu_{x}'],\n",
       "  ['u_{xxx}', 'uu_{x}', 'uu_{xxx}'],\n",
       "  ['u_{xxx}', 'uu_{x}', 'u^2u_{x}', 'uu_{xxx}'],\n",
       "  ['u_{x}', 'u_{xxx}', 'uu_{x}', 'uu_{xxx}', 'u^2u_{xxx}'],\n",
       "  ['u', 'u_{x}', 'u_{xxx}', 'uu_{x}', 'uu_{xxx}', 'u^2u_{xxx}'],\n",
       "  ['u', 'u_{x}', 'u_{xxx}', 'uu_{x}', 'uu_{xx}', 'uu_{xxx}', 'u^2u_{xxx}']])"
      ]
     },
     "execution_count": 18,
     "metadata": {},
     "output_type": "execute_result"
    }
   ],
   "source": [
    "print(decreasing_aics[1]-decreasing_aics[0])\n",
    "decreasing_aics, complexities, eff_feature_names"
   ]
  },
  {
   "cell_type": "markdown",
   "metadata": {},
   "source": [
    "#### Model selection"
   ]
  },
  {
   "cell_type": "code",
   "execution_count": 19,
   "metadata": {},
   "outputs": [
    {
     "name": "stdout",
     "output_type": "stream",
     "text": [
      "[ 1.          2.03019684  3.40361152  5.849084    6.33295821  6.46745809\n",
      "  6.84046346  9.48491114 10.26650985 11.94545695 12.33645285 12.5176906\n",
      " 14.53742696 15.75503672]\n",
      "7,5,2,"
     ]
    },
    {
     "data": {
      "image/png": "[encoded data removed]",
      "text/plain": [
       "<Figure size 432x288 with 1 Axes>"
      ]
     },
     "metadata": {
      "needs_background": "light"
     },
     "output_type": "display_data"
    }
   ],
   "source": [
    "baye_alpha = 1e-6\n",
    "mul_val = 1\n",
    "brr_uncertainties = []\n",
    "brr_bics = []\n",
    "for com in sorted(st.track.keys()):\n",
    "    brr = BayesianRidge(compute_score=True, alpha_1=baye_alpha, alpha_2=baye_alpha)\n",
    "    brr.fit(X_pre[:, st.track[com][0]], y_pre)\n",
    "    uncert = mul_val*np.trace(np.sqrt(brr.sigma_))\n",
    "    brr_uncertainties.append(uncert)\n",
    "    brr_bics.append((brr.predict(X_pre[:, st.track[com][0]]).reshape(-1, 1), \n",
    "                     np.count_nonzero(brr.coef_), \n",
    "                     uncert))\n",
    "\n",
    "brr_uncertainties = np.array(brr_uncertainties)\n",
    "mul_val = 1/brr_uncertainties.min()\n",
    "print(brr_uncertainties*mul_val)\n",
    "\n",
    "for kkk in [1, 10, 100]:\n",
    "    brr_bicaics = [BIC_AIC(brr_pred, y_pre, brr_com+kkk*mul_val*brr_uncert)[0] \n",
    "                   for brr_pred, brr_com, brr_uncert in brr_bics]\n",
    "    print(np.argmin(brr_bicaics)+1, end=',')\n",
    "    plt.plot(brr_bicaics, label=\"$\\lambda$ = \"+f'{kkk}')\n",
    "plt.title(r\"Model selection based on $\\frac{\\Delta UBIC}{\\Delta s}$\")\n",
    "plt.xlabel(\"Support sizes\")\n",
    "plt.ylabel(\"UBIC\")\n",
    "plt.legend()\n",
    "plt.show()"
   ]
  },
  {
   "cell_type": "code",
   "execution_count": 20,
   "metadata": {},
   "outputs": [
    {
     "name": "stdout",
     "output_type": "stream",
     "text": [
      "[ 1.          2.02914346  3.40219848  5.84634033  6.32662949  6.46067659\n",
      "  6.78353485  9.42657394 10.08577202 11.3086703  11.93805983 12.35945732\n",
      " 14.38026406 15.60212946]\n",
      "7\n",
      "5\n",
      "2\n"
     ]
    },
    {
     "data": {
      "image/png": "[encoded data removed]",
      "text/plain": [
       "<Figure size 432x288 with 1 Axes>"
      ]
     },
     "metadata": {
      "needs_background": "light"
     },
     "output_type": "display_data"
    }
   ],
   "source": [
    "OLS_results = []\n",
    "for com in sorted(st.track.keys()):\n",
    "    indices, _ = st.track[com]\n",
    "    OLS_results.append(sm.OLS(y_pre, X_pre[:, indices]).fit())\n",
    "    \n",
    "uncertainties = np.array([sum(res.bse) for res in OLS_results])\n",
    "uncertainties = uncertainties/uncertainties.min()\n",
    "print(uncertainties)\n",
    "\n",
    "BICs = np.array([getattr(res, ic_type) for res in OLS_results])\n",
    "UBICs_list = []\n",
    "for lam in [1,10,100]:\n",
    "    UBICs = (BICs + lam*np.log(len(y_pre))*uncertainties).tolist()\n",
    "    UBICs_list.append(UBICs)\n",
    "    print(np.argmin(UBICs)+1)\n",
    "    plt.plot([i+1 for i in range(len(UBICs))], UBICs)\n",
    "plt.show()"
   ]
  },
  {
   "cell_type": "code",
   "execution_count": 21,
   "metadata": {},
   "outputs": [
    {
     "name": "stdout",
     "output_type": "stream",
     "text": [
      "[ 1.          2.03134903  3.36685928  6.12167255  6.5786787   6.70615088\n",
      "  7.02155719  9.59123401 10.34545014 11.50914326 12.18946166 12.64342009\n",
      " 14.59656945 15.77368496]\n",
      "7\n",
      "5\n",
      "2\n"
     ]
    },
    {
     "data": {
      "image/png": "[encoded data removed]",
      "text/plain": [
       "<Figure size 432x288 with 1 Axes>"
      ]
     },
     "metadata": {
      "needs_background": "light"
     },
     "output_type": "display_data"
    }
   ],
   "source": [
    "OLS_results = []\n",
    "for com in sorted(st.track.keys()):\n",
    "    indices, _ = st.track[com]\n",
    "    OLS_results.append(sm.OLS(y_pre, X_pre[:, indices]).fit(cov_type=\"HC0\"))\n",
    "    \n",
    "uncertainties = np.array([sum(res.bse) for res in OLS_results])\n",
    "uncertainties = uncertainties/uncertainties.min()\n",
    "print(uncertainties)\n",
    "\n",
    "BICs = np.array([getattr(res, ic_type) for res in OLS_results])\n",
    "UBICs_list = []\n",
    "for lam in [1,10,100]:\n",
    "    UBICs = (BICs + lam*np.log(len(y_pre))*uncertainties).tolist()\n",
    "    UBICs_list.append(UBICs)\n",
    "    print(np.argmin(UBICs)+1)\n",
    "    plt.plot([i+1 for i in range(len(UBICs))], UBICs)\n",
    "plt.show()"
   ]
  },
  {
   "cell_type": "code",
   "execution_count": 22,
   "metadata": {},
   "outputs": [],
   "source": [
    "from UBIC import *"
   ]
  },
  {
   "cell_type": "code",
   "execution_count": 23,
   "metadata": {},
   "outputs": [
    {
     "name": "stdout",
     "output_type": "stream",
     "text": [
      "n_lams = 3\n",
      "Using baye_uncertainties\n",
      "[5.60060263 1.         1.59622049 2.6046235  2.61498128 2.66638277\n",
      " 2.79120634 3.88160145 4.15068725 4.63599157 4.89011884 5.06351247\n",
      " 5.88817818 6.38934212]\n",
      "0 ---> 7\n",
      "1.3333333333333333 ---> 5\n",
      "2.6666666666666665 ---> 2\n",
      "4.0 ---> 2\n",
      "5.333333333333333 ---> 2\n",
      "[ 21350.31896586 -19927.03672007 -17692.34312255 -13603.65690412\n",
      " -13819.89801945 -13600.7074076  -13079.34846062  -8414.53372065\n",
      "  -7257.50639356  -5176.67443917  -4081.38355387  -3330.9657591\n",
      "    203.70400243   2355.41171703]\n",
      "The optimal complexity is currently at the support sizes of 2.\n"
     ]
    },
    {
     "data": {
      "text/plain": [
       "(array([ 21350.31896586, -19927.03672007, -17692.34312255, -13603.65690412,\n",
       "        -13819.89801945, -13600.7074076 , -13079.34846062,  -8414.53372065,\n",
       "         -7257.50639356,  -5176.67443917,  -4081.38355387,  -3330.9657591 ,\n",
       "           203.70400243,   2355.41171703]),\n",
       " 1,\n",
       " 2.6666666666666665)"
      ]
     },
     "execution_count": 23,
     "metadata": {},
     "output_type": "execute_result"
    }
   ],
   "source": [
    "best_subsets = sorted([indices for _, (indices, _) in st.track.items()], key=lambda _: len(_))\n",
    "\n",
    "n_lams = 3\n",
    "ics, bc, lam = UBICs(best_subsets, \n",
    "                     (X_pre, y_pre), \n",
    "                     u_type='cv', take_sqrt=True, use_baye=True, \n",
    "                     delta=(1+1/3), n_lams=n_lams)\n",
    "ics[-n_lams], bc, lam"
   ]
  },
  {
   "cell_type": "code",
   "execution_count": 24,
   "metadata": {},
   "outputs": [
    {
     "data": {
      "text/plain": [
       "3.118216664166924"
      ]
     },
     "execution_count": 24,
     "metadata": {},
     "output_type": "execute_result"
    }
   ],
   "source": [
    "_, _, b_uns = baye_uncertainties([v[0] for v in st.track.values()], (X_pre, y_pre), u_type='cv', take_sqrt=True)\n",
    "lower_bounds = []\n",
    "for efi in [v[0] for v in st.track.values()]:\n",
    "    com = len(efi)\n",
    "    w = np.linalg.lstsq(X_pre[:, efi], y_pre, rcond=None)[0]\n",
    "    pred = X_pre[:, efi]@w\n",
    "    lower_bound = log_like_value(pred, y_pre)/np.log(len(y_pre))-com\n",
    "    lower_bounds.append(lower_bound)\n",
    "max_lam = max(np.log10(lower_bounds/b_uns))\n",
    "delta = np.linspace(0, max_lam, 4)[1]\n",
    "max_lam"
   ]
  },
  {
   "cell_type": "code",
   "execution_count": 25,
   "metadata": {
    "scrolled": true
   },
   "outputs": [
    {
     "name": "stdout",
     "output_type": "stream",
     "text": [
      "n_lams = 3\n",
      "Using baye_uncertainties\n",
      "[5.60060263 1.         1.59622049 2.6046235  2.61498128 2.66638277\n",
      " 2.79120634 3.88160145 4.15068725 4.63599157 4.89011884 5.06351247\n",
      " 5.88817818 6.38934212]\n",
      "0 ---> 7\n",
      "1.039405554722308 ---> 5\n",
      "2.078811109444616 ---> 2\n",
      "3.118216664166924 ---> 2\n",
      "[  3592.14085727 -23097.79874132 -22753.57842042 -21862.29817088\n",
      " -22111.38135695 -22055.17263727 -21929.59952878 -20722.16818769\n",
      " -20418.34789492 -19876.30044446 -19586.78665831 -19386.15878885\n",
      " -18466.30774468 -17903.67161476]\n",
      "The optimal complexity is currently at the support sizes of 2.\n"
     ]
    }
   ],
   "source": [
    "n_lams = 3\n",
    "ics, bc, lam = UBICs([v[0] for v in st.track.values()], \n",
    "                     (X_pre, y_pre), \n",
    "                     u_type='cv', take_sqrt=True, use_baye=True, \n",
    "                     max_lam=max_lam,\n",
    "                     delta=delta, \n",
    "                     n_lams=n_lams)\n",
    "# ics[-n_lams], bc, lam"
   ]
  },
  {
   "cell_type": "code",
   "execution_count": 26,
   "metadata": {},
   "outputs": [
    {
     "data": {
      "text/plain": [
       "2.078811109444616"
      ]
     },
     "execution_count": 26,
     "metadata": {},
     "output_type": "execute_result"
    }
   ],
   "source": [
    "lam"
   ]
  },
  {
   "cell_type": "code",
   "execution_count": 27,
   "metadata": {},
   "outputs": [
    {
     "name": "stdout",
     "output_type": "stream",
     "text": [
      "2\n"
     ]
    },
    {
     "data": {
      "text/html": [
       "<div>\n",
       "<style scoped>\n",
       "    .dataframe tbody tr th:only-of-type {\n",
       "        vertical-align: middle;\n",
       "    }\n",
       "\n",
       "    .dataframe tbody tr th {\n",
       "        vertical-align: top;\n",
       "    }\n",
       "\n",
       "    .dataframe thead th {\n",
       "        text-align: right;\n",
       "    }\n",
       "</style>\n",
       "<table border=\"1\" class=\"dataframe\">\n",
       "  <thead>\n",
       "    <tr style=\"text-align: right;\">\n",
       "      <th></th>\n",
       "      <th>df_resid</th>\n",
       "      <th>ssr</th>\n",
       "      <th>df_diff</th>\n",
       "      <th>ss_diff</th>\n",
       "      <th>F</th>\n",
       "      <th>Pr(&gt;F)</th>\n",
       "    </tr>\n",
       "  </thead>\n",
       "  <tbody>\n",
       "    <tr>\n",
       "      <th>0</th>\n",
       "      <td>9999.0</td>\n",
       "      <td>451.367657</td>\n",
       "      <td>0.0</td>\n",
       "      <td>NaN</td>\n",
       "      <td>NaN</td>\n",
       "      <td>NaN</td>\n",
       "    </tr>\n",
       "    <tr>\n",
       "      <th>1</th>\n",
       "      <td>9998.0</td>\n",
       "      <td>51.956739</td>\n",
       "      <td>1.0</td>\n",
       "      <td>399.410918</td>\n",
       "      <td>83725.851736</td>\n",
       "      <td>0.000000e+00</td>\n",
       "    </tr>\n",
       "    <tr>\n",
       "      <th>2</th>\n",
       "      <td>9997.0</td>\n",
       "      <td>50.303359</td>\n",
       "      <td>1.0</td>\n",
       "      <td>1.653381</td>\n",
       "      <td>346.587167</td>\n",
       "      <td>4.497272e-76</td>\n",
       "    </tr>\n",
       "    <tr>\n",
       "      <th>3</th>\n",
       "      <td>9996.0</td>\n",
       "      <td>49.152169</td>\n",
       "      <td>1.0</td>\n",
       "      <td>1.151190</td>\n",
       "      <td>241.316322</td>\n",
       "      <td>8.617435e-54</td>\n",
       "    </tr>\n",
       "    <tr>\n",
       "      <th>4</th>\n",
       "      <td>9995.0</td>\n",
       "      <td>47.844100</td>\n",
       "      <td>1.0</td>\n",
       "      <td>1.308069</td>\n",
       "      <td>274.201739</td>\n",
       "      <td>8.854218e-61</td>\n",
       "    </tr>\n",
       "    <tr>\n",
       "      <th>5</th>\n",
       "      <td>9994.0</td>\n",
       "      <td>47.797406</td>\n",
       "      <td>1.0</td>\n",
       "      <td>0.046693</td>\n",
       "      <td>9.788020</td>\n",
       "      <td>1.761575e-03</td>\n",
       "    </tr>\n",
       "    <tr>\n",
       "      <th>6</th>\n",
       "      <td>9993.0</td>\n",
       "      <td>47.694849</td>\n",
       "      <td>1.0</td>\n",
       "      <td>0.102558</td>\n",
       "      <td>21.498497</td>\n",
       "      <td>3.585970e-06</td>\n",
       "    </tr>\n",
       "    <tr>\n",
       "      <th>7</th>\n",
       "      <td>9992.0</td>\n",
       "      <td>47.666710</td>\n",
       "      <td>1.0</td>\n",
       "      <td>0.028139</td>\n",
       "      <td>5.898586</td>\n",
       "      <td>1.517057e-02</td>\n",
       "    </tr>\n",
       "    <tr>\n",
       "      <th>8</th>\n",
       "      <td>9991.0</td>\n",
       "      <td>47.654598</td>\n",
       "      <td>1.0</td>\n",
       "      <td>0.012112</td>\n",
       "      <td>2.538961</td>\n",
       "      <td>1.110995e-01</td>\n",
       "    </tr>\n",
       "    <tr>\n",
       "      <th>9</th>\n",
       "      <td>9990.0</td>\n",
       "      <td>47.639903</td>\n",
       "      <td>1.0</td>\n",
       "      <td>0.014695</td>\n",
       "      <td>3.080392</td>\n",
       "      <td>7.927206e-02</td>\n",
       "    </tr>\n",
       "    <tr>\n",
       "      <th>10</th>\n",
       "      <td>9989.0</td>\n",
       "      <td>47.638335</td>\n",
       "      <td>1.0</td>\n",
       "      <td>0.001568</td>\n",
       "      <td>0.328665</td>\n",
       "      <td>5.664592e-01</td>\n",
       "    </tr>\n",
       "    <tr>\n",
       "      <th>11</th>\n",
       "      <td>9988.0</td>\n",
       "      <td>47.638045</td>\n",
       "      <td>1.0</td>\n",
       "      <td>0.000290</td>\n",
       "      <td>0.060843</td>\n",
       "      <td>8.051734e-01</td>\n",
       "    </tr>\n",
       "    <tr>\n",
       "      <th>12</th>\n",
       "      <td>9987.0</td>\n",
       "      <td>47.637868</td>\n",
       "      <td>1.0</td>\n",
       "      <td>0.000176</td>\n",
       "      <td>0.036997</td>\n",
       "      <td>8.474760e-01</td>\n",
       "    </tr>\n",
       "    <tr>\n",
       "      <th>13</th>\n",
       "      <td>9986.0</td>\n",
       "      <td>47.637824</td>\n",
       "      <td>1.0</td>\n",
       "      <td>0.000044</td>\n",
       "      <td>0.009175</td>\n",
       "      <td>9.236908e-01</td>\n",
       "    </tr>\n",
       "  </tbody>\n",
       "</table>\n",
       "</div>"
      ],
      "text/plain": [
       "    df_resid         ssr  df_diff     ss_diff             F        Pr(>F)\n",
       "0     9999.0  451.367657      0.0         NaN           NaN           NaN\n",
       "1     9998.0   51.956739      1.0  399.410918  83725.851736  0.000000e+00\n",
       "2     9997.0   50.303359      1.0    1.653381    346.587167  4.497272e-76\n",
       "3     9996.0   49.152169      1.0    1.151190    241.316322  8.617435e-54\n",
       "4     9995.0   47.844100      1.0    1.308069    274.201739  8.854218e-61\n",
       "5     9994.0   47.797406      1.0    0.046693      9.788020  1.761575e-03\n",
       "6     9993.0   47.694849      1.0    0.102558     21.498497  3.585970e-06\n",
       "7     9992.0   47.666710      1.0    0.028139      5.898586  1.517057e-02\n",
       "8     9991.0   47.654598      1.0    0.012112      2.538961  1.110995e-01\n",
       "9     9990.0   47.639903      1.0    0.014695      3.080392  7.927206e-02\n",
       "10    9989.0   47.638335      1.0    0.001568      0.328665  5.664592e-01\n",
       "11    9988.0   47.638045      1.0    0.000290      0.060843  8.051734e-01\n",
       "12    9987.0   47.637868      1.0    0.000176      0.036997  8.474760e-01\n",
       "13    9986.0   47.637824      1.0    0.000044      0.009175  9.236908e-01"
      ]
     },
     "execution_count": 27,
     "metadata": {},
     "output_type": "execute_result"
    }
   ],
   "source": [
    "best_subsets = sorted([v[0] for v in st.track.values()], key=len)\n",
    "ols_models = [sm.OLS(y_pre, X_pre[:, efi]).fit() for efi in best_subsets]\n",
    "f_res = sm.stats.anova_lm(*ols_models, test=\"F\", robust=\"hc3\") # \"F\", \"Chisq\"\", \"Cp\"\n",
    "print(np.argmax(f_res.F)+1)\n",
    "f_res"
   ]
  },
  {
   "cell_type": "code",
   "execution_count": 28,
   "metadata": {},
   "outputs": [
    {
     "data": {
      "text/plain": [
       "(array([1, 0, 0, 0, 0, 0, 0], dtype=int32),\n",
       " array([[-2.47446085e+04,  4.50000000e+00],\n",
       "        [-2.59260060e+03,  1.00000000e+00]]))"
      ]
     },
     "execution_count": 28,
     "metadata": {},
     "output_type": "execute_result"
    }
   ],
   "source": [
    "from sklearn.cluster import KMeans\n",
    "from sklearn.metrics import silhouette_score\n",
    "from k_means_constrained import KMeansConstrained\n",
    "\n",
    "clf = KMeansConstrained(\n",
    "    n_clusters=2, size_min=1, size_max=len(complexities)-1, \n",
    "    random_state=0, \n",
    ")\n",
    "clf.fit(np.vstack((decreasing_aics, complexities)).T)\n",
    "# silhouette_avg = silhouette_score(X, clf.labels_)\n",
    "clf.labels_,  clf.cluster_centers_"
   ]
  },
  {
   "cell_type": "markdown",
   "metadata": {},
   "source": [
    "#### UBIC"
   ]
  },
  {
   "cell_type": "code",
   "execution_count": 29,
   "metadata": {},
   "outputs": [
    {
     "name": "stdout",
     "output_type": "stream",
     "text": [
      "0.02\n",
      "1 <---> 1 inf\n",
      "1 <---> 6 0.006692218703687602\n"
     ]
    },
    {
     "data": {
      "text/plain": [
       "(2.922568677047628,\n",
       " array([  2093.41183791, -23365.4001262 , -23180.72923332, -22559.299026  ,\n",
       "        -22811.15396963, -22768.70035985, -22676.53021183, -21760.89011191,\n",
       "        -21529.07755179, -21116.89820923, -20895.3892327 , -20741.1617378 ,\n",
       "        -20041.99238001, -19613.46841427]),\n",
       " 1,\n",
       " 1)"
      ]
     },
     "execution_count": 29,
     "metadata": {},
     "output_type": "execute_result"
    }
   ],
   "source": [
    "tau = 3 # we fix its value as a constant\n",
    "scale = np.log(len(y_pre))\n",
    "scale = 1\n",
    "\n",
    "post_means, b_bics, b_uns = baye_uncertainties(best_subsets, (X_pre, y_pre), u_type='cv1', take_sqrt=True)\n",
    "predictions = X_pre@post_means\n",
    "\n",
    "b_bics = np.array(b_bics)\n",
    "max_complexity = len(b_bics)\n",
    "complexities = np.arange(max_complexity)+1\n",
    "d_complexities = complexities[decreasing_values_indices(b_bics)]\n",
    "d_bics = b_bics[decreasing_values_indices(b_bics)]\n",
    "slopes = np.diff(b_bics)/(np.diff(complexities)*b_bics[:-1])\n",
    "thres = np.percentile(slopes, 85)\n",
    "thres = 0.02\n",
    "print(thres)\n",
    "\n",
    "lower_bounds = []\n",
    "for k, efi in enumerate(best_subsets):\n",
    "    assert len(efi) == np.count_nonzero(post_means[:, k:k+1])\n",
    "    com = len(efi)\n",
    "#     lower_bound = 2*log_like_value(predictions[:, k:k+1], y_pre)/np.log(len(y_pre))-com\n",
    "    lower_bound = 2*log_like_value(predictions[:, k:k+1], y_pre)-np.log(len(y_pre))*com\n",
    "    lower_bounds.append(lower_bound)\n",
    "\n",
    "last_lam = np.log10(max(lower_bounds/(b_uns*scale)))\n",
    "delta = last_lam/tau\n",
    "now_lam = last_lam-delta\n",
    "last_ubic = UBIC(b_bics, b_uns, len(y_pre), hyp=10**last_lam, scale=scale)\n",
    "last_bc = np.argmin(last_ubic)\n",
    "while now_lam > 0:\n",
    "    now_ubic = UBIC(b_bics, b_uns, len(y_pre), hyp=10**now_lam, scale=scale)\n",
    "    now_bc = np.argmin(now_ubic)\n",
    "    \n",
    "    diff_com = now_bc-last_bc\n",
    "    diff_bic = b_bics[now_bc]-b_bics[last_bc]\n",
    "    imp = abs(diff_bic/(b_bics[last_bc]*diff_com))\n",
    "    \n",
    "    print(min(last_bc, now_bc), '<--->', max(last_bc, now_bc), np.nan_to_num(imp, nan=np.inf))\n",
    "    \n",
    "#     if (diff_com > 0 and imp < thres) or (diff_com < 0 and imp > thres):\n",
    "#         break\n",
    "    if (diff_com > 0 and (diff_bic > 0 or imp < thres)) or \\\n",
    "        (diff_com < 0 and diff_bic > 0 and imp > thres):\n",
    "        break\n",
    "    \n",
    "    last_lam = now_lam\n",
    "    now_lam = last_lam-delta\n",
    "    last_ubic = now_ubic\n",
    "    last_bc = now_bc\n",
    "\n",
    "best_bc = last_bc\n",
    "if abs((b_bics[last_bc]-b_bics[last_bc-1])/b_bics[last_bc-1]) < thres:\n",
    "    best_bc = best_bc - 1\n",
    "    \n",
    "last_lam, last_ubic, last_bc, best_bc"
   ]
  },
  {
   "cell_type": "code",
   "execution_count": 31,
   "metadata": {},
   "outputs": [
    {
     "name": "stdout",
     "output_type": "stream",
     "text": [
      "4, 4, 1, 1, 1, 1, 1, 1, 1, 1, \n",
      "Success rate: 80.0\n"
     ]
    }
   ],
   "source": [
    "tau = 3 # we fix its value as a constant\n",
    "scale = np.log(len(y_pre))\n",
    "# scale = 1\n",
    "pers = np.arange(50+5, 100+5, 5, dtype=np.int32)\n",
    "success_counts = 0\n",
    "all_counts = 0\n",
    "\n",
    "post_means, b_bics, b_uns = baye_uncertainties(best_subsets, (X_pre, y_pre), u_type='cv1', take_sqrt=True)\n",
    "predictions = X_pre@post_means\n",
    "\n",
    "lower_bounds = []\n",
    "for k, efi in enumerate(best_subsets):\n",
    "    assert len(efi) == np.count_nonzero(post_means[:, k:k+1])\n",
    "    com = len(efi)\n",
    "#     lower_bound = 2*log_like_value(predictions[:, k:k+1], y_pre)/np.log(len(y_pre))-com\n",
    "    lower_bound = 2*np.abs(log_like_value(predictions[:, k:k+1], y_pre))-np.log(len(y_pre))*com\n",
    "    lower_bounds.append(lower_bound)\n",
    "\n",
    "b_bics = np.array(b_bics)\n",
    "max_complexity = len(b_bics)\n",
    "complexities = np.arange(max_complexity)+1\n",
    "d_complexities = complexities[decreasing_values_indices(b_bics)]\n",
    "d_bics = b_bics[decreasing_values_indices(b_bics)]\n",
    "slopes = np.diff(b_bics)/(np.diff(complexities)*b_bics[:-1])\n",
    "\n",
    "for per in pers:\n",
    "    thres = np.percentile(np.abs(np.diff(d_bics)/(np.diff(d_complexities)*d_bics[:-1])), per)\n",
    "    # print(thres)\n",
    "\n",
    "    last_lam = np.log10(max(lower_bounds/(b_uns*scale)))\n",
    "    delta = last_lam/tau\n",
    "    now_lam = last_lam-delta\n",
    "    last_ubic = UBIC(b_bics, b_uns, len(y_pre), hyp=10**last_lam, scale=scale)\n",
    "    last_bc = np.argmin(last_ubic)\n",
    "    while now_lam >= 0:\n",
    "        now_ubic = UBIC(b_bics, b_uns, len(y_pre), hyp=10**now_lam, scale=scale)\n",
    "        now_bc = np.argmin(now_ubic)\n",
    "\n",
    "        diff_com = now_bc-last_bc\n",
    "        diff_bic = b_bics[now_bc]-b_bics[last_bc]\n",
    "        imp = abs(diff_bic/(b_bics[last_bc]*diff_com))\n",
    "\n",
    "        # print(min(last_bc, now_bc), '<--->', max(last_bc, now_bc), np.nan_to_num(imp, nan=np.inf))\n",
    "\n",
    "        if (diff_com > 0 and (diff_bic > 0 or imp < thres)) or \\\n",
    "            (diff_com < 0 and diff_bic > 0 and imp > thres):\n",
    "            break\n",
    "\n",
    "        last_lam = now_lam\n",
    "        now_lam = round(last_lam-delta, 10)\n",
    "        last_ubic = now_ubic\n",
    "        last_bc = now_bc\n",
    "    \n",
    "    if last_bc == 1:\n",
    "        success_counts += 1\n",
    "    all_counts += 1\n",
    "    print(last_bc, end=', ')\n",
    "   \n",
    "# 4, 4, 1, 1, 1, 1, 1, 1, 1, 1, \n",
    "# Success rate: 80.0\n",
    "print(\"\\nSuccess rate:\", 100*success_counts/all_counts)"
   ]
  },
  {
   "cell_type": "code",
   "execution_count": 41,
   "metadata": {},
   "outputs": [
    {
     "name": "stdout",
     "output_type": "stream",
     "text": [
      "0.012369053553838464\n",
      "1 <---> 1 inf\n",
      "1 <---> 6 0.006692218703687602\n"
     ]
    },
    {
     "data": {
      "text/plain": [
       "(2.922568677047628,\n",
       " array([  2093.41183791, -23365.4001262 , -23180.72923332, -22559.299026  ,\n",
       "        -22811.15396963, -22768.70035985, -22676.53021183, -21760.89011191,\n",
       "        -21529.07755179, -21116.89820923, -20895.3892327 , -20741.1617378 ,\n",
       "        -20041.99238001, -19613.46841427]),\n",
       " 1,\n",
       " 1)"
      ]
     },
     "execution_count": 41,
     "metadata": {},
     "output_type": "execute_result"
    }
   ],
   "source": [
    "tau = 3 # we fix its value as a constant\n",
    "scale = np.log(len(y_pre))\n",
    "scale = 1\n",
    "per = 75\n",
    "\n",
    "post_means, b_bics, b_uns = baye_uncertainties(best_subsets, (X_pre, y_pre), u_type='cv1', take_sqrt=True)\n",
    "predictions = X_pre@post_means\n",
    "\n",
    "b_bics = np.array(b_bics)\n",
    "max_complexity = len(b_bics)\n",
    "complexities = np.arange(max_complexity)+1\n",
    "d_complexities = complexities[decreasing_values_indices(b_bics)]\n",
    "d_bics = b_bics[decreasing_values_indices(b_bics)]\n",
    "slopes = np.diff(b_bics)/(np.diff(complexities)*b_bics[:-1])\n",
    "thres = np.percentile(slopes, per)\n",
    "thres = np.percentile(np.abs(np.diff(d_bics)/(np.diff(d_complexities)*d_bics[:-1])), per)\n",
    "# thres = 0.02\n",
    "print(thres)\n",
    "\n",
    "lower_bounds = []\n",
    "for k, efi in enumerate(best_subsets):\n",
    "    assert len(efi) == np.count_nonzero(post_means[:, k:k+1])\n",
    "    com = len(efi)\n",
    "#     lower_bound = 2*log_like_value(predictions[:, k:k+1], y_pre)/np.log(len(y_pre))-com\n",
    "    lower_bound = 2*log_like_value(predictions[:, k:k+1], y_pre)-np.log(len(y_pre))*com\n",
    "    lower_bounds.append(lower_bound)\n",
    "\n",
    "last_lam = np.log10(max(lower_bounds/(b_uns*scale)))\n",
    "delta = last_lam/tau\n",
    "now_lam = last_lam-delta\n",
    "last_ubic = UBIC(b_bics, b_uns, len(y_pre), hyp=10**last_lam, scale=scale)\n",
    "last_bc = np.argmin(last_ubic)\n",
    "while now_lam > 0:\n",
    "    now_ubic = UBIC(b_bics, b_uns, len(y_pre), hyp=10**now_lam, scale=scale)\n",
    "    now_bc = np.argmin(now_ubic)\n",
    "    \n",
    "    diff_com = now_bc-last_bc\n",
    "    diff_bic = b_bics[now_bc]-b_bics[last_bc]\n",
    "    imp = abs(diff_bic/(b_bics[last_bc]*diff_com))\n",
    "    \n",
    "    print(min(last_bc, now_bc), '<--->', max(last_bc, now_bc), np.nan_to_num(imp, nan=np.inf))\n",
    "    \n",
    "#     if (diff_com > 0 and imp < thres) or (diff_com < 0 and imp > thres):\n",
    "#         break\n",
    "    if (diff_com > 0 and (diff_bic > 0 or imp < thres)) or \\\n",
    "        (diff_com < 0 and diff_bic > 0 and imp > thres):\n",
    "        break\n",
    "    \n",
    "    last_lam = now_lam\n",
    "    now_lam = last_lam-delta\n",
    "    last_ubic = now_ubic\n",
    "    last_bc = now_bc\n",
    "\n",
    "best_bc = last_bc\n",
    "if abs((b_bics[last_bc]-b_bics[last_bc-1])/b_bics[last_bc-1]) < thres:\n",
    "    best_bc = best_bc - 1\n",
    "    \n",
    "last_lam, last_ubic, last_bc, best_bc"
   ]
  },
  {
   "cell_type": "code",
   "execution_count": 42,
   "metadata": {},
   "outputs": [
    {
     "data": {
      "text/plain": [
       "-22419.32608890811"
      ]
     },
     "execution_count": 42,
     "metadata": {},
     "output_type": "execute_result"
    }
   ],
   "source": [
    "min(b_bics)-max(b_bics)"
   ]
  },
  {
   "cell_type": "code",
   "execution_count": 43,
   "metadata": {},
   "outputs": [
    {
     "data": {
      "image/png": "[encoded data removed]",
      "text/plain": [
       "<Figure size 252x189 with 1 Axes>"
      ]
     },
     "metadata": {
      "needs_background": "light"
     },
     "output_type": "display_data"
    }
   ],
   "source": [
    "complexity_axis = list(st.track.keys())\n",
    "with plt.style.context(['science', 'grid']):\n",
    "    fig, ax = plt.subplots()\n",
    "    ax.plot([], [], linestyle='', marker='', label='Target: $u_t$')\n",
    "    ax.plot(complexity_axis, last_ubic, 'o-', c='black', markerfacecolor='none', label=f\"$\\lambda = {abs(round(last_lam, 2))}$\")\n",
    "    ax.set_xticks(complexity_axis)\n",
    "    ax.set_ylabel(\"$\\\\textrm{UBIC}_{\\\\Gamma}(\\\\xi^{k}, 10^{\\\\lambda})$\", fontsize=12)\n",
    "    ax.set_xlabel(\"Support sizes ($s_{k}$)\", fontsize=12)\n",
    "    plt.annotate('$(u_{xxx}, uu_{x})\\checkmark$', fontsize=16,  \n",
    "                 xy=(complexity_axis[best_bc], last_ubic[best_bc]), \n",
    "                 xytext=(complexity_axis[best_bc]+0.5, last_ubic[best_bc]+9000), \n",
    "                 arrowprops={'arrowstyle': '->'})\n",
    "    ax.legend(fontsize=12)\n",
    "#     fig.savefig(\"../Figures/KdV/kdv_scale_ubic.pdf\")\n",
    "    plt.show()\n",
    "    plt.close()"
   ]
  },
  {
   "cell_type": "code",
   "execution_count": 33,
   "metadata": {},
   "outputs": [
    {
     "data": {
      "image/png": "[encoded data removed]",
      "text/plain": [
       "<Figure size 252x189 with 1 Axes>"
      ]
     },
     "metadata": {
      "needs_background": "light"
     },
     "output_type": "display_data"
    }
   ],
   "source": [
    "complexity_axis = list(st.track.keys())\n",
    "with plt.style.context(['science', 'grid']):\n",
    "    fig, ax = plt.subplots()\n",
    "    ax.plot([], [], linestyle='', marker='', label='Target: $u_t$')\n",
    "    ax.plot(complexity_axis, b_uns, 'o-', c='black', markerfacecolor='none')\n",
    "    ax.set_xticks(complexity_axis)\n",
    "    ax.set_ylabel(\"Uncertainty ($\\\\textrm{U}^{k}$)\", fontsize=12)\n",
    "    ax.set_xlabel(\"Support sizes ($s_{k}$)\", fontsize=12)\n",
    "    plt.annotate('min', fontsize=16, \n",
    "                 xy=(complexity_axis[best_bc], b_uns[best_bc]), \n",
    "                 xytext=(complexity_axis[best_bc], b_uns[best_bc]+2.25), \n",
    "                 arrowprops={'arrowstyle': '->'})\n",
    "    ax.legend(fontsize=12)\n",
    "#     fig.savefig(\"../Figures/KdV/kdv_uns.pdf\")\n",
    "    plt.show()\n",
    "    plt.close()"
   ]
  },
  {
   "cell_type": "code",
   "execution_count": 34,
   "metadata": {},
   "outputs": [
    {
     "name": "stdout",
     "output_type": "stream",
     "text": [
      "['X_pre', 'best_subsets', 'un', 'y_pre']\n"
     ]
    },
    {
     "data": {
      "image/png": "[encoded data removed]",
      "text/plain": [
       "<Figure size 252x189 with 1 Axes>"
      ]
     },
     "metadata": {
      "needs_background": "light"
     },
     "output_type": "display_data"
    }
   ],
   "source": [
    "ud_X, un_best_subsets, _, ud_y = h5file(\"./IPI_output_files/PMS_undenoised_data.h5\", 'r')\n",
    "_, ud_bics, _ = baye_uncertainties([np.where(e>0)[0].tolist() for e in un_best_subsets], \n",
    "                                   (ud_X, ud_y), u_type='cv1', take_sqrt=True)\n",
    "\n",
    "complexity_axis = list(st.track.keys())\n",
    "with plt.style.context(['science', 'grid']):\n",
    "    fig, ax = plt.subplots()\n",
    "    ax.plot([], [], linestyle='', marker='', label='Target: $u_t$')\n",
    "    ax.plot(complexity_axis, ud_bics, 'o-', c='blue', markerfacecolor='none', label=\"w/o denoising\")\n",
    "    ax.plot(complexity_axis, b_bics, 'o-', c='black', markerfacecolor='none', label=\"w/ denoising\")\n",
    "    ax.fill_between(complexity_axis, ud_bics, b_bics, facecolor='blue', alpha=0.1)\n",
    "    ax.set_xticks(complexity_axis)\n",
    "    ax.set_ylabel(\"$\\\\textrm{BIC}(\\\\xi^{k}_{\\\\mu})$\", fontsize=12)\n",
    "    ax.set_xlabel(\"Support sizes ($s_{k}$)\", fontsize=12)\n",
    "    plt.annotate(f\"$({', '.join(eff_feature_names[np.argmin(b_bics)])})$\", fontsize=10, \n",
    "                 xy=(complexity_axis[np.argmin(b_bics)], b_bics[np.argmin(b_bics)]), \n",
    "                 xytext=(complexity_axis[np.argmin(b_bics)]-5, b_bics[np.argmin(b_bics)]+3000), \n",
    "                 arrowprops={'arrowstyle': '->'})\n",
    "    ax.legend(fontsize=10)\n",
    "#     fig.savefig(\"../Figures/KdV/kdv_bic.pdf\")\n",
    "    plt.show()\n",
    "    plt.close()"
   ]
  },
  {
   "cell_type": "markdown",
   "metadata": {},
   "source": [
    "#### IC on validation data"
   ]
  },
  {
   "cell_type": "code",
   "execution_count": 35,
   "metadata": {},
   "outputs": [],
   "source": [
    "from sklearn.model_selection import KFold, ShuffleSplit, RepeatedKFold"
   ]
  },
  {
   "cell_type": "code",
   "execution_count": 36,
   "metadata": {},
   "outputs": [
    {
     "name": "stderr",
     "output_type": "stream",
     "text": [
      "100%|███████████████████████████████████████████| 14/14 [00:06<00:00,  2.05it/s]\n"
     ]
    },
    {
     "data": {
      "image/png": "[encoded data removed]",
      "text/plain": [
       "<Figure size 252x189 with 1 Axes>"
      ]
     },
     "metadata": {
      "needs_background": "light"
     },
     "output_type": "display_data"
    }
   ],
   "source": [
    "div = 0.5\n",
    "n_train = int(len(X_pre)*div)\n",
    "X_train = X_pre.copy()[:n_train, :]\n",
    "y_train = y_pre.copy()[:n_train, :]\n",
    "X_val = X_pre.copy()[n_train:, :]\n",
    "y_val = y_pre.copy()[n_train:, :]\n",
    "\n",
    "complexity_axis = list(st.track.keys())\n",
    "train_bics = []\n",
    "val_bics = []\n",
    "for _ in trange(1, max(complexity_axis)+1):\n",
    "    w_train = brute_force(X_train, y_train, _)\n",
    "    w_train_pred = X_val@w_train\n",
    "    train_bics.append(BIC_AIC(X_train@w_train, y_train, _)[0])\n",
    "    val_bics.append(BIC_AIC(w_train_pred, y_val, _)[0])\n",
    "    \n",
    "with plt.style.context(['science', 'grid']):\n",
    "    fig, ax = plt.subplots()\n",
    "    ax.plot(complexity_axis, train_bics, 'o-', c='blue', markerfacecolor='none', label='Train (50\\%)')\n",
    "    ax.plot(complexity_axis, val_bics, 'o--', c='black', markerfacecolor='none', label='Validation (50\\%)')\n",
    "    ax.axvline(x=np.argmin(train_bics)+1, linestyle='-', c='blue', label='Train-based $s_{k^{*}}$')\n",
    "    ax.axvline(x=np.argmin(val_bics)+1, linestyle='--', c='black', label='Validation-based $s_{k^{*}}$')\n",
    "    ax.set_xticks(complexity_axis)\n",
    "    ax.set_xlabel(\"Support sizes ($s_{k}$)\", fontsize=12)\n",
    "    ax.set_ylabel(\"$\\\\textrm{BIC}(\\\\hat{\\\\xi}^{k})$\", fontsize=12)\n",
    "    ax.set_title(\"Single Train-Validation Split\", fontsize=12)\n",
    "    ax.legend()\n",
    "    fig.savefig(\"../Figures/KdV/kdv_crossval.pdf\")\n",
    "    plt.show()"
   ]
  },
  {
   "cell_type": "code",
   "execution_count": 37,
   "metadata": {},
   "outputs": [
    {
     "name": "stderr",
     "output_type": "stream",
     "text": [
      "100%|███████████████████████████████████████████| 14/14 [00:06<00:00,  2.09it/s]\n",
      "100%|███████████████████████████████████████████| 14/14 [00:06<00:00,  2.10it/s]\n",
      "100%|███████████████████████████████████████████| 14/14 [00:07<00:00,  1.95it/s]\n",
      "100%|███████████████████████████████████████████| 14/14 [00:06<00:00,  2.05it/s]\n",
      "100%|███████████████████████████████████████████| 14/14 [00:08<00:00,  1.65it/s]\n",
      "100%|███████████████████████████████████████████| 14/14 [00:07<00:00,  1.86it/s]\n",
      "100%|███████████████████████████████████████████| 14/14 [00:07<00:00,  1.75it/s]\n",
      "100%|███████████████████████████████████████████| 14/14 [00:08<00:00,  1.69it/s]\n",
      "100%|███████████████████████████████████████████| 14/14 [00:08<00:00,  1.59it/s]\n",
      "100%|███████████████████████████████████████████| 14/14 [00:07<00:00,  1.80it/s]\n"
     ]
    },
    {
     "data": {
      "image/png": "[encoded data removed]",
      "text/plain": [
       "<Figure size 252x189 with 1 Axes>"
      ]
     },
     "metadata": {
      "needs_background": "light"
     },
     "output_type": "display_data"
    }
   ],
   "source": [
    "spliter = ShuffleSplit(n_splits=10, random_state=0, test_size=0.5)\n",
    "\n",
    "train_avg_bics = []\n",
    "val_avg_bics = []\n",
    "for i, (train_index, test_index) in enumerate(spliter.split(X_pre)):\n",
    "    X_train = X_pre.copy()[train_index, :]\n",
    "    y_train = y_pre.copy()[train_index, :]\n",
    "    X_val = X_pre.copy()[test_index, :]\n",
    "    y_val = y_pre.copy()[test_index, :]\n",
    "    train_bics = []\n",
    "    val_bics = []\n",
    "    for _ in trange(1, max(complexity_axis)+1):\n",
    "        w_train = brute_force(X_train, y_train, _)\n",
    "        w_train_pred = X_val@w_train\n",
    "        train_bics.append(BIC_AIC(X_train@w_train, y_train, _)[0])\n",
    "        val_bics.append(BIC_AIC(w_train_pred, y_val, _)[0])\n",
    "    train_avg_bics.append(train_bics)\n",
    "    val_avg_bics.append(val_bics)\n",
    "    \n",
    "train_avg_bics = np.array(train_avg_bics)\n",
    "val_avg_bics = np.array(val_avg_bics)\n",
    "train_bics = train_avg_bics.mean(axis=0)\n",
    "val_bics = val_avg_bics.mean(axis=0)\n",
    "\n",
    "complexity_axis = list(st.track.keys())\n",
    "with plt.style.context(['science', 'grid']):\n",
    "    fig, ax = plt.subplots()\n",
    "    ax.plot(complexity_axis, train_bics, 'o-', c='blue', markerfacecolor='none', label='Train (50\\%)')\n",
    "    ax.plot(complexity_axis, val_bics, 'o--', c='black', markerfacecolor='none', label='Validation (50\\%)')\n",
    "    ax.axvline(x=np.argmin(train_bics)+1, linestyle='-', c='blue', label='Train-based $s_{k^{*}}$')\n",
    "    ax.axvline(x=np.argmin(val_bics)+1, linestyle='--', c='black', label='Validation-based $s_{k^{*}}$')\n",
    "    ax.set_xticks(complexity_axis)\n",
    "    ax.set_xlabel(\"Support sizes ($s_{k}$)\", fontsize=12)\n",
    "    ax.set_ylabel(\"Avg. $\\\\textrm{BIC}(\\\\hat{\\\\xi}^{k})$\", fontsize=12)\n",
    "    ax.set_title(\"Shuffle Splits\", fontsize=12)\n",
    "    ax.legend()\n",
    "    fig.savefig(\"../Figures/KdV/kdv_crossval_sss.pdf\")\n",
    "    plt.show()"
   ]
  },
  {
   "cell_type": "code",
   "execution_count": 38,
   "metadata": {},
   "outputs": [
    {
     "name": "stderr",
     "output_type": "stream",
     "text": [
      "100%|███████████████████████████████████████████| 14/14 [00:07<00:00,  1.95it/s]\n",
      "100%|███████████████████████████████████████████| 14/14 [00:07<00:00,  1.92it/s]\n",
      "100%|███████████████████████████████████████████| 14/14 [00:07<00:00,  1.86it/s]\n",
      "100%|███████████████████████████████████████████| 14/14 [00:07<00:00,  1.86it/s]\n",
      "100%|███████████████████████████████████████████| 14/14 [00:07<00:00,  1.87it/s]\n",
      "100%|███████████████████████████████████████████| 14/14 [00:07<00:00,  1.94it/s]\n",
      "100%|███████████████████████████████████████████| 14/14 [00:07<00:00,  1.96it/s]\n",
      "100%|███████████████████████████████████████████| 14/14 [00:07<00:00,  1.87it/s]\n",
      "100%|███████████████████████████████████████████| 14/14 [00:07<00:00,  1.84it/s]\n",
      "100%|███████████████████████████████████████████| 14/14 [00:07<00:00,  1.87it/s]\n"
     ]
    },
    {
     "data": {
      "image/png": "[encoded data removed]",
      "text/plain": [
       "<Figure size 252x189 with 1 Axes>"
      ]
     },
     "metadata": {
      "needs_background": "light"
     },
     "output_type": "display_data"
    }
   ],
   "source": [
    "spliter = RepeatedKFold(n_splits=2, n_repeats=5, random_state=0)\n",
    "\n",
    "train_avg_bics = []\n",
    "val_avg_bics = []\n",
    "for i, (train_index, test_index) in enumerate(spliter.split(X_pre)):\n",
    "    X_train = X_pre.copy()[train_index, :]\n",
    "    y_train = y_pre.copy()[train_index, :]\n",
    "    X_val = X_pre.copy()[test_index, :]\n",
    "    y_val = y_pre.copy()[test_index, :]\n",
    "    train_bics = []\n",
    "    val_bics = []\n",
    "    for _ in trange(1, max(complexity_axis)+1):\n",
    "        w_train = brute_force(X_train, y_train, _)\n",
    "        w_train_pred = X_val@w_train\n",
    "        train_bics.append(BIC_AIC(X_train@w_train, y_train, _)[0])\n",
    "        val_bics.append(BIC_AIC(w_train_pred, y_val, _)[0])\n",
    "    train_avg_bics.append(train_bics)\n",
    "    val_avg_bics.append(val_bics)\n",
    "    \n",
    "train_avg_bics = np.array(train_avg_bics)\n",
    "val_avg_bics = np.array(val_avg_bics)\n",
    "train_bics = train_avg_bics.mean(axis=0)\n",
    "val_bics = val_avg_bics.mean(axis=0)\n",
    "\n",
    "complexity_axis = list(st.track.keys())\n",
    "with plt.style.context(['science', 'grid']):\n",
    "    fig, ax = plt.subplots()\n",
    "    ax.plot(complexity_axis, train_bics, 'o-', c='blue', markerfacecolor='none', label='Train (50\\%)')\n",
    "    ax.plot(complexity_axis, val_bics, 'o--', c='black', markerfacecolor='none', label='Validation (50\\%)')\n",
    "    ax.axvline(x=np.argmin(train_bics)+1, linestyle='-', c='blue', label='Train-based $s_{k^{*}}$')\n",
    "    ax.axvline(x=np.argmin(val_bics)+1, linestyle='--', c='black', label='Validation-based $s_{k^{*}}$')\n",
    "    ax.set_xticks(complexity_axis)\n",
    "    ax.set_xlabel(\"Support sizes ($s_{k}$)\", fontsize=12)\n",
    "    ax.set_ylabel(\"Avg. $\\\\textrm{BIC}(\\\\hat{\\\\xi}^{k})$\", fontsize=12)\n",
    "    ax.set_title(\"Repeated K-Folds\")\n",
    "    ax.legend()\n",
    "    fig.savefig(\"../Figures/KdV/kdv_crossval_rkf.pdf\")\n",
    "    plt.show()"
   ]
  },
  {
   "cell_type": "code",
   "execution_count": null,
   "metadata": {},
   "outputs": [],
   "source": []
  },
  {
   "cell_type": "code",
   "execution_count": null,
   "metadata": {},
   "outputs": [],
   "source": []
  },
  {
   "cell_type": "code",
   "execution_count": 53,
   "metadata": {},
   "outputs": [],
   "source": [
    "def weight_poly(x, m, k):\n",
    "    \"\"\"\n",
    "    Polynomial piece of weighting function used to satisfy BC A = d^k/dx^k[(x^2 - 1)^m]\n",
    "    x: independent variable\n",
    "    m: power of base function\n",
    "    k: order of derivative\n",
    "    \"\"\"\n",
    "    a = np.zeros((2*m+1, 1)) # initial coefficient vector\n",
    "    for l in range(m+1):\n",
    "        a[2*l] = ((-1)**(m-l))*np.math.comb(m, l) # set polynomial coefficients\n",
    "    \n",
    "    c = np.zeros((2*m+1, 1)) # final coefficient vector\n",
    "    for n in range(2*m-k+1):\n",
    "        c[n] = a[n+k]*np.math.factorial(n+k)/np.math.factorial(n)\n",
    "    \n",
    "    p = 0\n",
    "    for n in range(2*m-k+1):\n",
    "        p += c[n]*(x**n) # final windowing function\n",
    "\n",
    "    return p\n",
    "\n",
    "def weight_full(k, p, x, t):\n",
    "    \"\"\"\n",
    "    Assemble the 1D weight functions into the full weight\n",
    "    k = [kx,ky,kt]: order of derivative(s)\n",
    "    p = [px,py,pt]: exponents of weight polynomials\n",
    "    \"\"\"\n",
    "    if len(k) == 3:\n",
    "        wx = weight_poly(x, p[0], k[0])\n",
    "        wy = weight_poly(x, p[1], k[1])\n",
    "        wt = weight_poly(t, p[2], k[2])\n",
    "        wX, wY, wT = np.meshgrid(wx, wy, wt)\n",
    "        W = wX * wY * wT\n",
    "    elif len(k) == 2:\n",
    "        wx = weight_poly(x, p[0], k[0])\n",
    "        wt = weight_poly(t, p[1], k[1])\n",
    "        wT, wX = np.meshgrid(wt, wx)\n",
    "        W = wX * wT\n",
    "    \n",
    "    return W, wx, wt"
   ]
  },
  {
   "cell_type": "code",
   "execution_count": 54,
   "metadata": {},
   "outputs": [],
   "source": [
    "u_weak = un.copy()\n",
    "n_domain = 10000\n",
    "div = 3.5\n",
    "x_size, t_size = int(max(u_weak.shape)/div), int(max(u_weak.shape)/div)\n",
    "\n",
    "xsup = np.linspace(-1,1,x_size+1)\n",
    "tsup = np.linspace(-1,1,t_size+1)\n",
    "S_x = 2/(dx*x_size)\n",
    "S_t = 2/(dt*t_size)"
   ]
  },
  {
   "cell_type": "code",
   "execution_count": 55,
   "metadata": {},
   "outputs": [
    {
     "name": "stderr",
     "output_type": "stream",
     "text": [
      "100%|███████████████████████████████████████████| 10000/10000 [00:04<00:00, 2063.53it/s]\n"
     ]
    },
    {
     "name": "stdout",
     "output_type": "stream",
     "text": [
      "3\n",
      "7.718170793467112e-07 (0.3868821326124483, 0.3330764432911082)\n"
     ]
    },
    {
     "name": "stderr",
     "output_type": "stream",
     "text": [
      "100%|███████████████████████████████████████████| 10000/10000 [00:04<00:00, 2192.16it/s]\n"
     ]
    },
    {
     "name": "stdout",
     "output_type": "stream",
     "text": [
      "4\n",
      "7.547404191165086e-07 (0.38169642642502666, 0.23922400540024036)\n"
     ]
    },
    {
     "name": "stderr",
     "output_type": "stream",
     "text": [
      "100%|███████████████████████████████████████████| 10000/10000 [00:04<00:00, 2234.31it/s]"
     ]
    },
    {
     "name": "stdout",
     "output_type": "stream",
     "text": [
      "5\n",
      "7.624655081639678e-07 (0.28954232393045287, 0.015725191557031115)\n"
     ]
    },
    {
     "name": "stderr",
     "output_type": "stream",
     "text": [
      "\n"
     ]
    },
    {
     "data": {
      "text/plain": [
       "(array([-0.9937908 , -1.00142472]),\n",
       " (0.28954232393045287, 0.015725191557031115))"
      ]
     },
     "execution_count": 55,
     "metadata": {},
     "output_type": "execute_result"
    }
   ],
   "source": [
    "max_order = 3\n",
    "best_loss = 1e6; best_coeff = None\n",
    "for mo in range(max_order, max_order+10, 1):\n",
    "    wx, wt = np.meshgrid((xsup**2-1)**(mo), (tsup**2-1)**(mo))\n",
    "    W = (wx*wt).T\n",
    "    \n",
    "    # Define the derivative:\n",
    "    d_dx = FinDiff(0, xsup[1]-xsup[0], 1)\n",
    "    d_dxxx = FinDiff(0, xsup[1]-xsup[0], 3)\n",
    "    d_dt = FinDiff(1, tsup[1]-tsup[0], 1)\n",
    "\n",
    "    dA01 = d_dt(W)\n",
    "    dA10 = d_dx(W)\n",
    "    dA30 = d_dxxx(W)\n",
    "\n",
    "    X_weak = []\n",
    "    y_weak = []\n",
    "    for _ in trange(n_domain):\n",
    "        ix = np.random.randint(0, len(x)-x_size, size=1)[0] + np.arange(0, x_size+1)\n",
    "        it = np.random.randint(0, len(t)-t_size, size=1)[0] + np.arange(0, t_size+1)\n",
    "\n",
    "        usup = (u_weak[ix, :][:, it])\n",
    "\n",
    "        f1 = -(1/2)*(usup**2)*dA10*S_x\n",
    "        f1 = trapz(trapz(f1, tsup, dt, 1), xsup, dx, 0)\n",
    "        \n",
    "        f2 = -usup*dA30*(S_x**3)\n",
    "        f2 = trapz(trapz(f2, tsup, dt, 1), xsup, dx, 0)\n",
    "\n",
    "        X_weak.append([f2, f1])\n",
    "\n",
    "        f4 = -usup*dA01*S_t\n",
    "        f4 = trapz(trapz(f4, tsup, dt, 1), xsup, dx, 0)\n",
    "        y_weak.append(f4)\n",
    "\n",
    "    X_weak = np.array(X_weak)\n",
    "    y_weak = np.array(y_weak)\n",
    "\n",
    "    coeff = np.linalg.lstsq(X_weak, y_weak, rcond=None)[0]\n",
    "    loss = ((X_weak@coeff-y_weak)**2).mean()\n",
    "\n",
    "    print(mo)\n",
    "    print(loss, evaluate_coefficients(coeff))\n",
    "    if loss < best_loss:\n",
    "        best_loss = loss\n",
    "        best_coeff = coeff\n",
    "    else:\n",
    "        break\n",
    "\n",
    "best_mo = mo-1\n",
    "best_coeff, evaluate_coefficients(coeff)"
   ]
  },
  {
   "cell_type": "code",
   "execution_count": 57,
   "metadata": {},
   "outputs": [
    {
     "name": "stderr",
     "output_type": "stream",
     "text": [
      "100%|███████████████████████████████████████████████████| 15/15 [02:59<00:00, 11.99s/it]\n"
     ]
    },
    {
     "data": {
      "text/plain": [
       "(7.199164231608589e-07,\n",
       " array([-0.99420847, -1.00141073]),\n",
       " (0.36011260397684763, 0.21903991770840792),\n",
       " 29)"
      ]
     },
     "execution_count": 57,
     "metadata": {},
     "output_type": "execute_result"
    }
   ],
   "source": [
    "wx, wt = np.meshgrid((xsup**2-1)**(best_mo), (tsup**2-1)**(best_mo))\n",
    "W = (wx*wt).T\n",
    "\n",
    "# Define the derivative:\n",
    "d_dx = FinDiff(0, xsup[1]-xsup[0], 1, acc=4)\n",
    "d_dxx = FinDiff(0, xsup[1]-xsup[0], 2, acc=4)\n",
    "d_dxxx = FinDiff(0, xsup[1]-xsup[0], 3, acc=4)\n",
    "d_dt = FinDiff(1, tsup[1]-tsup[0], 1, acc=4)\n",
    "\n",
    "dA01 = d_dt(W)\n",
    "dA10 = d_dx(W)\n",
    "dA30 = d_dxxx(W)\n",
    "\n",
    "np.random.seed(0)\n",
    "min_loss = 1e6; best_coeff = None; best_ws = -1\n",
    "for ws in trange(3, 33, 2):\n",
    "    X_weak = []\n",
    "    y_weak = []\n",
    "    for _ in range(n_domain):\n",
    "        ix = np.random.randint(0, len(x)-x_size, size=1)[0] + np.arange(0, x_size+1)\n",
    "        it = np.random.randint(0, len(t)-t_size, size=1)[0] + np.arange(0, t_size+1)\n",
    "        \n",
    "        usup = savgol_filter(u_weak[ix, :][:, it], ws, 2)\n",
    "\n",
    "        f1 = -(1/2)*(usup**2)*dA10*S_x\n",
    "        f1 = trapz(trapz(f1, tsup, 1), xsup, 0)\n",
    "\n",
    "        f2 = -usup*dA30*(S_x**3)\n",
    "        f2 = trapz(trapz(f2, tsup, 1), xsup, 0)\n",
    "\n",
    "        X_weak.append([f2, f1])\n",
    "\n",
    "        f4 = -usup*dA01*S_t\n",
    "        f4 = trapz(trapz(f4, tsup, 1), xsup, 0)\n",
    "        y_weak.append(f4)\n",
    "\n",
    "    X_weak = np.array(X_weak)\n",
    "    y_weak = np.array(y_weak)\n",
    "    \n",
    "    coeff = np.linalg.lstsq(X_weak, y_weak, rcond=None)[0]\n",
    "    loss = ((X_weak@coeff-y_weak)**2).mean()\n",
    "    if loss < min_loss:\n",
    "        min_loss = loss\n",
    "        best_coeff = coeff\n",
    "        best_ws = ws\n",
    "\n",
    "# (0.03524781993990561, 0.011424239600747732)\n",
    "\n",
    "# (7.199164231608589e-07,\n",
    "#  array([-0.99420847, -1.00141073]),\n",
    "#  (0.36011260397684763, 0.21903991770840792),\n",
    "#  29)\n",
    "\n",
    "min_loss, best_coeff, evaluate_coefficients(best_coeff), best_ws"
   ]
  },
  {
   "cell_type": "code",
   "execution_count": null,
   "metadata": {},
   "outputs": [],
   "source": []
  },
  {
   "cell_type": "code",
   "execution_count": null,
   "metadata": {},
   "outputs": [],
   "source": []
  },
  {
   "cell_type": "markdown",
   "metadata": {},
   "source": [
    "#### Saving results obtained in IPI step"
   ]
  },
  {
   "cell_type": "code",
   "execution_count": 24,
   "metadata": {},
   "outputs": [
    {
     "data": {
      "text/plain": [
       "{'un': array([[ 4.30889040e-02,  1.91839024e-02, -2.56449465e-02, ...,\n",
       "         -6.45620862e-01, -6.53397031e-01, -5.32059944e-01],\n",
       "        [ 4.85296026e-02,  2.23846413e-02, -1.81812313e-02, ...,\n",
       "         -6.30331618e-01, -6.36064043e-01, -5.15069414e-01],\n",
       "        [ 5.43418837e-02,  2.64724315e-02, -1.00428682e-02, ...,\n",
       "         -6.14604348e-01, -6.18391249e-01, -4.98315785e-01],\n",
       "        ...,\n",
       "        [ 6.80875961e-03, -3.03584253e-02, -2.05221853e-02, ...,\n",
       "         -5.90549407e-01, -6.06716483e-01, -6.82432608e-01],\n",
       "        [ 4.49370776e-02, -2.39096476e-02,  5.48030441e-04, ...,\n",
       "         -5.82733007e-01, -5.88329388e-01, -6.73655319e-01],\n",
       "        [ 8.50965544e-02, -1.79157631e-02,  2.24706813e-02, ...,\n",
       "         -5.75116735e-01, -5.68877548e-01, -6.64882406e-01]]),\n",
       " 'X_pre': array([[ 4.78690456e+00,  9.44963227e+00, -1.23914976e+00, ...,\n",
       "          4.98012426e+00,  3.15720439e+01,  1.08843006e+02],\n",
       "        [-1.69838198e+00,  1.13936714e+00, -1.96848731e-01, ...,\n",
       "          4.40429948e-02,  2.61687048e+01, -3.45288610e+01],\n",
       "        [-6.29290949e-01,  3.25873907e-01,  1.04661997e+00, ...,\n",
       "         -6.19347687e-02,  2.67166134e+01, -1.31914589e+01],\n",
       "        ...,\n",
       "        [-1.79959361e+00,  1.29560003e+00,  1.58176183e-01, ...,\n",
       "          1.47773984e-01,  2.58685030e+01, -3.74961655e+01],\n",
       "        [ 9.19371448e-01,  6.84478635e-01, -1.53660689e+00, ...,\n",
       "          4.90010121e-01,  2.48103249e+01,  1.91253377e+01],\n",
       "        [ 1.54119971e-01,  2.16793568e-01, -1.18066028e+00, ...,\n",
       "          1.25277890e-01,  2.31353816e+01,  2.44765994e+00]]),\n",
       " 'y_pre': array([[ 0.26852566],\n",
       "        [-0.16747804],\n",
       "        [ 0.17347424],\n",
       "        ...,\n",
       "        [-0.10606142],\n",
       "        [-0.20565859],\n",
       "        [-0.1580871 ]]),\n",
       " 'best_subsets': array([[0., 0., 0., 0., 0., 0., 1., 0., 0., 0., 0., 0., 0., 0.],\n",
       "        [0., 0., 0., 0., 1., 0., 1., 0., 0., 0., 0., 0., 0., 0.],\n",
       "        [0., 0., 0., 0., 1., 0., 1., 0., 0., 0., 1., 0., 0., 0.],\n",
       "        [0., 0., 0., 0., 1., 0., 1., 1., 0., 0., 1., 0., 0., 0.],\n",
       "        [0., 0., 1., 0., 1., 0., 1., 0., 0., 0., 1., 1., 0., 0.],\n",
       "        [1., 0., 1., 0., 1., 0., 1., 0., 0., 0., 1., 1., 0., 0.],\n",
       "        [1., 0., 1., 0., 1., 0., 1., 0., 1., 0., 1., 1., 0., 0.],\n",
       "        [1., 0., 1., 0., 1., 0., 1., 1., 1., 0., 1., 1., 0., 0.],\n",
       "        [1., 0., 1., 1., 1., 0., 1., 1., 1., 0., 1., 1., 0., 0.],\n",
       "        [1., 0., 1., 1., 1., 0., 1., 1., 1., 1., 1., 1., 0., 0.],\n",
       "        [1., 1., 1., 1., 1., 0., 1., 1., 1., 1., 1., 1., 0., 0.],\n",
       "        [1., 1., 1., 1., 1., 0., 1., 1., 1., 1., 1., 1., 1., 0.],\n",
       "        [1., 1., 1., 1., 1., 0., 1., 1., 1., 1., 1., 1., 1., 1.],\n",
       "        [1., 1., 1., 1., 1., 1., 1., 1., 1., 1., 1., 1., 1., 1.]],\n",
       "       dtype=float32)}"
      ]
     },
     "execution_count": 24,
     "metadata": {},
     "output_type": "execute_result"
    }
   ],
   "source": [
    "tmp = np.zeros((len(best_subsets), X_pre.shape[-1]))\n",
    "for i in range(len(best_subsets)):\n",
    "    tmp[i:i+1, :][0, best_subsets[i]] = 1.0\n",
    "best_subsets = tmp.astype(np.float32)\n",
    "del tmp\n",
    "\n",
    "pms_data = {nameof(un): un, \n",
    "            nameof(X_pre): X_pre, \n",
    "            nameof(y_pre): y_pre, \n",
    "            nameof(best_subsets): best_subsets}\n",
    "pms_data"
   ]
  },
  {
   "cell_type": "code",
   "execution_count": 25,
   "metadata": {},
   "outputs": [
    {
     "name": "stdout",
     "output_type": "stream",
     "text": [
      "u*u_1\n",
      "----------\n",
      "u_111+u*u_1\n",
      "----------\n",
      "u_111+u*u_1+u*u_111\n",
      "----------\n",
      "u_111+u*u_1+u*u*u_1+u*u_111\n",
      "----------\n",
      "u_1+u_111+u*u_1+u*u_111+u*u*u_111\n",
      "----------\n",
      "u+u_1+u_111+u*u_1+u*u_111+u*u*u_111\n",
      "----------\n",
      "u+u_1+u_111+u*u_1+u*u_11+u*u_111+u*u*u_111\n",
      "----------\n",
      "u+u_1+u_111+u*u_1+u*u*u_1+u*u_11+u*u_111+u*u*u_111\n",
      "----------\n",
      "u+u_1+u_11+u_111+u*u_1+u*u*u_1+u*u_11+u*u_111+u*u*u_111\n",
      "----------\n",
      "u+u_1+u_11+u_111+u*u_1+u*u*u_1+u*u_11+u*u*u_11+u*u_111+u*u*u_111\n",
      "----------\n",
      "u+u*u+u_1+u_11+u_111+u*u_1+u*u*u_1+u*u_11+u*u*u_11+u*u_111+u*u*u_111\n",
      "----------\n",
      "u+u*u+u_1+u_11+u_111+u*u_1+u*u*u_1+u*u_11+u*u*u_11+u*u_111+u*u*u_111+u*u_1111\n",
      "----------\n",
      "u+u*u+u_1+u_11+u_111+u*u_1+u*u*u_1+u*u_11+u*u*u_11+u*u_111+u*u*u_111+u*u_1111+u*u*u_1111\n",
      "----------\n",
      "u+u*u+u_1+u_11+u_111+u_1111+u*u_1+u*u*u_1+u*u_11+u*u*u_11+u*u_111+u*u*u_111+u*u_1111+u*u*u_1111\n",
      "----------\n"
     ]
    }
   ],
   "source": [
    "basic_vars = {'u'}\n",
    "encoded_feature_names = []\n",
    "for feature in model.get_feature_names():\n",
    "    out_feature = []\n",
    "    last_index = -1\n",
    "    for i, c in enumerate(feature):\n",
    "        if i+1 < len(feature) and feature[i+1] in basic_vars:\n",
    "            last_index = i\n",
    "            out_feature.append(c+'*')\n",
    "    out_feature.append(feature[last_index+1:])\n",
    "    encoded_feature_names.append(''.join(out_feature))\n",
    "encoded_feature_names = np.array(encoded_feature_names)\n",
    "\n",
    "for com in sorted(st.track.keys()):\n",
    "    indices, _ = st.track[com]\n",
    "    expr = '+'.join(encoded_feature_names[list(indices)])\n",
    "    print(expr)\n",
    "    print('----------')\n",
    "encoded_pde_names = ['+'.join(encoded_feature_names[list(indices)]) for _, (indices, _) \n",
    "                     in sorted(st.track.items())]"
   ]
  },
  {
   "cell_type": "code",
   "execution_count": 26,
   "metadata": {},
   "outputs": [],
   "source": [
    "import yaml\n",
    "from omegaconf import OmegaConf\n",
    "yml = {}\n",
    "yml[\"encoded_feature_names\"] = encoded_feature_names.tolist()\n",
    "yml[\"encoded_pde_names\"] = encoded_pde_names\n",
    "yml[\"information_criterion_score\"] = [float(ic) for _, (_, ic) in st.track.items()]"
   ]
  },
  {
   "cell_type": "code",
   "execution_count": 27,
   "metadata": {},
   "outputs": [],
   "source": [
    "fp1 = \"./IPI_output_files/PMS_data.h5\"\n",
    "fp2 = \"./IPI_output_files/encoded_pde_names.yaml\""
   ]
  },
  {
   "cell_type": "code",
   "execution_count": 28,
   "metadata": {},
   "outputs": [],
   "source": [
    "# h5file(file_path=fp1, cdict=pms_data, mode='w')\n",
    "# OmegaConf.save(config=OmegaConf.create(yml), f=fp2)\n",
    "# np.save(\"./IPI_output_files/X_pre.npy\", X_pre)\n",
    "# np.save(\"./IPI_output_files/y_pre.npy\", y_pre)"
   ]
  },
  {
   "cell_type": "code",
   "execution_count": 29,
   "metadata": {},
   "outputs": [],
   "source": [
    "# OmegaConf.load(fp2)\n",
    "# h5file(file_path=fp1, mode='r', return_dict=False)"
   ]
  },
  {
   "cell_type": "code",
   "execution_count": 30,
   "metadata": {},
   "outputs": [],
   "source": [
    "#### Anal in R -> PMS (Seclection by PINN), UBIC by SE in OLS -> denoise weak form -> DONE!!!"
   ]
  }
 ],
 "metadata": {
  "anaconda-cloud": {},
  "kernelspec": {
   "display_name": "Python [conda env:pysr]",
   "language": "python",
   "name": "conda-env-pysr-py"
  },
  "language_info": {
   "codemirror_mode": {
    "name": "ipython",
    "version": 3
   },
   "file_extension": ".py",
   "mimetype": "text/x-python",
   "name": "python",
   "nbconvert_exporter": "python",
   "pygments_lexer": "ipython3",
   "version": "3.10.10"
  }
 },
 "nbformat": 4,
 "nbformat_minor": 1
}
