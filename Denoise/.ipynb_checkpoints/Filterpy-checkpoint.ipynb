{
 "cells": [
  {
   "cell_type": "code",
   "execution_count": 1,
   "id": "8ba85b6e",
   "metadata": {},
   "outputs": [],
   "source": [
    "from scipy.io import loadmat\n",
    "# from skimage.util import img_as_float\n",
    "from sklearn.feature_extraction.image import extract_patches_2d, reconstruct_from_patches_2d\n",
    "from sklearn.decomposition import MiniBatchDictionaryLearning\n",
    "from ksvd import ApproximateKSVD\n",
    "from filterpy.kalman import KalmanFilter\n",
    "import matplotlib.pyplot as plt\n",
    "%matplotlib inline\n",
    "main_seed = 0\n",
    "\n",
    "import numpy as np\n",
    "\n",
    "def kalman_denoise(signal, Q, R, initial_state_mean=0., initial_state_covariance=1.):\n",
    "    # Initialize the Kalman filter\n",
    "    kf = KalmanFilter(dim_x=1, dim_z=1)\n",
    "    kf.x = initial_state_mean\n",
    "    kf.P = initial_state_covariance\n",
    "    kf.Q = Q\n",
    "    kf.R = R\n",
    "    kf.F = np.array([[1.]])\n",
    "    kf.H = np.array([[1.]])\n",
    "    kf.B = None\n",
    "\n",
    "    # Apply the Kalman filter to the signal\n",
    "    denoised_signal = []\n",
    "    for z in signal:\n",
    "        kf.predict()\n",
    "        kf.update(z)\n",
    "        denoised_signal.append(kf.x[0])\n",
    "\n",
    "    return np.array(denoised_signal)"
   ]
  },
  {
   "cell_type": "code",
   "execution_count": 2,
   "id": "502c370b",
   "metadata": {},
   "outputs": [],
   "source": [
    "data = loadmat('../Datasets/burgers.mat')\n",
    "u = (data['usol']).real\n",
    "x = (data['x'][0]).real\n",
    "t = (data['t'][:,0]).real\n",
    "Xd, Td = np.meshgrid(x, t)\n",
    "\n",
    "np.random.seed(0)\n",
    "noise_lv = 30\n",
    "noise = 0.01*np.abs(noise_lv)*(u.std())*np.random.randn(u.shape[0], u.shape[1])\n",
    "\n",
    "un = u+noise"
   ]
  },
  {
   "cell_type": "code",
   "execution_count": 3,
   "id": "828b5eef",
   "metadata": {},
   "outputs": [
    {
     "name": "stdout",
     "output_type": "stream",
     "text": [
      "(12, 5)\n"
     ]
    }
   ],
   "source": [
    "div = 20; axis = 1\n",
    "patch_size = (int(256//div), int(101//div))\n",
    "print(patch_size)\n",
    "\n",
    "un_img = un\n",
    "patches = extract_patches_2d(un_img, patch_size)\n",
    "\n",
    "signals = patches.reshape(patches.shape[0], -1)\n",
    "mean = np.mean(signals, axis=axis)\n",
    "mean = mean[:, np.newaxis] if axis > 0 else mean\n",
    "std = np.std(signals, axis=axis)\n",
    "std = std[:, np.newaxis] if axis > 0 else mean\n",
    "signals = signals-mean\n",
    "# signals = (signals-mean)/std"
   ]
  },
  {
   "cell_type": "code",
   "execution_count": 4,
   "id": "5dbd46be",
   "metadata": {},
   "outputs": [],
   "source": [
    "np.random.seed(main_seed)\n",
    "# 64, 50, 40, 32, 16, 8 (64 was not so good | max should be 40?)\n",
    "n_components = 32; alpha = 1; batch_size = 3\n",
    "transform_n_nonzero_coefs = None # 1\n",
    "mode = 'ksvd' # ksvd, dictionary_learning"
   ]
  },
  {
   "cell_type": "code",
   "execution_count": 5,
   "id": "10e8437b",
   "metadata": {},
   "outputs": [],
   "source": [
    "ksvd = ApproximateKSVD(n_components=n_components, max_iter=10, \n",
    "                       transform_n_nonzero_coefs=transform_n_nonzero_coefs)\n",
    "dictionary = ksvd.fit(signals).components_\n",
    "gamma = ksvd.transform(signals)\n",
    "reduced_un = gamma.dot(dictionary)+mean"
   ]
  },
  {
   "cell_type": "code",
   "execution_count": 6,
   "id": "999021f1",
   "metadata": {},
   "outputs": [
    {
     "data": {
      "text/plain": [
       "0.00046797877612576226"
      ]
     },
     "execution_count": 6,
     "metadata": {},
     "output_type": "execute_result"
    }
   ],
   "source": [
    "reduced_un = reconstruct_from_patches_2d(reduced_un.reshape(patches.shape), un_img.shape)\n",
    "reduced_un = np.array(reduced_un).astype(np.float32)\n",
    "((reduced_un-u)**2).mean()"
   ]
  },
  {
   "cell_type": "code",
   "execution_count": 7,
   "id": "9afb8976",
   "metadata": {},
   "outputs": [],
   "source": [
    "Q = 5e-3  # process noise covariance\n",
    "R = 5e-3  # measurement noise covariance\n",
    "\n",
    "Q = 2e-2\n",
    "R = 2e-2\n",
    "\n",
    "# Q = 0.1\n",
    "# R = 0.1\n",
    "\n",
    "initial_state_mean = 0.\n",
    "initial_state_covariance = 1.\n",
    "\n",
    "# ground = np.sin(np.linspace(0, 3*np.pi, 1000))\n",
    "# signal = ground + np.random.randn(1000)*0.5\n",
    "# ((kalman_denoise(signal, Q=Q, R=R).flatten()-signal)**2).mean()\n",
    "# plt.plot(signal)\n",
    "# plt.plot(ground)\n",
    "# plt.show()"
   ]
  },
  {
   "cell_type": "code",
   "execution_count": 8,
   "id": "840f067a",
   "metadata": {},
   "outputs": [],
   "source": [
    "filtered = np.hstack([kalman_denoise(reduced_un[i, :], Q, R, \n",
    "                                     initial_state_mean=initial_state_mean, \n",
    "                                     initial_state_covariance=initial_state_covariance) \n",
    "                      for i in range(len(x))]).T"
   ]
  },
  {
   "cell_type": "code",
   "execution_count": 9,
   "id": "bab497f4",
   "metadata": {},
   "outputs": [
    {
     "data": {
      "text/plain": [
       "0.00027991378880320896"
      ]
     },
     "execution_count": 9,
     "metadata": {},
     "output_type": "execute_result"
    }
   ],
   "source": [
    "# 0.0002801885174306463\n",
    "((filtered-u)**2).mean()"
   ]
  },
  {
   "cell_type": "code",
   "execution_count": 10,
   "id": "2d5d9c6b",
   "metadata": {},
   "outputs": [],
   "source": [
    "smoother_name = 'filterpy'\n",
    "file_name = \"../RDAE_data/{mode}/{smoother_name}/transform_n_nonzero_coefs_none/burgers_dictlearn_denoised{noise_lv}_components{n_components}.npy\".format(mode=mode, smoother_name=smoother_name, noise_lv=noise_lv, n_components=n_components)\n",
    "np.save(file_name, filtered)"
   ]
  },
  {
   "cell_type": "code",
   "execution_count": null,
   "id": "ad96a74d",
   "metadata": {},
   "outputs": [],
   "source": []
  }
 ],
 "metadata": {
  "kernelspec": {
   "display_name": "Python [conda env:pysr_latest]",
   "language": "python",
   "name": "conda-env-pysr_latest-py"
  },
  "language_info": {
   "codemirror_mode": {
    "name": "ipython",
    "version": 3
   },
   "file_extension": ".py",
   "mimetype": "text/x-python",
   "name": "python",
   "nbconvert_exporter": "python",
   "pygments_lexer": "ipython3",
   "version": "3.11.3"
  }
 },
 "nbformat": 4,
 "nbformat_minor": 5
}
