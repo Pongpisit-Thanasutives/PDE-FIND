{
 "cells": [
  {
   "cell_type": "code",
   "execution_count": null,
   "id": "cc506f29",
   "metadata": {},
   "outputs": [],
   "source": [
    "import numpy as np\n",
    "from pykalman import KalmanFilter\n",
    "from scipy.io import loadmat\n",
    "# from skimage.util import img_as_float\n",
    "from sklearn.feature_extraction.image import extract_patches_2d, reconstruct_from_patches_2d\n",
    "from sklearn.decomposition import MiniBatchDictionaryLearning\n",
    "from ksvd import ApproximateKSVD\n",
    "import matplotlib.pyplot as plt\n",
    "%matplotlib inline\n",
    "main_seed = 0\n",
    "\n",
    "# Generate a noisy signal\n",
    "np.random.seed(main_seed)\n",
    "n_samples = 100\n",
    "noise = np.random.randn(n_samples) * 0.01\n",
    "ground = np.sin(np.linspace(0, 3*np.pi, n_samples))\n",
    "signal = ground + noise"
   ]
  },
  {
   "cell_type": "code",
   "execution_count": null,
   "id": "27c6c2ad",
   "metadata": {},
   "outputs": [],
   "source": [
    "# Create a Kalman filter with a constant state transition matrix\n",
    "kf = KalmanFilter(\n",
    "    n_dim_obs=1,  # dimension of observation vector\n",
    "    n_dim_state=1,  # dimension of state vector\n",
    "    transition_matrices=[1],  # state transition matrix\n",
    "    observation_matrices=[1],  # observation matrix\n",
    "    observation_covariance=0.1,  # observation noise covariance\n",
    "    transition_covariance=0.1,  # state transition noise covariance\n",
    "    initial_state_mean=0.0,  # initial state mean\n",
    "    initial_state_covariance=1  # initial state covariance\n",
    ")\n",
    "\n",
    "# Use the Kalman filter to denoise the signal\n",
    "smoothed_signal, _ = kf.smooth(signal)"
   ]
  },
  {
   "cell_type": "code",
   "execution_count": null,
   "id": "ab8ff8c0",
   "metadata": {},
   "outputs": [],
   "source": [
    "# Plot the noisy and denoised signals\n",
    "print(((smoothed_signal.flatten()-ground)**2).mean())\n",
    "plt.plot(signal, label='Noisy signal')\n",
    "plt.plot(smoothed_signal, label='Denoised signal')\n",
    "plt.legend()\n",
    "plt.show()"
   ]
  },
  {
   "cell_type": "code",
   "execution_count": null,
   "id": "c81f556b",
   "metadata": {},
   "outputs": [],
   "source": []
  },
  {
   "cell_type": "code",
   "execution_count": null,
   "id": "bff5274b",
   "metadata": {},
   "outputs": [],
   "source": []
  },
  {
   "cell_type": "code",
   "execution_count": null,
   "id": "a072df90",
   "metadata": {},
   "outputs": [],
   "source": [
    "data = loadmat('../Datasets/burgers.mat')\n",
    "u = (data['usol']).real\n",
    "x = (data['x'][0]).real\n",
    "t = (data['t'][:,0]).real\n",
    "Xd, Td = np.meshgrid(x, t)\n",
    "\n",
    "np.random.seed(0)\n",
    "noise_lv = 30\n",
    "noise = 0.01*np.abs(noise_lv)*(u.std())*np.random.randn(u.shape[0], u.shape[1])\n",
    "\n",
    "un = u+noise"
   ]
  },
  {
   "cell_type": "code",
   "execution_count": null,
   "id": "99965376",
   "metadata": {},
   "outputs": [],
   "source": [
    "div = 20; axis = 1\n",
    "patch_size = (int(256//div), int(101//div))\n",
    "print(patch_size)\n",
    "\n",
    "un_img = un\n",
    "patches = extract_patches_2d(un_img, patch_size)\n",
    "\n",
    "signals = patches.reshape(patches.shape[0], -1)\n",
    "mean = np.mean(signals, axis=axis)\n",
    "mean = mean[:, np.newaxis] if axis > 0 else mean\n",
    "std = np.std(signals, axis=axis)\n",
    "std = std[:, np.newaxis] if axis > 0 else mean\n",
    "signals = signals-mean\n",
    "# signals = (signals-mean)/std"
   ]
  },
  {
   "cell_type": "code",
   "execution_count": null,
   "id": "57561164",
   "metadata": {},
   "outputs": [],
   "source": [
    "np.random.seed(main_seed)\n",
    "# 64, 50, 40, 32, 16, 8 (64 was not so good | max should be 40?)\n",
    "n_components = 32; alpha = 1; batch_size = 3\n",
    "transform_n_nonzero_coefs = None # 1\n",
    "mode = 'ksvd' # ksvd, dictionary_learning\n",
    "\n",
    "# n_components = fconfig[\"n_components\"]"
   ]
  },
  {
   "cell_type": "code",
   "execution_count": null,
   "id": "205f9ae2",
   "metadata": {},
   "outputs": [],
   "source": [
    "ksvd = ApproximateKSVD(n_components=n_components, max_iter=10, \n",
    "                       transform_n_nonzero_coefs=transform_n_nonzero_coefs)\n",
    "dictionary = ksvd.fit(signals).components_\n",
    "gamma = ksvd.transform(signals)\n",
    "reduced_un = gamma.dot(dictionary)+mean"
   ]
  },
  {
   "cell_type": "code",
   "execution_count": null,
   "id": "205c2513",
   "metadata": {},
   "outputs": [],
   "source": [
    "reduced_un = reconstruct_from_patches_2d(reduced_un.reshape(patches.shape), un_img.shape)\n",
    "reduced_un = np.array(reduced_un).astype(np.float32)\n",
    "((reduced_un-u)**2).mean()"
   ]
  },
  {
   "cell_type": "code",
   "execution_count": null,
   "id": "81b4b87e",
   "metadata": {},
   "outputs": [],
   "source": [
    "# Create a Kalman filter with a constant state transition matrix\n",
    "kf = KalmanFilter(\n",
    "    n_dim_obs=1,  # dimension of observation vector\n",
    "    n_dim_state=1,  # dimension of state vector\n",
    "    transition_matrices=[1],  # state transition matrix\n",
    "    observation_matrices=[1],  # observation matrix\n",
    "    observation_covariance=5e-3,  # 0.observation noise covariance\n",
    "    transition_covariance=5e-3,  # state transition noise covariance\n",
    "    initial_state_mean=0,  # initial state mean\n",
    "    initial_state_covariance=1  # initial state covariance\n",
    ")"
   ]
  },
  {
   "cell_type": "code",
   "execution_count": null,
   "id": "cbf33df3",
   "metadata": {},
   "outputs": [],
   "source": [
    "# filtered = np.hstack([kf.smooth(reduced_un[:, i])[0] for i in range(len(t))])\n",
    "filtered = np.hstack([kf.smooth(reduced_un[i, :])[0] for i in range(len(x))]).T"
   ]
  },
  {
   "cell_type": "code",
   "execution_count": null,
   "id": "e7919f22",
   "metadata": {},
   "outputs": [],
   "source": [
    "((filtered-u)**2).mean()"
   ]
  },
  {
   "cell_type": "code",
   "execution_count": null,
   "id": "adcdf48d",
   "metadata": {},
   "outputs": [],
   "source": [
    "plt.contourf(Xd, Td, reduced_un.T, levels=10)\n",
    "plt.colorbar()\n",
    "plt.show() # 0.00011357113834071512"
   ]
  },
  {
   "cell_type": "code",
   "execution_count": null,
   "id": "491f3b52",
   "metadata": {},
   "outputs": [],
   "source": [
    "smoother_name = 'pykalman'\n",
    "file_name = \"../RDAE_data/{mode}/{smoother_name}/transform_n_nonzero_coefs_none/burgers_dictlearn_denoised{noise_lv}_components{n_components}.npy\".format(mode=mode, smoother_name=smoother_name, noise_lv=noise_lv, n_components=n_components)\n",
    "np.save(file_name, filtered)"
   ]
  },
  {
   "cell_type": "code",
   "execution_count": null,
   "id": "4427d59c",
   "metadata": {},
   "outputs": [],
   "source": []
  }
 ],
 "metadata": {
  "kernelspec": {
   "display_name": "Python [conda env:py3.5]",
   "language": "python",
   "name": "conda-env-py3.5-py"
  },
  "language_info": {
   "codemirror_mode": {
    "name": "ipython",
    "version": 3
   },
   "file_extension": ".py",
   "mimetype": "text/x-python",
   "name": "python",
   "nbconvert_exporter": "python",
   "pygments_lexer": "ipython3",
   "version": "3.5.5"
  }
 },
 "nbformat": 4,
 "nbformat_minor": 5
}
