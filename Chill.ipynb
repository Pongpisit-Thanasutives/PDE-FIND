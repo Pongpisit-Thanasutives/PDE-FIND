{
 "cells": [
  {
   "cell_type": "code",
   "execution_count": 1,
   "id": "44ddd300-6f37-4f8f-86ef-b4ed61919d52",
   "metadata": {},
   "outputs": [],
   "source": [
    "def round_number(n):\n",
    "    return float(format(n, '.4f'))"
   ]
  },
  {
   "cell_type": "markdown",
   "id": "b5bb764f-0f62-418f-8d70-c45ce319a174",
   "metadata": {},
   "source": [
    "## Burgers / CWF"
   ]
  },
  {
   "cell_type": "code",
   "execution_count": 2,
   "id": "a7350b13-ff82-4a73-83dd-358af71f3362",
   "metadata": {},
   "outputs": [],
   "source": [
    "# tauhat = 2\n",
    "# 0.7740732130925092 0.6188732130925094\n",
    "# 0.7253072820349596 0.7113072820349567\n",
    "# 7.892080602196768 5.070480602196766\n",
    "\n",
    "# tauhat = 3\n",
    "# 0.7791130414899967 0.4869130414899987\n",
    "# 0.2396882168917218 0.12068821689171935\n",
    "# 8.951472515336972 6.890672515336976"
   ]
  },
  {
   "cell_type": "code",
   "execution_count": 3,
   "id": "d248a72a-d312-4b4d-91c2-f61cb120a005",
   "metadata": {},
   "outputs": [
    {
     "name": "stdout",
     "output_type": "stream",
     "text": [
      "0.7741 0.6189\n",
      "0.7253 0.7113\n",
      "7.8921 5.0705\n"
     ]
    }
   ],
   "source": [
    "print(round_number(0.7740732130925092), round_number(0.6188732130925094))\n",
    "print(round_number(0.7253072820349596), round_number(0.7113072820349567))\n",
    "print(round_number(7.892080602196768), round_number(5.070480602196766))"
   ]
  },
  {
   "cell_type": "code",
   "execution_count": 4,
   "id": "2c54e026-9220-4fba-9d90-3b260e938705",
   "metadata": {},
   "outputs": [
    {
     "name": "stdout",
     "output_type": "stream",
     "text": [
      "0.7791 0.4869\n",
      "0.2397 0.1207\n",
      "8.9515 6.8907\n"
     ]
    }
   ],
   "source": [
    "print(round_number(0.7791130414899967), round_number(0.4869130414899987))\n",
    "print(round_number(0.2396882168917218), round_number(0.12068821689171935))\n",
    "print(round_number(8.951472515336972), round_number(6.890672515336976))"
   ]
  },
  {
   "cell_type": "code",
   "execution_count": null,
   "id": "bd611dbf-fe29-4ebf-aae4-ee9cf3859b20",
   "metadata": {},
   "outputs": [],
   "source": []
  },
  {
   "cell_type": "code",
   "execution_count": null,
   "id": "e14c1802-b947-41a6-b3d3-a67fa72c21d6",
   "metadata": {},
   "outputs": [],
   "source": []
  },
  {
   "cell_type": "markdown",
   "id": "11984dd6-aba2-4734-adf1-07b75f34ecd7",
   "metadata": {},
   "source": [
    "## KdV / CWF"
   ]
  },
  {
   "cell_type": "code",
   "execution_count": 5,
   "id": "704ffaa8-7a42-4e13-b465-506bdb516c72",
   "metadata": {},
   "outputs": [],
   "source": [
    "# tauhat = 2\n",
    "# 0.23466666666666453 0.06933333333332865\n",
    "# 0.11766666666666963 0.11433333333332926\n",
    "# 0.9486666666666643 0.49433333333332996\n",
    "\n",
    "# tauhat = 3\n",
    "# 0.17633333333332651 0.032666666666666025\n",
    "# 0.41799999999999615 0.24899999999999922\n",
    "# 2.144666666666669 1.2863333333333375"
   ]
  },
  {
   "cell_type": "code",
   "execution_count": 6,
   "id": "be75f95e-682b-4634-b985-c5722702c960",
   "metadata": {},
   "outputs": [
    {
     "name": "stdout",
     "output_type": "stream",
     "text": [
      "0.2347 0.0693\n",
      "0.1177 0.1143\n",
      "0.9487 0.4943\n"
     ]
    }
   ],
   "source": [
    "print(round_number(0.23466666666666453), round_number(0.06933333333332865))\n",
    "print(round_number(0.11766666666666963), round_number(0.11433333333332926))\n",
    "print(round_number(0.9486666666666643), round_number(0.49433333333332996))"
   ]
  },
  {
   "cell_type": "code",
   "execution_count": 7,
   "id": "96204311-5697-4cf8-a9b8-ad38870ea523",
   "metadata": {},
   "outputs": [
    {
     "name": "stdout",
     "output_type": "stream",
     "text": [
      "0.1763 0.0327\n",
      "0.418 0.249\n",
      "2.1447 1.2863\n"
     ]
    }
   ],
   "source": [
    "print(round_number(0.17633333333332651), round_number(0.032666666666666025))\n",
    "print(round_number(0.41799999999999615), round_number(0.24899999999999922))\n",
    "print(round_number(2.144666666666669), round_number(1.2863333333333375))"
   ]
  },
  {
   "cell_type": "code",
   "execution_count": null,
   "id": "c8d695d7-da29-4d83-b7de-1f3555b8c1a6",
   "metadata": {},
   "outputs": [],
   "source": []
  },
  {
   "cell_type": "code",
   "execution_count": null,
   "id": "a72562e1-cba6-45cf-a72b-0b2388d2cdd5",
   "metadata": {},
   "outputs": [],
   "source": []
  },
  {
   "cell_type": "markdown",
   "id": "325076cd-7306-40bf-9a63-4a88fbf63b43",
   "metadata": {},
   "source": [
    "## KS / CWF"
   ]
  },
  {
   "cell_type": "code",
   "execution_count": 8,
   "id": "edaf13c7-ff10-4c7c-b634-d9a8a2043568",
   "metadata": {},
   "outputs": [],
   "source": [
    "# tauhat = 2\n",
    "# 0.19126666666666367 0.13470811243408806\n",
    "# 0.5943666666666644 0.5620799013979776\n",
    "# 1.2545666666666677 1.4879807801924758\n",
    "\n",
    "# tauhat = 3\n",
    "# 0.08523333333332699 0.04328096836049247\n",
    "# 0.5628333333333346 0.20663049683486073\n",
    "# 5.225000000000001 3.0562765134500935"
   ]
  },
  {
   "cell_type": "code",
   "execution_count": 9,
   "id": "9acb6e73-cce5-4b71-9ce6-c147d112753a",
   "metadata": {},
   "outputs": [
    {
     "name": "stdout",
     "output_type": "stream",
     "text": [
      "0.1913 0.1347\n",
      "0.5944 0.5621\n",
      "1.2546 1.488\n"
     ]
    }
   ],
   "source": [
    "print(round_number(0.19126666666666367), round_number(0.13470811243408806))\n",
    "print(round_number(0.5943666666666644), round_number(0.5620799013979776))\n",
    "print(round_number(1.2545666666666677), round_number(1.4879807801924758))"
   ]
  },
  {
   "cell_type": "code",
   "execution_count": 10,
   "id": "c7f200a2-55f3-4067-8222-2263e5387546",
   "metadata": {},
   "outputs": [
    {
     "name": "stdout",
     "output_type": "stream",
     "text": [
      "0.0852 0.0433\n",
      "0.5628 0.2066\n",
      "5.225 3.0563\n"
     ]
    }
   ],
   "source": [
    "print(round_number(0.08523333333332699), round_number(0.04328096836049247))\n",
    "print(round_number(0.5628333333333346), round_number(0.20663049683486073))\n",
    "print(round_number(5.225000000000001), round_number(3.0562765134500935))"
   ]
  }
 ],
 "metadata": {
  "kernelspec": {
   "display_name": "Python [conda env:py3.7]",
   "language": "python",
   "name": "conda-env-py3.7-py"
  },
  "language_info": {
   "codemirror_mode": {
    "name": "ipython",
    "version": 3
   },
   "file_extension": ".py",
   "mimetype": "text/x-python",
   "name": "python",
   "nbconvert_exporter": "python",
   "pygments_lexer": "ipython3",
   "version": "3.7.12"
  },
  "widgets": {
   "application/vnd.jupyter.widget-state+json": {
    "state": {},
    "version_major": 2,
    "version_minor": 0
   }
  }
 },
 "nbformat": 4,
 "nbformat_minor": 5
}
