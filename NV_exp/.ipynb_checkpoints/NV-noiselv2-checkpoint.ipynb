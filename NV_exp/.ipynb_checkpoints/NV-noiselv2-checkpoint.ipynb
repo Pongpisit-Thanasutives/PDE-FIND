{
 "cells": [
  {
   "cell_type": "code",
   "execution_count": 1,
   "metadata": {},
   "outputs": [
    {
     "name": "stdout",
     "output_type": "stream",
     "text": [
      "%pylab is deprecated, use %matplotlib inline and import the required libraries.\n",
      "Populating the interactive namespace from numpy and matplotlib\n",
      "Sklearn's version: 1.2.2\n",
      "mrmr is not installed in the env you are using. This may cause an error in future if you try to use the (missing) lib.\n"
     ]
    }
   ],
   "source": [
    "%load_ext autoreload\n",
    "%autoreload 2\n",
    "%pylab inline\n",
    "pylab.rcParams['figure.figsize'] = (12, 8)\n",
    "import warnings; warnings.filterwarnings(\"ignore\")\n",
    "\n",
    "import numpy as np\n",
    "import pandas as pd\n",
    "from mpl_toolkits.mplot3d import Axes3D\n",
    "from sympy import symbols\n",
    "\n",
    "import sys; sys.path.append('../')\n",
    "from PDE_FIND import *\n",
    "\n",
    "import sys; sys.path.append('../../parametric-discovery/')\n",
    "from best_subset import *\n",
    "from frols import frols\n",
    "from p_linear_regression import PLinearRegression\n",
    "from r_pca import R_pca\n",
    "from pde_diff_new import RPCA\n",
    "from RobustPCA.rpca import RobustPCA\n",
    "\n",
    "import scipy.io as sio\n",
    "from scipy.signal import savgol_filter\n",
    "import itertools\n",
    "\n",
    "from sklearn.preprocessing import normalize\n",
    "from sklearn.linear_model import Ridge, BayesianRidge, LinearRegression as SkLinearRegression\n",
    "from sklearn.base import BaseEstimator\n",
    "from sklearn.pipeline import make_pipeline\n",
    "from sklearn.metrics import mean_squared_error\n",
    "from abess.linear import LinearRegression\n",
    "import pysindy as ps\n",
    "\n",
    "from tqdm import trange\n",
    "from os.path import join as join_path\n",
    "FIGURE_EXPORT_PATH = \"./\"\n",
    "\n",
    "from misc import h5file\n",
    "import pickle\n",
    "with open(\"../Datasets/nv_desc.pkl\", \"rb\") as desc_fp:\n",
    "    description = pickle.load(desc_fp)\n",
    "ground_indices = (3, 5, 16, 24)\n",
    "ground_coeffs = np.array([0.01, 0.01, -1, -1])"
   ]
  },
  {
   "cell_type": "code",
   "execution_count": 2,
   "metadata": {},
   "outputs": [
    {
     "name": "stdout",
     "output_type": "stream",
     "text": [
      "['X', 'wt']\n"
     ]
    }
   ],
   "source": [
    "Xr, wtr = h5file(\"../Datasets/nv_originalV2_noiselv2.h5\")\n",
    "# Xr, wtr = h5file(\"../Datasets/nv_newcut_original_noiselv2.h5\")\n",
    "Xr = Xr.real[:, 1:]\n",
    "wtr = wtr.real\n",
    "description = description[1:]"
   ]
  },
  {
   "cell_type": "code",
   "execution_count": 3,
   "metadata": {},
   "outputs": [],
   "source": [
    "combine = False\n",
    "if not combine:\n",
    "    newXr = Xr\n",
    "else:\n",
    "    # Combine features\n",
    "    newXr = np.hstack((Xr, Xr[:, 2:3]+Xr[:, 4:5], Xr[:, 15:16]+Xr[:, 23:24]))\n",
    "    description.append(f\"{description[2]}+{description[4]}\")\n",
    "    description.append(f\"{description[15]}+{description[23]}\")\n",
    "    newXr = np.delete(newXr, [2, 4, 15, 23], axis=1)\n",
    "    print(description.pop(2))\n",
    "    print(description.pop(4-1))\n",
    "    print(description.pop(15-2))\n",
    "    print(description.pop(23-3))"
   ]
  },
  {
   "cell_type": "code",
   "execution_count": 4,
   "metadata": {},
   "outputs": [
    {
     "name": "stdout",
     "output_type": "stream",
     "text": [
      "l0_penalty: 1.3911409799391197\n",
      "w_t = (0.011551 +0.000000i)w_{xx}\n",
      "    + (0.008421 +0.000000i)w_{yy}\n",
      "    + (-0.980764 +0.000000i)uw_{x}\n",
      "    + (-0.971890 +0.000000i)vw_{y}\n",
      "    + (-0.009184 +0.000000i)uw_{yy}\n",
      "    + (0.006396 +0.000000i)u^2w_{yy}\n",
      "   \n"
     ]
    }
   ],
   "source": [
    "lam = 10**-6\n",
    "d_tol = 5\n",
    "c = TrainSTRidge(newXr,wtr,lam,d_tol)\n",
    "print_pde(c, description, ut = 'w_t')"
   ]
  },
  {
   "cell_type": "code",
   "execution_count": 5,
   "metadata": {},
   "outputs": [],
   "source": [
    "def ic(effective_indices, dataset, ic_type='bic'):\n",
    "    s = len(effective_indices)\n",
    "    XX, yy = dataset\n",
    "    XX = XX[:, effective_indices]\n",
    "    abess_model = LinearRegression(support_size=s, ic_type=ic_type, always_select=None)\n",
    "    abess_model.fit(XX, yy)\n",
    "    return abess_model.ic_"
   ]
  },
  {
   "cell_type": "code",
   "execution_count": 6,
   "metadata": {},
   "outputs": [
    {
     "name": "stdout",
     "output_type": "stream",
     "text": [
      "(0,)\n",
      "(0, 23)\n",
      "(4, 15, 23)\n",
      "(2, 4, 15, 23)\n",
      "(2, 4, 15, 23, 58)\n",
      "(2, 4, 15, 23, 27, 58)\n",
      "(0, 2, 4, 15, 20, 23, 58)\n",
      "(0, 2, 4, 15, 20, 23, 53, 58)\n",
      "(0, 2, 4, 15, 20, 23, 27, 53, 58)\n"
     ]
    }
   ],
   "source": [
    "lrs = []\n",
    "eff_indices = []\n",
    "max_complexity = 10\n",
    "for s in range(1, max_complexity):\n",
    "    lr = LinearRegression(support_size=s, ic_type='bic', always_select=None)\n",
    "    lr.fit(newXr, wtr)\n",
    "    lrs.append(lr)\n",
    "    eff_indices.append(nonz(lr.coef_))\n",
    "    print(nonz(lr.coef_))\n",
    "abess_feature_hierarchy = set(eff_indices)"
   ]
  },
  {
   "cell_type": "code",
   "execution_count": 7,
   "metadata": {},
   "outputs": [
    {
     "data": {
      "text/plain": [
       "{(0,),\n",
       " (0, 2, 4, 5, 15, 20, 23, 27, 53, 58),\n",
       " (0, 2, 4, 15, 20, 23),\n",
       " (0, 2, 4, 15, 20, 23, 27, 53, 58),\n",
       " (0, 2, 4, 15, 20, 23, 53),\n",
       " (0, 2, 4, 15, 20, 23, 53, 58),\n",
       " (0, 4, 15, 20, 23),\n",
       " (0, 15, 20),\n",
       " (0, 15, 20, 23),\n",
       " (0, 20)}"
      ]
     },
     "execution_count": 7,
     "metadata": {},
     "output_type": "execute_result"
    }
   ],
   "source": [
    "nor_axis = 0\n",
    "if nor_axis is not None: Xfrols = normalize(newXr, axis=nor_axis)\n",
    "else: Xfrols = newXr.copy()\n",
    "frols_coeffs,selected_inds_list,_,_,_ = frols(wtr, Xfrols, max_nonzeros=max_complexity)\n",
    "selected_inds_list = set(selected_inds_list)\n",
    "selected_inds_list"
   ]
  },
  {
   "cell_type": "code",
   "execution_count": 8,
   "metadata": {},
   "outputs": [],
   "source": [
    "feature_hierarchy = abess_feature_hierarchy.union(selected_inds_list)"
   ]
  },
  {
   "cell_type": "code",
   "execution_count": 9,
   "metadata": {},
   "outputs": [
    {
     "name": "stdout",
     "output_type": "stream",
     "text": [
      "RFE_PLinearRegression\n",
      "(2, 4, 15, 23, 58)\n",
      "(2, 4, 15, 23)\n",
      "(4, 15, 23)\n",
      "(15, 23)\n",
      "(15,)\n",
      "--------------------------------------------------\n",
      "(0, 2, 4, 15, 20, 23, 53)\n",
      "(2, 4, 15, 20, 23, 53)\n",
      "(2, 4, 15, 23, 53)\n",
      "(2, 4, 15, 23)\n",
      "--------------------------------------------------\n",
      "(0, 2, 4, 15, 20, 23, 53, 58)\n",
      "(0, 2, 4, 15, 20, 23, 53)\n",
      "--------------------------------------------------\n",
      "(0, 2, 4, 15, 20, 23, 27, 53, 58)\n",
      "(2, 4, 15, 20, 23, 27, 53, 58)\n",
      "(2, 4, 15, 20, 23, 27, 53)\n",
      "(2, 4, 15, 20, 23, 53)\n",
      "--------------------------------------------------\n",
      "(0, 15, 20)\n",
      "(0, 20)\n",
      "(0,)\n",
      "--------------------------------------------------\n",
      "(2, 4, 15, 23, 27, 58)\n",
      "(2, 4, 15, 23, 58)\n",
      "--------------------------------------------------\n",
      "(0, 15, 20, 23)\n",
      "(15, 20, 23)\n",
      "(15, 23)\n",
      "--------------------------------------------------\n",
      "(0, 23)\n",
      "(0,)\n",
      "--------------------------------------------------\n",
      "(0, 20)\n",
      "--------------------------------------------------\n",
      "(0, 2, 4, 15, 20, 23, 58)\n",
      "(0, 2, 4, 15, 23, 58)\n",
      "(2, 4, 15, 23, 58)\n",
      "--------------------------------------------------\n",
      "(4, 15, 23)\n",
      "--------------------------------------------------\n",
      "(0, 4, 15, 20, 23)\n",
      "(4, 15, 20, 23)\n",
      "(4, 15, 23)\n",
      "--------------------------------------------------\n",
      "(0, 2, 4, 15, 20, 23)\n",
      "(2, 4, 15, 20, 23)\n",
      "(2, 4, 15, 23)\n",
      "--------------------------------------------------\n",
      "(0, 2, 4, 5, 15, 20, 23, 27, 53, 58)\n",
      "(2, 4, 5, 15, 20, 23, 27, 53, 58)\n",
      "(2, 4, 15, 20, 23, 27, 53, 58)\n",
      "--------------------------------------------------\n",
      "(2, 4, 15, 23)\n",
      "--------------------------------------------------\n",
      "SelectKBest\n",
      "(2, 4, 15, 23, 58)\n",
      "(2, 4, 15, 23)\n",
      "(4, 15, 23)\n",
      "(15, 23)\n",
      "(15,)\n",
      "--------------------------------------------------\n",
      "(0, 2, 4, 15, 20, 23, 53)\n",
      "(2, 4, 15, 20, 23, 53)\n",
      "(2, 4, 15, 23, 53)\n",
      "(2, 4, 15, 23)\n",
      "--------------------------------------------------\n",
      "(0, 2, 4, 15, 20, 23, 53, 58)\n",
      "(0, 2, 4, 15, 20, 23, 53)\n",
      "--------------------------------------------------\n",
      "(0, 2, 4, 15, 20, 23, 27, 53, 58)\n",
      "(2, 4, 15, 20, 23, 27, 53, 58)\n",
      "(2, 4, 15, 20, 23, 27, 53)\n",
      "(2, 4, 15, 20, 23, 53)\n",
      "--------------------------------------------------\n",
      "(0, 15, 20)\n",
      "(0, 20)\n",
      "(0,)\n",
      "--------------------------------------------------\n",
      "(2, 4, 15, 23, 27, 58)\n",
      "(2, 4, 15, 23, 58)\n",
      "--------------------------------------------------\n",
      "(0, 15, 20, 23)\n",
      "(15, 20, 23)\n",
      "(15, 23)\n",
      "--------------------------------------------------\n",
      "(0, 23)\n",
      "(0,)\n",
      "--------------------------------------------------\n",
      "(0, 20)\n",
      "--------------------------------------------------\n",
      "(0, 2, 4, 15, 20, 23, 58)\n",
      "(0, 2, 4, 15, 23, 58)\n",
      "(2, 4, 15, 23, 58)\n",
      "--------------------------------------------------\n",
      "(4, 15, 23)\n",
      "--------------------------------------------------\n",
      "(0, 4, 15, 20, 23)\n",
      "(4, 15, 20, 23)\n",
      "(4, 15, 23)\n",
      "--------------------------------------------------\n",
      "(0, 2, 4, 15, 20, 23)\n",
      "(2, 4, 15, 20, 23)\n",
      "(2, 4, 15, 23)\n",
      "--------------------------------------------------\n",
      "(0, 2, 4, 5, 15, 20, 23, 27, 53, 58)\n",
      "(2, 4, 5, 15, 20, 23, 27, 53, 58)\n",
      "(2, 4, 15, 20, 23, 27, 53, 58)\n",
      "--------------------------------------------------\n",
      "(2, 4, 15, 23)\n",
      "--------------------------------------------------\n"
     ]
    },
    {
     "data": {
      "text/plain": [
       "{1: ((0,), 273464.4246791447), 2: ((15, 23), -231816.91759647388), 3: ((4, 15, 23), -354759.44659437705), 4: ((2, 4, 15, 23), -411415.3523686379), 5: ((2, 4, 15, 23, 58), -424707.35307596525), 6: ((2, 4, 15, 20, 23, 53), -431197.6667018902), 7: ((2, 4, 15, 20, 23, 27, 53), -442226.8161312662), 8: ((2, 4, 15, 20, 23, 27, 53, 58), -449815.3193933275), 9: ((2, 4, 5, 15, 20, 23, 27, 53, 58), -454325.76663038024), 10: ((0, 2, 4, 5, 15, 20, 23, 27, 53, 58), -455643.04169511213)}"
      ]
     },
     "execution_count": 9,
     "metadata": {},
     "output_type": "execute_result"
    }
   ],
   "source": [
    "ic_type = 'bic' # bic, aic, aicc, hqic\n",
    "br1 = backward_refinement(feature_hierarchy, (newXr, wtr), mode='rfe', ic_type=ic_type, verbose=True)\n",
    "br2 = backward_refinement(feature_hierarchy, (newXr, wtr), mode='k best', ic_type=ic_type, verbose=True)\n",
    "br_u=br1+br2; br_u"
   ]
  },
  {
   "cell_type": "code",
   "execution_count": 10,
   "metadata": {},
   "outputs": [
    {
     "name": "stdout",
     "output_type": "stream",
     "text": [
      "(0,) 273464.4246791447\n",
      "(15, 23) -231816.91759647388\n",
      "(4, 15, 23) -354759.44659437705\n",
      "(2, 4, 15, 23) -411415.3523686379\n",
      "(2, 4, 15, 23, 58) -424707.35307596525\n",
      "(2, 4, 15, 20, 23, 53) -431197.6667018902\n",
      "(2, 4, 15, 20, 23, 27, 53) -442226.8161312662\n",
      "(2, 4, 15, 20, 23, 27, 53, 58) -449815.3193933275\n",
      "(2, 4, 5, 15, 20, 23, 27, 53, 58) -454325.76663038024\n",
      "(0, 2, 4, 5, 15, 20, 23, 27, 53, 58) -455643.04169511213\n"
     ]
    }
   ],
   "source": [
    "complexities = np.array(sorted(list(br_u.track.keys())))\n",
    "bic_scores = []\n",
    "eff_feature_names = []\n",
    "for com in complexities:\n",
    "    indices, bic = br_u.track[com]\n",
    "    bic_scores.append(bic)\n",
    "    print(indices, bic)\n",
    "bic_scores = np.array(bic_scores)\n",
    "min_bic_score = np.min(bic_scores)\n",
    "div_scale = 1e3\n",
    "rel_bic_scores = (bic_scores-min_bic_score)/div_scale"
   ]
  },
  {
   "cell_type": "code",
   "execution_count": null,
   "metadata": {},
   "outputs": [],
   "source": []
  },
  {
   "cell_type": "code",
   "execution_count": null,
   "metadata": {},
   "outputs": [],
   "source": []
  },
  {
   "cell_type": "markdown",
   "metadata": {},
   "source": [
    "#### Model selection"
   ]
  },
  {
   "cell_type": "code",
   "execution_count": 11,
   "metadata": {},
   "outputs": [],
   "source": [
    "from UBIC import UBICs, baye_uncertainties, log_like_value"
   ]
  },
  {
   "cell_type": "code",
   "execution_count": 12,
   "metadata": {},
   "outputs": [],
   "source": [
    "best_subsets = [br_u.track[com][0] for com in complexities]\n",
    "n_lams = 3"
   ]
  },
  {
   "cell_type": "code",
   "execution_count": 13,
   "metadata": {
    "scrolled": true
   },
   "outputs": [
    {
     "name": "stdout",
     "output_type": "stream",
     "text": [
      "n_lams = 3\n",
      "Using OLS's uncertainties\n",
      "[2.09469851 1.23535638 1.02475071 1.         1.00167896 2.00635582\n",
      " 3.17990087 3.19383736 4.52924887 6.36578533]\n",
      "0 ---> 10\n",
      "1.5 ---> 10\n",
      "3.0 ---> 5\n",
      "4.5 ---> 5\n",
      "6.0 ---> 4\n",
      "7.5 ---> 4\n",
      "9.0 ---> 4\n",
      "[26690833.74931014 15347926.65296439 12568922.8051724  12200122.4012697\n",
      " 12208004.72006429 24872034.54699043 39661213.05567105 39829385.13400323\n",
      " 56666467.34981214 79826698.98343161]\n",
      "The optimal complexity is currently at the support sizes of 4.\n"
     ]
    },
    {
     "data": {
      "text/plain": [
       "([array([ 273490.84204847, -231801.3378529 , -354746.52291213,\n",
       "         -411402.74083088, -424694.72036389, -431172.36346968,\n",
       "         -442186.71269139, -449775.04019287, -454268.64583726,\n",
       "         -455562.75935309]),\n",
       "  array([ 274299.8152477 , -231324.24284603, -354350.76387766,\n",
       "         -411016.54052765, -424307.8716442 , -430397.5082423 ,\n",
       "         -440958.63401124, -448541.5792357 , -452519.44855035,\n",
       "         -453104.29112819]),\n",
       "  array([ 299881.79400378, -216237.17402591, -341835.76434261,\n",
       "         -398803.814615  , -412074.64100282, -405894.4344882 ,\n",
       "         -402123.37625946, -409536.11893993, -397204.97351394,\n",
       "         -375360.69966999]),\n",
       "  array([1108854.99323612,  260857.83284689,   53923.27012439,\n",
       "          -12603.51138163,  -25225.92131366,  368960.79289223,\n",
       "          825955.3038938 ,  823924.83823887, 1351992.31340188,\n",
       "         2083107.52522544]),\n",
       "  array([26690833.74931014, 15347926.65296439, 12568922.8051724 ,\n",
       "         12200122.4012697 , 12208004.72006429, 24872034.54699043,\n",
       "         39661213.05567105, 39829385.13400323, 56666467.34981214,\n",
       "         79826698.98343161]),\n",
       "  array([8.35664033e+08, 4.92442934e+08, 4.08327957e+08, 3.98400426e+08,\n",
       "         3.99056724e+08, 7.99727262e+08, 1.26773989e+09, 1.27329034e+09,\n",
       "         1.80586375e+09, 2.53829492e+09]),\n",
       "  array([2.64176428e+10, 1.55795118e+10, 1.29233275e+10, 1.26111263e+10,\n",
       "         1.26322874e+10, 2.53028010e+10, 4.01029976e+10, 4.02787506e+10,\n",
       "         5.71203388e+10, 8.02818864e+10])],\n",
       " 3,\n",
       " 6.0)"
      ]
     },
     "execution_count": 13,
     "metadata": {},
     "output_type": "execute_result"
    }
   ],
   "source": [
    "ics, bc, lam = UBICs(best_subsets, (newXr, wtr), u_type='cv', delta=1.5, n_lams=n_lams)\n",
    "ics, bc, lam"
   ]
  },
  {
   "cell_type": "code",
   "execution_count": 14,
   "metadata": {},
   "outputs": [
    {
     "data": {
      "image/png": "[encoded data removed]",
      "text/plain": [
       "<Figure size 864x576 with 1 Axes>"
      ]
     },
     "metadata": {
      "needs_background": "light"
     },
     "output_type": "display_data"
    }
   ],
   "source": [
    "plt.plot(ics[-n_lams]); plt.show()"
   ]
  },
  {
   "cell_type": "code",
   "execution_count": 15,
   "metadata": {},
   "outputs": [
    {
     "name": "stdout",
     "output_type": "stream",
     "text": [
      "n_lams = 3\n",
      "Using OLS's uncertainties\n",
      "[2.09469851 1.23535638 1.02475071 1.         1.00167896 2.00635582\n",
      " 3.17990087 3.19383736 4.52924887 6.36578533]\n",
      "0 ---> 10\n",
      "1.0 ---> 10\n",
      "2.0 ---> 9\n",
      "3.0 ---> 5\n",
      "4.0 ---> 5\n",
      "5.0 ---> 5\n",
      "[ 299881.79400378 -216237.17402591 -341835.76434261 -398803.814615\n",
      " -412074.64100282 -405894.4344882  -402123.37625946 -409536.11893993\n",
      " -397204.97351394 -375360.69966999]\n",
      "4 to 5 complexity may not be worthy.\n",
      "Staying at 4 complexity...\n",
      "The optimal complexity is currently at the support sizes of 4.\n"
     ]
    },
    {
     "data": {
      "text/plain": [
       "([array([ 273490.84204847, -231801.3378529 , -354746.52291213,\n",
       "         -411402.74083088, -424694.72036389, -431172.36346968,\n",
       "         -442186.71269139, -449775.04019287, -454268.64583726,\n",
       "         -455562.75935309]),\n",
       "  array([ 273728.59837239, -231661.12016077, -354630.20977186,\n",
       "         -411289.2369911 , -424581.02595523, -430944.63437975,\n",
       "         -441825.78173255, -449412.52738879, -453754.55869922,\n",
       "         -454840.21827486]),\n",
       "  array([ 276106.16161161, -230258.94323942, -353467.0783692 ,\n",
       "         -410154.19859327, -423444.08186865, -428667.34348052,\n",
       "         -438216.47214409, -445787.39934799, -448613.68731874,\n",
       "         -447614.8074926 ]),\n",
       "  array([ 299881.79400378, -216237.17402591, -341835.76434261,\n",
       "         -398803.814615  , -412074.64100282, -405894.4344882 ,\n",
       "         -402123.37625946, -409536.11893993, -397204.97351394,\n",
       "         -375360.69966999]),\n",
       "  array([ 537638.11792545,  -76019.48189087, -225522.62407671,\n",
       "         -285299.97483225, -298380.23234456, -178165.34456497,\n",
       "          -41192.41741324,  -47023.31485936,  116882.16453404,\n",
       "          347180.37855616]),\n",
       "  array([2915201.35714224, 1326157.43945961,  937608.7785823 ,\n",
       "          849738.4229952 ,  838563.85423806, 2099125.55466734,\n",
       "         3568117.17104897, 3578104.72594633, 5257753.54501387,\n",
       "         7572591.16081756])],\n",
       " 3,\n",
       " 3.0)"
      ]
     },
     "execution_count": 15,
     "metadata": {},
     "output_type": "execute_result"
    }
   ],
   "source": [
    "ics, bc, lam = UBICs(best_subsets, (newXr, wtr), u_type='cv', delta=1.0, n_lams=n_lams)\n",
    "ics, bc, lam"
   ]
  },
  {
   "cell_type": "code",
   "execution_count": 16,
   "metadata": {},
   "outputs": [
    {
     "data": {
      "image/png": "[encoded data removed]",
      "text/plain": [
       "<Figure size 864x576 with 1 Axes>"
      ]
     },
     "metadata": {
      "needs_background": "light"
     },
     "output_type": "display_data"
    }
   ],
   "source": [
    "plt.plot(ics[-n_lams]); plt.show()"
   ]
  },
  {
   "cell_type": "code",
   "execution_count": 17,
   "metadata": {},
   "outputs": [
    {
     "name": "stdout",
     "output_type": "stream",
     "text": [
      "n_lams = 3\n",
      "Using baye_uncertainties\n",
      "[2.09458473 1.23535876 1.02475245 1.         1.00167332 2.00634903\n",
      " 3.17988459 3.19380499 4.52919461 6.36568686]\n",
      "0 ---> 10\n",
      "1.3333333333333333 ---> 10\n",
      "2.6666666666666665 ---> 8\n",
      "4.0 ---> 5\n",
      "5.333333333333333 ---> 5\n",
      "6.666666666666666 ---> 4\n",
      "7.999999999999999 ---> 4\n",
      "9.333333333333332 ---> 4\n",
      "[1.22885371e+08 7.20830862e+07 5.96317615e+07 5.81261575e+07\n",
      " 5.82108177e+07 1.17015605e+08 1.85700499e+08 1.86507777e+08\n",
      " 2.64673733e+08 3.72176215e+08]\n",
      "The optimal complexity is currently at the support sizes of 4.\n"
     ]
    },
    {
     "data": {
      "text/plain": [
       "([array([ 273490.84061354, -231801.33782288, -354746.52289022,\n",
       "         -411402.74083088, -424694.72043505, -431172.36355529,\n",
       "         -442186.71289676, -449775.04060113, -454268.64652162,\n",
       "         -455562.76059498]),\n",
       "  array([ 274033.53873335, -231481.26154962, -354481.01382877,\n",
       "         -411143.64502433, -424435.19107783, -430652.52693393,\n",
       "         -441362.81813527, -448947.53912141, -453095.15119216,\n",
       "         -453913.43782426]),\n",
       "  array([ 285725.61528884, -224585.42728396, -348760.79450363,\n",
       "         -405561.59508744, -418843.80057512, -419452.9864318 ,\n",
       "         -423612.54358428, -431119.56018198, -427812.96072852,\n",
       "         -418379.85590128]),\n",
       "  array([ 537623.76858533,  -76019.18169749, -225522.40501701,\n",
       "         -285299.97483225, -298380.94392947, -178166.20072977,\n",
       "          -41194.47108202,  -47027.39737927,  116875.32102007,\n",
       "          347167.95965819]),\n",
       "  array([ 5964604.96675456,  3124743.55089555,  2429568.20951929,\n",
       "          2305658.09073988,  2296912.62824784,  5020200.01289773,\n",
       "          8197753.14385812,  8227987.39973599, 11851828.61555027,\n",
       "         16840395.66685281]),\n",
       "  array([1.22885371e+08, 7.20830862e+07, 5.96317615e+07, 5.81261575e+07,\n",
       "         5.82108177e+07, 1.17015605e+08, 1.85700499e+08, 1.86507777e+08,\n",
       "         2.64673733e+08, 3.72176215e+08]),\n",
       "  array([2.64186690e+09, 1.55774554e+09, 1.29201566e+09, 1.26074236e+09,\n",
       "         1.26283938e+09, 2.52988346e+09, 4.00988122e+09, 4.02742940e+09,\n",
       "         5.71155655e+09, 8.02765437e+09]),\n",
       "  array([5.69116789e+10, 3.35653729e+10, 2.78429218e+10, 2.71703230e+10,\n",
       "         2.72157751e+10, 5.45135456e+10, 8.63993574e+10, 8.67775774e+10,\n",
       "         1.23061089e+11, 1.72959931e+11])],\n",
       " 3,\n",
       " 6.666666666666666)"
      ]
     },
     "execution_count": 17,
     "metadata": {},
     "output_type": "execute_result"
    }
   ],
   "source": [
    "ics, bc, lam = UBICs(best_subsets, (newXr, wtr), u_type='cv', take_sqrt=True, use_baye=True, delta=(1+1/3), n_lams=n_lams)\n",
    "ics, bc, lam"
   ]
  },
  {
   "cell_type": "code",
   "execution_count": 18,
   "metadata": {},
   "outputs": [
    {
     "data": {
      "image/png": "[encoded data removed]",
      "text/plain": [
       "<Figure size 864x576 with 1 Axes>"
      ]
     },
     "metadata": {
      "needs_background": "light"
     },
     "output_type": "display_data"
    }
   ],
   "source": [
    "plt.plot(ics[-n_lams]); plt.show()"
   ]
  },
  {
   "cell_type": "code",
   "execution_count": 19,
   "metadata": {},
   "outputs": [
    {
     "data": {
      "text/plain": [
       "4.2255011471362325"
      ]
     },
     "execution_count": 19,
     "metadata": {},
     "output_type": "execute_result"
    }
   ],
   "source": [
    "b_uns = baye_uncertainties(best_subsets, (newXr, wtr), u_type='cv', take_sqrt=True)\n",
    "lower_bounds = []\n",
    "for efi in best_subsets:\n",
    "    com = len(efi)\n",
    "    w = np.linalg.lstsq(newXr[:, efi], wtr, rcond=None)[0]\n",
    "    pred = newXr[:, efi]@w\n",
    "    lower_bound = log_like_value(pred, wtr)/np.log(len(wtr))-com\n",
    "    lower_bounds.append(lower_bound)\n",
    "max_lam = max(np.nan_to_num(np.log10(lower_bounds/b_uns)))\n",
    "delta = np.linspace(0, max_lam, 5)[1]\n",
    "max_lam"
   ]
  },
  {
   "cell_type": "code",
   "execution_count": 20,
   "metadata": {},
   "outputs": [
    {
     "name": "stdout",
     "output_type": "stream",
     "text": [
      "n_lams = 3\n",
      "Using baye_uncertainties\n",
      "[2.09458473 1.23535876 1.02475245 1.         1.00167332 2.00634903\n",
      " 3.17988459 3.19380499 4.52919461 6.36568686]\n",
      "0 ---> 10\n",
      "1.0563752867840581 ---> 10\n",
      "2.1127505735681162 ---> 9\n",
      "3.1691258603521746 ---> 5\n",
      "4.2255011471362325 ---> 5\n",
      "[ 312457.89047368 -208819.08001931 -335682.32410605 -392799.02940458\n",
      " -406059.87901292 -393846.8250946  -383029.05769523 -390358.4142267\n",
      " -370008.81708113 -337137.35926176]\n",
      "4 to 5 complexity may not be worthy.\n",
      "Staying at 4 complexity...\n",
      "The optimal complexity is currently at the support sizes of 4.\n"
     ]
    }
   ],
   "source": [
    "n_lams = 3\n",
    "ics, bc, lam = UBICs(best_subsets, \n",
    "                     (newXr, wtr), \n",
    "                     u_type='cv', take_sqrt=True, use_baye=True, \n",
    "                     max_lam=max_lam,\n",
    "                     delta=delta, \n",
    "                     n_lams=n_lams)\n",
    "# ics[-n_lams], bc, lam"
   ]
  },
  {
   "cell_type": "code",
   "execution_count": 21,
   "metadata": {},
   "outputs": [
    {
     "data": {
      "text/plain": [
       "3.1691258603521746"
      ]
     },
     "execution_count": 21,
     "metadata": {},
     "output_type": "execute_result"
    }
   ],
   "source": [
    "lam"
   ]
  },
  {
   "cell_type": "code",
   "execution_count": null,
   "metadata": {},
   "outputs": [],
   "source": []
  }
 ],
 "metadata": {
  "anaconda-cloud": {},
  "kernelspec": {
   "display_name": "Python [conda env:pysr]",
   "language": "python",
   "name": "conda-env-pysr-py"
  },
  "language_info": {
   "codemirror_mode": {
    "name": "ipython",
    "version": 3
   },
   "file_extension": ".py",
   "mimetype": "text/x-python",
   "name": "python",
   "nbconvert_exporter": "python",
   "pygments_lexer": "ipython3",
   "version": "3.10.10"
  },
  "widgets": {
   "application/vnd.jupyter.widget-state+json": {
    "state": {},
    "version_major": 2,
    "version_minor": 0
   }
  }
 },
 "nbformat": 4,
 "nbformat_minor": 4
}
