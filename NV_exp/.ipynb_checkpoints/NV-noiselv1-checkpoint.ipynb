{
 "cells": [
  {
   "cell_type": "code",
   "execution_count": 1,
   "metadata": {},
   "outputs": [
    {
     "name": "stdout",
     "output_type": "stream",
     "text": [
      "%pylab is deprecated, use %matplotlib inline and import the required libraries.\n",
      "Populating the interactive namespace from numpy and matplotlib\n",
      "Sklearn's version: 1.2.2\n",
      "mrmr is not installed in the env you are using. This may cause an error in future if you try to use the (missing) lib.\n"
     ]
    }
   ],
   "source": [
    "%load_ext autoreload\n",
    "%autoreload 2\n",
    "%pylab inline\n",
    "pylab.rcParams['figure.figsize'] = (12, 8)\n",
    "import warnings; warnings.filterwarnings(\"ignore\")\n",
    "\n",
    "import numpy as np\n",
    "import pandas as pde_diff_new\n",
    "from mpl_toolkits.mplot3d import Axes3D\n",
    "from sympy import symbols\n",
    "\n",
    "import sys; sys.path.append('../')\n",
    "from PDE_FIND import *\n",
    "\n",
    "import sys; sys.path.append('../../parametric-discovery/')\n",
    "from best_subset import *\n",
    "from frols import frols\n",
    "from p_linear_regression import PLinearRegression\n",
    "from r_pca import R_pca\n",
    "from pde_diff_new import RPCA\n",
    "from RobustPCA.rpca import RobustPCA\n",
    "\n",
    "import scipy.io as sio\n",
    "from scipy.signal import savgol_filter\n",
    "import itertools\n",
    "\n",
    "from sklearn.preprocessing import normalize\n",
    "from sklearn.linear_model import Ridge, BayesianRidge, LinearRegression as SkLinearRegression\n",
    "from sklearn.base import BaseEstimator\n",
    "from sklearn.pipeline import make_pipeline\n",
    "from sklearn.metrics import mean_squared_error\n",
    "from abess.linear import LinearRegression\n",
    "import pysindy as ps\n",
    "\n",
    "from tqdm import trange\n",
    "from os.path import join as join_path\n",
    "FIGURE_EXPORT_PATH = \"./\"\n",
    "\n",
    "from misc import h5file\n",
    "import pickle\n",
    "with open(\"../Datasets/nv_desc.pkl\", \"rb\") as desc_fp:\n",
    "    description = pickle.load(desc_fp)\n",
    "ground_indices = (3, 5, 16, 24)\n",
    "ground_coeffs = np.array([0.01, 0.01, -1, -1])"
   ]
  },
  {
   "cell_type": "code",
   "execution_count": 2,
   "metadata": {},
   "outputs": [
    {
     "name": "stdout",
     "output_type": "stream",
     "text": [
      "['X', 'wt']\n"
     ]
    }
   ],
   "source": [
    "Xr, wtr = h5file(\"../Datasets/nv_original_noiselv1.h5\")\n",
    "Xr = Xr.real[:, 1:]\n",
    "wtr = wtr.real\n",
    "description = description[1:]"
   ]
  },
  {
   "cell_type": "code",
   "execution_count": 3,
   "metadata": {},
   "outputs": [],
   "source": [
    "combine = False\n",
    "if not combine:\n",
    "    newXr = Xr\n",
    "else:\n",
    "    # Combine features\n",
    "    newXr = np.hstack((Xr, Xr[:, 2:3]+Xr[:, 4:5], Xr[:, 15:16]+Xr[:, 23:24]))\n",
    "    description.append(f\"{description[2]}+{description[4]}\")\n",
    "    description.append(f\"{description[15]}+{description[23]}\")\n",
    "    newXr = np.delete(newXr, [2, 4, 15, 23], axis=1)\n",
    "    print(description.pop(2))\n",
    "    print(description.pop(4-1))\n",
    "    print(description.pop(15-2))\n",
    "    print(description.pop(23-3))"
   ]
  },
  {
   "cell_type": "code",
   "execution_count": 4,
   "metadata": {},
   "outputs": [
    {
     "name": "stdout",
     "output_type": "stream",
     "text": [
      "l0_penalty: 1.343830160608762\n",
      "w_t = (0.010753 +0.000000i)w_{xx}\n",
      "    + (0.008376 +0.000000i)w_{yy}\n",
      "    + (-0.987751 +0.000000i)uw_{x}\n",
      "    + (-0.982905 +0.000000i)vw_{y}\n",
      "   \n"
     ]
    }
   ],
   "source": [
    "lam = 10**-6\n",
    "d_tol = 5\n",
    "c = TrainSTRidge(newXr,wtr,lam,d_tol)\n",
    "print_pde(c, description, ut = 'w_t')"
   ]
  },
  {
   "cell_type": "code",
   "execution_count": 5,
   "metadata": {},
   "outputs": [],
   "source": [
    "def ic(effective_indices, dataset, ic_type='bic'):\n",
    "    s = len(effective_indices)\n",
    "    XX, yy = dataset\n",
    "    XX = XX[:, effective_indices]\n",
    "    abess_model = LinearRegression(support_size=s, ic_type=ic_type, always_select=None)\n",
    "    abess_model.fit(XX, yy)\n",
    "    return abess_model.ic_"
   ]
  },
  {
   "cell_type": "code",
   "execution_count": 6,
   "metadata": {},
   "outputs": [
    {
     "name": "stdout",
     "output_type": "stream",
     "text": [
      "(0,)\n",
      "(0, 23)\n",
      "(4, 15, 23)\n",
      "(2, 4, 15, 23)\n",
      "(2, 4, 15, 23, 38)\n",
      "(2, 4, 15, 23, 38, 53)\n",
      "(2, 15, 23, 25, 33, 51, 58)\n",
      "(2, 4, 15, 23, 38, 51, 55, 58)\n",
      "(2, 4, 15, 20, 23, 38, 41, 45, 53)\n"
     ]
    }
   ],
   "source": [
    "lrs = []\n",
    "eff_indices = []\n",
    "max_complexity = 10\n",
    "for s in range(1, max_complexity):\n",
    "    lr = LinearRegression(support_size=s, ic_type='bic', always_select=None)\n",
    "    lr.fit(newXr, wtr)\n",
    "    lrs.append(lr)\n",
    "    eff_indices.append(nonz(lr.coef_))\n",
    "    print(nonz(lr.coef_))\n",
    "abess_feature_hierarchy = set(eff_indices)"
   ]
  },
  {
   "cell_type": "code",
   "execution_count": 7,
   "metadata": {},
   "outputs": [
    {
     "data": {
      "text/plain": [
       "{(0,),\n",
       " (0, 2, 4, 15, 20, 23),\n",
       " (0, 2, 4, 15, 20, 23, 38, 41, 45, 53),\n",
       " (0, 2, 4, 15, 20, 23, 38, 45, 53),\n",
       " (0, 2, 4, 15, 20, 23, 38, 53),\n",
       " (0, 2, 4, 15, 20, 23, 53),\n",
       " (0, 4, 15, 20, 23),\n",
       " (0, 15, 20),\n",
       " (0, 15, 20, 23),\n",
       " (0, 20)}"
      ]
     },
     "execution_count": 7,
     "metadata": {},
     "output_type": "execute_result"
    }
   ],
   "source": [
    "nor_axis = 0\n",
    "if nor_axis is not None: Xfrols = normalize(newXr, axis=nor_axis)\n",
    "else: Xfrols = newXr.copy()\n",
    "frols_coeffs,selected_inds_list,_,_,_ = frols(wtr, Xfrols, max_nonzeros=max_complexity)\n",
    "selected_inds_list = set(selected_inds_list)\n",
    "selected_inds_list"
   ]
  },
  {
   "cell_type": "code",
   "execution_count": 8,
   "metadata": {},
   "outputs": [],
   "source": [
    "feature_hierarchy = abess_feature_hierarchy.union(selected_inds_list)"
   ]
  },
  {
   "cell_type": "code",
   "execution_count": 9,
   "metadata": {},
   "outputs": [
    {
     "name": "stdout",
     "output_type": "stream",
     "text": [
      "RFE_PLinearRegression\n",
      "(0, 2, 4, 15, 20, 23, 53)\n",
      "(2, 4, 15, 20, 23, 53)\n",
      "(2, 4, 15, 23, 53)\n",
      "(2, 4, 15, 23)\n",
      "(4, 15, 23)\n",
      "(15, 23)\n",
      "(15,)\n",
      "--------------------------------------------------\n",
      "(2, 4, 15, 23, 38, 51, 55, 58)\n",
      "(2, 4, 15, 23, 38, 51, 58)\n",
      "(2, 4, 15, 23, 38, 58)\n",
      "(2, 4, 15, 23, 38)\n",
      "(2, 4, 15, 23)\n",
      "--------------------------------------------------\n",
      "(0, 15, 20)\n",
      "(0, 20)\n",
      "(0,)\n",
      "--------------------------------------------------\n",
      "(2, 4, 15, 23, 38)\n",
      "--------------------------------------------------\n",
      "(0, 2, 4, 15, 20, 23, 38, 53)\n",
      "(2, 4, 15, 20, 23, 38, 53)\n",
      "(2, 4, 15, 23, 38, 53)\n",
      "(2, 4, 15, 23, 38)\n",
      "--------------------------------------------------\n",
      "(0, 2, 4, 15, 20, 23, 38, 41, 45, 53)\n",
      "(2, 4, 15, 20, 23, 38, 41, 45, 53)\n",
      "(2, 4, 15, 23, 38, 41, 45, 53)\n",
      "(2, 4, 15, 23, 41, 45, 53)\n",
      "(2, 4, 15, 23, 45, 53)\n",
      "(2, 4, 15, 23, 53)\n",
      "--------------------------------------------------\n",
      "(0, 15, 20, 23)\n",
      "(15, 20, 23)\n",
      "(15, 23)\n",
      "--------------------------------------------------\n",
      "(0, 2, 4, 15, 20, 23, 38, 45, 53)\n",
      "(2, 4, 15, 20, 23, 38, 45, 53)\n",
      "(2, 4, 15, 20, 23, 38, 53)\n",
      "--------------------------------------------------\n",
      "(0, 23)\n",
      "(0,)\n",
      "--------------------------------------------------\n",
      "(0, 20)\n",
      "--------------------------------------------------\n",
      "(2, 4, 15, 23, 38, 53)\n",
      "--------------------------------------------------\n",
      "(2, 4, 15, 20, 23, 38, 41, 45, 53)\n",
      "--------------------------------------------------\n",
      "(4, 15, 23)\n",
      "--------------------------------------------------\n",
      "(0, 4, 15, 20, 23)\n",
      "(4, 15, 20, 23)\n",
      "(4, 15, 23)\n",
      "--------------------------------------------------\n",
      "(0, 2, 4, 15, 20, 23)\n",
      "(2, 4, 15, 20, 23)\n",
      "(2, 4, 15, 23)\n",
      "--------------------------------------------------\n",
      "(2, 15, 23, 25, 33, 51, 58)\n",
      "(2, 15, 23, 25, 51, 58)\n",
      "(2, 15, 23, 51, 58)\n",
      "(2, 15, 23, 51)\n",
      "(15, 23, 51)\n",
      "(15, 23)\n",
      "--------------------------------------------------\n",
      "(2, 4, 15, 23)\n",
      "--------------------------------------------------\n",
      "SelectKBest\n",
      "(0, 2, 4, 15, 20, 23, 53)\n",
      "(2, 4, 15, 20, 23, 53)\n",
      "(2, 4, 15, 23, 53)\n",
      "(2, 4, 15, 23)\n",
      "(4, 15, 23)\n",
      "(15, 23)\n",
      "(15,)\n",
      "--------------------------------------------------\n",
      "(2, 4, 15, 23, 38, 51, 55, 58)\n",
      "(2, 4, 15, 23, 38, 51, 58)\n",
      "(2, 4, 15, 23, 38, 58)\n",
      "(2, 4, 15, 23, 38)\n",
      "(2, 4, 15, 23)\n",
      "--------------------------------------------------\n",
      "(0, 15, 20)\n",
      "(0, 20)\n",
      "(0,)\n",
      "--------------------------------------------------\n",
      "(2, 4, 15, 23, 38)\n",
      "--------------------------------------------------\n",
      "(0, 2, 4, 15, 20, 23, 38, 53)\n",
      "(2, 4, 15, 20, 23, 38, 53)\n",
      "(2, 4, 15, 23, 38, 53)\n",
      "(2, 4, 15, 23, 38)\n",
      "--------------------------------------------------\n",
      "(0, 2, 4, 15, 20, 23, 38, 41, 45, 53)\n",
      "(2, 4, 15, 20, 23, 38, 41, 45, 53)\n",
      "(2, 4, 15, 23, 38, 41, 45, 53)\n",
      "(2, 4, 15, 23, 41, 45, 53)\n",
      "(2, 4, 15, 23, 45, 53)\n",
      "(2, 4, 15, 23, 53)\n",
      "--------------------------------------------------\n",
      "(0, 15, 20, 23)\n",
      "(15, 20, 23)\n",
      "(15, 23)\n",
      "--------------------------------------------------\n",
      "(0, 2, 4, 15, 20, 23, 38, 45, 53)\n",
      "(2, 4, 15, 20, 23, 38, 45, 53)\n",
      "(2, 4, 15, 20, 23, 38, 53)\n",
      "--------------------------------------------------\n",
      "(0, 23)\n",
      "(0,)\n",
      "--------------------------------------------------\n",
      "(0, 20)\n",
      "--------------------------------------------------\n",
      "(2, 4, 15, 23, 38, 53)\n",
      "--------------------------------------------------\n",
      "(2, 4, 15, 20, 23, 38, 41, 45, 53)\n",
      "--------------------------------------------------\n",
      "(4, 15, 23)\n",
      "--------------------------------------------------\n",
      "(0, 4, 15, 20, 23)\n",
      "(4, 15, 20, 23)\n",
      "(4, 15, 23)\n",
      "--------------------------------------------------\n",
      "(0, 2, 4, 15, 20, 23)\n",
      "(2, 4, 15, 20, 23)\n",
      "(2, 4, 15, 23)\n",
      "--------------------------------------------------\n",
      "(2, 15, 23, 25, 33, 51, 58)\n",
      "(2, 15, 23, 25, 51, 58)\n",
      "(2, 15, 23, 51, 58)\n",
      "(2, 15, 23, 51)\n",
      "(15, 23, 51)\n",
      "(15, 23)\n",
      "--------------------------------------------------\n",
      "(2, 4, 15, 23)\n",
      "--------------------------------------------------\n"
     ]
    },
    {
     "data": {
      "text/plain": [
       "{1: ((0,), 259741.72165857782), 2: ((15, 23), -319595.5957552365), 3: ((4, 15, 23), -584927.6789561247), 4: ((2, 4, 15, 23), -688014.8019355377), 5: ((2, 4, 15, 23, 38), -697461.0658211005), 6: ((2, 4, 15, 23, 38, 58), -705861.1018841936), 7: ((2, 4, 15, 23, 41, 45, 53), -712603.3645855467), 8: ((2, 4, 15, 23, 38, 41, 45, 53), -722891.4585077917), 9: ((2, 4, 15, 20, 23, 38, 41, 45, 53), -731695.9444218951), 10: ((0, 2, 4, 15, 20, 23, 38, 41, 45, 53), -731689.7040813435)}"
      ]
     },
     "execution_count": 9,
     "metadata": {},
     "output_type": "execute_result"
    }
   ],
   "source": [
    "ic_type = 'bic' # bic, aic, aicc, hqic\n",
    "br1 = backward_refinement(feature_hierarchy, (newXr, wtr), mode='rfe', ic_type=ic_type, verbose=True)\n",
    "br2 = backward_refinement(feature_hierarchy, (newXr, wtr), mode='k best', ic_type=ic_type, verbose=True)\n",
    "br_u=br1+br2; br_u"
   ]
  },
  {
   "cell_type": "code",
   "execution_count": 10,
   "metadata": {},
   "outputs": [
    {
     "name": "stdout",
     "output_type": "stream",
     "text": [
      "(0,) 259741.72165857782\n",
      "(15, 23) -319595.5957552365\n",
      "(4, 15, 23) -584927.6789561247\n",
      "(2, 4, 15, 23) -688014.8019355377\n",
      "(2, 4, 15, 23, 38) -697461.0658211005\n",
      "(2, 4, 15, 23, 38, 58) -705861.1018841936\n",
      "(2, 4, 15, 23, 41, 45, 53) -712603.3645855467\n",
      "(2, 4, 15, 23, 38, 41, 45, 53) -722891.4585077917\n",
      "(2, 4, 15, 20, 23, 38, 41, 45, 53) -731695.9444218951\n",
      "(0, 2, 4, 15, 20, 23, 38, 41, 45, 53) -731689.7040813435\n"
     ]
    }
   ],
   "source": [
    "complexities = np.array(sorted(list(br_u.track.keys())))\n",
    "bic_scores = []\n",
    "eff_feature_names = []\n",
    "for com in complexities:\n",
    "    indices, bic = br_u.track[com]\n",
    "    bic_scores.append(bic)\n",
    "    print(indices, bic)\n",
    "bic_scores = np.array(bic_scores)\n",
    "min_bic_score = np.min(bic_scores)\n",
    "div_scale = 1e3\n",
    "rel_bic_scores = (bic_scores-min_bic_score)/div_scale"
   ]
  },
  {
   "cell_type": "markdown",
   "metadata": {},
   "source": [
    "#### Model selection"
   ]
  },
  {
   "cell_type": "code",
   "execution_count": 11,
   "metadata": {},
   "outputs": [],
   "source": [
    "from UBIC import UBIC, UBICs, baye_uncertainties, log_like_value"
   ]
  },
  {
   "cell_type": "code",
   "execution_count": 12,
   "metadata": {},
   "outputs": [
    {
     "name": "stderr",
     "output_type": "stream",
     "text": [
      "100%|█████████████████████████████████████████████████████████████| 10/10 [00:54<00:00,  5.46s/it]\n"
     ]
    }
   ],
   "source": [
    "best_subsets = [br_u.track[com][0] for com in complexities]\n",
    "ever = reduce(np.union1d, best_subsets)\n",
    "_, bs = brute_force_all_subsets(newXr[:, ever], wtr, max_support_size=len(best_subsets))\n",
    "best_subsets = [ever[list(b)] for b in bs]\n",
    "n_lams = 3"
   ]
  },
  {
   "cell_type": "code",
   "execution_count": 13,
   "metadata": {
    "scrolled": true
   },
   "outputs": [
    {
     "name": "stdout",
     "output_type": "stream",
     "text": [
      "n_lams = 3\n",
      "Using OLS's uncertainties\n",
      "[3.2049722  1.68073813 1.10214873 1.         1.24353717 1.2603154\n",
      " 1.65807362 2.83102391 3.56764579 3.60816318]\n",
      "0 ---> 10\n",
      "1.5 ---> 10\n",
      "3.0 ---> 7\n",
      "4.5 ---> 4\n",
      "6.0 ---> 4\n",
      "7.5 ---> 4\n",
      "[1537922.58536163  350702.67102608 -145377.71393494 -289202.96094853\n",
      " -201523.71764896 -203232.39878072  -52330.16175266  406154.4000115\n",
      "  691123.4425522   702560.28355445]\n",
      "The optimal complexity is currently at the support sizes of 4.\n"
     ]
    },
    {
     "data": {
      "text/plain": [
       "([array([ 259782.14128649, -319574.39906289, -584913.77916578,\n",
       "         -688002.19039778, -697445.38290513, -705845.207369  ,\n",
       "         -713568.64517058, -722855.75494283, -731650.95092228,\n",
       "         -736372.41122007]),\n",
       "  array([ 261019.90252228, -318925.29748846, -584488.1289911 ,\n",
       "         -687615.99009455, -696965.12847293, -705358.47318109,\n",
       "         -712928.29663441, -721762.41264927, -730273.12503492,\n",
       "         -734978.93750694]),\n",
       "  array([ 300161.34956801, -298398.90340832, -571027.88860698,\n",
       "         -675403.2641819 , -681778.14985142, -689966.58669236,\n",
       "         -692678.69792773, -687187.89355078, -686702.44480307,\n",
       "         -690913.42957629]),\n",
       "  array([1537922.58536163,  350702.67102608, -145377.71393494,\n",
       "         -289202.96094853, -201523.71764896, -203232.39878072,\n",
       "          -52330.16175266,  406154.4000115 ,  691123.4425522 ,\n",
       "          702560.28355445]),\n",
       "  array([40679369.63108737, 20877096.75116625, 13314862.67018678,\n",
       "         11923522.9517028 , 14985454.90385793, 15188654.08995115,\n",
       "         20197268.54492659, 34980673.49850408, 44261803.6744047 ,\n",
       "         44768068.21420637]),\n",
       "  array([1.27844061e+09, 6.69978671e+08, 4.38965037e+08, 3.98123826e+08,\n",
       "         4.95239887e+08, 5.01922842e+08, 6.60545805e+08, 1.12832297e+09,\n",
       "         1.42208769e+09, 1.43824178e+09])],\n",
       " 3,\n",
       " 4.5)"
      ]
     },
     "execution_count": 13,
     "metadata": {},
     "output_type": "execute_result"
    }
   ],
   "source": [
    "ics, bc, lam = UBICs(best_subsets, (newXr, wtr), u_type='cv1', delta=1.5, n_lams=n_lams)\n",
    "ics, bc, lam"
   ]
  },
  {
   "cell_type": "code",
   "execution_count": 14,
   "metadata": {},
   "outputs": [
    {
     "data": {
      "image/png": "[encoded data removed]",
      "text/plain": [
       "<Figure size 864x576 with 1 Axes>"
      ]
     },
     "metadata": {
      "needs_background": "light"
     },
     "output_type": "display_data"
    }
   ],
   "source": [
    "plt.plot(ics[-n_lams]); plt.show()"
   ]
  },
  {
   "cell_type": "code",
   "execution_count": 15,
   "metadata": {},
   "outputs": [
    {
     "name": "stdout",
     "output_type": "stream",
     "text": [
      "n_lams = 3\n",
      "Using OLS's uncertainties\n",
      "[3.2049722  1.68073813 1.10214873 1.         1.24353717 1.2603154\n",
      " 1.65807362 2.83102391 3.56764579 3.60816318]\n",
      "0 ---> 10\n",
      "1.0 ---> 10\n",
      "2.0 ---> 10\n",
      "[ 259782.14128649 -319574.39906289 -584913.77916578 -688002.19039778\n",
      " -697445.38290513 -705845.207369   -713568.64517058 -722855.75494283\n",
      " -731650.95092228 -736372.41122007]\n",
      "9 to 10 complexity may not be worthy with percent_improve = 0.006453461058929825.\n",
      "Staying at 9 complexity...\n",
      "The optimal complexity is currently at the support sizes of 9.\n"
     ]
    },
    {
     "data": {
      "text/plain": [
       "([array([ 259782.14128649, -319574.39906289, -584913.77916578,\n",
       "         -688002.19039778, -697445.38290513, -705845.207369  ,\n",
       "         -713568.64517058, -722855.75494283, -731650.95092228,\n",
       "         -736372.41122007]),\n",
       "  array([ 260145.91793767, -319383.62883177, -584788.68105263,\n",
       "         -687888.686558  , -697304.2366614 , -705702.15673228,\n",
       "         -713380.44744767, -722534.42285822, -731246.00942571,\n",
       "         -735962.8708449 ]),\n",
       "  array([ 263783.68444952, -317475.92652054, -583537.69992121,\n",
       "         -686753.64816017, -695892.77422413, -704271.65036501,\n",
       "         -711498.47021859, -719321.10201209, -727196.59446001,\n",
       "         -731867.46709321])],\n",
       " 8,\n",
       " 0)"
      ]
     },
     "execution_count": 15,
     "metadata": {},
     "output_type": "execute_result"
    }
   ],
   "source": [
    "ics, bc, lam = UBICs(best_subsets, (newXr, wtr), u_type='cv1', delta=1.0, n_lams=n_lams)\n",
    "ics, bc, lam"
   ]
  },
  {
   "cell_type": "code",
   "execution_count": 16,
   "metadata": {},
   "outputs": [
    {
     "data": {
      "image/png": "[encoded data removed]",
      "text/plain": [
       "<Figure size 864x576 with 1 Axes>"
      ]
     },
     "metadata": {
      "needs_background": "light"
     },
     "output_type": "display_data"
    }
   ],
   "source": [
    "plt.plot(ics[-n_lams]); plt.show()"
   ]
  },
  {
   "cell_type": "code",
   "execution_count": 17,
   "metadata": {},
   "outputs": [
    {
     "name": "stdout",
     "output_type": "stream",
     "text": [
      "n_lams = 3\n",
      "Using baye_uncertainties\n",
      "[3.20498795 1.68074364 1.10215056 1.         1.2435351  1.2603112\n",
      " 1.65806534 2.83100496 3.56761594 3.60812698]\n",
      "0 ---> 10\n",
      "1.3333333333333333 ---> 10\n",
      "2.6666666666666665 ---> 10\n",
      "[ 259782.14148505 -319574.39899336 -584913.77914274 -688002.19039778\n",
      " -697445.38293126 -705845.20742197 -713568.64527511 -722855.7551818\n",
      " -731650.95129873 -736372.41167662]\n",
      "9 to 10 complexity may not be worthy with percent_improve = 0.006453461058929507.\n",
      "Staying at 9 complexity...\n",
      "The optimal complexity is currently at the support sizes of 9.\n"
     ]
    },
    {
     "data": {
      "text/plain": [
       "([array([ 259782.14148505, -319574.39899336, -584913.77914274,\n",
       "         -688002.19039778, -697445.38293126, -705845.20742197,\n",
       "         -713568.64527511, -722855.7551818 , -731650.95129873,\n",
       "         -736372.41167662]),\n",
       "  array([ 260612.54042181, -319138.92536424, -584628.21655472,\n",
       "         -687743.09459123, -697123.18820207, -705518.66607623,\n",
       "         -713139.04749971, -722122.25366703, -730726.59696835,\n",
       "         -735437.56110756]),\n",
       "  array([ 278502.94318088, -309756.93043244, -578475.95709672,\n",
       "         -682161.04465434, -690181.71318677, -698483.54604623,\n",
       "         -703883.6439989 , -706319.44258096, -710811.98661578,\n",
       "         -715296.81614772])],\n",
       " 8,\n",
       " 0)"
      ]
     },
     "execution_count": 17,
     "metadata": {},
     "output_type": "execute_result"
    }
   ],
   "source": [
    "ics, bc, lam = UBICs(best_subsets, (newXr, wtr), u_type='cv1', take_sqrt=True, use_baye=True, delta=(1+1/3), n_lams=n_lams)\n",
    "ics, bc, lam"
   ]
  },
  {
   "cell_type": "code",
   "execution_count": 18,
   "metadata": {},
   "outputs": [
    {
     "data": {
      "image/png": "[encoded data removed]",
      "text/plain": [
       "<Figure size 864x576 with 1 Axes>"
      ]
     },
     "metadata": {
      "needs_background": "light"
     },
     "output_type": "display_data"
    }
   ],
   "source": [
    "plt.plot(ics[-n_lams]); plt.show()"
   ]
  },
  {
   "cell_type": "code",
   "execution_count": 19,
   "metadata": {},
   "outputs": [
    {
     "name": "stdout",
     "output_type": "stream",
     "text": [
      "4.435767897542427\n",
      "n_lams = 3\n",
      "Using baye_uncertainties\n",
      "[3.20498795 1.68074364 1.10215056 1.         1.2435351  1.2603112\n",
      " 1.65806534 2.83100496 3.56761594 3.60812698]\n",
      "0 ---> 10\n",
      "1.4785892991808092 ---> 10\n",
      "2.9571785983616183 ---> 10\n",
      "[ 259782.14148505 -319574.39899336 -584913.77914274 -688002.19039778\n",
      " -697445.38293126 -705845.20742197 -713568.64527511 -722855.7551818\n",
      " -731650.95129873 -736372.41167662]\n",
      "9 to 10 complexity may not be worthy with percent_improve = 0.006453461058929507.\n",
      "Staying at 9 complexity...\n",
      "The optimal complexity is currently at the support sizes of 9.\n"
     ]
    },
    {
     "data": {
      "text/plain": [
       "0"
      ]
     },
     "execution_count": 19,
     "metadata": {},
     "output_type": "execute_result"
    }
   ],
   "source": [
    "_, _, b_uns = baye_uncertainties(best_subsets, (newXr, wtr), u_type='cv1', take_sqrt=True)\n",
    "lower_bounds = []\n",
    "for efi in best_subsets:\n",
    "    com = len(efi)\n",
    "    w = np.linalg.lstsq(newXr[:, efi], wtr, rcond=None)[0]\n",
    "    pred = newXr[:, efi]@w\n",
    "    lower_bound = log_like_value(pred, wtr)/np.log(len(wtr))-com\n",
    "    lower_bounds.append(lower_bound)\n",
    "max_lam = max(np.nan_to_num(np.log10(lower_bounds/b_uns)))\n",
    "delta = np.linspace(0, max_lam, 4)[1]\n",
    "print(max_lam)\n",
    "\n",
    "n_lams = 3\n",
    "ics, bc, lam = UBICs(best_subsets, \n",
    "                     (newXr, wtr), \n",
    "                     u_type='cv1', take_sqrt=True, use_baye=True, \n",
    "                     max_lam=max_lam,\n",
    "                     delta=delta, \n",
    "                     n_lams=n_lams)\n",
    "# ics[-n_lams], bc, lam\n",
    "lam"
   ]
  },
  {
   "cell_type": "code",
   "execution_count": 20,
   "metadata": {},
   "outputs": [
    {
     "name": "stdout",
     "output_type": "stream",
     "text": [
      "4.435767897542427\n",
      "n_lams = 3\n",
      "Using baye_uncertainties\n",
      "[7.32377715 3.36940408 1.38138547 1.         1.08465127 1.0712939\n",
      " 1.18037572 2.33106325 2.93339285 2.93607042]\n",
      "0 ---> 10\n",
      "2.2178839487712136 ---> 10\n",
      "4.435767897542427 ---> 4\n",
      "[2778990.5357747   839419.35847859 -109755.69511537 -344032.62404328\n",
      " -324360.36105672 -337355.0926824  -307561.34448457   78952.75398416\n",
      "  277338.91658103  273537.9833272 ]\n",
      "The optimal complexity is currently at the support sizes of 4.\n"
     ]
    },
    {
     "data": {
      "text/plain": [
       "4.435767897542427"
      ]
     },
     "execution_count": 20,
     "metadata": {},
     "output_type": "execute_result"
    }
   ],
   "source": [
    "_,_, b_uns = baye_uncertainties(best_subsets, (newXr, wtr), u_type='cv2', take_sqrt=False)\n",
    "lower_bounds = []\n",
    "for efi in best_subsets:\n",
    "    com = len(efi)\n",
    "    w = np.linalg.lstsq(newXr[:, efi], wtr, rcond=None)[0]\n",
    "    pred = newXr[:, efi]@w\n",
    "    lower_bound = log_like_value(pred, wtr)/np.log(len(wtr))-com\n",
    "    lower_bounds.append(lower_bound)\n",
    "max_lam = max(np.nan_to_num(np.log10(lower_bounds/b_uns)))\n",
    "delta = np.linspace(0, max_lam, 3)[1]\n",
    "print(max_lam)\n",
    "\n",
    "n_lams = 3\n",
    "ics, bc, lam = UBICs(best_subsets, \n",
    "                     (newXr, wtr), \n",
    "                     u_type='cv2', take_sqrt=False, use_baye=True, \n",
    "                     max_lam=max_lam,\n",
    "                     delta=delta, \n",
    "                     n_lams=n_lams)\n",
    "# ics[-n_lams], bc, lam\n",
    "lam"
   ]
  },
  {
   "cell_type": "code",
   "execution_count": 21,
   "metadata": {},
   "outputs": [
    {
     "data": {
      "text/plain": [
       "(array([1, 1, 1, 1, 0, 0, 0, 0, 0, 0], dtype=int32),\n",
       " array([[-7.17033773e+05,  7.50000000e+00],\n",
       "        [-3.33199089e+05,  2.50000000e+00]]),\n",
       " 0.42905743977559235)"
      ]
     },
     "execution_count": 21,
     "metadata": {},
     "output_type": "execute_result"
    }
   ],
   "source": [
    "from sklearn.cluster import KMeans\n",
    "from sklearn.metrics import silhouette_score\n",
    "from k_means_constrained import KMeansConstrained\n",
    "\n",
    "points = np.vstack((bic_scores, [i for i in range(1, len(bic_scores)+1)])).T\n",
    "# size_max = len(bic_scores)-1\n",
    "size_max = len(bic_scores)//2+1\n",
    "clf = KMeansConstrained(\n",
    "    n_clusters=2, size_min=1, size_max=size_max, \n",
    "    random_state=0, \n",
    "); clf.fit(points)\n",
    "silhouette_avg = silhouette_score(points, clf.labels_)\n",
    "clf.labels_,  clf.cluster_centers_, silhouette_avg"
   ]
  },
  {
   "cell_type": "code",
   "execution_count": null,
   "metadata": {},
   "outputs": [],
   "source": []
  },
  {
   "cell_type": "code",
   "execution_count": null,
   "metadata": {},
   "outputs": [],
   "source": []
  },
  {
   "cell_type": "code",
   "execution_count": 22,
   "metadata": {},
   "outputs": [
    {
     "name": "stdout",
     "output_type": "stream",
     "text": [
      "max_lam: 4.435672350898608\n",
      "3 <---> 9 0.011725308243003893\n"
     ]
    },
    {
     "data": {
      "text/plain": [
       "(4.435672350898608,\n",
       " array([1361957.93632179,  258423.08157555, -205890.92820503,\n",
       "        -344108.2932698 , -269801.25186546, -272431.87876461,\n",
       "        -143370.09539272,  250709.5750124 ,  495230.39898745,\n",
       "         504440.43550485]),\n",
       " 3,\n",
       " 3)"
      ]
     },
     "execution_count": 22,
     "metadata": {},
     "output_type": "execute_result"
    }
   ],
   "source": [
    "tau = 3\n",
    "thres = 0.02\n",
    "\n",
    "post_means, b_bics, b_uns = baye_uncertainties(best_subsets, (newXr, wtr), u_type='cv1', take_sqrt=True)\n",
    "predictions = newXr@post_means\n",
    "lower_bounds = []\n",
    "for k, efi in enumerate(best_subsets):\n",
    "    assert len(efi) == np.count_nonzero(post_means[:, k:k+1])\n",
    "    lower_bound = log_like_value(predictions[:, k:k+1], wtr)/np.log(len(wtr))-len(efi)\n",
    "    lower_bounds.append(lower_bound)\n",
    "\n",
    "last_lam = max(np.nan_to_num(np.log10(lower_bounds/b_uns)))\n",
    "print(\"max_lam:\", last_lam)\n",
    "delta = last_lam/tau\n",
    "now_lam = last_lam-delta\n",
    "last_ubic = UBIC(b_bics, b_uns, len(wtr), hyp=10**last_lam)\n",
    "last_bc = np.argmin(last_ubic)\n",
    "while now_lam > 0:\n",
    "    now_lam = last_lam-delta\n",
    "    now_ubic = UBIC(b_bics, b_uns, len(wtr), hyp=10**now_lam)\n",
    "    now_bc = np.argmin(now_ubic)\n",
    "    \n",
    "    diff_com = now_bc-last_bc\n",
    "    imp = abs((b_bics[now_bc]-b_bics[last_bc])/(b_bics[last_bc]*diff_com))\n",
    "    print(min(last_bc, now_bc), '<--->', max(last_bc, now_bc), imp)\n",
    "    \n",
    "    if (diff_com > 0 and imp < thres) or (diff_com < 0 and imp > thres):\n",
    "        break\n",
    "    \n",
    "    last_lam = now_lam\n",
    "    now_lam = last_lam-delta\n",
    "    last_ubic = now_ubic\n",
    "    last_bc = now_bc\n",
    "\n",
    "best_bc = last_bc\n",
    "if abs((b_bics[last_bc]-b_bics[last_bc-1])/b_bics[last_bc-1]) < thres:\n",
    "    best_bc = best_bc - 1\n",
    "    \n",
    "last_lam, last_ubic, last_bc, best_bc"
   ]
  },
  {
   "cell_type": "code",
   "execution_count": 23,
   "metadata": {},
   "outputs": [
    {
     "data": {
      "image/png": "[encoded data removed]",
      "text/plain": [
       "<Figure size 252x189 with 1 Axes>"
      ]
     },
     "metadata": {
      "needs_background": "light"
     },
     "output_type": "display_data"
    }
   ],
   "source": [
    "with plt.style.context(['science', 'grid']):\n",
    "    fig, ax = plt.subplots()\n",
    "    ax.plot([], [], linestyle='', marker='', label='Target: $w_t$')\n",
    "    ax.plot(complexities, last_ubic, 'o-', c='black', markerfacecolor='none', label=f\"$\\lambda = {abs(round(last_lam, 2))}$\")\n",
    "    ax.set_xticks(complexities)\n",
    "    ax.set_ylabel(\"$\\\\textrm{UBIC}(\\\\xi^{k}_{\\\\mu})$\", fontsize=12)\n",
    "    ax.set_xlabel(\"Support sizes ($s_{k}$)\", fontsize=12)\n",
    "    plt.annotate('$(w_{xx}, w_{yy}, uw_{x}, vw_{y})$', fontsize=12, \n",
    "                 xy=(complexities[best_bc], last_ubic[best_bc]), \n",
    "                 xytext=(complexities[best_bc]-1.5, last_ubic[1]), \n",
    "                 arrowprops={'arrowstyle': '->'})\n",
    "    ax.legend(fontsize=12)\n",
    "    fig.savefig(\"../Figures/NV/nv_ubic.pdf\")\n",
    "    plt.show()\n",
    "    plt.close()"
   ]
  },
  {
   "cell_type": "code",
   "execution_count": 24,
   "metadata": {},
   "outputs": [
    {
     "data": {
      "image/png": "[encoded data removed]",
      "text/plain": [
       "<Figure size 252x189 with 1 Axes>"
      ]
     },
     "metadata": {
      "needs_background": "light"
     },
     "output_type": "display_data"
    }
   ],
   "source": [
    "with plt.style.context(['science', 'grid']):\n",
    "    fig, ax = plt.subplots()\n",
    "    ax.plot([], [], linestyle='', marker='', label='Target: $w_t$')\n",
    "    ax.plot(complexities, b_uns, 'o-', c='black', markerfacecolor='none')\n",
    "    ax.set_xticks(complexities)\n",
    "    ax.set_ylabel(\"Uncertainty ($\\\\textrm{U}^{k}$)\", fontsize=12)\n",
    "    ax.set_xlabel(\"Support sizes ($s_{k}$)\", fontsize=12)\n",
    "    plt.annotate('min', fontsize=16, \n",
    "                 xy=(complexities[best_bc], b_uns[best_bc]), \n",
    "                 xytext=(complexities[best_bc], b_uns[best_bc]+1.), \n",
    "                 arrowprops={'arrowstyle': '->'})\n",
    "    ax.legend(fontsize=10)\n",
    "    fig.savefig(\"../Figures/NV/nv_uns.pdf\")\n",
    "    plt.show()\n",
    "    plt.close()"
   ]
  },
  {
   "cell_type": "code",
   "execution_count": 25,
   "metadata": {},
   "outputs": [
    {
     "data": {
      "image/png": "[encoded data removed]",
      "text/plain": [
       "<Figure size 252x189 with 1 Axes>"
      ]
     },
     "metadata": {
      "needs_background": "light"
     },
     "output_type": "display_data"
    }
   ],
   "source": [
    "with plt.style.context(['science', 'grid']):\n",
    "    fig, ax = plt.subplots()\n",
    "    ax.plot([], [], linestyle='', marker='', label='Target: $w_t$')\n",
    "    ax.plot(complexities, b_bics, 'o-', c='black', markerfacecolor='none', label=\"w/ denoising\")\n",
    "    ax.set_xticks(complexities)\n",
    "    ax.set_ylabel(\"$\\\\textrm{BIC}(\\\\xi^{k}_{\\\\mu})$\", fontsize=12)\n",
    "    ax.set_xlabel(\"Support sizes ($s_{k}$)\", fontsize=12)\n",
    "    plt.annotate(f\"$({', '.join(np.array(description)[best_subsets[np.argmin(b_bics)]][:6])+', ...'})$\", fontsize=10, \n",
    "                 xy=(complexities[np.argmin(b_bics)], b_bics[np.argmin(b_bics)]), \n",
    "                 xytext=(complexities[np.argmin(b_bics)]-8, b_bics[np.argmin(b_bics)]+600000), \n",
    "                 arrowprops={'arrowstyle': '->'})\n",
    "    ax.legend(fontsize=10)\n",
    "    fig.savefig(\"../Figures/NV/nv_bic.pdf\")\n",
    "    plt.show()\n",
    "    plt.close()"
   ]
  },
  {
   "cell_type": "code",
   "execution_count": null,
   "metadata": {},
   "outputs": [],
   "source": []
  },
  {
   "cell_type": "code",
   "execution_count": null,
   "metadata": {},
   "outputs": [],
   "source": []
  },
  {
   "cell_type": "code",
   "execution_count": 22,
   "metadata": {},
   "outputs": [
    {
     "name": "stdout",
     "output_type": "stream",
     "text": [
      "2\n"
     ]
    },
    {
     "data": {
      "image/png": "[encoded data removed]",
      "text/plain": [
       "<Figure size 864x576 with 1 Axes>"
      ]
     },
     "metadata": {
      "needs_background": "light"
     },
     "output_type": "display_data"
    }
   ],
   "source": [
    "ols_models = [sm.OLS(wtr, newXr[:, efi]).fit() for efi in best_subsets]\n",
    "f_res = sm.stats.anova_lm(*ols_models, test=\"F\") # \"F\", \"Chisq\"\", \"Cp\"\n",
    "print(np.argmax(f_res.F)+1)\n",
    "plt.plot([i+1 for i in range(1, len(f_res.F))], f_res.F[1:]); plt.show()"
   ]
  },
  {
   "cell_type": "code",
   "execution_count": 23,
   "metadata": {},
   "outputs": [
    {
     "data": {
      "text/html": [
       "<div>\n",
       "<style scoped>\n",
       "    .dataframe tbody tr th:only-of-type {\n",
       "        vertical-align: middle;\n",
       "    }\n",
       "\n",
       "    .dataframe tbody tr th {\n",
       "        vertical-align: top;\n",
       "    }\n",
       "\n",
       "    .dataframe thead th {\n",
       "        text-align: right;\n",
       "    }\n",
       "</style>\n",
       "<table border=\"1\" class=\"dataframe\">\n",
       "  <thead>\n",
       "    <tr style=\"text-align: right;\">\n",
       "      <th></th>\n",
       "      <th>df_resid</th>\n",
       "      <th>ssr</th>\n",
       "      <th>df_diff</th>\n",
       "      <th>ss_diff</th>\n",
       "      <th>F</th>\n",
       "      <th>Pr(&gt;F)</th>\n",
       "    </tr>\n",
       "  </thead>\n",
       "  <tbody>\n",
       "    <tr>\n",
       "      <th>0</th>\n",
       "      <td>299999.0</td>\n",
       "      <td>41748.733214</td>\n",
       "      <td>0.0</td>\n",
       "      <td>NaN</td>\n",
       "      <td>NaN</td>\n",
       "      <td>NaN</td>\n",
       "    </tr>\n",
       "    <tr>\n",
       "      <th>1</th>\n",
       "      <td>299998.0</td>\n",
       "      <td>6052.689258</td>\n",
       "      <td>1.0</td>\n",
       "      <td>35696.043955</td>\n",
       "      <td>6.990236e+06</td>\n",
       "      <td>0.0000</td>\n",
       "    </tr>\n",
       "    <tr>\n",
       "      <th>2</th>\n",
       "      <td>299997.0</td>\n",
       "      <td>2499.324169</td>\n",
       "      <td>1.0</td>\n",
       "      <td>3553.365089</td>\n",
       "      <td>6.958436e+05</td>\n",
       "      <td>0.0000</td>\n",
       "    </tr>\n",
       "    <tr>\n",
       "      <th>3</th>\n",
       "      <td>299996.0</td>\n",
       "      <td>1772.435485</td>\n",
       "      <td>1.0</td>\n",
       "      <td>726.888684</td>\n",
       "      <td>1.423442e+05</td>\n",
       "      <td>0.0000</td>\n",
       "    </tr>\n",
       "    <tr>\n",
       "      <th>4</th>\n",
       "      <td>299995.0</td>\n",
       "      <td>1717.423146</td>\n",
       "      <td>1.0</td>\n",
       "      <td>55.012339</td>\n",
       "      <td>1.077288e+04</td>\n",
       "      <td>0.0000</td>\n",
       "    </tr>\n",
       "    <tr>\n",
       "      <th>5</th>\n",
       "      <td>299994.0</td>\n",
       "      <td>1669.931885</td>\n",
       "      <td>1.0</td>\n",
       "      <td>47.491262</td>\n",
       "      <td>9.300054e+03</td>\n",
       "      <td>0.0000</td>\n",
       "    </tr>\n",
       "    <tr>\n",
       "      <th>6</th>\n",
       "      <td>299993.0</td>\n",
       "      <td>1632.751438</td>\n",
       "      <td>1.0</td>\n",
       "      <td>37.180447</td>\n",
       "      <td>7.280922e+03</td>\n",
       "      <td>0.0000</td>\n",
       "    </tr>\n",
       "    <tr>\n",
       "      <th>7</th>\n",
       "      <td>299992.0</td>\n",
       "      <td>1577.641335</td>\n",
       "      <td>1.0</td>\n",
       "      <td>55.110103</td>\n",
       "      <td>1.079203e+04</td>\n",
       "      <td>0.0000</td>\n",
       "    </tr>\n",
       "    <tr>\n",
       "      <th>8</th>\n",
       "      <td>299991.0</td>\n",
       "      <td>1531.948693</td>\n",
       "      <td>1.0</td>\n",
       "      <td>45.692641</td>\n",
       "      <td>8.947837e+03</td>\n",
       "      <td>0.0000</td>\n",
       "    </tr>\n",
       "    <tr>\n",
       "      <th>9</th>\n",
       "      <td>299990.0</td>\n",
       "      <td>1531.916159</td>\n",
       "      <td>1.0</td>\n",
       "      <td>0.032534</td>\n",
       "      <td>6.371052e+00</td>\n",
       "      <td>0.0116</td>\n",
       "    </tr>\n",
       "  </tbody>\n",
       "</table>\n",
       "</div>"
      ],
      "text/plain": [
       "   df_resid           ssr  df_diff       ss_diff             F  Pr(>F)\n",
       "0  299999.0  41748.733214      0.0           NaN           NaN     NaN\n",
       "1  299998.0   6052.689258      1.0  35696.043955  6.990236e+06  0.0000\n",
       "2  299997.0   2499.324169      1.0   3553.365089  6.958436e+05  0.0000\n",
       "3  299996.0   1772.435485      1.0    726.888684  1.423442e+05  0.0000\n",
       "4  299995.0   1717.423146      1.0     55.012339  1.077288e+04  0.0000\n",
       "5  299994.0   1669.931885      1.0     47.491262  9.300054e+03  0.0000\n",
       "6  299993.0   1632.751438      1.0     37.180447  7.280922e+03  0.0000\n",
       "7  299992.0   1577.641335      1.0     55.110103  1.079203e+04  0.0000\n",
       "8  299991.0   1531.948693      1.0     45.692641  8.947837e+03  0.0000\n",
       "9  299990.0   1531.916159      1.0      0.032534  6.371052e+00  0.0116"
      ]
     },
     "execution_count": 23,
     "metadata": {},
     "output_type": "execute_result"
    }
   ],
   "source": [
    "f_res"
   ]
  },
  {
   "cell_type": "code",
   "execution_count": 24,
   "metadata": {},
   "outputs": [
    {
     "name": "stdout",
     "output_type": "stream",
     "text": [
      "1 2 0.7586206896551724\n",
      "2 3 0.6666666666666666\n",
      "3 4 0.5357142857142857\n",
      "--------------------------------------------------\n",
      "4 5 0.509090909090909\n"
     ]
    }
   ],
   "source": [
    "alpha = 1e-3\n",
    "percent_improves = []\n",
    "for i in range(len(best_subsets)): \n",
    "    bs = np.array(best_subsets[i])\n",
    "    ref_model = sm.OLS(wtr, newXr[:, bs]).fit()\n",
    "    count_better = 0; count_worse = 0\n",
    "    for e in set(range(newXr.shape[-1]))-set(bs):\n",
    "        whe = np.where(bs < e)[0]\n",
    "        if len(whe) > 0: res = np.insert(bs, max(whe)+1, e)\n",
    "        else: res = np.insert(bs, 0, e)\n",
    "        f_res = sm.stats.anova_lm(ref_model, sm.OLS(wtr, newXr[:, res]).fit())\n",
    "        pv = f_res[\"Pr(>F)\"][1]\n",
    "        if pv < alpha: count_better += 1\n",
    "        else: count_worse += 1\n",
    "    percent_improve = count_better/(count_better+count_worse)\n",
    "    if percent_improve < 0.51:\n",
    "        print('-'*50)\n",
    "        print(len(bs), len(res), percent_improve)\n",
    "        break\n",
    "    print(len(bs), len(res), percent_improve)"
   ]
  },
  {
   "cell_type": "code",
   "execution_count": 25,
   "metadata": {},
   "outputs": [],
   "source": [
    "# np.save(\"/Users/pongpisit/Desktop/fun/R/datasets/NV/X_pre.npy\", newXr)\n",
    "# np.save(\"/Users/pongpisit/Desktop/fun/R/datasets/NV/y_pre.npy\", wtr)"
   ]
  },
  {
   "cell_type": "code",
   "execution_count": 31,
   "metadata": {},
   "outputs": [
    {
     "data": {
      "text/plain": [
       "{'X_pre': array([[ 8.10748533e-01,  6.04228256e+00, -8.80990493e-01, ...,\n",
       "         -7.50428736e-01,  1.15447121e+01,  8.81041241e+00],\n",
       "        [ 9.17272448e-01,  5.00322588e+00,  9.53306399e-01, ...,\n",
       "         -3.86400580e-01,  8.74830246e+00,  5.80161095e+00],\n",
       "        [ 6.66371936e-01,  3.55068840e+00,  1.25993642e+00, ...,\n",
       "          7.22350627e-02,  1.16815920e+01,  5.38080835e+00],\n",
       "        ...,\n",
       "        [-2.15804214e-03,  5.63446788e-02,  1.11730530e+00, ...,\n",
       "         -5.11111750e-04,  1.66590209e-03, -1.08924917e-06],\n",
       "        [ 9.07051534e-03, -3.69504304e-02, -7.81860805e-01, ...,\n",
       "          3.39512620e-03, -1.08649200e-02, -2.12832256e-05],\n",
       "        [ 2.31218907e-01,  1.82648055e-01, -9.03444144e-01, ...,\n",
       "          3.67248245e-03, -1.20014232e-02,  3.04396264e-04]]),\n",
       " 'y_pre': array([[-0.23568282],\n",
       "        [-0.48808531],\n",
       "        [-0.55018576],\n",
       "        ...,\n",
       "        [ 0.01558315],\n",
       "        [-0.02058122],\n",
       "        [-0.15443289]]),\n",
       " 'best_subsets': array([[1., 0., 0., 0., 0., 0., 0., 0., 0., 0., 0., 0., 0., 0., 0., 0.,\n",
       "         0., 0., 0., 0., 0., 0., 0., 0., 0., 0., 0., 0., 0., 0., 0., 0.,\n",
       "         0., 0., 0., 0., 0., 0., 0., 0., 0., 0., 0., 0., 0., 0., 0., 0.,\n",
       "         0., 0., 0., 0., 0., 0., 0., 0., 0., 0., 0.],\n",
       "        [0., 0., 0., 0., 0., 0., 0., 0., 0., 0., 0., 0., 0., 0., 0., 1.,\n",
       "         0., 0., 0., 0., 0., 0., 0., 1., 0., 0., 0., 0., 0., 0., 0., 0.,\n",
       "         0., 0., 0., 0., 0., 0., 0., 0., 0., 0., 0., 0., 0., 0., 0., 0.,\n",
       "         0., 0., 0., 0., 0., 0., 0., 0., 0., 0., 0.],\n",
       "        [0., 0., 0., 0., 1., 0., 0., 0., 0., 0., 0., 0., 0., 0., 0., 1.,\n",
       "         0., 0., 0., 0., 0., 0., 0., 1., 0., 0., 0., 0., 0., 0., 0., 0.,\n",
       "         0., 0., 0., 0., 0., 0., 0., 0., 0., 0., 0., 0., 0., 0., 0., 0.,\n",
       "         0., 0., 0., 0., 0., 0., 0., 0., 0., 0., 0.],\n",
       "        [0., 0., 1., 0., 1., 0., 0., 0., 0., 0., 0., 0., 0., 0., 0., 1.,\n",
       "         0., 0., 0., 0., 0., 0., 0., 1., 0., 0., 0., 0., 0., 0., 0., 0.,\n",
       "         0., 0., 0., 0., 0., 0., 0., 0., 0., 0., 0., 0., 0., 0., 0., 0.,\n",
       "         0., 0., 0., 0., 0., 0., 0., 0., 0., 0., 0.],\n",
       "        [0., 0., 1., 0., 1., 0., 0., 0., 0., 0., 0., 0., 0., 0., 0., 1.,\n",
       "         0., 0., 0., 0., 0., 0., 0., 1., 0., 0., 0., 0., 0., 0., 0., 0.,\n",
       "         0., 0., 0., 0., 0., 0., 1., 0., 0., 0., 0., 0., 0., 0., 0., 0.,\n",
       "         0., 0., 0., 0., 0., 0., 0., 0., 0., 0., 0.],\n",
       "        [0., 0., 1., 0., 1., 0., 0., 0., 0., 0., 0., 0., 0., 0., 0., 1.,\n",
       "         0., 0., 0., 0., 0., 0., 0., 1., 0., 0., 0., 0., 0., 0., 0., 0.,\n",
       "         0., 0., 0., 0., 0., 0., 1., 0., 0., 0., 0., 0., 0., 0., 0., 0.,\n",
       "         0., 0., 0., 0., 0., 0., 0., 0., 0., 0., 1.],\n",
       "        [0., 0., 1., 0., 1., 0., 0., 0., 0., 0., 0., 0., 0., 0., 0., 1.,\n",
       "         0., 0., 0., 0., 0., 0., 0., 1., 0., 0., 0., 0., 0., 0., 0., 0.,\n",
       "         0., 0., 0., 0., 0., 0., 0., 0., 0., 1., 0., 0., 0., 1., 0., 0.,\n",
       "         0., 0., 0., 0., 0., 1., 0., 0., 0., 0., 0.],\n",
       "        [0., 0., 1., 0., 1., 0., 0., 0., 0., 0., 0., 0., 0., 0., 0., 1.,\n",
       "         0., 0., 0., 0., 0., 0., 0., 1., 0., 0., 0., 0., 0., 0., 0., 0.,\n",
       "         0., 0., 0., 0., 0., 0., 1., 0., 0., 1., 0., 0., 0., 1., 0., 0.,\n",
       "         0., 0., 0., 0., 0., 1., 0., 0., 0., 0., 0.],\n",
       "        [0., 0., 1., 0., 1., 0., 0., 0., 0., 0., 0., 0., 0., 0., 0., 1.,\n",
       "         0., 0., 0., 0., 1., 0., 0., 1., 0., 0., 0., 0., 0., 0., 0., 0.,\n",
       "         0., 0., 0., 0., 0., 0., 1., 0., 0., 1., 0., 0., 0., 1., 0., 0.,\n",
       "         0., 0., 0., 0., 0., 1., 0., 0., 0., 0., 0.],\n",
       "        [1., 0., 1., 0., 1., 0., 0., 0., 0., 0., 0., 0., 0., 0., 0., 1.,\n",
       "         0., 0., 0., 0., 1., 0., 0., 1., 0., 0., 0., 0., 0., 0., 0., 0.,\n",
       "         0., 0., 0., 0., 0., 0., 1., 0., 0., 1., 0., 0., 0., 1., 0., 0.,\n",
       "         0., 0., 0., 0., 0., 1., 0., 0., 0., 0., 0.]], dtype=float32)}"
      ]
     },
     "execution_count": 31,
     "metadata": {},
     "output_type": "execute_result"
    }
   ],
   "source": [
    "tmp = np.zeros((len(best_subsets), newXr.shape[-1]))\n",
    "for i in range(len(best_subsets)):\n",
    "    tmp[i:i+1, :][0, best_subsets[i]] = 1.0\n",
    "best_subsets = tmp.astype(np.float32)\n",
    "# best_subsets\n",
    "\n",
    "pms_data = {\"X_pre\": newXr, \n",
    "            \"y_pre\": wtr, \n",
    "            \"best_subsets\": best_subsets}\n",
    "\n",
    "h5file(file_path=\"./IPI_output_files/PMS_data.h5\", cdict=pms_data, mode='w')\n",
    "\n",
    "pms_data"
   ]
  }
 ],
 "metadata": {
  "anaconda-cloud": {},
  "kernelspec": {
   "display_name": "Python [conda env:pysr]",
   "language": "python",
   "name": "conda-env-pysr-py"
  },
  "language_info": {
   "codemirror_mode": {
    "name": "ipython",
    "version": 3
   },
   "file_extension": ".py",
   "mimetype": "text/x-python",
   "name": "python",
   "nbconvert_exporter": "python",
   "pygments_lexer": "ipython3",
   "version": "3.10.10"
  },
  "widgets": {
   "application/vnd.jupyter.widget-state+json": {
    "state": {},
    "version_major": 2,
    "version_minor": 0
   }
  }
 },
 "nbformat": 4,
 "nbformat_minor": 4
}
