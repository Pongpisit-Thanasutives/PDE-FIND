{
 "cells": [
  {
   "cell_type": "markdown",
   "metadata": {},
   "source": [
    "# PDE-FIND for identifying Navier-Stokes\n",
    "\n",
    "Samuel Rudy, 2016\n",
    "\n",
    "This notebook demonstrates PDE-FIND for the vorticity equation given a simulation of fluid flowing around a cylinder.\n",
    "\\begin{align*}\n",
    "\\omega_t &= \\frac{1}{Re}\\nabla^2 \\omega - (V \\cdot \\nabla)\\omega\\\\\n",
    "V &= (v,u)\\\\\n",
    "Re &= 100\n",
    "\\end{align*}\n",
    "The x and y components of the velocity field are given as forcing terms to the PDE.  That is, they appear in $\\Theta$, but are not differentiated."
   ]
  },
  {
   "cell_type": "code",
   "execution_count": 1,
   "metadata": {},
   "outputs": [
    {
     "name": "stdout",
     "output_type": "stream",
     "text": [
      "%pylab is deprecated, use %matplotlib inline and import the required libraries.\n",
      "Populating the interactive namespace from numpy and matplotlib\n",
      "Sklearn's version: 1.2.2\n",
      "mrmr is not installed in the env you are using. This may cause an error in future if you try to use the (missing) lib.\n"
     ]
    }
   ],
   "source": [
    "%load_ext autoreload\n",
    "%autoreload 2\n",
    "%pylab inline\n",
    "pylab.rcParams['figure.figsize'] = (12, 8)\n",
    "import warnings; warnings.filterwarnings(\"ignore\")\n",
    "\n",
    "import numpy as np\n",
    "import pandas as pde_diff_new\n",
    "from mpl_toolkits.mplot3d import Axes3D\n",
    "from sympy import symbols\n",
    "\n",
    "import sys; sys.path.append('../')\n",
    "from PDE_FIND import *\n",
    "\n",
    "import sys; sys.path.append('../../parametric-discovery/')\n",
    "from best_subset import *\n",
    "from frols import frols\n",
    "from p_linear_regression import PLinearRegression\n",
    "from r_pca import R_pca\n",
    "from pde_diff_new import RPCA\n",
    "from RobustPCA.rpca import RobustPCA\n",
    "\n",
    "import scipy.io as sio\n",
    "from scipy.signal import savgol_filter\n",
    "import itertools\n",
    "\n",
    "from sklearn.preprocessing import normalize\n",
    "from sklearn.linear_model import Ridge, BayesianRidge, LinearRegression as SkLinearRegression\n",
    "from sklearn.base import BaseEstimator\n",
    "from sklearn.pipeline import make_pipeline\n",
    "from sklearn.metrics import mean_squared_error\n",
    "from sklearn.decomposition import PCA\n",
    "from abess.linear import LinearRegression\n",
    "import pysindy as ps\n",
    "from solvel0 import solvel0\n",
    "from findiff import FinDiff\n",
    "\n",
    "from tqdm import trange\n",
    "from os.path import join as join_path\n",
    "FIGURE_EXPORT_PATH = \"./\"\n",
    "\n",
    "from misc import h5file"
   ]
  },
  {
   "cell_type": "code",
   "execution_count": 2,
   "metadata": {},
   "outputs": [
    {
     "data": {
      "image/png": "[encoded data removed]",
      "text/plain": [
       "<Figure size 252x189 with 2 Axes>"
      ]
     },
     "metadata": {
      "needs_background": "light"
     },
     "output_type": "display_data"
    }
   ],
   "source": [
    "# Load data\n",
    "steps = 151\n",
    "n = 449\n",
    "m = 199\n",
    "U = np.load('../Datasets/course_timestep_cylinder/Cylinder_U.npy')\n",
    "V = np.load('../Datasets/course_timestep_cylinder/Cylinder_V.npy')\n",
    "W = np.load('../Datasets/course_timestep_cylinder/Cylinder_W.npy')\n",
    "\n",
    "dt = 0.2\n",
    "dx = 0.02\n",
    "dy = 0.02\n",
    "\n",
    "x = np.arange(n)*dx\n",
    "y = np.arange(m)*dy\n",
    "t = np.arange(steps)*dt\n",
    "\n",
    "with plt.style.context(['science']):\n",
    "    # plot the data\n",
    "    xx, yy = meshgrid(x, y)\n",
    "    pc = pcolor(xx,yy,W[:,:,75].T, cmap='coolwarm', vmin=-4, vmax=4, shading='auto')\n",
    "    colorbar(pc)\n",
    "    # Cut out the portion of the data before the cylinder\n",
    "    xmin = 100*dx\n",
    "    xmax = (425-1)*dx\n",
    "    ymin = 15*dy\n",
    "    ymax = (185-1)*dy\n",
    "    plot([xmin,xmin],[ymin,ymax],'r',linewidth = 2)\n",
    "    plot([xmax,xmax],[ymin,ymax],'r',linewidth = 2)\n",
    "    plot([xmin,xmax],[ymin,ymin],'r',linewidth = 2)\n",
    "    plot([xmin,xmax],[ymax,ymax],'r',linewidth = 2)\n",
    "    xlim([0,n*dx-dx])\n",
    "    ylim([0,m*dy])\n",
    "    title('$w$ within the bounded domain')\n",
    "    xlabel('$x$', fontsize = 12)\n",
    "    ylabel('$y$', fontsize = 12)\n",
    "    savefig(\"navier-stokes.png\", dpi=300)"
   ]
  },
  {
   "cell_type": "code",
   "execution_count": null,
   "metadata": {},
   "outputs": [],
   "source": []
  },
  {
   "cell_type": "code",
   "execution_count": null,
   "metadata": {},
   "outputs": [],
   "source": []
  }
 ],
 "metadata": {
  "anaconda-cloud": {},
  "kernelspec": {
   "display_name": "Python [conda env:pysr]",
   "language": "python",
   "name": "conda-env-pysr-py"
  },
  "language_info": {
   "codemirror_mode": {
    "name": "ipython",
    "version": 3
   },
   "file_extension": ".py",
   "mimetype": "text/x-python",
   "name": "python",
   "nbconvert_exporter": "python",
   "pygments_lexer": "ipython3",
   "version": "3.10.10"
  },
  "widgets": {
   "application/vnd.jupyter.widget-state+json": {
    "state": {},
    "version_major": 2,
    "version_minor": 0
   }
  }
 },
 "nbformat": 4,
 "nbformat_minor": 4
}
