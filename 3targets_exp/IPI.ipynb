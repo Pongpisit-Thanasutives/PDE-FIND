{
 "cells": [
  {
   "cell_type": "code",
   "execution_count": 1,
   "id": "9e4931b9",
   "metadata": {},
   "outputs": [
    {
     "name": "stdout",
     "output_type": "stream",
     "text": [
      "%pylab is deprecated, use %matplotlib inline and import the required libraries.\n",
      "Populating the interactive namespace from numpy and matplotlib\n",
      "Sklearn's version: 1.2.2\n",
      "mrmr is not installed in the env you are using. This may cause an error in future if you try to use the (missing) lib.\n"
     ]
    }
   ],
   "source": [
    "%load_ext autoreload\n",
    "%autoreload 2\n",
    "%pylab inline\n",
    "pylab.rcParams['figure.figsize'] = (12, 8)\n",
    "import warnings; warnings.filterwarnings(\"ignore\")\n",
    "\n",
    "import numpy as np\n",
    "from mpl_toolkits.mplot3d import Axes3D\n",
    "import sys; sys.path.append('../')\n",
    "from PDE_FIND import *\n",
    "import scipy.io as sio\n",
    "import itertools\n",
    "\n",
    "import numpy as np\n",
    "import pandas as pde_diff_new\n",
    "from mpl_toolkits.mplot3d import Axes3D\n",
    "from sympy import symbols\n",
    "\n",
    "import sys; sys.path.append('../')\n",
    "from PDE_FIND import *\n",
    "from solvel0 import solvel0\n",
    "\n",
    "import sys; sys.path.append('../../parametric-discovery/')\n",
    "from best_subset import *\n",
    "from frols import frols\n",
    "from p_linear_regression import PLinearRegression\n",
    "from r_pca import R_pca\n",
    "from pde_diff_new import RPCA\n",
    "\n",
    "import scipy.io as sio\n",
    "from scipy.signal import savgol_filter\n",
    "import itertools\n",
    "\n",
    "from sklearn.preprocessing import normalize\n",
    "from sklearn.linear_model import Ridge, BayesianRidge, LinearRegression as SkLinearRegression\n",
    "from sklearn.base import BaseEstimator\n",
    "from sklearn.pipeline import make_pipeline\n",
    "from sklearn.metrics import mean_squared_error\n",
    "from abess.linear import LinearRegression\n",
    "import pysindy as ps\n",
    "\n",
    "from tqdm import trange\n",
    "from os.path import join as join_path\n",
    "FIGURE_EXPORT_PATH = \"/Users/pongpisit/Documents/figure_export/\"\n",
    "\n",
    "from function_collections import msemse"
   ]
  },
  {
   "cell_type": "code",
   "execution_count": 2,
   "id": "7468592d",
   "metadata": {},
   "outputs": [],
   "source": [
    "data = sio.loadmat(\"/Users/pongpisit/Desktop/research/examples/pde/reaction_diffusion_equations.mat\")"
   ]
  },
  {
   "cell_type": "code",
   "execution_count": 3,
   "id": "b1a98288",
   "metadata": {},
   "outputs": [],
   "source": [
    "t = data['tt'][:,0]; dt = t[1]-t[0]\n",
    "x = np.linspace(-1, 1, data['l1'][0,0]); dx = x[1]-x[0]\n",
    "# x = np.linspace(-1, 1, data['l1'][0,0]+1)[:-1]; dx = x[1]-x[0]\n",
    "u_sol = data['usol']\n",
    "v_sol = data['vsol']\n",
    "w_sol = data['wsol']"
   ]
  },
  {
   "cell_type": "code",
   "execution_count": 4,
   "id": "b5320079",
   "metadata": {},
   "outputs": [],
   "source": [
    "u = np.zeros((len(x), len(t), 3))\n",
    "u[:, :, 0] = u_sol\n",
    "u[:, :, 1] = v_sol\n",
    "u[:, :, 2] = w_sol\n",
    "\n",
    "# Odd polynomial terms in (u, v), up to second order derivatives in (u, v)\n",
    "library_functions = [\n",
    "    lambda x: x,\n",
    "    lambda x, y: x * y,\n",
    "]\n",
    "library_function_names = [\n",
    "    lambda x: x,\n",
    "    lambda x, y: x + y,\n",
    "]\n",
    "\n",
    "np.random.seed(1234)\n",
    "X, T = np.meshgrid(x, t)\n",
    "spatiotemporal_grid = np.asarray([X, T]).T\n",
    "\n",
    "weak_lib = ps.WeakPDELibrary(\n",
    "    library_functions=library_functions,\n",
    "    function_names=library_function_names,\n",
    "    derivative_order=2,\n",
    "    spatiotemporal_grid=spatiotemporal_grid,\n",
    "    K=10000,\n",
    "    is_uniform=True,\n",
    "    include_interaction=True,\n",
    "    interaction_only=True,\n",
    "    include_bias=False,\n",
    "    periodic=True,\n",
    "    cache=True\n",
    ")\n",
    "\n",
    "noise_lv = 0.1\n",
    "u = u + 0.01*noise_lv*np.std(u)*np.random.randn(*u.shape)"
   ]
  },
  {
   "cell_type": "code",
   "execution_count": 5,
   "id": "f1bd7b38",
   "metadata": {},
   "outputs": [
    {
     "name": "stdout",
     "output_type": "stream",
     "text": [
      "(u)' = 0.002 u_11 + 0.091 uu_11\n",
      "(v)' = 0.006 v_11 + 0.186 wv_11\n",
      "(w)' = 0.009 u_11 + 0.026 v_11 + 0.098 uw_11 + 0.002 uww_11\n"
     ]
    }
   ],
   "source": [
    "optimizer = ps.STLSQ(alpha=200, threshold=1e-3, normalize_columns=False)\n",
    "# optimizer = ps.MIOSR(target_sparsity=6, normalize_columns=False)\n",
    "model = ps.SINDy(feature_library=weak_lib, optimizer=optimizer, cache=True, feature_names=['u', 'v', 'w'])\n",
    "model.fit(u, ensemble=False, library_ensemble=False)\n",
    "model.print()"
   ]
  },
  {
   "cell_type": "code",
   "execution_count": 6,
   "id": "47b14fed",
   "metadata": {},
   "outputs": [],
   "source": [
    "X_pre, y_pre = model.feature_library.cached_xp_full[0], model.cached_x_dot\n",
    "w_pre = y_pre[:,2:3]"
   ]
  },
  {
   "cell_type": "code",
   "execution_count": 7,
   "id": "28d4f7f7",
   "metadata": {},
   "outputs": [
    {
     "name": "stderr",
     "output_type": "stream",
     "text": [
      "\r",
      "  0%|                                                                                                                              | 0/10 [00:00<?, ?it/s]"
     ]
    },
    {
     "name": "stdout",
     "output_type": "stream",
     "text": [
      "Set parameter Username\n",
      "Academic license - for non-commercial use only - expires 2024-06-04\n"
     ]
    },
    {
     "name": "stderr",
     "output_type": "stream",
     "text": [
      "100%|█████████████████████████████████████████████████████████████████████████████████████████████████████████████████████| 10/10 [01:50<00:00, 11.06s/it]\n"
     ]
    },
    {
     "name": "stdout",
     "output_type": "stream",
     "text": [
      "Call backward_refinement...\n"
     ]
    }
   ],
   "source": [
    "# Note that 11th feature be effective if is_normal = True\n",
    "is_normal = True\n",
    "solve_grb = solvel0(X_pre, w_pre, is_normal=is_normal, max_complexity=10, refine=True)"
   ]
  },
  {
   "cell_type": "code",
   "execution_count": 8,
   "id": "74828d32",
   "metadata": {},
   "outputs": [
    {
     "data": {
      "text/plain": [
       "[2, 3, 4, 8, 11, 13, 18, 20, 23, 31, 33, 36, 38, 42]"
      ]
     },
     "execution_count": 8,
     "metadata": {},
     "output_type": "execute_result"
    }
   ],
   "source": [
    "potential_indices = sum([Counter(e) for e in solve_grb])\n",
    "potential_indices = sorted(potential_indices, key=potential_indices.get, reverse=True)\n",
    "potential_indices = sorted(potential_indices)\n",
    "potential_indices"
   ]
  },
  {
   "cell_type": "code",
   "execution_count": 9,
   "id": "93a41183",
   "metadata": {},
   "outputs": [
    {
     "name": "stderr",
     "output_type": "stream",
     "text": [
      "100%|███████████████████████████████████████████████████████████████████████████████████████████████████████████████████████| 5/5 [00:03<00:00,  1.48it/s]\n"
     ]
    }
   ],
   "source": [
    "brute_solve = brute_force_all_subsets(X_pre[:, potential_indices], w_pre, max_support_size=5)"
   ]
  },
  {
   "cell_type": "code",
   "execution_count": 10,
   "id": "b84792d9",
   "metadata": {},
   "outputs": [
    {
     "name": "stdout",
     "output_type": "stream",
     "text": [
      "[2.00013936e+02 4.28353000e-04]\n",
      "uv\n",
      "w_11\n"
     ]
    }
   ],
   "source": [
    "W = brute_solve[0][1]\n",
    "print(W[abs(W)>0])\n",
    "for i in brute_solve[1][1]:\n",
    "    print(model.get_feature_names()[potential_indices[i]])"
   ]
  },
  {
   "cell_type": "code",
   "execution_count": 11,
   "id": "0cd5c79f",
   "metadata": {},
   "outputs": [],
   "source": [
    "BICs = []\n",
    "uncertainties = []\n",
    "for effective_indices in brute_solve[-1]:\n",
    "    effective_indices = [potential_indices[ei] for ei in effective_indices]\n",
    "    XX = X_pre[:, effective_indices]\n",
    "    if is_normal: XX = normalize(XX, axis=0)\n",
    "    fit_res = sm.OLS(w_pre, XX).fit()    \n",
    "    BICs.append(fit_res.bic)\n",
    "    uncertainties.append(sum(fit_res.bse))\n",
    "BICs = np.array(BICs)\n",
    "uncertainties = np.array(uncertainties)/min(uncertainties)"
   ]
  },
  {
   "cell_type": "code",
   "execution_count": 12,
   "id": "73f5c1be",
   "metadata": {},
   "outputs": [],
   "source": [
    "lam = 2\n",
    "UBICs = BICs+(10**lam)*log(len(w_pre))*uncertainties"
   ]
  },
  {
   "cell_type": "code",
   "execution_count": 13,
   "id": "246cb643",
   "metadata": {},
   "outputs": [
    {
     "data": {
      "image/png": "[encoded data removed]",
      "text/plain": [
       "<Figure size 864x576 with 1 Axes>"
      ]
     },
     "metadata": {
      "needs_background": "light"
     },
     "output_type": "display_data"
    }
   ],
   "source": [
    "plt.plot(BICs)\n",
    "plt.show()"
   ]
  },
  {
   "cell_type": "code",
   "execution_count": 14,
   "id": "59701295",
   "metadata": {},
   "outputs": [
    {
     "data": {
      "image/png": "[encoded data removed]",
      "text/plain": [
       "<Figure size 864x576 with 1 Axes>"
      ]
     },
     "metadata": {
      "needs_background": "light"
     },
     "output_type": "display_data"
    }
   ],
   "source": [
    "plt.plot(UBICs)\n",
    "plt.show()"
   ]
  },
  {
   "cell_type": "code",
   "execution_count": 15,
   "id": "194b8258",
   "metadata": {},
   "outputs": [
    {
     "data": {
      "text/plain": [
       "array([-143110.55496557, -165479.82656868, -165823.80939645,\n",
       "       -166620.39133781, -169258.33054701])"
      ]
     },
     "execution_count": 15,
     "metadata": {},
     "output_type": "execute_result"
    }
   ],
   "source": [
    "# is_normal = False\n",
    "# -144228.99857918, -158329.02580668, -170164.43839548, -175517.17871009, -180667.18645263\n",
    "# is_normal = True -> UBICs suggest more parsimony\n",
    "# -144228.99857918, -195993.82133994, -204257.2555485, -207577.4900399 , -214587.71087563\n",
    "BICs"
   ]
  },
  {
   "cell_type": "code",
   "execution_count": null,
   "id": "2e77869b",
   "metadata": {},
   "outputs": [],
   "source": []
  }
 ],
 "metadata": {
  "kernelspec": {
   "display_name": "Python [conda env:pysr]",
   "language": "python",
   "name": "conda-env-pysr-py"
  },
  "language_info": {
   "codemirror_mode": {
    "name": "ipython",
    "version": 3
   },
   "file_extension": ".py",
   "mimetype": "text/x-python",
   "name": "python",
   "nbconvert_exporter": "python",
   "pygments_lexer": "ipython3",
   "version": "3.10.10"
  }
 },
 "nbformat": 4,
 "nbformat_minor": 5
}
