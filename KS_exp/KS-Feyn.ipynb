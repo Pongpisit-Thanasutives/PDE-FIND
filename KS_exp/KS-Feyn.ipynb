{
 "cells": [
  {
   "cell_type": "code",
   "execution_count": 1,
   "id": "0e5ff67c",
   "metadata": {},
   "outputs": [],
   "source": [
    "%matplotlib inline\n",
    "import matplotlib.pyplot as plt\n",
    "\n",
    "import sys; sys.path.append('../')\n",
    "from misc import h5file\n",
    "import numpy as np\n",
    "\n",
    "import scipy.io as sio\n",
    "import sympy\n",
    "from sympy import Symbol, parse_expr, sympify, lambdify, Lambda\n",
    "\n",
    "import pandas as pd\n",
    "import subprocess\n",
    "\n",
    "from scipy.optimize import curve_fit\n",
    "import h5py\n",
    "\n",
    "MAIN_SEED = 1234"
   ]
  },
  {
   "cell_type": "code",
   "execution_count": 2,
   "id": "c1c19779",
   "metadata": {},
   "outputs": [],
   "source": [
    "data = sio.loadmat('../Datasets/kuramoto_sivishinky.mat')\n",
    "x = data['x'].real.reshape(-1, 1)/16"
   ]
  },
  {
   "cell_type": "code",
   "execution_count": 3,
   "id": "3593d312",
   "metadata": {},
   "outputs": [],
   "source": [
    "un = np.load(\"../KS_exp/denoised_u_files/KS_noise30_reduced_dctV2ksvdreg_25x25.npy\")\n",
    "un = data['uu']"
   ]
  },
  {
   "cell_type": "code",
   "execution_count": 4,
   "id": "3bd9e0a4",
   "metadata": {},
   "outputs": [
    {
     "name": "stdout",
     "output_type": "stream",
     "text": [
      "1.4025255593855488e-05\n",
      "0.3974412646508535\n"
     ]
    },
    {
     "data": {
      "text/plain": [
       "0.3967436381213865"
      ]
     },
     "execution_count": 4,
     "metadata": {},
     "output_type": "execute_result"
    }
   ],
   "source": [
    "file1 = h5py.File('../../PDE_Discovery_Weak_Formulation/Time_Integrators/Kuramoto_Sivashinsky.mat')\n",
    "print(((np.array(file1.get('uu'))-data['uu'].T)**2).mean())\n",
    "\n",
    "file2 = h5py.File('../../PDE_Discovery_Weak_Formulation/Time_Integrators/Kuramoto_Sivashinsky_inacc.mat')\n",
    "print(((np.array(file2.get('uu'))-data['uu'].T)**2).mean())\n",
    "\n",
    "((np.array(file1.get('uu'))-np.array(file2.get('uu')))**2).mean()"
   ]
  },
  {
   "cell_type": "code",
   "execution_count": 5,
   "id": "d2c84c70",
   "metadata": {},
   "outputs": [
    {
     "name": "stdout",
     "output_type": "stream",
     "text": [
      "This version of feyn and the QLattice is available for academic, personal, and non-commercial use. By using the community version of this software you agree to the terms and conditions which can be found at `https://abzu.ai/eula`.\n"
     ]
    }
   ],
   "source": [
    "import feyn\n",
    "ql = feyn.QLattice()"
   ]
  },
  {
   "cell_type": "code",
   "execution_count": 6,
   "id": "e27f87ef",
   "metadata": {},
   "outputs": [
    {
     "data": {
      "text/html": [
       "<?xml version=\"1.0\" encoding=\"utf-8\" ?>\n",
       "<svg baseProfile=\"full\" height=\"280.0\" preserveAspectRatio=\"none\" version=\"1.1\" viewBox=\"0 0 591 280.0\" width=\"591\" xmlns=\"http://www.w3.org/2000/svg\" xmlns:ev=\"http://www.w3.org/2001/xml-events\" xmlns:xlink=\"http://www.w3.org/1999/xlink\"><defs /><svg class=\"graph\" height=\"275.0\" width=\"591\" x=\"0\" y=\"0\"><defs /><text fill=\"#1E1E1E\" font-family=\"monospace\" font-size=\"12\" text-anchor=\"middle\" x=\"526.0\" y=\"159.0\">Loss: 1.52E-04</text><text fill=\"#1E1E1E\" font-family=\"monospace\" font-size=\"12\" text-anchor=\"start\" x=\"0\" y=\"265.0\">Epoch no. 10/10 - Tried 9656 models - Completed in 17s.</text><rect class=\"node\" fill=\"#00F082\" height=\"35\" stroke=\"#1E1E1E\" stroke-width=\"1\" width=\"90\" x=\"481\" y=\"110.0\"><title>y\n",
       "linear:\n",
       "scale=1.299033\n",
       "scale offset=0.000000\n",
       "w=-0.769900\n",
       "bias=0.8551</title></rect><text fill=\"#1E1E1E\" font-family=\"monospace\" font-size=\"12\" style=\"pointer-events:none\" text-anchor=\"middle\" x=\"526.0\" y=\"131.5\">y</text><text fill=\"#1E1E1E\" font-family=\"monospace\" font-size=\"10\" style=\"pointer-events:none\" text-anchor=\"end\" x=\"569\" y=\"119.0\">0</text><text fill=\"#1E1E1E\" font-family=\"monospace\" font-size=\"10\" style=\"pointer-events:none\" text-anchor=\"start\" x=\"483\" y=\"119.0\">out</text><line stroke=\"#1E1E1E\" x1=\"451\" x2=\"481\" y1=\"127.5\" y2=\"127.5\" /><rect class=\"node\" fill=\"#FAFAFA\" height=\"35\" stroke=\"#FF1EC8\" stroke-width=\"1\" width=\"90\" x=\"361\" y=\"110.0\"><title>add</title></rect><text fill=\"#1E1E1E\" font-family=\"monospace\" font-size=\"12\" style=\"pointer-events:none\" text-anchor=\"middle\" x=\"406.0\" y=\"131.5\">add</text><text fill=\"#1E1E1E\" font-family=\"monospace\" font-size=\"10\" style=\"pointer-events:none\" text-anchor=\"end\" x=\"449\" y=\"119.0\">1</text><line stroke=\"#1E1E1E\" x1=\"331\" x2=\"361\" y1=\"97.5\" y2=\"118.5\" /><line stroke=\"#1E1E1E\" x1=\"331\" x2=\"361\" y1=\"157.5\" y2=\"136.5\" /><rect class=\"node\" fill=\"#FAFAFA\" height=\"35\" stroke=\"#FF1EC8\" stroke-width=\"1\" width=\"90\" x=\"241\" y=\"80.0\"><title>multiply</title></rect><text fill=\"#1E1E1E\" font-family=\"monospace\" font-size=\"12\" style=\"pointer-events:none\" text-anchor=\"middle\" x=\"286.0\" y=\"101.5\">multiply</text><text fill=\"#1E1E1E\" font-family=\"monospace\" font-size=\"10\" style=\"pointer-events:none\" text-anchor=\"end\" x=\"329\" y=\"89.0\">2</text><line stroke=\"#1E1E1E\" x1=\"211\" x2=\"241\" y1=\"37.5\" y2=\"88.5\" /><line stroke=\"#1E1E1E\" x1=\"211\" x2=\"241\" y1=\"97.5\" y2=\"106.5\" /><rect class=\"node\" fill=\"#00F082\" height=\"35\" stroke=\"#1E1E1E\" stroke-width=\"1\" width=\"90\" x=\"121\" y=\"20.0\"><title>x\n",
       "linear:\n",
       "scale=0.318621\n",
       "scale offset=3.144661\n",
       "w=6.669789\n",
       "bias=4.1973</title></rect><text fill=\"#1E1E1E\" font-family=\"monospace\" font-size=\"12\" style=\"pointer-events:none\" text-anchor=\"middle\" x=\"166.0\" y=\"41.5\">x</text><text fill=\"#1E1E1E\" font-family=\"monospace\" font-size=\"10\" style=\"pointer-events:none\" text-anchor=\"end\" x=\"209\" y=\"29.0\">3</text><text fill=\"#1E1E1E\" font-family=\"monospace\" font-size=\"10\" style=\"pointer-events:none\" text-anchor=\"start\" x=\"123\" y=\"29.0\">num</text><rect class=\"node\" fill=\"#FAFAFA\" height=\"35\" stroke=\"#FF1EC8\" stroke-width=\"1\" width=\"90\" x=\"121\" y=\"80.0\"><title>gaussian</title></rect><text fill=\"#1E1E1E\" font-family=\"monospace\" font-size=\"12\" style=\"pointer-events:none\" text-anchor=\"middle\" x=\"166.0\" y=\"101.5\">gaussian</text><text fill=\"#1E1E1E\" font-family=\"monospace\" font-size=\"10\" style=\"pointer-events:none\" text-anchor=\"end\" x=\"209\" y=\"89.0\">4</text><line stroke=\"#1E1E1E\" x1=\"91\" x2=\"121\" y1=\"67.5\" y2=\"97.5\" /><rect class=\"node\" fill=\"#00F082\" height=\"35\" stroke=\"#1E1E1E\" stroke-width=\"1\" width=\"90\" x=\"1\" y=\"50.0\"><title>x\n",
       "linear:\n",
       "scale=0.318621\n",
       "scale offset=3.144661\n",
       "w=-1.370655\n",
       "bias=-0.6374</title></rect><text fill=\"#1E1E1E\" font-family=\"monospace\" font-size=\"12\" style=\"pointer-events:none\" text-anchor=\"middle\" x=\"46.0\" y=\"71.5\">x</text><text fill=\"#1E1E1E\" font-family=\"monospace\" font-size=\"10\" style=\"pointer-events:none\" text-anchor=\"end\" x=\"89\" y=\"59.0\">5</text><text fill=\"#1E1E1E\" font-family=\"monospace\" font-size=\"10\" style=\"pointer-events:none\" text-anchor=\"start\" x=\"3\" y=\"59.0\">num</text><rect class=\"node\" fill=\"#FAFAFA\" height=\"35\" stroke=\"#FF1EC8\" stroke-width=\"1\" width=\"90\" x=\"241\" y=\"140.0\"><title>gaussian</title></rect><text fill=\"#1E1E1E\" font-family=\"monospace\" font-size=\"12\" style=\"pointer-events:none\" text-anchor=\"middle\" x=\"286.0\" y=\"161.5\">gaussian</text><text fill=\"#1E1E1E\" font-family=\"monospace\" font-size=\"10\" style=\"pointer-events:none\" text-anchor=\"end\" x=\"329\" y=\"149.0\">6</text><line stroke=\"#1E1E1E\" x1=\"211\" x2=\"241\" y1=\"157.5\" y2=\"148.5\" /><line stroke=\"#1E1E1E\" x1=\"211\" x2=\"241\" y1=\"217.5\" y2=\"166.5\" /><rect class=\"node\" fill=\"#FAFAFA\" height=\"35\" stroke=\"#FF1EC8\" stroke-width=\"1\" width=\"90\" x=\"121\" y=\"140.0\"><title>multiply</title></rect><text fill=\"#1E1E1E\" font-family=\"monospace\" font-size=\"12\" style=\"pointer-events:none\" text-anchor=\"middle\" x=\"166.0\" y=\"161.5\">multiply</text><text fill=\"#1E1E1E\" font-family=\"monospace\" font-size=\"10\" style=\"pointer-events:none\" text-anchor=\"end\" x=\"209\" y=\"149.0\">7</text><line stroke=\"#1E1E1E\" x1=\"91\" x2=\"121\" y1=\"127.5\" y2=\"148.5\" /><line stroke=\"#1E1E1E\" x1=\"91\" x2=\"121\" y1=\"187.5\" y2=\"166.5\" /><rect class=\"node\" fill=\"#00F082\" height=\"35\" stroke=\"#1E1E1E\" stroke-width=\"1\" width=\"90\" x=\"1\" y=\"110.0\"><title>x\n",
       "linear:\n",
       "scale=0.318621\n",
       "scale offset=3.144661\n",
       "w=1.937754\n",
       "bias=-1.2235</title></rect><text fill=\"#1E1E1E\" font-family=\"monospace\" font-size=\"12\" style=\"pointer-events:none\" text-anchor=\"middle\" x=\"46.0\" y=\"131.5\">x</text><text fill=\"#1E1E1E\" font-family=\"monospace\" font-size=\"10\" style=\"pointer-events:none\" text-anchor=\"end\" x=\"89\" y=\"119.0\">8</text><text fill=\"#1E1E1E\" font-family=\"monospace\" font-size=\"10\" style=\"pointer-events:none\" text-anchor=\"start\" x=\"3\" y=\"119.0\">num</text><rect class=\"node\" fill=\"#00F082\" height=\"35\" stroke=\"#1E1E1E\" stroke-width=\"1\" width=\"90\" x=\"1\" y=\"170.0\"><title>x\n",
       "linear:\n",
       "scale=0.318621\n",
       "scale offset=3.144661\n",
       "w=0.618330\n",
       "bias=0.6803</title></rect><text fill=\"#1E1E1E\" font-family=\"monospace\" font-size=\"12\" style=\"pointer-events:none\" text-anchor=\"middle\" x=\"46.0\" y=\"191.5\">x</text><text fill=\"#1E1E1E\" font-family=\"monospace\" font-size=\"10\" style=\"pointer-events:none\" text-anchor=\"end\" x=\"89\" y=\"179.0\">9</text><text fill=\"#1E1E1E\" font-family=\"monospace\" font-size=\"10\" style=\"pointer-events:none\" text-anchor=\"start\" x=\"3\" y=\"179.0\">num</text><rect class=\"node\" fill=\"#00F082\" height=\"35\" stroke=\"#1E1E1E\" stroke-width=\"1\" width=\"90\" x=\"121\" y=\"200.0\"><title>x\n",
       "linear:\n",
       "scale=0.318621\n",
       "scale offset=3.144661\n",
       "w=0.000001\n",
       "bias=0.0000</title></rect><text fill=\"#1E1E1E\" font-family=\"monospace\" font-size=\"12\" style=\"pointer-events:none\" text-anchor=\"middle\" x=\"166.0\" y=\"221.5\">x</text><text fill=\"#1E1E1E\" font-family=\"monospace\" font-size=\"10\" style=\"pointer-events:none\" text-anchor=\"end\" x=\"209\" y=\"209.0\">10</text><text fill=\"#1E1E1E\" font-family=\"monospace\" font-size=\"10\" style=\"pointer-events:none\" text-anchor=\"start\" x=\"123\" y=\"209.0\">num</text></svg></svg>"
      ],
      "text/plain": [
       "<IPython.core.display.HTML object>"
      ]
     },
     "metadata": {},
     "output_type": "display_data"
    }
   ],
   "source": [
    "y = un[:, 0]\n",
    "train = pd.DataFrame({'x':x.flatten(), 'y':y})\n",
    "models = ql.auto_run(train, output_name = 'y', max_complexity=10, n_epochs=10)"
   ]
  },
  {
   "cell_type": "code",
   "execution_count": 7,
   "id": "1b71f257",
   "metadata": {},
   "outputs": [
    {
     "data": {
      "text/latex": [
       "$\\displaystyle - 1.00012 \\cdot \\left(2.12514 x - 2.48551\\right) e^{- 1.0831 \\left(1 - 0.593449 x\\right)^{2}} - 1.00012 e^{- 0.777641 \\left(0.195071 x - 1\\right)^{2} \\left(x + 0.308438\\right)^{2} - 3.36804 \\cdot 10^{-13} \\left(x - 0.370225\\right)^{2}} + 1.11084$"
      ],
      "text/plain": [
       "-1.00012*(2.12514*x - 2.48551)*exp(-1.0831*(1 - 0.593449*x)**2) - 1.00012*exp(-0.777641*(0.195071*x - 1)**2*(x + 0.308438)**2 - 3.36804e-13*(x - 0.370225)**2) + 1.11084"
      ]
     },
     "execution_count": 7,
     "metadata": {},
     "output_type": "execute_result"
    }
   ],
   "source": [
    "best = models[0]\n",
    "sympy_model = best.sympify()\n",
    "sympy_model.as_expr()"
   ]
  },
  {
   "cell_type": "code",
   "execution_count": null,
   "id": "2ec9b46a",
   "metadata": {},
   "outputs": [],
   "source": []
  }
 ],
 "metadata": {
  "kernelspec": {
   "display_name": "Python [conda env:pysr]",
   "language": "python",
   "name": "conda-env-pysr-py"
  },
  "language_info": {
   "codemirror_mode": {
    "name": "ipython",
    "version": 3
   },
   "file_extension": ".py",
   "mimetype": "text/x-python",
   "name": "python",
   "nbconvert_exporter": "python",
   "pygments_lexer": "ipython3",
   "version": "3.10.10"
  }
 },
 "nbformat": 4,
 "nbformat_minor": 5
}
