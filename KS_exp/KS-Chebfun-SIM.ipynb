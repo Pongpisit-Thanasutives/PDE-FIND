{
 "cells": [
  {
   "cell_type": "code",
   "execution_count": 1,
   "id": "a661d12a",
   "metadata": {},
   "outputs": [],
   "source": [
    "import sys\n",
    "pdefind_path = \"/Users/pongpisit/Desktop/research/PDE-FIND/\"\n",
    "sys.path.insert(0, pdefind_path)\n",
    "from misc import h5file\n",
    "\n",
    "import jax.numpy as jnp\n",
    "from scipy.optimize import curve_fit\n",
    "from jaxfit import CurveFit\n",
    "from levenberg_marquardt import lm as lm_curve_fit\n",
    "\n",
    "import numpy as np\n",
    "import pandas as pd\n",
    "from scipy.io import loadmat\n",
    "import sympy as sp\n",
    "import matplotlib.pyplot as plt\n",
    "import dedalus.public as d3\n",
    "\n",
    "def log_like_value(prediction, ground):                                                                                                               \n",
    "    nobs = float(ground.shape[0])\n",
    "    nobs2 = nobs / 2.0\n",
    "    ssr = np.sum(np.abs(ground - prediction)**2)\n",
    "    llf = -nobs2 * np.log(2 * np.pi) - nobs2 * np.log(ssr / nobs) - nobs2\n",
    "    return llf\n",
    "\n",
    "def BIC_AIC(prediction, ground, nparams, reg_func = lambda x: x):\n",
    "    nparams = reg_func(nparams)\n",
    "    llf = log_like_value(prediction, ground)\n",
    "    return -2*llf + np.log(ground.shape[0])*nparams, -2*llf + 2*nparams"
   ]
  },
  {
   "cell_type": "code",
   "execution_count": 2,
   "id": "1f554152",
   "metadata": {},
   "outputs": [],
   "source": [
    "# Parameters\n",
    "Rx = 32*np.pi\n",
    "Nx = 1024\n",
    "Lx = Rx/Nx\n",
    "dealias = 1.5\n",
    "stop_sim_time = 100\n",
    "timestepper = d3.SBDF4\n",
    "acc = 16\n",
    "timestep = 0.016/acc\n",
    "dtype = np.float64"
   ]
  },
  {
   "cell_type": "code",
   "execution_count": 3,
   "id": "00d361fe",
   "metadata": {},
   "outputs": [],
   "source": [
    "# Bases\n",
    "xcoord = d3.Coordinate('x')\n",
    "dist = d3.Distributor(xcoord, dtype=dtype)\n",
    "xbasis = d3.RealFourier(xcoord, size=Nx, bounds=(Lx, Rx+Lx), dealias=dealias)\n",
    "\n",
    "# Fields\n",
    "u = dist.Field(name='u', bases=xbasis)\n",
    "\n",
    "# Substitutions\n",
    "dx = lambda A: d3.Differentiate(A, xcoord)"
   ]
  },
  {
   "cell_type": "code",
   "execution_count": 4,
   "id": "82e70270",
   "metadata": {},
   "outputs": [
    {
     "name": "stdout",
     "output_type": "stream",
     "text": [
      "['X_pre', 'best_subsets', 'un', 'y_pre']\n",
      "0.9952025550450707 0.0006388964618597726 0.9966536432642854 0.9968941888507773\n"
     ]
    }
   ],
   "source": [
    "complexity = 4\n",
    "X_pre, best_subsets, un, y_pre = h5file(\"./IPI_output_files/PMS_data.h5\")\n",
    "xaxis = loadmat(\"/Users/pongpisit/Desktop/research/PDE-FIND/Datasets/kuramoto_sivishinky.mat\")['x']\n",
    "if complexity == 3:\n",
    "    # 0.9951430536784973 0.9966016871225765 0.9968154216196904\n",
    "    a, b, c = np.abs(np.linalg.lstsq(X_pre[:, np.where(best_subsets[complexity-1]>0)[0]], y_pre, \n",
    "                                     rcond=None)[0].flatten())\n",
    "    print(a, b, c)\n",
    "elif complexity == 4:\n",
    "    # 0.9952025550450707 0.0006388964618597726 0.9966536432642854 0.9968941888507773\n",
    "    a, b, c, d = np.abs(np.linalg.lstsq(X_pre[:, np.where(best_subsets[complexity-1]>0)[0]], y_pre, \n",
    "                                        rcond=None)[0].flatten())\n",
    "    print(a, b, c, d)"
   ]
  },
  {
   "cell_type": "code",
   "execution_count": 5,
   "id": "1022a237",
   "metadata": {},
   "outputs": [],
   "source": [
    "# Problem\n",
    "problem = d3.IVP([u], namespace=locals())\n",
    "# a, b, c = (1.0, 1.0, 1.0)\n",
    "if complexity == 3:\n",
    "    problem.add_equation(\"dt(u) + a*dx(dx(u)) + b*dx(dx(dx(dx(u)))) = - c*u*dx(u)\")\n",
    "elif complexity == 4:\n",
    "    problem.add_equation(\"dt(u) + a*dx(dx(u)) - b*dx(dx(dx(u))) + c*dx(dx(dx(dx(u)))) = - d*u*dx(u)\")"
   ]
  },
  {
   "cell_type": "code",
   "execution_count": 6,
   "id": "cc04f8b2",
   "metadata": {},
   "outputs": [
    {
     "name": "stdout",
     "output_type": "stream",
     "text": [
      "(cos(0.062976345 * x0) * (0.9813761 + sin(0.062976345 * x0)))\n"
     ]
    },
    {
     "data": {
      "text/plain": [
       "array([0.06297635, 0.06297635, 0.9813761 ])"
      ]
     },
     "execution_count": 6,
     "metadata": {},
     "output_type": "execute_result"
    }
   ],
   "source": [
    "hall_path = \"./hall/1/hall_of_fame_2023-05-27_145328.068.csv\"\n",
    "equation = pd.read_csv(hall_path)['Equation'].iloc[7]; print(equation)\n",
    "at1, at2 = sp.sympify(equation).atoms(sp.Number)\n",
    "if at1 > at2: at1, at2 = at2, at1\n",
    "pysr_params = np.array([at1, at1, at2], dtype=dtype)\n",
    "def initial_function(x, a, b, c): return np.cos(a*x)*(c+np.sin(b*x))\n",
    "def jax_initial_function(x, a, b, c): return jnp.cos(a*x)*(c+jnp.sin(b*x))\n",
    "pysr_params"
   ]
  },
  {
   "cell_type": "code",
   "execution_count": 7,
   "id": "ba4a1dda",
   "metadata": {},
   "outputs": [
    {
     "name": "stdout",
     "output_type": "stream",
     "text": [
      "Using uniform weights for error analysis\n",
      "**** Convergence in Parameters ****\n",
      "\n",
      "LM fitting results:\n",
      "----------------------------- \n",
      "parameter      = p1\n",
      "fitted value   = 0.0594\n",
      "standard error = 0.70 %\n",
      "----------------------------- \n",
      "parameter      = p2\n",
      "fitted value   = 0.0592\n",
      "standard error = 0.70 %\n",
      "----------------------------- \n",
      "parameter      = p3\n",
      "fitted value   = 0.9879\n",
      "standard error = 0.04 %\n",
      "2023-06-05 14:49:20,002 jax._src.dispatch 0/1 WARNING :: Finished tracing + transforming jit(convert_element_type) in 0.00032520294189453125 sec\n",
      "2023-06-05 14:49:20,008 jax._src.xla_bridge 0/1 INFO :: Unable to initialize backend 'cuda': module 'jaxlib.xla_extension' has no attribute 'GpuAllocatorConfig'\n",
      "2023-06-05 14:49:20,009 jax._src.xla_bridge 0/1 INFO :: Unable to initialize backend 'rocm': module 'jaxlib.xla_extension' has no attribute 'GpuAllocatorConfig'\n",
      "2023-06-05 14:49:20,010 jax._src.xla_bridge 0/1 INFO :: Unable to initialize backend 'tpu': module 'jaxlib.xla_extension' has no attribute 'get_tpu_client'\n",
      "2023-06-05 14:49:20,011 jax._src.xla_bridge 0/1 INFO :: Unable to initialize backend 'plugin': xla_extension has no attributes named get_plugin_device_client. Compile TensorFlow with //tensorflow/compiler/xla/python:enable_plugin_device set to true (defaults to false) to enable this.\n",
      "2023-06-05 14:49:20,013 jax._src.dispatch 0/1 WARNING :: Finished tracing + transforming jit(convert_element_type) in 0.00028204917907714844 sec\n",
      "2023-06-05 14:49:20,020 jax._src.dispatch 0/1 WARNING :: Finished tracing + transforming fn for pjit in 0.0006730556488037109 sec\n",
      "2023-06-05 14:49:20,022 jax._src.dispatch 0/1 WARNING :: Finished tracing + transforming <lambda> for pjit in 0.0004050731658935547 sec\n",
      "2023-06-05 14:49:20,024 jax._src.dispatch 0/1 WARNING :: Finished tracing + transforming <lambda> for pjit in 0.0003838539123535156 sec\n",
      "2023-06-05 14:49:20,025 jax._src.dispatch 0/1 WARNING :: Finished tracing + transforming fn for pjit in 0.0004730224609375 sec\n",
      "2023-06-05 14:49:20,028 jax._src.dispatch 0/1 WARNING :: Finished tracing + transforming fn for pjit in 0.0005879402160644531 sec\n",
      "2023-06-05 14:49:20,030 jax._src.dispatch 0/1 WARNING :: Finished tracing + transforming <lambda> for pjit in 0.0004889965057373047 sec\n",
      "2023-06-05 14:49:20,033 jax._src.dispatch 0/1 WARNING :: Finished tracing + transforming _broadcast_arrays for pjit in 0.0014488697052001953 sec\n",
      "2023-06-05 14:49:20,036 jax._src.dispatch 0/1 WARNING :: Finished tracing + transforming _where for pjit in 0.004603147506713867 sec\n",
      "2023-06-05 14:49:20,037 jax._src.dispatch 0/1 WARNING :: Finished tracing + transforming masked_residual_func for pjit in 0.019735097885131836 sec\n",
      "2023-06-05 14:49:20,039 jax._src.dispatch 0/1 WARNING :: Finished tracing + transforming func_no_transform for pjit in 0.022094011306762695 sec\n",
      "2023-06-05 14:49:20,079 jax._src.dispatch 0/1 WARNING :: Finished XLA compilation of jit(func_no_transform) in 0.02928304672241211 sec\n",
      "2023-06-05 14:49:20,088 jax._src.dispatch 0/1 WARNING :: Finished tracing + transforming masked_residual_func for pjit in 0.0029549598693847656 sec\n",
      "2023-06-05 14:49:20,089 jax._src.dispatch 0/1 WARNING :: Finished tracing + transforming func_no_transform for pjit in 0.004593372344970703 sec\n",
      "2023-06-05 14:49:20,091 jax._src.dispatch 0/1 WARNING :: Finished tracing + transforming wrap_func for pjit in 0.00631403923034668 sec\n",
      "2023-06-05 14:49:20,106 jax._src.dispatch 0/1 WARNING :: Finished tracing + transforming jac_func for pjit in 0.025287866592407227 sec\n",
      "2023-06-05 14:49:20,109 jax._src.dispatch 0/1 WARNING :: Finished tracing + transforming _broadcast_arrays for pjit in 0.0005688667297363281 sec\n",
      "2023-06-05 14:49:20,110 jax._src.dispatch 0/1 WARNING :: Finished tracing + transforming _where for pjit in 0.002195119857788086 sec\n",
      "2023-06-05 14:49:20,111 jax._src.dispatch 0/1 WARNING :: Finished tracing + transforming atleast_2d for pjit in 0.0002548694610595703 sec\n",
      "2023-06-05 14:49:20,113 jax._src.dispatch 0/1 WARNING :: Finished tracing + transforming masked_jac for pjit in 0.03188204765319824 sec\n",
      "2023-06-05 14:49:20,159 jax._src.dispatch 0/1 WARNING :: Finished XLA compilation of jit(masked_jac) in 0.024199962615966797 sec\n",
      "2023-06-05 14:49:20,163 jax._src.dispatch 0/1 WARNING :: Finished tracing + transforming dot for pjit in 0.0009131431579589844 sec\n",
      "2023-06-05 14:49:20,166 jax._src.dispatch 0/1 WARNING :: Finished tracing + transforming fn for pjit in 0.0007340908050537109 sec\n",
      "2023-06-05 14:49:20,168 jax._src.dispatch 0/1 WARNING :: Finished tracing + transforming loss_function for pjit in 0.006078004837036133 sec\n",
      "2023-06-05 14:49:20,189 jax._src.dispatch 0/1 WARNING :: Finished XLA compilation of jit(loss_function) in 0.017400026321411133 sec\n",
      "2023-06-05 14:49:20,191 jax._src.dispatch 0/1 WARNING :: Finished tracing + transforming dot for pjit in 0.0005540847778320312 sec\n",
      "2023-06-05 14:49:20,192 jax._src.dispatch 0/1 WARNING :: Finished tracing + transforming compute_grad for pjit in 0.0021009445190429688 sec\n",
      "2023-06-05 14:49:20,216 jax._src.dispatch 0/1 WARNING :: Finished XLA compilation of jit(compute_grad) in 0.020840883255004883 sec\n",
      "2023-06-05 14:49:20,218 jax._src.dispatch 0/1 WARNING :: Finished tracing + transforming jit(convert_element_type) in 0.00041604042053222656 sec\n",
      "2023-06-05 14:49:20,220 jax._src.dispatch 0/1 WARNING :: Finished tracing + transforming fn for pjit in 0.0005321502685546875 sec\n",
      "2023-06-05 14:49:20,222 jax._src.dispatch 0/1 WARNING :: Finished tracing + transforming compute_grad_hat for pjit in 0.002524137496948242 sec\n",
      "2023-06-05 14:49:20,236 jax._src.dispatch 0/1 WARNING :: Finished XLA compilation of jit(compute_grad_hat) in 0.011051654815673828 sec\n",
      "2023-06-05 14:49:20,238 jax._src.dispatch 0/1 WARNING :: Finished tracing + transforming fn for pjit in 0.0006968975067138672 sec\n",
      "2023-06-05 14:49:20,240 jax._src.dispatch 0/1 WARNING :: Finished tracing + transforming _svd for pjit in 0.00043201446533203125 sec\n",
      "2023-06-05 14:49:20,242 jax._src.dispatch 0/1 WARNING :: Finished tracing + transforming dot for pjit in 0.0005962848663330078 sec\n",
      "2023-06-05 14:49:20,244 jax._src.dispatch 0/1 WARNING :: Finished tracing + transforming svd_no_bounds for pjit in 0.006541728973388672 sec\n",
      "2023-06-05 14:49:20,293 jax._src.dispatch 0/1 WARNING :: Finished XLA compilation of jit(svd_no_bounds) in 0.03796887397766113 sec\n",
      "2023-06-05 14:49:20,295 jax._src.dispatch 0/1 WARNING :: Finished tracing + transforming dot for pjit in 0.0005970001220703125 sec\n",
      "2023-06-05 14:49:20,298 jax._src.dispatch 0/1 WARNING :: Finished tracing + transforming dot for pjit in 0.0005729198455810547 sec\n",
      "2023-06-05 14:49:20,300 jax._src.dispatch 0/1 WARNING :: Finished tracing + transforming fn for pjit in 0.0003769397735595703 sec\n",
      "2023-06-05 14:49:20,301 jax._src.dispatch 0/1 WARNING :: Finished tracing + transforming evaluate_quadratic1 for pjit in 0.006359100341796875 sec\n",
      "2023-06-05 14:49:20,338 jax._src.dispatch 0/1 WARNING :: Finished XLA compilation of jit(evaluate_quadratic1) in 0.03352975845336914 sec\n",
      "2023-06-05 14:49:20,340 jax._src.dispatch 0/1 WARNING :: Finished tracing + transforming <lambda> for pjit in 0.00032901763916015625 sec\n",
      "2023-06-05 14:49:20,352 jax._src.dispatch 0/1 WARNING :: Finished XLA compilation of jit(<lambda>) in 0.009164094924926758 sec\n",
      "2023-06-05 14:49:20,355 jax._src.dispatch 0/1 WARNING :: Finished tracing + transforming isfinite for pjit in 0.0006968975067138672 sec\n",
      "2023-06-05 14:49:20,357 jax._src.dispatch 0/1 WARNING :: Finished tracing + transforming _reduce_all for pjit in 0.0005590915679931641 sec\n",
      "2023-06-05 14:49:20,359 jax._src.dispatch 0/1 WARNING :: Finished tracing + transforming isfinite for pjit in 0.0044820308685302734 sec\n",
      "2023-06-05 14:49:20,392 jax._src.dispatch 0/1 WARNING :: Finished XLA compilation of jit(isfinite) in 0.023620128631591797 sec\n",
      "2023-06-05 14:49:20,396 jax._src.dispatch 0/1 WARNING :: Finished tracing + transforming covariance_svd for pjit in 0.000492095947265625 sec\n",
      "2023-06-05 14:49:20,424 jax._src.dispatch 0/1 WARNING :: Finished XLA compilation of jit(covariance_svd) in 0.023135900497436523 sec\n"
     ]
    },
    {
     "data": {
      "text/plain": [
       "(array([0.06297635, 0.06297635, 0.9813761 ]),\n",
       " array([0.06263812, 0.06286727, 0.9839311 ]),\n",
       " array([0.06263812, 0.06286727, 0.9839311 ]),\n",
       " array([0.05936273, 0.05919549, 0.98790786]))"
      ]
     },
     "execution_count": 7,
     "metadata": {},
     "output_type": "execute_result"
    }
   ],
   "source": [
    "lm_func = lambda t,p: np.cos(p[0,0]*t)*(p[2,0]+np.sin(p[1,0]*t))\n",
    "\n",
    "recovered_params3 = lm_curve_fit(np.round(pysr_params.reshape(-1, 1), 1), \n",
    "                                 xaxis.flatten(), un[:, 0], \n",
    "                                 lm_func)[0].flatten()\n",
    "\n",
    "# recovered_params1 and recovered_params2 gave similar results. Choose 1.\n",
    "recovered_params2 = np.array(curve_fit(initial_function, xaxis.flatten(), un[:, 0], \n",
    "                                       p0=pysr_params, method='lm')[0])\n",
    "recovered_params1 = np.array(CurveFit().curve_fit(jax_initial_function, xaxis.flatten(), un[:, 0], \n",
    "                                                  p0=pysr_params)[0])\n",
    "\n",
    "pysr_params, recovered_params1, recovered_params2, recovered_params3"
   ]
  },
  {
   "cell_type": "code",
   "execution_count": 8,
   "id": "f6bc6845",
   "metadata": {},
   "outputs": [],
   "source": [
    "# pysr_params, recovered_params1, recovered_params2, recovered_params3\n",
    "recovered_params = recovered_params1\n",
    "# Initial conditions\n",
    "x = dist.local_grid(xbasis)\n",
    "# u['g'] = np.cos(x/16)*(1+np.sin(x/16))\n",
    "# u['g'] = np.cos(recovered_params[0]*x)*(recovered_params[2]+np.sin(recovered_params[1]*x))\n",
    "u['g'] = un[:, 0]"
   ]
  },
  {
   "cell_type": "code",
   "execution_count": 9,
   "id": "39b1481e",
   "metadata": {},
   "outputs": [],
   "source": [
    "# load ref\n",
    "data = loadmat(\"/Users/pongpisit/Desktop/research/PDE-FIND/Datasets/kuramoto_sivishinky.mat\")\n",
    "u_clean = data[\"uu\"]\n",
    "u_clean = u_clean.real\n",
    "xaxis = data['x'].real.ravel()\n",
    "taxis = data['tt'].real.ravel()"
   ]
  },
  {
   "cell_type": "code",
   "execution_count": 10,
   "id": "954b2c0f",
   "metadata": {},
   "outputs": [],
   "source": [
    "# noise_lv = 30\n",
    "# u_test = u_clean + 0.01*np.abs(noise_lv)*(u_clean.std())*np.random.randn(u_clean.shape[0], \n",
    "#                                                                          u_clean.shape[1])"
   ]
  },
  {
   "cell_type": "code",
   "execution_count": 11,
   "id": "595bcec0",
   "metadata": {},
   "outputs": [
    {
     "data": {
      "text/plain": [
       "(819637.6824135671, 819650.1445381376)"
      ]
     },
     "execution_count": 11,
     "metadata": {},
     "output_type": "execute_result"
    }
   ],
   "source": [
    "# load cf\n",
    "# cf_com3 = loadmat(\"/Users/pongpisit/Desktop/research/PDE-FIND/DeepHPMs/Matlab/ks_chaotic.mat\")\n",
    "cf_com3 = loadmat(\"/Users/pongpisit/Desktop/research/PDE-FIND/DeepHPMs/Matlab/KS_sim/ks_chaotic_sim_adjustedIC_com3.mat\")\n",
    "cf_com4 = loadmat(\"/Users/pongpisit/Desktop/research/PDE-FIND/DeepHPMs/Matlab/KS_sim/ks_chaotic_sim_adjustedIC_com4.mat\")\n",
    "cf_com3 = cf_com3['usol'][1:, :]\n",
    "cf_com4 = cf_com4['usol'][1:, :]\n",
    "u_test = un.copy()\n",
    "bic_com3 = BIC_AIC(cf_com3.reshape(-1, 1), u_test.reshape(-1, 1), 3)[0]\n",
    "bic_com4 = BIC_AIC(cf_com4.reshape(-1, 1), u_test.reshape(-1, 1), 4)[0]\n",
    "assert bic_com3 < bic_com4\n",
    "bic_com3, bic_com4"
   ]
  },
  {
   "cell_type": "code",
   "execution_count": null,
   "id": "c58dd653",
   "metadata": {},
   "outputs": [],
   "source": []
  },
  {
   "cell_type": "code",
   "execution_count": null,
   "id": "de05fe1c",
   "metadata": {},
   "outputs": [],
   "source": []
  },
  {
   "cell_type": "code",
   "execution_count": null,
   "id": "2b652a7a",
   "metadata": {},
   "outputs": [],
   "source": []
  },
  {
   "cell_type": "code",
   "execution_count": null,
   "id": "b922c7e7",
   "metadata": {},
   "outputs": [],
   "source": []
  },
  {
   "cell_type": "code",
   "execution_count": null,
   "id": "09ed4901",
   "metadata": {},
   "outputs": [],
   "source": []
  },
  {
   "cell_type": "code",
   "execution_count": null,
   "id": "e91364ee",
   "metadata": {},
   "outputs": [],
   "source": [
    "noise_lv = 30\n",
    "on_undenoised = False\n",
    "if on_undenoised:\n",
    "    np.random.seed(0)\n",
    "    u_test = u_clean + 0.01*np.abs(noise_lv)*(u_clean.std())*np.random.randn(u_clean.shape[0], \n",
    "                                                                             u_clean.shape[1])\n",
    "else:\n",
    "    u_test = un.copy()\n",
    "    \n",
    "bic, aic = BIC_AIC(pred.reshape(-1, 1), u_test.reshape(-1, 1), complexity)\n",
    "complexity, bic, aic"
   ]
  },
  {
   "cell_type": "code",
   "execution_count": null,
   "id": "05187946",
   "metadata": {},
   "outputs": [],
   "source": [
    "noise_lv = 30\n",
    "on_undenoised = True\n",
    "if on_undenoised:\n",
    "    np.random.seed(0)\n",
    "    u_test = u_clean + 0.01*np.abs(noise_lv)*(u_clean.std())*np.random.randn(u_clean.shape[0], \n",
    "                                                                             u_clean.shape[1])\n",
    "else:\n",
    "    u_test = un.copy()\n",
    "    \n",
    "bic, aic = BIC_AIC(pred.reshape(-1, 1), u_test.reshape(-1, 1), complexity)\n",
    "complexity, bic, aic"
   ]
  },
  {
   "cell_type": "code",
   "execution_count": null,
   "id": "cec5cce2",
   "metadata": {},
   "outputs": [],
   "source": [
    "##### Dedalus3 (pred = simulated_var.T) #####\n",
    "### raw values un[:, 0] as IC *** ###\n",
    "# (3, 939694.1722609766, 939662.8014867424) on denoised\n",
    "# (4, 968190.4618845284, 968148.6341855495) on denoised\n",
    "# (3, 950743.0252888124, 950711.6545145782) on undenoised\n",
    "# (4, 978106.5687099883, 978064.7410110093) on undenoised\n",
    "### pysr_params IC ###\n",
    "# (3, 803185.643152019, 803154.2723777848) on denoised\n",
    "# (4, 779213.6691787682, 779171.8414797892) on denoised\n",
    "# (3, 821716.647611001, 821685.2768367669) on undenoised\n",
    "# (4, 799477.7687019842, 799435.9410030053) on undenoised\n",
    "### Adjusted IC ###\n",
    "## params1 (Best adjusted IC) ***\n",
    "# (3, 783458.9685251904, 783427.5977509562) on denoised\n",
    "# (4, 811910.3272131429, 811868.4995141639) on denoised\n",
    "# (3, 803400.5704714309, 803369.1996971967) on undenoised\n",
    "# (4, 829826.8625591999, 829785.034860221) on undenoised\n",
    "## params2 (Best adjusted IC)\n",
    "# (3, 783458.9907923832, 783427.620018149) on denoised\n",
    "# (4, 811910.3259884643, 811868.4982894853) on denoised\n",
    "# (3, 803400.5911657464, 803369.2203915123) on undenoised\n",
    "# (4, 829826.861417452, 829785.033718473) on undenoised\n",
    "## params3\n",
    "# (3, 886732.4482964904, 886701.0775222562) on denoised\n",
    "# (4, 895679.9103753887, 895638.0826764097) on denoised\n",
    "# (3, 900252.8444702567, 900221.4736960225) on undenoised\n",
    "# (4, 908750.5194537467, 908708.6917547678) on undenoised"
   ]
  },
  {
   "cell_type": "code",
   "execution_count": null,
   "id": "8c6df081",
   "metadata": {},
   "outputs": [],
   "source": []
  },
  {
   "cell_type": "code",
   "execution_count": null,
   "id": "ec674dd6",
   "metadata": {},
   "outputs": [],
   "source": []
  },
  {
   "cell_type": "markdown",
   "id": "6608c1ae",
   "metadata": {},
   "source": [
    "#### Unused"
   ]
  },
  {
   "cell_type": "code",
   "execution_count": null,
   "id": "e17707b5",
   "metadata": {},
   "outputs": [],
   "source": [
    "# # load cf true\n",
    "# cf = loadmat(\"/Users/pongpisit/Desktop/research/PDE-FIND/DeepHPMs/Matlab/ks_chaotic.mat\")\n",
    "# cf_usol = cf['usol']\n",
    "# ((cf_usol-u_clean)**2).mean(), BIC_AIC(cf_usol.reshape(-1, 1), u_clean.reshape(-1, 1), 3)\n",
    "\n",
    "# # load cf\n",
    "# cf = loadmat(\"/Users/pongpisit/Desktop/research/PDE-FIND/DeepHPMs/Matlab/KS_sim/ks_chaotic_sim_com4.mat\")\n",
    "# cf = loadmat(\"/Users/pongpisit/Desktop/research/PDE-FIND/DeepHPMs/Matlab/KS_sim/ks_chaotic_sim_adjustedIC_com4.mat\")\n",
    "# cf_usol = cf['usol']\n",
    "# ((cf_usol-u_clean)**2).mean(), BIC_AIC(cf_usol.reshape(-1, 1), u_clean.reshape(-1, 1), 3)\n",
    "\n",
    "# print(((simulated_var.T-cf_usol)**2).mean())\n",
    "# plt.figure(figsize=(6, 4))\n",
    "# plt.pcolormesh(cf['x'].ravel(), cf['t'].ravel(), cf_usol.T, cmap='coolwarm', shading='gouraud', rasterized=True, clim=(-0.8, 0.8))\n",
    "# plt.xlim(0, Rx)\n",
    "# plt.ylim(0, stop_sim_time)\n",
    "# plt.xlabel('x')\n",
    "# plt.ylabel('t')\n",
    "# plt.show()"
   ]
  },
  {
   "cell_type": "code",
   "execution_count": null,
   "id": "28ca34eb",
   "metadata": {},
   "outputs": [],
   "source": [
    "##### Chebfun (pred = cf_usol) #####\n",
    "### pysr_params IC ###\n",
    "# (3, 796688.596808223, 796657.2260339889) on denoised\n",
    "# (4, 773154.477631851, 773112.649932872) on denoised\n",
    "# --- #\n",
    "# (3, 815671.8505524133, 815640.4797781791) on undenoised\n",
    "# (4, 793886.9601944236, 793845.1324954446) on undenoised\n",
    "### Adjusted IC ###\n",
    "## params1\n",
    "# (3, 829873.6793635229, 829842.3085892887) on denoised\n",
    "# (4, 819650.1445381376, 819608.3168391587) on denoised\n",
    "# (3, 846624.4711688751, 846593.1003946409) on undenoised\n",
    "# (4, 837056.275441391, 837014.4477424121) on undenoised"
   ]
  }
 ],
 "metadata": {
  "kernelspec": {
   "display_name": "Python [conda env:dedalus3]",
   "language": "python",
   "name": "conda-env-dedalus3-py"
  },
  "language_info": {
   "codemirror_mode": {
    "name": "ipython",
    "version": 3
   },
   "file_extension": ".py",
   "mimetype": "text/x-python",
   "name": "python",
   "nbconvert_exporter": "python",
   "pygments_lexer": "ipython3",
   "version": "3.11.3"
  }
 },
 "nbformat": 4,
 "nbformat_minor": 5
}
