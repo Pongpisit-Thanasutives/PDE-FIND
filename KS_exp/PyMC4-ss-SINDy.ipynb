{
 "cells": [
  {
   "cell_type": "code",
   "execution_count": 1,
   "id": "9fe367b2",
   "metadata": {},
   "outputs": [],
   "source": [
    "%matplotlib inline\n",
    "import matplotlib.pyplot as plt\n",
    "import seaborn as sns\n",
    "import pandas as pd\n",
    "\n",
    "import random\n",
    "import arviz as az\n",
    "import pymc as pm\n",
    "import pymc.sampling.jax as pmjax\n",
    "import numpy as np\n",
    "\n",
    "import sys; sys.path.append('../')\n",
    "from misc import h5file\n",
    "import yaml\n",
    "import statsmodels.api as sm"
   ]
  },
  {
   "cell_type": "code",
   "execution_count": 2,
   "id": "687af58d",
   "metadata": {},
   "outputs": [
    {
     "name": "stdout",
     "output_type": "stream",
     "text": [
      "['X_pre', 'best_subsets', 'un', 'y_pre']\n"
     ]
    },
    {
     "data": {
      "text/plain": [
       "['u*u_1',\n",
       " 'u_11+u*u_1',\n",
       " 'u_1+u_11+u*u_1',\n",
       " 'u_1+u_11+u*u_1+u*u*u_11',\n",
       " 'u+u*u+u_1+u_11+u*u_1',\n",
       " 'u+u*u+u_1+u_11+u*u_1+u*u*u_11',\n",
       " 'u+u*u+u_1+u_11+u*u_1+u*u_11+u*u*u_11',\n",
       " 'u+u*u+u_1+u_11+u*u_1+u*u*u_1+u*u_11+u*u*u_11']"
      ]
     },
     "execution_count": 2,
     "metadata": {},
     "output_type": "execute_result"
    }
   ],
   "source": [
    "noise_lv = 30\n",
    "fp1 = \"./IPI_output_files/PMS_data.h5\"\n",
    "fp2 = \"./IPI_output_files/encoded_pde_names.yaml\"\n",
    "X_pre, best_subsets, un, y_pre = h5file(file_path=fp1, mode='r', return_dict=False)\n",
    "\n",
    "with open(fp2, 'r') as f:\n",
    "    config = yaml.load(f, yaml.Loader)\n",
    "f.close()\n",
    "encoded_feature_names = config[\"encoded_feature_names\"]\n",
    "encoded_pde_names = config[\"encoded_pde_names\"]\n",
    "encoded_pde_names"
   ]
  },
  {
   "cell_type": "code",
   "execution_count": 3,
   "id": "8f98b776",
   "metadata": {},
   "outputs": [],
   "source": [
    "hie = [np.where(best_subsets[i]>0)[0].tolist() for i in range(best_subsets.shape[-1])]"
   ]
  },
  {
   "cell_type": "code",
   "execution_count": 4,
   "id": "ef1f3749",
   "metadata": {},
   "outputs": [
    {
     "name": "stderr",
     "output_type": "stream",
     "text": [
      "Only 40 samples in chain.\n",
      "Multiprocess sampling (4 chains in 4 jobs)\n",
      "CompoundStep\n",
      ">BinaryGibbsMetropolis: [xi]\n",
      ">NUTS: [beta, sigma]\n"
     ]
    },
    {
     "data": {
      "text/html": [
       "\n",
       "<style>\n",
       "    /* Turns off some styling */\n",
       "    progress {\n",
       "        /* gets rid of default border in Firefox and Opera. */\n",
       "        border: none;\n",
       "        /* Needs to be in here for Safari polyfill so background images work as expected. */\n",
       "        background-size: auto;\n",
       "    }\n",
       "    progress:not([value]), progress:not([value])::-webkit-progress-bar {\n",
       "        background: repeating-linear-gradient(45deg, #7e7e7e, #7e7e7e 10px, #5c5c5c 10px, #5c5c5c 20px);\n",
       "    }\n",
       "    .progress-bar-interrupted, .progress-bar-interrupted::-webkit-progress-bar {\n",
       "        background: #F44336;\n",
       "    }\n",
       "</style>\n"
      ],
      "text/plain": [
       "<IPython.core.display.HTML object>"
      ]
     },
     "metadata": {},
     "output_type": "display_data"
    },
    {
     "data": {
      "text/html": [
       "\n",
       "    <div>\n",
       "      <progress value='240' class='' max='240' style='width:300px; height:20px; vertical-align: middle;'></progress>\n",
       "      100.00% [240/240 00:34&lt;00:00 Sampling 4 chains, 42 divergences]\n",
       "    </div>\n",
       "    "
      ],
      "text/plain": [
       "<IPython.core.display.HTML object>"
      ]
     },
     "metadata": {},
     "output_type": "display_data"
    },
    {
     "name": "stderr",
     "output_type": "stream",
     "text": [
      "Sampling 4 chains for 20 tune and 40 draw iterations (80 + 160 draws total) took 51 seconds.\n",
      "The number of samples is too small to check convergence reliably.\n"
     ]
    },
    {
     "data": {
      "text/html": [
       "\n",
       "<style>\n",
       "    /* Turns off some styling */\n",
       "    progress {\n",
       "        /* gets rid of default border in Firefox and Opera. */\n",
       "        border: none;\n",
       "        /* Needs to be in here for Safari polyfill so background images work as expected. */\n",
       "        background-size: auto;\n",
       "    }\n",
       "    progress:not([value]), progress:not([value])::-webkit-progress-bar {\n",
       "        background: repeating-linear-gradient(45deg, #7e7e7e, #7e7e7e 10px, #5c5c5c 10px, #5c5c5c 20px);\n",
       "    }\n",
       "    .progress-bar-interrupted, .progress-bar-interrupted::-webkit-progress-bar {\n",
       "        background: #F44336;\n",
       "    }\n",
       "</style>\n"
      ],
      "text/plain": [
       "<IPython.core.display.HTML object>"
      ]
     },
     "metadata": {},
     "output_type": "display_data"
    },
    {
     "data": {
      "text/html": [
       "\n",
       "    <div>\n",
       "      <progress value='160' class='' max='160' style='width:300px; height:20px; vertical-align: middle;'></progress>\n",
       "      100.00% [160/160 00:00&lt;00:00]\n",
       "    </div>\n",
       "    "
      ],
      "text/plain": [
       "<IPython.core.display.HTML object>"
      ]
     },
     "metadata": {},
     "output_type": "display_data"
    },
    {
     "name": "stderr",
     "output_type": "stream",
     "text": [
      "Initializing SMC sampler...\n",
      "Sampling 4 chains in 4 jobs\n"
     ]
    },
    {
     "name": "stdout",
     "output_type": "stream",
     "text": [
      "    "
     ]
    },
    {
     "name": "stderr",
     "output_type": "stream",
     "text": [
      "The number of samples is too small to check convergence reliably.\n"
     ]
    }
   ],
   "source": [
    "### Version 1 ###\n",
    "# Define the Bayesian linear regression model\n",
    "init_beta = np.linalg.lstsq(X_pre, y_pre, rcond=-1)[0]\n",
    "init_sigma = np.mean((X_pre@init_beta-y_pre)**2)\n",
    "n_samples = 4000\n",
    "# n_samples = 40\n",
    "\n",
    "X_sup = X_pre\n",
    "y_sup = y_pre.ravel()\n",
    "support_sizes = X_sup.shape[-1]\n",
    "\n",
    "np.random.seed(0)\n",
    "with pm.Model() as model:\n",
    "    # beta = pm.Normal('beta', mu=0, sigma=1, shape=X_sup.shape[-1])\n",
    "    # sigma = pm.HalfCauchy('sigma', beta=init_sigma)\n",
    "    \n",
    "    xi = pm.Bernoulli('xi', (5/support_sizes)/2, shape=support_sizes)\n",
    "    beta = pm.MvNormal('beta', \n",
    "                       mu=init_beta.flatten(), cov=np.identity(support_sizes), \n",
    "                       shape=support_sizes)\n",
    "    coeffs = pm.Deterministic('coeffs', beta*xi)\n",
    "    sigma = pm.Exponential('sigma', lam=init_sigma)\n",
    "    mu = pm.math.dot(X_sup, coeffs)\n",
    "    likelihood = pm.Normal('y', mu=mu, sigma=sigma, observed=y_sup)\n",
    "\n",
    "    # Perform MCMC sampling\n",
    "    trace = pm.sample(n_samples, tune=n_samples//2, chains=4, cores=4, \n",
    "                      # nuts={'target_accept':0.99}, \n",
    "                      nuts={'target_accept':0.99, 'max_treedepth':12}, \n",
    "                      return_inferencedata=True)\n",
    "    # trace = pmjax.sample_numpyro_nuts(n_samples, tune=n_samples//2, chains=4, cores=4, return_inferencedata=return_inferencedata)\n",
    "    # trace = pmjax.sample_blackjax_nuts(n_samples, tune=n_samples//2, chains=4, cores=4, return_inferencedata=True)\n",
    "    pm.compute_log_likelihood(trace)\n",
    "    idata = pm.sample_smc(draws=n_samples, progressbar=False, cores=4)"
   ]
  },
  {
   "cell_type": "code",
   "execution_count": null,
   "id": "b5cbf344",
   "metadata": {},
   "outputs": [],
   "source": [
    "# ### Version 2 (relaxed & faster) ###\n",
    "# # Define the Bayesian linear regression model\n",
    "# init_beta = np.linalg.lstsq(X_pre, y_pre, rcond=-1)[0]\n",
    "# init_sigma = np.mean((X_pre@init_beta-y_pre)**2)\n",
    "# thin_sigma = 1e-2\n",
    "# fat_sigma = 1\n",
    "\n",
    "# n_samples = 4000\n",
    "# # n_samples = 40\n",
    "\n",
    "# X_sup = X_pre\n",
    "# y_sup = y_pre.ravel()\n",
    "# support_sizes = X_sup.shape[-1]\n",
    "\n",
    "# np.random.seed(0)\n",
    "# with pm.Model() as model:    \n",
    "#     pinclusion = pm.Uniform(\"pip\", 0.0, (5/support_sizes)/2)\n",
    "#     pip = pm.Bernoulli('xi', pinclusion, shape=support_sizes)\n",
    "#     coeffs = pm.Normal(\"coeffs\", mu=0, sigma=(1-pip)*thin_sigma+pip*fat_sigma)\n",
    "# #     coeffs = pm.MvNormal(\"beta\", mu=init_beta.flatten(), \n",
    "# #                          sigma=((1-inclusion)*thin_sigma+inclusion*fat_sigma)*np.identity(support_sizes))\n",
    "    \n",
    "#     sigma = pm.Exponential('sigma', lam=init_sigma)\n",
    "#     mu = pm.math.dot(X_sup, coeffs)\n",
    "#     likelihood = pm.Normal('y', mu=mu, sigma=sigma, observed=y_sup)\n",
    "\n",
    "#     # Perform MCMC sampling\n",
    "#     trace = pm.sample(n_samples, tune=n_samples//2, chains=4, cores=4, \n",
    "#                       # nuts={'target_accept':0.99}, \n",
    "#                       nuts={'target_accept':0.99, 'max_treedepth':12}, \n",
    "#                       return_inferencedata=True)\n",
    "#     # trace = pmjax.sample_numpyro_nuts(n_samples, tune=n_samples//2, chains=4, cores=4, return_inferencedata=return_inferencedata)\n",
    "#     # trace = pmjax.sample_blackjax_nuts(n_samples, tune=n_samples//2, chains=4, cores=4, return_inferencedata=True)\n",
    "#     pm.compute_log_likelihood(trace)\n",
    "#     idata = pm.sample_smc(draws=n_samples, progressbar=False, cores=4)"
   ]
  },
  {
   "cell_type": "code",
   "execution_count": 5,
   "id": "98ab21fb",
   "metadata": {},
   "outputs": [],
   "source": [
    "# trace = trace.from_netcdf(\"burgers_99_depth12.trace\")\n",
    "post = trace.posterior"
   ]
  },
  {
   "cell_type": "code",
   "execution_count": 6,
   "id": "bc57cac9",
   "metadata": {},
   "outputs": [
    {
     "data": {
      "text/plain": [
       "{4: [(2, 3, 4, 7), -77447.20457263225, 374],\n",
       " 3: [(2, 3, 4), -77441.5826689938, 2078],\n",
       " 2: [(3, 4), -77439.44760272012, 6484],\n",
       " 5: [(2, 3, 4, 5, 7), -77438.09805649624, 1]}"
      ]
     },
     "execution_count": 6,
     "metadata": {},
     "output_type": "execute_result"
    }
   ],
   "source": [
    "xi_npar = np.array(post.xi)\n",
    "total_samples = xi_npar.shape[0]*xi_npar.shape[1]\n",
    "coll = {}\n",
    "tested = {}\n",
    "for nc in range(xi_npar.shape[0]):\n",
    "    for i in range(xi_npar.shape[1]):\n",
    "        eff = tuple(np.nonzero(xi_npar[nc][i])[0])\n",
    "        if eff not in tested:\n",
    "            com = len(eff)\n",
    "            bicv = sm.OLS(y_pre, X_pre[:, eff]).fit().bic\n",
    "            if (com not in coll) or (com in coll and coll[com][-1] > bicv):\n",
    "                coll[len(eff)] = [eff, bicv]\n",
    "            tested[eff] = 1\n",
    "        else:\n",
    "            tested[eff] += 1\n",
    "for com in coll: \n",
    "    coll[com].append(tested[coll[com][0]])\n",
    "counts = [tested[coll[com][0]] for com in coll]\n",
    "counts = np.array(counts)\n",
    "# counts = counts/sum(counts)\n",
    "counts = counts/total_samples\n",
    "del tested\n",
    "coll"
   ]
  },
  {
   "cell_type": "code",
   "execution_count": 7,
   "id": "bc6556ad",
   "metadata": {},
   "outputs": [],
   "source": [
    "data = np.array(post.coeffs).reshape(-1, 8)\n",
    "prob = np.array(post.xi).reshape(-1, support_sizes)\n",
    "prob = prob.mean(axis=0)\n",
    "# prob = prob/sum(prob)\n",
    "index = tuple(np.argsort(prob)[::-1][:max(coll.keys())])\n",
    "data = data[:, index]"
   ]
  },
  {
   "cell_type": "code",
   "execution_count": 8,
   "id": "869b4971",
   "metadata": {},
   "outputs": [
    {
     "data": {
      "text/plain": [
       "(['u*u_1', 'u_11', 'u*u*u_1', 'u_1', 'u*u'], (4, 3, 5, 2, 1))"
      ]
     },
     "execution_count": 8,
     "metadata": {},
     "output_type": "execute_result"
    }
   ],
   "source": [
    "[encoded_feature_names[i] for i in index], index # Set columns accordingly"
   ]
  },
  {
   "cell_type": "code",
   "execution_count": 12,
   "id": "9aaa7ace",
   "metadata": {},
   "outputs": [
    {
     "data": {
      "image/png": "[encoded data removed]",
      "text/plain": [
       "<Figure size 350x262.5 with 1 Axes>"
      ]
     },
     "metadata": {},
     "output_type": "display_data"
    }
   ],
   "source": [
    "with plt.style.context(['science', 'grid']):\n",
    "    sns.kdeplot(pd.DataFrame(data, \n",
    "                             columns=[\"$uu_{x}\\checkmark$\", \"$u_{xx}\\checkmark$\", \n",
    "                                      \"$u^{2}u_{x}$\", \"$u_{x}$\", \"$u^{2}$\"]))\n",
    "    plt.xlabel(\"Top 5 candidates' coefficient values\")\n",
    "    plt.ylabel(\"Marginal posterior density\")\n",
    "    plt.xticks([-1., -0.5, 0, 0.1])\n",
    "#     plt.savefig(\"../Figures/Burgers/posterior.pdf\")\n",
    "    plt.show()"
   ]
  },
  {
   "cell_type": "code",
   "execution_count": 10,
   "id": "453058d0",
   "metadata": {},
   "outputs": [
    {
     "data": {
      "image/png": "[encoded data removed]",
      "text/plain": [
       "<Figure size 350x262.5 with 1 Axes>"
      ]
     },
     "metadata": {},
     "output_type": "display_data"
    }
   ],
   "source": [
    "with plt.style.context(['science', 'grid']):\n",
    "    plt.bar([i+1 for i in range(len(prob))], prob)\n",
    "    plt.xticks([i+1 for i in range(len(prob))])\n",
    "    plt.ylabel(\"PIP of candidate\")\n",
    "    plt.xlabel(\"$k^{\\\\text{th}}$ Candidate\")\n",
    "#     plt.savefig(\"../Figures/Burgers/PIP_candidate.pdf\")\n",
    "    plt.show()"
   ]
  },
  {
   "cell_type": "code",
   "execution_count": 11,
   "id": "b4a654f7",
   "metadata": {},
   "outputs": [
    {
     "name": "stderr",
     "output_type": "stream",
     "text": [
      "/Users/pongpisit/anaconda3/envs/pymc_env/lib/python3.11/site-packages/matplotlib/ticker.py:2937: RuntimeWarning: invalid value encountered in log10\n",
      "  majorstep_no_exponent = 10 ** (np.log10(majorstep) % 1)\n"
     ]
    },
    {
     "data": {
      "image/png": "[encoded data removed]",
      "text/plain": [
       "<Figure size 350x262.5 with 1 Axes>"
      ]
     },
     "metadata": {},
     "output_type": "display_data"
    }
   ],
   "source": [
    "with plt.style.context(['science', 'grid']):\n",
    "    plt.bar(coll.keys(), counts)\n",
    "    plt.xticks(list(coll.keys()))\n",
    "    plt.ylabel(\"PIP of potential PDE\")\n",
    "    plt.xlabel(\"Support sizes\")\n",
    "#     plt.savefig(\"../Figures/Burgers/PIP_model.pdf\")\n",
    "    plt.show()"
   ]
  },
  {
   "cell_type": "code",
   "execution_count": null,
   "id": "4a471cfd",
   "metadata": {},
   "outputs": [],
   "source": [
    "# trace.to_netcdf(\"burgers_99_depth12.trace\", overwrite_existing=True)"
   ]
  },
  {
   "cell_type": "code",
   "execution_count": null,
   "id": "baf488b0",
   "metadata": {},
   "outputs": [],
   "source": [
    "# idata.to_json(\"burgers_99_depth12_idata.json\")"
   ]
  }
 ],
 "metadata": {
  "kernelspec": {
   "display_name": "Python [conda env:pymc_env]",
   "language": "python",
   "name": "conda-env-pymc_env-py"
  },
  "language_info": {
   "codemirror_mode": {
    "name": "ipython",
    "version": 3
   },
   "file_extension": ".py",
   "mimetype": "text/x-python",
   "name": "python",
   "nbconvert_exporter": "python",
   "pygments_lexer": "ipython3",
   "version": "3.11.4"
  }
 },
 "nbformat": 4,
 "nbformat_minor": 5
}
