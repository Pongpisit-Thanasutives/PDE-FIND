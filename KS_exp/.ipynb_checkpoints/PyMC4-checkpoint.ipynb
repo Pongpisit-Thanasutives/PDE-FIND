{
 "cells": [
  {
   "cell_type": "code",
   "execution_count": 1,
   "id": "9fe367b2",
   "metadata": {},
   "outputs": [],
   "source": [
    "%matplotlib inline\n",
    "import matplotlib.pyplot as plt\n",
    "import random\n",
    "import numpy as np\n",
    "\n",
    "import sys; sys.path.append('../')\n",
    "from misc import h5file\n",
    "import yaml\n",
    "\n",
    "import arviz as az\n",
    "import pymc as pm\n",
    "import pymc.sampling.jax as pmjax"
   ]
  },
  {
   "cell_type": "code",
   "execution_count": 2,
   "id": "687af58d",
   "metadata": {},
   "outputs": [
    {
     "name": "stdout",
     "output_type": "stream",
     "text": [
      "['X_pre', 'best_subsets', 'un', 'y_pre']\n"
     ]
    },
    {
     "data": {
      "text/plain": [
       "['u*u_1',\n",
       " 'u*u_1+u*u*u_11',\n",
       " 'u_11+u_1111+u*u_1',\n",
       " 'u_11+u_111+u_1111+u*u_1',\n",
       " 'u+u_11+u_1111+u*u_1+u*u*u_1111',\n",
       " 'u+u_11+u_1111+u*u_1+u*u_111+u*u*u_1111',\n",
       " 'u+u_11+u_1111+u*u_1+u*u*u_11+u*u_111+u*u*u_1111',\n",
       " 'u+u*u+u_11+u_111+u_1111+u*u_1+u*u_11+u*u*u_1111',\n",
       " 'u+u*u+u_11+u_111+u_1111+u*u_1+u*u_11+u*u_1111+u*u*u_1111',\n",
       " 'u+u*u+u_11+u_111+u_1111+u*u_1+u*u_11+u*u*u_11+u*u_111+u*u*u_1111',\n",
       " 'u+u*u+u_11+u_111+u_1111+u*u_1+u*u_11+u*u*u_11+u*u_111+u*u_1111+u*u*u_1111',\n",
       " 'u+u*u+u_11+u_111+u_1111+u*u_1+u*u*u_1+u*u_11+u*u*u_11+u*u_111+u*u_1111+u*u*u_1111',\n",
       " 'u+u*u+u_11+u_111+u_1111+u*u_1+u*u*u_1+u*u_11+u*u*u_11+u*u_111+u*u*u_111+u*u_1111+u*u*u_1111',\n",
       " 'u+u*u+u_1+u_11+u_111+u_1111+u*u_1+u*u*u_1+u*u_11+u*u*u_11+u*u_111+u*u*u_111+u*u_1111+u*u*u_1111']"
      ]
     },
     "execution_count": 2,
     "metadata": {},
     "output_type": "execute_result"
    }
   ],
   "source": [
    "noise_lv = 30\n",
    "fp1 = \"./IPI_output_files/PMS_data.h5\"\n",
    "fp2 = \"./IPI_output_files/encoded_pde_names.yaml\"\n",
    "X_pre, best_subsets, un, y_pre = h5file(file_path=fp1, mode='r', return_dict=False)\n",
    "\n",
    "with open(fp2, 'r') as f:\n",
    "    config = yaml.load(f, yaml.Loader)\n",
    "f.close()\n",
    "encoded_feature_names = config[\"encoded_feature_names\"]\n",
    "encoded_pde_names = config[\"encoded_pde_names\"]\n",
    "encoded_pde_names"
   ]
  },
  {
   "cell_type": "code",
   "execution_count": 3,
   "id": "e4fff00e",
   "metadata": {},
   "outputs": [
    {
     "name": "stdout",
     "output_type": "stream",
     "text": [
      "Compiling...\n",
      "Compilation time =  0:00:01.046271\n",
      "Sampling...\n",
      "Sampling time =  0:00:03.689995\n",
      "Transforming variables...\n",
      "Transformation time =  0:00:02.191411\n"
     ]
    },
    {
     "data": {
      "text/html": [
       "\n",
       "<style>\n",
       "    /* Turns off some styling */\n",
       "    progress {\n",
       "        /* gets rid of default border in Firefox and Opera. */\n",
       "        border: none;\n",
       "        /* Needs to be in here for Safari polyfill so background images work as expected. */\n",
       "        background-size: auto;\n",
       "    }\n",
       "    progress:not([value]), progress:not([value])::-webkit-progress-bar {\n",
       "        background: repeating-linear-gradient(45deg, #7e7e7e, #7e7e7e 10px, #5c5c5c 10px, #5c5c5c 20px);\n",
       "    }\n",
       "    .progress-bar-interrupted, .progress-bar-interrupted::-webkit-progress-bar {\n",
       "        background: #F44336;\n",
       "    }\n",
       "</style>\n"
      ],
      "text/plain": [
       "<IPython.core.display.HTML object>"
      ]
     },
     "metadata": {},
     "output_type": "display_data"
    },
    {
     "data": {
      "text/html": [
       "\n",
       "    <div>\n",
       "      <progress value='40000' class='' max='40000' style='width:300px; height:20px; vertical-align: middle;'></progress>\n",
       "      100.00% [40000/40000 00:03&lt;00:00]\n",
       "    </div>\n",
       "    "
      ],
      "text/plain": [
       "<IPython.core.display.HTML object>"
      ]
     },
     "metadata": {},
     "output_type": "display_data"
    },
    {
     "name": "stderr",
     "output_type": "stream",
     "text": [
      "Initializing SMC sampler...\n",
      "Sampling 4 chains in 4 jobs\n"
     ]
    },
    {
     "name": "stdout",
     "output_type": "stream",
     "text": [
      "    Computed from 40000 posterior samples and 10000 observations log-likelihood matrix.\n",
      "\n",
      "          Estimate       SE\n",
      "elpd_waic -15145.30    88.93\n",
      "p_waic        3.02        -\n",
      "Compiling...\n",
      "Compilation time =  0:00:01.002495\n",
      "Sampling...\n",
      "Sampling time =  0:00:03.871652\n",
      "Transforming variables...\n",
      "Transformation time =  0:00:20.629078\n"
     ]
    },
    {
     "data": {
      "text/html": [
       "\n",
       "<style>\n",
       "    /* Turns off some styling */\n",
       "    progress {\n",
       "        /* gets rid of default border in Firefox and Opera. */\n",
       "        border: none;\n",
       "        /* Needs to be in here for Safari polyfill so background images work as expected. */\n",
       "        background-size: auto;\n",
       "    }\n",
       "    progress:not([value]), progress:not([value])::-webkit-progress-bar {\n",
       "        background: repeating-linear-gradient(45deg, #7e7e7e, #7e7e7e 10px, #5c5c5c 10px, #5c5c5c 20px);\n",
       "    }\n",
       "    .progress-bar-interrupted, .progress-bar-interrupted::-webkit-progress-bar {\n",
       "        background: #F44336;\n",
       "    }\n",
       "</style>\n"
      ],
      "text/plain": [
       "<IPython.core.display.HTML object>"
      ]
     },
     "metadata": {},
     "output_type": "display_data"
    },
    {
     "data": {
      "text/html": [
       "\n",
       "    <div>\n",
       "      <progress value='40000' class='' max='40000' style='width:300px; height:20px; vertical-align: middle;'></progress>\n",
       "      100.00% [40000/40000 00:07&lt;00:00]\n",
       "    </div>\n",
       "    "
      ],
      "text/plain": [
       "<IPython.core.display.HTML object>"
      ]
     },
     "metadata": {},
     "output_type": "display_data"
    },
    {
     "name": "stderr",
     "output_type": "stream",
     "text": [
      "Initializing SMC sampler...\n",
      "Sampling 4 chains in 4 jobs\n"
     ]
    },
    {
     "name": "stdout",
     "output_type": "stream",
     "text": [
      "    Computed from 40000 posterior samples and 10000 observations log-likelihood matrix.\n",
      "\n",
      "          Estimate       SE\n",
      "elpd_waic -12597.79    88.86\n",
      "p_waic        4.44        -\n",
      "Compiling...\n",
      "Compilation time =  0:00:01.155303\n",
      "Sampling...\n",
      "Sampling time =  0:00:04.331195\n",
      "Transforming variables...\n",
      "Transformation time =  0:00:21.197033\n"
     ]
    },
    {
     "data": {
      "text/html": [
       "\n",
       "<style>\n",
       "    /* Turns off some styling */\n",
       "    progress {\n",
       "        /* gets rid of default border in Firefox and Opera. */\n",
       "        border: none;\n",
       "        /* Needs to be in here for Safari polyfill so background images work as expected. */\n",
       "        background-size: auto;\n",
       "    }\n",
       "    progress:not([value]), progress:not([value])::-webkit-progress-bar {\n",
       "        background: repeating-linear-gradient(45deg, #7e7e7e, #7e7e7e 10px, #5c5c5c 10px, #5c5c5c 20px);\n",
       "    }\n",
       "    .progress-bar-interrupted, .progress-bar-interrupted::-webkit-progress-bar {\n",
       "        background: #F44336;\n",
       "    }\n",
       "</style>\n"
      ],
      "text/plain": [
       "<IPython.core.display.HTML object>"
      ]
     },
     "metadata": {},
     "output_type": "display_data"
    },
    {
     "data": {
      "text/html": [
       "\n",
       "    <div>\n",
       "      <progress value='40000' class='' max='40000' style='width:300px; height:20px; vertical-align: middle;'></progress>\n",
       "      100.00% [40000/40000 00:11&lt;00:00]\n",
       "    </div>\n",
       "    "
      ],
      "text/plain": [
       "<IPython.core.display.HTML object>"
      ]
     },
     "metadata": {},
     "output_type": "display_data"
    },
    {
     "name": "stderr",
     "output_type": "stream",
     "text": [
      "Initializing SMC sampler...\n",
      "Sampling 4 chains in 4 jobs\n"
     ]
    },
    {
     "name": "stdout",
     "output_type": "stream",
     "text": [
      "    Computed from 40000 posterior samples and 10000 observations log-likelihood matrix.\n",
      "\n",
      "          Estimate       SE\n",
      "elpd_waic  6628.78    84.14\n",
      "p_waic        4.77        -\n",
      "Compiling...\n",
      "Compilation time =  0:00:01.097421\n",
      "Sampling...\n",
      "Sampling time =  0:00:04.317931\n",
      "Transforming variables...\n",
      "Transformation time =  0:00:12.106746\n"
     ]
    },
    {
     "data": {
      "text/html": [
       "\n",
       "<style>\n",
       "    /* Turns off some styling */\n",
       "    progress {\n",
       "        /* gets rid of default border in Firefox and Opera. */\n",
       "        border: none;\n",
       "        /* Needs to be in here for Safari polyfill so background images work as expected. */\n",
       "        background-size: auto;\n",
       "    }\n",
       "    progress:not([value]), progress:not([value])::-webkit-progress-bar {\n",
       "        background: repeating-linear-gradient(45deg, #7e7e7e, #7e7e7e 10px, #5c5c5c 10px, #5c5c5c 20px);\n",
       "    }\n",
       "    .progress-bar-interrupted, .progress-bar-interrupted::-webkit-progress-bar {\n",
       "        background: #F44336;\n",
       "    }\n",
       "</style>\n"
      ],
      "text/plain": [
       "<IPython.core.display.HTML object>"
      ]
     },
     "metadata": {},
     "output_type": "display_data"
    },
    {
     "data": {
      "text/html": [
       "\n",
       "    <div>\n",
       "      <progress value='40000' class='' max='40000' style='width:300px; height:20px; vertical-align: middle;'></progress>\n",
       "      100.00% [40000/40000 00:08&lt;00:00]\n",
       "    </div>\n",
       "    "
      ],
      "text/plain": [
       "<IPython.core.display.HTML object>"
      ]
     },
     "metadata": {},
     "output_type": "display_data"
    },
    {
     "name": "stderr",
     "output_type": "stream",
     "text": [
      "Initializing SMC sampler...\n",
      "Sampling 4 chains in 4 jobs\n"
     ]
    },
    {
     "name": "stdout",
     "output_type": "stream",
     "text": [
      "    Computed from 40000 posterior samples and 10000 observations log-likelihood matrix.\n",
      "\n",
      "          Estimate       SE\n",
      "elpd_waic  6628.67    84.32\n",
      "p_waic        6.26        -\n"
     ]
    }
   ],
   "source": [
    "# Define the Bayesian linear regression model\n",
    "return_inferencedata = True\n",
    "init_sigma = 1\n",
    "init_beta = 1\n",
    "n_samples = 10000; n_smc_samples = 4000; cores = 4\n",
    "models = {}\n",
    "idatas = []\n",
    "hir = [np.where(best_subsets[i]>0)[0].tolist() for i in range(best_subsets.shape[-1])][:4]\n",
    "for effective_indices in hir:\n",
    "    X_sup = X_pre[:, effective_indices]\n",
    "    y_sup = y_pre.ravel()\n",
    "    \n",
    "    np.random.seed(0)\n",
    "    with pm.Model() as model:\n",
    "        coeffs = pm.Normal('coeffs', mu=0, sigma=init_sigma, shape=X_sup.shape[-1])\n",
    "        sigma = pm.HalfCauchy('sigma', beta=init_beta)\n",
    "        mu = pm.math.dot(X_sup, coeffs)\n",
    "        likelihood = pm.Normal('y', mu=mu, sigma=sigma, observed=y_sup)\n",
    "\n",
    "        # Perform MCMC sampling\n",
    "        # trace = pm.sample(n_samples, tune=n_samples//2, chains=4, cores=4, return_inferencedata=return_inferencedata)\n",
    "        # trace = pmjax.sample_numpyro_nuts(n_samples, tune=n_samples//2, chains=4, cores=4, return_inferencedata=return_inferencedata)\n",
    "        trace = pmjax.sample_blackjax_nuts(n_samples, tune=n_samples//2, chains=4, cores=cores, return_inferencedata=return_inferencedata)\n",
    "        pm.compute_log_likelihood(trace)\n",
    "        idata = pm.sample_smc(draws=n_smc_samples, progressbar=False, cores=cores)\n",
    "        idatas.append(idata)\n",
    "        \n",
    "        if return_inferencedata:\n",
    "            waic = az.waic(trace, pointwise=True); print(waic)\n",
    "            \n",
    "    if return_inferencedata and waic[\"warning\"]: break\n",
    "    else: models[str(len(effective_indices))] = trace\n",
    "        \n",
    "    if not return_inferencedata:\n",
    "        f_logp = pm.logp(pm.Normal.dist(), y_sup[:, None]-(X@trace['coeffs'].T))\n",
    "        f_logp = np.mean(f_logp.eval())\n",
    "\n",
    "        # k is the total number of estimated parameters\n",
    "        k = len(map_est[\"coeffs\"])\n",
    "        aic = -2*f_logp+2*k\n",
    "        bic = -2*f_logp+np.log(X_sup.shape[0])*k\n",
    "        print(\"BIC & AIC\")\n",
    "        print(bic, aic)"
   ]
  },
  {
   "cell_type": "code",
   "execution_count": 4,
   "id": "9a0277e0",
   "metadata": {},
   "outputs": [],
   "source": [
    "waic_df = az.compare(models, ic='waic', scale='negative_log')"
   ]
  },
  {
   "cell_type": "code",
   "execution_count": 5,
   "id": "35f0ed73",
   "metadata": {},
   "outputs": [
    {
     "data": {
      "image/png": "[encoded data removed]",
      "text/plain": [
       "<Figure size 600x400 with 1 Axes>"
      ]
     },
     "metadata": {},
     "output_type": "display_data"
    }
   ],
   "source": [
    "az.plot_compare(waic_df)\n",
    "plt.show()"
   ]
  },
  {
   "cell_type": "code",
   "execution_count": 6,
   "id": "2d47f3e9",
   "metadata": {},
   "outputs": [
    {
     "name": "stdout",
     "output_type": "stream",
     "text": [
      "[-15153.380434609091, -12612.434192490968, 6600.347794971398, 6585.819867945564]\n",
      "[inf, inf, 4.904575893319462e-07]\n",
      "[True, True, False]\n",
      "3\n"
     ]
    },
    {
     "name": "stderr",
     "output_type": "stream",
     "text": [
      "/var/folders/z3/_stfms3523dd5mnfr3ch5n100000gp/T/ipykernel_9782/3879611979.py:10: RuntimeWarning: overflow encountered in exp\n",
      "  print([np.exp(lmls[i]-lmls[i-1]) for i in range(1, len(lmls))])\n",
      "/var/folders/z3/_stfms3523dd5mnfr3ch5n100000gp/T/ipykernel_9782/3879611979.py:11: RuntimeWarning: overflow encountered in exp\n",
      "  print([np.exp(lmls[i]-lmls[i-1])>1 for i in range(1, len(lmls))])\n"
     ]
    }
   ],
   "source": [
    "lmls = []\n",
    "for idata in idatas:\n",
    "    lml = np.array(idata.sample_stats[\"log_marginal_likelihood\"].as_numpy(), dtype=np.object_)\n",
    "    if lml.shape[0] == 1: lml = lml[0]\n",
    "    # print(lml)\n",
    "    vals = np.array([l[-1] for l in lml]).mean()\n",
    "    lmls.append(vals)\n",
    "\n",
    "print(lmls)\n",
    "print([np.exp(lmls[i]-lmls[i-1]) for i in range(1, len(lmls))])\n",
    "print([np.exp(lmls[i]-lmls[i-1])>1 for i in range(1, len(lmls))])\n",
    "print(np.argmax(lmls)+1) # 3"
   ]
  },
  {
   "cell_type": "code",
   "execution_count": null,
   "id": "dc3d72ad",
   "metadata": {},
   "outputs": [],
   "source": []
  },
  {
   "cell_type": "code",
   "execution_count": null,
   "id": "532b9de7",
   "metadata": {},
   "outputs": [],
   "source": []
  }
 ],
 "metadata": {
  "kernelspec": {
   "display_name": "Python [conda env:pymc_env]",
   "language": "python",
   "name": "conda-env-pymc_env-py"
  },
  "language_info": {
   "codemirror_mode": {
    "name": "ipython",
    "version": 3
   },
   "file_extension": ".py",
   "mimetype": "text/x-python",
   "name": "python",
   "nbconvert_exporter": "python",
   "pygments_lexer": "ipython3",
   "version": "3.11.4"
  }
 },
 "nbformat": 4,
 "nbformat_minor": 5
}
