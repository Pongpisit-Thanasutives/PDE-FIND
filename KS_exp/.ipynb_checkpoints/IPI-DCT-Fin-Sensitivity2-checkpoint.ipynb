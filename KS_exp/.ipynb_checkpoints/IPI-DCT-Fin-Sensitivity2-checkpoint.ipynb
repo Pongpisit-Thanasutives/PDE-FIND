{
 "cells": [
  {
   "cell_type": "markdown",
   "id": "6e4730cb",
   "metadata": {},
   "source": [
    "# PDE-FIND for the Kuramoto Sivashinsky Equation\n",
    "\n",
    "This notebook demonstrates PDE-FIND on the Kuramoto Sivashinsky equation.\n",
    "$$\n",
    "u_t + u_{xxxx} + uu_x + u_{xx} = 0\n",
    "$$"
   ]
  },
  {
   "cell_type": "code",
   "execution_count": 1,
   "id": "dc63748a",
   "metadata": {},
   "outputs": [
    {
     "name": "stdout",
     "output_type": "stream",
     "text": [
      "Sklearn's version: 1.2.2\n",
      "mrmr is not installed in the env you are using. This may cause an error in future if you try to use the (missing) lib.\n"
     ]
    }
   ],
   "source": [
    "%load_ext autoreload\n",
    "%autoreload 2\n",
    "%matplotlib inline\n",
    "import matplotlib.pyplot as plt\n",
    "import warnings; warnings.filterwarnings(\"ignore\")\n",
    "\n",
    "import numpy as np\n",
    "from numpy.random import default_rng\n",
    "import pandas as pd\n",
    "\n",
    "import sys; sys.path.append('../')\n",
    "from PDE_FIND import *\n",
    "\n",
    "import os\n",
    "import sys; sys.path.append('../../parametric-discovery/')\n",
    "from best_subset import *\n",
    "from frols import frols\n",
    "from p_linear_regression import PLinearRegression\n",
    "from r_pca import R_pca\n",
    "from pde_diff_new import RPCA\n",
    "from RobustPCA.rpca import RobustPCA\n",
    "\n",
    "import scipy.io as sio\n",
    "from scipy.signal import savgol_filter, butter, filtfilt, wiener\n",
    "from scipy import integrate\n",
    "from scipy.integrate import simpson, trapz, romb\n",
    "import itertools\n",
    "\n",
    "from sklearn.preprocessing import normalize\n",
    "from sklearn.linear_model import Ridge, BayesianRidge, LinearRegression as SkLinearRegression\n",
    "from sklearn.base import BaseEstimator\n",
    "from sklearn.pipeline import make_pipeline\n",
    "from sklearn.metrics import mean_squared_error\n",
    "from abess.linear import LinearRegression\n",
    "import pysindy as ps\n",
    "\n",
    "from os.path import join as join_path\n",
    "FIGURE_EXPORT_PATH = \"/Users/pongpisit/Documents/figure_export/\"\n",
    "\n",
    "def evaluate_coefficients(prediected_coeffs):\n",
    "    assert len(prediected_coeffs.flatten()) == 3\n",
    "    errs = 100*np.abs(prediected_coeffs.flatten()+1)\n",
    "    return errs.mean(), errs.std()\n",
    "\n",
    "def percent_coeff(pred, ground):\n",
    "    return 100*np.abs(pred-ground)/np.abs(ground)\n",
    "\n",
    "import torch, sympytorch\n",
    "import torch.nn as nn\n",
    "import torch.nn.functional as F\n",
    "from sympy import symbols, simplify, lambdify\n",
    "from mathparser import math_eval\n",
    "from varname import nameof\n",
    "from misc import h5file\n",
    "\n",
    "import derivative\n",
    "from tvregdiff import TVRegDiff, tvregdiff, numdiff, pysindydiff, savgol_denoise\n",
    "from functools import partial\n",
    "from findiff import FinDiff\n",
    "\n",
    "from tqdm import tqdm, trange\n",
    "from tsmoothie.smoother import *"
   ]
  },
  {
   "cell_type": "code",
   "execution_count": 2,
   "id": "9983aec0",
   "metadata": {},
   "outputs": [],
   "source": [
    "data = sio.loadmat('../Datasets/kuramoto_sivishinky.mat')\n",
    "u = data['uu']\n",
    "x = data['x'][:,0]\n",
    "t = data['tt'][0,:]\n",
    "dt = t[1]-t[0]\n",
    "dx = x[2]-x[1]\n",
    "X, T = np.meshgrid(x, t)\n",
    "XT = np.asarray([X, T]).T\n",
    "\n",
    "assert np.max(x)/32 == np.pi"
   ]
  },
  {
   "cell_type": "code",
   "execution_count": 3,
   "id": "b219ce45",
   "metadata": {},
   "outputs": [],
   "source": [
    "np.random.seed(0)\n",
    "noise_lv = 30\n",
    "un = u + 0.01*noise_lv*u.std()*np.random.randn(u.shape[0],u.shape[1])"
   ]
  },
  {
   "cell_type": "code",
   "execution_count": 4,
   "id": "f2b41ddf",
   "metadata": {},
   "outputs": [],
   "source": [
    "# un = np.load(\"./denoised_u_files/KS_noise30_reduced_dctksvdreg.npy\")\n",
    "# un = np.load(\"./denoised_u_files/KS_noise30_reduced_dctV2ksvdreg_21x21.npy\")\n",
    "un = np.load(\"./denoised_u_files/KS_noise30_reduced_dctV2ksvdreg_25x25.npy\")"
   ]
  },
  {
   "cell_type": "code",
   "execution_count": 5,
   "id": "dcbb14dd",
   "metadata": {},
   "outputs": [
    {
     "name": "stdout",
     "output_type": "stream",
     "text": [
      "STLSQ model: \n",
      "(x0)' = -0.994 x0_11 + -0.996 x0_1111 + -0.992 x0x0_1\n"
     ]
    }
   ],
   "source": [
    "library_functions = [lambda x: x, lambda x: x * x]\n",
    "library_function_names = [lambda x: x, lambda x: x + x]\n",
    "pde_lib = ps.PDELibrary(\n",
    "    library_functions=library_functions,\n",
    "    function_names=library_function_names,\n",
    "    derivative_order=4,\n",
    "    spatial_grid=x,\n",
    "    is_uniform=True,\n",
    ")\n",
    "\n",
    "print('STLSQ model: ')\n",
    "optimizer = ps.STLSQ(threshold=0.1, alpha=1e-5, normalize_columns=False)\n",
    "model = ps.SINDy(feature_library=pde_lib, optimizer=optimizer)\n",
    "model.fit(np.expand_dims(u, -1), t=dt)\n",
    "model.print()"
   ]
  },
  {
   "cell_type": "code",
   "execution_count": 6,
   "id": "007b854e",
   "metadata": {},
   "outputs": [],
   "source": [
    "class Differentiator(ps.BaseDifferentiation):\n",
    "    def __init__(self, diff_name, diff_func_kwargs, \n",
    "                 d=1, axis=1, \n",
    "                 is_uniform=True, periodic=False):\n",
    "        super(Differentiator, self).__init__()\n",
    "        self.diff_name = diff_name\n",
    "        self.diff_func_kwargs = diff_func_kwargs\n",
    "        self.diff_func = getattr(derivative, self.diff_name)(**diff_func_kwargs)\n",
    "        \n",
    "        self.d = d\n",
    "        self.diff = partial(pysindydiff, **{\"diff_method\":self.diff_func, \"order\":self.d})\n",
    "        \n",
    "        # Other info...\n",
    "        self.axis = axis\n",
    "        self.is_uniform = is_uniform\n",
    "        self.periodic = periodic\n",
    "        self.transform = np.vectorize(composite_function(self.diff, lambda _: _, left2right=True), signature=\"(m),(m)->(m)\")\n",
    "\n",
    "    def _differentiate(self, x, t):\n",
    "        in_shape = x.shape\n",
    "        if len(in_shape) == 2: x = np.expand_dims(x, -1) # x should now be 3-dimensional\n",
    "        if isinstance(t, float) and self.is_uniform: \n",
    "            t = np.linspace(0, stop=t*(x.shape[self.axis]-1), num=x.shape[self.axis])\n",
    "        out = []\n",
    "        # wrt to x var\n",
    "        if self.axis == 0:\n",
    "            for i in range(x.shape[-1]):\n",
    "                diff = self.transform(x[:,:,i].T, t).T\n",
    "                out.append(np.expand_dims(diff, axis=-1))\n",
    "        # wrt to time var\n",
    "        elif self.axis == 1:\n",
    "            for i in range(x.shape[-1]):\n",
    "                diff = self.transform(x[:,:,i], t)\n",
    "                out.append(np.expand_dims(diff, axis=-1))\n",
    "        return np.concatenate(out, axis=-1).reshape(in_shape)\n",
    "\n",
    "class FiniteDifferentiator(ps.BaseDifferentiation):\n",
    "    def __init__(self, acc=2, d=1, axis=1, is_uniform=True, periodic=False):\n",
    "        super(FiniteDifferentiator, self).__init__()        \n",
    "        self.acc = acc\n",
    "        self.d = d\n",
    "        self.axis = axis\n",
    "        self.is_uniform = is_uniform\n",
    "        self.periodic = periodic\n",
    "    def _differentiate(self, x, t):\n",
    "        if self.is_uniform:\n",
    "            if isinstance(t, float): \n",
    "                dt = t\n",
    "            else: \n",
    "                dt = t[1]-t[0]\n",
    "            self.diff = FinDiff(self.axis, dt, self.d, acc=self.acc)\n",
    "        else:\n",
    "            raise NotImplementedError(\"is_uniform=False\")\n",
    "            self.diff = FinDiff(self.axis, self.d, acc=self.acc)\n",
    "        return self.diff(x)"
   ]
  },
  {
   "cell_type": "code",
   "execution_count": 7,
   "id": "57631251",
   "metadata": {},
   "outputs": [],
   "source": [
    "### originally from derivative ###\n",
    "## slow ##\n",
    "# diff_name, diff_func_kwargs = \"Kalman\", {'alpha':kalpha}\n",
    "## fast ##\n",
    "# diff_name, diff_func_kwargs = \"FiniteDifference\", {'k':1}\n",
    "# differentiation_method = Differentiator\n",
    "# differentiation_kwargs = {\"diff_name\": diff_name, \"diff_func_kwargs\": diff_func_kwargs}\n",
    "\n",
    "# originally from pysindy\n",
    "# differentiation_method, differentiation_kwargs = ps.SmoothedFiniteDifference, {}\n",
    "\n",
    "# originally from findiff (accurate and fast)\n",
    "differentiation_method, differentiation_kwargs = FiniteDifferentiator, {'acc':4}"
   ]
  },
  {
   "cell_type": "code",
   "execution_count": 8,
   "id": "ac2a2c65",
   "metadata": {},
   "outputs": [],
   "source": [
    "diff_order = 4\n",
    "weak_pde_lib = ps.WeakPDELibrary(library_functions=[lambda x: x, lambda x: x * x], \n",
    "                                 function_names=[lambda x: x, lambda x: x + x], \n",
    "                                 derivative_order=diff_order, p=4, \n",
    "                                 spatiotemporal_grid=XT, \n",
    "                                 include_bias=False, is_uniform=True, K=10000, # new random K points in every calls to the ps.WeakPDELibrary\n",
    "                                 differentiation_method=differentiation_method, \n",
    "                                 differentiation_kwargs=differentiation_kwargs, \n",
    "                                 cache=True\n",
    "                                )\n",
    "kwargs = {'fit_intercept':False, 'copy_X':True, 'normalize_columns':False}"
   ]
  },
  {
   "cell_type": "code",
   "execution_count": 9,
   "id": "4dbe2eee",
   "metadata": {},
   "outputs": [],
   "source": [
    "# optimizer = BruteForceRegressor(3)\n",
    "# if feature_library=weak_pde_lib, then just differentiation_method=None is fine.\n",
    "optimizer_name = \"miosr\" # \"l0bnb\", \"miosr\"\n",
    "assert (optimizer_name == \"l0bnb\") or (optimizer_name == \"miosr\")\n",
    "if optimizer_name == \"l0bnb\":\n",
    "    optimizer = L0BNB(max_nonzeros=4, lam=5e-2, is_normal=True, normalize_columns=False, threshold=1e-4)\n",
    "elif optimizer_name == \"miosr\":\n",
    "    optimizer = ps.MIOSR(target_sparsity=3, alpha=5e-2, normalize_columns=False, regression_timeout=100)\n",
    "n_ensemble_models = 50\n",
    "model = ps.SINDy(feature_library=weak_pde_lib, optimizer=optimizer, \n",
    "                 differentiation_method=differentiation_method(**differentiation_kwargs), \n",
    "                 cache=True,\n",
    "                 feature_names=['u'])"
   ]
  },
  {
   "cell_type": "code",
   "execution_count": 10,
   "id": "3dbfd927",
   "metadata": {},
   "outputs": [
    {
     "name": "stdout",
     "output_type": "stream",
     "text": [
      "Set parameter Username\n"
     ]
    },
    {
     "name": "stderr",
     "output_type": "stream",
     "text": [
      "2023-12-17 22:18:55,893 [INFO] Set parameter Username\n"
     ]
    },
    {
     "name": "stdout",
     "output_type": "stream",
     "text": [
      "Academic license - for non-commercial use only - expires 2024-06-04\n"
     ]
    },
    {
     "name": "stderr",
     "output_type": "stream",
     "text": [
      "2023-12-17 22:18:55,895 [INFO] Academic license - for non-commercial use only - expires 2024-06-04\n"
     ]
    }
   ],
   "source": [
    "model.fit(np.expand_dims(un, -1), t=dt, ensemble=True, library_ensemble=True, n_candidates_to_drop=1, n_models=n_ensemble_models)\n",
    "model.get_feature_names()\n",
    "\n",
    "X_pre, y_pre = np.squeeze(model.feature_library.cached_xp_full), model.cached_x_dot\n",
    "# print_pde(model.get_coef_list()[np.argmin(np.sum((np.squeeze(np.tensordot(X_pre, np.array(model.get_coef_list()).T, axes=([-1], [0])), axis=1)-y_pre)**2, axis=0))].reshape(-1,1), model.get_feature_names())"
   ]
  },
  {
   "cell_type": "code",
   "execution_count": 11,
   "id": "08ff8c17",
   "metadata": {},
   "outputs": [],
   "source": [
    "def hierarchy(fitted_model, dataset, target_index=0, field=0):\n",
    "    Xd, yd = dataset\n",
    "    yd = yd[:, target_index]\n",
    "    model_results = {}\n",
    "    for effective_indices in fitted_model:\n",
    "        com = len(effective_indices)\n",
    "        X_pre_sup = Xd[:, effective_indices]\n",
    "        solve = np.linalg.lstsq(X_pre_sup, yd, rcond=None)\n",
    "        coeff = solve[0]\n",
    "        if len(solve[1]) == 1:\n",
    "            mse = solve[1][0]\n",
    "            if (com not in model_results) or model_results[com][-1] > mse:\n",
    "                model_results[com] = effective_indices, coeff, mse\n",
    "    if field < 0: \n",
    "        return model_results\n",
    "    else: \n",
    "        dkeys = model_results.keys()\n",
    "        dvals = (lambda lst, _: [t[_] for t in lst if len(t)>_])(model_results.values(), field)\n",
    "        return dict(zip(dkeys, dvals))\n",
    "\n",
    "def hierarchy_sindy(fitted_model, dataset, target_index=0):\n",
    "    Xd, yd = dataset\n",
    "    target_index = 0\n",
    "    model_results = {}\n",
    "    model_coef_array = np.array(fitted_model.get_coef_list())[:, target_index, :].T\n",
    "    # mses = (((Xd@(model_coef_array))-yd)**2).mean(axis=0)\n",
    "    eff = np.apply_along_axis(lambda arr: np.where(arr != 0, 1, arr), \n",
    "                              axis=-1, arr=model_coef_array).T\n",
    "\n",
    "    for i in range(eff.shape[0]-1):\n",
    "        effective_indices = tuple(np.where(eff[i]>0)[0])\n",
    "        X_pre_sup = Xd[:, effective_indices]\n",
    "        com = len(effective_indices)\n",
    "\n",
    "        solve = np.linalg.lstsq(X_pre_sup, yd, rcond=None)\n",
    "        coeff = solve[0]\n",
    "        # mse = ((X_pre_sup@coeff-yd)**2).mean()\n",
    "        if len(solve[1]) == 1:\n",
    "            mse = solve[1][0]\n",
    "            if (com not in model_results) or model_results[com][-1] > mse:\n",
    "                model_results[com] = effective_indices, coeff, mse\n",
    "\n",
    "    return model_results"
   ]
  },
  {
   "cell_type": "code",
   "execution_count": 12,
   "id": "cc9641f8",
   "metadata": {},
   "outputs": [
    {
     "data": {
      "text/plain": [
       "{3: ((3, 5, 6),\n",
       "  array([[-0.99514305],\n",
       "         [-0.99660169],\n",
       "         [-0.99681542]]),\n",
       "  155.3733557070583)}"
      ]
     },
     "execution_count": 12,
     "metadata": {},
     "output_type": "execute_result"
    }
   ],
   "source": [
    "model_results = hierarchy_sindy(model, (X_pre, y_pre))\n",
    "model_results"
   ]
  },
  {
   "cell_type": "code",
   "execution_count": 13,
   "id": "08247f0e",
   "metadata": {},
   "outputs": [
    {
     "data": {
      "text/plain": [
       "0.38132791930786114"
      ]
     },
     "execution_count": 13,
     "metadata": {},
     "output_type": "execute_result"
    }
   ],
   "source": [
    "(np.abs(model_results[3][1]+1)*100).mean() # 0.38132791930786114"
   ]
  },
  {
   "cell_type": "code",
   "execution_count": 14,
   "id": "b780ebbe",
   "metadata": {},
   "outputs": [
    {
     "name": "stdout",
     "output_type": "stream",
     "text": [
      "miosr\n",
      "1\n",
      "2\n",
      "3\n",
      "4\n",
      "5\n",
      "6\n",
      "7\n",
      "8\n"
     ]
    }
   ],
   "source": [
    "optimizer_name = \"miosr\" # \"l0bnb\", \"miosr\"\n",
    "print(optimizer_name)\n",
    "assert (optimizer_name == \"l0bnb\") or (optimizer_name == \"miosr\")\n",
    "n_ensemble_models = 50; miosr_alpha = 5e-2\n",
    "all_eff_rhs = []\n",
    "for mnz in range(1, 9):\n",
    "    print(mnz)    \n",
    "    if optimizer_name == \"l0bnb\":\n",
    "        optimizer = L0BNB(max_nonzeros=mnz, lam=5e-2, is_normal=True, normalize_columns=False, threshold=1e-4)\n",
    "    elif optimizer_name == \"miosr\":\n",
    "        optimizer = ps.MIOSR(target_sparsity=mnz, alpha=5e-2, normalize_columns=False, regression_timeout=100)\n",
    "    model = ps.SINDy(feature_library=weak_pde_lib, optimizer=optimizer, \n",
    "                     differentiation_method=differentiation_method(**differentiation_kwargs), \n",
    "                     cache=True,\n",
    "                     feature_names=['u'])\n",
    "    model.fit(np.expand_dims(un, -1), t=dt, ensemble=True, \n",
    "              library_ensemble=True, n_candidates_to_drop=1, n_models=n_ensemble_models)\n",
    "    \n",
    "    # ols_model, eff_rhs_indices = model.validate_coef_list()[0]\n",
    "    # all_eff_rhs.append(eff_rhs_indices)\n",
    "    all_eff_rhs.extend([v[0] for v in hierarchy_sindy(model, (X_pre, y_pre)).values()])"
   ]
  },
  {
   "cell_type": "code",
   "execution_count": 15,
   "id": "f8a425d9",
   "metadata": {},
   "outputs": [
    {
     "name": "stdout",
     "output_type": "stream",
     "text": [
      "From leaps\n"
     ]
    },
    {
     "data": {
      "text/plain": [
       "[(6,),\n",
       " (6, 9),\n",
       " (3, 5, 6),\n",
       " (3, 4, 5, 6),\n",
       " (0, 3, 5, 6, 13),\n",
       " (0, 3, 5, 6, 10, 13),\n",
       " (0, 3, 5, 6, 9, 10, 13),\n",
       " (0, 1, 3, 4, 5, 6, 8, 13),\n",
       " (0, 1, 3, 4, 5, 6, 8, 12, 13),\n",
       " (0, 1, 3, 4, 5, 6, 8, 9, 10, 13),\n",
       " (0, 1, 3, 4, 5, 6, 8, 9, 10, 12, 13),\n",
       " (0, 1, 3, 4, 5, 6, 7, 8, 9, 10, 12, 13),\n",
       " (0, 1, 3, 4, 5, 6, 7, 8, 9, 10, 11, 12, 13),\n",
       " (0, 1, 2, 3, 4, 5, 6, 7, 8, 9, 10, 11, 12, 13)]"
      ]
     },
     "execution_count": 15,
     "metadata": {},
     "output_type": "execute_result"
    }
   ],
   "source": [
    "print(\"From leaps\")\n",
    "Rdata_name = \"leaps/leaps_efi_nbest40.npy\"\n",
    "leaps_best_subsets = np.load(os.path.join(\"/Users/pongpisit/Desktop/fun/R/data/KS\", Rdata_name))\n",
    "leaps_best_subsets = [tuple(np.where(bs>0)[0]) for bs in leaps_best_subsets]\n",
    "leaps_best_subsets = sorted(hierarchy(leaps_best_subsets, (X_pre, y_pre)).values(), key=len)\n",
    "leaps_best_subsets = [e[0] for e in backward_refinement(leaps_best_subsets, (X_pre, y_pre), \n",
    "                                                        mode='SelectKBest', ic_type='bic', \n",
    "                                                        verbose=False).track.values()]\n",
    "leaps_best_subsets"
   ]
  },
  {
   "cell_type": "code",
   "execution_count": 16,
   "id": "9eca4084",
   "metadata": {},
   "outputs": [
    {
     "name": "stdout",
     "output_type": "stream",
     "text": [
      "From imsubsets\n"
     ]
    },
    {
     "data": {
      "text/plain": [
       "[(6,),\n",
       " (6, 9),\n",
       " (3, 5, 6),\n",
       " (3, 4, 5, 6),\n",
       " (0, 3, 5, 6, 13),\n",
       " (0, 3, 5, 6, 10, 13),\n",
       " (0, 3, 5, 6, 9, 10, 13),\n",
       " (0, 1, 3, 4, 5, 6, 8, 13),\n",
       " (0, 1, 3, 4, 5, 6, 8, 12, 13),\n",
       " (0, 1, 3, 4, 5, 6, 8, 9, 10, 13),\n",
       " (0, 1, 3, 4, 5, 6, 8, 9, 10, 12, 13),\n",
       " (0, 1, 3, 4, 5, 6, 7, 8, 9, 10, 12, 13),\n",
       " (0, 1, 3, 4, 5, 6, 7, 8, 9, 10, 11, 12, 13),\n",
       " (0, 1, 2, 3, 4, 5, 6, 7, 8, 9, 10, 11, 12, 13)]"
      ]
     },
     "execution_count": 16,
     "metadata": {},
     "output_type": "execute_result"
    }
   ],
   "source": [
    "print(\"From imsubsets\")\n",
    "Rdata_name = \"imsubsets/imsubsets_efi.npy\"\n",
    "imsubsets_best_subsets = np.load(os.path.join(\"/Users/pongpisit/Desktop/fun/R/data/KS\", Rdata_name))\n",
    "imsubsets_best_subsets = [tuple(np.where(bs>0)[0]) for bs in imsubsets_best_subsets]\n",
    "imsubsets_best_subsets = sorted(hierarchy(imsubsets_best_subsets, (X_pre, y_pre)).values(), key=len)\n",
    "imsubsets_best_subsets = [e[0] for e in backward_refinement(imsubsets_best_subsets, (X_pre, y_pre), \n",
    "                                                            mode='SelectKBest', ic_type='bic', \n",
    "                                                            verbose=False).track.values()]\n",
    "imsubsets_best_subsets"
   ]
  },
  {
   "cell_type": "code",
   "execution_count": 17,
   "id": "d4e08225",
   "metadata": {},
   "outputs": [
    {
     "name": "stdout",
     "output_type": "stream",
     "text": [
      "From brute-force solver\n"
     ]
    },
    {
     "data": {
      "text/plain": [
       "[(6,),\n",
       " (6, 9),\n",
       " (3, 5, 6),\n",
       " (3, 4, 5, 6),\n",
       " (0, 3, 5, 6, 13),\n",
       " (0, 3, 5, 6, 10, 13),\n",
       " (0, 3, 5, 6, 9, 10, 13),\n",
       " (0, 1, 3, 4, 5, 6, 8, 13),\n",
       " (0, 1, 3, 4, 5, 6, 8, 12, 13),\n",
       " (0, 1, 3, 4, 5, 6, 8, 9, 10, 13),\n",
       " (0, 1, 3, 4, 5, 6, 8, 9, 10, 12, 13),\n",
       " (0, 1, 3, 4, 5, 6, 7, 8, 9, 10, 12, 13),\n",
       " (0, 1, 3, 4, 5, 6, 7, 8, 9, 10, 11, 12, 13),\n",
       " (0, 1, 2, 3, 4, 5, 6, 7, 8, 9, 10, 11, 12, 13)]"
      ]
     },
     "execution_count": 17,
     "metadata": {},
     "output_type": "execute_result"
    }
   ],
   "source": [
    "print(\"From brute-force solver\")\n",
    "brute_best_subsets = [tuple(np.where(abs(brute_force(X_pre, y_pre, support_size=i).flatten())>0)[0])\n",
    "                      for i in range(1, X_pre.shape[1]+1)]\n",
    "brute_best_subsets\n",
    "brute_best_subsets"
   ]
  },
  {
   "cell_type": "code",
   "execution_count": 18,
   "id": "7ad41db8",
   "metadata": {},
   "outputs": [
    {
     "name": "stdout",
     "output_type": "stream",
     "text": [
      "Leaps in R package got wrong!?\n"
     ]
    }
   ],
   "source": [
    "print(\"Leaps in R package got wrong!?\")\n",
    "for leaps_indices, imsubsets_indices, brute_indices in zip(leaps_best_subsets, imsubsets_best_subsets, brute_best_subsets):\n",
    "    if (leaps_indices != brute_indices) or (leaps_indices != brute_indices):\n",
    "        print(leaps_indices, brute_indices)"
   ]
  },
  {
   "cell_type": "code",
   "execution_count": 19,
   "id": "23b087cc",
   "metadata": {},
   "outputs": [],
   "source": [
    "all_eff_rhs.append(tuple(i for i in range(X_pre.shape[1])))\n",
    "all_eff_rhs.extend(brute_best_subsets)"
   ]
  },
  {
   "cell_type": "code",
   "execution_count": 20,
   "id": "b08f4bb5",
   "metadata": {},
   "outputs": [],
   "source": [
    "mode = 'rfe'; ic_type = 'bic'\n",
    "st = backward_refinement(all_eff_rhs, (X_pre, y_pre), \n",
    "                         mode=mode, ic_type=ic_type, verbose=False)\n",
    "st += backward_refinement(all_eff_rhs, (normalize(X_pre, axis=0), y_pre), \n",
    "                          mode=mode, ic_type=ic_type, verbose=False)"
   ]
  },
  {
   "cell_type": "code",
   "execution_count": 21,
   "id": "cb57042f",
   "metadata": {},
   "outputs": [
    {
     "name": "stdout",
     "output_type": "stream",
     "text": [
      "(6,) 30294.799676276198\n",
      "(6, 9) 25206.589349153135\n",
      "(3, 5, 6) -13238.692449745493\n",
      "(3, 4, 5, 6) -13231.763926646281\n",
      "(0, 3, 5, 6, 13) -13234.62474464353\n",
      "(0, 3, 5, 6, 10, 13) -13228.432854216615\n",
      "(0, 3, 5, 6, 9, 10, 13) -13223.532618664593\n",
      "(0, 1, 3, 4, 5, 6, 8, 13) -13222.734217826408\n",
      "(0, 1, 3, 4, 5, 6, 8, 12, 13) -13216.732358060819\n",
      "(0, 1, 3, 4, 5, 6, 8, 9, 10, 13) -13211.959433027778\n",
      "(0, 1, 3, 4, 5, 6, 8, 9, 10, 12, 13) -13206.139074637053\n",
      "(0, 1, 3, 4, 5, 6, 7, 8, 9, 10, 12, 13) -13197.26985935631\n",
      "(0, 1, 3, 4, 5, 6, 7, 8, 9, 10, 11, 12, 13) -13188.163632617596\n",
      "(0, 1, 2, 3, 4, 5, 6, 7, 8, 9, 10, 11, 12, 13) -13178.956138410147\n"
     ]
    }
   ],
   "source": [
    "decreasing_aics = []\n",
    "complexities = []\n",
    "eff_feature_names = []\n",
    "now_aic = 1e6\n",
    "for com in sorted(st.track.keys()):\n",
    "    indices, aic = st.track[com]\n",
    "    print(indices, aic)\n",
    "    if aic < now_aic:\n",
    "        complexities.append(len(indices))\n",
    "        decreasing_aics.append(aic)\n",
    "        eff_feature_names.append([convert2latex(f) for i,f in enumerate(model.get_feature_names()) if i in indices])\n",
    "        now_aic = aic\n",
    "    # print(decreasing_aics, complexities)\n",
    "decreasing_aics = np.array(decreasing_aics)\n",
    "complexities = np.array(complexities)\n",
    "relative_decreasing_aics = decreasing_aics-np.min(decreasing_aics)"
   ]
  },
  {
   "cell_type": "code",
   "execution_count": 22,
   "id": "bd17a690",
   "metadata": {},
   "outputs": [
    {
     "data": {
      "image/png": "[encoded data removed]",
      "text/plain": [
       "<Figure size 576x288 with 1 Axes>"
      ]
     },
     "metadata": {
      "needs_background": "light"
     },
     "output_type": "display_data"
    }
   ],
   "source": [
    "fig, ax = plt.subplots(figsize=(8,4))\n",
    "ax.plot(complexities, relative_decreasing_aics, color='blue', linewidth=2.5, label=\"AIC-decreasing models\")\n",
    "ax.scatter(complexities, relative_decreasing_aics, marker='*', c='red', s=300)\n",
    "for com, name, rel_aic in zip(complexities, eff_feature_names, relative_decreasing_aics):\n",
    "    rotation = (90+45)/2\n",
    "    if com == 1: rotation = 0\n",
    "    ax.annotate(f\"    $({','.join(name)})$\", (com, rel_aic), rotation=rotation)\n",
    "plt.xlim(0.8,8.1)\n",
    "plt.title(r\"Model selection based on $\\frac{\\Delta AIC}{\\Delta s}$\")\n",
    "plt.ylabel(\"Relative AIC\")\n",
    "plt.xlabel(\"Number of support sizes\")\n",
    "plt.legend()\n",
    "plt.tight_layout()\n",
    "plt.show()"
   ]
  },
  {
   "cell_type": "code",
   "execution_count": 23,
   "id": "89887c5b",
   "metadata": {},
   "outputs": [
    {
     "name": "stdout",
     "output_type": "stream",
     "text": [
      "3 improves 2\n",
      "Percent improve: 1.525207606089329\n",
      "3 improves 2\n",
      "Percent improve: 1.525207606089329\n",
      "3 improves 2\n",
      "Percent improve: 1.525207606089329\n",
      "3 improves 2\n",
      "Percent improve: 1.525207606089329\n",
      "3 improves 2\n",
      "Percent improve: 1.525207606089329\n",
      "3 improves 2\n",
      "Percent improve: 1.525207606089329\n",
      "3 improves 2\n",
      "Percent improve: 1.525207606089329\n",
      "3 improves 2\n",
      "Percent improve: 1.525207606089329\n",
      "3 improves 2\n",
      "Percent improve: 1.525207606089329\n",
      "3 improves 2\n",
      "Percent improve: 1.525207606089329\n",
      "3 improves 2\n",
      "Percent improve: 1.525207606089329\n",
      "3 improves 2\n",
      "Percent improve: 1.525207606089329\n",
      "3 improves 2\n",
      "Percent improve: 1.525207606089329\n",
      "3 improves 2\n",
      "Percent improve: 1.525207606089329\n",
      "3 improves 2\n",
      "Percent improve: 1.525207606089329\n",
      "3 improves 2\n",
      "Percent improve: 1.525207606089329\n",
      "3 improves 2\n",
      "Percent improve: 1.525207606089329\n",
      "3 improves 2\n",
      "Percent improve: 1.525207606089329\n",
      "3 improves 2\n",
      "Percent improve: 1.525207606089329\n",
      "3 improves 2\n",
      "Percent improve: 1.525207606089329\n",
      "3 improves 2\n",
      "Percent improve: 1.525207606089329\n",
      "3 improves 2\n",
      "Percent improve: 1.525207606089329\n",
      "3 improves 2\n",
      "Percent improve: 1.525207606089329\n",
      "3 improves 2\n",
      "Percent improve: 1.525207606089329\n",
      "3 improves 2\n",
      "Percent improve: 1.525207606089329\n",
      "3 improves 2\n",
      "Percent improve: 1.525207606089329\n",
      "3 improves 2\n",
      "Percent improve: 1.525207606089329\n",
      "3 improves 2\n",
      "Percent improve: 1.525207606089329\n",
      "3 improves 2\n",
      "Percent improve: 1.525207606089329\n",
      "3 improves 2\n",
      "Percent improve: 1.525207606089329\n",
      "3 improves 2\n",
      "Percent improve: 1.525207606089329\n",
      "3 improves 2\n",
      "Percent improve: 1.525207606089329\n",
      "3 improves 2\n",
      "Percent improve: 1.525207606089329\n",
      "3 improves 2\n",
      "Percent improve: 1.525207606089329\n",
      "3 improves 2\n",
      "Percent improve: 1.525207606089329\n",
      "3 improves 2\n",
      "Percent improve: 1.525207606089329\n",
      "3 improves 2\n",
      "Percent improve: 1.525207606089329\n",
      "3 improves 2\n",
      "Percent improve: 1.525207606089329\n",
      "3 improves 2\n",
      "Percent improve: 1.525207606089329\n",
      "3 improves 2\n",
      "Percent improve: 1.525207606089329\n",
      "3 improves 2\n",
      "Percent improve: 1.525207606089329\n",
      "3 improves 2\n",
      "Percent improve: 1.525207606089329\n",
      "3 improves 2\n",
      "Percent improve: 1.525207606089329\n",
      "3 improves 2\n",
      "Percent improve: 1.525207606089329\n",
      "3 improves 2\n",
      "Percent improve: 1.525207606089329\n",
      "3 improves 2\n",
      "Percent improve: 1.525207606089329\n",
      "3 improves 2\n",
      "Percent improve: 1.525207606089329\n",
      "3 improves 2\n",
      "Percent improve: 1.525207606089329\n",
      "3 improves 2\n",
      "Percent improve: 1.525207606089329\n",
      "3 improves 2\n",
      "Percent improve: 1.525207606089329\n",
      "3 improves 2\n",
      "Percent improve: 1.525207606089329\n",
      "3 improves 2\n",
      "Percent improve: 1.525207606089329\n",
      "3 improves 2\n",
      "Percent improve: 1.525207606089329\n",
      "3 improves 2\n",
      "Percent improve: 1.525207606089329\n",
      "3 improves 2\n",
      "Percent improve: 1.525207606089329\n",
      "3 improves 2\n",
      "Percent improve: 1.525207606089329\n",
      "3 improves 2\n",
      "Percent improve: 1.525207606089329\n",
      "3 improves 2\n",
      "Percent improve: 1.525207606089329\n",
      "3 improves 2\n",
      "Percent improve: 1.525207606089329\n",
      "3 improves 2\n",
      "Percent improve: 1.525207606089329\n",
      "3 improves 2\n",
      "Percent improve: 1.525207606089329\n",
      "3 improves 2\n",
      "Percent improve: 1.525207606089329\n",
      "3 improves 2\n",
      "Percent improve: 1.525207606089329\n",
      "3 improves 2\n",
      "Percent improve: 1.525207606089329\n",
      "3 improves 2\n",
      "Percent improve: 1.525207606089329\n",
      "3 improves 2\n",
      "Percent improve: 1.525207606089329\n",
      "3 improves 2\n",
      "Percent improve: 1.525207606089329\n",
      "3 improves 2\n",
      "Percent improve: 1.525207606089329\n",
      "3 improves 2\n",
      "Percent improve: 1.525207606089329\n",
      "3 improves 2\n",
      "Percent improve: 1.525207606089329\n",
      "3 improves 2\n",
      "Percent improve: 1.525207606089329\n",
      "3 improves 2\n",
      "Percent improve: 1.525207606089329\n",
      "3 improves 2\n",
      "Percent improve: 1.525207606089329\n",
      "3 improves 2\n",
      "Percent improve: 1.525207606089329\n",
      "3 improves 2\n",
      "Percent improve: 1.525207606089329\n",
      "3 improves 2\n",
      "Percent improve: 1.525207606089329\n",
      "3 improves 2\n",
      "Percent improve: 1.525207606089329\n",
      "3 improves 2\n",
      "Percent improve: 1.525207606089329\n",
      "3 improves 2\n",
      "Percent improve: 1.525207606089329\n",
      "3 improves 2\n",
      "Percent improve: 1.525207606089329\n",
      "3 improves 2\n",
      "Percent improve: 1.525207606089329\n",
      "3 improves 2\n",
      "Percent improve: 1.525207606089329\n",
      "3 improves 2\n",
      "Percent improve: 1.525207606089329\n",
      "3 improves 2\n",
      "Percent improve: 1.525207606089329\n",
      "3 improves 2\n",
      "Percent improve: 1.525207606089329\n",
      "3 improves 2\n",
      "Percent improve: 1.525207606089329\n",
      "3 improves 2\n",
      "Percent improve: 1.525207606089329\n",
      "3 improves 2\n",
      "Percent improve: 1.525207606089329\n",
      "3 improves 2\n",
      "Percent improve: 1.525207606089329\n",
      "3 improves 2\n",
      "Percent improve: 1.525207606089329\n",
      "3 improves 2\n",
      "Percent improve: 1.525207606089329\n",
      "3 improves 2\n",
      "Percent improve: 1.525207606089329\n",
      "3 improves 2\n",
      "Percent improve: 1.525207606089329\n",
      "3 improves 2\n",
      "Percent improve: 1.525207606089329\n",
      "3 improves 2\n",
      "Percent improve: 1.525207606089329\n",
      "3 improves 2\n",
      "Percent improve: 1.525207606089329\n",
      "3 improves 2\n",
      "Percent improve: 1.525207606089329\n",
      "3 improves 2\n",
      "Percent improve: 1.525207606089329\n",
      "3 improves 2\n",
      "Percent improve: 1.525207606089329\n",
      "3 improves 2\n",
      "Percent improve: 1.525207606089329\n"
     ]
    },
    {
     "data": {
      "text/plain": [
       "{3}"
      ]
     },
     "execution_count": 23,
     "metadata": {},
     "output_type": "execute_result"
    }
   ],
   "source": [
    "good_coms = set()\n",
    "min_pok = 0.01\n",
    "max_pok = 1.\n",
    "delta_pok = min_pok\n",
    "for p in np.arange(min_pok, max_pok+delta_pok, delta_pok):\n",
    "    c = find_transition_V5(decreasing_aics, complexities, percent_ok=p)\n",
    "    if c == 1: break\n",
    "    good_coms.add(c)\n",
    "good_coms"
   ]
  },
  {
   "cell_type": "code",
   "execution_count": 24,
   "id": "ff1cff70",
   "metadata": {},
   "outputs": [
    {
     "name": "stdout",
     "output_type": "stream",
     "text": [
      "-5088.210327123063\n",
      "-43533.492126021694\n"
     ]
    },
    {
     "data": {
      "text/plain": [
       "(array([ 30294.79967628,  25206.58934915, -13238.69244975]),\n",
       " array([1, 2, 3]),\n",
       " [['uu_{x}'], ['uu_{x}', 'u^2u_{xx}'], ['u_{xx}', 'u_{xxxx}', 'uu_{x}']])"
      ]
     },
     "execution_count": 24,
     "metadata": {},
     "output_type": "execute_result"
    }
   ],
   "source": [
    "# w/o denoise: -43121.383119584396\n",
    "# w/ denoise: -43533.492126021694\n",
    "print(decreasing_aics[1]-decreasing_aics[0])\n",
    "print(min(decreasing_aics)-max(decreasing_aics))\n",
    "decreasing_aics, complexities, eff_feature_names"
   ]
  },
  {
   "cell_type": "code",
   "execution_count": 25,
   "id": "7339c440",
   "metadata": {},
   "outputs": [
    {
     "data": {
      "text/plain": [
       "(0.38132791930786114, 0.07431246710249238)"
      ]
     },
     "execution_count": 25,
     "metadata": {},
     "output_type": "execute_result"
    }
   ],
   "source": [
    "errs = percent_coeff(np.linalg.lstsq(X_pre[:, (3, 5, 6)], y_pre, rcond=None)[0], -1)\n",
    "errs.mean(), errs.std()"
   ]
  },
  {
   "cell_type": "code",
   "execution_count": 26,
   "id": "e7689657",
   "metadata": {},
   "outputs": [
    {
     "data": {
      "text/plain": [
       "(array(['u_{xx}', 'u_{xxx}', 'u_{xxxx}', 'uu_{x}'], dtype='<U11'),\n",
       " array([-9.95202555e-01,  6.38896462e-04, -9.96653643e-01, -9.96894189e-01]))"
      ]
     },
     "execution_count": 26,
     "metadata": {},
     "output_type": "execute_result"
    }
   ],
   "source": [
    "brute_com = 4\n",
    "brute_coeff = brute_force(X_pre, y_pre, support_size=4).flatten()\n",
    "brute_indices = np.where(brute_coeff!=0)[0]\n",
    "# [-0.99520256, 6.3890000e-04, -0.99665364, -0.99689419]\n",
    "np.array(list(map(convert2latex, model.get_feature_names())))[brute_indices], brute_coeff[brute_indices]"
   ]
  },
  {
   "cell_type": "markdown",
   "id": "da10102f",
   "metadata": {},
   "source": [
    "#### Model selection"
   ]
  },
  {
   "cell_type": "code",
   "execution_count": 27,
   "id": "c34da940",
   "metadata": {},
   "outputs": [],
   "source": [
    "# Use PDE_FIND_Loss from parametric_pde_find.py by formulating as a parametric problem\n",
    "# Moving horizon in time\n",
    "\n",
    "def ssr2llf(ssr, nobs):\n",
    "    nobs2 = nobs / 2.0\n",
    "    llf = -nobs2 * np.log(2 * np.pi) - nobs2 * np.log(ssr / nobs) - nobs2\n",
    "    return llf\n",
    "\n",
    "def log_like_value(prediction, ground):                                                                                                               \n",
    "    nobs = float(ground.shape[0])\n",
    "    ssr = np.sum(np.abs(ground - prediction)**2)\n",
    "    return ssr2llf(ssr, nobs)\n",
    "\n",
    "def BIC_AIC(prediction, ground, nparams, reg_func = lambda x: x):\n",
    "    nparams = reg_func(nparams)\n",
    "    llf = log_like_value(prediction, ground)\n",
    "    return -2*llf + np.log(ground.shape[0])*nparams, -2*llf + 2*nparams\n",
    "\n",
    "def AIC_Loss(A,b,x,epsilon=1e-5):\n",
    "    N = A.shape[0]\n",
    "    k = np.count_nonzero(x)\n",
    "    # Rudy et al., 2019\n",
    "    rss = ((b-A.dot(x))**2).sum()\n",
    "    aic = N*np.log(rss/N+epsilon) + 2*k + (2*k**2+2*k)/(N-k-1)\n",
    "    return aic\n",
    "\n",
    "def PDE_FIND_Loss(As,bs,x,epsilon=1e-5,const_coeff=True,cv=0,ic_type=\"bic\",version=0):\n",
    "    # D: Number of candidates | m: either len(t) or len(x) (temporal or spatial group)\n",
    "    D,m = x.shape\n",
    "    # n: Number of horizon\n",
    "    n,_ = As[0].shape\n",
    "    N = n*m\n",
    "    \n",
    "    rss = [np.linalg.norm(bs[j] - As[j].dot(x[:,j].reshape(D,1)))**2 for j in range(m)]\n",
    "    rss = np.sum(rss)\n",
    "    llf = ssr2llf(rss, N)\n",
    "    \n",
    "    k = np.count_nonzero(x)\n",
    "    if const_coeff:\n",
    "        k = np.count_nonzero(x)/m\n",
    "    k = k + k*cv\n",
    "    \n",
    "    if ic_type == \"aic\":\n",
    "        aic1 = N*np.log(rss/N+epsilon) + 2*k + (2*k**2+2*k)/(N-k-1)\n",
    "        aic2 = -2*llf + 2*k + (2*k**2+2*k)/(N-k-1)\n",
    "        if version > 0:\n",
    "            return aic2\n",
    "        return aic1\n",
    "    elif ic_type == \"bic\":\n",
    "        bic1 = N*np.log(rss/N+epsilon) + np.log(N)*k\n",
    "        bic2 = -2*llf + np.log(N)*k\n",
    "        if version > 0:\n",
    "            return bic2\n",
    "        return bic1"
   ]
  },
  {
   "cell_type": "code",
   "execution_count": 28,
   "id": "7d08087c",
   "metadata": {},
   "outputs": [
    {
     "name": "stdout",
     "output_type": "stream",
     "text": [
      "[4.97280248 5.49060432 3.5783858  4.0036682  4.1716285  5.29149594\n",
      " 5.82871027 5.17086079 5.27474051 6.82687014 6.93764398 7.97494687\n",
      " 8.487246   9.65857599]\n",
      "2,2,2,2,2,2,2,2,2,"
     ]
    },
    {
     "data": {
      "image/png": "[encoded data removed]",
      "text/plain": [
       "<Figure size 432x288 with 1 Axes>"
      ]
     },
     "metadata": {
      "needs_background": "light"
     },
     "output_type": "display_data"
    }
   ],
   "source": [
    "baye_alpha = 1e-6\n",
    "mul_val = 1\n",
    "brr_uncertainties = []\n",
    "brr_bics = []\n",
    "for com in sorted(st.track.keys()):\n",
    "    brr = BayesianRidge(compute_score=True, alpha_1=baye_alpha, alpha_2=baye_alpha)\n",
    "    brr.fit(X_pre[:, st.track[com][0]], y_pre)\n",
    "    uncert = mul_val*np.trace(np.sqrt(brr.sigma_))\n",
    "    brr_uncertainties.append(uncert)\n",
    "    brr_bics.append((brr.predict(X_pre[:, st.track[com][0]]).reshape(-1, 1), \n",
    "                     np.count_nonzero(brr.coef_), \n",
    "                     uncert))\n",
    "brr_uncertainties = np.array(brr_uncertainties)\n",
    "\n",
    "power = 0\n",
    "while 1:\n",
    "    e = brr_uncertainties.min()*(10**power)\n",
    "    if e > 1: break\n",
    "    power += 1\n",
    "mul_val = 10**power\n",
    "brr_uncertainties = brr_uncertainties*mul_val\n",
    "print(brr_uncertainties)\n",
    "\n",
    "for kkk in range(1, 10):\n",
    "    brr_bicaics = [BIC_AIC(brr_pred, y_pre, brr_com+kkk*mul_val*brr_uncert)[0] \n",
    "                   for brr_pred, brr_com, brr_uncert in brr_bics]\n",
    "    print(np.argmin(brr_bicaics), end=',')\n",
    "    plt.plot(brr_bicaics)\n",
    "plt.show()"
   ]
  },
  {
   "cell_type": "code",
   "execution_count": 29,
   "id": "852d65b3",
   "metadata": {},
   "outputs": [],
   "source": [
    "from UBIC import *"
   ]
  },
  {
   "cell_type": "code",
   "execution_count": 30,
   "id": "071fc430",
   "metadata": {},
   "outputs": [
    {
     "name": "stdout",
     "output_type": "stream",
     "text": [
      "n_lams = 3\n",
      "Using baye_uncertainties\n",
      "[12.50465245  7.32588019  1.          1.11848506  1.16463155  1.47682311\n",
      "  1.62456997  1.42828892  1.44629782  1.88731957  1.90525844  2.19856079\n",
      "  2.34225516  2.668954  ]\n",
      "0 ---> 3\n",
      "1.3333333333333333 ---> 3\n",
      "2.6666666666666665 ---> 3\n",
      "[ 30409.97178538  25274.06320012 -13229.48200958 -13221.46219888\n",
      " -13223.89799636 -13214.83071372 -13208.56966869 -13209.57909545\n",
      " -13203.41136697 -13194.57646998 -13188.59088794 -13177.02025611\n",
      " -13166.59055468 -13154.37405296]\n",
      "The optimal complexity is currently at the support sizes of 3.\n"
     ]
    }
   ],
   "source": [
    "best_subsets = sorted([indices for _, (indices, _) in st.track.items()], key=lambda _: len(_))\n",
    "\n",
    "n_lams = 3\n",
    "ics, bc, lam = UBICs(best_subsets, \n",
    "                     (X_pre, y_pre), \n",
    "                     u_type='cv', take_sqrt=True, use_baye=True, \n",
    "                     delta=(1+1/3), n_lams=n_lams)\n",
    "# ics[-n_lams], bc, lam"
   ]
  },
  {
   "cell_type": "code",
   "execution_count": 31,
   "id": "7c9e4f90",
   "metadata": {},
   "outputs": [
    {
     "data": {
      "text/plain": [
       "2.855632033438846"
      ]
     },
     "execution_count": 31,
     "metadata": {},
     "output_type": "execute_result"
    }
   ],
   "source": [
    "_, _, b_uns = baye_uncertainties([v[0] for v in st.track.values()], (X_pre, y_pre), u_type='cv', take_sqrt=True)\n",
    "lower_bounds = []\n",
    "for efi in [v[0] for v in st.track.values()]:\n",
    "    com = len(efi)\n",
    "    w = np.linalg.lstsq(X_pre[:, efi], y_pre, rcond=None)[0]\n",
    "    pred = X_pre[:, efi]@w\n",
    "    lower_bound = log_like_value(pred, y_pre)/np.log(len(y_pre))-com\n",
    "    lower_bounds.append(lower_bound)\n",
    "max_lam = max(np.nan_to_num(np.log10(lower_bounds/b_uns)))\n",
    "delta = np.linspace(0, max_lam, 4)[1]\n",
    "max_lam"
   ]
  },
  {
   "cell_type": "code",
   "execution_count": 32,
   "id": "85bfa089",
   "metadata": {},
   "outputs": [
    {
     "name": "stdout",
     "output_type": "stream",
     "text": [
      "n_lams = 3\n",
      "Using baye_uncertainties\n",
      "[12.50465245  7.32588019  1.          1.11848506  1.16463155  1.47682311\n",
      "  1.62456997  1.42828892  1.44629782  1.88731957  1.90525844  2.19856079\n",
      "  2.34225516  2.668954  ]\n",
      "0 ---> 3\n",
      "0.9518773444796153 ---> 3\n",
      "1.9037546889592305 ---> 3\n",
      "[ 30409.97178538  25274.06320012 -13229.48200958 -13221.46219888\n",
      " -13223.89799636 -13214.83071372 -13208.56966869 -13209.57909545\n",
      " -13203.41136697 -13194.57646998 -13188.59088794 -13177.02025611\n",
      " -13166.59055468 -13154.37405296]\n",
      "The optimal complexity is currently at the support sizes of 3.\n"
     ]
    }
   ],
   "source": [
    "n_lams = 3\n",
    "ics, bc, lam = UBICs([v[0] for v in st.track.values()], \n",
    "                     (X_pre, y_pre), \n",
    "                     u_type='cv', take_sqrt=True, use_baye=True, \n",
    "                     max_lam=max_lam,\n",
    "                     delta=delta, \n",
    "                     n_lams=n_lams)"
   ]
  },
  {
   "cell_type": "code",
   "execution_count": 33,
   "id": "2a1fde4a",
   "metadata": {},
   "outputs": [
    {
     "name": "stdout",
     "output_type": "stream",
     "text": [
      "3\n"
     ]
    },
    {
     "data": {
      "text/html": [
       "<div>\n",
       "<style scoped>\n",
       "    .dataframe tbody tr th:only-of-type {\n",
       "        vertical-align: middle;\n",
       "    }\n",
       "\n",
       "    .dataframe tbody tr th {\n",
       "        vertical-align: top;\n",
       "    }\n",
       "\n",
       "    .dataframe thead th {\n",
       "        text-align: right;\n",
       "    }\n",
       "</style>\n",
       "<table border=\"1\" class=\"dataframe\">\n",
       "  <thead>\n",
       "    <tr style=\"text-align: right;\">\n",
       "      <th></th>\n",
       "      <th>df_resid</th>\n",
       "      <th>ssr</th>\n",
       "      <th>df_diff</th>\n",
       "      <th>ss_diff</th>\n",
       "      <th>F</th>\n",
       "      <th>Pr(&gt;F)</th>\n",
       "    </tr>\n",
       "  </thead>\n",
       "  <tbody>\n",
       "    <tr>\n",
       "      <th>0</th>\n",
       "      <td>9999.0</td>\n",
       "      <td>12100.744269</td>\n",
       "      <td>0.0</td>\n",
       "      <td>NaN</td>\n",
       "      <td>NaN</td>\n",
       "      <td>NaN</td>\n",
       "    </tr>\n",
       "    <tr>\n",
       "      <th>1</th>\n",
       "      <td>9998.0</td>\n",
       "      <td>7268.317931</td>\n",
       "      <td>1.0</td>\n",
       "      <td>4832.426338</td>\n",
       "      <td>311878.863888</td>\n",
       "      <td>0.000000</td>\n",
       "    </tr>\n",
       "    <tr>\n",
       "      <th>2</th>\n",
       "      <td>9997.0</td>\n",
       "      <td>155.373356</td>\n",
       "      <td>1.0</td>\n",
       "      <td>7112.944575</td>\n",
       "      <td>459060.711497</td>\n",
       "      <td>0.000000</td>\n",
       "    </tr>\n",
       "    <tr>\n",
       "      <th>3</th>\n",
       "      <td>9996.0</td>\n",
       "      <td>155.337906</td>\n",
       "      <td>1.0</td>\n",
       "      <td>0.035449</td>\n",
       "      <td>2.287855</td>\n",
       "      <td>0.130422</td>\n",
       "    </tr>\n",
       "    <tr>\n",
       "      <th>4</th>\n",
       "      <td>9995.0</td>\n",
       "      <td>155.150509</td>\n",
       "      <td>1.0</td>\n",
       "      <td>0.187398</td>\n",
       "      <td>12.094427</td>\n",
       "      <td>0.000508</td>\n",
       "    </tr>\n",
       "    <tr>\n",
       "      <th>5</th>\n",
       "      <td>9994.0</td>\n",
       "      <td>155.103684</td>\n",
       "      <td>1.0</td>\n",
       "      <td>0.046824</td>\n",
       "      <td>3.021984</td>\n",
       "      <td>0.082174</td>\n",
       "    </tr>\n",
       "    <tr>\n",
       "      <th>6</th>\n",
       "      <td>9993.0</td>\n",
       "      <td>155.036847</td>\n",
       "      <td>1.0</td>\n",
       "      <td>0.066837</td>\n",
       "      <td>4.313562</td>\n",
       "      <td>0.037835</td>\n",
       "    </tr>\n",
       "    <tr>\n",
       "      <th>7</th>\n",
       "      <td>9992.0</td>\n",
       "      <td>154.906486</td>\n",
       "      <td>1.0</td>\n",
       "      <td>0.130361</td>\n",
       "      <td>8.413365</td>\n",
       "      <td>0.003733</td>\n",
       "    </tr>\n",
       "    <tr>\n",
       "      <th>8</th>\n",
       "      <td>9991.0</td>\n",
       "      <td>154.856793</td>\n",
       "      <td>1.0</td>\n",
       "      <td>0.049693</td>\n",
       "      <td>3.207155</td>\n",
       "      <td>0.073347</td>\n",
       "    </tr>\n",
       "    <tr>\n",
       "      <th>9</th>\n",
       "      <td>9990.0</td>\n",
       "      <td>154.788092</td>\n",
       "      <td>1.0</td>\n",
       "      <td>0.068701</td>\n",
       "      <td>4.433877</td>\n",
       "      <td>0.035257</td>\n",
       "    </tr>\n",
       "    <tr>\n",
       "      <th>10</th>\n",
       "      <td>9989.0</td>\n",
       "      <td>154.735628</td>\n",
       "      <td>1.0</td>\n",
       "      <td>0.052464</td>\n",
       "      <td>3.385961</td>\n",
       "      <td>0.065783</td>\n",
       "    </tr>\n",
       "    <tr>\n",
       "      <th>11</th>\n",
       "      <td>9988.0</td>\n",
       "      <td>154.730349</td>\n",
       "      <td>1.0</td>\n",
       "      <td>0.005278</td>\n",
       "      <td>0.340655</td>\n",
       "      <td>0.559465</td>\n",
       "    </tr>\n",
       "    <tr>\n",
       "      <th>12</th>\n",
       "      <td>9987.0</td>\n",
       "      <td>154.728738</td>\n",
       "      <td>1.0</td>\n",
       "      <td>0.001611</td>\n",
       "      <td>0.103968</td>\n",
       "      <td>0.747126</td>\n",
       "    </tr>\n",
       "    <tr>\n",
       "      <th>13</th>\n",
       "      <td>9986.0</td>\n",
       "      <td>154.728694</td>\n",
       "      <td>1.0</td>\n",
       "      <td>0.000044</td>\n",
       "      <td>0.002842</td>\n",
       "      <td>0.957484</td>\n",
       "    </tr>\n",
       "  </tbody>\n",
       "</table>\n",
       "</div>"
      ],
      "text/plain": [
       "    df_resid           ssr  df_diff      ss_diff              F    Pr(>F)\n",
       "0     9999.0  12100.744269      0.0          NaN            NaN       NaN\n",
       "1     9998.0   7268.317931      1.0  4832.426338  311878.863888  0.000000\n",
       "2     9997.0    155.373356      1.0  7112.944575  459060.711497  0.000000\n",
       "3     9996.0    155.337906      1.0     0.035449       2.287855  0.130422\n",
       "4     9995.0    155.150509      1.0     0.187398      12.094427  0.000508\n",
       "5     9994.0    155.103684      1.0     0.046824       3.021984  0.082174\n",
       "6     9993.0    155.036847      1.0     0.066837       4.313562  0.037835\n",
       "7     9992.0    154.906486      1.0     0.130361       8.413365  0.003733\n",
       "8     9991.0    154.856793      1.0     0.049693       3.207155  0.073347\n",
       "9     9990.0    154.788092      1.0     0.068701       4.433877  0.035257\n",
       "10    9989.0    154.735628      1.0     0.052464       3.385961  0.065783\n",
       "11    9988.0    154.730349      1.0     0.005278       0.340655  0.559465\n",
       "12    9987.0    154.728738      1.0     0.001611       0.103968  0.747126\n",
       "13    9986.0    154.728694      1.0     0.000044       0.002842  0.957484"
      ]
     },
     "execution_count": 33,
     "metadata": {},
     "output_type": "execute_result"
    }
   ],
   "source": [
    "best_subsets = sorted([v[0] for v in st.track.values()], key=len)\n",
    "ols_models = [sm.OLS(y_pre, X_pre[:, efi]).fit() for efi in best_subsets]\n",
    "f_res = sm.stats.anova_lm(*ols_models, test=\"F\", robust=\"hc3\") # \"F\", \"Chisq\"\", \"Cp\"\n",
    "print(np.argmax(f_res.F)+1)\n",
    "f_res"
   ]
  },
  {
   "cell_type": "markdown",
   "id": "496d67f9",
   "metadata": {},
   "source": [
    "#### UBIC"
   ]
  },
  {
   "cell_type": "code",
   "execution_count": 42,
   "id": "2707e998",
   "metadata": {},
   "outputs": [
    {
     "name": "stdout",
     "output_type": "stream",
     "text": [
      "Success rate: 100\n"
     ]
    }
   ],
   "source": [
    "tau = 3; per = 0 # 85\n",
    "scale = np.log(len(y_pre))\n",
    "# scale = 1\n",
    "success_counts = 0\n",
    "all_counts = 0\n",
    "\n",
    "post_means, b_bics, b_uns = baye_uncertainties(best_subsets, (X_pre, y_pre), u_type='cv1', take_sqrt=True)\n",
    "predictions = X_pre@post_means\n",
    "\n",
    "b_bics = np.array(b_bics)\n",
    "complexities = np.array([len(bs) for bs in best_subsets])\n",
    "slopes = np.diff(b_bics)/(np.diff(complexities)*b_bics[:-1])\n",
    "thres = np.percentile(slopes, per)\n",
    "d_complexities = complexities[decreasing_values_indices(b_bics)]\n",
    "d_bics = b_bics[decreasing_values_indices(b_bics)]\n",
    "\n",
    "lower_bounds = []\n",
    "for k, efi in enumerate(best_subsets):\n",
    "    assert len(efi) == np.count_nonzero(post_means[:, k:k+1])\n",
    "    com = len(efi)\n",
    "    lower_bound = 2*np.abs(log_like_value(predictions[:, k:k+1], y_pre))-np.log(len(y_pre))*com\n",
    "    lower_bounds.append(lower_bound)\n",
    "\n",
    "for per in np.arange(0,105,5):\n",
    "    thres = np.percentile(np.abs(np.diff(d_bics)/(np.diff(d_complexities)*d_bics[:-1])), per)\n",
    "    last_lam = np.log10(max(lower_bounds/(b_uns*scale)))\n",
    "    delta = last_lam/tau\n",
    "    now_lam = last_lam-delta\n",
    "    last_ubic = UBIC(b_bics, b_uns, len(y_pre), hyp=10**last_lam, scale=scale)\n",
    "    last_bc = np.argmin(last_ubic)\n",
    "    while now_lam >= 0:\n",
    "        now_ubic = UBIC(b_bics, b_uns, len(y_pre), hyp=10**now_lam, scale=scale)\n",
    "        now_bc = np.argmin(now_ubic)\n",
    "\n",
    "        diff_com = now_bc-last_bc\n",
    "        diff_bic = b_bics[now_bc]-b_bics[last_bc]\n",
    "        imp = abs(diff_bic/(b_bics[last_bc]*diff_com))\n",
    "        # print(min(last_bc, now_bc), '<--->', max(last_bc, now_bc), np.nan_to_num(imp, nan=np.inf))\n",
    "\n",
    "        if (diff_com > 0 and (diff_bic > 0 or imp < thres)) or \\\n",
    "            (diff_com < 0 and diff_bic > 0 and imp > thres):\n",
    "            break\n",
    "\n",
    "        last_lam = now_lam\n",
    "        now_lam = round(last_lam-delta, 10)\n",
    "        last_ubic = now_ubic\n",
    "        last_bc = now_bc\n",
    "\n",
    "    best_bc = last_bc\n",
    "    if abs((b_bics[last_bc]-b_bics[last_bc-1])/b_bics[last_bc-1]) < thres:\n",
    "        best_bc = best_bc - 1\n",
    "\n",
    "    last_lam, last_ubic, last_bc\n",
    "    if last_bc != 2:\n",
    "        print(\"Success rate < 100\")\n",
    "        assert StopIteration\n",
    "\n",
    "print(\"Success rate:\", 100)"
   ]
  },
  {
   "cell_type": "code",
   "execution_count": 38,
   "id": "497708a7",
   "metadata": {},
   "outputs": [
    {
     "name": "stdout",
     "output_type": "stream",
     "text": [
      "1.1858948414991581\n",
      "2 <---> 2 inf\n",
      "2 <---> 2 inf\n"
     ]
    },
    {
     "data": {
      "text/plain": [
       "(1.3739483632811398,\n",
       " array([ 30590.61454166,  25379.89318573, -13215.03596584, -13205.30451485,\n",
       "        -13207.07367806, -13193.49646249, -13185.10105987, -13188.94597127,\n",
       "        -13182.51808537, -13167.31216894, -13161.06744114, -13145.2597508 ,\n",
       "        -13132.7542342 , -13115.8182268 ]),\n",
       " 2)"
      ]
     },
     "execution_count": 38,
     "metadata": {},
     "output_type": "execute_result"
    }
   ],
   "source": [
    "tau = 3; per = 75 # 85\n",
    "scale = np.log(len(y_pre))\n",
    "scale = 1\n",
    "\n",
    "post_means, b_bics, b_uns = baye_uncertainties(best_subsets, (X_pre, y_pre), u_type='cv1', take_sqrt=True)\n",
    "predictions = X_pre@post_means\n",
    "\n",
    "b_bics = np.array(b_bics)\n",
    "complexities = np.array([len(bs) for bs in best_subsets])\n",
    "slopes = np.diff(b_bics)/(np.diff(complexities)*b_bics[:-1])\n",
    "thres = np.percentile(slopes, per)\n",
    "# while thres < 0:\n",
    "#     percentile = per + 5\n",
    "#     thres = np.percentile(slopes, min(100, percentile))\n",
    "#     if percentile >= 100: \n",
    "#         break\n",
    "        \n",
    "d_complexities = complexities[decreasing_values_indices(b_bics)]\n",
    "d_bics = b_bics[decreasing_values_indices(b_bics)]\n",
    "thres = np.percentile(np.abs(np.diff(d_bics)/(np.diff(d_complexities)*d_bics[:-1])), per)\n",
    "        \n",
    "# thres = 0.02\n",
    "print(thres)\n",
    "\n",
    "lower_bounds = []\n",
    "for k, efi in enumerate(best_subsets):\n",
    "    assert len(efi) == np.count_nonzero(post_means[:, k:k+1])\n",
    "    com = len(efi)\n",
    "#     lower_bound = 2*log_like_value(predictions[:, k:k+1], y_pre)/np.log(len(y_pre))-com\n",
    "    lower_bound = 2*log_like_value(predictions[:, k:k+1], y_pre)-np.log(len(y_pre))*com\n",
    "    lower_bounds.append(lower_bound)\n",
    "\n",
    "last_lam = np.log10(max(lower_bounds/(b_uns*scale)))\n",
    "delta = last_lam/tau\n",
    "now_lam = last_lam-delta\n",
    "last_ubic = UBIC(b_bics, b_uns, len(y_pre), hyp=10**last_lam, scale=scale)\n",
    "last_bc = np.argmin(last_ubic)\n",
    "while now_lam > 0:\n",
    "    now_ubic = UBIC(b_bics, b_uns, len(y_pre), hyp=10**now_lam, scale=scale)\n",
    "    now_bc = np.argmin(now_ubic)\n",
    "    \n",
    "    diff_com = now_bc-last_bc\n",
    "    diff_bic = b_bics[now_bc]-b_bics[last_bc]\n",
    "    imp = abs(diff_bic/(b_bics[last_bc]*diff_com))\n",
    "    print(min(last_bc, now_bc), '<--->', max(last_bc, now_bc), np.nan_to_num(imp, nan=np.inf))\n",
    "    \n",
    "#     if (diff_com > 0 and imp < thres) or (diff_com < 0 and imp > thres):\n",
    "#         break\n",
    "    if (diff_com > 0 and (diff_bic > 0 or imp < thres)) or \\\n",
    "        (diff_com < 0 and diff_bic > 0 and imp > thres):\n",
    "        break\n",
    "    \n",
    "    last_lam = now_lam\n",
    "    now_lam = last_lam-delta\n",
    "    last_ubic = now_ubic\n",
    "    last_bc = now_bc\n",
    "\n",
    "best_bc = last_bc\n",
    "if abs((b_bics[last_bc]-b_bics[last_bc-1])/b_bics[last_bc-1]) < thres:\n",
    "    best_bc = best_bc - 1\n",
    "    \n",
    "last_lam, last_ubic, last_bc"
   ]
  },
  {
   "cell_type": "code",
   "execution_count": 39,
   "id": "456f2761",
   "metadata": {},
   "outputs": [
    {
     "data": {
      "text/plain": [
       "-43533.492030008914"
      ]
     },
     "execution_count": 39,
     "metadata": {},
     "output_type": "execute_result"
    }
   ],
   "source": [
    "min(b_bics)-max(b_bics)"
   ]
  },
  {
   "cell_type": "code",
   "execution_count": 40,
   "id": "8b7ff917",
   "metadata": {},
   "outputs": [
    {
     "data": {
      "image/png": "[encoded data removed]",
      "text/plain": [
       "<Figure size 252x189 with 1 Axes>"
      ]
     },
     "metadata": {
      "needs_background": "light"
     },
     "output_type": "display_data"
    }
   ],
   "source": [
    "complexity_axis = list(st.track.keys())\n",
    "with plt.style.context(['science', 'grid']):\n",
    "    fig, ax = plt.subplots()\n",
    "    ax.plot([], [], linestyle='', marker='', label='Target: $u_t$')\n",
    "    ax.plot(complexity_axis, last_ubic, 'o-', c='black', markerfacecolor='none', label=f\"$\\lambda = {abs(round(last_lam, 2))}$\")\n",
    "    ax.set_xticks(complexity_axis)\n",
    "    ax.set_ylabel(\"$\\\\textrm{UBIC}_{\\\\Gamma}(\\\\xi^{k}, 10^{\\\\lambda})$\", fontsize=12)\n",
    "    ax.set_xlabel(\"Support sizes ($s_{k}$)\", fontsize=12)\n",
    "    plt.annotate('$(u_{xx}, u_{xxxx}, uu_{x})\\checkmark$', fontsize=16,  \n",
    "                 xy=(complexity_axis[best_bc], last_ubic[best_bc]), \n",
    "                 xytext=(complexity_axis[best_bc]+0.5, last_ubic[best_bc]+6000), \n",
    "                 arrowprops={'arrowstyle': '->'})\n",
    "    ax.legend(fontsize=12)\n",
    "#     fig.savefig(\"../Figures/KS/ks_scale_ubic.pdf\")\n",
    "    plt.show()\n",
    "    plt.close()"
   ]
  },
  {
   "cell_type": "code",
   "execution_count": 38,
   "id": "9f727ac2",
   "metadata": {},
   "outputs": [
    {
     "data": {
      "image/png": "[encoded data removed]",
      "text/plain": [
       "<Figure size 252x189 with 1 Axes>"
      ]
     },
     "metadata": {
      "needs_background": "light"
     },
     "output_type": "display_data"
    }
   ],
   "source": [
    "complexity_axis = list(st.track.keys())\n",
    "with plt.style.context(['science', 'grid']):\n",
    "    fig, ax = plt.subplots()\n",
    "    ax.plot([], [], linestyle='', marker='', label='Target: $u_t$')\n",
    "    ax.plot(complexity_axis, b_uns, 'o-', c='black', markerfacecolor='none')\n",
    "    ax.set_xticks(complexity_axis)\n",
    "    ax.set_ylabel(\"Uncertainty ($\\\\textrm{U}^{k}$)\", fontsize=12)\n",
    "    ax.set_xlabel(\"Support sizes ($s_{k}$)\", fontsize=12)\n",
    "    plt.annotate('min', fontsize=16, \n",
    "                 xy=(complexity_axis[best_bc], b_uns[best_bc]), \n",
    "                 xytext=(complexity_axis[best_bc], b_uns[best_bc]+3.25), \n",
    "                 arrowprops={'arrowstyle': '->'})\n",
    "    ax.legend(fontsize=12)\n",
    "#     fig.savefig(\"../Figures/KS/ks_uns.pdf\")\n",
    "    plt.show()\n",
    "    plt.close()"
   ]
  },
  {
   "cell_type": "code",
   "execution_count": 39,
   "id": "61febafb",
   "metadata": {},
   "outputs": [
    {
     "name": "stdout",
     "output_type": "stream",
     "text": [
      "['X_pre', 'best_subsets', 'un', 'y_pre']\n"
     ]
    },
    {
     "data": {
      "image/png": "[encoded data removed]",
      "text/plain": [
       "<Figure size 252x189 with 1 Axes>"
      ]
     },
     "metadata": {
      "needs_background": "light"
     },
     "output_type": "display_data"
    }
   ],
   "source": [
    "ud_X, un_best_subsets, _, ud_y = h5file(\"./IPI_output_files/PMS_undenoised_data.h5\", 'r')\n",
    "_, ud_bics, _ = baye_uncertainties([np.where(e>0)[0].tolist() for e in un_best_subsets], \n",
    "                                   (ud_X, ud_y), u_type='cv1', take_sqrt=True)\n",
    "\n",
    "complexity_axis = list(st.track.keys())\n",
    "with plt.style.context(['science', 'grid']):\n",
    "    fig, ax = plt.subplots()\n",
    "    ax.plot([], [], linestyle='', marker='', label='Target: $u_t$')\n",
    "    ax.plot(complexity_axis, ud_bics, 'o-', c='blue', markerfacecolor='none', label=\"w/o denoising\")\n",
    "    ax.plot(complexity_axis, b_bics, 'o-', c='black', markerfacecolor='none', label=\"w/ denoising\")\n",
    "    ax.fill_between(complexity_axis, ud_bics, b_bics, facecolor='blue', alpha=0.1)\n",
    "    ax.set_xticks(complexity_axis)\n",
    "    ax.set_ylabel(\"$\\\\textrm{BIC}(\\\\xi^{k}_{\\\\mu})$\", fontsize=12)\n",
    "    ax.set_xlabel(\"Support sizes ($s_{k}$)\", fontsize=12)\n",
    "    plt.annotate(f\"$({', '.join(eff_feature_names[np.argmin(b_bics)])})$\", fontsize=16, \n",
    "                 xy=(complexity_axis[np.argmin(b_bics)], b_bics[np.argmin(b_bics)]), \n",
    "                 xytext=(complexity_axis[np.argmin(b_bics)]+1, b_bics[np.argmin(b_bics)]+8000), \n",
    "                 arrowprops={'arrowstyle': '->'})\n",
    "    ax.legend(fontsize=10)\n",
    "#     fig.savefig(\"../Figures/KS/ks_bic.pdf\")\n",
    "    plt.show()\n",
    "    plt.close()"
   ]
  },
  {
   "cell_type": "markdown",
   "id": "4c04203d",
   "metadata": {},
   "source": [
    "#### IC on validation data"
   ]
  },
  {
   "cell_type": "code",
   "execution_count": 40,
   "id": "47d26b8c",
   "metadata": {},
   "outputs": [],
   "source": [
    "from sklearn.model_selection import KFold, ShuffleSplit, RepeatedKFold"
   ]
  },
  {
   "cell_type": "code",
   "execution_count": 41,
   "id": "f83ee0d0",
   "metadata": {},
   "outputs": [
    {
     "name": "stderr",
     "output_type": "stream",
     "text": [
      "100%|███████████████████████████████████████████| 14/14 [00:09<00:00,  1.49it/s]\n"
     ]
    },
    {
     "data": {
      "image/png": "[encoded data removed]",
      "text/plain": [
       "<Figure size 252x189 with 1 Axes>"
      ]
     },
     "metadata": {
      "needs_background": "light"
     },
     "output_type": "display_data"
    }
   ],
   "source": [
    "div = 0.5\n",
    "n_train = int(len(X_pre)*div)\n",
    "X_train = X_pre.copy()[:n_train, :]\n",
    "y_train = y_pre.copy()[:n_train, :]\n",
    "X_val = X_pre.copy()[n_train:, :]\n",
    "y_val = y_pre.copy()[n_train:, :]\n",
    "\n",
    "complexity_axis = list(st.track.keys())\n",
    "train_bics = []\n",
    "val_bics = []\n",
    "for _ in trange(1, max(complexity_axis)+1):\n",
    "    w_train = brute_force(X_train, y_train, _)\n",
    "    w_train_pred = X_val@w_train\n",
    "    train_bics.append(BIC_AIC(X_train@w_train, y_train, _)[0])\n",
    "    val_bics.append(BIC_AIC(w_train_pred, y_val, _)[0])\n",
    "    \n",
    "with plt.style.context(['science', 'grid']):\n",
    "    fig, ax = plt.subplots()\n",
    "    ax.plot(complexity_axis, train_bics, 'o-', c='blue', markerfacecolor='none', label='Train (50\\%)')\n",
    "    ax.plot(complexity_axis, val_bics, 'o--', c='black', markerfacecolor='none', label='Validation (50\\%)')\n",
    "    ax.axvline(x=np.argmin(train_bics)+1, linestyle='-', c='blue', label='Train-based $s_{k^{*}}$')\n",
    "    ax.axvline(x=np.argmin(val_bics)+1, linestyle='--', c='black', label='Validation-based $s_{k^{*}}$')\n",
    "    ax.set_xticks(complexity_axis)\n",
    "    ax.set_xlabel(\"Support sizes ($s_{k}$)\", fontsize=12)\n",
    "    ax.set_ylabel(\"$\\\\textrm{BIC}(\\\\hat{\\\\xi}^{k})$\", fontsize=12)\n",
    "    ax.set_title(\"Single Train-Validation Split\", fontsize=12)\n",
    "    ax.legend()\n",
    "    fig.savefig(\"../Figures/KS/ks_crossval.pdf\")\n",
    "    plt.show()"
   ]
  },
  {
   "cell_type": "code",
   "execution_count": 42,
   "id": "ec6bdb5d",
   "metadata": {},
   "outputs": [
    {
     "name": "stderr",
     "output_type": "stream",
     "text": [
      "100%|███████████████████████████████████████████| 14/14 [00:11<00:00,  1.18it/s]\n",
      "100%|███████████████████████████████████████████| 14/14 [00:07<00:00,  1.82it/s]\n",
      "100%|███████████████████████████████████████████| 14/14 [00:08<00:00,  1.63it/s]\n",
      "100%|███████████████████████████████████████████| 14/14 [00:13<00:00,  1.04it/s]\n",
      "100%|███████████████████████████████████████████| 14/14 [00:11<00:00,  1.26it/s]\n",
      "100%|███████████████████████████████████████████| 14/14 [00:11<00:00,  1.19it/s]\n",
      "100%|███████████████████████████████████████████| 14/14 [00:10<00:00,  1.35it/s]\n",
      "100%|███████████████████████████████████████████| 14/14 [00:09<00:00,  1.43it/s]\n",
      "100%|███████████████████████████████████████████| 14/14 [00:10<00:00,  1.37it/s]\n",
      "100%|███████████████████████████████████████████| 14/14 [00:09<00:00,  1.47it/s]\n"
     ]
    },
    {
     "data": {
      "image/png": "[encoded data removed]",
      "text/plain": [
       "<Figure size 252x189 with 1 Axes>"
      ]
     },
     "metadata": {
      "needs_background": "light"
     },
     "output_type": "display_data"
    }
   ],
   "source": [
    "spliter = ShuffleSplit(n_splits=10, random_state=0, test_size=0.5)\n",
    "\n",
    "train_avg_bics = []\n",
    "val_avg_bics = []\n",
    "for i, (train_index, test_index) in enumerate(spliter.split(X_pre)):\n",
    "    X_train = X_pre.copy()[train_index, :]\n",
    "    y_train = y_pre.copy()[train_index, :]\n",
    "    X_val = X_pre.copy()[test_index, :]\n",
    "    y_val = y_pre.copy()[test_index, :]\n",
    "    train_bics = []\n",
    "    val_bics = []\n",
    "    for _ in trange(1, max(complexity_axis)+1):\n",
    "        w_train = brute_force(X_train, y_train, _)\n",
    "        w_train_pred = X_val@w_train\n",
    "        train_bics.append(BIC_AIC(X_train@w_train, y_train, _)[0])\n",
    "        val_bics.append(BIC_AIC(w_train_pred, y_val, _)[0])\n",
    "    train_avg_bics.append(train_bics)\n",
    "    val_avg_bics.append(val_bics)\n",
    "    \n",
    "train_avg_bics = np.array(train_avg_bics)\n",
    "val_avg_bics = np.array(val_avg_bics)\n",
    "train_bics = train_avg_bics.mean(axis=0)\n",
    "val_bics = val_avg_bics.mean(axis=0)\n",
    "\n",
    "complexity_axis = list(st.track.keys())\n",
    "with plt.style.context(['science', 'grid']):\n",
    "    fig, ax = plt.subplots()\n",
    "    ax.plot(complexity_axis, train_bics, 'o-', c='blue', markerfacecolor='none', label='Train (50\\%)')\n",
    "    ax.plot(complexity_axis, val_bics, 'o--', c='black', markerfacecolor='none', label='Validation (50\\%)')\n",
    "    ax.axvline(x=np.argmin(train_bics)+1, linestyle='-', c='blue', label='Train-based $s_{k^{*}}$')\n",
    "    ax.axvline(x=np.argmin(val_bics)+1, linestyle='--', c='black', label='Validation-based $s_{k^{*}}$')\n",
    "    ax.set_xticks(complexity_axis)\n",
    "    ax.set_xlabel(\"Support sizes ($s_{k}$)\", fontsize=12)\n",
    "    ax.set_ylabel(\"Avg. $\\\\textrm{BIC}(\\\\hat{\\\\xi}^{k})$\", fontsize=12)\n",
    "    ax.set_title(\"Shuffle Splits\", fontsize=12)\n",
    "    ax.legend()\n",
    "    fig.savefig(\"../Figures/KS/ks_crossval_sss.pdf\")\n",
    "    plt.show()"
   ]
  },
  {
   "cell_type": "code",
   "execution_count": 43,
   "id": "14136051",
   "metadata": {},
   "outputs": [
    {
     "name": "stderr",
     "output_type": "stream",
     "text": [
      "100%|███████████████████████████████████████████| 14/14 [00:07<00:00,  1.75it/s]\n",
      "100%|███████████████████████████████████████████| 14/14 [00:14<00:00,  1.05s/it]\n",
      "100%|███████████████████████████████████████████| 14/14 [00:10<00:00,  1.29it/s]\n",
      "100%|███████████████████████████████████████████| 14/14 [00:10<00:00,  1.29it/s]\n",
      "100%|███████████████████████████████████████████| 14/14 [00:09<00:00,  1.42it/s]\n",
      "100%|███████████████████████████████████████████| 14/14 [00:12<00:00,  1.15it/s]\n",
      "100%|███████████████████████████████████████████| 14/14 [00:14<00:00,  1.01s/it]\n",
      "100%|███████████████████████████████████████████| 14/14 [00:12<00:00,  1.13it/s]\n",
      "100%|███████████████████████████████████████████| 14/14 [00:11<00:00,  1.25it/s]\n",
      "100%|███████████████████████████████████████████| 14/14 [00:09<00:00,  1.42it/s]\n"
     ]
    },
    {
     "data": {
      "image/png": "[encoded data removed]",
      "text/plain": [
       "<Figure size 252x189 with 1 Axes>"
      ]
     },
     "metadata": {
      "needs_background": "light"
     },
     "output_type": "display_data"
    }
   ],
   "source": [
    "spliter = RepeatedKFold(n_splits=2, n_repeats=5, random_state=0)\n",
    "\n",
    "train_avg_bics = []\n",
    "val_avg_bics = []\n",
    "for i, (train_index, test_index) in enumerate(spliter.split(X_pre)):\n",
    "    X_train = X_pre.copy()[train_index, :]\n",
    "    y_train = y_pre.copy()[train_index, :]\n",
    "    X_val = X_pre.copy()[test_index, :]\n",
    "    y_val = y_pre.copy()[test_index, :]\n",
    "    train_bics = []\n",
    "    val_bics = []\n",
    "    for _ in trange(1, max(complexity_axis)+1):\n",
    "        w_train = brute_force(X_train, y_train, _)\n",
    "        w_train_pred = X_val@w_train\n",
    "        train_bics.append(BIC_AIC(X_train@w_train, y_train, _)[0])\n",
    "        val_bics.append(BIC_AIC(w_train_pred, y_val, _)[0])\n",
    "    train_avg_bics.append(train_bics)\n",
    "    val_avg_bics.append(val_bics)\n",
    "    \n",
    "train_avg_bics = np.array(train_avg_bics)\n",
    "val_avg_bics = np.array(val_avg_bics)\n",
    "train_bics = train_avg_bics.mean(axis=0)\n",
    "val_bics = val_avg_bics.mean(axis=0)\n",
    "\n",
    "complexity_axis = list(st.track.keys())\n",
    "with plt.style.context(['science', 'grid']):\n",
    "    fig, ax = plt.subplots()\n",
    "    ax.plot(complexity_axis, train_bics, 'o-', c='blue', markerfacecolor='none', label='Train (50\\%)')\n",
    "    ax.plot(complexity_axis, val_bics, 'o--', c='black', markerfacecolor='none', label='Validation (50\\%)')\n",
    "    ax.axvline(x=np.argmin(train_bics)+1, linestyle='-', c='blue', label='Train-based $s_{k^{*}}$')\n",
    "    ax.axvline(x=np.argmin(val_bics)+1, linestyle='--', c='black', label='Validation-based $s_{k^{*}}$')\n",
    "    ax.set_xticks(complexity_axis)\n",
    "    ax.set_xlabel(\"Support sizes ($s_{k}$)\", fontsize=12)\n",
    "    ax.set_ylabel(\"Avg. $\\\\textrm{BIC}(\\\\hat{\\\\xi}^{k})$\", fontsize=12)\n",
    "    ax.set_title(\"Repeated K-Folds\")\n",
    "    ax.legend()\n",
    "    fig.savefig(\"../Figures/KS/ks_crossval_rkf.pdf\")\n",
    "    plt.show()"
   ]
  },
  {
   "cell_type": "code",
   "execution_count": null,
   "id": "dcb6c11a",
   "metadata": {},
   "outputs": [],
   "source": []
  },
  {
   "cell_type": "code",
   "execution_count": null,
   "id": "179e4e9f",
   "metadata": {},
   "outputs": [],
   "source": []
  },
  {
   "cell_type": "markdown",
   "id": "fa4b0771",
   "metadata": {},
   "source": [
    "## Denoised weak form"
   ]
  },
  {
   "cell_type": "code",
   "execution_count": 39,
   "id": "d42d44e6",
   "metadata": {},
   "outputs": [
    {
     "name": "stdout",
     "output_type": "stream",
     "text": [
      "0.01072770464374632\n"
     ]
    },
    {
     "data": {
      "text/plain": [
       "array([[-0.99983724],\n",
       "       [-0.99991587],\n",
       "       [-0.99992506]])"
      ]
     },
     "execution_count": 39,
     "metadata": {},
     "output_type": "execute_result"
    }
   ],
   "source": [
    "acc=4\n",
    "# Define the derivative:\n",
    "d_dx = FinDiff(0, dx, 1, acc=acc)\n",
    "d_dxx = FinDiff(0, dx, 2, acc=acc)\n",
    "d_dxxxx = FinDiff(0, dx, 4, acc=acc)\n",
    "d_dt = FinDiff(1, dt, 1, acc=acc)\n",
    "\n",
    "coeff = np.linalg.lstsq(np.stack([u*d_dx(u), d_dxx(u), d_dxxxx(u)]).reshape(3, -1).T, \n",
    "                        d_dt(u).reshape(-1,1), rcond=None)[0]\n",
    "print((100*np.abs(coeff+1)).mean())\n",
    "coeff"
   ]
  },
  {
   "cell_type": "code",
   "execution_count": 40,
   "id": "d5666ce5",
   "metadata": {},
   "outputs": [
    {
     "name": "stdout",
     "output_type": "stream",
     "text": [
      "0.00867587799540844\n"
     ]
    },
    {
     "data": {
      "text/plain": [
       "array([[-1.00009514],\n",
       "       [-1.00010748],\n",
       "       [-1.00005765]])"
      ]
     },
     "execution_count": 40,
     "metadata": {},
     "output_type": "execute_result"
    }
   ],
   "source": [
    "Xf = np.stack([integrate.trapz(d_dxx(u), t, dt, axis=1), \n",
    "               integrate.trapz(d_dxxxx(u), t, dt, axis=1), \n",
    "               integrate.trapz(u*d_dx(u), t, dt, axis=1)]).T\n",
    "yf = integrate.trapz(d_dt(u), t, dt, axis=1).reshape(-1,1)\n",
    "coeff = np.linalg.lstsq(Xf, yf, rcond=None)[0]\n",
    "print((100*np.abs(coeff+1)).mean()) # 0.00867587799540844\n",
    "coeff"
   ]
  },
  {
   "cell_type": "code",
   "execution_count": 41,
   "id": "19bbfa1f",
   "metadata": {},
   "outputs": [],
   "source": [
    "# sio.savemat(\"../../PDE_Discovery_Weak_Formulation/Datasets/KS_data_tmp.mat\", \n",
    "#             {'uu': un, 'xx':x, 'tt':t, 'dx':dx, 'dt': dt})"
   ]
  },
  {
   "cell_type": "code",
   "execution_count": 42,
   "id": "746ab677",
   "metadata": {},
   "outputs": [],
   "source": [
    "def weight_poly(x, m, k):\n",
    "    \"\"\"\n",
    "    Polynomial piece of weighting function used to satisfy BC A = d^k/dx^k[(x^2 - 1)^m]\n",
    "    x: independent variable\n",
    "    m: power of base function\n",
    "    k: order of derivative\n",
    "    \"\"\"\n",
    "    a = np.zeros((2*m+1, 1)) # initial coefficient vector\n",
    "    for l in range(m+1):\n",
    "        a[2*l] = ((-1)**(m-l))*np.math.comb(m, l) # set polynomial coefficients\n",
    "    \n",
    "    c = np.zeros((2*m+1, 1)) # final coefficient vector\n",
    "    for n in range(2*m-k+1):\n",
    "        c[n] = a[n+k]*np.math.factorial(n+k)/np.math.factorial(n)\n",
    "    \n",
    "    p = 0\n",
    "    for n in range(2*m-k+1):\n",
    "        p += c[n]*(x**n) # final windowing function\n",
    "\n",
    "    return p\n",
    "\n",
    "def weight_full(k, p, x, t):\n",
    "    \"\"\"\n",
    "    Assemble the 1D weight functions into the full weight\n",
    "    k = [kx,ky,kt]: order of derivative(s)\n",
    "    p = [px,py,pt]: exponents of weight polynomials\n",
    "    \"\"\"\n",
    "    if len(k) == 3:\n",
    "        wx = weight_poly(x, p[0], k[0])\n",
    "        wy = weight_poly(x, p[1], k[1])\n",
    "        wt = weight_poly(t, p[2], k[2])\n",
    "        wX, wY, wT = np.meshgrid(wx, wy, wt)\n",
    "        W = wX * wY * wT\n",
    "    elif len(k) == 2:\n",
    "        wx = weight_poly(x, p[0], k[0])\n",
    "        wt = weight_poly(t, p[1], k[1])\n",
    "        wT, wX = np.meshgrid(wt, wx)\n",
    "        W = wX * wT\n",
    "    \n",
    "    return W, wx, wt"
   ]
  },
  {
   "cell_type": "code",
   "execution_count": 43,
   "id": "ecec1660",
   "metadata": {},
   "outputs": [],
   "source": [
    "# u_weak = un.copy()\n",
    "# n_domain = 10000\n",
    "# # x_size, t_size = 2**7, 2**7\n",
    "# x_size, t_size = 100, 100\n",
    "\n",
    "# xsup = np.linspace(-1,1,x_size+1)\n",
    "# tsup = np.linspace(-1,1,t_size+1)\n",
    "# S_x = 2/(dx*x_size)\n",
    "# S_t = 2/(dt*t_size)\n",
    "# delta_x, delta_t = xsup[1]-xsup[0], tsup[1]-tsup[0]\n",
    "\n",
    "# p = [4,3]\n",
    "# dA01, _, _ = weight_full([0,1], p, xsup, tsup)\n",
    "# dA10, _, _ = weight_full([1,0], p, xsup, tsup)\n",
    "# dA20, _, _ = weight_full([2,0], p, xsup, tsup)\n",
    "# dA40, _, _ = weight_full([4,0], p, xsup, tsup)\n",
    "\n",
    "# X_weak = []\n",
    "# y_weak = []\n",
    "# # X_weak_romb = []\n",
    "# # y_weak_romb = []\n",
    "# for _ in range(n_domain):\n",
    "#     ix = np.random.randint(0, len(x)-x_size, size=1)[0] + np.arange(0, x_size+1)\n",
    "#     it = np.random.randint(0, len(t)-t_size, size=1)[0] + np.arange(0, t_size+1)\n",
    "    \n",
    "#     usup = u_weak[ix, :][:, it]\n",
    "    \n",
    "#     f = -(1/2)*(usup**2)*dA10*S_x\n",
    "#     f1 = trapz(trapz(f, tsup, delta_t, 1), xsup, delta_x, 0)\n",
    "#     # f11 = romb(romb(f, dt, 1), dx, 0)\n",
    "    \n",
    "#     f = usup*dA20*(S_x**2)\n",
    "#     f2 = trapz(trapz(f, tsup, delta_t, 1), xsup, delta_x, 0)\n",
    "#     # f22 = romb(romb(f, dt, 1), dx, 0)\n",
    "    \n",
    "#     f = usup*dA40*(S_x**4)\n",
    "#     f3 = trapz(trapz(f, tsup, delta_t, 1), xsup, delta_x, 0)\n",
    "#     # f33 = romb(romb(f, dt, 1), dx, 0)\n",
    "    \n",
    "#     X_weak.append([f1, f2, f3])\n",
    "#     # X_weak_romb.append([f11, f22, f33])\n",
    "    \n",
    "#     f = -usup*dA01*S_t\n",
    "#     f4 = trapz(trapz(f, tsup, delta_t, 1), xsup, delta_x, 0)\n",
    "#     # f44 = romb(romb(f, dt, 1), dx, 0)\n",
    "    \n",
    "#     y_weak.append(f4)\n",
    "#     # y_weak_romb.append(f44)\n",
    "    \n",
    "# X_weak = np.array(X_weak)\n",
    "# y_weak = np.array(y_weak)\n",
    "\n",
    "# coeff = np.linalg.lstsq(X_weak, y_weak, rcond=None)[0]\n",
    "# (coeff, (np.abs(coeff+1)*100).mean())\n",
    "\n",
    "# # X_weak_romb = np.array(X_weak_romb)\n",
    "# # y_weak_romb = np.array(y_weak_romb)\n",
    "# # coeff = np.linalg.lstsq(X_weak_romb, y_weak_romb, rcond=None)[0]\n",
    "# # coeff, (np.abs(coeff+1)*100).mean()"
   ]
  },
  {
   "cell_type": "markdown",
   "id": "36ab0488",
   "metadata": {},
   "source": [
    "#### Tune orders of xsup, tsup"
   ]
  },
  {
   "cell_type": "code",
   "execution_count": 44,
   "id": "9a36c48c",
   "metadata": {},
   "outputs": [
    {
     "name": "stderr",
     "output_type": "stream",
     "text": [
      "100%|█████████████████████████████████████████████████████████████| 10000/10000 [00:04<00:00, 2278.14it/s]\n"
     ]
    },
    {
     "name": "stdout",
     "output_type": "stream",
     "text": [
      "4\n",
      "3.797768613420774e-06 (0.2352055348220287, 0.17769428374714136)\n"
     ]
    },
    {
     "name": "stderr",
     "output_type": "stream",
     "text": [
      "100%|█████████████████████████████████████████████████████████████| 10000/10000 [00:03<00:00, 2531.54it/s]"
     ]
    },
    {
     "name": "stdout",
     "output_type": "stream",
     "text": [
      "5\n",
      "4.544735766790229e-06 (4.26549256761584, 1.452480515676746)\n"
     ]
    },
    {
     "name": "stderr",
     "output_type": "stream",
     "text": [
      "\n"
     ]
    },
    {
     "data": {
      "text/plain": [
       "(array([-0.99516962, -0.99924728, -1.00147307]),\n",
       " (0.2352055348220287, 0.17769428374714136))"
      ]
     },
     "execution_count": 44,
     "metadata": {},
     "output_type": "execute_result"
    }
   ],
   "source": [
    "u_weak = un.copy()\n",
    "n_domain = 10000\n",
    "div = 10.5\n",
    "# x_size, t_size = 100, 100\n",
    "# x_size, t_size = int(u_weak.shape[0]/div), int(u_weak.shape[1]/div)\n",
    "x_size, t_size = int(max(u_weak.shape)/div), int(max(u_weak.shape)/div)\n",
    "\n",
    "xsup = np.linspace(-1,1,x_size+1)\n",
    "tsup = np.linspace(-1,1,t_size+1)\n",
    "delta_x = xsup[1]-xsup[0]\n",
    "delta_t = tsup[1]-tsup[0]\n",
    "S_x = 2/(dx*x_size)\n",
    "S_t = 2/(dt*t_size)\n",
    "\n",
    "max_order = 4\n",
    "best_loss = 1e6; best_coeff = None\n",
    "for mo in range(max_order, max_order+10, 1):\n",
    "    wx, wt = np.meshgrid((xsup**2-1)**(mo), (tsup**2-1)**(mo))\n",
    "    W = (wx*wt).T\n",
    "    \n",
    "    # Define the derivative:\n",
    "    d_dx = FinDiff(0, xsup[1]-xsup[0], 1)\n",
    "    d_dxx = FinDiff(0, xsup[1]-xsup[0], 2)\n",
    "    d_dxxxx = FinDiff(0, xsup[1]-xsup[0], 4)\n",
    "    d_dt = FinDiff(1, tsup[1]-tsup[0], 1)\n",
    "\n",
    "    dA01 = d_dt(W)\n",
    "    dA10 = d_dx(W)\n",
    "    dA20 = d_dxx(W)\n",
    "    dA40 = d_dxxxx(W)\n",
    "\n",
    "    X_weak = []\n",
    "    y_weak = []\n",
    "    for _ in trange(n_domain):\n",
    "        ix = np.random.randint(0, len(x)-x_size, size=1)[0] + np.arange(0, x_size+1)\n",
    "        it = np.random.randint(0, len(t)-t_size, size=1)[0] + np.arange(0, t_size+1)\n",
    "\n",
    "        usup = (u_weak[ix, :][:, it])\n",
    "\n",
    "        f1 = -(1/2)*(usup**2)*dA10*S_x\n",
    "        f1 = trapz(trapz(f1, tsup, delta_t, 1), xsup, delta_x, 0)\n",
    "        f2 = usup*dA20*(S_x**2)\n",
    "        f2 = trapz(trapz(f2, tsup, delta_t, 1), xsup, delta_x, 0)\n",
    "        f3 = usup*dA40*(S_x**4)\n",
    "        f3 = trapz(trapz(f3, tsup, delta_t, 1), xsup, delta_x, 0)\n",
    "        \n",
    "        X_weak.append([f1, f2, f3])\n",
    "\n",
    "        f4 = -usup*dA01*S_t\n",
    "        f4 = trapz(trapz(f4, tsup, delta_t, 1), xsup, delta_x, 0)\n",
    "        y_weak.append(f4)\n",
    "\n",
    "    X_weak = np.array(X_weak)\n",
    "    y_weak = np.array(y_weak)\n",
    "\n",
    "    coeff = np.linalg.lstsq(X_weak, y_weak, rcond=None)[0]\n",
    "    loss = ((X_weak@coeff-y_weak)**2).mean()\n",
    "\n",
    "    print(mo)\n",
    "    print(loss, evaluate_coefficients(coeff))\n",
    "    if loss < best_loss:\n",
    "        best_loss = loss\n",
    "        best_coeff = coeff\n",
    "    else:\n",
    "        break\n",
    "        \n",
    "best_mo = mo-1\n",
    "best_coeff, evaluate_coefficients(best_coeff)"
   ]
  },
  {
   "cell_type": "code",
   "execution_count": 45,
   "id": "baf3815e",
   "metadata": {},
   "outputs": [],
   "source": [
    "bp, bq = best_mo, best_mo\n",
    "W = np.product(np.meshgrid((xsup**2-1)**(bp), (tsup**2-1)**(bq)), axis=0).T\n",
    "\n",
    "# Define the derivative:\n",
    "d_dx = FinDiff(0, xsup[1]-xsup[0], 1)\n",
    "d_dxx = FinDiff(0, xsup[1]-xsup[0], 2)\n",
    "d_dxxxx = FinDiff(0, xsup[1]-xsup[0], 4)\n",
    "d_dt = FinDiff(1, tsup[1]-tsup[0], 1)\n",
    "\n",
    "dA01 = d_dt(W)\n",
    "dA10 = d_dx(W)\n",
    "dA20 = d_dxx(W)\n",
    "dA40 = d_dxxxx(W)"
   ]
  },
  {
   "cell_type": "markdown",
   "id": "0fe22622",
   "metadata": {},
   "source": [
    "#### Denoised weak form (Savgol V2)"
   ]
  },
  {
   "cell_type": "code",
   "execution_count": 46,
   "id": "c6bca01a",
   "metadata": {},
   "outputs": [
    {
     "name": "stderr",
     "output_type": "stream",
     "text": [
      "100%|█████████████████████████████████████████████████████████████████████| 15/15 [02:28<00:00,  9.88s/it]\n"
     ]
    },
    {
     "data": {
      "text/plain": [
       "(3.654335851701225e-06,\n",
       " array([-0.99404012, -0.99838532, -1.00064027]),\n",
       " 0.2738279006407847,\n",
       " 3)"
      ]
     },
     "execution_count": 46,
     "metadata": {},
     "output_type": "execute_result"
    }
   ],
   "source": [
    "min_loss = 1e6; best_coeff = None; best_ws = -1\n",
    "np.random.seed(0)\n",
    "for ws in trange(3, 33, 2):\n",
    "    X_weak = []\n",
    "    y_weak = []\n",
    "    for _ in range(n_domain):\n",
    "        ix = np.random.randint(0, len(x)-x_size, size=1)[0] + np.arange(0, x_size+1)\n",
    "        it = np.random.randint(0, len(t)-t_size, size=1)[0] + np.arange(0, t_size+1)\n",
    "        \n",
    "        usup = savgol_filter(u_weak[ix, :][:, it], ws, 2)\n",
    "\n",
    "        f1 = -(1/2)*(usup**2)*dA10*S_x\n",
    "        f1 = trapz(trapz(f1, tsup, dt, 1), xsup, dx, 0)\n",
    "        # f1 = romb(romb(f1, dt, 1), dx, 0)\n",
    "\n",
    "        f2 = usup*dA20*(S_x**2)\n",
    "        f2 = trapz(trapz(f2, tsup, dt, 1), xsup, dx, 0)\n",
    "        # f2 = romb(romb(f2, dt, 1), dx, 0)\n",
    "\n",
    "        f3 = usup*dA40*(S_x**4)\n",
    "        f3 = trapz(trapz(f3, tsup, dt, 1), xsup, dx, 0)\n",
    "        # f3 = romb(romb(f3, dt, 1), dx, 0)\n",
    "\n",
    "        X_weak.append([f1, f2, f3])\n",
    "\n",
    "        f4 = -usup*dA01*S_t\n",
    "        f4 = trapz(trapz(f4, tsup, dt, 1), xsup, dx, 0)\n",
    "        # f4 = romb(romb(f4, dt, 1), dx, 0)\n",
    "        y_weak.append(f4)\n",
    "\n",
    "    X_weak = np.array(X_weak)\n",
    "    y_weak = np.array(y_weak)\n",
    "    coeff = np.linalg.lstsq(X_weak, y_weak, rcond=None)[0]\n",
    "    \n",
    "    loss = ((X_weak@coeff-y_weak)**2).mean()\n",
    "    if loss < min_loss:\n",
    "        min_loss = loss\n",
    "        best_coeff = coeff\n",
    "        best_ws = ws\n",
    "\n",
    "# (3.654335851701225e-06,\n",
    "#  array([-0.99404012, -0.99838532, -1.00064027]),\n",
    "#  0.2738279006407847,\n",
    "#  3)\n",
    "min_loss, best_coeff, (np.abs(best_coeff+1)*100).mean(), best_ws # Nice result (0.29497065338643935)"
   ]
  },
  {
   "cell_type": "markdown",
   "id": "5bf08c61",
   "metadata": {},
   "source": [
    "#### Denoised weak form (Wiener, Current best)"
   ]
  },
  {
   "cell_type": "code",
   "execution_count": 47,
   "id": "a84fa981",
   "metadata": {},
   "outputs": [
    {
     "name": "stderr",
     "output_type": "stream",
     "text": [
      "100%|█████████████████████████████████████████████████████████████████████| 30/30 [07:31<00:00, 15.06s/it]\n"
     ]
    },
    {
     "data": {
      "text/plain": [
       "(3.939087282223831e-06,\n",
       " array([-1.00126893, -1.00074191, -1.00526443]),\n",
       " 0.24250872135903231,\n",
       " 3)"
      ]
     },
     "execution_count": 47,
     "metadata": {},
     "output_type": "execute_result"
    }
   ],
   "source": [
    "min_loss = 1e6; best_coeff = None; best_ws = -1\n",
    "np.random.seed(0)\n",
    "for ws in trange(3, 33, 1):\n",
    "    X_weak = []\n",
    "    y_weak = []\n",
    "    \n",
    "    for _ in range(n_domain):\n",
    "        ix = np.random.randint(0, len(x)-x_size, size=1)[0] + np.arange(0, x_size+1)\n",
    "        it = np.random.randint(0, len(t)-t_size, size=1)[0] + np.arange(0, t_size+1)\n",
    "        \n",
    "        usup = wiener(u_weak[ix, :][:, it], ws)\n",
    "\n",
    "        f1 = -(1/2)*(usup**2)*dA10*S_x\n",
    "        f1 = trapz(trapz(f1, tsup, dt, 1), xsup, dx, 0)\n",
    "        # f1 = romb(romb(f1, dt, 1), dx, 0)\n",
    "\n",
    "        f2 = usup*dA20*(S_x**2)\n",
    "        f2 = trapz(trapz(f2, tsup, dt, 1), xsup, dx, 0)\n",
    "        # f2 = romb(romb(f2, dt, 1), dx, 0)\n",
    "\n",
    "        f3 = usup*dA40*(S_x**4)\n",
    "        f3 = trapz(trapz(f3, tsup, dt, 1), xsup, dx, 0)\n",
    "        # f3 = romb(romb(f3, dt, 1), dx, 0)\n",
    "\n",
    "        X_weak.append([f1, f2, f3])\n",
    "\n",
    "        f4 = -usup*dA01*S_t\n",
    "        f4 = trapz(trapz(f4, tsup, dt, 1), xsup, dx, 0)\n",
    "        # f4 = romb(romb(f4, dt, 1), dx, 0)\n",
    "        y_weak.append(f4)\n",
    "\n",
    "    X_weak = np.array(X_weak)\n",
    "    y_weak = np.array(y_weak)\n",
    "    coeff = np.linalg.lstsq(X_weak, y_weak, rcond=None)[0]\n",
    "    \n",
    "    loss = ((X_weak@coeff-y_weak)**2).mean()\n",
    "    if loss < min_loss:\n",
    "        min_loss = loss\n",
    "        best_coeff = coeff\n",
    "        best_ws = ws\n",
    "\n",
    "# Maybe do simulation next?\n",
    "# Nice result 0.1896211378363081\n",
    "min_loss, best_coeff, (np.abs(best_coeff+1)*100).mean(), best_ws"
   ]
  }
 ],
 "metadata": {
  "kernelspec": {
   "display_name": "Python [conda env:pysr]",
   "language": "python",
   "name": "conda-env-pysr-py"
  },
  "language_info": {
   "codemirror_mode": {
    "name": "ipython",
    "version": 3
   },
   "file_extension": ".py",
   "mimetype": "text/x-python",
   "name": "python",
   "nbconvert_exporter": "python",
   "pygments_lexer": "ipython3",
   "version": "3.10.10"
  }
 },
 "nbformat": 4,
 "nbformat_minor": 5
}
