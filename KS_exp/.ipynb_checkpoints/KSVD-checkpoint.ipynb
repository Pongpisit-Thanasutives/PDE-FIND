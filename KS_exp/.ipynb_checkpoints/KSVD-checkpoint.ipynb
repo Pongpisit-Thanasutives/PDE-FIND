{
 "cells": [
  {
   "cell_type": "code",
   "execution_count": 1,
   "id": "8ba85b6e",
   "metadata": {},
   "outputs": [],
   "source": [
    "from scipy.io import loadmat, savemat\n",
    "from sklearn.feature_extraction.image import extract_patches_2d, reconstruct_from_patches_2d\n",
    "from sklearn.linear_model import orthogonal_mp, orthogonal_mp_gram\n",
    "from sklearn.decomposition import MiniBatchDictionaryLearning, sparse_encode, SparseCoder\n",
    "from ksvd import ApproximateKSVD\n",
    "from spmimage.decomposition import KSVD, generate_dct_dictionary, generate_dct_dict\n",
    "from filterpy.kalman import KalmanFilter\n",
    "\n",
    "import matplotlib.pyplot as plt\n",
    "%matplotlib inline\n",
    "main_seed = 0\n",
    "import numpy as np\n",
    "\n",
    "import sys; sys.path.insert(0, \"../\")\n",
    "from savgol import iterative_savgol_gpt, iterative_savgol_filter, DySMHO\n",
    "from savitzky_golay_werrors import savgol_filter_werror\n",
    "\n",
    "def kalman_denoise(signal, Q, R, initial_state_mean=0., initial_state_covariance=1.):\n",
    "    # Initialize the Kalman filter\n",
    "    kf = KalmanFilter(dim_x=1, dim_z=1)\n",
    "    kf.x = initial_state_mean\n",
    "    kf.P = initial_state_covariance\n",
    "    kf.Q = Q\n",
    "    kf.R = R\n",
    "    kf.F = np.array([[1.]])\n",
    "    kf.H = np.array([[1.]])\n",
    "    kf.B = None\n",
    "\n",
    "    # Apply the Kalman filter to the signal\n",
    "    denoised_signal = []\n",
    "    for z in signal:\n",
    "        kf.predict()\n",
    "        kf.update(z)\n",
    "        denoised_signal.append(kf.x[0])\n",
    "\n",
    "    return np.array(denoised_signal)"
   ]
  },
  {
   "cell_type": "code",
   "execution_count": 2,
   "id": "49627c39",
   "metadata": {},
   "outputs": [],
   "source": [
    "def vis(rec):\n",
    "    global x, t\n",
    "    plt.contourf(*np.meshgrid(x, t), rec, levels=10)\n",
    "    plt.colorbar()\n",
    "    plt.show()"
   ]
  },
  {
   "cell_type": "code",
   "execution_count": 3,
   "id": "502c370b",
   "metadata": {},
   "outputs": [],
   "source": [
    "data = loadmat('../Datasets/kuramoto_sivishinky.mat')\n",
    "u = data['uu']\n",
    "x = data['x'][:,0]\n",
    "t = data['tt'][0,:]\n",
    "dt = t[1]-t[0]\n",
    "dx = x[2]-x[1]\n",
    "\n",
    "np.random.seed(0)\n",
    "noise_lv = 30\n",
    "noise = 0.01*np.abs(noise_lv)*(u.std())*np.random.randn(u.shape[0], u.shape[1])\n",
    "un = u+noise"
   ]
  },
  {
   "cell_type": "code",
   "execution_count": 4,
   "id": "00256f0a",
   "metadata": {},
   "outputs": [
    {
     "data": {
      "text/plain": [
       "0.1021863886482659"
      ]
     },
     "execution_count": 4,
     "metadata": {},
     "output_type": "execute_result"
    }
   ],
   "source": [
    "((un-u)**2).mean()"
   ]
  },
  {
   "cell_type": "code",
   "execution_count": 5,
   "id": "828b5eef",
   "metadata": {},
   "outputs": [
    {
     "name": "stdout",
     "output_type": "stream",
     "text": [
      "(25, 25)\n"
     ]
    },
    {
     "data": {
      "text/plain": [
       "(227000, 625)"
      ]
     },
     "execution_count": 5,
     "metadata": {},
     "output_type": "execute_result"
    }
   ],
   "source": [
    "# 20, 25*, 30\n",
    "div = 25; axis = 1\n",
    "patch_size = (int(u.shape[0]//div), int(u.shape[1]//div))\n",
    "avg_patch_size = (patch_size[0]+patch_size[1])//2\n",
    "patch_size = (avg_patch_size, avg_patch_size)\n",
    "# patch_size = (max(patch_size), max(patch_size))\n",
    "print(patch_size)\n",
    "\n",
    "un_img = un\n",
    "patches = extract_patches_2d(un_img, patch_size)\n",
    "\n",
    "signals = patches.reshape(patches.shape[0], -1)\n",
    "mean = np.mean(signals, axis=axis)\n",
    "mean = mean[:, np.newaxis] if axis > 0 else mean\n",
    "std = np.std(signals, axis=axis)\n",
    "std = std[:, np.newaxis] if axis > 0 else mean\n",
    "signals = signals-mean\n",
    "# signals = (signals-mean)/std\n",
    "signals.shape"
   ]
  },
  {
   "cell_type": "code",
   "execution_count": 6,
   "id": "5dbd46be",
   "metadata": {},
   "outputs": [],
   "source": [
    "np.random.seed(main_seed)\n",
    "# 64, 50, 40, 32, 16, 8 (64 was not so good | max should be 40?)\n",
    "n_components = 32; alpha = 1; batch_size = 3\n",
    "transform_n_nonzero_coefs = None # 1\n",
    "mode = 'ksvd_reg' # ksvd, spm_ksvd, spm_dctksvd, ksvd_reg"
   ]
  },
  {
   "cell_type": "code",
   "execution_count": 7,
   "id": "ee869e3a",
   "metadata": {},
   "outputs": [],
   "source": [
    "# mdict = {'sig':signals, 'D0':generate_dct_dict(n_components, (patch_size[0], patch_size[1])).T}\n",
    "# savemat(\"/Users/pongpisit/Desktop/research/ompbox10/KS_sig_25x25.mat\", mdict)"
   ]
  },
  {
   "cell_type": "code",
   "execution_count": 8,
   "id": "e413555e",
   "metadata": {},
   "outputs": [
    {
     "name": "stdout",
     "output_type": "stream",
     "text": [
      "Loaded\n"
     ]
    },
    {
     "name": "stderr",
     "output_type": "stream",
     "text": [
      "/Users/pongpisit/anaconda3/envs/pysr_latest/lib/python3.11/site-packages/sklearn/decomposition/_dict_learning.py:213: RuntimeWarning: Orthogonal matching pursuit ended prematurely due to linear dependence in the dictionary. The requested precision might not have been met.\n",
      "  new_code = orthogonal_mp_gram(\n",
      "/Users/pongpisit/anaconda3/envs/pysr_latest/lib/python3.11/site-packages/sklearn/decomposition/_dict_learning.py:213: RuntimeWarning: Orthogonal matching pursuit ended prematurely due to linear dependence in the dictionary. The requested precision might not have been met.\n",
      "  new_code = orthogonal_mp_gram(\n",
      "/Users/pongpisit/anaconda3/envs/pysr_latest/lib/python3.11/site-packages/sklearn/decomposition/_dict_learning.py:213: RuntimeWarning: Orthogonal matching pursuit ended prematurely due to linear dependence in the dictionary. The requested precision might not have been met.\n",
      "  new_code = orthogonal_mp_gram(\n",
      "/Users/pongpisit/anaconda3/envs/pysr_latest/lib/python3.11/site-packages/sklearn/decomposition/_dict_learning.py:213: RuntimeWarning: Orthogonal matching pursuit ended prematurely due to linear dependence in the dictionary. The requested precision might not have been met.\n",
      "  new_code = orthogonal_mp_gram(\n",
      "/Users/pongpisit/anaconda3/envs/pysr_latest/lib/python3.11/site-packages/sklearn/decomposition/_dict_learning.py:213: RuntimeWarning: Orthogonal matching pursuit ended prematurely due to linear dependence in the dictionary. The requested precision might not have been met.\n",
      "  new_code = orthogonal_mp_gram(\n",
      "/Users/pongpisit/anaconda3/envs/pysr_latest/lib/python3.11/site-packages/sklearn/decomposition/_dict_learning.py:213: RuntimeWarning: Orthogonal matching pursuit ended prematurely due to linear dependence in the dictionary. The requested precision might not have been met.\n",
      "  new_code = orthogonal_mp_gram(\n",
      "/Users/pongpisit/anaconda3/envs/pysr_latest/lib/python3.11/site-packages/sklearn/decomposition/_dict_learning.py:213: RuntimeWarning: Orthogonal matching pursuit ended prematurely due to linear dependence in the dictionary. The requested precision might not have been met.\n",
      "  new_code = orthogonal_mp_gram(\n",
      "/Users/pongpisit/anaconda3/envs/pysr_latest/lib/python3.11/site-packages/sklearn/decomposition/_dict_learning.py:213: RuntimeWarning: Orthogonal matching pursuit ended prematurely due to linear dependence in the dictionary. The requested precision might not have been met.\n",
      "  new_code = orthogonal_mp_gram(\n",
      "/Users/pongpisit/anaconda3/envs/pysr_latest/lib/python3.11/site-packages/sklearn/decomposition/_dict_learning.py:213: RuntimeWarning: Orthogonal matching pursuit ended prematurely due to linear dependence in the dictionary. The requested precision might not have been met.\n",
      "  new_code = orthogonal_mp_gram(\n",
      "/Users/pongpisit/anaconda3/envs/pysr_latest/lib/python3.11/site-packages/sklearn/decomposition/_dict_learning.py:213: RuntimeWarning: Orthogonal matching pursuit ended prematurely due to linear dependence in the dictionary. The requested precision might not have been met.\n",
      "  new_code = orthogonal_mp_gram(\n",
      "/Users/pongpisit/anaconda3/envs/pysr_latest/lib/python3.11/site-packages/sklearn/decomposition/_dict_learning.py:213: RuntimeWarning: Orthogonal matching pursuit ended prematurely due to linear dependence in the dictionary. The requested precision might not have been met.\n",
      "  new_code = orthogonal_mp_gram(\n",
      "/Users/pongpisit/anaconda3/envs/pysr_latest/lib/python3.11/site-packages/sklearn/decomposition/_dict_learning.py:213: RuntimeWarning: Orthogonal matching pursuit ended prematurely due to linear dependence in the dictionary. The requested precision might not have been met.\n",
      "  new_code = orthogonal_mp_gram(\n"
     ]
    },
    {
     "name": "stdout",
     "output_type": "stream",
     "text": [
      "(625, 32) (32, 227000) (32, 227000)\n"
     ]
    }
   ],
   "source": [
    "if mode == 'ksvd':\n",
    "    ksvd = ApproximateKSVD(n_components=n_components, max_iter=10, \n",
    "                           transform_n_nonzero_coefs=transform_n_nonzero_coefs)\n",
    "    print(\"Fitting...\")\n",
    "    dictionary = ksvd.fit(signals).components_\n",
    "    gamma = ksvd.transform(signals)\n",
    "\n",
    "elif mode == 'spm_ksvd':\n",
    "    method = 'approximate' # 'normal'\n",
    "    ksvd = KSVD(n_components=n_components, max_iter=10, \n",
    "                transform_n_nonzero_coefs=transform_n_nonzero_coefs, \n",
    "                method=method, dict_init=None)\n",
    "    print(\"Fitting...\")\n",
    "    ksvd.fit(signals)\n",
    "    dictionary = ksvd.components_\n",
    "    gamma = ksvd.transform(signals)\n",
    "    \n",
    "elif mode == 'ksvd_reg':\n",
    "    # (s=1.5, reg=0.05, iters=20)\n",
    "    # save('/Users/pongpisit/Desktop/research/PDE-FIND/Denoise/ksvd_reg_out.mat', 'Df', 'Xf');\n",
    "    Df = loadmat(\"dctksvdV2_reg_out_25x25.mat\")['Df'].T\n",
    "    Xf = loadmat(\"dctksvdV2_reg_out_25x25.mat\")['Xf'].T\n",
    "    # Xf = Xf[:, 1:]; Df = Df[1:, :]; n_components -= 1\n",
    "    transform_algorithm = ['lasso_lars', 'lasso_cd', 'lars', 'omp', 'threshold'][-2]\n",
    "    ksvd = KSVD(n_components=n_components, max_iter=20, \n",
    "                transform_algorithm=transform_algorithm, \n",
    "                transform_max_iter=None, # None for omp\n",
    "                transform_n_nonzero_coefs=transform_n_nonzero_coefs, \n",
    "                n_jobs=-1)\n",
    "    ksvd.components_ = Df\n",
    "    print(\"Loaded\")\n",
    "    dictionary = ksvd.components_\n",
    "    gamma = ksvd.transform(signals) # signals/(ksvd.components_)\n",
    "    print(Df.T.shape, Xf.T.shape, gamma.T.shape)\n",
    "    \n",
    "elif mode == 'spm_dctksvd':\n",
    "    method = 'approximate' # 'normal'\n",
    "    ksvd = KSVD(n_components=n_components, max_iter=100, \n",
    "                transform_n_nonzero_coefs=transform_n_nonzero_coefs, \n",
    "                method=method, dict_init=generate_dct_dict(n_components, (patch_size[0], patch_size[1])))\n",
    "    print(\"Fitting...\")\n",
    "    ksvd.fit(signals)\n",
    "    dictionary = ksvd.components_\n",
    "    gamma = ksvd.transform(signals)"
   ]
  },
  {
   "cell_type": "code",
   "execution_count": 9,
   "id": "879994ef",
   "metadata": {},
   "outputs": [],
   "source": [
    "# reduced_un = Xf.dot(Df)+mean\n",
    "reduced_un = gamma.dot(Df)+mean\n",
    "reduced_un = reconstruct_from_patches_2d(reduced_un.reshape(patches.shape), un_img.shape)\n",
    "reduced_un = np.array(reduced_un).astype(np.float32)"
   ]
  },
  {
   "cell_type": "code",
   "execution_count": 10,
   "id": "83730452",
   "metadata": {},
   "outputs": [],
   "source": [
    "# reduced_un = np.load(\"denoised_u_files/KS_noise30_reduced_spmksvd.npy\")\n",
    "# np.save(\"denoised_u_files/KS_noise30_reduced_spmksvd.npy\", reduced_un)"
   ]
  },
  {
   "cell_type": "code",
   "execution_count": 11,
   "id": "0ddd84fe",
   "metadata": {},
   "outputs": [
    {
     "data": {
      "text/plain": [
       "0.002859069216284195"
      ]
     },
     "execution_count": 11,
     "metadata": {},
     "output_type": "execute_result"
    }
   ],
   "source": [
    "# omp, transform_max_iter=None: 0.002859069216284195\n",
    "((reduced_un-u)**2).mean()"
   ]
  },
  {
   "cell_type": "code",
   "execution_count": 12,
   "id": "0201eab1",
   "metadata": {},
   "outputs": [
    {
     "name": "stderr",
     "output_type": "stream",
     "text": [
      "/Users/pongpisit/anaconda3/envs/pysr_latest/lib/python3.11/site-packages/sklearn/decomposition/_dict_learning.py:213: RuntimeWarning: Orthogonal matching pursuit ended prematurely due to linear dependence in the dictionary. The requested precision might not have been met.\n",
      "  new_code = orthogonal_mp_gram(\n",
      "/Users/pongpisit/anaconda3/envs/pysr_latest/lib/python3.11/site-packages/sklearn/decomposition/_dict_learning.py:213: RuntimeWarning: Orthogonal matching pursuit ended prematurely due to linear dependence in the dictionary. The requested precision might not have been met.\n",
      "  new_code = orthogonal_mp_gram(\n",
      "/Users/pongpisit/anaconda3/envs/pysr_latest/lib/python3.11/site-packages/sklearn/decomposition/_dict_learning.py:213: RuntimeWarning: Orthogonal matching pursuit ended prematurely due to linear dependence in the dictionary. The requested precision might not have been met.\n",
      "  new_code = orthogonal_mp_gram(\n",
      "/Users/pongpisit/anaconda3/envs/pysr_latest/lib/python3.11/site-packages/sklearn/decomposition/_dict_learning.py:213: RuntimeWarning: Orthogonal matching pursuit ended prematurely due to linear dependence in the dictionary. The requested precision might not have been met.\n",
      "  new_code = orthogonal_mp_gram(\n",
      "/Users/pongpisit/anaconda3/envs/pysr_latest/lib/python3.11/site-packages/sklearn/decomposition/_dict_learning.py:213: RuntimeWarning: Orthogonal matching pursuit ended prematurely due to linear dependence in the dictionary. The requested precision might not have been met.\n",
      "  new_code = orthogonal_mp_gram(\n",
      "/Users/pongpisit/anaconda3/envs/pysr_latest/lib/python3.11/site-packages/sklearn/decomposition/_dict_learning.py:213: RuntimeWarning: Orthogonal matching pursuit ended prematurely due to linear dependence in the dictionary. The requested precision might not have been met.\n",
      "  new_code = orthogonal_mp_gram(\n",
      "/Users/pongpisit/anaconda3/envs/pysr_latest/lib/python3.11/site-packages/sklearn/decomposition/_dict_learning.py:213: RuntimeWarning: Orthogonal matching pursuit ended prematurely due to linear dependence in the dictionary. The requested precision might not have been met.\n",
      "  new_code = orthogonal_mp_gram(\n",
      "/Users/pongpisit/anaconda3/envs/pysr_latest/lib/python3.11/site-packages/sklearn/decomposition/_dict_learning.py:213: RuntimeWarning: Orthogonal matching pursuit ended prematurely due to linear dependence in the dictionary. The requested precision might not have been met.\n",
      "  new_code = orthogonal_mp_gram(\n",
      "/Users/pongpisit/anaconda3/envs/pysr_latest/lib/python3.11/site-packages/sklearn/decomposition/_dict_learning.py:213: RuntimeWarning: Orthogonal matching pursuit ended prematurely due to linear dependence in the dictionary. The requested precision might not have been met.\n",
      "  new_code = orthogonal_mp_gram(\n",
      "/Users/pongpisit/anaconda3/envs/pysr_latest/lib/python3.11/site-packages/sklearn/decomposition/_dict_learning.py:213: RuntimeWarning: Orthogonal matching pursuit ended prematurely due to linear dependence in the dictionary. The requested precision might not have been met.\n",
      "  new_code = orthogonal_mp_gram(\n",
      "/Users/pongpisit/anaconda3/envs/pysr_latest/lib/python3.11/site-packages/sklearn/decomposition/_dict_learning.py:213: RuntimeWarning: Orthogonal matching pursuit ended prematurely due to linear dependence in the dictionary. The requested precision might not have been met.\n",
      "  new_code = orthogonal_mp_gram(\n",
      "/Users/pongpisit/anaconda3/envs/pysr_latest/lib/python3.11/site-packages/sklearn/decomposition/_dict_learning.py:213: RuntimeWarning: Orthogonal matching pursuit ended prematurely due to linear dependence in the dictionary. The requested precision might not have been met.\n",
      "  new_code = orthogonal_mp_gram(\n"
     ]
    },
    {
     "data": {
      "text/plain": [
       "0.002859069216284195"
      ]
     },
     "execution_count": 12,
     "metadata": {},
     "output_type": "execute_result"
    }
   ],
   "source": [
    "sc = sparse_encode(signals, Df, algorithm='omp', n_jobs=-1) # uses orthogonal_mp_gram\n",
    "reduced_un = sc.dot(Df)+mean\n",
    "reduced_un = reconstruct_from_patches_2d(reduced_un.reshape(patches.shape), un_img.shape)\n",
    "reduced_un = np.array(reduced_un).astype(np.float32)\n",
    "((reduced_un-u)**2).mean()"
   ]
  },
  {
   "cell_type": "code",
   "execution_count": 20,
   "id": "2cd6e15c",
   "metadata": {},
   "outputs": [
    {
     "data": {
      "text/plain": [
       "0.0028590692169126217"
      ]
     },
     "execution_count": 20,
     "metadata": {},
     "output_type": "execute_result"
    }
   ],
   "source": [
    "omp_sc = loadmat(\"dctksvdV2_reg_out_25x25_sc.mat\")['sc']\n",
    "reduced_un = omp_sc.T.dot(Df)+mean\n",
    "reduced_un = reconstruct_from_patches_2d(reduced_un.reshape(patches.shape), un_img.shape)\n",
    "reduced_un = np.array(reduced_un).astype(np.float32)\n",
    "((reduced_un-u)**2).mean()"
   ]
  },
  {
   "cell_type": "code",
   "execution_count": 21,
   "id": "6b43ad62",
   "metadata": {},
   "outputs": [
    {
     "ename": "StopIteration",
     "evalue": "",
     "output_type": "error",
     "traceback": [
      "\u001b[0;31m---------------------------------------------------------------------------\u001b[0m",
      "\u001b[0;31mStopIteration\u001b[0m                             Traceback (most recent call last)",
      "Cell \u001b[0;32mIn[21], line 1\u001b[0m\n\u001b[0;32m----> 1\u001b[0m \u001b[38;5;28;01mraise\u001b[39;00m \u001b[38;5;167;01mStopIteration\u001b[39;00m\n",
      "\u001b[0;31mStopIteration\u001b[0m: "
     ]
    }
   ],
   "source": [
    "raise StopIteration"
   ]
  },
  {
   "cell_type": "code",
   "execution_count": null,
   "id": "71355b23",
   "metadata": {},
   "outputs": [],
   "source": [
    "# np.save(\"denoised_u_files/KS_noise30_reduced_dctV2ksvdreg_25x25.npy\", reduced_un)"
   ]
  },
  {
   "cell_type": "code",
   "execution_count": null,
   "id": "dfaba453",
   "metadata": {},
   "outputs": [],
   "source": [
    "vis(un.T)"
   ]
  },
  {
   "cell_type": "code",
   "execution_count": null,
   "id": "fca24a53",
   "metadata": {},
   "outputs": [],
   "source": [
    "vis(reduced_un.T)"
   ]
  },
  {
   "cell_type": "code",
   "execution_count": null,
   "id": "0021ec6a",
   "metadata": {},
   "outputs": [],
   "source": [
    "((reduced_un-u)**2).mean(), ((un-u)**2).mean()"
   ]
  },
  {
   "cell_type": "code",
   "execution_count": null,
   "id": "830e9cf0",
   "metadata": {},
   "outputs": [],
   "source": [
    "# ((iterative_savgol_filter(reduced_un, ws=3, delta=2, thres=5e-3)-u)**2).mean()"
   ]
  },
  {
   "cell_type": "code",
   "execution_count": null,
   "id": "fbfd6d42",
   "metadata": {},
   "outputs": [],
   "source": [
    "dysmho = DySMHO(reduced_un, div=2)\n",
    "denoised = dysmho.smooth(window_size=9) # 1, 3\n",
    "((denoised-u)**2).mean(), dysmho.best_window_size"
   ]
  },
  {
   "cell_type": "code",
   "execution_count": null,
   "id": "7b163fc3",
   "metadata": {},
   "outputs": [],
   "source": [
    "denoised = np.vstack([savgol_filter_werror(reduced_un[i, :], window_length=dysmho.best_window_size, degree=2, \n",
    "                                           error=np.ones((len(x)), np.float32)*1e-1) for i in range(len(x))])"
   ]
  },
  {
   "cell_type": "code",
   "execution_count": null,
   "id": "a961df19",
   "metadata": {},
   "outputs": [],
   "source": [
    "((denoised-u)**2).mean()"
   ]
  },
  {
   "cell_type": "code",
   "execution_count": null,
   "id": "7413437b",
   "metadata": {},
   "outputs": [],
   "source": [
    "# np.save(\"denoised_u_files/KS_noise30_reduced_dctV2ksvdreg_25x25_savgol.npy\", denoised)"
   ]
  },
  {
   "cell_type": "code",
   "execution_count": null,
   "id": "343d1ddb",
   "metadata": {},
   "outputs": [],
   "source": []
  },
  {
   "cell_type": "code",
   "execution_count": null,
   "id": "22805084",
   "metadata": {},
   "outputs": [],
   "source": []
  },
  {
   "cell_type": "code",
   "execution_count": null,
   "id": "9afb8976",
   "metadata": {},
   "outputs": [],
   "source": [
    "Q = 5e-3  # process noise covariance\n",
    "R = 5e-3  # measurement noise covariance\n",
    "\n",
    "Q = 2e-2\n",
    "R = 2e-2\n",
    "\n",
    "# Q = 0.1\n",
    "# R = 0.1\n",
    "\n",
    "initial_state_mean = 0.\n",
    "initial_state_covariance = 1.\n",
    "\n",
    "# ground = np.sin(np.linspace(0, 3*np.pi, 1000))\n",
    "# signal = ground + np.random.randn(1000)*0.5\n",
    "# ((kalman_denoise(signal, Q=Q, R=R).flatten()-signal)**2).mean()\n",
    "# plt.plot(signal)\n",
    "# plt.plot(ground)\n",
    "# plt.show()"
   ]
  },
  {
   "cell_type": "code",
   "execution_count": null,
   "id": "840f067a",
   "metadata": {},
   "outputs": [],
   "source": [
    "filtered = np.hstack([kalman_denoise(reduced_un[i, :], Q, R, \n",
    "                                     initial_state_mean=initial_state_mean, \n",
    "                                     initial_state_covariance=initial_state_covariance) \n",
    "                      for i in range(len(x))]).T"
   ]
  },
  {
   "cell_type": "code",
   "execution_count": null,
   "id": "bab497f4",
   "metadata": {},
   "outputs": [],
   "source": [
    "# 0.0002801885174306463\n",
    "((filtered-u)**2).mean()"
   ]
  },
  {
   "cell_type": "code",
   "execution_count": null,
   "id": "da1c0db2",
   "metadata": {},
   "outputs": [],
   "source": [
    "# np.save(\"KS_noise30_reduced_spmksvd_filterpy.npy\", filtered)"
   ]
  },
  {
   "cell_type": "code",
   "execution_count": null,
   "id": "2d5d9c6b",
   "metadata": {},
   "outputs": [],
   "source": [
    "# smoother_name = 'filterpy'\n",
    "# file_name = \"../RDAE_data/{mode}/{smoother_name}/transform_n_nonzero_coefs_none/burgers_dictlearn_denoised{noise_lv}_components{n_components}.npy\".format(mode=mode, smoother_name=smoother_name, noise_lv=noise_lv, n_components=n_components)\n",
    "# np.save(file_name, filtered)"
   ]
  }
 ],
 "metadata": {
  "kernelspec": {
   "display_name": "Python [conda env:pysr_latest]",
   "language": "python",
   "name": "conda-env-pysr_latest-py"
  },
  "language_info": {
   "codemirror_mode": {
    "name": "ipython",
    "version": 3
   },
   "file_extension": ".py",
   "mimetype": "text/x-python",
   "name": "python",
   "nbconvert_exporter": "python",
   "pygments_lexer": "ipython3",
   "version": "3.11.3"
  }
 },
 "nbformat": 4,
 "nbformat_minor": 5
}
