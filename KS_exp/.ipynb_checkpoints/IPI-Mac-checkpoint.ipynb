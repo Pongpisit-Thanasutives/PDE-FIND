{
 "cells": [
  {
   "cell_type": "markdown",
   "id": "6e4730cb",
   "metadata": {},
   "source": [
    "# PDE-FIND for the Kuramoto Sivashinsky Equation\n",
    "\n",
    "This notebook demonstrates PDE-FIND on the Kuramoto Sivashinsky equation.\n",
    "$$\n",
    "u_t + u_{xxxx} + uu_x + u_{xx} = 0\n",
    "$$"
   ]
  },
  {
   "cell_type": "code",
   "execution_count": 1,
   "id": "dc63748a",
   "metadata": {},
   "outputs": [
    {
     "name": "stdout",
     "output_type": "stream",
     "text": [
      "Sklearn's version: 1.2.2\n",
      "mrmr is not installed in the env you are using. This may cause an error in future if you try to use the (missing) lib.\n"
     ]
    }
   ],
   "source": [
    "%load_ext autoreload\n",
    "%autoreload 2\n",
    "%matplotlib inline\n",
    "import matplotlib.pyplot as plt\n",
    "import warnings; warnings.filterwarnings(\"ignore\")\n",
    "\n",
    "import numpy as np\n",
    "from numpy.random import default_rng\n",
    "import pandas as pd\n",
    "\n",
    "import sys; sys.path.append('../')\n",
    "from PDE_FIND import *\n",
    "\n",
    "import sys; sys.path.append('../../parametric-discovery/')\n",
    "from best_subset import *\n",
    "from frols import frols\n",
    "from p_linear_regression import PLinearRegression\n",
    "from r_pca import R_pca\n",
    "from pde_diff_new import RPCA\n",
    "from RobustPCA.rpca import RobustPCA\n",
    "\n",
    "import scipy.io as sio\n",
    "from scipy.signal import savgol_filter, wiener\n",
    "from scipy import integrate\n",
    "from scipy.integrate import trapz\n",
    "from scipy.integrate import simpson as simp\n",
    "import itertools\n",
    "\n",
    "from sklearn.preprocessing import normalize\n",
    "from sklearn.linear_model import Ridge, BayesianRidge, LinearRegression as SkLinearRegression\n",
    "from sklearn.base import BaseEstimator\n",
    "from sklearn.pipeline import make_pipeline\n",
    "from sklearn.metrics import mean_squared_error\n",
    "from abess.linear import LinearRegression\n",
    "import pysindy as ps\n",
    "\n",
    "from os.path import join as join_path\n",
    "FIGURE_EXPORT_PATH = \"/Users/pongpisit/Documents/figure_export/\"\n",
    "\n",
    "def evaluate_coefficients(prediected_coeffs):\n",
    "    GROUND = np.array([0.1, -1])\n",
    "    errs = 100*np.abs(GROUND-np.array(prediected_coeffs).flatten())/np.abs(GROUND)\n",
    "    return errs.mean(), errs.std()\n",
    "\n",
    "import torch, sympytorch\n",
    "import torch.nn as nn\n",
    "import torch.nn.functional as F\n",
    "from sympy import symbols, simplify, lambdify\n",
    "from mathparser import math_eval\n",
    "from varname import nameof\n",
    "from misc import h5file\n",
    "\n",
    "import derivative\n",
    "from tvregdiff import TVRegDiff, tvregdiff, numdiff, pysindydiff, savgol_denoise\n",
    "from functools import partial\n",
    "from findiff import FinDiff\n",
    "\n",
    "from tqdm import trange\n",
    "import heapq\n",
    "\n",
    "def percent_coeff(pred, ground=np.array([-1., -1., -1.])): \n",
    "    return 100*np.abs(pred.flatten()-ground)/np.abs(ground)"
   ]
  },
  {
   "cell_type": "code",
   "execution_count": 2,
   "id": "9983aec0",
   "metadata": {},
   "outputs": [],
   "source": [
    "data = sio.loadmat('../Datasets/kuramoto_sivishinky.mat')\n",
    "u = data['uu']\n",
    "x = data['x'][:,0]\n",
    "t = data['tt'][0,:]\n",
    "dt = t[1]-t[0]\n",
    "dx = x[2]-x[1]\n",
    "X, T = np.meshgrid(x, t)\n",
    "XT = np.asarray([X, T]).T\n",
    "\n",
    "assert np.max(x)/32 == np.pi"
   ]
  },
  {
   "cell_type": "code",
   "execution_count": 3,
   "id": "b219ce45",
   "metadata": {},
   "outputs": [],
   "source": [
    "np.random.seed(0)\n",
    "noise_lv = 30\n",
    "un = u + 0.01*noise_lv*u.std()*np.random.randn(u.shape[0], u.shape[1])"
   ]
  },
  {
   "cell_type": "code",
   "execution_count": 4,
   "id": "dcbb14dd",
   "metadata": {},
   "outputs": [
    {
     "name": "stdout",
     "output_type": "stream",
     "text": [
      "STLSQ model: \n",
      "(x0)' = -0.994 x0_11 + -0.996 x0_1111 + -0.992 x0x0_1\n"
     ]
    }
   ],
   "source": [
    "library_functions = [lambda x: x, lambda x: x * x]\n",
    "library_function_names = [lambda x: x, lambda x: x + x]\n",
    "pde_lib = ps.PDELibrary(\n",
    "    library_functions=library_functions,\n",
    "    function_names=library_function_names,\n",
    "    derivative_order=4,\n",
    "    spatial_grid=x,\n",
    "    is_uniform=True,\n",
    ")\n",
    "\n",
    "print('STLSQ model: ')\n",
    "optimizer = ps.STLSQ(threshold=0.1, alpha=1e-5, normalize_columns=False)\n",
    "model = ps.SINDy(feature_library=pde_lib, optimizer=optimizer)\n",
    "model.fit(np.expand_dims(u, -1), t=dt)\n",
    "model.print()"
   ]
  },
  {
   "cell_type": "code",
   "execution_count": 5,
   "id": "a1b8b8d8",
   "metadata": {},
   "outputs": [
    {
     "name": "stdout",
     "output_type": "stream",
     "text": [
      "MIOSR model: \n",
      "Set parameter Username\n"
     ]
    },
    {
     "name": "stderr",
     "output_type": "stream",
     "text": [
      "2023-06-05 15:55:36,367 [INFO] Set parameter Username\n"
     ]
    },
    {
     "name": "stdout",
     "output_type": "stream",
     "text": [
      "Academic license - for non-commercial use only - expires 2024-06-04\n"
     ]
    },
    {
     "name": "stderr",
     "output_type": "stream",
     "text": [
      "2023-06-05 15:55:36,370 [INFO] Academic license - for non-commercial use only - expires 2024-06-04\n"
     ]
    },
    {
     "name": "stdout",
     "output_type": "stream",
     "text": [
      "(x0)' = -0.994 x0_11 + -0.996 x0_1111 + -0.992 x0x0_1\n"
     ]
    }
   ],
   "source": [
    "print('MIOSR model: ')\n",
    "optimizer = ps.MIOSR(target_sparsity=3, normalize_columns=False, alpha=1e-1, regression_timeout=100)\n",
    "model = ps.SINDy(feature_library=pde_lib, optimizer=optimizer)\n",
    "model.fit(np.expand_dims(u, -1), t=dt)\n",
    "model.print()"
   ]
  },
  {
   "cell_type": "code",
   "execution_count": 6,
   "id": "007b854e",
   "metadata": {},
   "outputs": [],
   "source": [
    "class Differentiator(ps.BaseDifferentiation):\n",
    "    def __init__(self, diff_name, diff_func_kwargs, \n",
    "                 d=1, axis=1, \n",
    "                 is_uniform=True, periodic=False):\n",
    "        super(Differentiator, self).__init__()\n",
    "        self.diff_name = diff_name\n",
    "        self.diff_func_kwargs = diff_func_kwargs\n",
    "        self.diff_func = getattr(derivative, self.diff_name)(**diff_func_kwargs)\n",
    "        \n",
    "        self.d = d\n",
    "        self.diff = partial(pysindydiff, **{\"diff_method\":self.diff_func, \"order\":self.d})\n",
    "        \n",
    "        # Other info...\n",
    "        self.axis = axis\n",
    "        self.is_uniform = is_uniform\n",
    "        self.periodic = periodic\n",
    "        self.transform = np.vectorize(composite_function(self.diff, lambda _: _, left2right=True), signature=\"(m),(m)->(m)\")\n",
    "\n",
    "    def _differentiate(self, x, t):\n",
    "        in_shape = x.shape\n",
    "        if len(in_shape) == 2: x = np.expand_dims(x, -1) # x should now be 3-dimensional\n",
    "        if isinstance(t, float) and self.is_uniform: \n",
    "            t = np.linspace(0, stop=t*(x.shape[self.axis]-1), num=x.shape[self.axis])\n",
    "        out = []\n",
    "        # wrt to x var\n",
    "        if self.axis == 0:\n",
    "            for i in range(x.shape[-1]):\n",
    "                diff = self.transform(x[:,:,i].T, t).T\n",
    "                out.append(np.expand_dims(diff, axis=-1))\n",
    "        # wrt to time var\n",
    "        elif self.axis == 1:\n",
    "            for i in range(x.shape[-1]):\n",
    "                diff = self.transform(x[:,:,i], t)\n",
    "                out.append(np.expand_dims(diff, axis=-1))\n",
    "        return np.concatenate(out, axis=-1).reshape(in_shape)\n",
    "\n",
    "class FiniteDifferentiator(ps.BaseDifferentiation):\n",
    "    def __init__(self, acc=2, d=1, axis=1, is_uniform=True, periodic=False):\n",
    "        super(FiniteDifferentiator, self).__init__()        \n",
    "        self.acc = 2*(acc//2)\n",
    "        self.d = d\n",
    "        self.axis = axis\n",
    "        self.is_uniform = is_uniform\n",
    "        self.periodic = periodic\n",
    "    def _differentiate(self, x, t):\n",
    "        if self.is_uniform:\n",
    "            if isinstance(t, float): \n",
    "                dt = t\n",
    "            else: \n",
    "                dt = t[1]-t[0]\n",
    "            self.diff = FinDiff(self.axis, dt, self.d, acc=self.acc)\n",
    "        else:\n",
    "            raise NotImplementedError(\"is_uniform=False\")\n",
    "            self.diff = FinDiff(self.axis, self.d, acc=self.acc)\n",
    "        return self.diff(x)"
   ]
  },
  {
   "cell_type": "code",
   "execution_count": 7,
   "id": "57631251",
   "metadata": {},
   "outputs": [],
   "source": [
    "### originally from derivative ###\n",
    "## slow ##\n",
    "# diff_name, diff_func_kwargs = \"Kalman\", {'alpha':kalpha}\n",
    "## fast ##\n",
    "# diff_name, diff_func_kwargs = \"FiniteDifference\", {'k':1}\n",
    "# differentiation_method = Differentiator\n",
    "# differentiation_kwargs = {\"diff_name\": diff_name, \"diff_func_kwargs\": diff_func_kwargs}\n",
    "\n",
    "# originally from pysindy\n",
    "# differentiation_method, differentiation_kwargs = ps.SmoothedFiniteDifference, {}\n",
    "\n",
    "# originally from findiff (accurate and fast)\n",
    "differentiation_method, differentiation_kwargs = FiniteDifferentiator, {'acc':2}"
   ]
  },
  {
   "cell_type": "code",
   "execution_count": 8,
   "id": "ac2a2c65",
   "metadata": {},
   "outputs": [],
   "source": [
    "diff_order = 4; spatial_weights_p = 4\n",
    "weak_pde_lib = ps.WeakPDELibrary(library_functions=[lambda x: x, lambda x: x * x], \n",
    "                                 function_names=[lambda x: x, lambda x: x + x], \n",
    "                                 derivative_order=diff_order, p=spatial_weights_p, \n",
    "                                 spatiotemporal_grid=XT, \n",
    "                                 include_bias=False, is_uniform=True, K=10000, # new random K points in every calls to the ps.WeakPDELibrary\n",
    "                                 differentiation_method=differentiation_method, \n",
    "                                 differentiation_kwargs=differentiation_kwargs, \n",
    "                                 cache=True\n",
    "                                )\n",
    "kwargs = {'fit_intercept':False, 'copy_X':True, 'normalize_columns':False}"
   ]
  },
  {
   "cell_type": "code",
   "execution_count": 9,
   "id": "4dbe2eee",
   "metadata": {},
   "outputs": [],
   "source": [
    "# # optimizer = ps.MIOSR(target_sparsity=3, normalize_columns=False, alpha=1e-1, regression_timeout=100)\n",
    "# optimizer = L0BNB(max_nonzeros=3, lam=5e-2, is_normal=True, normalize_columns=False, threshold=1e-4) # tune lam จาก (X_pre, y_pre) | ตอนนี้ยังไม่ได้ tune\n",
    "# # optimizer = BruteForceRegressor(3)\n",
    "\n",
    "# # if feature_library=weak_pde_lib, then just differentiation_method=None is fine.\n",
    "# n_ensemble_models = 50\n",
    "# model = ps.SINDy(feature_library=weak_pde_lib, optimizer=optimizer, \n",
    "#                  differentiation_method=differentiation_method(**differentiation_kwargs), \n",
    "#                  cache=True,\n",
    "#                  feature_names=['u'])\n",
    "\n",
    "# model.fit(np.expand_dims(un, -1), t=dt, ensemble=True, library_ensemble=True, n_candidates_to_drop=1, n_models=n_ensemble_models)\n",
    "# print(model.get_feature_names())\n",
    "# print(model.print())\n",
    "\n",
    "# X_pre, y_pre = np.squeeze(model.feature_library.cached_xp_full), model.cached_x_dot\n",
    "# print_pde(model.get_coef_list()[np.argmin(np.sum((np.squeeze(np.tensordot(X_pre, np.array(model.get_coef_list()).T, axes=([-1], [0])), axis=1)-y_pre)**2, axis=0))].reshape(-1,1), model.get_feature_names())"
   ]
  },
  {
   "cell_type": "code",
   "execution_count": 10,
   "id": "14c6d5ea",
   "metadata": {},
   "outputs": [
    {
     "name": "stdout",
     "output_type": "stream",
     "text": [
      "['u', 'uu', 'u_1', 'u_11', 'u_111', 'u_1111', 'uu_1', 'uuu_1', 'uu_11', 'uuu_11', 'uu_111', 'uuu_111', 'uu_1111', 'uuu_1111']\n",
      "(u)' = -0.993 u_11 + -0.995 u_1111 + -0.998 uu_1\n",
      "None\n",
      "u_t = (-0.990625 +0.000000i)u_11\n",
      "    + (-0.993308 +0.000000i)u_1111\n",
      "    + (-0.995604 +0.000000i)uu_1\n",
      "   \n"
     ]
    }
   ],
   "source": [
    "optimizer = ps.MIOSR(target_sparsity=3, normalize_columns=False, alpha=5e-2, regression_timeout=100)\n",
    "n_ensemble_models = 50\n",
    "model = ps.SINDy(feature_library=weak_pde_lib, optimizer=optimizer, \n",
    "                 differentiation_method=differentiation_method(**differentiation_kwargs), \n",
    "                 cache=True,\n",
    "                 feature_names=['u'])\n",
    "\n",
    "model.fit(np.expand_dims(un, -1), t=dt, ensemble=True, library_ensemble=True, n_candidates_to_drop=1, n_models=n_ensemble_models)\n",
    "print(model.get_feature_names())\n",
    "print(model.print())\n",
    "\n",
    "X_pre, y_pre = np.squeeze(model.feature_library.cached_xp_full), model.cached_x_dot\n",
    "print_pde(model.get_coef_list()[np.argmin(np.sum((np.squeeze(np.tensordot(X_pre, np.array(model.get_coef_list()).T, axes=([-1], [0])), axis=1)-y_pre)**2, axis=0))].reshape(-1,1), model.get_feature_names())"
   ]
  },
  {
   "cell_type": "code",
   "execution_count": 11,
   "id": "1c7fa09b",
   "metadata": {},
   "outputs": [
    {
     "name": "stdout",
     "output_type": "stream",
     "text": [
      "u_t = (-0.992887 +0.000000i)u_11\n",
      "    + (-0.994861 +0.000000i)u_1111\n",
      "    + (-0.998153 +0.000000i)uu_1\n",
      "   \n",
      "0.46999004572032915\n"
     ]
    },
    {
     "data": {
      "text/plain": [
       "{3: ((3, 5, 6),\n",
       "  0.01617495345907047,\n",
       "  array([[-0.99288685],\n",
       "         [-0.9948606 ],\n",
       "         [-0.99815284]]))}"
      ]
     },
     "execution_count": 11,
     "metadata": {},
     "output_type": "execute_result"
    }
   ],
   "source": [
    "model_results = {}\n",
    "for effective_indices in set([tuple(np.nonzero(model.get_coef_list()[i][0])[0]) \n",
    "                              for i in range(len(model.get_coef_list()))]):\n",
    "    coeff = np.linalg.lstsq(X_pre[:, effective_indices], y_pre, rcond=None)[0]\n",
    "    mse = ((y_pre-X_pre[:, effective_indices]@coeff)**2).mean()\n",
    "    n_terms = len(effective_indices)\n",
    "    if (n_terms > 0) and (n_terms not in model_results or mse < model_results[n_terms][1]):\n",
    "        model_results[n_terms] = effective_indices, mse, coeff\n",
    "        \n",
    "for com in model_results:\n",
    "    effective_indices, _, coeff = model_results[com]\n",
    "    print_pde(coeff, np.array(model.get_feature_names())[list(effective_indices)])\n",
    "    \n",
    "print(percent_coeff(model_results[3][-1]).mean())\n",
    "model_results"
   ]
  },
  {
   "cell_type": "code",
   "execution_count": 12,
   "id": "d257da53",
   "metadata": {},
   "outputs": [],
   "source": [
    "# optimizer = L0BNB(max_nonzeros=5, lam=1e-1, is_normal=False, normalize_columns=False, threshold=1e-4)\n",
    "# optimizer.fit(X_pre, y_pre).coef_\n",
    "\n",
    "# mses = []\n",
    "# all_possible_models = list(itertools.combinations(range(14), 3))\n",
    "# for effective_indices in all_possible_models:\n",
    "#     coeff = np.linalg.lstsq(X_pre[:, effective_indices], y_pre, rcond=None)[0]\n",
    "#     mses.append(((y_pre-X_pre[:, effective_indices]@coeff)**2).mean())\n",
    "# all_possible_models[np.argmin(mses)], np.min(mses)"
   ]
  },
  {
   "cell_type": "markdown",
   "id": "ebb1ccd9",
   "metadata": {},
   "source": [
    "#### Evidence"
   ]
  },
  {
   "cell_type": "code",
   "execution_count": 13,
   "id": "bfb21c1e",
   "metadata": {},
   "outputs": [
    {
     "name": "stdout",
     "output_type": "stream",
     "text": [
      "u_t = (-0.333791 +0.000000i)uu_1\n",
      "   \n",
      "u_t = (-0.223216 +0.000000i)u_11\n",
      "    + (-0.574863 +0.000000i)uu_1\n",
      "   \n",
      "u_t = (-0.992887 +0.000000i)u_11\n",
      "    + (-0.994861 +0.000000i)u_1111\n",
      "    + (-0.998153 +0.000000i)uu_1\n",
      "   \n",
      "u_t = (-0.993005 +0.000000i)u_11\n",
      "    + (0.001229 +0.000000i)u_111\n",
      "    + (-0.994965 +0.000000i)u_1111\n",
      "    + (-0.998308 +0.000000i)uu_1\n",
      "   \n",
      "u_t = (0.003505 +0.000000i)u\n",
      "    + (-0.993824 +0.000000i)u_11\n",
      "    + (-0.995146 +0.000000i)u_1111\n",
      "    + (-0.998524 +0.000000i)uu_1\n",
      "    + (0.000302 +0.000000i)uuu_11\n",
      "   \n",
      "u_t = (0.010872 +0.000000i)u_1\n",
      "    + (-0.993135 +0.000000i)u_11\n",
      "    + (-0.994363 +0.000000i)u_1111\n",
      "    + (-0.998453 +0.000000i)uu_1\n",
      "    + (0.000462 +0.000000i)uuu_11\n",
      "    + (0.000465 +0.000000i)uuu_1111\n",
      "   \n",
      "u_t = (0.013149 +0.000000i)u_1\n",
      "    + (-0.993254 +0.000000i)u_11\n",
      "    + (-0.994077 +0.000000i)u_1111\n",
      "    + (-0.998535 +0.000000i)uu_1\n",
      "    + (0.003518 +0.000000i)uuu_1\n",
      "    + (0.000717 +0.000000i)uuu_11\n",
      "    + (0.000720 +0.000000i)uuu_1111\n",
      "   \n",
      "u_t = (0.002925 +0.000000i)u\n",
      "    + (0.012903 +0.000000i)u_1\n",
      "    + (-0.994150 +0.000000i)u_11\n",
      "    + (-0.994419 +0.000000i)u_1111\n",
      "    + (-0.998819 +0.000000i)uu_1\n",
      "    + (0.003328 +0.000000i)uuu_1\n",
      "    + (0.000953 +0.000000i)uuu_11\n",
      "    + (0.000701 +0.000000i)uuu_1111\n",
      "   \n"
     ]
    }
   ],
   "source": [
    "all_ols_models = []\n",
    "all_eff_rhs = []\n",
    "n_ensemble_models = 50; miosr_alpha = 5e-2\n",
    "for mnz in range(1, 9):\n",
    "    optimizer = ps.MIOSR(target_sparsity=mnz, normalize_columns=False, alpha=miosr_alpha, regression_timeout=100)    \n",
    "    model = ps.SINDy(feature_library=weak_pde_lib, optimizer=optimizer, \n",
    "                     differentiation_method=differentiation_method(**differentiation_kwargs), \n",
    "                     cache=True,\n",
    "                     feature_names=['u'])\n",
    "    model.fit(np.expand_dims(un, -1), t=dt, ensemble=True, \n",
    "              library_ensemble=True, n_candidates_to_drop=1, n_models=n_ensemble_models)\n",
    "    ols_model, eff_rhs_indices = model.validate_coef_list()[0]\n",
    "    all_ols_models.append(ols_model)\n",
    "    all_eff_rhs.append(eff_rhs_indices)"
   ]
  },
  {
   "cell_type": "code",
   "execution_count": 14,
   "id": "617a9a57",
   "metadata": {},
   "outputs": [],
   "source": [
    "all_eff_rhs.append(tuple(i for i in range(X_pre.shape[1])))"
   ]
  },
  {
   "cell_type": "code",
   "execution_count": 15,
   "id": "93a0192c",
   "metadata": {},
   "outputs": [
    {
     "name": "stdout",
     "output_type": "stream",
     "text": [
      "RFE_PLinearRegression\n",
      "(3, 6)\n",
      "(6,)\n",
      "--------------------------------------------------\n",
      "(3, 5, 6)\n",
      "(3, 6)\n",
      "--------------------------------------------------\n",
      "(3, 4, 5, 6)\n",
      "(3, 5, 6)\n",
      "--------------------------------------------------\n",
      "(0, 3, 5, 6, 9)\n",
      "(0, 3, 5, 6)\n",
      "(3, 5, 6)\n",
      "--------------------------------------------------\n",
      "(2, 3, 5, 6, 9, 13)\n",
      "(3, 5, 6, 9, 13)\n",
      "(3, 5, 6, 13)\n",
      "(3, 5, 6)\n",
      "--------------------------------------------------\n",
      "(2, 3, 5, 6, 7, 9, 13)\n",
      "(2, 3, 5, 6, 9, 13)\n",
      "--------------------------------------------------\n",
      "(0, 2, 3, 5, 6, 7, 9, 13)\n",
      "(2, 3, 5, 6, 7, 9, 13)\n",
      "--------------------------------------------------\n",
      "(0, 1, 2, 3, 4, 5, 6, 7, 8, 9, 10, 11, 12, 13)\n",
      "(0, 1, 2, 3, 4, 5, 6, 7, 9, 10, 11, 12, 13)\n",
      "(0, 1, 2, 3, 4, 5, 6, 7, 10, 11, 12, 13)\n",
      "(0, 2, 3, 4, 5, 6, 7, 10, 11, 12, 13)\n",
      "(0, 2, 3, 5, 6, 7, 10, 11, 12, 13)\n",
      "(0, 2, 3, 5, 6, 7, 11, 12, 13)\n",
      "(0, 2, 3, 5, 6, 7, 11, 13)\n",
      "(2, 3, 5, 6, 7, 11, 13)\n",
      "(2, 3, 5, 6, 11, 13)\n",
      "(3, 5, 6, 11, 13)\n",
      "(3, 5, 6, 13)\n",
      "--------------------------------------------------\n",
      "RFE_PLinearRegression\n",
      "(3, 6)\n",
      "(6,)\n",
      "--------------------------------------------------\n",
      "(3, 5, 6)\n",
      "(3, 6)\n",
      "--------------------------------------------------\n",
      "(3, 4, 5, 6)\n",
      "(3, 5, 6)\n",
      "--------------------------------------------------\n",
      "(0, 3, 5, 6, 9)\n",
      "(0, 3, 5, 6)\n",
      "(3, 5, 6)\n",
      "--------------------------------------------------\n",
      "(2, 3, 5, 6, 9, 13)\n",
      "(3, 5, 6, 9, 13)\n",
      "(3, 5, 6, 13)\n",
      "(3, 5, 6)\n",
      "--------------------------------------------------\n",
      "(2, 3, 5, 6, 7, 9, 13)\n",
      "(2, 3, 5, 6, 9, 13)\n",
      "--------------------------------------------------\n",
      "(0, 2, 3, 5, 6, 7, 9, 13)\n",
      "(2, 3, 5, 6, 7, 9, 13)\n",
      "--------------------------------------------------\n",
      "(0, 1, 2, 3, 4, 5, 6, 7, 8, 9, 10, 11, 12, 13)\n",
      "(0, 1, 2, 3, 4, 5, 6, 7, 9, 10, 11, 12, 13)\n",
      "(0, 1, 2, 3, 4, 5, 6, 7, 10, 11, 12, 13)\n",
      "(0, 2, 3, 4, 5, 6, 7, 10, 11, 12, 13)\n",
      "(0, 2, 3, 5, 6, 7, 10, 11, 12, 13)\n",
      "(0, 2, 3, 5, 6, 7, 11, 12, 13)\n",
      "(0, 2, 3, 5, 6, 7, 11, 13)\n",
      "(2, 3, 5, 6, 7, 11, 13)\n",
      "(2, 3, 5, 6, 11, 13)\n",
      "(3, 5, 6, 11, 13)\n",
      "(3, 5, 6, 13)\n",
      "--------------------------------------------------\n"
     ]
    }
   ],
   "source": [
    "st = backward_refinement(all_eff_rhs, (X_pre, y_pre), mode='rfe', verbose=True)\n",
    "st += backward_refinement(all_eff_rhs, (normalize(X_pre, axis=0), y_pre), mode='rfe', verbose=True)"
   ]
  },
  {
   "cell_type": "code",
   "execution_count": 16,
   "id": "b649d56e",
   "metadata": {},
   "outputs": [
    {
     "name": "stdout",
     "output_type": "stream",
     "text": [
      "(6,)\n",
      "(3, 6)\n",
      "(3, 5, 6)\n",
      "(3, 4, 5, 6)\n",
      "(0, 3, 5, 6, 9)\n",
      "(2, 3, 5, 6, 9, 13)\n",
      "(2, 3, 5, 6, 7, 9, 13)\n",
      "(0, 2, 3, 5, 6, 7, 9, 13)\n",
      "(0, 2, 3, 5, 6, 7, 11, 12, 13)\n",
      "(0, 2, 3, 5, 6, 7, 10, 11, 12, 13)\n",
      "(0, 2, 3, 4, 5, 6, 7, 10, 11, 12, 13)\n",
      "(0, 1, 2, 3, 4, 5, 6, 7, 10, 11, 12, 13)\n",
      "(0, 1, 2, 3, 4, 5, 6, 7, 9, 10, 11, 12, 13)\n",
      "(0, 1, 2, 3, 4, 5, 6, 7, 8, 9, 10, 11, 12, 13)\n"
     ]
    }
   ],
   "source": [
    "decreasing_aics = []\n",
    "complexities = []\n",
    "eff_feature_names = []\n",
    "now_aic = 1e6\n",
    "for com in sorted(st.track.keys()):\n",
    "    indices, aic = st.track[com]\n",
    "    print(indices)\n",
    "    if aic < now_aic:\n",
    "        complexities.append(len(indices))\n",
    "        decreasing_aics.append(aic)\n",
    "        eff_feature_names.append([convert2latex(f) for i,f in enumerate(model.get_feature_names()) if i in indices])\n",
    "        now_aic = aic\n",
    "decreasing_aics = np.array(decreasing_aics)\n",
    "complexities = np.array(complexities)\n",
    "relative_decreasing_aics = decreasing_aics-np.min(decreasing_aics)"
   ]
  },
  {
   "cell_type": "code",
   "execution_count": 17,
   "id": "cb26bcbe",
   "metadata": {},
   "outputs": [
    {
     "data": {
      "image/png": "[encoded data removed]",
      "text/plain": [
       "<Figure size 800x400 with 1 Axes>"
      ]
     },
     "metadata": {},
     "output_type": "display_data"
    }
   ],
   "source": [
    "fig, ax = plt.subplots(figsize=(8,4))\n",
    "ax.plot(complexities, relative_decreasing_aics, color='blue', linewidth=2.5, label=\"AIC-decreasing models\")\n",
    "ax.scatter(complexities, relative_decreasing_aics, marker='*', c='red', s=300)\n",
    "for com, name, rel_aic in zip(complexities, eff_feature_names, relative_decreasing_aics):\n",
    "    rotation = (90+45)/2\n",
    "    if com == 1: rotation = 0\n",
    "    ax.annotate(f\"    $({','.join(name)})$\", (com, rel_aic), rotation=rotation)\n",
    "plt.xlim(0.8,8.1)\n",
    "plt.title(r\"Model selection based on $\\frac{\\Delta AIC}{\\Delta s}$\")\n",
    "plt.ylabel(\"Relative AIC\")\n",
    "plt.xlabel(\"Number of support sizes\")\n",
    "plt.legend()\n",
    "plt.tight_layout()\n",
    "plt.show()"
   ]
  },
  {
   "cell_type": "code",
   "execution_count": 18,
   "id": "2feae1e6",
   "metadata": {},
   "outputs": [
    {
     "name": "stdout",
     "output_type": "stream",
     "text": [
      "[ 30275.8339728   25599.5127601  -12858.14249527 -12864.25869979\n",
      " -12865.05464797 -12880.66375586 -12898.78130837 -12904.31448525]\n",
      "1 ['uu_{x}']\n",
      "2 ['u_{xx}', 'uu_{x}']\n",
      "3 ['u_{xx}', 'u_{xxxx}', 'uu_{x}']\n",
      "4 ['u_{xx}', 'u_{xxx}', 'u_{xxxx}', 'uu_{x}']\n",
      "5 ['u', 'u_{xx}', 'u_{xxxx}', 'uu_{x}', 'u^2u_{xx}']\n",
      "6 ['u_{x}', 'u_{xx}', 'u_{xxxx}', 'uu_{x}', 'u^2u_{xx}', 'u^2u_{xxxx}']\n",
      "7 ['u_{x}', 'u_{xx}', 'u_{xxxx}', 'uu_{x}', 'u^2u_{x}', 'u^2u_{xx}', 'u^2u_{xxxx}']\n",
      "8 ['u', 'u_{x}', 'u_{xx}', 'u_{xxxx}', 'uu_{x}', 'u^2u_{x}', 'u^2u_{xx}', 'u^2u_{xxxx}']\n",
      "3 improves 2\n",
      "Percent improve: 1.502280751035022\n",
      "7 does not improve 3\n",
      "Percent improve: 0.0007901377107136002\n"
     ]
    },
    {
     "data": {
      "text/plain": [
       "3"
      ]
     },
     "execution_count": 18,
     "metadata": {},
     "output_type": "execute_result"
    }
   ],
   "source": [
    "print(decreasing_aics)\n",
    "for c in complexities: print(c, eff_feature_names[c-1])\n",
    "find_transition_V5(decreasing_aics, complexities, percent_ok=0.09)"
   ]
  },
  {
   "cell_type": "code",
   "execution_count": 19,
   "id": "2941b177",
   "metadata": {},
   "outputs": [
    {
     "data": {
      "text/plain": [
       "(0.46999004572032915, 0.21721774824355908)"
      ]
     },
     "execution_count": 19,
     "metadata": {},
     "output_type": "execute_result"
    }
   ],
   "source": [
    "errs = percent_coeff(model_results[3][-1])\n",
    "errs.mean(), errs.std()"
   ]
  },
  {
   "cell_type": "code",
   "execution_count": null,
   "id": "51f8c73b",
   "metadata": {},
   "outputs": [],
   "source": []
  },
  {
   "cell_type": "code",
   "execution_count": null,
   "id": "7f13cade",
   "metadata": {},
   "outputs": [],
   "source": []
  },
  {
   "cell_type": "markdown",
   "id": "fa4b0771",
   "metadata": {},
   "source": [
    "## Calculate a weak form of each canidate"
   ]
  },
  {
   "cell_type": "code",
   "execution_count": 20,
   "id": "d42d44e6",
   "metadata": {},
   "outputs": [
    {
     "name": "stdout",
     "output_type": "stream",
     "text": [
      "0.01072770358302814\n"
     ]
    },
    {
     "data": {
      "text/plain": [
       "array([[-0.99983724],\n",
       "       [-0.99991587],\n",
       "       [-0.99992506]])"
      ]
     },
     "execution_count": 20,
     "metadata": {},
     "output_type": "execute_result"
    }
   ],
   "source": [
    "acc=4\n",
    "# Define the derivative:\n",
    "d_dx = FinDiff(0, dx, 1, acc=acc)\n",
    "d_dxx = FinDiff(0, dx, 2, acc=acc)\n",
    "d_dxxxx = FinDiff(0, dx, 4, acc=acc)\n",
    "d_dt = FinDiff(1, dt, 1, acc=acc)\n",
    "\n",
    "coeff = np.linalg.lstsq(np.stack([u*d_dx(u), d_dxx(u), d_dxxxx(u)]).reshape(3, -1).T, \n",
    "                        d_dt(u).reshape(-1,1), rcond=None)[0]\n",
    "print((100*np.abs(coeff+1)).mean())\n",
    "coeff"
   ]
  },
  {
   "cell_type": "code",
   "execution_count": 21,
   "id": "d5666ce5",
   "metadata": {},
   "outputs": [
    {
     "name": "stdout",
     "output_type": "stream",
     "text": [
      "0.008675862373541676\n"
     ]
    },
    {
     "data": {
      "text/plain": [
       "array([[-1.00009514],\n",
       "       [-1.00010748],\n",
       "       [-1.00005765]])"
      ]
     },
     "execution_count": 21,
     "metadata": {},
     "output_type": "execute_result"
    }
   ],
   "source": [
    "Xf = np.stack([integrate.trapz(d_dxx(u), t, dt, axis=1), \n",
    "               integrate.trapz(d_dxxxx(u), t, dt, axis=1), \n",
    "               integrate.trapz(u*d_dx(u), t, dt, axis=1)]).T\n",
    "yf = integrate.trapz(d_dt(u), t, dt, axis=1).reshape(-1,1)\n",
    "coeff = np.linalg.lstsq(Xf, yf, rcond=None)[0]\n",
    "print((100*np.abs(coeff+1)).mean()) # 0.00867587799540844\n",
    "coeff"
   ]
  },
  {
   "cell_type": "code",
   "execution_count": 22,
   "id": "19bbfa1f",
   "metadata": {},
   "outputs": [],
   "source": [
    "# sio.savemat(\"../../PDE_Discovery_Weak_Formulation/Datasets/KS_data_tmp.mat\", \n",
    "#             {'uu': un, 'xx':x, 'tt':t, 'dx':dx, 'dt': dt})"
   ]
  },
  {
   "cell_type": "code",
   "execution_count": 23,
   "id": "d5c6f331",
   "metadata": {},
   "outputs": [],
   "source": [
    "def weight_poly(x, m, k):\n",
    "    \"\"\"\n",
    "    Polynomial piece of weighting function used to satisfy BC A = d^k/dx^k[(x^2 - 1)^m]\n",
    "    x: independent variable\n",
    "    m: power of base function\n",
    "    k: order of derivative\n",
    "    \"\"\"\n",
    "    a = np.zeros((2*m+1, 1)) # initial coefficient vector\n",
    "    for l in range(m+1):\n",
    "        a[2*l] = ((-1)**(m-l))*np.math.comb(m, l) # set polynomial coefficients\n",
    "    \n",
    "    c = np.zeros((2*m+1, 1)) # final coefficient vector\n",
    "    for n in range(2*m-k+1):\n",
    "        c[n] = a[n+k]*np.math.factorial(n+k)/np.math.factorial(n)\n",
    "    \n",
    "    p = 0\n",
    "    for n in range(2*m-k+1):\n",
    "        p += c[n]*(x**n) # final windowing function\n",
    "\n",
    "    return p\n",
    "\n",
    "def weight_full(k, p, x, t):\n",
    "    \"\"\"\n",
    "    Assemble the 1D weight functions into the full weight\n",
    "    k = [kx,ky,kt]: order of derivative(s)\n",
    "    p = [px,py,pt]: exponents of weight polynomials\n",
    "    \"\"\"\n",
    "    if len(k) == 3:\n",
    "        wx = weight_poly(x, p[0], k[0])\n",
    "        wy = weight_poly(x, p[1], k[1])\n",
    "        wt = weight_poly(t, p[2], k[2])\n",
    "        wX, wY, wT = np.meshgrid(wx, wy, wt)\n",
    "        W = wX * wY * wT\n",
    "    elif len(k) == 2:\n",
    "        wx = weight_poly(x, p[0], k[0])\n",
    "        wt = weight_poly(t, p[1], k[1])\n",
    "        wT, wX = np.meshgrid(wt, wx)\n",
    "        W = wX * wT\n",
    "    \n",
    "    return W, wx, wt"
   ]
  },
  {
   "cell_type": "code",
   "execution_count": 24,
   "id": "ecec1660",
   "metadata": {},
   "outputs": [],
   "source": [
    "u_weak = un.copy()\n",
    "n_domain = 10000\n",
    "x_size, t_size = 100, 100\n",
    "\n",
    "xsup = np.linspace(-1,1,x_size+1)\n",
    "tsup = np.linspace(-1,1,t_size+1)\n",
    "S_x = 2/(dx*x_size)\n",
    "S_t = 2/(dt*t_size)"
   ]
  },
  {
   "cell_type": "markdown",
   "id": "280cc095",
   "metadata": {},
   "source": [
    "#### Test"
   ]
  },
  {
   "cell_type": "code",
   "execution_count": 25,
   "id": "3f253123",
   "metadata": {},
   "outputs": [],
   "source": [
    "# p = [4,3]\n",
    "# dA01, _, _ = weight_full([0,1], p, xsup, tsup)\n",
    "# dA10, _, _ = weight_full([1,0], p, xsup, tsup)\n",
    "# dA20, _, _ = weight_full([2,0], p, xsup, tsup)\n",
    "# dA40, _, _ = weight_full([4,0], p, xsup, tsup)\n",
    "\n",
    "# X_weak = []\n",
    "# y_weak = []\n",
    "# for _ in range(n_domain):\n",
    "#     ix = np.random.randint(0, len(x)-x_size, size=1)[0] + np.arange(0, x_size+1)\n",
    "#     it = np.random.randint(0, len(t)-t_size, size=1)[0] + np.arange(0, t_size+1)\n",
    "    \n",
    "#     usup = u_weak[ix, :][:, it]\n",
    "    \n",
    "#     f1 = -(1/2)*(usup**2)*dA10*S_x\n",
    "#     f1 = trapz(trapz(f1, tsup, 1), xsup, 0)\n",
    "    \n",
    "#     f2 = usup*dA20*(S_x**2)\n",
    "#     f2 = trapz(trapz(f2, tsup, 1), xsup, 0)\n",
    "    \n",
    "#     f3 = usup*dA40*(S_x**4)\n",
    "#     f3 = trapz(trapz(f3, tsup, 1), xsup, 0)\n",
    "    \n",
    "#     X_weak.append([f1, f2, f3])\n",
    "    \n",
    "#     f4 = -usup*dA01*S_t\n",
    "#     f4 = trapz(trapz(f4, tsup, 1), xsup, 0)\n",
    "#     y_weak.append(f4)\n",
    "    \n",
    "# X_weak = np.array(X_weak)\n",
    "# y_weak = np.array(y_weak)\n",
    "\n",
    "# np.linalg.lstsq(X_weak, y_weak, rcond=None)[0]\n",
    "# coeff = np.linalg.lstsq(X_weak, y_weak, rcond=None)[0]\n",
    "# coeff, (np.abs(coeff+1)*100).mean()"
   ]
  },
  {
   "cell_type": "code",
   "execution_count": 26,
   "id": "bf842b39",
   "metadata": {},
   "outputs": [],
   "source": [
    "p, q = 4, 4 # p, q = 5, 4 also good\n",
    "wx, wt = np.meshgrid((xsup**2-1)**p, (tsup**2-1)**q)\n",
    "W = wx*wt\n",
    "\n",
    "# Define the derivative:\n",
    "d_dx = FinDiff(0, xsup[1]-xsup[0], 1)\n",
    "d_dxx = FinDiff(0, xsup[1]-xsup[0], 2)\n",
    "d_dxxxx = FinDiff(0, xsup[1]-xsup[0], 4)\n",
    "d_dt = FinDiff(1, tsup[1]-tsup[0], 1)\n",
    "\n",
    "dA01 = d_dt(W)\n",
    "dA10 = d_dx(W)\n",
    "dA20 = d_dxx(W)\n",
    "dA40 = d_dxxxx(W)"
   ]
  },
  {
   "cell_type": "code",
   "execution_count": 29,
   "id": "06636cbf",
   "metadata": {},
   "outputs": [
    {
     "name": "stdout",
     "output_type": "stream",
     "text": [
      "savgol\n"
     ]
    },
    {
     "name": "stderr",
     "output_type": "stream",
     "text": [
      "100%|█████████████████████████████████████████████████████████████████████████████████████████████████████████████████████████| 15/15 [06:53<00:00, 27.55s/it]\n"
     ]
    }
   ],
   "source": [
    "# tuning denoising parameters based on min norm(X_weak@coeff-y_weak) !?\n",
    "losses = []; heapq.heapify(losses)\n",
    "denoiser = 'savgol'\n",
    "step = 2 if denoiser == 'savgol' else 1\n",
    "print(denoiser)\n",
    "for ws in trange(3, 33, step):\n",
    "    X_weak = []\n",
    "    y_weak = []\n",
    "    for _ in range(n_domain):\n",
    "        ix = np.random.randint(0, len(x)-x_size, size=1)[0] + np.arange(0, x_size+1)\n",
    "        it = np.random.randint(0, len(t)-t_size, size=1)[0] + np.arange(0, t_size+1)\n",
    "        \n",
    "        usup = savgol_filter(u_weak[ix, :][:, it], ws, polyorder=2)\n",
    "        usup = wiener(u_weak[ix, :][:, it], ws, noise=None)\n",
    "\n",
    "        f1 = -(1/2)*(usup**2)*dA10*S_x\n",
    "        f1 = trapz(trapz(f1, tsup, 1), xsup, 0)\n",
    "\n",
    "        f2 = usup*dA20*(S_x**2)\n",
    "        f2 = trapz(trapz(f2, tsup, 1), xsup, 0)\n",
    "\n",
    "        f3 = usup*dA40*(S_x**4)\n",
    "        f3 = trapz(trapz(f3, tsup, 1), xsup, 0)\n",
    "\n",
    "        X_weak.append([f1, f2, f3])\n",
    "\n",
    "        f4 = -usup*dA01*S_t\n",
    "        f4 = trapz(trapz(f4, tsup, 1), xsup, 0)\n",
    "        y_weak.append(f4)\n",
    "\n",
    "    X_weak = np.array(X_weak)\n",
    "    y_weak = np.array(y_weak)\n",
    "\n",
    "    coeff = np.linalg.lstsq(X_weak, y_weak, rcond=None)[0]\n",
    "    loss = ((X_weak@coeff-y_weak)**2).mean()\n",
    "    \n",
    "    losses.append((loss, X_weak, y_weak, coeff))\n",
    "    losses = heapq.nsmallest(10, losses)\n",
    "\n",
    "losses = sorted(losses)"
   ]
  },
  {
   "cell_type": "code",
   "execution_count": 31,
   "id": "4267e12c",
   "metadata": {},
   "outputs": [
    {
     "name": "stdout",
     "output_type": "stream",
     "text": [
      "1.021832395563001\n",
      "1.8977996022640904\n",
      "2.5133935538041627\n",
      "3.0511071077478005\n",
      "3.440400704507855\n"
     ]
    },
    {
     "data": {
      "text/plain": [
       "array([-1.02511986, -1.02981218, -1.04827998])"
      ]
     },
     "execution_count": 31,
     "metadata": {},
     "output_type": "execute_result"
    }
   ],
   "source": [
    "# print(losses[:n_tops])\n",
    "n_tops = 5 # same significant number A: A.xxxe-y\n",
    "avg_denoised_weak_coeff = 0\n",
    "for i in range(n_tops):\n",
    "    avg_denoised_weak_coeff += losses[i][-1]\n",
    "    print(percent_coeff(avg_denoised_weak_coeff/(i+1)).mean())\n",
    "avg_denoised_weak_coeff = avg_denoised_weak_coeff/(n_tops)\n",
    "avg_denoised_weak_coeff\n",
    "\n",
    "# X_weak, y_weak = 0., 0.\n",
    "# for i in range(5):\n",
    "#     X_weak += losses[i][1]\n",
    "#     y_weak += losses[i][2]\n",
    "# X_weak /= n_tops\n",
    "# y_weak /= n_tops\n",
    "# percent_coeff(np.linalg.lstsq(X_weak, y_weak, rcond=None)[0]).mean()"
   ]
  },
  {
   "cell_type": "code",
   "execution_count": 32,
   "id": "1c8ae6e6",
   "metadata": {},
   "outputs": [
    {
     "data": {
      "text/plain": [
       "[(3.9218733651876165e-06,\n",
       "  array([[ 0.08257882, -0.03687394, -0.04376773],\n",
       "         [-0.01337275, -0.0072121 ,  0.00680215],\n",
       "         [ 0.00109509,  0.00905165, -0.00603873],\n",
       "         ...,\n",
       "         [-0.00825402,  0.14312572, -0.07744333],\n",
       "         [ 0.05028671, -0.07998783,  0.02141321],\n",
       "         [ 0.00127049,  0.01686838, -0.01173849]]),\n",
       "  array([-1.93476859e-05,  1.58406514e-02, -3.14225527e-03, ...,\n",
       "         -5.67749348e-02,  9.56400248e-03, -6.29575293e-03]),\n",
       "  array([-1.00578273, -1.01026803, -1.01460421])),\n",
       " (6.913193480969802e-06,\n",
       "  array([[ 0.01695572, -0.13478587,  0.10936995],\n",
       "         [-0.00868196, -0.00893185,  0.01384142],\n",
       "         [ 0.02706135,  0.0393157 , -0.0141495 ],\n",
       "         ...,\n",
       "         [-0.08337341, -0.02903938,  0.10867105],\n",
       "         [ 0.11850393, -0.18407172,  0.05798834],\n",
       "         [-0.07793961,  0.26757709, -0.18453369]]),\n",
       "  array([ 0.00827385,  0.00599532, -0.05524916, ...,  0.00071997,\n",
       "          0.00773445, -0.0057381 ]),\n",
       "  array([-1.02133969, -1.02641914, -1.03545418])),\n",
       " (1.3006029566075381e-05,\n",
       "  array([[ 0.07773   , -0.26363009,  0.16161822],\n",
       "         [ 0.00735836,  0.05017395, -0.06156669],\n",
       "         [-0.07059055,  0.2396383 , -0.16452653],\n",
       "         ...,\n",
       "         [-0.02484593,  0.02485609, -0.04266426],\n",
       "         [ 0.07053598, -0.21911286,  0.15725725],\n",
       "         [ 0.15662912, -0.29966616,  0.14238113]]),\n",
       "  array([ 2.12366851e-02,  5.18028423e-03,  5.03492332e-05, ...,\n",
       "          3.90759910e-02, -1.92747361e-02,  2.10224582e-04]),\n",
       "  array([-1.0287893 , -1.03349409, -1.05005406])),\n",
       " (2.1799545339912492e-05,\n",
       "  array([[ 0.0096619 , -0.00184803, -0.00393732],\n",
       "         [ 0.03294723, -0.14002594,  0.09884441],\n",
       "         [-0.12480687,  0.21583851, -0.10153252],\n",
       "         ...,\n",
       "         [ 0.00585412, -0.17221191,  0.12154552],\n",
       "         [-0.09145148,  0.15135691, -0.06222279],\n",
       "         [-0.03965582,  0.04293985, -0.00494842]]),\n",
       "  array([-0.01113958,  0.00852876,  0.01081167, ...,  0.04291615,\n",
       "          0.00544632,  0.00210292]),\n",
       "  array([-1.0352138 , -1.03942867, -1.06528496])),\n",
       " (3.5664366079346574e-05,\n",
       "  array([[ 0.00389666, -0.03548249,  0.01511611],\n",
       "         [-0.04553414,  0.09208309, -0.03883753],\n",
       "         [ 0.02088138, -0.01236522,  0.0028568 ],\n",
       "         ...,\n",
       "         [-0.02061217,  0.07222077, -0.04180216],\n",
       "         [ 0.00088965,  0.00773475, -0.00410008],\n",
       "         [-0.04836059,  0.04219193,  0.0118996 ]]),\n",
       "  array([ 0.02668554, -0.0059649 , -0.00312116, ..., -0.00798618,\n",
       "         -0.00564119, -0.00820369]),\n",
       "  array([-1.0344738 , -1.03945096, -1.0760025 ])),\n",
       " (5.232175770661518e-05,\n",
       "  array([[ 0.00649777, -0.0009705 , -0.00821371],\n",
       "         [ 0.01687908, -0.07773553,  0.02000276],\n",
       "         [-0.12414218,  0.18235998, -0.06482215],\n",
       "         ...,\n",
       "         [-0.0451568 ,  0.08479695, -0.05043195],\n",
       "         [ 0.04826807, -0.07145146,  0.00396652],\n",
       "         [ 0.01257037, -0.09968219,  0.0726386 ]]),\n",
       "  array([-0.00697565,  0.03209204,  0.01411594, ...,  0.0107783 ,\n",
       "          0.02328503,  0.01088965]),\n",
       "  array([-1.01765957, -1.01899329, -1.06302934])),\n",
       " (7.144055175563794e-05,\n",
       "  array([[-0.06386146,  0.05371681, -0.02447554],\n",
       "         [ 0.1280545 , -0.09956064, -0.01823773],\n",
       "         [ 0.08352246, -0.14586773,  0.05316688],\n",
       "         ...,\n",
       "         [-0.02588993, -0.112117  ,  0.1214644 ],\n",
       "         [-0.0314522 ,  0.07380332, -0.04514729],\n",
       "         [-0.0227159 , -0.04633548,  0.05527025]]),\n",
       "  array([ 0.04299293,  0.00075224, -0.01608345, ...,  0.00644818,\n",
       "          0.00016175,  0.00515888]),\n",
       "  array([-0.98999804, -0.99407257, -1.04994903])),\n",
       " (9.127798845302397e-05,\n",
       "  array([[-0.04812328, -0.07441925,  0.10458453],\n",
       "         [-0.009995  ,  0.03886031, -0.01052762],\n",
       "         [ 0.14072811, -0.12030428, -0.00067809],\n",
       "         ...,\n",
       "         [-0.03157333,  0.0293129 , -0.02059509],\n",
       "         [ 0.00124449, -0.01276824,  0.01144961],\n",
       "         [ 0.04287749,  0.00666978, -0.04330066]]),\n",
       "  array([ 0.00152203, -0.00957844, -0.01180018, ...,  0.01782602,\n",
       "          0.00634506,  0.00302596]),\n",
       "  array([-0.95694539, -0.96126841, -1.02632432])),\n",
       " (0.00011318182784530615,\n",
       "  array([[-6.03978849e-03, -6.40922320e-02,  4.30425514e-02],\n",
       "         [-3.77226963e-03,  5.48299994e-03, -1.39737575e-04],\n",
       "         [-5.44915261e-02, -8.15003787e-02,  9.21264078e-02],\n",
       "         ...,\n",
       "         [ 3.76035065e-02, -1.41036760e-01,  6.06529455e-02],\n",
       "         [ 2.40577340e-02, -5.18689467e-02,  1.50893347e-02],\n",
       "         [ 8.95324006e-02, -2.53283760e-01,  1.68953629e-01]]),\n",
       "  array([ 0.04192653,  0.00314559,  0.03891514, ...,  0.03142542,\n",
       "          0.01528115, -0.02703658]),\n",
       "  array([-0.90255228, -0.90455609, -0.97251326])),\n",
       " (0.00013337660661913748,\n",
       "  array([[ 0.00987576,  0.05491446, -0.05325866],\n",
       "         [-0.06020636,  0.29115839, -0.21087157],\n",
       "         [ 0.00376262, -0.02406232,  0.00986413],\n",
       "         ...,\n",
       "         [-0.00167452,  0.01607946, -0.01217901],\n",
       "         [-0.0025002 ,  0.01162738, -0.00358885],\n",
       "         [ 0.0667074 , -0.29440329,  0.20128965]]),\n",
       "  array([ 0.01199576, -0.00474138,  0.00934204, ..., -0.0057292 ,\n",
       "         -0.00321924,  0.01041669]),\n",
       "  array([-0.85315631, -0.85545265, -0.92848689]))]"
      ]
     },
     "execution_count": 32,
     "metadata": {},
     "output_type": "execute_result"
    }
   ],
   "source": [
    "losses"
   ]
  },
  {
   "cell_type": "code",
   "execution_count": null,
   "id": "c00c7c19",
   "metadata": {},
   "outputs": [],
   "source": []
  }
 ],
 "metadata": {
  "kernelspec": {
   "display_name": "Python [conda env:pysr]",
   "language": "python",
   "name": "conda-env-pysr-py"
  },
  "language_info": {
   "codemirror_mode": {
    "name": "ipython",
    "version": 3
   },
   "file_extension": ".py",
   "mimetype": "text/x-python",
   "name": "python",
   "nbconvert_exporter": "python",
   "pygments_lexer": "ipython3",
   "version": "3.10.10"
  }
 },
 "nbformat": 4,
 "nbformat_minor": 5
}
