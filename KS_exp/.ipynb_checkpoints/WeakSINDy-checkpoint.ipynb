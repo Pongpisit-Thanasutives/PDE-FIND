{
 "cells": [
  {
   "cell_type": "code",
   "execution_count": 1,
   "id": "aade4600",
   "metadata": {},
   "outputs": [
    {
     "name": "stdout",
     "output_type": "stream",
     "text": [
      "True\n"
     ]
    }
   ],
   "source": [
    "%matplotlib inline\n",
    "import matplotlib.pyplot as plt\n",
    "import sys; sys.path.append('../')\n",
    "from solvel0 import solvel0, nplm\n",
    "from misc import h5file\n",
    "import itertools\n",
    "import numpy as np\n",
    "import statsmodels.api as sm\n",
    "print(sm.__version__ == '0.13.2')\n",
    "from scipy.io import loadmat, savemat\n",
    "\n",
    "def mplot(ics): \n",
    "    ic_coms = [i+1 for i in range(len(ics))] \n",
    "    plt.plot(ic_coms, ics)\n",
    "    plt.xticks(ic_coms)\n",
    "    plt.show()\n",
    "\n",
    "def percent_coeff_error(pred, ground):\n",
    "    print(\"Pred:\", pred)\n",
    "    print(\"Ground:\", ground)\n",
    "    errs = 100*np.abs(pred-ground)/np.abs(ground)\n",
    "    return errs.mean(), errs.std()\n",
    "\n",
    "def brute_force(X, y, support_size=1, include=(), top=1, alpha=0.0):\n",
    "    # assert X.dtype == y.dtype\n",
    "    y = y.ravel()\n",
    "    include = set(include)\n",
    "    n_features = X.shape[1]\n",
    "    selections = [sel for sel in itertools.combinations(range(n_features), support_size) if include.issubset(set(sel))]\n",
    "    scores = []\n",
    "    for sel in selections:\n",
    "        X_sel = X[:, sel]\n",
    "        w = np.linalg.lstsq(X_sel, y, rcond=None)[0]\n",
    "        # mse = ((X_sel@w-y)**2).mean()\n",
    "        mse = (np.linalg.norm(X_sel@w-y, ord=2))**2+(alpha*np.linalg.norm(w, ord=0)**2)\n",
    "        # ww = np.zeros(n_features).astype(X.dtype) # By this line, use .ravel() to y before calling the function.\n",
    "        ww = np.zeros(n_features) # By this line, use .ravel() to y before calling the function.\n",
    "        ww[list(sel)] = w\n",
    "        scores.append((mse, ww))\n",
    "    sorted_indices = np.argsort([mse for mse,w in scores])\n",
    "    scores = np.array(scores, dtype=object)[sorted_indices]\n",
    "    scores = [w for mse,w in scores]\n",
    "    return np.array(scores[:top]).T"
   ]
  },
  {
   "cell_type": "code",
   "execution_count": 2,
   "id": "6c8de42f",
   "metadata": {},
   "outputs": [
    {
     "name": "stdout",
     "output_type": "stream",
     "text": [
      "['X_pre', 'best_subsets', 'un', 'y_pre']\n",
      "Pred: [-0.99514305 -0.99660169 -0.99681542]\n",
      "Ground: [-1, -1, -1]\n"
     ]
    },
    {
     "data": {
      "text/plain": [
       "(0.38132791930786114, 0.07431246710249238)"
      ]
     },
     "execution_count": 2,
     "metadata": {},
     "output_type": "execute_result"
    }
   ],
   "source": [
    "## Base from weak formulation X_pre, y_pre\n",
    "X_pre_path = './IPI_output_files/X_pre.npy'\n",
    "y_pre_path = './IPI_output_files/y_pre.npy'\n",
    "X_pre = np.load(X_pre_path)\n",
    "y_pre = np.load(y_pre_path)\n",
    "best_subsets = h5file('./IPI_output_files/PMS_data.h5')[1]\n",
    "percent_coeff_error(nplm(X_pre[:, (3, 5, 6)], y_pre, rcond=None)[0].flatten(), \n",
    "                    [-1, -1, -1])"
   ]
  },
  {
   "cell_type": "code",
   "execution_count": 3,
   "id": "1a8c613d",
   "metadata": {},
   "outputs": [
    {
     "data": {
      "text/plain": [
       "{'__header__': b'MATLAB 5.0 MAT-file, Platform: GLNXA64, Created on: Tue Aug 31 15:56:52 2021',\n",
       " '__version__': '1.0',\n",
       " '__globals__': [],\n",
       " 'U_exact': array([[array([[1.02423266, 0.99526301, 0.96666194, ..., 1.22469984, 1.31472381,\n",
       "                 1.42050772],\n",
       "                [1.04780403, 1.01911051, 0.99058489, ..., 1.53921628, 1.58262678,\n",
       "                 1.62626993],\n",
       "                [1.07065569, 1.04236946, 1.01403345, ..., 1.72401092, 1.69134997,\n",
       "                 1.63925613],\n",
       "                ...,\n",
       "                [0.94978689, 0.92072663, 0.89252864, ..., 0.29241896, 0.3843227 ,\n",
       "                 0.50209284],\n",
       "                [0.97516498, 0.94601746, 0.91758607, ..., 0.54604319, 0.65362386,\n",
       "                 0.78906676],\n",
       "                [1.        , 0.97088076, 0.942313  , ..., 0.87076256, 0.98003303,\n",
       "                 1.11422975]])                                                   ]],\n",
       "       dtype=object),\n",
       " 'lhs': array([[1, 0, 1]], dtype=uint8),\n",
       " 'xs': array([[array([[  0.39269908],\n",
       "                [  0.78539816],\n",
       "                [  1.17809725],\n",
       "                [  1.57079633],\n",
       "                [  1.96349541],\n",
       "                [  2.35619449],\n",
       "                [  2.74889357],\n",
       "                [  3.14159265],\n",
       "                [  3.53429174],\n",
       "                [  3.92699082],\n",
       "                [  4.3196899 ],\n",
       "                [  4.71238898],\n",
       "                [  5.10508806],\n",
       "                [  5.49778714],\n",
       "                [  5.89048623],\n",
       "                [  6.28318531],\n",
       "                [  6.67588439],\n",
       "                [  7.06858347],\n",
       "                [  7.46128255],\n",
       "                [  7.85398163],\n",
       "                [  8.24668072],\n",
       "                [  8.6393798 ],\n",
       "                [  9.03207888],\n",
       "                [  9.42477796],\n",
       "                [  9.81747704],\n",
       "                [ 10.21017612],\n",
       "                [ 10.60287521],\n",
       "                [ 10.99557429],\n",
       "                [ 11.38827337],\n",
       "                [ 11.78097245],\n",
       "                [ 12.17367153],\n",
       "                [ 12.56637061],\n",
       "                [ 12.9590697 ],\n",
       "                [ 13.35176878],\n",
       "                [ 13.74446786],\n",
       "                [ 14.13716694],\n",
       "                [ 14.52986602],\n",
       "                [ 14.9225651 ],\n",
       "                [ 15.31526419],\n",
       "                [ 15.70796327],\n",
       "                [ 16.10066235],\n",
       "                [ 16.49336143],\n",
       "                [ 16.88606051],\n",
       "                [ 17.27875959],\n",
       "                [ 17.67145868],\n",
       "                [ 18.06415776],\n",
       "                [ 18.45685684],\n",
       "                [ 18.84955592],\n",
       "                [ 19.242255  ],\n",
       "                [ 19.63495408],\n",
       "                [ 20.02765317],\n",
       "                [ 20.42035225],\n",
       "                [ 20.81305133],\n",
       "                [ 21.20575041],\n",
       "                [ 21.59844949],\n",
       "                [ 21.99114858],\n",
       "                [ 22.38384766],\n",
       "                [ 22.77654674],\n",
       "                [ 23.16924582],\n",
       "                [ 23.5619449 ],\n",
       "                [ 23.95464398],\n",
       "                [ 24.34734307],\n",
       "                [ 24.74004215],\n",
       "                [ 25.13274123],\n",
       "                [ 25.52544031],\n",
       "                [ 25.91813939],\n",
       "                [ 26.31083847],\n",
       "                [ 26.70353756],\n",
       "                [ 27.09623664],\n",
       "                [ 27.48893572],\n",
       "                [ 27.8816348 ],\n",
       "                [ 28.27433388],\n",
       "                [ 28.66703296],\n",
       "                [ 29.05973205],\n",
       "                [ 29.45243113],\n",
       "                [ 29.84513021],\n",
       "                [ 30.23782929],\n",
       "                [ 30.63052837],\n",
       "                [ 31.02322745],\n",
       "                [ 31.41592654],\n",
       "                [ 31.80862562],\n",
       "                [ 32.2013247 ],\n",
       "                [ 32.59402378],\n",
       "                [ 32.98672286],\n",
       "                [ 33.37942194],\n",
       "                [ 33.77212103],\n",
       "                [ 34.16482011],\n",
       "                [ 34.55751919],\n",
       "                [ 34.95021827],\n",
       "                [ 35.34291735],\n",
       "                [ 35.73561643],\n",
       "                [ 36.12831552],\n",
       "                [ 36.5210146 ],\n",
       "                [ 36.91371368],\n",
       "                [ 37.30641276],\n",
       "                [ 37.69911184],\n",
       "                [ 38.09181092],\n",
       "                [ 38.48451001],\n",
       "                [ 38.87720909],\n",
       "                [ 39.26990817],\n",
       "                [ 39.66260725],\n",
       "                [ 40.05530633],\n",
       "                [ 40.44800541],\n",
       "                [ 40.8407045 ],\n",
       "                [ 41.23340358],\n",
       "                [ 41.62610266],\n",
       "                [ 42.01880174],\n",
       "                [ 42.41150082],\n",
       "                [ 42.80419991],\n",
       "                [ 43.19689899],\n",
       "                [ 43.58959807],\n",
       "                [ 43.98229715],\n",
       "                [ 44.37499623],\n",
       "                [ 44.76769531],\n",
       "                [ 45.1603944 ],\n",
       "                [ 45.55309348],\n",
       "                [ 45.94579256],\n",
       "                [ 46.33849164],\n",
       "                [ 46.73119072],\n",
       "                [ 47.1238898 ],\n",
       "                [ 47.51658889],\n",
       "                [ 47.90928797],\n",
       "                [ 48.30198705],\n",
       "                [ 48.69468613],\n",
       "                [ 49.08738521],\n",
       "                [ 49.48008429],\n",
       "                [ 49.87278338],\n",
       "                [ 50.26548246],\n",
       "                [ 50.65818154],\n",
       "                [ 51.05088062],\n",
       "                [ 51.4435797 ],\n",
       "                [ 51.83627878],\n",
       "                [ 52.22897787],\n",
       "                [ 52.62167695],\n",
       "                [ 53.01437603],\n",
       "                [ 53.40707511],\n",
       "                [ 53.79977419],\n",
       "                [ 54.19247327],\n",
       "                [ 54.58517236],\n",
       "                [ 54.97787144],\n",
       "                [ 55.37057052],\n",
       "                [ 55.7632696 ],\n",
       "                [ 56.15596868],\n",
       "                [ 56.54866776],\n",
       "                [ 56.94136685],\n",
       "                [ 57.33406593],\n",
       "                [ 57.72676501],\n",
       "                [ 58.11946409],\n",
       "                [ 58.51216317],\n",
       "                [ 58.90486225],\n",
       "                [ 59.29756134],\n",
       "                [ 59.69026042],\n",
       "                [ 60.0829595 ],\n",
       "                [ 60.47565858],\n",
       "                [ 60.86835766],\n",
       "                [ 61.26105675],\n",
       "                [ 61.65375583],\n",
       "                [ 62.04645491],\n",
       "                [ 62.43915399],\n",
       "                [ 62.83185307],\n",
       "                [ 63.22455215],\n",
       "                [ 63.61725124],\n",
       "                [ 64.00995032],\n",
       "                [ 64.4026494 ],\n",
       "                [ 64.79534848],\n",
       "                [ 65.18804756],\n",
       "                [ 65.58074664],\n",
       "                [ 65.97344573],\n",
       "                [ 66.36614481],\n",
       "                [ 66.75884389],\n",
       "                [ 67.15154297],\n",
       "                [ 67.54424205],\n",
       "                [ 67.93694113],\n",
       "                [ 68.32964022],\n",
       "                [ 68.7223393 ],\n",
       "                [ 69.11503838],\n",
       "                [ 69.50773746],\n",
       "                [ 69.90043654],\n",
       "                [ 70.29313562],\n",
       "                [ 70.68583471],\n",
       "                [ 71.07853379],\n",
       "                [ 71.47123287],\n",
       "                [ 71.86393195],\n",
       "                [ 72.25663103],\n",
       "                [ 72.64933011],\n",
       "                [ 73.0420292 ],\n",
       "                [ 73.43472828],\n",
       "                [ 73.82742736],\n",
       "                [ 74.22012644],\n",
       "                [ 74.61282552],\n",
       "                [ 75.0055246 ],\n",
       "                [ 75.39822369],\n",
       "                [ 75.79092277],\n",
       "                [ 76.18362185],\n",
       "                [ 76.57632093],\n",
       "                [ 76.96902001],\n",
       "                [ 77.36171909],\n",
       "                [ 77.75441818],\n",
       "                [ 78.14711726],\n",
       "                [ 78.53981634],\n",
       "                [ 78.93251542],\n",
       "                [ 79.3252145 ],\n",
       "                [ 79.71791358],\n",
       "                [ 80.11061267],\n",
       "                [ 80.50331175],\n",
       "                [ 80.89601083],\n",
       "                [ 81.28870991],\n",
       "                [ 81.68140899],\n",
       "                [ 82.07410808],\n",
       "                [ 82.46680716],\n",
       "                [ 82.85950624],\n",
       "                [ 83.25220532],\n",
       "                [ 83.6449044 ],\n",
       "                [ 84.03760348],\n",
       "                [ 84.43030257],\n",
       "                [ 84.82300165],\n",
       "                [ 85.21570073],\n",
       "                [ 85.60839981],\n",
       "                [ 86.00109889],\n",
       "                [ 86.39379797],\n",
       "                [ 86.78649706],\n",
       "                [ 87.17919614],\n",
       "                [ 87.57189522],\n",
       "                [ 87.9645943 ],\n",
       "                [ 88.35729338],\n",
       "                [ 88.74999246],\n",
       "                [ 89.14269155],\n",
       "                [ 89.53539063],\n",
       "                [ 89.92808971],\n",
       "                [ 90.32078879],\n",
       "                [ 90.71348787],\n",
       "                [ 91.10618695],\n",
       "                [ 91.49888604],\n",
       "                [ 91.89158512],\n",
       "                [ 92.2842842 ],\n",
       "                [ 92.67698328],\n",
       "                [ 93.06968236],\n",
       "                [ 93.46238144],\n",
       "                [ 93.85508053],\n",
       "                [ 94.24777961],\n",
       "                [ 94.64047869],\n",
       "                [ 95.03317777],\n",
       "                [ 95.42587685],\n",
       "                [ 95.81857593],\n",
       "                [ 96.21127502],\n",
       "                [ 96.6039741 ],\n",
       "                [ 96.99667318],\n",
       "                [ 97.38937226],\n",
       "                [ 97.78207134],\n",
       "                [ 98.17477042],\n",
       "                [ 98.56746951],\n",
       "                [ 98.96016859],\n",
       "                [ 99.35286767],\n",
       "                [ 99.74556675],\n",
       "                [100.13826583],\n",
       "                [100.53096491]]),\n",
       "         array([[  0. ,   0.5,   1. ,   1.5,   2. ,   2.5,   3. ,   3.5,   4. ,\n",
       "                   4.5,   5. ,   5.5,   6. ,   6.5,   7. ,   7.5,   8. ,   8.5,\n",
       "                   9. ,   9.5,  10. ,  10.5,  11. ,  11.5,  12. ,  12.5,  13. ,\n",
       "                  13.5,  14. ,  14.5,  15. ,  15.5,  16. ,  16.5,  17. ,  17.5,\n",
       "                  18. ,  18.5,  19. ,  19.5,  20. ,  20.5,  21. ,  21.5,  22. ,\n",
       "                  22.5,  23. ,  23.5,  24. ,  24.5,  25. ,  25.5,  26. ,  26.5,\n",
       "                  27. ,  27.5,  28. ,  28.5,  29. ,  29.5,  30. ,  30.5,  31. ,\n",
       "                  31.5,  32. ,  32.5,  33. ,  33.5,  34. ,  34.5,  35. ,  35.5,\n",
       "                  36. ,  36.5,  37. ,  37.5,  38. ,  38.5,  39. ,  39.5,  40. ,\n",
       "                  40.5,  41. ,  41.5,  42. ,  42.5,  43. ,  43.5,  44. ,  44.5,\n",
       "                  45. ,  45.5,  46. ,  46.5,  47. ,  47.5,  48. ,  48.5,  49. ,\n",
       "                  49.5,  50. ,  50.5,  51. ,  51.5,  52. ,  52.5,  53. ,  53.5,\n",
       "                  54. ,  54.5,  55. ,  55.5,  56. ,  56.5,  57. ,  57.5,  58. ,\n",
       "                  58.5,  59. ,  59.5,  60. ,  60.5,  61. ,  61.5,  62. ,  62.5,\n",
       "                  63. ,  63.5,  64. ,  64.5,  65. ,  65.5,  66. ,  66.5,  67. ,\n",
       "                  67.5,  68. ,  68.5,  69. ,  69.5,  70. ,  70.5,  71. ,  71.5,\n",
       "                  72. ,  72.5,  73. ,  73.5,  74. ,  74.5,  75. ,  75.5,  76. ,\n",
       "                  76.5,  77. ,  77.5,  78. ,  78.5,  79. ,  79.5,  80. ,  80.5,\n",
       "                  81. ,  81.5,  82. ,  82.5,  83. ,  83.5,  84. ,  84.5,  85. ,\n",
       "                  85.5,  86. ,  86.5,  87. ,  87.5,  88. ,  88.5,  89. ,  89.5,\n",
       "                  90. ,  90.5,  91. ,  91.5,  92. ,  92.5,  93. ,  93.5,  94. ,\n",
       "                  94.5,  95. ,  95.5,  96. ,  96.5,  97. ,  97.5,  98. ,  98.5,\n",
       "                  99. ,  99.5, 100. , 100.5, 101. , 101.5, 102. , 102.5, 103. ,\n",
       "                 103.5, 104. , 104.5, 105. , 105.5, 106. , 106.5, 107. , 107.5,\n",
       "                 108. , 108.5, 109. , 109.5, 110. , 110.5, 111. , 111.5, 112. ,\n",
       "                 112.5, 113. , 113.5, 114. , 114.5, 115. , 115.5, 116. , 116.5,\n",
       "                 117. , 117.5, 118. , 118.5, 119. , 119.5, 120. , 120.5, 121. ,\n",
       "                 121.5, 122. , 122.5, 123. , 123.5, 124. , 124.5, 125. , 125.5,\n",
       "                 126. , 126.5, 127. , 127.5, 128. , 128.5, 129. , 129.5, 130. ,\n",
       "                 130.5, 131. , 131.5, 132. , 132.5, 133. , 133.5, 134. , 134.5,\n",
       "                 135. , 135.5, 136. , 136.5, 137. , 137.5, 138. , 138.5, 139. ,\n",
       "                 139.5, 140. , 140.5, 141. , 141.5, 142. , 142.5, 143. , 143.5,\n",
       "                 144. , 144.5, 145. , 145.5, 146. , 146.5, 147. , 147.5, 148. ,\n",
       "                 148.5, 149. , 149.5, 150. ]])                                 ]],\n",
       "       dtype=object)}"
      ]
     },
     "execution_count": 3,
     "metadata": {},
     "output_type": "execute_result"
    }
   ],
   "source": [
    "np.random.seed(0)\n",
    "noise_lv = 30\n",
    "data = loadmat('../Datasets/kuramoto_sivishinky.mat')\n",
    "u = data['uu']; x = data['x']; t = data['tt']\n",
    "u30 = u + 0.01*noise_lv*u.std()*np.random.randn(u.shape[0],u.shape[1])\n",
    "un = np.load(\"./denoised_u_files/KS_noise30_reduced_dctV2ksvdreg_25x25.npy\")\n",
    "template = loadmat(\"../WSINDy_PDE_latest/datasets/KS.mat\")\n",
    "keeps = {'U_exact', 'xs', 'lhs'}\n",
    "keys = list(template.keys()).copy()\n",
    "use_preset = False\n",
    "for k in keys:\n",
    "    if (k[0:2] != '__' and k[-2:] != '__') and k not in keeps:\n",
    "        if not use_preset:\n",
    "            del template[k]\n",
    "        else:\n",
    "            pass\n",
    "template"
   ]
  },
  {
   "cell_type": "code",
   "execution_count": 4,
   "id": "15249988",
   "metadata": {},
   "outputs": [],
   "source": [
    "# template['xs'][0][0] = x.astype(np.float64)\n",
    "# template['xs'][0][1] = t.astype(np.float64)\n",
    "# template['U_exact'][0][0] = u.astype(np.float64)\n",
    "# savemat('../WSINDy_PDE_latest/inputs/KS/kuramoto_sivishinky.mat', template)\n",
    "# template['U_exact'][0][0] = u30.astype(np.float64)\n",
    "# savemat('../WSINDy_PDE_latest/inputs/KS/kuramoto_sivishinky30.mat', template)\n",
    "# template['U_exact'][0][0] = un.astype(np.float64)\n",
    "# savemat('../WSINDy_PDE_latest/inputs/KS/kuramoto_sivishinky30_ksvdreg.mat', template)"
   ]
  },
  {
   "cell_type": "code",
   "execution_count": 5,
   "id": "129e98bd",
   "metadata": {},
   "outputs": [
    {
     "name": "stdout",
     "output_type": "stream",
     "text": [
      "Pred: [-0.9925579  -0.99118287 -0.9864535 ]\n",
      "Ground: [-1, -1, -1]\n",
      "(0.993524424541988, 0.2614518031220952)\n"
     ]
    }
   ],
   "source": [
    "## Pred: [-0.9925579  -0.99118287 -0.9864535 ] | (0.993524424541988, 0.2614518031220952)\n",
    "out_data = loadmat(\"../WSINDy_PDE_latest/outputs/KS/kuramoto_sivishinky30_ksvdreg_outputs.mat\")\n",
    "## Pred: [-0.98446401 -0.99940096 -0.99788022] | (0.6084936764701565, 0.6711676412813565)\n",
    "# out_data = loadmat(\"../WSINDy_PDE_latest/outputs/KS/kuramoto_sivishinky30_dysmho_outputs.mat\")\n",
    "## Pred: [-1.00025672 -1.00743024 -0.99705354] | (0.35444736357254464, 0.2958947859378406)\n",
    "# out_data = loadmat(\"../WSINDy_PDE_latest/outputs/KS/kuramoto_sivishinky30_outputs.mat\")\n",
    "coeff = out_data[\"W\"]\n",
    "coeff = coeff[np.abs(coeff)>0]\n",
    "coeff[-1] = coeff[-1]*2\n",
    "if len(coeff) == 3:\n",
    "    print(percent_coeff_error(coeff, [-1, -1, -1]))"
   ]
  },
  {
   "cell_type": "code",
   "execution_count": 6,
   "id": "9fd8c881",
   "metadata": {},
   "outputs": [
    {
     "data": {
      "text/plain": [
       "['u^{1}_{}',\n",
       " 'u^{1}_{x}',\n",
       " 'u^{1}_{xx}',\n",
       " 'u^{1}_{xxx}',\n",
       " 'u^{1}_{xxxx}',\n",
       " 'u^{2}_{}',\n",
       " 'u^{2}_{x}',\n",
       " 'u^{2}_{xx}',\n",
       " 'u^{2}_{xxx}',\n",
       " 'u^{2}_{xxxx}']"
      ]
     },
     "execution_count": 6,
     "metadata": {},
     "output_type": "execute_result"
    }
   ],
   "source": [
    "feature_names = [str(out_data['tags_pde_G'][0][i][0]) \n",
    "                 for i in range(out_data['oG'].shape[-1])]\n",
    "feature_names = feature_names[1:]\n",
    "feature_names"
   ]
  },
  {
   "cell_type": "code",
   "execution_count": 7,
   "id": "eb9a7f10",
   "metadata": {},
   "outputs": [
    {
     "name": "stdout",
     "output_type": "stream",
     "text": [
      "Set parameter Username\n",
      "Academic license - for non-commercial use only - expires 2024-06-04\n",
      "(0, 2, 4, 6, 8, 9) (0, 2, 4, 6, 7, 8)\n",
      "(0, 1, 2, 3, 4, 6, 8, 9) (0, 1, 2, 3, 4, 6, 7, 8)\n"
     ]
    }
   ],
   "source": [
    "X_cws = out_data['oG'][:, 1:]\n",
    "y_cws = out_data['b']\n",
    "grb_solve = solvel0(X_cws, out_data['b'], intercept=False)\n",
    "\n",
    "befi = np.hstack([brute_force(X_cws, y_cws, support_size=ss)\n",
    "                  for ss in range(1, X_cws.shape[-1])]).T\n",
    "brute_solve = [tuple(np.where(np.abs(befi[ss])>0)[0]) for ss in range(len(befi))]\n",
    "\n",
    "for e1, e2 in zip(brute_solve, grb_solve):\n",
    "    try: assert e1 == e2\n",
    "    except AssertionError: print(e1, e2)"
   ]
  },
  {
   "cell_type": "code",
   "execution_count": 8,
   "id": "dff802b3",
   "metadata": {},
   "outputs": [
    {
     "data": {
      "text/plain": [
       "3116.560467218476"
      ]
     },
     "execution_count": 8,
     "metadata": {},
     "output_type": "execute_result"
    }
   ],
   "source": [
    "((X_cws@brute_force(X_cws, y_cws, support_size=3)-y_cws)**2).mean()"
   ]
  },
  {
   "cell_type": "code",
   "execution_count": 9,
   "id": "a2c4b261",
   "metadata": {},
   "outputs": [
    {
     "name": "stdout",
     "output_type": "stream",
     "text": [
      "--- BICs ---\n",
      "3\n",
      "--- UBICs ---\n",
      "3\n",
      "3\n",
      "3\n"
     ]
    },
    {
     "data": {
      "image/png": "[encoded data removed]",
      "text/plain": [
       "<Figure size 432x288 with 1 Axes>"
      ]
     },
     "metadata": {
      "needs_background": "light"
     },
     "output_type": "display_data"
    }
   ],
   "source": [
    "uncerts = []\n",
    "BICs = []\n",
    "for efi in best_subsets:\n",
    "    efi = np.where(efi>0)[0].tolist()\n",
    "    res = sm.OLS(y_pre, X_pre[:, efi]).fit()\n",
    "    bic = res.bic\n",
    "    coeff = res.params\n",
    "    se = sum(res.bse)\n",
    "    uncerts.append(se)\n",
    "    BICs.append(bic)\n",
    "uncerts = np.array(uncerts)/np.min(uncerts)\n",
    "UBICs = BICs + np.log(len(y_pre))*(uncerts)\n",
    "UBIC10s = BICs + 10*np.log(len(y_pre))*(uncerts)\n",
    "UBIC100s = BICs + 100*np.log(len(y_pre))*(uncerts)\n",
    "print(\"--- BICs ---\")\n",
    "print(np.argmin(BICs)+1)\n",
    "print(\"--- UBICs ---\")\n",
    "print(np.argmin(UBICs)+1)\n",
    "print(np.argmin(UBIC10s)+1)\n",
    "print(np.argmin(UBIC100s)+1)\n",
    "mplot(BICs)"
   ]
  },
  {
   "cell_type": "code",
   "execution_count": 10,
   "id": "67eedbe4",
   "metadata": {},
   "outputs": [
    {
     "name": "stdout",
     "output_type": "stream",
     "text": [
      "--- BICs ---\n",
      "7\n",
      "--- UBICs ---\n",
      "5\n",
      "4\n",
      "3\n"
     ]
    },
    {
     "data": {
      "image/png": "[encoded data removed]",
      "text/plain": [
       "<Figure size 432x288 with 1 Axes>"
      ]
     },
     "metadata": {
      "needs_background": "light"
     },
     "output_type": "display_data"
    }
   ],
   "source": [
    "uncerts = []\n",
    "BICs = []\n",
    "for efi in brute_solve:\n",
    "    res = sm.OLS(y_cws, X_cws[:,efi]).fit()\n",
    "    bic = res.bic\n",
    "    coeff = res.params\n",
    "    se = sum(res.bse)\n",
    "    uncerts.append(se)\n",
    "    BICs.append(bic)\n",
    "uncerts = np.array(uncerts)/np.min(uncerts)\n",
    "UBICs = BICs + np.log(len(y_cws))*(uncerts)\n",
    "UBIC10s = BICs + 10*np.log(len(y_cws))*(uncerts)\n",
    "UBIC100s = BICs + 100*np.log(len(y_cws))*(uncerts)\n",
    "print(\"--- BICs ---\")\n",
    "print(np.argmin(BICs)+1)\n",
    "print(\"--- UBICs ---\")\n",
    "print(np.argmin(UBICs)+1)\n",
    "print(np.argmin(UBIC10s)+1)\n",
    "print(np.argmin(UBIC100s)+1)\n",
    "mplot(BICs)"
   ]
  },
  {
   "cell_type": "code",
   "execution_count": null,
   "id": "0a9dd719",
   "metadata": {},
   "outputs": [],
   "source": []
  },
  {
   "cell_type": "code",
   "execution_count": null,
   "id": "cab93c15",
   "metadata": {},
   "outputs": [],
   "source": []
  },
  {
   "cell_type": "code",
   "execution_count": 12,
   "id": "d166b499",
   "metadata": {},
   "outputs": [
    {
     "data": {
      "image/png": "[encoded data removed]",
      "text/plain": [
       "<Figure size 432x288 with 1 Axes>"
      ]
     },
     "metadata": {
      "needs_background": "light"
     },
     "output_type": "display_data"
    }
   ],
   "source": [
    "plt.contourf(u); plt.show()"
   ]
  },
  {
   "cell_type": "code",
   "execution_count": 13,
   "id": "e360d16c",
   "metadata": {},
   "outputs": [
    {
     "data": {
      "image/png": "[encoded data removed]",
      "text/plain": [
       "<Figure size 432x288 with 1 Axes>"
      ]
     },
     "metadata": {
      "needs_background": "light"
     },
     "output_type": "display_data"
    }
   ],
   "source": [
    "plt.contourf(un); plt.show()"
   ]
  },
  {
   "cell_type": "code",
   "execution_count": 14,
   "id": "7f2a10cc",
   "metadata": {},
   "outputs": [
    {
     "data": {
      "image/png": "[encoded data removed]",
      "text/plain": [
       "<Figure size 432x288 with 1 Axes>"
      ]
     },
     "metadata": {
      "needs_background": "light"
     },
     "output_type": "display_data"
    }
   ],
   "source": [
    "plt.contourf(u30); plt.show()"
   ]
  }
 ],
 "metadata": {
  "kernelspec": {
   "display_name": "Python [conda env:pysr]",
   "language": "python",
   "name": "conda-env-pysr-py"
  },
  "language_info": {
   "codemirror_mode": {
    "name": "ipython",
    "version": 3
   },
   "file_extension": ".py",
   "mimetype": "text/x-python",
   "name": "python",
   "nbconvert_exporter": "python",
   "pygments_lexer": "ipython3",
   "version": "3.10.10"
  }
 },
 "nbformat": 4,
 "nbformat_minor": 5
}
