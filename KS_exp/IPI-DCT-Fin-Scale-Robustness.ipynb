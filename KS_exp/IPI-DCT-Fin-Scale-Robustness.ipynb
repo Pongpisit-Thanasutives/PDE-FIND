{
 "cells": [
  {
   "cell_type": "markdown",
   "id": "6e4730cb",
   "metadata": {},
   "source": [
    "# PDE-FIND for the Kuramoto Sivashinsky Equation\n",
    "\n",
    "This notebook demonstrates PDE-FIND on the Kuramoto Sivashinsky equation.\n",
    "$$\n",
    "u_t + u_{xxxx} + uu_x + u_{xx} = 0\n",
    "$$"
   ]
  },
  {
   "cell_type": "code",
   "execution_count": 1,
   "id": "dc63748a",
   "metadata": {},
   "outputs": [
    {
     "name": "stdout",
     "output_type": "stream",
     "text": [
      "Sklearn's version: 1.2.2\n",
      "mrmr is not installed in the env you are using. This may cause an error in future if you try to use the (missing) lib.\n"
     ]
    }
   ],
   "source": [
    "%load_ext autoreload\n",
    "%autoreload 2\n",
    "%matplotlib inline\n",
    "import matplotlib.pyplot as plt\n",
    "import warnings; warnings.filterwarnings(\"ignore\")\n",
    "\n",
    "import numpy as np\n",
    "from numpy.random import default_rng\n",
    "import pandas as pd\n",
    "\n",
    "import sys; sys.path.append('../')\n",
    "from PDE_FIND import *\n",
    "\n",
    "import os\n",
    "import sys; sys.path.append('../../parametric-discovery/')\n",
    "from best_subset import *\n",
    "from frols import frols\n",
    "from p_linear_regression import PLinearRegression\n",
    "from r_pca import R_pca\n",
    "from pde_diff_new import RPCA\n",
    "from RobustPCA.rpca import RobustPCA\n",
    "\n",
    "import scipy.io as sio\n",
    "from scipy.signal import savgol_filter, butter, filtfilt, wiener\n",
    "from scipy import integrate\n",
    "from scipy.integrate import simpson, trapz, romb\n",
    "import itertools\n",
    "\n",
    "from sklearn.preprocessing import normalize\n",
    "from sklearn.linear_model import Ridge, BayesianRidge, LinearRegression as SkLinearRegression\n",
    "from sklearn.base import BaseEstimator\n",
    "from sklearn.pipeline import make_pipeline\n",
    "from sklearn.metrics import mean_squared_error\n",
    "from abess.linear import LinearRegression\n",
    "import pysindy as ps\n",
    "\n",
    "from os.path import join as join_path\n",
    "FIGURE_EXPORT_PATH = \"/Users/pongpisit/Documents/figure_export/\"\n",
    "\n",
    "def evaluate_coefficients(prediected_coeffs):\n",
    "    assert len(prediected_coeffs.flatten()) == 3\n",
    "    errs = 100*np.abs(prediected_coeffs.flatten()+1)\n",
    "    return errs.mean(), errs.std()\n",
    "\n",
    "def percent_coeff(pred, ground):\n",
    "    return 100*np.abs(pred-ground)/np.abs(ground)\n",
    "\n",
    "import torch, sympytorch\n",
    "import torch.nn as nn\n",
    "import torch.nn.functional as F\n",
    "from sympy import symbols, simplify, lambdify\n",
    "from mathparser import math_eval\n",
    "from varname import nameof\n",
    "from misc import h5file\n",
    "\n",
    "import derivative\n",
    "from tvregdiff import TVRegDiff, tvregdiff, numdiff, pysindydiff, savgol_denoise\n",
    "from functools import partial\n",
    "from findiff import FinDiff\n",
    "\n",
    "from tqdm import tqdm, trange\n",
    "from tsmoothie.smoother import *\n",
    "\n",
    "from omegaconf import OmegaConf"
   ]
  },
  {
   "cell_type": "code",
   "execution_count": 2,
   "id": "9983aec0",
   "metadata": {},
   "outputs": [],
   "source": [
    "data = sio.loadmat('../Datasets/kuramoto_sivishinky.mat')\n",
    "u = data['uu']\n",
    "x = data['x'][:,0]\n",
    "t = data['tt'][0,:]\n",
    "dt = t[1]-t[0]\n",
    "dx = x[2]-x[1]\n",
    "X, T = np.meshgrid(x, t)\n",
    "XT = np.asarray([X, T]).T\n",
    "\n",
    "assert np.max(x)/32 == np.pi"
   ]
  },
  {
   "cell_type": "code",
   "execution_count": 3,
   "id": "b219ce45",
   "metadata": {},
   "outputs": [],
   "source": [
    "np.random.seed(0)\n",
    "noise_lvs = [30, 33.33, 36.67, 40, 45]\n",
    "noise_lv = noise_lvs[-1]\n",
    "un = u + 0.01*noise_lv*u.std()*np.random.randn(u.shape[0],u.shape[1])\n",
    "if noise_lv == 45:\n",
    "    un = np.load(\"./denoised_u_files/KS_noise45_reduced_dctV2ksvdreg_25x25.npy\")"
   ]
  },
  {
   "cell_type": "code",
   "execution_count": 4,
   "id": "dcbb14dd",
   "metadata": {},
   "outputs": [
    {
     "name": "stdout",
     "output_type": "stream",
     "text": [
      "STLSQ model: \n",
      "(x0)' = -0.994 x0_11 + -0.996 x0_1111 + -0.992 x0x0_1\n"
     ]
    }
   ],
   "source": [
    "library_functions = [lambda x: x, lambda x: x * x]\n",
    "library_function_names = [lambda x: x, lambda x: x + x]\n",
    "pde_lib = ps.PDELibrary(\n",
    "    library_functions=library_functions,\n",
    "    function_names=library_function_names,\n",
    "    derivative_order=4,\n",
    "    spatial_grid=x,\n",
    "    is_uniform=True,\n",
    ")\n",
    "\n",
    "print('STLSQ model: ')\n",
    "optimizer = ps.STLSQ(threshold=0.1, alpha=1e-5, normalize_columns=False)\n",
    "model = ps.SINDy(feature_library=pde_lib, optimizer=optimizer)\n",
    "model.fit(np.expand_dims(u, -1), t=dt)\n",
    "model.print()"
   ]
  },
  {
   "cell_type": "code",
   "execution_count": 5,
   "id": "007b854e",
   "metadata": {},
   "outputs": [],
   "source": [
    "class Differentiator(ps.BaseDifferentiation):\n",
    "    def __init__(self, diff_name, diff_func_kwargs, \n",
    "                 d=1, axis=1, \n",
    "                 is_uniform=True, periodic=False):\n",
    "        super(Differentiator, self).__init__()\n",
    "        self.diff_name = diff_name\n",
    "        self.diff_func_kwargs = diff_func_kwargs\n",
    "        self.diff_func = getattr(derivative, self.diff_name)(**diff_func_kwargs)\n",
    "        \n",
    "        self.d = d\n",
    "        self.diff = partial(pysindydiff, **{\"diff_method\":self.diff_func, \"order\":self.d})\n",
    "        \n",
    "        # Other info...\n",
    "        self.axis = axis\n",
    "        self.is_uniform = is_uniform\n",
    "        self.periodic = periodic\n",
    "        self.transform = np.vectorize(composite_function(self.diff, lambda _: _, left2right=True), signature=\"(m),(m)->(m)\")\n",
    "\n",
    "    def _differentiate(self, x, t):\n",
    "        in_shape = x.shape\n",
    "        if len(in_shape) == 2: x = np.expand_dims(x, -1) # x should now be 3-dimensional\n",
    "        if isinstance(t, float) and self.is_uniform: \n",
    "            t = np.linspace(0, stop=t*(x.shape[self.axis]-1), num=x.shape[self.axis])\n",
    "        out = []\n",
    "        # wrt to x var\n",
    "        if self.axis == 0:\n",
    "            for i in range(x.shape[-1]):\n",
    "                diff = self.transform(x[:,:,i].T, t).T\n",
    "                out.append(np.expand_dims(diff, axis=-1))\n",
    "        # wrt to time var\n",
    "        elif self.axis == 1:\n",
    "            for i in range(x.shape[-1]):\n",
    "                diff = self.transform(x[:,:,i], t)\n",
    "                out.append(np.expand_dims(diff, axis=-1))\n",
    "        return np.concatenate(out, axis=-1).reshape(in_shape)\n",
    "\n",
    "class FiniteDifferentiator(ps.BaseDifferentiation):\n",
    "    def __init__(self, acc=2, d=1, axis=1, is_uniform=True, periodic=False):\n",
    "        super(FiniteDifferentiator, self).__init__()        \n",
    "        self.acc = acc\n",
    "        self.d = d\n",
    "        self.axis = axis\n",
    "        self.is_uniform = is_uniform\n",
    "        self.periodic = periodic\n",
    "    def _differentiate(self, x, t):\n",
    "        if self.is_uniform:\n",
    "            if isinstance(t, float): \n",
    "                dt = t\n",
    "            else: \n",
    "                dt = t[1]-t[0]\n",
    "            self.diff = FinDiff(self.axis, dt, self.d, acc=self.acc)\n",
    "        else:\n",
    "            raise NotImplementedError(\"is_uniform=False\")\n",
    "            self.diff = FinDiff(self.axis, self.d, acc=self.acc)\n",
    "        return self.diff(x)"
   ]
  },
  {
   "cell_type": "code",
   "execution_count": 6,
   "id": "57631251",
   "metadata": {},
   "outputs": [],
   "source": [
    "### originally from derivative ###\n",
    "## slow ##\n",
    "# diff_name, diff_func_kwargs = \"Kalman\", {'alpha':kalpha}\n",
    "## fast ##\n",
    "# diff_name, diff_func_kwargs = \"FiniteDifference\", {'k':1}\n",
    "# differentiation_method = Differentiator\n",
    "# differentiation_kwargs = {\"diff_name\": diff_name, \"diff_func_kwargs\": diff_func_kwargs}\n",
    "\n",
    "# originally from pysindy\n",
    "# differentiation_method, differentiation_kwargs = ps.SmoothedFiniteDifference, {}\n",
    "\n",
    "# originally from findiff (accurate and fast)\n",
    "differentiation_method, differentiation_kwargs = FiniteDifferentiator, {'acc':4}"
   ]
  },
  {
   "cell_type": "code",
   "execution_count": 7,
   "id": "ac2a2c65",
   "metadata": {},
   "outputs": [],
   "source": [
    "diff_order = 4\n",
    "weak_pde_lib = ps.WeakPDELibrary(library_functions=[lambda x: x, lambda x: x * x], \n",
    "                                 function_names=[lambda x: x, lambda x: x + x], \n",
    "                                 derivative_order=diff_order, p=4, \n",
    "                                 spatiotemporal_grid=XT, \n",
    "                                 include_bias=False, is_uniform=True, K=10000, # new random K points in every calls to the ps.WeakPDELibrary\n",
    "                                 differentiation_method=differentiation_method, \n",
    "                                 differentiation_kwargs=differentiation_kwargs, \n",
    "                                 cache=True\n",
    "                                )\n",
    "kwargs = {'fit_intercept':False, 'copy_X':True, 'normalize_columns':False}"
   ]
  },
  {
   "cell_type": "code",
   "execution_count": 8,
   "id": "4dbe2eee",
   "metadata": {},
   "outputs": [],
   "source": [
    "# optimizer = BruteForceRegressor(3)\n",
    "# if feature_library=weak_pde_lib, then just differentiation_method=None is fine.\n",
    "optimizer_name = \"miosr\" # \"l0bnb\", \"miosr\"\n",
    "assert (optimizer_name == \"l0bnb\") or (optimizer_name == \"miosr\")\n",
    "if optimizer_name == \"l0bnb\":\n",
    "    optimizer = L0BNB(max_nonzeros=4, lam=5e-2, is_normal=True, normalize_columns=False, threshold=1e-4)\n",
    "elif optimizer_name == \"miosr\":\n",
    "    optimizer = ps.MIOSR(target_sparsity=3, alpha=5e-2, normalize_columns=False, regression_timeout=100)\n",
    "n_ensemble_models = 50\n",
    "model = ps.SINDy(feature_library=weak_pde_lib, optimizer=optimizer, \n",
    "                 differentiation_method=differentiation_method(**differentiation_kwargs), \n",
    "                 cache=True,\n",
    "                 feature_names=['u'])"
   ]
  },
  {
   "cell_type": "code",
   "execution_count": 9,
   "id": "3dbfd927",
   "metadata": {},
   "outputs": [
    {
     "name": "stdout",
     "output_type": "stream",
     "text": [
      "Set parameter Username\n"
     ]
    },
    {
     "name": "stderr",
     "output_type": "stream",
     "text": [
      "2023-08-19 14:20:32,268 [INFO] Set parameter Username\n"
     ]
    },
    {
     "name": "stdout",
     "output_type": "stream",
     "text": [
      "Academic license - for non-commercial use only - expires 2024-06-04\n"
     ]
    },
    {
     "name": "stderr",
     "output_type": "stream",
     "text": [
      "2023-08-19 14:20:32,270 [INFO] Academic license - for non-commercial use only - expires 2024-06-04\n"
     ]
    },
    {
     "name": "stdout",
     "output_type": "stream",
     "text": [
      "['u', 'uu', 'u_1', 'u_11', 'u_111', 'u_1111', 'uu_1', 'uuu_1', 'uu_11', 'uuu_11', 'uu_111', 'uuu_111', 'uu_1111', 'uuu_1111']\n"
     ]
    }
   ],
   "source": [
    "model.fit(np.expand_dims(un, -1), t=dt, ensemble=True, library_ensemble=True, n_candidates_to_drop=1, n_models=n_ensemble_models)\n",
    "print(model.get_feature_names())\n",
    "\n",
    "X_pre, y_pre = np.squeeze(model.feature_library.cached_xp_full), model.cached_x_dot\n",
    "# print_pde(model.get_coef_list()[np.argmin(np.sum((np.squeeze(np.tensordot(X_pre, np.array(model.get_coef_list()).T, axes=([-1], [0])), axis=1)-y_pre)**2, axis=0))].reshape(-1,1), model.get_feature_names())"
   ]
  },
  {
   "cell_type": "code",
   "execution_count": 10,
   "id": "d4e08225",
   "metadata": {},
   "outputs": [
    {
     "name": "stdout",
     "output_type": "stream",
     "text": [
      "From brute-force solver\n"
     ]
    },
    {
     "data": {
      "text/plain": [
       "[(6,),\n",
       " (6, 9),\n",
       " (3, 5, 6),\n",
       " (3, 5, 6, 10),\n",
       " (3, 5, 6, 9, 10),\n",
       " (3, 5, 6, 9, 10, 13),\n",
       " (1, 3, 4, 5, 6, 8, 10),\n",
       " (1, 3, 4, 5, 6, 8, 9, 10),\n",
       " (1, 3, 4, 5, 6, 8, 9, 10, 13),\n",
       " (1, 3, 4, 5, 6, 7, 8, 9, 10, 13),\n",
       " (1, 3, 4, 5, 6, 7, 8, 9, 10, 12, 13),\n",
       " (0, 1, 3, 4, 5, 6, 7, 8, 9, 10, 12, 13),\n",
       " (0, 1, 3, 4, 5, 6, 7, 8, 9, 10, 11, 12, 13),\n",
       " (0, 1, 2, 3, 4, 5, 6, 7, 8, 9, 10, 11, 12, 13)]"
      ]
     },
     "execution_count": 10,
     "metadata": {},
     "output_type": "execute_result"
    }
   ],
   "source": [
    "print(\"From brute-force solver\")\n",
    "brute_best_subsets = [tuple(np.where(abs(brute_force(X_pre, y_pre, support_size=i).flatten())>0)[0])\n",
    "                      for i in range(1, X_pre.shape[1]+1)]\n",
    "best_subsets = brute_best_subsets\n",
    "brute_best_subsets"
   ]
  },
  {
   "cell_type": "markdown",
   "id": "da10102f",
   "metadata": {},
   "source": [
    "#### Model selection"
   ]
  },
  {
   "cell_type": "code",
   "execution_count": 11,
   "id": "c34da940",
   "metadata": {},
   "outputs": [],
   "source": [
    "# Use PDE_FIND_Loss from parametric_pde_find.py by formulating as a parametric problem\n",
    "# Moving horizon in time\n",
    "\n",
    "def ssr2llf(ssr, nobs):\n",
    "    nobs2 = nobs / 2.0\n",
    "    llf = -nobs2 * np.log(2 * np.pi) - nobs2 * np.log(ssr / nobs) - nobs2\n",
    "    return llf\n",
    "\n",
    "def log_like_value(prediction, ground):                                                                                                               \n",
    "    nobs = float(ground.shape[0])\n",
    "    ssr = np.sum(np.abs(ground - prediction)**2)\n",
    "    return ssr2llf(ssr, nobs)\n",
    "\n",
    "def BIC_AIC(prediction, ground, nparams, reg_func = lambda x: x):\n",
    "    nparams = reg_func(nparams)\n",
    "    llf = log_like_value(prediction, ground)\n",
    "    return -2*llf + np.log(ground.shape[0])*nparams, -2*llf + 2*nparams\n",
    "\n",
    "def AIC_Loss(A,b,x,epsilon=1e-5):\n",
    "    N = A.shape[0]\n",
    "    k = np.count_nonzero(x)\n",
    "    # Rudy et al., 2019\n",
    "    rss = ((b-A.dot(x))**2).sum()\n",
    "    aic = N*np.log(rss/N+epsilon) + 2*k + (2*k**2+2*k)/(N-k-1)\n",
    "    return aic\n",
    "\n",
    "def PDE_FIND_Loss(As,bs,x,epsilon=1e-5,const_coeff=True,cv=0,ic_type=\"bic\",version=0):\n",
    "    # D: Number of candidates | m: either len(t) or len(x) (temporal or spatial group)\n",
    "    D,m = x.shape\n",
    "    # n: Number of horizon\n",
    "    n,_ = As[0].shape\n",
    "    N = n*m\n",
    "    \n",
    "    rss = [np.linalg.norm(bs[j] - As[j].dot(x[:,j].reshape(D,1)))**2 for j in range(m)]\n",
    "    rss = np.sum(rss)\n",
    "    llf = ssr2llf(rss, N)\n",
    "    \n",
    "    k = np.count_nonzero(x)\n",
    "    if const_coeff:\n",
    "        k = np.count_nonzero(x)/m\n",
    "    k = k + k*cv\n",
    "    \n",
    "    if ic_type == \"aic\":\n",
    "        aic1 = N*np.log(rss/N+epsilon) + 2*k + (2*k**2+2*k)/(N-k-1)\n",
    "        aic2 = -2*llf + 2*k + (2*k**2+2*k)/(N-k-1)\n",
    "        if version > 0:\n",
    "            return aic2\n",
    "        return aic1\n",
    "    elif ic_type == \"bic\":\n",
    "        bic1 = N*np.log(rss/N+epsilon) + np.log(N)*k\n",
    "        bic2 = -2*llf + np.log(N)*k\n",
    "        if version > 0:\n",
    "            return bic2\n",
    "        return bic1"
   ]
  },
  {
   "cell_type": "code",
   "execution_count": 12,
   "id": "852d65b3",
   "metadata": {},
   "outputs": [],
   "source": [
    "from UBIC import *"
   ]
  },
  {
   "cell_type": "markdown",
   "id": "496d67f9",
   "metadata": {},
   "source": [
    "#### UBIC"
   ]
  },
  {
   "cell_type": "code",
   "execution_count": 13,
   "id": "497708a7",
   "metadata": {},
   "outputs": [
    {
     "name": "stdout",
     "output_type": "stream",
     "text": [
      "0.9445727713821357\n",
      "2 <---> 2 inf\n",
      "2 <---> 2 inf\n"
     ]
    },
    {
     "data": {
      "text/plain": [
       "(0.9168251529885989,\n",
       " array([31009.06177275, 25736.171008  , -5108.97811125, -5081.56768307,\n",
       "        -5066.24330238, -5059.40054636, -5050.75744068, -5035.33922264,\n",
       "        -5029.14971204, -4998.29634184, -4987.99822116, -4964.6201971 ,\n",
       "        -4945.40460538, -4911.2117397 ]),\n",
       " 2)"
      ]
     },
     "execution_count": 13,
     "metadata": {},
     "output_type": "execute_result"
    }
   ],
   "source": [
    "tau = 3; per = 75 # max at 100\n",
    "scale = np.log(len(y_pre))\n",
    "# scale = 1\n",
    "\n",
    "post_means, b_bics, b_uns = baye_uncertainties(best_subsets, (X_pre, y_pre), u_type='cv1', take_sqrt=True)\n",
    "predictions = X_pre@post_means\n",
    "\n",
    "b_bics = np.array(b_bics)\n",
    "complexities = np.array([len(bs) for bs in best_subsets])\n",
    "d_complexities = complexities[decreasing_values_indices(b_bics)]\n",
    "d_bics = b_bics[decreasing_values_indices(b_bics)]\n",
    "slopes = np.diff(b_bics)/(np.diff(complexities)*b_bics[:-1])\n",
    "thres = np.percentile(slopes, per)\n",
    "# while thres < 0:\n",
    "#     percentile = per + 5\n",
    "#     thres = np.percentile(slopes, min(100, percentile))\n",
    "#     if percentile >= 100: \n",
    "#         break\n",
    "\n",
    "d_complexities = complexities[decreasing_values_indices(b_bics)]\n",
    "d_bics = b_bics[decreasing_values_indices(b_bics)]\n",
    "d_slopes = np.abs(np.diff(d_bics)/(np.diff(d_complexities)*d_bics[:-1]))\n",
    "thres = np.percentile(d_slopes, per)\n",
    "\n",
    "# thres = 0.02\n",
    "print(thres)\n",
    "\n",
    "lower_bounds = []\n",
    "for k, efi in enumerate(best_subsets):\n",
    "    assert len(efi) == np.count_nonzero(post_means[:, k:k+1])\n",
    "    com = len(efi)\n",
    "    lower_bound = 2*log_like_value(predictions[:, k:k+1], y_pre)-np.log(len(y_pre))*com\n",
    "    lower_bounds.append(lower_bound)\n",
    "\n",
    "last_lam = np.log10(max(max(lower_bounds/(b_uns*scale)), 0))\n",
    "delta = last_lam/tau\n",
    "now_lam = last_lam-delta\n",
    "last_ubic = UBIC(b_bics, b_uns, len(y_pre), hyp=10**last_lam, scale=scale)\n",
    "last_bc = np.argmin(last_ubic)\n",
    "while now_lam > 0:\n",
    "    now_ubic = UBIC(b_bics, b_uns, len(y_pre), hyp=10**now_lam, scale=scale)\n",
    "    now_bc = np.argmin(now_ubic)\n",
    "    \n",
    "    diff_com = now_bc-last_bc\n",
    "    diff_bic = b_bics[now_bc]-b_bics[last_bc]\n",
    "    imp = abs(diff_bic/(b_bics[last_bc]*diff_com))\n",
    "    print(min(last_bc, now_bc), '<--->', max(last_bc, now_bc), np.nan_to_num(imp, nan=np.inf))\n",
    "    \n",
    "    if (diff_com > 0 and (diff_bic > 0 or imp <= thres)) or \\\n",
    "        (diff_com < 0 and diff_bic > 0 and imp >= thres):\n",
    "        break\n",
    "    \n",
    "    last_lam = now_lam\n",
    "    now_lam = last_lam-delta\n",
    "    last_ubic = now_ubic\n",
    "    last_bc = now_bc\n",
    "\n",
    "best_bc = last_bc\n",
    "if abs((b_bics[last_bc]-b_bics[last_bc-1])/b_bics[last_bc-1]) < thres:\n",
    "    print(\"Found unworthy improvement\")\n",
    "    best_bc = best_bc - 1\n",
    "    \n",
    "last_lam, last_ubic, last_bc"
   ]
  },
  {
   "cell_type": "code",
   "execution_count": 14,
   "id": "3df58fa3",
   "metadata": {},
   "outputs": [
    {
     "data": {
      "text/plain": [
       "(array([-0.98866384, -0.99065527, -0.99170346]),\n",
       " (0.9659144254939042, 0.12606784067628488))"
      ]
     },
     "execution_count": 14,
     "metadata": {},
     "output_type": "execute_result"
    }
   ],
   "source": [
    "found_coefficients = np.linalg.lstsq(X_pre[:, best_subsets[best_bc]], y_pre, rcond=None)[0]\n",
    "found_coefficients = found_coefficients.flatten()\n",
    "percent_coefficient_error = evaluate_coefficients(found_coefficients)\n",
    "found_coefficients, percent_coefficient_error"
   ]
  },
  {
   "cell_type": "code",
   "execution_count": 15,
   "id": "5b1e9277",
   "metadata": {},
   "outputs": [
    {
     "data": {
      "text/plain": [
       "(0.9659144254939042, 0.12606784067628488)"
      ]
     },
     "execution_count": 15,
     "metadata": {},
     "output_type": "execute_result"
    }
   ],
   "source": [
    "errs = 100*np.abs(found_coefficients+1)\n",
    "errs.mean(), errs.std()"
   ]
  },
  {
   "cell_type": "code",
   "execution_count": 16,
   "id": "270192ad",
   "metadata": {},
   "outputs": [
    {
     "data": {
      "image/png": "[encoded data removed]",
      "text/plain": [
       "<Figure size 252x189 with 2 Axes>"
      ]
     },
     "metadata": {
      "needs_background": "light"
     },
     "output_type": "display_data"
    }
   ],
   "source": [
    "complexity_axis = [i+1 for i in range(X_pre.shape[1])]\n",
    "with plt.style.context(['science']):\n",
    "    fig, ax = plt.subplots()\n",
    "    ax2 = ax.twinx()\n",
    "    ax.set_zorder(ax2.get_zorder()+1)\n",
    "    ax.patch.set_visible(False)\n",
    "    \n",
    "    l0, = ax.plot(complexity_axis, b_bics, 's-', c='black', markerfacecolor='none', label=f\"$\\lambda = {abs(last_lam)}$\")\n",
    "    l1, = ax.plot(complexity_axis, last_ubic, 'o-', c='black', markerfacecolor='none', label=f\"$\\lambda = {abs(last_lam)}$\")\n",
    "    ax.set_xticks(complexity_axis)\n",
    "    ax.set_ylabel(\"$\\\\textrm{UBIC}(\\\\xi^{k}, 10^{\\\\lambda})$\", fontsize=12)\n",
    "    ax.set_xlabel(\"Support sizes ($s_{k}$)\", fontsize=12)\n",
    "    ax.annotate('$(u_{xx}, u_{xxxx}, uu_{x})\\checkmark$', fontsize=16, \n",
    "                 xy=(complexity_axis[best_bc], last_ubic[best_bc]), \n",
    "                 xytext=(complexity_axis[best_bc]+0.5, last_ubic[best_bc]+12000), \n",
    "                 arrowprops={'arrowstyle': '->', 'connectionstyle':'arc3, rad=0.1'})\n",
    "    \n",
    "    l2, = ax2.plot(complexity_axis, b_uns, 'o--', c='blue', markerfacecolor='none', label=\"Uncertainty $\\\\textrm{U}^{k}$\")\n",
    "    s1 = ax2.scatter(complexity_axis[np.argmin(b_uns)], b_uns[np.argmin(b_uns)], c='blue')\n",
    "    ax2.tick_params(axis='y', labelcolor='blue')\n",
    "#     ax.set_title(f\"$\\\\epsilon = {int(noise_lv)}$\")\n",
    "    ax.set_title(f\"$\\\\epsilon = {int(noise_lv)},$\" + ' ' + f\"$\\%\\\\textrm{{CE}} = {round(percent_coefficient_error[0], 2)}$\")\n",
    "    ax.legend([l0, l1, l2, s1], [\"BIC\", f\"UBIC with $\\lambda = {abs(round(last_lam,2))}$\", \"Uncertainty $\\\\textrm{U}^{k}$\", \"Min $\\\\textrm{U}^{k}$\"], \n",
    "              labelcolor='linecolor', loc='upper right', fontsize=12)\n",
    "    \n",
    "#     fig.savefig(\"../Figures/KS/ks_ubic_V2.pdf\")\n",
    "#     fig.savefig(\"../Figures/KS/ks_extreme_noise_V2.pdf\")\n",
    "#     fig.savefig(\"tmp.pdf\")\n",
    "    \n",
    "    plt.show()"
   ]
  },
  {
   "cell_type": "code",
   "execution_count": 17,
   "id": "0b8058c1",
   "metadata": {},
   "outputs": [],
   "source": [
    "yml = {'lam': float(last_lam), \n",
    "       'ubic': [float(e) for e in last_ubic.tolist()], \n",
    "       'bic': [float(e) for e in b_bics.tolist()], \n",
    "       'uns': [float(e) for e in b_uns.tolist()], \n",
    "       'bc': float(best_bc), \n",
    "       'found_coefficients': [float(e) for e in found_coefficients.tolist()], \n",
    "       'percent_coefficient_error': [float(e) for e in percent_coefficient_error], \n",
    "      }\n",
    "\n",
    "OmegaConf.save(config=OmegaConf.create(yml), \n",
    "               f=f'./robustness_output_files/ks_robustness_noise{int(noise_lv)}.yaml')"
   ]
  },
  {
   "cell_type": "code",
   "execution_count": 28,
   "id": "5f6d699a",
   "metadata": {},
   "outputs": [
    {
     "data": {
      "image/png": "[encoded data removed]",
      "text/plain": [
       "<Figure size 1152x288 with 8 Axes>"
      ]
     },
     "metadata": {
      "needs_background": "light"
     },
     "output_type": "display_data"
    }
   ],
   "source": [
    "complexity_axis = [i+1 for i in range(X_pre.shape[1])]\n",
    "with plt.style.context(['science']):\n",
    "    fig, axes = plt.subplots(ncols=4, figsize=(16, 4))\n",
    "    for i, noise_lv in enumerate(noise_lvs[:-1]):\n",
    "        ax = axes[i]\n",
    "        ax2 = ax.twinx()\n",
    "        ax.set_zorder(ax2.get_zorder()+1)\n",
    "        ax.patch.set_visible(False)\n",
    "        ax2.tick_params(axis='y', labelcolor='blue')\n",
    "        \n",
    "        noise_data = OmegaConf.load(f'./robustness_output_files/ks_robustness_noise{int(noise_lv)}.yaml')\n",
    "        last_ubic = noise_data['ubic']\n",
    "        last_lam = noise_data['lam']\n",
    "        best_bc = int(noise_data['bc'])\n",
    "        bic = noise_data['bic']\n",
    "        uns = noise_data['uns']\n",
    "        \n",
    "        ax2.plot(complexity_axis, uns, 'o--', c='blue', markerfacecolor='none')\n",
    "        \n",
    "        ax.plot(complexity_axis, bic, 's-', c='black', markerfacecolor='none', label=f\"BIC\")\n",
    "        ax.plot(complexity_axis, last_ubic, 'o-', c='black', markerfacecolor='none', label=f\"UBIC ($\\lambda = {abs(round(last_lam, 2))}$)\")\n",
    "        ax.scatter(complexity_axis[best_bc], last_ubic[best_bc], c='black', label='min \\checkmark')\n",
    "        ax.set_xticks(complexity_axis)\n",
    "        if i == 0: ax.set_ylabel(\"$\\\\textrm{UBIC}(\\\\xi^{k}, 10^{\\\\lambda})$\", fontsize=12)\n",
    "        if i == 3: ax2.set_ylabel(\"Uncertainty ($\\\\textrm{U}^{k}$)\", c='blue', fontsize=12)\n",
    "        ax.set_xlabel(\"Support sizes ($s_{k}$)\", fontsize=12)\n",
    "        # ax.set_title(f\"$\\\\epsilon = {round(noise_lv, 2)}$\")\n",
    "        ax.set_title(f\"$\\\\epsilon = {int(noise_lv)},$\" + ' ' + f\"$\\%\\\\textrm{{CE}} = {round(noise_data['percent_coefficient_error'][0], 2)}$\")\n",
    "        ax.legend(fontsize=12, loc='upper center')\n",
    "    plt.tight_layout()\n",
    "    fig.savefig(\"../Figures/KS/ks_noise_robustness.pdf\")\n",
    "    plt.show()"
   ]
  },
  {
   "cell_type": "code",
   "execution_count": null,
   "id": "1a6ac4e2",
   "metadata": {},
   "outputs": [],
   "source": []
  },
  {
   "cell_type": "code",
   "execution_count": null,
   "id": "cfc26794",
   "metadata": {},
   "outputs": [],
   "source": []
  },
  {
   "cell_type": "code",
   "execution_count": 29,
   "id": "79374d13",
   "metadata": {},
   "outputs": [],
   "source": [
    "# complexity_axis = [i+1 for i in range(X_pre.shape[1])]\n",
    "# with plt.style.context(['science', 'grid']):\n",
    "#     fig, axes = plt.subplots(ncols=1)\n",
    "#     for i, noise_lv in enumerate([noise_lvs[-1]]):\n",
    "#         ax = axes\n",
    "#         noise_data = OmegaConf.load(f'./robustness_output_files/ks_robustness_noise{int(noise_lv)}.yaml')\n",
    "#         last_ubic = noise_data['ubic']\n",
    "#         last_lam = noise_data['lam']\n",
    "#         best_bc = int(noise_data['bc'])\n",
    "#         ax.plot(complexity_axis, last_ubic, 'o-', c='black', markerfacecolor='none', label=f\"$\\lambda = {abs(round(last_lam, 2))}$\")\n",
    "#         ax.scatter(complexity_axis[best_bc], last_ubic[best_bc], c='black', label='min \\checkmark')\n",
    "#         ax.set_xticks(complexity_axis)\n",
    "#         if i == 0: ax.set_ylabel(\"$\\\\textrm{UBIC}(\\\\xi^{k}, 10^{\\\\lambda})$\", fontsize=12)\n",
    "#         ax.set_xlabel(\"Support sizes ($s_{k}$)\", fontsize=12)\n",
    "#         ax.set_title(f\"$\\\\epsilon = {int(noise_lv)}$\")\n",
    "#         ax.legend(fontsize=12)\n",
    "#     plt.tight_layout()\n",
    "# #     fig.savefig(\"../Figures/KS/ks_extreme_noise.pdf\")\n",
    "#     plt.show()"
   ]
  },
  {
   "cell_type": "code",
   "execution_count": 30,
   "id": "8b7ff917",
   "metadata": {},
   "outputs": [],
   "source": [
    "# complexity_axis = list(st.track.keys())\n",
    "# with plt.style.context(['science', 'grid']):\n",
    "#     fig, ax = plt.subplots()\n",
    "#     ax.plot([], [], linestyle='', marker='', label='Target: $u_t$')\n",
    "#     ax.plot(complexity_axis, last_ubic, 'o-', c='black', markerfacecolor='none', label=f\"$\\lambda = {abs(round(last_lam, 2))}$\")\n",
    "#     ax.set_xticks(complexity_axis)\n",
    "#     ax.set_ylabel(\"$\\\\textrm{UBIC}_{\\\\Gamma}(\\\\xi^{k}, 10^{\\\\lambda})$\", fontsize=12)\n",
    "#     ax.set_xlabel(\"Support sizes ($s_{k}$)\", fontsize=12)\n",
    "#     plt.annotate('$(u_{xx}, u_{xxxx}, uu_{x})\\checkmark$', fontsize=16,  \n",
    "#                  xy=(complexity_axis[best_bc], last_ubic[best_bc]), \n",
    "#                  xytext=(complexity_axis[best_bc]+0.5, last_ubic[best_bc]+6000), \n",
    "#                  arrowprops={'arrowstyle': '->'})\n",
    "#     ax.legend(fontsize=12)\n",
    "#     fig.savefig(\"../Figures/KS/ks_scale_ubic.pdf\")\n",
    "#     plt.show()\n",
    "#     plt.close()"
   ]
  },
  {
   "cell_type": "code",
   "execution_count": 31,
   "id": "9f727ac2",
   "metadata": {},
   "outputs": [],
   "source": [
    "# complexity_axis = list(st.track.keys())\n",
    "# with plt.style.context(['science', 'grid']):\n",
    "#     fig, ax = plt.subplots()\n",
    "#     ax.plot([], [], linestyle='', marker='', label='Target: $u_t$')\n",
    "#     ax.plot(complexity_axis, b_uns, 'o-', c='black', markerfacecolor='none')\n",
    "#     ax.set_xticks(complexity_axis)\n",
    "#     ax.set_ylabel(\"Uncertainty ($\\\\textrm{U}^{k}$)\", fontsize=12)\n",
    "#     ax.set_xlabel(\"Support sizes ($s_{k}$)\", fontsize=12)\n",
    "#     plt.annotate('min', fontsize=16, \n",
    "#                  xy=(complexity_axis[best_bc], b_uns[best_bc]), \n",
    "#                  xytext=(complexity_axis[best_bc], b_uns[best_bc]+3.25), \n",
    "#                  arrowprops={'arrowstyle': '->'})\n",
    "#     ax.legend(fontsize=12)\n",
    "# #     fig.savefig(\"../Figures/KS/ks_uns.pdf\")\n",
    "#     plt.show()\n",
    "#     plt.close()"
   ]
  },
  {
   "cell_type": "code",
   "execution_count": 32,
   "id": "61febafb",
   "metadata": {},
   "outputs": [],
   "source": [
    "# ud_X, un_best_subsets, _, ud_y = h5file(\"./IPI_output_files/PMS_undenoised_data.h5\", 'r')\n",
    "# _, ud_bics, _ = baye_uncertainties([np.where(e>0)[0].tolist() for e in un_best_subsets], \n",
    "#                                    (ud_X, ud_y), u_type='cv1', take_sqrt=True)\n",
    "\n",
    "# complexity_axis = list(st.track.keys())\n",
    "# with plt.style.context(['science', 'grid']):\n",
    "#     fig, ax = plt.subplots()\n",
    "#     ax.plot([], [], linestyle='', marker='', label='Target: $u_t$')\n",
    "#     ax.plot(complexity_axis, ud_bics, 'o-', c='blue', markerfacecolor='none', label=\"w/o denoising\")\n",
    "#     ax.plot(complexity_axis, b_bics, 'o-', c='black', markerfacecolor='none', label=\"w/ denoising\")\n",
    "#     ax.fill_between(complexity_axis, ud_bics, b_bics, facecolor='blue', alpha=0.1)\n",
    "#     ax.set_xticks(complexity_axis)\n",
    "#     ax.set_ylabel(\"$\\\\textrm{BIC}(\\\\xi^{k}_{\\\\mu})$\", fontsize=12)\n",
    "#     ax.set_xlabel(\"Support sizes ($s_{k}$)\", fontsize=12)\n",
    "#     plt.annotate(f\"$({', '.join(eff_feature_names[np.argmin(b_bics)])})$\", fontsize=16, \n",
    "#                  xy=(complexity_axis[np.argmin(b_bics)], b_bics[np.argmin(b_bics)]), \n",
    "#                  xytext=(complexity_axis[np.argmin(b_bics)]+1, b_bics[np.argmin(b_bics)]+8000), \n",
    "#                  arrowprops={'arrowstyle': '->'})\n",
    "#     ax.legend(fontsize=10)\n",
    "# #     fig.savefig(\"../Figures/KS/ks_bic.pdf\")\n",
    "#     plt.show()\n",
    "#     plt.close()"
   ]
  }
 ],
 "metadata": {
  "kernelspec": {
   "display_name": "Python [conda env:pysr]",
   "language": "python",
   "name": "conda-env-pysr-py"
  },
  "language_info": {
   "codemirror_mode": {
    "name": "ipython",
    "version": 3
   },
   "file_extension": ".py",
   "mimetype": "text/x-python",
   "name": "python",
   "nbconvert_exporter": "python",
   "pygments_lexer": "ipython3",
   "version": "3.10.10"
  }
 },
 "nbformat": 4,
 "nbformat_minor": 5
}
