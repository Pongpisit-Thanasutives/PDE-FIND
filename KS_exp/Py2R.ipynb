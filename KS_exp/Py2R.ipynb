{
 "cells": [
  {
   "cell_type": "code",
   "execution_count": 1,
   "id": "0c59c0f1",
   "metadata": {},
   "outputs": [],
   "source": [
    "import numpy as np\n",
    "import yaml\n",
    "import omegaconf\n",
    "import sys; sys.path.insert(0, '../')\n",
    "from misc import h5file"
   ]
  },
  {
   "cell_type": "code",
   "execution_count": 2,
   "id": "61d44486",
   "metadata": {},
   "outputs": [
    {
     "name": "stdout",
     "output_type": "stream",
     "text": [
      "['X_pre', 'best_subsets', 'un', 'y_pre']\n"
     ]
    }
   ],
   "source": [
    "X_pre, _, _, y_pre = h5file(\"./IPI_output_files/PMS_data.h5\")"
   ]
  },
  {
   "cell_type": "code",
   "execution_count": 3,
   "id": "b4b3822e",
   "metadata": {},
   "outputs": [
    {
     "data": {
      "text/plain": [
       "array([[-2.0420311e+01,  4.6047611e+01,  2.8209707e-01, ...,\n",
       "        -4.1664402e+01,  1.2493258e+02, -3.2826617e+02],\n",
       "       [-1.5622635e+01,  1.7107784e+01,  1.4743516e+00, ...,\n",
       "        -5.4755950e+00,  5.8428841e+01, -1.0806898e+02],\n",
       "       [ 6.5381789e+00,  1.0061698e+01,  6.4343076e+00, ...,\n",
       "        -6.6483965e+00,  3.6885555e+01,  2.6027143e+01],\n",
       "       ...,\n",
       "       [-4.8000875e+00,  2.4492353e+01,  1.0372703e+01, ...,\n",
       "        -2.0219976e+01,  1.3216135e+02,  3.8047657e+01],\n",
       "       [ 1.5204134e+01,  1.4680129e+01,  4.3943873e-01, ...,\n",
       "         7.1304202e-02,  5.6168411e+01,  1.0794833e+02],\n",
       "       [-8.7960186e+00,  4.9763465e+00,  7.3222563e-02, ...,\n",
       "        -1.3868113e-02,  4.1365879e+01, -4.4735237e+01]], dtype=float32)"
      ]
     },
     "execution_count": 3,
     "metadata": {},
     "output_type": "execute_result"
    }
   ],
   "source": [
    "X_pre"
   ]
  },
  {
   "cell_type": "code",
   "execution_count": 4,
   "id": "ca5c782e",
   "metadata": {},
   "outputs": [],
   "source": [
    "np.save('./IPI_output_files/X_pre.npy', X_pre)\n",
    "np.save('./IPI_output_files/y_pre.npy', y_pre.flatten())"
   ]
  },
  {
   "cell_type": "code",
   "execution_count": null,
   "id": "827c5078",
   "metadata": {},
   "outputs": [],
   "source": []
  }
 ],
 "metadata": {
  "kernelspec": {
   "display_name": "Python [conda env:pysr]",
   "language": "python",
   "name": "conda-env-pysr-py"
  },
  "language_info": {
   "codemirror_mode": {
    "name": "ipython",
    "version": 3
   },
   "file_extension": ".py",
   "mimetype": "text/x-python",
   "name": "python",
   "nbconvert_exporter": "python",
   "pygments_lexer": "ipython3",
   "version": "3.10.10"
  }
 },
 "nbformat": 4,
 "nbformat_minor": 5
}
