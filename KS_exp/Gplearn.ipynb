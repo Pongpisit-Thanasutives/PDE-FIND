{
 "cells": [
  {
   "cell_type": "code",
   "execution_count": 1,
   "id": "43d92d5b",
   "metadata": {},
   "outputs": [],
   "source": [
    "%matplotlib inline\n",
    "import matplotlib.pyplot as plt\n",
    "\n",
    "import sys; sys.path.append('../')\n",
    "from misc import h5file\n",
    "import numpy as np\n",
    "\n",
    "import scipy.io as sio\n",
    "import sympy\n",
    "from sympy import Symbol, parse_expr, sympify, lambdify, Lambda\n",
    "\n",
    "import pandas as pd\n",
    "import subprocess\n",
    "\n",
    "from scipy.optimize import curve_fit\n",
    "\n",
    "MAIN_SEED = 1234"
   ]
  },
  {
   "cell_type": "code",
   "execution_count": 2,
   "id": "4fc04998",
   "metadata": {},
   "outputs": [],
   "source": [
    "data = sio.loadmat('../Datasets/kuramoto_sivishinky.mat')\n",
    "x = data['x'].real.reshape(-1, 1)"
   ]
  },
  {
   "cell_type": "code",
   "execution_count": 3,
   "id": "712e1c7c",
   "metadata": {},
   "outputs": [],
   "source": [
    "un = np.load(\"../KS_exp/denoised_u_files/KS_noise30_reduced_dctV2ksvdreg_25x25.npy\")\n",
    "# un = data['uu']"
   ]
  },
  {
   "cell_type": "code",
   "execution_count": 4,
   "id": "186cb1db",
   "metadata": {},
   "outputs": [],
   "source": [
    "from gplearn.genetic import SymbolicRegressor"
   ]
  },
  {
   "cell_type": "code",
   "execution_count": 5,
   "id": "d0ae6ced",
   "metadata": {},
   "outputs": [],
   "source": [
    "est_gp = SymbolicRegressor(population_size=40000, \n",
    "                           generations=20, \n",
    "                           function_set=('add', 'mul', 'sin', 'cos'), \n",
    "                           parsimony_coefficient=0.001, \n",
    "                           stopping_criteria=0.01, p_crossover=0.7, \n",
    "                           p_subtree_mutation=0.1, p_hoist_mutation=0.05, \n",
    "                           p_point_mutation=0.1, max_samples=0.95, \n",
    "                           verbose=1)"
   ]
  },
  {
   "cell_type": "code",
   "execution_count": 6,
   "id": "eda6b050",
   "metadata": {},
   "outputs": [
    {
     "name": "stderr",
     "output_type": "stream",
     "text": [
      "/Users/pongpisit/anaconda3/envs/pysr_latest/lib/python3.11/site-packages/sklearn/utils/validation.py:1143: DataConversionWarning: A column-vector y was passed when a 1d array was expected. Please change the shape of y to (n_samples, ), for example using ravel().\n",
      "  y = column_or_1d(y, warn=True)\n"
     ]
    },
    {
     "name": "stdout",
     "output_type": "stream",
     "text": [
      "    |   Population Average    |             Best Individual              |\n",
      "---- ------------------------- ------------------------------------------ ----------\n",
      " Gen   Length          Fitness   Length          Fitness      OOB Fitness  Time Left\n",
      "   0    15.74      5.37021e+09       14         0.319386         0.312717      8.19m\n",
      "   1    13.46          16420.7       26         0.266492         0.291499      7.67m\n",
      "   2    10.20           1216.6       18         0.225038         0.226971      6.91m\n",
      "   3    14.72           42.464       32         0.126201         0.119123      7.27m\n",
      "   4    10.99            60675       23         0.100031        0.0872337      6.15m\n",
      "   5    11.97          800.942       23         0.101357         0.090402      5.75m\n",
      "   6    22.57          18.6696       14        0.0930985        0.0969137      6.80m\n",
      "   7    24.07          15.1002       17        0.0781978        0.0818926      5.86m\n",
      "   8    24.57          799.382       17        0.0734352        0.0799617      5.42m\n",
      "   9    24.36          206.481       17        0.0719147         0.108383      5.03m\n",
      "  10    20.89          72368.3       31        0.0719135        0.0728368      4.32m\n",
      "  11    18.14          609.432       14        0.0706063        0.0782738      3.74m\n",
      "  12    16.64          43.9823       14        0.0702103        0.0810118      3.54m\n",
      "  13    15.52          66153.2       13        0.0696475         0.085289      3.05m\n",
      "  14    14.42          7350.74       13        0.0694305        0.0878302      2.52m\n",
      "  15    13.53          1667.33       14        0.0693061        0.0901874      1.96m\n",
      "  16    12.78          594.041       13        0.0691511        0.0999856      1.44m\n",
      "  17    12.18          2102.69       12        0.0691752        0.0925751     58.74s\n",
      "  18    11.97          1879.62       12        0.0690132        0.0956026     27.60s\n",
      "  19    11.97      1.05758e+06       12        0.0690146        0.0955772      0.00s\n"
     ]
    },
    {
     "data": {
      "text/html": [
       "<style>#sk-container-id-1 {color: black;background-color: white;}#sk-container-id-1 pre{padding: 0;}#sk-container-id-1 div.sk-toggleable {background-color: white;}#sk-container-id-1 label.sk-toggleable__label {cursor: pointer;display: block;width: 100%;margin-bottom: 0;padding: 0.3em;box-sizing: border-box;text-align: center;}#sk-container-id-1 label.sk-toggleable__label-arrow:before {content: \"▸\";float: left;margin-right: 0.25em;color: #696969;}#sk-container-id-1 label.sk-toggleable__label-arrow:hover:before {color: black;}#sk-container-id-1 div.sk-estimator:hover label.sk-toggleable__label-arrow:before {color: black;}#sk-container-id-1 div.sk-toggleable__content {max-height: 0;max-width: 0;overflow: hidden;text-align: left;background-color: #f0f8ff;}#sk-container-id-1 div.sk-toggleable__content pre {margin: 0.2em;color: black;border-radius: 0.25em;background-color: #f0f8ff;}#sk-container-id-1 input.sk-toggleable__control:checked~div.sk-toggleable__content {max-height: 200px;max-width: 100%;overflow: auto;}#sk-container-id-1 input.sk-toggleable__control:checked~label.sk-toggleable__label-arrow:before {content: \"▾\";}#sk-container-id-1 div.sk-estimator input.sk-toggleable__control:checked~label.sk-toggleable__label {background-color: #d4ebff;}#sk-container-id-1 div.sk-label input.sk-toggleable__control:checked~label.sk-toggleable__label {background-color: #d4ebff;}#sk-container-id-1 input.sk-hidden--visually {border: 0;clip: rect(1px 1px 1px 1px);clip: rect(1px, 1px, 1px, 1px);height: 1px;margin: -1px;overflow: hidden;padding: 0;position: absolute;width: 1px;}#sk-container-id-1 div.sk-estimator {font-family: monospace;background-color: #f0f8ff;border: 1px dotted black;border-radius: 0.25em;box-sizing: border-box;margin-bottom: 0.5em;}#sk-container-id-1 div.sk-estimator:hover {background-color: #d4ebff;}#sk-container-id-1 div.sk-parallel-item::after {content: \"\";width: 100%;border-bottom: 1px solid gray;flex-grow: 1;}#sk-container-id-1 div.sk-label:hover label.sk-toggleable__label {background-color: #d4ebff;}#sk-container-id-1 div.sk-serial::before {content: \"\";position: absolute;border-left: 1px solid gray;box-sizing: border-box;top: 0;bottom: 0;left: 50%;z-index: 0;}#sk-container-id-1 div.sk-serial {display: flex;flex-direction: column;align-items: center;background-color: white;padding-right: 0.2em;padding-left: 0.2em;position: relative;}#sk-container-id-1 div.sk-item {position: relative;z-index: 1;}#sk-container-id-1 div.sk-parallel {display: flex;align-items: stretch;justify-content: center;background-color: white;position: relative;}#sk-container-id-1 div.sk-item::before, #sk-container-id-1 div.sk-parallel-item::before {content: \"\";position: absolute;border-left: 1px solid gray;box-sizing: border-box;top: 0;bottom: 0;left: 50%;z-index: -1;}#sk-container-id-1 div.sk-parallel-item {display: flex;flex-direction: column;z-index: 1;position: relative;background-color: white;}#sk-container-id-1 div.sk-parallel-item:first-child::after {align-self: flex-end;width: 50%;}#sk-container-id-1 div.sk-parallel-item:last-child::after {align-self: flex-start;width: 50%;}#sk-container-id-1 div.sk-parallel-item:only-child::after {width: 0;}#sk-container-id-1 div.sk-dashed-wrapped {border: 1px dashed gray;margin: 0 0.4em 0.5em 0.4em;box-sizing: border-box;padding-bottom: 0.4em;background-color: white;}#sk-container-id-1 div.sk-label label {font-family: monospace;font-weight: bold;display: inline-block;line-height: 1.2em;}#sk-container-id-1 div.sk-label-container {text-align: center;}#sk-container-id-1 div.sk-container {/* jupyter's `normalize.less` sets `[hidden] { display: none; }` but bootstrap.min.css set `[hidden] { display: none !important; }` so we also need the `!important` here to be able to override the default hidden behavior on the sphinx rendered scikit-learn.org. See: https://github.com/scikit-learn/scikit-learn/issues/21755 */display: inline-block !important;position: relative;}#sk-container-id-1 div.sk-text-repr-fallback {display: none;}</style><div id=\"sk-container-id-1\" class=\"sk-top-container\"><div class=\"sk-text-repr-fallback\"><pre>mul(cos(mul(0.063, X0)), add(cos(0.170), sin(mul(0.063, X0))))</pre><b>In a Jupyter environment, please rerun this cell to show the HTML representation or trust the notebook. <br />On GitHub, the HTML representation is unable to render, please try loading this page with nbviewer.org.</b></div><div class=\"sk-container\" hidden><div class=\"sk-item\"><div class=\"sk-estimator sk-toggleable\"><input class=\"sk-toggleable__control sk-hidden--visually\" id=\"sk-estimator-id-1\" type=\"checkbox\" checked><label for=\"sk-estimator-id-1\" class=\"sk-toggleable__label sk-toggleable__label-arrow\">SymbolicRegressor</label><div class=\"sk-toggleable__content\"><pre>mul(cos(mul(0.063, X0)), add(cos(0.170), sin(mul(0.063, X0))))</pre></div></div></div></div></div>"
      ],
      "text/plain": [
       "SymbolicRegressor(function_set=('add', 'mul', 'sin', 'cos'), max_samples=0.95,\n",
       "                  p_crossover=0.7, p_hoist_mutation=0.05, p_point_mutation=0.1,\n",
       "                  p_subtree_mutation=0.1, population_size=40000,\n",
       "                  stopping_criteria=0.01, verbose=1)"
      ]
     },
     "execution_count": 6,
     "metadata": {},
     "output_type": "execute_result"
    }
   ],
   "source": [
    "est_gp.fit(x, un[:, 0:1])"
   ]
  },
  {
   "cell_type": "code",
   "execution_count": 7,
   "id": "bb4e5edf",
   "metadata": {},
   "outputs": [
    {
     "name": "stdout",
     "output_type": "stream",
     "text": [
      "mul(cos(mul(0.063, X0)), add(cos(0.170), sin(mul(0.063, X0))))\n"
     ]
    }
   ],
   "source": [
    "print(est_gp._program)"
   ]
  },
  {
   "cell_type": "code",
   "execution_count": 22,
   "id": "e8d70793",
   "metadata": {},
   "outputs": [],
   "source": [
    "import pickle\n",
    "with open('gp_model.pkl', 'wb') as f: pickle.dump(est_gp, f)"
   ]
  },
  {
   "cell_type": "code",
   "execution_count": null,
   "id": "10a26ad4",
   "metadata": {},
   "outputs": [],
   "source": []
  }
 ],
 "metadata": {
  "kernelspec": {
   "display_name": "Python [conda env:pysr_latest]",
   "language": "python",
   "name": "conda-env-pysr_latest-py"
  },
  "language_info": {
   "codemirror_mode": {
    "name": "ipython",
    "version": 3
   },
   "file_extension": ".py",
   "mimetype": "text/x-python",
   "name": "python",
   "nbconvert_exporter": "python",
   "pygments_lexer": "ipython3",
   "version": "3.11.3"
  }
 },
 "nbformat": 4,
 "nbformat_minor": 5
}
