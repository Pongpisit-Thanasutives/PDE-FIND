{
 "cells": [
  {
   "cell_type": "code",
   "execution_count": 1,
   "id": "0c2c30f1",
   "metadata": {},
   "outputs": [
    {
     "name": "stdout",
     "output_type": "stream",
     "text": [
      "%pylab is deprecated, use %matplotlib inline and import the required libraries.\n",
      "Populating the interactive namespace from numpy and matplotlib\n",
      "Sklearn's version: 1.2.2\n",
      "mrmr is not installed in the env you are using. This may cause an error in future if you try to use the (missing) lib.\n"
     ]
    }
   ],
   "source": [
    "%load_ext autoreload\n",
    "%autoreload 2\n",
    "%pylab inline\n",
    "pylab.rcParams['figure.figsize'] = (12, 8)\n",
    "import sys; sys.path.append('../')\n",
    "import sys; sys.path.append('../../parametric-discovery/')\n",
    "\n",
    "import matplotlib.pyplot as plt\n",
    "import numpy as np\n",
    "from scipy.integrate import solve_ivp\n",
    "from sklearn.linear_model import Lasso\n",
    "from scipy.io import loadmat\n",
    "from sklearn.metrics import mean_squared_error\n",
    "from pysindy.utils.odes import lorenz\n",
    "\n",
    "import pysindy as ps\n",
    "\n",
    "# Ignore matplotlib deprecation warnings\n",
    "import warnings\n",
    "\n",
    "warnings.filterwarnings(\"ignore\", category=UserWarning)\n",
    "warnings.filterwarnings(\"ignore\", category=FutureWarning)\n",
    "\n",
    "# Seed the random number generators for reproducibility\n",
    "np.random.seed(100)\n",
    "\n",
    "# integration keywords for solve_ivp, typically needed for chaotic systems\n",
    "integrator_keywords = {}\n",
    "integrator_keywords[\"rtol\"] = 1e-12\n",
    "integrator_keywords[\"method\"] = \"LSODA\"\n",
    "integrator_keywords[\"atol\"] = 1e-12\n",
    "\n",
    "from solvel0 import solvel0\n",
    "from best_subset import *\n",
    "from UBIC import *"
   ]
  },
  {
   "cell_type": "code",
   "execution_count": 2,
   "id": "c1170e93",
   "metadata": {},
   "outputs": [],
   "source": [
    "# Generate measurement data\n",
    "dt = 1e-4\n",
    "t_train = np.arange(0, 10, dt)\n",
    "t_train_span = (t_train[0], t_train[-1])\n",
    "u0_train = [-8, 8, 27]\n",
    "u_train = solve_ivp(lorenz, t_train_span, u0_train, t_eval=t_train, **integrator_keywords).y.T"
   ]
  },
  {
   "cell_type": "code",
   "execution_count": 3,
   "id": "c05a3328",
   "metadata": {},
   "outputs": [],
   "source": [
    "# (x0)' = -10.000 x0 + 10.000 x1 -> (0, 1)\n",
    "# (x1)' = 28.000 x0 + -1.000 x1 + -1.000 x0x2 -> (0, 1, 7)\n",
    "# (x2)' = -2.667 x2 + 1.000 x0x1 -> (2, 6)\n",
    "\n",
    "# Define weak form ODE library\n",
    "# defaults to derivative_order = 0 if not specified,\n",
    "# and if spatial_grid is not specified, defaults to None,\n",
    "# which allows weak form ODEs.\n",
    "library_functions = [lambda x: x, lambda x: x * x, lambda x, y: x * y]\n",
    "library_function_names = [lambda x: x, lambda x: x + x, lambda x, y: x + y]\n",
    "ode_lib = ps.WeakPDELibrary(\n",
    "    library_functions=library_functions,\n",
    "    function_names=library_function_names,\n",
    "    spatiotemporal_grid=t_train,\n",
    "    is_uniform=True,\n",
    "    K=10000,\n",
    "    cache=True\n",
    ")\n",
    "\n",
    "# Instantiate and fit the SINDy model with the integral of u_dot\n",
    "# optimizer = ps.SR3(threshold=0.05, thresholder=\"l0\", max_iter=1000, normalize_columns=True, tol=1e-1)\n",
    "# model = ps.SINDy(feature_library=ode_lib, optimizer=optimizer, cache=True)\n",
    "# model.fit(u_train)\n",
    "# model.print()"
   ]
  },
  {
   "cell_type": "code",
   "execution_count": 4,
   "id": "aba1e3e7",
   "metadata": {},
   "outputs": [],
   "source": [
    "# X_pre, y_pre = model.feature_library.cached_xp_full[0], model.cached_x_dot\n",
    "# np.save(\"X_pre_t=10_dt=1e-4.npy\", X_pre)\n",
    "# np.save(\"y_pre_t=10_dt=1e-4.npy\", y_pre)\n",
    "feature_names = ['x0', 'x1', 'x2', 'x0x0', 'x1x1', 'x2x2', 'x0x1', 'x0x2', 'x1x2']\n",
    "X_pre = np.load(\"X_pre_t=10_dt=1e-4.npy\")\n",
    "y_pre = np.load(\"y_pre_t=10_dt=1e-4.npy\")"
   ]
  },
  {
   "cell_type": "code",
   "execution_count": 5,
   "id": "28585421",
   "metadata": {},
   "outputs": [
    {
     "name": "stderr",
     "output_type": "stream",
     "text": [
      "\r",
      "  0%|                                                                                             | 0/9 [00:00<?, ?it/s]"
     ]
    },
    {
     "name": "stdout",
     "output_type": "stream",
     "text": [
      "Set parameter Username\n",
      "Academic license - for non-commercial use only - expires 2024-06-04\n"
     ]
    },
    {
     "name": "stderr",
     "output_type": "stream",
     "text": [
      "100%|█████████████████████████████████████████████████████████████████████████████████████| 9/9 [00:00<00:00, 14.10it/s]\n"
     ]
    },
    {
     "name": "stdout",
     "output_type": "stream",
     "text": [
      "Call backward_refinement...\n"
     ]
    },
    {
     "name": "stderr",
     "output_type": "stream",
     "text": [
      "100%|█████████████████████████████████████████████████████████████████████████████████████| 9/9 [00:00<00:00, 23.67it/s]\n"
     ]
    },
    {
     "name": "stdout",
     "output_type": "stream",
     "text": [
      "Call backward_refinement...\n"
     ]
    },
    {
     "name": "stderr",
     "output_type": "stream",
     "text": [
      "100%|█████████████████████████████████████████████████████████████████████████████████████| 9/9 [00:00<00:00, 10.13it/s]\n"
     ]
    },
    {
     "name": "stdout",
     "output_type": "stream",
     "text": [
      "Call backward_refinement...\n"
     ]
    },
    {
     "data": {
      "text/plain": [
       "([(1,),\n",
       "  (0, 1),\n",
       "  (0, 1, 4),\n",
       "  (0, 1, 4, 6),\n",
       "  (0, 1, 3, 4, 6),\n",
       "  (0, 1, 2, 3, 4, 6),\n",
       "  (0, 1, 2, 3, 4, 5, 6),\n",
       "  (0, 1, 2, 3, 4, 5, 6, 8),\n",
       "  (0, 1, 2, 3, 4, 5, 6, 7, 8)],\n",
       " [(7,),\n",
       "  (0, 7),\n",
       "  (0, 1, 7),\n",
       "  (0, 1, 4, 7),\n",
       "  (0, 1, 4, 6, 7),\n",
       "  (0, 1, 3, 4, 6, 7),\n",
       "  (0, 1, 3, 4, 5, 6, 7),\n",
       "  (0, 1, 2, 3, 4, 5, 6, 7),\n",
       "  (0, 1, 2, 3, 4, 5, 6, 7, 8)],\n",
       " [(4,),\n",
       "  (2, 6),\n",
       "  (2, 4, 6),\n",
       "  (1, 2, 6, 8),\n",
       "  (1, 2, 6, 7, 8),\n",
       "  (0, 1, 2, 6, 7, 8),\n",
       "  (0, 1, 2, 4, 6, 7, 8),\n",
       "  (0, 1, 2, 4, 5, 6, 7, 8),\n",
       "  (0, 1, 2, 3, 4, 5, 6, 7, 8)])"
      ]
     },
     "execution_count": 5,
     "metadata": {},
     "output_type": "execute_result"
    }
   ],
   "source": [
    "solve_grb_x = solvel0(X_pre, y_pre[:, 0:1], \n",
    "                    intercept=False, refine=True, \n",
    "                    max_complexity=X_pre.shape[-1])\n",
    "\n",
    "solve_grb_y = solvel0(X_pre, y_pre[:, 1:2], \n",
    "                    intercept=False, refine=True, \n",
    "                    max_complexity=X_pre.shape[-1])\n",
    "\n",
    "solve_grb_z = solvel0(X_pre, y_pre[:, 2:3], \n",
    "                    intercept=False, refine=True, \n",
    "                    max_complexity=X_pre.shape[-1])\n",
    "\n",
    "solve_grb_x, solve_grb_y, solve_grb_z"
   ]
  },
  {
   "cell_type": "code",
   "execution_count": 6,
   "id": "2268c6ed",
   "metadata": {},
   "outputs": [
    {
     "name": "stderr",
     "output_type": "stream",
     "text": [
      "100%|█████████████████████████████████████████████████████████████████████████████████████| 9/9 [00:00<00:00, 26.77it/s]\n",
      "100%|█████████████████████████████████████████████████████████████████████████████████████| 9/9 [00:00<00:00, 23.69it/s]\n",
      "100%|█████████████████████████████████████████████████████████████████████████████████████| 9/9 [00:00<00:00, 24.08it/s]\n"
     ]
    }
   ],
   "source": [
    "_, best_subsets_x = brute_force_all_subsets(X_pre, y_pre[:, 0:1], max_support_size=X_pre.shape[-1])\n",
    "_, best_subsets_y = brute_force_all_subsets(X_pre, y_pre[:, 1:2], max_support_size=X_pre.shape[-1])\n",
    "_, best_subsets_z = brute_force_all_subsets(X_pre, y_pre[:, 2:3], max_support_size=X_pre.shape[-1])"
   ]
  },
  {
   "cell_type": "code",
   "execution_count": 7,
   "id": "bec1d77c",
   "metadata": {
    "scrolled": true
   },
   "outputs": [
    {
     "name": "stdout",
     "output_type": "stream",
     "text": [
      "[1.68366938e+12 1.00000000e+00 1.00943827e+00 1.22662865e+00\n",
      " 1.42728553e+00 1.59431409e+00 3.16833227e+00 4.01975653e+00\n",
      " 9.06977860e+00]\n",
      "1\n",
      "2\n",
      "3\n",
      "4\n",
      "5\n",
      "6\n",
      "7\n",
      "8\n",
      "9\n",
      "max_lam: 4.708212949080992\n",
      "1 <---> 1 inf\n",
      "1 <---> 4 0.0006978687412800188\n"
     ]
    },
    {
     "data": {
      "text/plain": [
       "(3.1388086327,\n",
       " array([ 2.13472102e+16, -4.57744069e+05, -4.57668756e+05, -4.55598443e+05,\n",
       "        -4.53311405e+05, -4.51218213e+05, -4.31374147e+05, -4.17967253e+05,\n",
       "        -3.55713802e+05]),\n",
       " 1,\n",
       " 1)"
      ]
     },
     "execution_count": 7,
     "metadata": {},
     "output_type": "execute_result"
    }
   ],
   "source": [
    "tau = 3\n",
    "verbose = True\n",
    "\n",
    "post_means, b_bics, b_uns = baye_uncertainties(best_subsets_x, (X_pre, y_pre[:, 0:1]), u_type='cv1', take_sqrt=True)\n",
    "b_bics_x = b_bics\n",
    "b_uns_x = b_uns\n",
    "print(b_uns)\n",
    "per = 75\n",
    "b_bics = np.array(b_bics)\n",
    "max_complexity = len(b_bics)\n",
    "complexities = np.arange(max_complexity)+1\n",
    "d_complexities = complexities[decreasing_values_indices(b_bics)]\n",
    "d_bics = b_bics[decreasing_values_indices(b_bics)]\n",
    "thres = np.percentile(np.abs(np.diff(d_bics)/(np.diff(d_complexities)*d_bics[:-1])), per)\n",
    "\n",
    "predictions = X_pre@post_means\n",
    "lower_bounds = []\n",
    "for k, efi in enumerate(best_subsets_x):\n",
    "    assert len(efi) == np.count_nonzero(post_means[:, k:k+1])\n",
    "    com = len(efi); print(com)\n",
    "    lower_bound = 2*log_like_value(predictions[:, k:k+1], y_pre[:, 0:1])/np.log(len(y_pre))-com\n",
    "    lower_bounds.append(lower_bound)\n",
    "\n",
    "last_lam = np.log10(max(lower_bounds/b_uns))\n",
    "print(\"max_lam:\", last_lam)\n",
    "delta = last_lam/tau\n",
    "now_lam = last_lam-delta\n",
    "last_ubic = UBIC(b_bics, b_uns, len(y_pre), hyp=10**last_lam)\n",
    "last_bc = np.argmin(last_ubic)\n",
    "while now_lam > 0:\n",
    "    now_lam = last_lam-delta\n",
    "    now_ubic = UBIC(b_bics, b_uns, len(y_pre), hyp=10**now_lam)\n",
    "    now_bc = np.argmin(now_ubic)\n",
    "    \n",
    "    diff_com = now_bc-last_bc\n",
    "    diff_bic = b_bics[now_bc]-b_bics[last_bc]\n",
    "    \n",
    "    imp = np.nan\n",
    "    if diff_com > 0:\n",
    "        imp = abs(diff_bic/(b_bics[last_bc]*diff_com))\n",
    "    \n",
    "    if verbose:\n",
    "        print(min(last_bc, now_bc), '<--->', max(last_bc, now_bc), \n",
    "              np.nan_to_num(imp, nan=np.inf))\n",
    "    \n",
    "    if (diff_com > 0 and (diff_bic > 0 or imp < thres)) or \\\n",
    "        (diff_com < 0 and diff_bic > 0 and imp > thres):\n",
    "        break\n",
    "    \n",
    "    last_lam = now_lam\n",
    "    now_lam = last_lam-delta\n",
    "    last_ubic = now_ubic\n",
    "    last_bc = now_bc\n",
    "\n",
    "best_bc = last_bc\n",
    "if abs((b_bics[last_bc]-b_bics[last_bc-1])/b_bics[last_bc-1]) < thres:\n",
    "    best_bc = best_bc - 1\n",
    "    \n",
    "last_lam = round(last_lam, 10)\n",
    "last_lam_x, last_ubic_x, best_bc_x = last_lam, last_ubic, best_bc\n",
    "last_lam, last_ubic, last_bc, best_bc"
   ]
  },
  {
   "cell_type": "code",
   "execution_count": 8,
   "id": "cb5be560",
   "metadata": {},
   "outputs": [
    {
     "name": "stdout",
     "output_type": "stream",
     "text": [
      "[1.67773524e+11 2.70720933e+09 1.00000000e+00 1.01303317e+00\n",
      " 1.05754846e+00 1.09487610e+00 1.13215884e+00 1.46926500e+00\n",
      " 1.89128992e+00]\n",
      "1\n",
      "2\n",
      "3\n",
      "4\n",
      "5\n",
      "6\n",
      "7\n",
      "8\n",
      "9\n",
      "max_lam: 4.691414439031231\n",
      "2 <---> 2 inf\n",
      "2 <---> 6 0.0002518926425308762\n"
     ]
    },
    {
     "data": {
      "text/plain": [
       "(3.127609626,\n",
       " array([ 2.07304501e+15,  3.34508489e+13, -4.40218344e+05, -4.40118061e+05,\n",
       "        -4.39740255e+05, -4.39402697e+05, -4.39041362e+05, -4.34966441e+05,\n",
       "        -4.29726075e+05]),\n",
       " 2,\n",
       " 2)"
      ]
     },
     "execution_count": 8,
     "metadata": {},
     "output_type": "execute_result"
    }
   ],
   "source": [
    "tau = 3\n",
    "verbose = True\n",
    "\n",
    "post_means, b_bics, b_uns = baye_uncertainties(best_subsets_y, (X_pre, y_pre[:, 1:2]), u_type='cv1', take_sqrt=True)\n",
    "b_bics_y = b_bics\n",
    "b_uns_y = b_uns\n",
    "print(b_uns)\n",
    "per = 75\n",
    "b_bics = np.array(b_bics)\n",
    "max_complexity = len(b_bics)\n",
    "complexities = np.arange(max_complexity)+1\n",
    "d_complexities = complexities[decreasing_values_indices(b_bics)]\n",
    "d_bics = b_bics[decreasing_values_indices(b_bics)]\n",
    "thres = np.percentile(np.abs(np.diff(d_bics)/(np.diff(d_complexities)*d_bics[:-1])), per)\n",
    "\n",
    "predictions = X_pre@post_means\n",
    "lower_bounds = []\n",
    "for k, efi in enumerate(best_subsets_y):\n",
    "    assert len(efi) == np.count_nonzero(post_means[:, k:k+1])\n",
    "    com = len(efi); print(com)\n",
    "    lower_bound = 2*log_like_value(predictions[:, k:k+1], y_pre[:, 1:2])/np.log(len(y_pre))-com\n",
    "    lower_bounds.append(lower_bound)\n",
    "\n",
    "last_lam = np.log10(max(lower_bounds/b_uns))\n",
    "print(\"max_lam:\", last_lam)\n",
    "delta = last_lam/tau\n",
    "now_lam = last_lam-delta\n",
    "last_ubic = UBIC(b_bics, b_uns, len(y_pre), hyp=10**last_lam)\n",
    "last_bc = np.argmin(last_ubic)\n",
    "while now_lam > 0:\n",
    "    now_lam = last_lam-delta\n",
    "    now_ubic = UBIC(b_bics, b_uns, len(y_pre), hyp=10**now_lam)\n",
    "    now_bc = np.argmin(now_ubic)\n",
    "    \n",
    "    diff_com = now_bc-last_bc\n",
    "    diff_bic = b_bics[now_bc]-b_bics[last_bc]\n",
    "    \n",
    "    imp = np.nan\n",
    "    if diff_com > 0:\n",
    "        imp = abs(diff_bic/(b_bics[last_bc]*diff_com))\n",
    "    \n",
    "    if verbose:\n",
    "        print(min(last_bc, now_bc), '<--->', max(last_bc, now_bc), \n",
    "              np.nan_to_num(imp, nan=np.inf))\n",
    "    \n",
    "    if (diff_com > 0 and (diff_bic > 0 or imp < thres)) or \\\n",
    "        (diff_com < 0 and diff_bic > 0 and imp > thres):\n",
    "        break\n",
    "    \n",
    "    last_lam = now_lam\n",
    "    now_lam = last_lam-delta\n",
    "    last_ubic = now_ubic\n",
    "    last_bc = now_bc\n",
    "\n",
    "best_bc = last_bc\n",
    "if abs((b_bics[last_bc]-b_bics[last_bc-1])/b_bics[last_bc-1]) < thres:\n",
    "    best_bc = best_bc - 1\n",
    "    \n",
    "last_lam = round(last_lam, 10)\n",
    "last_lam_y, last_ubic_y, best_bc_y = last_lam, last_ubic, best_bc\n",
    "last_lam, last_ubic, last_bc, best_bc"
   ]
  },
  {
   "cell_type": "code",
   "execution_count": 9,
   "id": "e9abbbba",
   "metadata": {},
   "outputs": [
    {
     "name": "stdout",
     "output_type": "stream",
     "text": [
      "[3.24621224e+11 1.00000000e+00 2.48894076e+00 8.81959935e+00\n",
      " 1.04455813e+01 4.78699111e+01 4.85877985e+01 5.04767219e+01\n",
      " 6.33063689e+01]\n",
      "1\n",
      "2\n",
      "3\n",
      "4\n",
      "5\n",
      "6\n",
      "7\n",
      "8\n",
      "9\n",
      "max_lam: 4.679134711039617\n",
      "1 <---> 1 inf\n",
      "1 <---> 1 inf\n"
     ]
    },
    {
     "data": {
      "text/plain": [
       "(1.5597115703,\n",
       " array([ 1.08483618e+14, -4.39622989e+05, -4.39412253e+05, -4.37509493e+05,\n",
       "        -4.37831668e+05, -4.26014609e+05, -4.26128432e+05, -4.25508086e+05,\n",
       "        -4.19717078e+05]),\n",
       " 1,\n",
       " 1)"
      ]
     },
     "execution_count": 9,
     "metadata": {},
     "output_type": "execute_result"
    }
   ],
   "source": [
    "tau = 3\n",
    "verbose = True\n",
    "\n",
    "post_means, b_bics, b_uns = baye_uncertainties(best_subsets_z, (X_pre, y_pre[:, 2:3]), u_type='cv1', take_sqrt=True)\n",
    "b_bics_z = b_bics\n",
    "b_uns_z = b_uns\n",
    "print(b_uns)\n",
    "per = 75\n",
    "b_bics = np.array(b_bics)\n",
    "max_complexity = len(b_bics)\n",
    "complexities = np.arange(max_complexity)+1\n",
    "d_complexities = complexities[decreasing_values_indices(b_bics)]\n",
    "d_bics = b_bics[decreasing_values_indices(b_bics)]\n",
    "thres = np.percentile(np.abs(np.diff(d_bics)/(np.diff(d_complexities)*d_bics[:-1])), per)\n",
    "\n",
    "predictions = X_pre@post_means\n",
    "lower_bounds = []\n",
    "for k, efi in enumerate(best_subsets_z):\n",
    "    assert len(efi) == np.count_nonzero(post_means[:, k:k+1])\n",
    "    com = len(efi); print(com)\n",
    "    lower_bound = 2*log_like_value(predictions[:, k:k+1], y_pre[:, 2:3])/np.log(len(y_pre))-com\n",
    "    lower_bounds.append(lower_bound)\n",
    "\n",
    "last_lam = np.log10(max(lower_bounds/b_uns))\n",
    "print(\"max_lam:\", last_lam)\n",
    "delta = last_lam/tau\n",
    "now_lam = last_lam-delta\n",
    "last_ubic = UBIC(b_bics, b_uns, len(y_pre), hyp=10**last_lam)\n",
    "last_bc = np.argmin(last_ubic)\n",
    "while now_lam > 0:\n",
    "    now_lam = last_lam-delta\n",
    "    now_ubic = UBIC(b_bics, b_uns, len(y_pre), hyp=10**now_lam)\n",
    "    now_bc = np.argmin(now_ubic)\n",
    "    \n",
    "    diff_com = now_bc-last_bc\n",
    "    diff_bic = b_bics[now_bc]-b_bics[last_bc]\n",
    "    \n",
    "    imp = np.nan\n",
    "    if diff_com > 0:\n",
    "        imp = abs(diff_bic/(b_bics[last_bc]*diff_com))\n",
    "    \n",
    "    if verbose:\n",
    "        print(min(last_bc, now_bc), '<--->', max(last_bc, now_bc), \n",
    "              np.nan_to_num(imp, nan=np.inf))\n",
    "    \n",
    "    if (diff_com > 0 and (diff_bic > 0 or imp < thres)) or \\\n",
    "        (diff_com < 0 and diff_bic > 0 and imp > thres):\n",
    "        break\n",
    "    \n",
    "    last_lam = now_lam\n",
    "    now_lam = last_lam-delta\n",
    "    last_ubic = now_ubic\n",
    "    last_bc = now_bc\n",
    "\n",
    "best_bc = last_bc\n",
    "if abs((b_bics[last_bc]-b_bics[last_bc-1])/b_bics[last_bc-1]) < thres:\n",
    "    best_bc = best_bc - 1\n",
    "    \n",
    "last_lam = round(last_lam, 10)\n",
    "last_lam_z, last_ubic_z, best_bc_z = last_lam, last_ubic, best_bc\n",
    "last_lam, last_ubic, last_bc, best_bc"
   ]
  },
  {
   "cell_type": "code",
   "execution_count": 10,
   "id": "b65418f1",
   "metadata": {},
   "outputs": [
    {
     "name": "stdout",
     "output_type": "stream",
     "text": [
      "Target: x_{t}\n"
     ]
    },
    {
     "data": {
      "image/png": "[encoded data removed]",
      "text/plain": [
       "<Figure size 252x189 with 2 Axes>"
      ]
     },
     "metadata": {
      "needs_background": "light"
     },
     "output_type": "display_data"
    }
   ],
   "source": [
    "print(\"Target: x_{t}\")\n",
    "complexity_axis = complexities\n",
    "with plt.style.context(['science']):\n",
    "    fig, ax = plt.subplots()\n",
    "    ax2 = ax.twinx()\n",
    "    ax.set_zorder(ax2.get_zorder()-1)\n",
    "    ax.patch.set_visible(False)\n",
    "    \n",
    "    l1, = ax.plot(complexity_axis, last_ubic_x, 'o-', c='black', markerfacecolor='none')\n",
    "    l2, = ax2.plot(complexity_axis, b_uns_x, '--', c='blue')\n",
    "    \n",
    "    ax.set_xticks(complexity_axis)\n",
    "    ax.set_ylabel(\"$\\\\textrm{UBIC}(\\\\xi^{k}, 10^{\\\\lambda})$\", fontsize=12)\n",
    "    ax.set_xlabel(\"Support sizes ($s_{k}$)\", fontsize=12)\n",
    "    \n",
    "    ax.annotate('$(x, y)\\checkmark$', fontsize=16, \n",
    "                 xy=(complexity_axis[best_bc_x], last_ubic_x[best_bc_x]), \n",
    "                 xytext=(complexity_axis[best_bc_x]+1, last_ubic_x[best_bc_x]+0.75e16), \n",
    "                 arrowprops={'arrowstyle': '->'})\n",
    "    \n",
    "    s1 = ax2.scatter(complexity_axis[np.argmin(b_uns_x)], b_uns_x[np.argmin(b_uns_x)], c='blue')\n",
    "    ax2.tick_params(axis='y', labelcolor='blue')\n",
    "\n",
    "    ax.legend([l1, l2, s1], [f\"UBIC with $\\lambda = {round(last_lam_x, 2)}$\", \"Uncertainty $\\\\textrm{U}^{k}$\", \"Min $\\\\textrm{U}^{k}$\"], \n",
    "              labelcolor='linecolor', loc='upper center', fontsize=12)\n",
    "    \n",
    "    fig.savefig(\"x_t.pdf\")\n",
    "    plt.show()"
   ]
  },
  {
   "cell_type": "code",
   "execution_count": 11,
   "id": "8af12987",
   "metadata": {},
   "outputs": [
    {
     "name": "stdout",
     "output_type": "stream",
     "text": [
      "Target: y_{t}\n"
     ]
    },
    {
     "data": {
      "image/png": "[encoded data removed]",
      "text/plain": [
       "<Figure size 252x189 with 2 Axes>"
      ]
     },
     "metadata": {
      "needs_background": "light"
     },
     "output_type": "display_data"
    }
   ],
   "source": [
    "print(\"Target: y_{t}\")\n",
    "complexity_axis = complexities\n",
    "with plt.style.context(['science']):\n",
    "    fig, ax = plt.subplots()\n",
    "    ax2 = ax.twinx()\n",
    "    ax.set_zorder(ax2.get_zorder()-1)\n",
    "    ax.patch.set_visible(False)\n",
    "    \n",
    "    l1, = ax.plot(complexity_axis, last_ubic_y, 'o-', c='black', markerfacecolor='none')\n",
    "    l2, = ax2.plot(complexity_axis, b_uns_y, '--', c='blue')\n",
    "\n",
    "    ax.set_xticks(complexity_axis)\n",
    "    ax.set_ylabel(\"$\\\\textrm{UBIC}(\\\\xi^{k}, 10^{\\\\lambda})$\", fontsize=12)\n",
    "    ax.set_xlabel(\"Support sizes ($s_{k}$)\", fontsize=12)\n",
    "    \n",
    "    ax.annotate('$(x, y, xz)\\checkmark$', fontsize=16, \n",
    "                 xy=(complexity_axis[best_bc_y], last_ubic_y[best_bc_y]), \n",
    "                 xytext=(complexity_axis[best_bc_y]+1, last_ubic_y[best_bc_y]+0.75e15), \n",
    "                 arrowprops={'arrowstyle': '->'})\n",
    "    \n",
    "    s1 = ax2.scatter(complexity_axis[np.argmin(b_uns_y)], b_uns_y[np.argmin(b_uns_y)], c='blue')\n",
    "    ax2.tick_params(axis='y', labelcolor='blue')\n",
    "\n",
    "    ax.legend([l1, l2, s1], [f\"UBIC with $\\lambda = {round(last_lam_y, 2)}$\", \"Uncertainty $\\\\textrm{U}^{k}$\", \"Min $\\\\textrm{U}^{k}$\"], \n",
    "              labelcolor='linecolor', loc='upper center', fontsize=12)\n",
    "    \n",
    "    fig.savefig(\"y_t.pdf\")\n",
    "    plt.show()"
   ]
  },
  {
   "cell_type": "code",
   "execution_count": 12,
   "id": "2bab2c51",
   "metadata": {},
   "outputs": [
    {
     "name": "stdout",
     "output_type": "stream",
     "text": [
      "Target: z_{t}\n"
     ]
    },
    {
     "data": {
      "image/png": "[encoded data removed]",
      "text/plain": [
       "<Figure size 252x189 with 2 Axes>"
      ]
     },
     "metadata": {
      "needs_background": "light"
     },
     "output_type": "display_data"
    }
   ],
   "source": [
    "print(\"Target: z_{t}\")\n",
    "complexity_axis = complexities\n",
    "with plt.style.context(['science']):\n",
    "    fig, ax = plt.subplots()\n",
    "    ax2 = ax.twinx()\n",
    "    ax.set_zorder(ax2.get_zorder()-1)\n",
    "    ax.patch.set_visible(False)\n",
    "    \n",
    "    l1, = ax.plot(complexity_axis, last_ubic_z, 'o-', c='black', markerfacecolor='none')\n",
    "    l2, = ax2.plot(complexity_axis, b_uns_z, '--', c='blue')\n",
    "\n",
    "    ax.set_xticks(complexity_axis)\n",
    "    ax.set_ylabel(\"$\\\\textrm{UBIC}(\\\\xi^{k}, 10^{\\\\lambda})$\", fontsize=12)\n",
    "    ax.set_xlabel(\"Support sizes ($s_{k}$)\", fontsize=12)\n",
    "    \n",
    "    ax.annotate('$(z, xy)\\checkmark$', fontsize=16, \n",
    "                 xy=(complexity_axis[best_bc_z], last_ubic_z[best_bc_z]), \n",
    "                 xytext=(complexity_axis[best_bc_z]+1, last_ubic_z[best_bc_z]+0.4e14), \n",
    "                 arrowprops={'arrowstyle': '->'})\n",
    "    \n",
    "    s1 = ax2.scatter(complexity_axis[np.argmin(b_uns_z)], b_uns_z[np.argmin(b_uns_z)], c='blue')\n",
    "    ax2.tick_params(axis='y', labelcolor='blue')\n",
    "\n",
    "    ax.legend([l1, l2, s1], [f\"UBIC with $\\lambda = {round(last_lam_z, 2)}$\", \"Uncertainty $\\\\textrm{U}^{k}$\", \"Min $\\\\textrm{U}^{k}$\"], \n",
    "              labelcolor='linecolor', loc='upper center', fontsize=12)\n",
    "    \n",
    "    fig.savefig(\"z_t.pdf\")\n",
    "    plt.show()"
   ]
  },
  {
   "cell_type": "code",
   "execution_count": null,
   "id": "70ea8f9d",
   "metadata": {},
   "outputs": [],
   "source": []
  },
  {
   "cell_type": "code",
   "execution_count": null,
   "id": "25b4f09c",
   "metadata": {},
   "outputs": [],
   "source": []
  }
 ],
 "metadata": {
  "kernelspec": {
   "display_name": "Python [conda env:pysr]",
   "language": "python",
   "name": "conda-env-pysr-py"
  },
  "language_info": {
   "codemirror_mode": {
    "name": "ipython",
    "version": 3
   },
   "file_extension": ".py",
   "mimetype": "text/x-python",
   "name": "python",
   "nbconvert_exporter": "python",
   "pygments_lexer": "ipython3",
   "version": "3.10.10"
  }
 },
 "nbformat": 4,
 "nbformat_minor": 5
}
