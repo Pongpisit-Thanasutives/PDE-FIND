{
 "cells": [
  {
   "cell_type": "code",
   "execution_count": 1,
   "id": "0c2c30f1",
   "metadata": {},
   "outputs": [
    {
     "name": "stdout",
     "output_type": "stream",
     "text": [
      "%pylab is deprecated, use %matplotlib inline and import the required libraries.\n",
      "Populating the interactive namespace from numpy and matplotlib\n",
      "Sklearn's version: 1.2.2\n",
      "mrmr is not installed in the env you are using. This may cause an error in future if you try to use the (missing) lib.\n"
     ]
    }
   ],
   "source": [
    "%load_ext autoreload\n",
    "%autoreload 2\n",
    "%pylab inline\n",
    "pylab.rcParams['figure.figsize'] = (12, 8)\n",
    "import sys; sys.path.append('../')\n",
    "import sys; sys.path.append('../../parametric-discovery/')\n",
    "\n",
    "import matplotlib.pyplot as plt\n",
    "import numpy as np\n",
    "from scipy.integrate import solve_ivp\n",
    "from sklearn.linear_model import Lasso\n",
    "from scipy.io import loadmat\n",
    "from sklearn.metrics import mean_squared_error\n",
    "from pysindy.utils.odes import lorenz\n",
    "\n",
    "import pysindy as ps\n",
    "\n",
    "# Ignore matplotlib deprecation warnings\n",
    "import warnings\n",
    "\n",
    "warnings.filterwarnings(\"ignore\", category=UserWarning)\n",
    "warnings.filterwarnings(\"ignore\", category=FutureWarning)\n",
    "\n",
    "# Seed the random number generators for reproducibility\n",
    "np.random.seed(100)\n",
    "\n",
    "# integration keywords for solve_ivp, typically needed for chaotic systems\n",
    "integrator_keywords = {}\n",
    "integrator_keywords[\"rtol\"] = 1e-12\n",
    "integrator_keywords[\"method\"] = \"LSODA\"\n",
    "integrator_keywords[\"atol\"] = 1e-12\n",
    "\n",
    "from solvel0 import solvel0\n",
    "from best_subset import *\n",
    "from UBIC import *\n",
    "from PDE_FIND_RUDY import TrainSTRidge as TrainSTRidgeRudy\n",
    "from sklearn.linear_model import Lasso, Ridge, ElasticNet, ARDRegression # Prefer ARDRegression"
   ]
  },
  {
   "cell_type": "code",
   "execution_count": 2,
   "id": "c1170e93",
   "metadata": {},
   "outputs": [],
   "source": [
    "# Generate measurement data\n",
    "dt = 1e-4\n",
    "t_train = np.arange(0, 20, dt)\n",
    "t_train_span = (t_train[0], t_train[-1])\n",
    "u0_train = [-8, 8, 27]\n",
    "u_train = solve_ivp(lorenz, t_train_span, u0_train, t_eval=t_train, **integrator_keywords).y.T"
   ]
  },
  {
   "cell_type": "code",
   "execution_count": 3,
   "id": "6b827adb",
   "metadata": {},
   "outputs": [],
   "source": [
    "noise_lv = 1\n",
    "u_train = u_train + 0.01*np.abs(noise_lv)*(u_train.std())*np.random.randn(u_train.shape[0], u_train.shape[1])"
   ]
  },
  {
   "cell_type": "code",
   "execution_count": 4,
   "id": "c05a3328",
   "metadata": {},
   "outputs": [],
   "source": [
    "# (x0)' = -10.000 x0 + 10.000 x1 -> (0, 1)\n",
    "# (x1)' = 28.000 x0 + -1.000 x1 + -1.000 x0x2 -> (0, 1, 7)\n",
    "# (x2)' = -2.667 x2 + 1.000 x0x1 -> (2, 6)\n",
    "\n",
    "# Define weak form ODE library\n",
    "# defaults to derivative_order = 0 if not specified,\n",
    "# and if spatial_grid is not specified, defaults to None,\n",
    "# which allows weak form ODEs.\n",
    "library_functions = [lambda x: x, lambda x: x * x, lambda x, y: x * y]\n",
    "library_function_names = [lambda x: x, lambda x: x + x, lambda x, y: x + y]\n",
    "ode_lib = ps.WeakPDELibrary(\n",
    "    library_functions=library_functions,\n",
    "    function_names=library_function_names,\n",
    "    spatiotemporal_grid=t_train,\n",
    "    is_uniform=True,\n",
    "    K=10000,\n",
    "    cache=True\n",
    ")"
   ]
  },
  {
   "cell_type": "code",
   "execution_count": 5,
   "id": "67341992",
   "metadata": {},
   "outputs": [],
   "source": [
    "# # Instantiate and fit the SINDy model with the integral of u_dot\n",
    "# optimizer = ps.SR3(threshold=0.05, thresholder=\"l0\", max_iter=1000, normalize_columns=True, tol=1e-1)\n",
    "# model = ps.SINDy(feature_library=ode_lib, optimizer=optimizer, cache=True)\n",
    "# model.fit(u_train)\n",
    "# model.print()\n",
    "\n",
    "# X_pre, y_pre = model.feature_library.cached_xp_full[0], model.cached_x_dot\n",
    "# # np.save(\"X_pre_t=20_dt=1e-4_noise1.npy\", X_pre)\n",
    "# # np.save(\"y_pre_t=20_dt=1e-4_noise1.npy\", y_pre)"
   ]
  },
  {
   "cell_type": "code",
   "execution_count": 6,
   "id": "aba1e3e7",
   "metadata": {},
   "outputs": [],
   "source": [
    "feature_names = ['x0', 'x1', 'x2', 'x0x0', 'x1x1', 'x2x2', 'x0x1', 'x0x2', 'x1x2']\n",
    "X_pre = np.load(\"X_pre_t=20_dt=1e-4_noise1.npy\")\n",
    "y_pre = np.load(\"y_pre_t=20_dt=1e-4_noise1.npy\")"
   ]
  },
  {
   "cell_type": "code",
   "execution_count": 7,
   "id": "28585421",
   "metadata": {},
   "outputs": [
    {
     "name": "stderr",
     "output_type": "stream",
     "text": [
      "\r",
      "  0%|                                                                                                                          | 0/9 [00:00<?, ?it/s]"
     ]
    },
    {
     "name": "stdout",
     "output_type": "stream",
     "text": [
      "Set parameter Username\n",
      "Academic license - for non-commercial use only - expires 2024-06-04\n"
     ]
    },
    {
     "name": "stderr",
     "output_type": "stream",
     "text": [
      "100%|██████████████████████████████████████████████████████████████████████████████████████████████████████████████████| 9/9 [00:00<00:00, 24.67it/s]\n"
     ]
    },
    {
     "name": "stdout",
     "output_type": "stream",
     "text": [
      "Call backward_refinement...\n"
     ]
    },
    {
     "name": "stderr",
     "output_type": "stream",
     "text": [
      "100%|██████████████████████████████████████████████████████████████████████████████████████████████████████████████████| 9/9 [00:00<00:00, 33.41it/s]\n"
     ]
    },
    {
     "name": "stdout",
     "output_type": "stream",
     "text": [
      "Call backward_refinement...\n"
     ]
    },
    {
     "name": "stderr",
     "output_type": "stream",
     "text": [
      "100%|██████████████████████████████████████████████████████████████████████████████████████████████████████████████████| 9/9 [00:00<00:00, 31.46it/s]\n"
     ]
    },
    {
     "name": "stdout",
     "output_type": "stream",
     "text": [
      "Call backward_refinement...\n"
     ]
    },
    {
     "data": {
      "text/plain": [
       "([(1,),\n",
       "  (0, 1),\n",
       "  (0, 1, 6),\n",
       "  (0, 1, 2, 3),\n",
       "  (0, 1, 2, 5, 6),\n",
       "  (0, 1, 2, 3, 5, 6),\n",
       "  (0, 1, 2, 3, 4, 5, 6),\n",
       "  (0, 1, 2, 3, 4, 5, 6, 8),\n",
       "  (0, 1, 2, 3, 4, 5, 6, 7, 8)],\n",
       " [(7,),\n",
       "  (0, 7),\n",
       "  (0, 1, 7),\n",
       "  (0, 1, 7, 8),\n",
       "  (0, 1, 6, 7, 8),\n",
       "  (0, 1, 3, 6, 7, 8),\n",
       "  (0, 1, 2, 5, 6, 7, 8),\n",
       "  (0, 1, 2, 3, 5, 6, 7, 8),\n",
       "  (0, 1, 2, 3, 4, 5, 6, 7, 8)],\n",
       " [(4,),\n",
       "  (2, 6),\n",
       "  (2, 4, 6),\n",
       "  (0, 2, 4, 6),\n",
       "  (0, 1, 2, 4, 6),\n",
       "  (0, 1, 2, 4, 6, 7),\n",
       "  (0, 1, 2, 3, 4, 6, 7),\n",
       "  (0, 1, 2, 3, 4, 6, 7, 8),\n",
       "  (0, 1, 2, 3, 4, 5, 6, 7, 8)])"
      ]
     },
     "execution_count": 7,
     "metadata": {},
     "output_type": "execute_result"
    }
   ],
   "source": [
    "solve_grb_x = solvel0(X_pre, y_pre[:, 0:1], \n",
    "                    intercept=False, refine=True, \n",
    "                    max_complexity=X_pre.shape[-1])\n",
    "\n",
    "solve_grb_y = solvel0(X_pre, y_pre[:, 1:2], \n",
    "                    intercept=False, refine=True, \n",
    "                    max_complexity=X_pre.shape[-1])\n",
    "\n",
    "solve_grb_z = solvel0(X_pre, y_pre[:, 2:3], \n",
    "                    intercept=False, refine=True, \n",
    "                    max_complexity=X_pre.shape[-1])\n",
    "\n",
    "solve_grb_x, solve_grb_y, solve_grb_z"
   ]
  },
  {
   "cell_type": "code",
   "execution_count": 8,
   "id": "2268c6ed",
   "metadata": {},
   "outputs": [
    {
     "name": "stderr",
     "output_type": "stream",
     "text": [
      "100%|██████████████████████████████████████████████████████████████████████████████████████████████████████████████████| 9/9 [00:00<00:00, 16.51it/s]\n",
      "100%|██████████████████████████████████████████████████████████████████████████████████████████████████████████████████| 9/9 [00:00<00:00, 17.60it/s]\n",
      "100%|██████████████████████████████████████████████████████████████████████████████████████████████████████████████████| 9/9 [00:00<00:00, 16.00it/s]\n"
     ]
    }
   ],
   "source": [
    "_, best_subsets_x = brute_force_all_subsets(X_pre, y_pre[:, 0:1], max_support_size=X_pre.shape[-1])\n",
    "_, best_subsets_y = brute_force_all_subsets(X_pre, y_pre[:, 1:2], max_support_size=X_pre.shape[-1])\n",
    "_, best_subsets_z = brute_force_all_subsets(X_pre, y_pre[:, 2:3], max_support_size=X_pre.shape[-1])"
   ]
  },
  {
   "cell_type": "code",
   "execution_count": 9,
   "id": "bec1d77c",
   "metadata": {
    "scrolled": true
   },
   "outputs": [
    {
     "name": "stdout",
     "output_type": "stream",
     "text": [
      "[3.91846012e+03 1.00393238e+00 1.00000000e+00 1.22322617e+00\n",
      " 1.48089923e+00 4.18656171e+00 4.45088594e+00 4.99983974e+00\n",
      " 1.14220234e+01]\n",
      "1\n",
      "2\n",
      "3\n",
      "4\n",
      "5\n",
      "6\n",
      "7\n",
      "8\n",
      "9\n",
      "max_lam: 3.8101036089246496\n",
      "2 <---> 3 0.04002697899658675\n",
      "3 <---> 7 0.007241740444095451\n"
     ]
    },
    {
     "data": {
      "text/plain": [
       "(2.5400690726,\n",
       " array([12584529.18826446,   -56056.92720556,   -56287.06837126,\n",
       "          -57954.91821499,   -57553.31543308,   -49577.46039849,\n",
       "          -49220.63294953,   -47684.09506908,   -27411.17044521]),\n",
       " 3,\n",
       " 3)"
      ]
     },
     "execution_count": 9,
     "metadata": {},
     "output_type": "execute_result"
    }
   ],
   "source": [
    "tau = 3\n",
    "verbose = True\n",
    "\n",
    "post_means, b_bics, b_uns = baye_uncertainties(best_subsets_x, (X_pre, y_pre[:, 0:1]), u_type='cv1', take_sqrt=True)\n",
    "b_bics_x = b_bics\n",
    "b_uns_x = b_uns\n",
    "print(b_uns)\n",
    "per = 75\n",
    "b_bics = np.array(b_bics)\n",
    "max_complexity = len(b_bics)\n",
    "complexities = np.arange(max_complexity)+1\n",
    "d_complexities = complexities[decreasing_values_indices(b_bics)]\n",
    "d_bics = b_bics[decreasing_values_indices(b_bics)]\n",
    "thres = np.percentile(np.abs(np.diff(d_bics)/(np.diff(d_complexities)*d_bics[:-1])), per)\n",
    "\n",
    "predictions = X_pre@post_means\n",
    "lower_bounds = []\n",
    "for k, efi in enumerate(best_subsets_x):\n",
    "    assert len(efi) == np.count_nonzero(post_means[:, k:k+1])\n",
    "    com = len(efi); print(com)\n",
    "    lower_bound = 2*log_like_value(predictions[:, k:k+1], y_pre[:, 0:1])/np.log(len(y_pre))-com\n",
    "    lower_bounds.append(lower_bound)\n",
    "\n",
    "last_lam = np.log10(max(lower_bounds/b_uns))\n",
    "print(\"max_lam:\", last_lam)\n",
    "delta = last_lam/tau\n",
    "now_lam = last_lam-delta\n",
    "last_ubic = UBIC(b_bics, b_uns, len(y_pre), hyp=10**last_lam)\n",
    "last_bc = np.argmin(last_ubic)\n",
    "while now_lam > 0:\n",
    "    now_ubic = UBIC(b_bics, b_uns, len(y_pre), hyp=10**now_lam)\n",
    "    now_bc = np.argmin(now_ubic)\n",
    "    \n",
    "    diff_com = now_bc-last_bc\n",
    "    diff_bic = b_bics[now_bc]-b_bics[last_bc]\n",
    "    \n",
    "    imp = np.nan\n",
    "    if diff_com > 0:\n",
    "        imp = abs(diff_bic/(b_bics[last_bc]*diff_com))\n",
    "    \n",
    "    if verbose:\n",
    "        print(min(last_bc, now_bc), '<--->', max(last_bc, now_bc), \n",
    "              np.nan_to_num(imp, nan=np.inf))\n",
    "    \n",
    "    if (diff_com > 0 and (diff_bic > 0 or imp < thres)) or \\\n",
    "        (diff_com < 0 and diff_bic > 0 and imp > thres):\n",
    "        break\n",
    "    \n",
    "    last_lam = now_lam\n",
    "    now_lam = last_lam-delta\n",
    "    last_ubic = now_ubic\n",
    "    last_bc = now_bc\n",
    "\n",
    "best_bc = last_bc\n",
    "if abs((b_bics[last_bc]-b_bics[last_bc-1])/b_bics[last_bc-1]) < thres:\n",
    "    best_bc = best_bc - 1\n",
    "    \n",
    "last_lam = round(last_lam, 10)\n",
    "last_lam_x, last_ubic_x, last_bc_x, best_bc_x = last_lam, last_ubic, last_bc, best_bc\n",
    "last_lam, last_ubic, last_bc, best_bc"
   ]
  },
  {
   "cell_type": "code",
   "execution_count": 10,
   "id": "cb5be560",
   "metadata": {},
   "outputs": [
    {
     "name": "stdout",
     "output_type": "stream",
     "text": [
      "[474.34161099   2.89030898   1.03564342   1.           1.00101436\n",
      "   1.03677872   1.07933257   1.49012614   1.57387916]\n",
      "1\n",
      "2\n",
      "3\n",
      "4\n",
      "5\n",
      "6\n",
      "7\n",
      "8\n",
      "9\n",
      "max_lam: 3.832182236900473\n",
      "4 <---> 4 inf\n",
      "4 <---> 4 inf\n"
     ]
    },
    {
     "data": {
      "text/plain": [
       "(1.277394079,\n",
       " array([152229.11069969,  -4122.91773729, -60914.21537496, -62271.54941533,\n",
       "        -62472.07736504, -62457.7441721 , -62443.10370463, -62371.62692975,\n",
       "        -62367.65488394]),\n",
       " 4,\n",
       " 3)"
      ]
     },
     "execution_count": 10,
     "metadata": {},
     "output_type": "execute_result"
    }
   ],
   "source": [
    "tau = 3\n",
    "verbose = True\n",
    "\n",
    "post_means, b_bics, b_uns = baye_uncertainties(best_subsets_y, (X_pre, y_pre[:, 1:2]), u_type='cv1', take_sqrt=True)\n",
    "b_bics_y = b_bics\n",
    "b_uns_y = b_uns\n",
    "print(b_uns)\n",
    "per = 75\n",
    "b_bics = np.array(b_bics)\n",
    "max_complexity = len(b_bics)\n",
    "complexities = np.arange(max_complexity)+1\n",
    "d_complexities = complexities[decreasing_values_indices(b_bics)]\n",
    "d_bics = b_bics[decreasing_values_indices(b_bics)]\n",
    "thres = np.percentile(np.abs(np.diff(d_bics)/(np.diff(d_complexities)*d_bics[:-1])), per)\n",
    "\n",
    "predictions = X_pre@post_means\n",
    "lower_bounds = []\n",
    "for k, efi in enumerate(best_subsets_y):\n",
    "    assert len(efi) == np.count_nonzero(post_means[:, k:k+1])\n",
    "    com = len(efi); print(com)\n",
    "    lower_bound = 2*log_like_value(predictions[:, k:k+1], y_pre[:, 1:2])/np.log(len(y_pre))-com\n",
    "    lower_bounds.append(lower_bound)\n",
    "\n",
    "last_lam = np.log10(max(lower_bounds/b_uns))\n",
    "print(\"max_lam:\", last_lam)\n",
    "delta = last_lam/tau\n",
    "now_lam = last_lam-delta\n",
    "last_ubic = UBIC(b_bics, b_uns, len(y_pre), hyp=10**last_lam)\n",
    "last_bc = np.argmin(last_ubic)\n",
    "while now_lam > 0:\n",
    "    now_ubic = UBIC(b_bics, b_uns, len(y_pre), hyp=10**now_lam)\n",
    "    now_bc = np.argmin(now_ubic)\n",
    "    \n",
    "    diff_com = now_bc-last_bc\n",
    "    diff_bic = b_bics[now_bc]-b_bics[last_bc]\n",
    "    \n",
    "    imp = np.nan\n",
    "    if diff_com > 0:\n",
    "        imp = abs(diff_bic/(b_bics[last_bc]*diff_com))\n",
    "    \n",
    "    if verbose:\n",
    "        print(min(last_bc, now_bc), '<--->', max(last_bc, now_bc), \n",
    "              np.nan_to_num(imp, nan=np.inf))\n",
    "    \n",
    "    if (diff_com > 0 and (diff_bic > 0 or imp < thres)) or \\\n",
    "        (diff_com < 0 and diff_bic > 0 and imp > thres):\n",
    "        break\n",
    "    \n",
    "    last_lam = now_lam\n",
    "    now_lam = last_lam-delta\n",
    "    last_ubic = now_ubic\n",
    "    last_bc = now_bc\n",
    "\n",
    "best_bc = last_bc\n",
    "if abs((b_bics[last_bc]-b_bics[last_bc-1])/b_bics[last_bc-1]) < thres:\n",
    "    best_bc = best_bc - 1\n",
    "    \n",
    "last_lam = round(last_lam, 10)\n",
    "last_lam_y, last_ubic_y, last_bc_y, best_bc_y = last_lam, last_ubic, last_bc, best_bc\n",
    "last_lam, last_ubic, last_bc, best_bc"
   ]
  },
  {
   "cell_type": "code",
   "execution_count": 11,
   "id": "e9abbbba",
   "metadata": {},
   "outputs": [
    {
     "name": "stdout",
     "output_type": "stream",
     "text": [
      "[3.25951926e+03 1.00000000e+00 1.59671566e+00 1.93053469e+00\n",
      " 3.21335894e+00 2.60175909e+01 2.85385782e+01 2.92896654e+01\n",
      " 3.81800540e+01]\n",
      "1\n",
      "2\n",
      "3\n",
      "4\n",
      "5\n",
      "6\n",
      "7\n",
      "8\n",
      "9\n",
      "max_lam: 3.8334296887888244\n",
      "1 <---> 1 inf\n",
      "1 <---> 3 0.007627479682302444\n"
     ]
    },
    {
     "data": {
      "text/plain": [
       "(2.5556197925,\n",
       " array([10847686.20148621,   -59452.72767893,   -58057.55267338,\n",
       "          -57329.62995483,   -53188.92415596,    21395.36714668,\n",
       "           29514.2339206 ,    31998.93063757,    61427.2850064 ]),\n",
       " 1,\n",
       " 1)"
      ]
     },
     "execution_count": 11,
     "metadata": {},
     "output_type": "execute_result"
    }
   ],
   "source": [
    "tau = 3\n",
    "verbose = True\n",
    "\n",
    "post_means, b_bics, b_uns = baye_uncertainties(best_subsets_z, (X_pre, y_pre[:, 2:3]), u_type='cv1', take_sqrt=True)\n",
    "b_bics_z = b_bics\n",
    "b_uns_z = b_uns\n",
    "print(b_uns)\n",
    "per = 75\n",
    "b_bics = np.array(b_bics)\n",
    "max_complexity = len(b_bics)\n",
    "complexities = np.arange(max_complexity)+1\n",
    "d_complexities = complexities[decreasing_values_indices(b_bics)]\n",
    "d_bics = b_bics[decreasing_values_indices(b_bics)]\n",
    "thres = np.percentile(np.abs(np.diff(d_bics)/(np.diff(d_complexities)*d_bics[:-1])), per)\n",
    "\n",
    "predictions = X_pre@post_means\n",
    "lower_bounds = []\n",
    "for k, efi in enumerate(best_subsets_z):\n",
    "    assert len(efi) == np.count_nonzero(post_means[:, k:k+1])\n",
    "    com = len(efi); print(com)\n",
    "    lower_bound = 2*log_like_value(predictions[:, k:k+1], y_pre[:, 2:3])/np.log(len(y_pre))-com\n",
    "    lower_bounds.append(lower_bound)\n",
    "\n",
    "last_lam = np.log10(max(lower_bounds/b_uns))\n",
    "print(\"max_lam:\", last_lam)\n",
    "delta = last_lam/tau\n",
    "now_lam = last_lam-delta\n",
    "last_ubic = UBIC(b_bics, b_uns, len(y_pre), hyp=10**last_lam)\n",
    "last_bc = np.argmin(last_ubic)\n",
    "while now_lam > 0:\n",
    "    now_ubic = UBIC(b_bics, b_uns, len(y_pre), hyp=10**now_lam)\n",
    "    now_bc = np.argmin(now_ubic)\n",
    "    \n",
    "    diff_com = now_bc-last_bc\n",
    "    diff_bic = b_bics[now_bc]-b_bics[last_bc]\n",
    "    \n",
    "    imp = np.nan\n",
    "    if diff_com > 0:\n",
    "        imp = abs(diff_bic/(b_bics[last_bc]*diff_com))\n",
    "    \n",
    "    if verbose:\n",
    "        print(min(last_bc, now_bc), '<--->', max(last_bc, now_bc), \n",
    "              np.nan_to_num(imp, nan=np.inf))\n",
    "    \n",
    "    if (diff_com > 0 and (diff_bic > 0 or imp < thres)) or \\\n",
    "        (diff_com < 0 and diff_bic > 0 and imp > thres):\n",
    "        break\n",
    "    \n",
    "    last_lam = now_lam\n",
    "    now_lam = last_lam-delta\n",
    "    last_ubic = now_ubic\n",
    "    last_bc = now_bc\n",
    "\n",
    "best_bc = last_bc\n",
    "if abs((b_bics[last_bc]-b_bics[last_bc-1])/b_bics[last_bc-1]) < thres:\n",
    "    best_bc = best_bc - 1\n",
    "    \n",
    "last_lam = round(last_lam, 10)\n",
    "last_lam_z, last_ubic_z, last_bc_z, best_bc_z = last_lam, last_ubic, last_bc, best_bc\n",
    "last_lam, last_ubic, last_bc, best_bc"
   ]
  },
  {
   "cell_type": "code",
   "execution_count": 12,
   "id": "70ea8f9d",
   "metadata": {},
   "outputs": [
    {
     "data": {
      "text/plain": [
       "array([[-2.66550793],\n",
       "       [ 0.99958622]])"
      ]
     },
     "execution_count": 12,
     "metadata": {},
     "output_type": "execute_result"
    }
   ],
   "source": [
    "np.linalg.lstsq(X_pre[:, best_subsets_z[best_bc]], y_pre[:, 2:3], rcond=None)[0]"
   ]
  },
  {
   "cell_type": "code",
   "execution_count": 13,
   "id": "0a7c9199",
   "metadata": {},
   "outputs": [
    {
     "name": "stdout",
     "output_type": "stream",
     "text": [
      "[-9.99801384  9.99873153  0.          0.        ]\n",
      "[28.00339253 -0.99662446  0.         -1.00023304  0.        ]\n",
      "[-2.66388308  0.99958858]\n"
     ]
    }
   ],
   "source": [
    "ard_x = ARDRegression()\n",
    "ard_x.fit(X_pre[:, best_subsets_x[last_bc_x]], y_pre[:, 0:1])\n",
    "print(ard_x.coef_)\n",
    "ard_y = ARDRegression()\n",
    "ard_y.fit(X_pre[:, best_subsets_y[last_bc_y]], y_pre[:, 1:2])\n",
    "print(ard_y.coef_)\n",
    "ard_z = ARDRegression()\n",
    "ard_z.fit(X_pre[:, best_subsets_z[last_bc_z]], y_pre[:, 2:3])\n",
    "print(ard_z.coef_)"
   ]
  },
  {
   "cell_type": "code",
   "execution_count": 14,
   "id": "6a623398",
   "metadata": {},
   "outputs": [],
   "source": [
    "# Algorithm 1\n",
    "# recursive call -> stop when we get the same selection result\n",
    "# also implement generalized ubic\n",
    "def ubic_auto_select(best_subsets, dataset, scale=None, thres=0.02, percent=None, tau=3, verbose=False):\n",
    "    if scale is None:\n",
    "        scale = np.log(len(dataset[-1]))\n",
    "        \n",
    "    post_means, b_bics, b_uns = baye_uncertainties(best_subsets, (dataset[0], dataset[-1]), u_type='cv1', take_sqrt=True)\n",
    "\n",
    "    b_bics = np.array(b_bics)\n",
    "    complexities = np.arange(len(b_bics))+1\n",
    "    d_complexities = complexities[decreasing_values_indices(b_bics)]\n",
    "    d_bics = b_bics[decreasing_values_indices(b_bics)]\n",
    "    \n",
    "    if percent is not None:\n",
    "        thres = np.percentile(np.abs(np.diff(d_bics)/(np.diff(d_complexities)*d_bics[:-1])), percent)\n",
    "\n",
    "    predictions = X_pre@post_means\n",
    "    lower_bounds = []\n",
    "    for k, efi in enumerate(best_subsets):\n",
    "        assert len(efi) == np.count_nonzero(post_means[:, k:k+1])\n",
    "        com = len(efi)\n",
    "        # lower_bound = 2*log_like_value(predictions[:, k:k+1], dataset[-1])/np.log(len(dataset[-1]))-com\n",
    "        lower_bound = 2*log_like_value(predictions[:, k:k+1], dataset[-1])-np.log(len(dataset[-1]))*com\n",
    "        lower_bounds.append(lower_bound)\n",
    "    # last_lam = np.log10(max(max(lower_bounds/b_uns)), 0)\n",
    "    last_lam = np.log10(max(max(lower_bounds/(b_uns*scale)), 0))\n",
    "    if verbose:\n",
    "        print(\"max_lam:\", last_lam)\n",
    "        \n",
    "    delta = last_lam/tau\n",
    "    now_lam = last_lam-delta\n",
    "    last_ubic = UBIC(b_bics, b_uns, len(y_pre), hyp=10**last_lam)\n",
    "    last_bc = np.argmin(last_ubic)\n",
    "    while now_lam > 0:\n",
    "        now_ubic = UBIC(b_bics, b_uns, len(y_pre), hyp=10**now_lam)\n",
    "        now_bc = np.argmin(now_ubic)\n",
    "\n",
    "        diff_com = now_bc-last_bc\n",
    "        diff_bic = b_bics[now_bc]-b_bics[last_bc]\n",
    "\n",
    "        imp = np.nan\n",
    "        if diff_com > 0:\n",
    "            imp = abs(diff_bic/(b_bics[last_bc]*diff_com))\n",
    "\n",
    "        if verbose:\n",
    "            print(min(last_bc, now_bc), '<--->', max(last_bc, now_bc), \n",
    "                  np.nan_to_num(imp, nan=np.inf))\n",
    "\n",
    "        if (diff_com > 0 and (diff_bic > 0 or imp < thres)) or \\\n",
    "            (diff_com < 0 and diff_bic > 0 and imp > thres):\n",
    "            break\n",
    "\n",
    "        last_lam = now_lam\n",
    "        now_lam = last_lam-delta\n",
    "        last_ubic = now_ubic\n",
    "        last_bc = now_bc\n",
    "\n",
    "    best_bc = last_bc\n",
    "    if abs((b_bics[last_bc]-b_bics[last_bc-1])/b_bics[last_bc-1]) < thres:\n",
    "        best_bc = best_bc - 1\n",
    "    last_lam = round(last_lam, 10)\n",
    "    \n",
    "    return last_lam, last_ubic, last_bc, best_bc"
   ]
  },
  {
   "cell_type": "code",
   "execution_count": 15,
   "id": "b22a8885",
   "metadata": {},
   "outputs": [
    {
     "name": "stdout",
     "output_type": "stream",
     "text": [
      "(3.182919526, array([ 5.50620923e+07, -4.51739273e+04, -4.54466969e+04, -4.46946922e+04,\n",
      "       -4.14998178e+04, -4.19357648e+03, -9.71376192e+02,  6.51602478e+03,\n",
      "        9.64078056e+04]), 2, 1)\n",
      "(0.0, array([104774.33370183, -59254.3133363 , -59471.93040575]), 2, 1)\n"
     ]
    }
   ],
   "source": [
    "best_index = len(best_subsets_x)\n",
    "while 1:\n",
    "    sel_res = ubic_auto_select(best_subsets_x[:best_index+1], \n",
    "                               dataset=(X_pre, y_pre[:, 0:1]), \n",
    "                               scale=1, \n",
    "                               percent=75)\n",
    "    print(sel_res)\n",
    "    index = sel_res[-2]\n",
    "    if best_index == 0 or index == best_index:\n",
    "        best_bc_x = best_index\n",
    "        break\n",
    "    else:\n",
    "        best_index = index"
   ]
  },
  {
   "cell_type": "code",
   "execution_count": 16,
   "id": "f701a6a9",
   "metadata": {},
   "outputs": [
    {
     "name": "stdout",
     "output_type": "stream",
     "text": [
      "max_lam: 4.796457916927898\n",
      "3 <---> 4 0.003214055473737109\n",
      "(4.7964579169, array([2.73486044e+08, 1.66138388e+06, 5.35863216e+05, 5.13966775e+05,\n",
      "       5.14350762e+05, 5.34973887e+05, 5.59509689e+05, 7.96296165e+05,\n",
      "       8.44561837e+05]), 3, 2)\n",
      "max_lam: 4.795504617258841\n",
      "3 <---> 3 inf\n",
      "3 <---> 3 inf\n",
      "(1.5985015391, array([242808.33539528,  -3570.9907292 , -60716.45119782, -62080.59162753]), 3, 2)\n"
     ]
    }
   ],
   "source": [
    "best_index = len(best_subsets_y)\n",
    "while 1:\n",
    "    sel_res = ubic_auto_select(best_subsets_y[:best_index+1], \n",
    "                               dataset=(X_pre, y_pre[:, 1:2]), \n",
    "                               scale=1, \n",
    "                               percent=75, verbose=True)\n",
    "    print(sel_res)\n",
    "    index = sel_res[-2]\n",
    "    if best_index == 0 or index == best_index:\n",
    "        best_bc_y = best_index\n",
    "        break\n",
    "    else:\n",
    "        best_index = index"
   ]
  },
  {
   "cell_type": "code",
   "execution_count": 17,
   "id": "690bc94c",
   "metadata": {},
   "outputs": [
    {
     "name": "stdout",
     "output_type": "stream",
     "text": [
      "max_lam: 4.796457916927898\n",
      "3 <---> 4 0.003214055473737109\n",
      "(4.7964579169, array([2.73486044e+08, 1.66138388e+06, 5.35863216e+05, 5.13966775e+05,\n",
      "       5.14350762e+05, 5.34973887e+05, 5.59509689e+05, 7.96296165e+05,\n",
      "       8.44561837e+05]), 3, 2)\n",
      "max_lam: 4.795504617258841\n",
      "3 <---> 3 inf\n",
      "3 <---> 3 inf\n",
      "(1.5985015391, array([242808.33539528,  -3570.9907292 , -60716.45119782, -62080.59162753]), 3, 2)\n"
     ]
    }
   ],
   "source": [
    "best_index = len(best_subsets_y)\n",
    "while 1:\n",
    "    sel_res = ubic_auto_select(best_subsets_y[:best_index+1], \n",
    "                               dataset=(X_pre, y_pre[:, 1:2]), \n",
    "                               scale=1, \n",
    "                               percent=75, verbose=True)\n",
    "    print(sel_res)\n",
    "    index = sel_res[-2]\n",
    "    if best_index == 0 or index == best_index:\n",
    "        best_bc_y = best_index\n",
    "        break\n",
    "    else:\n",
    "        best_index = index"
   ]
  },
  {
   "cell_type": "code",
   "execution_count": 18,
   "id": "d92bad0b",
   "metadata": {},
   "outputs": [
    {
     "name": "stdout",
     "output_type": "stream",
     "text": [
      "(3.1984702459, array([ 4.74702239e+07, -4.82171635e+04, -4.01175515e+04, -3.56389836e+04,\n",
      "       -1.70850237e+04,  3.13717679e+05,  3.50161260e+05,  3.61084845e+05,\n",
      "        4.90401730e+05]), 1, 1)\n",
      "(1.5992351229, array([1250066.66448899,  -62397.21696699]), 1, 1)\n"
     ]
    }
   ],
   "source": [
    "best_index = len(best_subsets_z)\n",
    "while 1:\n",
    "    sel_res = ubic_auto_select(best_subsets_z[:best_index+1], \n",
    "                               dataset=(X_pre, y_pre[:, 2:3]), \n",
    "                               scale=1, \n",
    "                               percent=75)\n",
    "    print(sel_res)\n",
    "    index = sel_res[-2]\n",
    "    if best_index == 0 or index == best_index:\n",
    "        best_bc_z = best_index\n",
    "        break\n",
    "    else:\n",
    "        best_index = index"
   ]
  },
  {
   "cell_type": "code",
   "execution_count": 19,
   "id": "540762a1",
   "metadata": {},
   "outputs": [
    {
     "name": "stdout",
     "output_type": "stream",
     "text": [
      "[-9.99801384  9.99873153  0.        ] (0, 1, 4)\n",
      "[28.00339252 -0.99662446 -1.00023304  0.        ] (0, 1, 7, 8)\n",
      "[-2.66388308  0.99958858] (2, 6)\n"
     ]
    }
   ],
   "source": [
    "threshold_lambda = 5e2 # 1e1, 1e2 , 1e3, 1e4, 1e5 -> find mode -> discovery | use 5e2 as default\n",
    "ard_x = ARDRegression(threshold_lambda=threshold_lambda, compute_score=True)\n",
    "ard_x.fit(X_pre[:, best_subsets_x[best_bc_x]], y_pre[:, 0:1])\n",
    "print(ard_x.coef_, best_subsets_x[best_bc_x])\n",
    "ard_y = ARDRegression(threshold_lambda=threshold_lambda, compute_score=True)\n",
    "ard_y.fit(X_pre[:, best_subsets_y[best_bc_y]], y_pre[:, 1:2])\n",
    "print(ard_y.coef_, best_subsets_y[best_bc_y])\n",
    "ard_z = ARDRegression(threshold_lambda=threshold_lambda, compute_score=True)\n",
    "ard_z.fit(X_pre[:, best_subsets_z[best_bc_z]], y_pre[:, 2:3])\n",
    "print(ard_z.coef_, best_subsets_z[best_bc_z])"
   ]
  },
  {
   "cell_type": "code",
   "execution_count": null,
   "id": "0d1eaba8",
   "metadata": {},
   "outputs": [],
   "source": []
  },
  {
   "cell_type": "code",
   "execution_count": null,
   "id": "bf46c3b7",
   "metadata": {},
   "outputs": [],
   "source": []
  }
 ],
 "metadata": {
  "kernelspec": {
   "display_name": "Python [conda env:pysr]",
   "language": "python",
   "name": "conda-env-pysr-py"
  },
  "language_info": {
   "codemirror_mode": {
    "name": "ipython",
    "version": 3
   },
   "file_extension": ".py",
   "mimetype": "text/x-python",
   "name": "python",
   "nbconvert_exporter": "python",
   "pygments_lexer": "ipython3",
   "version": "3.10.10"
  }
 },
 "nbformat": 4,
 "nbformat_minor": 5
}
