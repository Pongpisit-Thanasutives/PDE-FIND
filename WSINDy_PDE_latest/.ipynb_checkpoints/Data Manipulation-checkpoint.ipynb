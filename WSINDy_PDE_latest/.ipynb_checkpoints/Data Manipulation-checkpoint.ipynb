{
 "cells": [
  {
   "cell_type": "code",
   "execution_count": 1,
   "id": "5ae63de9",
   "metadata": {},
   "outputs": [],
   "source": [
    "import os\n",
    "import numpy as np\n",
    "from scipy.io import loadmat, savemat"
   ]
  },
  {
   "cell_type": "code",
   "execution_count": 2,
   "id": "77d4457d",
   "metadata": {},
   "outputs": [],
   "source": [
    "prediction_file = None; save = False; pde_name = \"burgers\"; noise_lv = 30\n",
    "data_path = \"./datasets/\""
   ]
  },
  {
   "cell_type": "code",
   "execution_count": 3,
   "id": "f647b6eb",
   "metadata": {},
   "outputs": [],
   "source": [
    "out_fname = f\"./datasets/burgers_noise{int(noise_lv)}.mat\" if prediction_file == None else ''"
   ]
  },
  {
   "cell_type": "code",
   "execution_count": 4,
   "id": "2159b2fb",
   "metadata": {},
   "outputs": [],
   "source": [
    "template = loadmat(f\"./datasets/{pde_name}.mat\")\n",
    "data = loadmat(\"../Datasets/burgers.mat\")\n",
    "template[\"xs\"][0, 0] = data[\"x\"]\n",
    "template[\"xs\"][0, 1] = data[\"t\"].reshape(1, -1)"
   ]
  },
  {
   "cell_type": "code",
   "execution_count": 5,
   "id": "b6c7ba7f",
   "metadata": {},
   "outputs": [],
   "source": [
    "if prediction_file is None:\n",
    "    u_clean = data[\"usol\"].real\n",
    "    np.random.seed(0)\n",
    "    un = u_clean + 0.01*np.abs(noise_lv)*(u_clean.std())*np.random.randn(u_clean.shape[0], \n",
    "                                                                         u_clean.shape[1])\n",
    "else:\n",
    "    un = np.load(prediction_file)\n",
    "    \n",
    "template[\"U_exact\"][0, 0] = un"
   ]
  },
  {
   "cell_type": "code",
   "execution_count": 6,
   "id": "3c1cc93d",
   "metadata": {},
   "outputs": [],
   "source": [
    "keep_keys = set({\"__header__\", \"__version__\"\", \"\"__globals__\", \n",
    "                 \"U_exact\", \"xs\", \"lhs\", \"tauhat\", \"tau\"})"
   ]
  },
  {
   "cell_type": "code",
   "execution_count": 7,
   "id": "fe53bd0a",
   "metadata": {},
   "outputs": [],
   "source": [
    "for k in template.copy().keys():\n",
    "    if k not in keep_keys:\n",
    "        template.pop(k)"
   ]
  },
  {
   "cell_type": "code",
   "execution_count": 8,
   "id": "b7f95869",
   "metadata": {},
   "outputs": [
    {
     "name": "stdout",
     "output_type": "stream",
     "text": [
      "not save\n"
     ]
    }
   ],
   "source": [
    "if save:\n",
    "    savemat(f\"./datasets/burgers_noise{int(noise_lv)}.mat\", template)\n",
    "    print(\"save\")\n",
    "else:\n",
    "    print(\"not save\")"
   ]
  },
  {
   "cell_type": "code",
   "execution_count": 9,
   "id": "ec629e3a",
   "metadata": {},
   "outputs": [],
   "source": [
    "# outputs = loadmat(\"./outputs/burgers_noise30_outputs.mat\")"
   ]
  },
  {
   "cell_type": "code",
   "execution_count": 10,
   "id": "cfd8a87b",
   "metadata": {},
   "outputs": [],
   "source": [
    "# ground_coeffs = np.array([0.1, -0.5*2])\n",
    "# est_coeffs = outputs[\"buffer_wsindy\"][0, 0]\n",
    "# est_coeffs = est_coeffs[np.abs(est_coeffs)>0]\n",
    "# est_coeffs[1] = 2*est_coeffs[1]"
   ]
  },
  {
   "cell_type": "code",
   "execution_count": 11,
   "id": "43bfba0a",
   "metadata": {},
   "outputs": [],
   "source": [
    "# (1.7287405220410654, 1.2283569619815957)\n",
    "# errs = np.abs(est_coeffs-ground_coeffs)/np.abs(ground_coeffs)\n",
    "# errs = 100*errs\n",
    "# errs.mean(), errs.std()"
   ]
  },
  {
   "cell_type": "code",
   "execution_count": null,
   "id": "24e96cff",
   "metadata": {},
   "outputs": [],
   "source": []
  }
 ],
 "metadata": {
  "kernelspec": {
   "display_name": "Python [conda env:pysr]",
   "language": "python",
   "name": "conda-env-pysr-py"
  },
  "language_info": {
   "codemirror_mode": {
    "name": "ipython",
    "version": 3
   },
   "file_extension": ".py",
   "mimetype": "text/x-python",
   "name": "python",
   "nbconvert_exporter": "python",
   "pygments_lexer": "ipython3",
   "version": "3.10.10"
  }
 },
 "nbformat": 4,
 "nbformat_minor": 5
}
