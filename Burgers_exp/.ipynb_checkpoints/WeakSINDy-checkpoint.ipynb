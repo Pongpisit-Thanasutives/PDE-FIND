{
 "cells": [
  {
   "cell_type": "code",
   "execution_count": 1,
   "id": "4755f258",
   "metadata": {},
   "outputs": [
    {
     "name": "stdout",
     "output_type": "stream",
     "text": [
      "True\n"
     ]
    }
   ],
   "source": [
    "%matplotlib inline\n",
    "import matplotlib.pyplot as plt\n",
    "import sys; sys.path.append('../')\n",
    "from solvel0 import solvel0, nplm\n",
    "from misc import h5file\n",
    "import itertools\n",
    "import numpy as np\n",
    "import statsmodels.api as sm\n",
    "print(sm.__version__ == '0.13.2')\n",
    "from scipy.io import loadmat, savemat\n",
    "\n",
    "def mplot(ics): \n",
    "    ic_coms = [i+1 for i in range(len(ics))] \n",
    "    plt.plot(ic_coms, ics)\n",
    "    plt.xticks(ic_coms)\n",
    "    plt.show()\n",
    "\n",
    "def percent_coeff_error(pred, ground):\n",
    "    print(\"Pred:\", pred)\n",
    "    print(\"Ground:\", ground)\n",
    "    errs = 100*np.abs(pred-ground)/np.abs(ground)\n",
    "    return errs.mean(), errs.std()\n",
    "\n",
    "def brute_force(X, y, support_size=1, include=(), top=1, alpha=0.0):\n",
    "    # assert X.dtype == y.dtype\n",
    "    y = y.ravel()\n",
    "    include = set(include)\n",
    "    n_features = X.shape[1]\n",
    "    selections = [sel for sel in itertools.combinations(range(n_features), support_size) if include.issubset(set(sel))]\n",
    "    scores = []\n",
    "    for sel in selections:\n",
    "        X_sel = X[:, sel]\n",
    "        w = np.linalg.lstsq(X_sel, y, rcond=None)[0]\n",
    "        # mse = ((X_sel@w-y)**2).mean()\n",
    "        mse = (np.linalg.norm(X_sel@w-y, ord=2))**2+(alpha*np.linalg.norm(w, ord=0)**2)\n",
    "        # ww = np.zeros(n_features).astype(X.dtype) # By this line, use .ravel() to y before calling the function.\n",
    "        ww = np.zeros(n_features) # By this line, use .ravel() to y before calling the function.\n",
    "        ww[list(sel)] = w\n",
    "        scores.append((mse, ww))\n",
    "    sorted_indices = np.argsort([mse for mse,w in scores])\n",
    "    scores = np.array(scores, dtype=object)[sorted_indices]\n",
    "    scores = [w for mse,w in scores]\n",
    "    return np.array(scores[:top]).T"
   ]
  },
  {
   "cell_type": "code",
   "execution_count": 2,
   "id": "38f7fbb0",
   "metadata": {},
   "outputs": [
    {
     "name": "stdout",
     "output_type": "stream",
     "text": [
      "['X_pre', 'best_subsets', 'un', 'y_pre']\n",
      "Pred: [ 0.10128807 -1.0053352 ]\n",
      "Ground: [0.1, -1]\n"
     ]
    },
    {
     "data": {
      "text/plain": [
       "(0.9107969701290103, 0.3772757947444888)"
      ]
     },
     "execution_count": 2,
     "metadata": {},
     "output_type": "execute_result"
    }
   ],
   "source": [
    "## Base from weak formulation X_pre, y_pre\n",
    "X_pre_path = './IPI_output_files/X_pre.npy'\n",
    "y_pre_path = './IPI_output_files/y_pre.npy'\n",
    "X_pre = np.load(X_pre_path)\n",
    "y_pre = np.load(y_pre_path)\n",
    "best_subsets = h5file('./IPI_output_files/PMS_data.h5')[1]\n",
    "percent_coeff_error(nplm(X_pre[:, (3, 4)], y_pre, rcond=None)[0].flatten(), \n",
    "                    [0.1, -1])"
   ]
  },
  {
   "cell_type": "markdown",
   "id": "32ce0573",
   "metadata": {},
   "source": [
    "## Eval"
   ]
  },
  {
   "cell_type": "code",
   "execution_count": 3,
   "id": "086ceb4a",
   "metadata": {},
   "outputs": [
    {
     "name": "stdout",
     "output_type": "stream",
     "text": [
      "Pred: [ 0.10246212 -1.00135279]\n",
      "Ground: [0.1, -1]\n"
     ]
    },
    {
     "data": {
      "text/plain": [
       "(1.2987012879195639, 1.163422058585091)"
      ]
     },
     "execution_count": 3,
     "metadata": {},
     "output_type": "execute_result"
    }
   ],
   "source": [
    "## Pred: [ 0.0970429  -0.99499616] | (1.7287405220410652, 1.2283569619815955)\n",
    "## out_data = loadmat(\"../WSINDy_PDE_latest/outputs/burgers_noise30_outputs.mat\")\n",
    "\n",
    "# Pred: [ 0.10246212 -1.00135279] | (1.2987012879195639, 1.163422058585091)\n",
    "# out_data = loadmat(\"../WSINDy_PDE_latest/outputs/burgers_noise30_ksvdreg_outputs.mat\")\n",
    "\n",
    "out_data = loadmat(\"../WSINDy_PDE_latest/outputs/burgers_noise30_ksvdreg_outputs.mat\")\n",
    "coeff = out_data[\"W\"]\n",
    "nz_coeff = coeff[np.abs(coeff)>0]\n",
    "nz_coeff[1] = nz_coeff[1]*2\n",
    "percent_coeff_error(nz_coeff, [0.1, -1])"
   ]
  },
  {
   "cell_type": "code",
   "execution_count": 4,
   "id": "7672954d",
   "metadata": {},
   "outputs": [
    {
     "name": "stdout",
     "output_type": "stream",
     "text": [
      "__header__, __version__, __globals__, Cfs_t, Cfs_x, ET_wsindy, G, M, M_full, Theta_pdx, Tps, U_exact, U_obs, W, axi, b, buffer_wsindy, coarsen_data, corners, custom_add, custom_remove, dW, dim, dims, dr, dt, dx, None, gamma, i, in_fname, its_all, k, lambda, lambda_hat, lhs, lhs_ind, lib_list, lib_list_G, lossvals, m, m_t, m_x, max_dt, max_dx, maxits, n, noise, noise_alg, noise_dist, nu_learned, oG, p_t, p_x, pdx_list, phi_class, plotgap, polys, pps, print_loc, ps, resid, rng_seed, s_t, s_x, scales, sig_est, sigma, sigma_NR, snr, sparsity_scale, str_wsindy, sub_inds, tags_pde, tags_pde_G, tau, tauhat, tauhat_inds, thrs_EL, toggle_plot_basis_fcn, toggle_plot_fft, toggle_plot_loss, toggle_plot_sol, toggle_scale, tols, trigs, true_nz_weights, use_all_dt, use_cross_dx, xs, xs_obs, __function_workspace__, "
     ]
    }
   ],
   "source": [
    "# import pprint\n",
    "# import sys; sys.displayhook = pprint.pprint\n",
    "# pprint.pprint(out_data.keys())\n",
    "for x in out_data.keys(): print(x, end=', ')"
   ]
  },
  {
   "cell_type": "code",
   "execution_count": 5,
   "id": "3fd11f03",
   "metadata": {},
   "outputs": [
    {
     "data": {
      "text/plain": [
       "['u^{1}_{}',\n",
       " 'u^{1}_{x}',\n",
       " 'u^{1}_{xx}',\n",
       " 'u^{1}_{xxx}',\n",
       " 'u^{1}_{xxxx}',\n",
       " 'u^{1}_{xxxxx}',\n",
       " 'u^{2}_{}',\n",
       " 'u^{2}_{x}',\n",
       " 'u^{2}_{xx}',\n",
       " 'u^{2}_{xxx}',\n",
       " 'u^{2}_{xxxx}',\n",
       " 'u^{2}_{xxxxx}']"
      ]
     },
     "execution_count": 5,
     "metadata": {},
     "output_type": "execute_result"
    }
   ],
   "source": [
    "feature_names = [str(out_data['tags_pde_G'][0][i][0]) \n",
    "                 for i in range(out_data['oG'].shape[-1])]\n",
    "feature_names = feature_names[1:]\n",
    "feature_names"
   ]
  },
  {
   "cell_type": "code",
   "execution_count": 6,
   "id": "d1880985",
   "metadata": {},
   "outputs": [
    {
     "name": "stdout",
     "output_type": "stream",
     "text": [
      "Set parameter Username\n",
      "Academic license - for non-commercial use only - expires 2024-06-04\n"
     ]
    },
    {
     "data": {
      "text/plain": [
       "[(7,),\n",
       " (2, 7),\n",
       " (0, 2, 7),\n",
       " (1, 2, 7, 9),\n",
       " (0, 1, 2, 7, 9),\n",
       " (0, 1, 2, 7, 8, 9),\n",
       " (0, 1, 2, 7, 8, 9, 11),\n",
       " (0, 1, 2, 6, 7, 8, 9, 11),\n",
       " (0, 1, 2, 5, 6, 7, 8, 9, 11),\n",
       " (0, 1, 2, 3, 5, 6, 7, 8, 9, 11),\n",
       " (0, 1, 2, 3, 5, 6, 7, 8, 9, 10, 11),\n",
       " (0, 1, 2, 3, 4, 5, 6, 7, 8, 9, 10, 11)]"
      ]
     },
     "execution_count": 6,
     "metadata": {},
     "output_type": "execute_result"
    }
   ],
   "source": [
    "X_cws = out_data['oG'][:, 1:]\n",
    "y_cws = out_data['b']\n",
    "grb_solve = solvel0(X_cws, out_data['b'], intercept=False)\n",
    "grb_solve"
   ]
  },
  {
   "cell_type": "code",
   "execution_count": 7,
   "id": "aa9986b1",
   "metadata": {},
   "outputs": [],
   "source": [
    "befi = np.hstack([brute_force(X_cws, y_cws, support_size=ss) \n",
    "                  for ss in range(1, X_cws.shape[-1])]).T"
   ]
  },
  {
   "cell_type": "code",
   "execution_count": 8,
   "id": "729851e5",
   "metadata": {},
   "outputs": [],
   "source": [
    "for e1, e2 in zip([tuple(np.where(np.abs(befi[ss])>0)[0]) for ss in range(len(befi))], \n",
    "                  grb_solve):\n",
    "    assert e1 == e2"
   ]
  },
  {
   "cell_type": "code",
   "execution_count": 9,
   "id": "8e0c26a7",
   "metadata": {},
   "outputs": [],
   "source": [
    "### Using statsmodels\n",
    "### Plot BICs for (X_pre, y_pre) and for (X_cws, y_cws)\n",
    "### Plot UBICs for (X_pre, y_pre) and for (X_cws, y_cws)"
   ]
  },
  {
   "cell_type": "code",
   "execution_count": 10,
   "id": "35f4badc",
   "metadata": {},
   "outputs": [
    {
     "name": "stdout",
     "output_type": "stream",
     "text": [
      "--- BICs ---\n",
      "5\n",
      "--- UBICs ---\n",
      "2\n",
      "2\n",
      "2\n"
     ]
    },
    {
     "data": {
      "image/png": "[encoded data removed]",
      "text/plain": [
       "<Figure size 432x288 with 1 Axes>"
      ]
     },
     "metadata": {
      "needs_background": "light"
     },
     "output_type": "display_data"
    }
   ],
   "source": [
    "uncerts = []\n",
    "BICs = []\n",
    "for efi in best_subsets:\n",
    "    efi = np.where(efi>0)[0].tolist()\n",
    "    res = sm.OLS(y_pre, X_pre[:, efi]).fit()\n",
    "    bic = res.bic\n",
    "    coeff = res.params\n",
    "    se = sum(res.bse)\n",
    "    uncerts.append(se)\n",
    "    BICs.append(bic)\n",
    "uncerts = np.array(uncerts)/np.min(uncerts)\n",
    "UBICs = BICs + np.log(len(y_pre))*(uncerts)\n",
    "UBIC10s = BICs + 10*np.log(len(y_pre))*(uncerts)\n",
    "UBIC100s = BICs + 100*np.log(len(y_pre))*(uncerts)\n",
    "print(\"--- BICs ---\")\n",
    "print(np.argmin(BICs)+1)\n",
    "print(\"--- UBICs ---\")\n",
    "print(np.argmin(UBICs)+1)\n",
    "print(np.argmin(UBIC10s)+1)\n",
    "print(np.argmin(UBIC100s)+1)\n",
    "mplot(BICs)"
   ]
  },
  {
   "cell_type": "code",
   "execution_count": 11,
   "id": "7aed3209",
   "metadata": {},
   "outputs": [
    {
     "name": "stdout",
     "output_type": "stream",
     "text": [
      "--- BICs --\n",
      "7\n",
      "--- UBICs --\n",
      "3\n",
      "2\n",
      "2\n"
     ]
    },
    {
     "data": {
      "image/png": "[encoded data removed]",
      "text/plain": [
       "<Figure size 432x288 with 1 Axes>"
      ]
     },
     "metadata": {
      "needs_background": "light"
     },
     "output_type": "display_data"
    }
   ],
   "source": [
    "uncerts = []\n",
    "BICs = []\n",
    "for efi in grb_solve:\n",
    "    res = sm.OLS(y_cws, X_cws[:,efi]).fit()\n",
    "    bic = res.bic\n",
    "    coeff = res.params\n",
    "    se = sum(res.bse)\n",
    "    uncerts.append(se)\n",
    "    BICs.append(bic)\n",
    "uncerts = np.array(uncerts)/np.min(uncerts)\n",
    "UBICs = BICs + np.log(len(y_cws))*(uncerts)\n",
    "UBIC10s = BICs + 10*np.log(len(y_cws))*(uncerts)\n",
    "UBIC100s = BICs + 100*np.log(len(y_cws))*(uncerts)\n",
    "print(\"--- BICs --\")\n",
    "print(np.argmin(BICs)+1)\n",
    "print(\"--- UBICs --\")\n",
    "print(np.argmin(UBICs)+1)\n",
    "print(np.argmin(UBIC10s)+1)\n",
    "print(np.argmin(UBIC100s)+1)\n",
    "mplot(BICs)"
   ]
  },
  {
   "cell_type": "code",
   "execution_count": null,
   "id": "a1686cab",
   "metadata": {},
   "outputs": [],
   "source": []
  },
  {
   "cell_type": "code",
   "execution_count": null,
   "id": "10e4fdd3",
   "metadata": {},
   "outputs": [],
   "source": []
  },
  {
   "cell_type": "markdown",
   "id": "0e5e1ec5",
   "metadata": {},
   "source": [
    "## Send data"
   ]
  },
  {
   "cell_type": "code",
   "execution_count": 3,
   "id": "2cc89a23",
   "metadata": {},
   "outputs": [],
   "source": [
    "savematlab = False"
   ]
  },
  {
   "cell_type": "code",
   "execution_count": 4,
   "id": "07a8a650",
   "metadata": {},
   "outputs": [],
   "source": [
    "### noise30 | ksvdreg ###\n",
    "denoising_mode = 'dctksvd_reg'\n",
    "n_components = 32\n",
    "smoother_name = 'none'\n",
    "transform_n_nonzero = \"_none\"\n",
    "un = np.load(f\"../RDAE_data/{denoising_mode}/{smoother_name}/transform_n_nonzero_coefs{transform_n_nonzero}/burgers_dictlearn_denoised30_components{n_components}_8x8.npy\")"
   ]
  },
  {
   "cell_type": "code",
   "execution_count": 5,
   "id": "54bea3f3",
   "metadata": {},
   "outputs": [],
   "source": [
    "template = loadmat(\"../WSINDy_PDE_latest/inputs/burgers_noise30.mat\")\n",
    "del template['tau'], template['tauhat']"
   ]
  },
  {
   "cell_type": "code",
   "execution_count": 6,
   "id": "54392a14",
   "metadata": {},
   "outputs": [],
   "source": [
    "put_xs0, put_xs1 = None, None\n",
    "assert template['U_exact'][0][0].shape == un.shape\n",
    "template['U_exact'][0][0] = un\n",
    "if put_xs0 is not None and put_xs1 is not None:\n",
    "    template['xs'][0][0] = put_xs0.reshape(1, -1)\n",
    "    template['xs'][0][1] = put_xs1.reshape(1, -1)"
   ]
  },
  {
   "cell_type": "code",
   "execution_count": 7,
   "id": "1286a18b",
   "metadata": {},
   "outputs": [],
   "source": [
    "if savematlab: savemat(\"../WSINDy_PDE_latest/inputs/burgers_noise30_ksvdreg.mat\", template)"
   ]
  }
 ],
 "metadata": {
  "kernelspec": {
   "display_name": "Python [conda env:pysr]",
   "language": "python",
   "name": "conda-env-pysr-py"
  },
  "language_info": {
   "codemirror_mode": {
    "name": "ipython",
    "version": 3
   },
   "file_extension": ".py",
   "mimetype": "text/x-python",
   "name": "python",
   "nbconvert_exporter": "python",
   "pygments_lexer": "ipython3",
   "version": "3.10.10"
  }
 },
 "nbformat": 4,
 "nbformat_minor": 5
}
