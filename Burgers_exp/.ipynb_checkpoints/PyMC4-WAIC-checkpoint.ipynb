{
 "cells": [
  {
   "cell_type": "code",
   "execution_count": 1,
   "id": "9fe367b2",
   "metadata": {},
   "outputs": [],
   "source": [
    "%matplotlib inline\n",
    "import matplotlib.pyplot as plt\n",
    "\n",
    "import random\n",
    "import arviz as az\n",
    "import pymc as pm\n",
    "import pymc.sampling.jax as pmjax\n",
    "import numpy as np\n",
    "\n",
    "import sys; sys.path.append('../')\n",
    "from misc import h5file\n",
    "import yaml"
   ]
  },
  {
   "cell_type": "code",
   "execution_count": 2,
   "id": "687af58d",
   "metadata": {},
   "outputs": [
    {
     "name": "stdout",
     "output_type": "stream",
     "text": [
      "['X_pre', 'best_subsets', 'un', 'y_pre']\n"
     ]
    },
    {
     "data": {
      "text/plain": [
       "['u*u_1',\n",
       " 'u_11+u*u_1',\n",
       " 'u_1+u_11+u*u_1',\n",
       " 'u_1+u_11+u*u_1+u*u*u_11',\n",
       " 'u+u*u+u_1+u_11+u*u_1',\n",
       " 'u+u*u+u_1+u_11+u*u_1+u*u*u_11',\n",
       " 'u+u*u+u_1+u_11+u*u_1+u*u_11+u*u*u_11',\n",
       " 'u+u*u+u_1+u_11+u*u_1+u*u*u_1+u*u_11+u*u*u_11']"
      ]
     },
     "execution_count": 2,
     "metadata": {},
     "output_type": "execute_result"
    }
   ],
   "source": [
    "noise_lv = 30\n",
    "fp1 = \"./IPI_output_files/PMS_data.h5\"\n",
    "fp2 = \"./IPI_output_files/encoded_pde_names.yaml\"\n",
    "X_pre, best_subsets, un, y_pre = h5file(file_path=fp1, mode='r', return_dict=False)\n",
    "\n",
    "with open(fp2, 'r') as f:\n",
    "    config = yaml.load(f, yaml.Loader)\n",
    "f.close()\n",
    "encoded_feature_names = config[\"encoded_feature_names\"]\n",
    "encoded_pde_names = config[\"encoded_pde_names\"]\n",
    "encoded_pde_names"
   ]
  },
  {
   "cell_type": "code",
   "execution_count": 3,
   "id": "8f98b776",
   "metadata": {},
   "outputs": [],
   "source": [
    "hie = [np.where(best_subsets[i]>0)[0].tolist() for i in range(best_subsets.shape[-1])][:5]"
   ]
  },
  {
   "cell_type": "code",
   "execution_count": 4,
   "id": "7c36702f",
   "metadata": {},
   "outputs": [
    {
     "name": "stdout",
     "output_type": "stream",
     "text": [
      "Compiling...\n",
      "Compilation time =  0:00:25.985452\n",
      "Sampling...\n",
      "Sampling time =  0:00:03.835431\n",
      "Transforming variables...\n",
      "Transformation time =  0:00:01.981832\n"
     ]
    },
    {
     "data": {
      "text/html": [
       "\n",
       "<style>\n",
       "    /* Turns off some styling */\n",
       "    progress {\n",
       "        /* gets rid of default border in Firefox and Opera. */\n",
       "        border: none;\n",
       "        /* Needs to be in here for Safari polyfill so background images work as expected. */\n",
       "        background-size: auto;\n",
       "    }\n",
       "    progress:not([value]), progress:not([value])::-webkit-progress-bar {\n",
       "        background: repeating-linear-gradient(45deg, #7e7e7e, #7e7e7e 10px, #5c5c5c 10px, #5c5c5c 20px);\n",
       "    }\n",
       "    .progress-bar-interrupted, .progress-bar-interrupted::-webkit-progress-bar {\n",
       "        background: #F44336;\n",
       "    }\n",
       "</style>\n"
      ],
      "text/plain": [
       "<IPython.core.display.HTML object>"
      ]
     },
     "metadata": {},
     "output_type": "display_data"
    },
    {
     "data": {
      "text/html": [
       "\n",
       "    <div>\n",
       "      <progress value='40000' class='' max='40000' style='width:300px; height:20px; vertical-align: middle;'></progress>\n",
       "      100.00% [40000/40000 00:04&lt;00:00]\n",
       "    </div>\n",
       "    "
      ],
      "text/plain": [
       "<IPython.core.display.HTML object>"
      ]
     },
     "metadata": {},
     "output_type": "display_data"
    },
    {
     "name": "stderr",
     "output_type": "stream",
     "text": [
      "Initializing SMC sampler...\n",
      "Sampling 4 chains in 4 jobs\n"
     ]
    },
    {
     "name": "stdout",
     "output_type": "stream",
     "text": [
      "    Computed from 40000 posterior samples and 10000 observations log-likelihood matrix.\n",
      "\n",
      "          Estimate       SE\n",
      "elpd_waic 32610.86   143.97\n",
      "p_waic        8.79        -\n",
      "Compiling...\n",
      "Compilation time =  0:00:04.208505\n",
      "Sampling...\n",
      "Sampling time =  0:00:04.830797\n",
      "Transforming variables...\n",
      "Transformation time =  0:00:06.548343\n"
     ]
    },
    {
     "data": {
      "text/html": [
       "\n",
       "<style>\n",
       "    /* Turns off some styling */\n",
       "    progress {\n",
       "        /* gets rid of default border in Firefox and Opera. */\n",
       "        border: none;\n",
       "        /* Needs to be in here for Safari polyfill so background images work as expected. */\n",
       "        background-size: auto;\n",
       "    }\n",
       "    progress:not([value]), progress:not([value])::-webkit-progress-bar {\n",
       "        background: repeating-linear-gradient(45deg, #7e7e7e, #7e7e7e 10px, #5c5c5c 10px, #5c5c5c 20px);\n",
       "    }\n",
       "    .progress-bar-interrupted, .progress-bar-interrupted::-webkit-progress-bar {\n",
       "        background: #F44336;\n",
       "    }\n",
       "</style>\n"
      ],
      "text/plain": [
       "<IPython.core.display.HTML object>"
      ]
     },
     "metadata": {},
     "output_type": "display_data"
    },
    {
     "data": {
      "text/html": [
       "\n",
       "    <div>\n",
       "      <progress value='40000' class='' max='40000' style='width:300px; height:20px; vertical-align: middle;'></progress>\n",
       "      100.00% [40000/40000 00:09&lt;00:00]\n",
       "    </div>\n",
       "    "
      ],
      "text/plain": [
       "<IPython.core.display.HTML object>"
      ]
     },
     "metadata": {},
     "output_type": "display_data"
    },
    {
     "name": "stderr",
     "output_type": "stream",
     "text": [
      "Initializing SMC sampler...\n",
      "Sampling 4 chains in 4 jobs\n"
     ]
    },
    {
     "name": "stdout",
     "output_type": "stream",
     "text": [
      "    Computed from 40000 posterior samples and 10000 observations log-likelihood matrix.\n",
      "\n",
      "          Estimate       SE\n",
      "elpd_waic 38725.61    72.22\n",
      "p_waic        3.66        -\n",
      "Compiling...\n",
      "Compilation time =  0:00:01.410039\n",
      "Sampling...\n",
      "Sampling time =  0:00:06.681365\n",
      "Transforming variables...\n",
      "Transformation time =  0:00:18.957248\n"
     ]
    },
    {
     "data": {
      "text/html": [
       "\n",
       "<style>\n",
       "    /* Turns off some styling */\n",
       "    progress {\n",
       "        /* gets rid of default border in Firefox and Opera. */\n",
       "        border: none;\n",
       "        /* Needs to be in here for Safari polyfill so background images work as expected. */\n",
       "        background-size: auto;\n",
       "    }\n",
       "    progress:not([value]), progress:not([value])::-webkit-progress-bar {\n",
       "        background: repeating-linear-gradient(45deg, #7e7e7e, #7e7e7e 10px, #5c5c5c 10px, #5c5c5c 20px);\n",
       "    }\n",
       "    .progress-bar-interrupted, .progress-bar-interrupted::-webkit-progress-bar {\n",
       "        background: #F44336;\n",
       "    }\n",
       "</style>\n"
      ],
      "text/plain": [
       "<IPython.core.display.HTML object>"
      ]
     },
     "metadata": {},
     "output_type": "display_data"
    },
    {
     "data": {
      "text/html": [
       "\n",
       "    <div>\n",
       "      <progress value='40000' class='' max='40000' style='width:300px; height:20px; vertical-align: middle;'></progress>\n",
       "      100.00% [40000/40000 00:10&lt;00:00]\n",
       "    </div>\n",
       "    "
      ],
      "text/plain": [
       "<IPython.core.display.HTML object>"
      ]
     },
     "metadata": {},
     "output_type": "display_data"
    },
    {
     "name": "stderr",
     "output_type": "stream",
     "text": [
      "Initializing SMC sampler...\n",
      "Sampling 4 chains in 4 jobs\n"
     ]
    },
    {
     "name": "stdout",
     "output_type": "stream",
     "text": [
      "    Computed from 40000 posterior samples and 10000 observations log-likelihood matrix.\n",
      "\n",
      "          Estimate       SE\n",
      "elpd_waic 38730.21    72.44\n",
      "p_waic        4.79        -\n"
     ]
    }
   ],
   "source": [
    "# Define the Bayesian linear regression model\n",
    "return_inferencedata = True\n",
    "init_sigma = 1\n",
    "init_beta = 1\n",
    "n_samples = 10000\n",
    "models = {}\n",
    "idatas = []\n",
    "for effective_indices in hie[:3]:\n",
    "    X_sup = X_pre[:, effective_indices]\n",
    "    y_sup = y_pre.ravel()\n",
    "    \n",
    "    np.random.seed(0)\n",
    "    with pm.Model() as model:\n",
    "        coeffs = pm.Normal('coeffs', mu=0, sigma=init_sigma, shape=X_sup.shape[-1])\n",
    "        sigma = pm.HalfCauchy('sigma', beta=init_beta)\n",
    "        mu = pm.math.dot(X_sup, coeffs)\n",
    "        likelihood = pm.Normal('y', mu=mu, sigma=sigma, observed=y_sup)\n",
    "\n",
    "        # Perform MCMC sampling\n",
    "        # trace = pm.sample(n_samples, tune=n_samples//2, chains=4, cores=4, return_inferencedata=return_inferencedata)\n",
    "        # trace = pmjax.sample_numpyro_nuts(n_samples, tune=n_samples//2, chains=4, cores=4, return_inferencedata=return_inferencedata)\n",
    "        trace = pmjax.sample_blackjax_nuts(n_samples, tune=n_samples//2, chains=4, cores=4, return_inferencedata=return_inferencedata)\n",
    "        pm.compute_log_likelihood(trace)\n",
    "        idata = pm.sample_smc(progressbar=False, cores=4)\n",
    "        idatas.append(idata)\n",
    "        \n",
    "        if return_inferencedata:\n",
    "            waic = az.waic(trace, pointwise=True); print(waic)\n",
    "            models[str(len(effective_indices))] = trace\n",
    "\n",
    "    if not return_inferencedata:\n",
    "        f_logp = pm.logp(pm.Normal.dist(), y_sup[:, None]-(X@trace['coeffs'].T))\n",
    "        f_logp = np.mean(f_logp.eval())\n",
    "\n",
    "        # k is the total number of estimated parameters\n",
    "        k = len(map_est[\"coeffs\"])\n",
    "        aic = -2*f_logp+2*k\n",
    "        bic = -2*f_logp+np.log(X_sup.shape[0])*k\n",
    "        print(\"BIC & AIC\")\n",
    "        print(bic, aic)"
   ]
  },
  {
   "cell_type": "code",
   "execution_count": null,
   "id": "dce12fa9",
   "metadata": {},
   "outputs": [],
   "source": []
  },
  {
   "cell_type": "code",
   "execution_count": null,
   "id": "3eb8f1fe",
   "metadata": {},
   "outputs": [],
   "source": []
  },
  {
   "cell_type": "code",
   "execution_count": null,
   "id": "a24e30f0",
   "metadata": {},
   "outputs": [],
   "source": []
  },
  {
   "cell_type": "code",
   "execution_count": null,
   "id": "3600ce16",
   "metadata": {},
   "outputs": [],
   "source": []
  },
  {
   "cell_type": "code",
   "execution_count": null,
   "id": "886a046f",
   "metadata": {},
   "outputs": [],
   "source": []
  },
  {
   "cell_type": "code",
   "execution_count": null,
   "id": "ba77dc5c",
   "metadata": {},
   "outputs": [],
   "source": []
  },
  {
   "cell_type": "code",
   "execution_count": null,
   "id": "eaa1497e",
   "metadata": {},
   "outputs": [],
   "source": []
  },
  {
   "cell_type": "code",
   "execution_count": null,
   "id": "e406db5c",
   "metadata": {},
   "outputs": [],
   "source": []
  },
  {
   "cell_type": "code",
   "execution_count": null,
   "id": "4d2516d1",
   "metadata": {},
   "outputs": [],
   "source": []
  },
  {
   "cell_type": "code",
   "execution_count": 4,
   "id": "e4fff00e",
   "metadata": {
    "scrolled": false
   },
   "outputs": [
    {
     "name": "stdout",
     "output_type": "stream",
     "text": [
      "Compiling...\n",
      "Compilation time =  0:00:01.243102\n",
      "Sampling...\n",
      "Sampling time =  0:00:03.818751\n",
      "Transforming variables...\n",
      "Transformation time =  0:00:02.027288\n"
     ]
    },
    {
     "data": {
      "text/html": [
       "\n",
       "<style>\n",
       "    /* Turns off some styling */\n",
       "    progress {\n",
       "        /* gets rid of default border in Firefox and Opera. */\n",
       "        border: none;\n",
       "        /* Needs to be in here for Safari polyfill so background images work as expected. */\n",
       "        background-size: auto;\n",
       "    }\n",
       "    progress:not([value]), progress:not([value])::-webkit-progress-bar {\n",
       "        background: repeating-linear-gradient(45deg, #7e7e7e, #7e7e7e 10px, #5c5c5c 10px, #5c5c5c 20px);\n",
       "    }\n",
       "    .progress-bar-interrupted, .progress-bar-interrupted::-webkit-progress-bar {\n",
       "        background: #F44336;\n",
       "    }\n",
       "</style>\n"
      ],
      "text/plain": [
       "<IPython.core.display.HTML object>"
      ]
     },
     "metadata": {},
     "output_type": "display_data"
    },
    {
     "data": {
      "text/html": [
       "\n",
       "    <div>\n",
       "      <progress value='40000' class='' max='40000' style='width:300px; height:20px; vertical-align: middle;'></progress>\n",
       "      100.00% [40000/40000 00:03&lt;00:00]\n",
       "    </div>\n",
       "    "
      ],
      "text/plain": [
       "<IPython.core.display.HTML object>"
      ]
     },
     "metadata": {},
     "output_type": "display_data"
    },
    {
     "name": "stderr",
     "output_type": "stream",
     "text": [
      "Initializing SMC sampler...\n",
      "Sampling 6 chains in 6 jobs\n"
     ]
    },
    {
     "name": "stdout",
     "output_type": "stream",
     "text": [
      "      Computed from 40000 posterior samples and 10000 observations log-likelihood matrix.\n",
      "\n",
      "          Estimate       SE\n",
      "elpd_waic 32610.78   144.00\n",
      "p_waic        8.91        -\n",
      "Compiling...\n",
      "Compilation time =  0:00:01.075480\n",
      "Sampling...\n",
      "Sampling time =  0:00:03.856517\n",
      "Transforming variables...\n",
      "Transformation time =  0:00:05.021556\n"
     ]
    },
    {
     "data": {
      "text/html": [
       "\n",
       "<style>\n",
       "    /* Turns off some styling */\n",
       "    progress {\n",
       "        /* gets rid of default border in Firefox and Opera. */\n",
       "        border: none;\n",
       "        /* Needs to be in here for Safari polyfill so background images work as expected. */\n",
       "        background-size: auto;\n",
       "    }\n",
       "    progress:not([value]), progress:not([value])::-webkit-progress-bar {\n",
       "        background: repeating-linear-gradient(45deg, #7e7e7e, #7e7e7e 10px, #5c5c5c 10px, #5c5c5c 20px);\n",
       "    }\n",
       "    .progress-bar-interrupted, .progress-bar-interrupted::-webkit-progress-bar {\n",
       "        background: #F44336;\n",
       "    }\n",
       "</style>\n"
      ],
      "text/plain": [
       "<IPython.core.display.HTML object>"
      ]
     },
     "metadata": {},
     "output_type": "display_data"
    },
    {
     "data": {
      "text/html": [
       "\n",
       "    <div>\n",
       "      <progress value='40000' class='' max='40000' style='width:300px; height:20px; vertical-align: middle;'></progress>\n",
       "      100.00% [40000/40000 00:06&lt;00:00]\n",
       "    </div>\n",
       "    "
      ],
      "text/plain": [
       "<IPython.core.display.HTML object>"
      ]
     },
     "metadata": {},
     "output_type": "display_data"
    },
    {
     "name": "stderr",
     "output_type": "stream",
     "text": [
      "Initializing SMC sampler...\n",
      "Sampling 6 chains in 6 jobs\n"
     ]
    },
    {
     "name": "stdout",
     "output_type": "stream",
     "text": [
      "      Computed from 40000 posterior samples and 10000 observations log-likelihood matrix.\n",
      "\n",
      "          Estimate       SE\n",
      "elpd_waic 38725.62    72.22\n",
      "p_waic        3.64        -\n",
      "Compiling...\n",
      "Compilation time =  0:00:01.023760\n",
      "Sampling...\n",
      "Sampling time =  0:00:04.058241\n",
      "Transforming variables...\n",
      "Transformation time =  0:00:11.892856\n"
     ]
    },
    {
     "data": {
      "text/html": [
       "\n",
       "<style>\n",
       "    /* Turns off some styling */\n",
       "    progress {\n",
       "        /* gets rid of default border in Firefox and Opera. */\n",
       "        border: none;\n",
       "        /* Needs to be in here for Safari polyfill so background images work as expected. */\n",
       "        background-size: auto;\n",
       "    }\n",
       "    progress:not([value]), progress:not([value])::-webkit-progress-bar {\n",
       "        background: repeating-linear-gradient(45deg, #7e7e7e, #7e7e7e 10px, #5c5c5c 10px, #5c5c5c 20px);\n",
       "    }\n",
       "    .progress-bar-interrupted, .progress-bar-interrupted::-webkit-progress-bar {\n",
       "        background: #F44336;\n",
       "    }\n",
       "</style>\n"
      ],
      "text/plain": [
       "<IPython.core.display.HTML object>"
      ]
     },
     "metadata": {},
     "output_type": "display_data"
    },
    {
     "data": {
      "text/html": [
       "\n",
       "    <div>\n",
       "      <progress value='40000' class='' max='40000' style='width:300px; height:20px; vertical-align: middle;'></progress>\n",
       "      100.00% [40000/40000 00:07&lt;00:00]\n",
       "    </div>\n",
       "    "
      ],
      "text/plain": [
       "<IPython.core.display.HTML object>"
      ]
     },
     "metadata": {},
     "output_type": "display_data"
    },
    {
     "name": "stderr",
     "output_type": "stream",
     "text": [
      "Initializing SMC sampler...\n",
      "Sampling 6 chains in 6 jobs\n"
     ]
    },
    {
     "name": "stdout",
     "output_type": "stream",
     "text": [
      "      Computed from 40000 posterior samples and 10000 observations log-likelihood matrix.\n",
      "\n",
      "          Estimate       SE\n",
      "elpd_waic 38730.23    72.45\n",
      "p_waic        4.76        -\n",
      "Compiling...\n",
      "Compilation time =  0:00:01.063430\n",
      "Sampling...\n",
      "Sampling time =  0:00:04.251293\n",
      "Transforming variables...\n",
      "Transformation time =  0:00:09.229234\n"
     ]
    },
    {
     "data": {
      "text/html": [
       "\n",
       "<style>\n",
       "    /* Turns off some styling */\n",
       "    progress {\n",
       "        /* gets rid of default border in Firefox and Opera. */\n",
       "        border: none;\n",
       "        /* Needs to be in here for Safari polyfill so background images work as expected. */\n",
       "        background-size: auto;\n",
       "    }\n",
       "    progress:not([value]), progress:not([value])::-webkit-progress-bar {\n",
       "        background: repeating-linear-gradient(45deg, #7e7e7e, #7e7e7e 10px, #5c5c5c 10px, #5c5c5c 20px);\n",
       "    }\n",
       "    .progress-bar-interrupted, .progress-bar-interrupted::-webkit-progress-bar {\n",
       "        background: #F44336;\n",
       "    }\n",
       "</style>\n"
      ],
      "text/plain": [
       "<IPython.core.display.HTML object>"
      ]
     },
     "metadata": {},
     "output_type": "display_data"
    },
    {
     "data": {
      "text/html": [
       "\n",
       "    <div>\n",
       "      <progress value='40000' class='' max='40000' style='width:300px; height:20px; vertical-align: middle;'></progress>\n",
       "      100.00% [40000/40000 00:08&lt;00:00]\n",
       "    </div>\n",
       "    "
      ],
      "text/plain": [
       "<IPython.core.display.HTML object>"
      ]
     },
     "metadata": {},
     "output_type": "display_data"
    },
    {
     "name": "stderr",
     "output_type": "stream",
     "text": [
      "Initializing SMC sampler...\n",
      "Sampling 6 chains in 6 jobs\n"
     ]
    },
    {
     "name": "stdout",
     "output_type": "stream",
     "text": [
      "      Computed from 40000 posterior samples and 10000 observations log-likelihood matrix.\n",
      "\n",
      "          Estimate       SE\n",
      "elpd_waic 38736.40    72.14\n",
      "p_waic        6.27        -\n",
      "Compiling...\n",
      "Compilation time =  0:00:00.895572\n",
      "Sampling...\n",
      "Sampling time =  0:00:03.498545\n",
      "Transforming variables...\n",
      "Transformation time =  0:00:14.972116\n"
     ]
    },
    {
     "data": {
      "text/html": [
       "\n",
       "<style>\n",
       "    /* Turns off some styling */\n",
       "    progress {\n",
       "        /* gets rid of default border in Firefox and Opera. */\n",
       "        border: none;\n",
       "        /* Needs to be in here for Safari polyfill so background images work as expected. */\n",
       "        background-size: auto;\n",
       "    }\n",
       "    progress:not([value]), progress:not([value])::-webkit-progress-bar {\n",
       "        background: repeating-linear-gradient(45deg, #7e7e7e, #7e7e7e 10px, #5c5c5c 10px, #5c5c5c 20px);\n",
       "    }\n",
       "    .progress-bar-interrupted, .progress-bar-interrupted::-webkit-progress-bar {\n",
       "        background: #F44336;\n",
       "    }\n",
       "</style>\n"
      ],
      "text/plain": [
       "<IPython.core.display.HTML object>"
      ]
     },
     "metadata": {},
     "output_type": "display_data"
    },
    {
     "data": {
      "text/html": [
       "\n",
       "    <div>\n",
       "      <progress value='40000' class='' max='40000' style='width:300px; height:20px; vertical-align: middle;'></progress>\n",
       "      100.00% [40000/40000 00:06&lt;00:00]\n",
       "    </div>\n",
       "    "
      ],
      "text/plain": [
       "<IPython.core.display.HTML object>"
      ]
     },
     "metadata": {},
     "output_type": "display_data"
    },
    {
     "name": "stderr",
     "output_type": "stream",
     "text": [
      "Initializing SMC sampler...\n",
      "Sampling 6 chains in 6 jobs\n"
     ]
    },
    {
     "name": "stdout",
     "output_type": "stream",
     "text": [
      "      "
     ]
    },
    {
     "name": "stderr",
     "output_type": "stream",
     "text": [
      "The rhat statistic is larger than 1.01 for some parameters. This indicates problems during sampling. See https://arxiv.org/abs/1903.08008 for details\n",
      "The effective sample size per chain is smaller than 100 for some parameters.  A higher number is needed for reliable rhat and ess computation. See https://arxiv.org/abs/1903.08008 for details\n"
     ]
    },
    {
     "name": "stdout",
     "output_type": "stream",
     "text": [
      "Computed from 40000 posterior samples and 10000 observations log-likelihood matrix.\n",
      "\n",
      "          Estimate       SE\n",
      "elpd_waic 38745.95    71.85\n",
      "p_waic        7.32        -\n"
     ]
    }
   ],
   "source": [
    "# Define the Bayesian linear regression model\n",
    "return_inferencedata = True\n",
    "init_sigma = 1\n",
    "init_beta = 1\n",
    "n_samples = 10000\n",
    "models = {}\n",
    "idatas = []\n",
    "for effective_indices in hie:\n",
    "    X_sup = X_pre[:, effective_indices]\n",
    "    y_sup = y_pre.ravel()\n",
    "    \n",
    "    np.random.seed(0)\n",
    "    with pm.Model() as model:\n",
    "        coeffs = pm.Normal('coeffs', mu=0, sigma=init_sigma, shape=X_sup.shape[-1])\n",
    "        sigma = pm.HalfCauchy('sigma', beta=init_beta)\n",
    "        mu = pm.math.dot(X_sup, coeffs)\n",
    "        likelihood = pm.Normal('y', mu=mu, sigma=sigma, observed=y_sup)\n",
    "\n",
    "        # Perform MCMC sampling\n",
    "        # trace = pm.sample(n_samples, tune=n_samples//2, chains=4, cores=4, return_inferencedata=return_inferencedata)\n",
    "        # trace = pmjax.sample_numpyro_nuts(n_samples, tune=n_samples//2, chains=4, cores=4, return_inferencedata=return_inferencedata)\n",
    "        trace = pmjax.sample_blackjax_nuts(n_samples, tune=n_samples//2, chains=4, cores=4, return_inferencedata=return_inferencedata)\n",
    "        pm.compute_log_likelihood(trace)\n",
    "        idata = pm.sample_smc(progressbar=False, cores=4)\n",
    "        idatas.append(idata)\n",
    "        \n",
    "        if return_inferencedata:\n",
    "            waic = az.waic(trace, pointwise=True); print(waic)\n",
    "            models[str(len(effective_indices))] = trace\n",
    "\n",
    "    if not return_inferencedata:\n",
    "        f_logp = pm.logp(pm.Normal.dist(), y_sup[:, None]-(X@trace['coeffs'].T))\n",
    "        f_logp = np.mean(f_logp.eval())\n",
    "\n",
    "        # k is the total number of estimated parameters\n",
    "        k = len(map_est[\"coeffs\"])\n",
    "        aic = -2*f_logp+2*k\n",
    "        bic = -2*f_logp+np.log(X_sup.shape[0])*k\n",
    "        print(\"BIC & AIC\")\n",
    "        print(bic, aic)"
   ]
  },
  {
   "cell_type": "code",
   "execution_count": 19,
   "id": "7a453516",
   "metadata": {},
   "outputs": [
    {
     "name": "stdout",
     "output_type": "stream",
     "text": [
      "[32601.275328171516, 38704.655098445146, 38702.729779769295, 38702.109736275794, 38692.24483001932]\n",
      "[inf, 0.14582927718170102, 0.5379210410161529, 5.196676093926926e-05]\n",
      "[True, False, False, False]\n",
      "2\n"
     ]
    },
    {
     "name": "stderr",
     "output_type": "stream",
     "text": [
      "/var/folders/z3/_stfms3523dd5mnfr3ch5n100000gp/T/ipykernel_12254/3879611979.py:10: RuntimeWarning: overflow encountered in exp\n",
      "  print([np.exp(lmls[i]-lmls[i-1]) for i in range(1, len(lmls))])\n",
      "/var/folders/z3/_stfms3523dd5mnfr3ch5n100000gp/T/ipykernel_12254/3879611979.py:11: RuntimeWarning: overflow encountered in exp\n",
      "  print([np.exp(lmls[i]-lmls[i-1])>1 for i in range(1, len(lmls))])\n"
     ]
    }
   ],
   "source": [
    "lmls = []\n",
    "for idata in idatas:\n",
    "    lml = np.array(idata.sample_stats[\"log_marginal_likelihood\"].as_numpy(), dtype=np.object_)\n",
    "    if lml.shape[0] == 1: lml = lml[0]\n",
    "    # print(lml)\n",
    "    vals = np.array([l[-1] for l in lml]).mean()\n",
    "    lmls.append(vals)\n",
    "\n",
    "print(lmls)\n",
    "print([np.exp(lmls[i]-lmls[i-1]) for i in range(1, len(lmls))])\n",
    "print([np.exp(lmls[i]-lmls[i-1])>1 for i in range(1, len(lmls))])\n",
    "print(np.argmax(lmls)+1) # 3"
   ]
  },
  {
   "cell_type": "code",
   "execution_count": 20,
   "id": "e4777d7a",
   "metadata": {},
   "outputs": [],
   "source": [
    "loo_df = az.compare(models)"
   ]
  },
  {
   "cell_type": "code",
   "execution_count": 21,
   "id": "da80b8cd",
   "metadata": {},
   "outputs": [],
   "source": [
    "waic_df = az.compare(models, ic='waic', scale='negative_log')"
   ]
  },
  {
   "cell_type": "code",
   "execution_count": 22,
   "id": "3b66344b",
   "metadata": {
    "scrolled": true
   },
   "outputs": [
    {
     "data": {
      "image/png": "[encoded data removed]",
      "text/plain": [
       "<Figure size 600x500 with 1 Axes>"
      ]
     },
     "metadata": {},
     "output_type": "display_data"
    }
   ],
   "source": [
    "az.plot_compare(waic_df)\n",
    "plt.show()"
   ]
  },
  {
   "cell_type": "code",
   "execution_count": 23,
   "id": "4a2c3d60",
   "metadata": {},
   "outputs": [
    {
     "name": "stdout",
     "output_type": "stream",
     "text": [
      "t_statistic, p_value = 0.04507640884172801 0.5179765723040032\n",
      "Fail to reject the null hypothesis. Distribution 2 is not significantly less than distribution 1.\n"
     ]
    }
   ],
   "source": [
    "from scipy import stats\n",
    "\n",
    "aaa = pm.waic(models['2'], pointwise=True)\n",
    "bbb = pm.waic(models['3'], pointwise=True)\n",
    "\n",
    "dist1 = np.array(aaa.waic_i)\n",
    "dist2 = np.array(bbb.waic_i)\n",
    "\n",
    "# Perform one-sided two-sample t-test\n",
    "t_statistic, p_value = stats.ttest_ind(dist2, dist1, alternative='less')\n",
    "print(\"t_statistic, p_value =\", t_statistic, p_value)\n",
    "\n",
    "# Define significance level\n",
    "alpha = 0.05\n",
    "\n",
    "# Check if the null hypothesis can be rejected\n",
    "if p_value < alpha:\n",
    "    print(\"Reject the null hypothesis. Distribution 2 is significantly less than distribution 1.\")\n",
    "else:\n",
    "    print(\"Fail to reject the null hypothesis. Distribution 2 is not significantly less than distribution 1.\")"
   ]
  }
 ],
 "metadata": {
  "kernelspec": {
   "display_name": "Python [conda env:pymc_env]",
   "language": "python",
   "name": "conda-env-pymc_env-py"
  },
  "language_info": {
   "codemirror_mode": {
    "name": "ipython",
    "version": 3
   },
   "file_extension": ".py",
   "mimetype": "text/x-python",
   "name": "python",
   "nbconvert_exporter": "python",
   "pygments_lexer": "ipython3",
   "version": "3.11.4"
  }
 },
 "nbformat": 4,
 "nbformat_minor": 5
}
