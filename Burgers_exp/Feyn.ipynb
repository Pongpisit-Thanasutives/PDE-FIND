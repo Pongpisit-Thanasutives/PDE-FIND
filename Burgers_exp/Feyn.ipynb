{
 "cells": [
  {
   "cell_type": "code",
   "execution_count": 1,
   "id": "9333d98c",
   "metadata": {},
   "outputs": [],
   "source": [
    "%matplotlib inline\n",
    "import matplotlib.pyplot as plt\n",
    "\n",
    "import sys; sys.path.append('../')\n",
    "from misc import h5file\n",
    "import numpy as np\n",
    "\n",
    "import scipy.io as sio\n",
    "import sympy\n",
    "from sympy import Symbol, parse_expr, sympify, lambdify, Lambda\n",
    "\n",
    "import pandas as pd\n",
    "import subprocess\n",
    "\n",
    "from scipy.optimize import curve_fit\n",
    "\n",
    "MAIN_SEED = 1234"
   ]
  },
  {
   "cell_type": "code",
   "execution_count": 2,
   "id": "822a3532",
   "metadata": {},
   "outputs": [],
   "source": [
    "fp1 = \"./IPI_output_files/PMS_data.h5\""
   ]
  },
  {
   "cell_type": "code",
   "execution_count": 3,
   "id": "84aa7d2e",
   "metadata": {},
   "outputs": [
    {
     "name": "stdout",
     "output_type": "stream",
     "text": [
      "['X_pre', 'best_subsets', 'un', 'y_pre']\n"
     ]
    }
   ],
   "source": [
    "_, _, un, _ = h5file(file_path=fp1, mode='r', return_dict=False)"
   ]
  },
  {
   "cell_type": "code",
   "execution_count": 4,
   "id": "77a6c130",
   "metadata": {},
   "outputs": [],
   "source": [
    "data = sio.loadmat('../Datasets/burgers.mat')\n",
    "x = data['x'].real.reshape(-1, 1)\n",
    "del data"
   ]
  },
  {
   "cell_type": "code",
   "execution_count": 5,
   "id": "517355b2",
   "metadata": {},
   "outputs": [],
   "source": [
    "y = un[:, 0]"
   ]
  },
  {
   "cell_type": "code",
   "execution_count": 6,
   "id": "b87827ed",
   "metadata": {},
   "outputs": [
    {
     "name": "stdout",
     "output_type": "stream",
     "text": [
      "This version of feyn and the QLattice is available for academic, personal, and non-commercial use. By using the community version of this software you agree to the terms and conditions which can be found at `https://abzu.ai/eula`.\n"
     ]
    }
   ],
   "source": [
    "import feyn\n",
    "ql = feyn.QLattice()"
   ]
  },
  {
   "cell_type": "code",
   "execution_count": 7,
   "id": "dc1d5192",
   "metadata": {},
   "outputs": [
    {
     "data": {
      "text/html": [
       "<?xml version=\"1.0\" encoding=\"utf-8\" ?>\n",
       "<svg baseProfile=\"full\" height=\"100.0\" preserveAspectRatio=\"none\" version=\"1.1\" viewBox=\"0 0 409 100.0\" width=\"409\" xmlns=\"http://www.w3.org/2000/svg\" xmlns:ev=\"http://www.w3.org/2001/xml-events\" xmlns:xlink=\"http://www.w3.org/1999/xlink\"><defs /><svg class=\"graph\" height=\"95.0\" width=\"409\" x=\"0\" y=\"0\"><defs /><text fill=\"#1E1E1E\" font-family=\"monospace\" font-size=\"12\" text-anchor=\"middle\" x=\"286.0\" y=\"69.0\">Loss: 4.35E-04</text><text fill=\"#1E1E1E\" font-family=\"monospace\" font-size=\"12\" text-anchor=\"start\" x=\"0\" y=\"85.0\">Epoch no. 10/10 - Tried 5423 models - Completed in 3s.</text><rect class=\"node\" fill=\"#00F082\" height=\"35\" stroke=\"#1E1E1E\" stroke-width=\"1\" width=\"90\" x=\"241\" y=\"20.0\"><title>y\n",
       "linear:\n",
       "scale=0.547147\n",
       "scale offset=0.000000\n",
       "w=1.841953\n",
       "bias=0.0040</title></rect><text fill=\"#1E1E1E\" font-family=\"monospace\" font-size=\"12\" style=\"pointer-events:none\" text-anchor=\"middle\" x=\"286.0\" y=\"41.5\">y</text><text fill=\"#1E1E1E\" font-family=\"monospace\" font-size=\"10\" style=\"pointer-events:none\" text-anchor=\"end\" x=\"329\" y=\"29.0\">0</text><text fill=\"#1E1E1E\" font-family=\"monospace\" font-size=\"10\" style=\"pointer-events:none\" text-anchor=\"start\" x=\"243\" y=\"29.0\">out</text><line stroke=\"#1E1E1E\" x1=\"211\" x2=\"241\" y1=\"37.5\" y2=\"37.5\" /><rect class=\"node\" fill=\"#FAFAFA\" height=\"35\" stroke=\"#FF1EC8\" stroke-width=\"1\" width=\"90\" x=\"121\" y=\"20.0\"><title>gaussian</title></rect><text fill=\"#1E1E1E\" font-family=\"monospace\" font-size=\"12\" style=\"pointer-events:none\" text-anchor=\"middle\" x=\"166.0\" y=\"41.5\">gaussian</text><text fill=\"#1E1E1E\" font-family=\"monospace\" font-size=\"10\" style=\"pointer-events:none\" text-anchor=\"end\" x=\"209\" y=\"29.0\">1</text><line stroke=\"#1E1E1E\" x1=\"91\" x2=\"121\" y1=\"37.5\" y2=\"37.5\" /><rect class=\"node\" fill=\"#00F082\" height=\"35\" stroke=\"#1E1E1E\" stroke-width=\"1\" width=\"90\" x=\"1\" y=\"20.0\"><title>x\n",
       "linear:\n",
       "scale=0.125490\n",
       "scale offset=-0.031250\n",
       "w=-5.706401\n",
       "bias=-1.4177</title></rect><text fill=\"#1E1E1E\" font-family=\"monospace\" font-size=\"12\" style=\"pointer-events:none\" text-anchor=\"middle\" x=\"46.0\" y=\"41.5\">x</text><text fill=\"#1E1E1E\" font-family=\"monospace\" font-size=\"10\" style=\"pointer-events:none\" text-anchor=\"end\" x=\"89\" y=\"29.0\">2</text><text fill=\"#1E1E1E\" font-family=\"monospace\" font-size=\"10\" style=\"pointer-events:none\" text-anchor=\"start\" x=\"3\" y=\"29.0\">num</text></svg></svg>"
      ],
      "text/plain": [
       "<IPython.core.display.HTML object>"
      ]
     },
     "metadata": {},
     "output_type": "display_data"
    }
   ],
   "source": [
    "train = pd.DataFrame({'x':x.flatten(), 'y':y})\n",
    "# starting from max_complexity = 10\n",
    "models = ql.auto_run(train, output_name = 'y', max_complexity=2)"
   ]
  },
  {
   "cell_type": "code",
   "execution_count": 8,
   "id": "bccb4ab4",
   "metadata": {},
   "outputs": [],
   "source": [
    "best = models[0]"
   ]
  },
  {
   "cell_type": "code",
   "execution_count": 9,
   "id": "eff6abd1",
   "metadata": {},
   "outputs": [
    {
     "data": {
      "text/latex": [
       "$\\displaystyle 0.00221307 + 1.00782 e^{- 4.1475 \\left(- 0.497272 x - 1\\right)^{2}}$"
      ],
      "text/plain": [
       "0.00221307 + 1.00782*exp(-4.1475*(-0.497272*x - 1)**2)"
      ]
     },
     "execution_count": 9,
     "metadata": {},
     "output_type": "execute_result"
    }
   ],
   "source": [
    "sympy_model = best.sympify()\n",
    "sympy_model.as_expr()"
   ]
  },
  {
   "cell_type": "code",
   "execution_count": 10,
   "id": "639a1f05",
   "metadata": {},
   "outputs": [],
   "source": [
    "import pickle\n",
    "# Save equation to file\n",
    "save_to = f\"./hall/hof.pkl\"\n",
    "# save_to = f\"hof_{smoother_name}.pkl\"\n",
    "with open(save_to, 'wb') as f:\n",
    "    pickle.dump(sympy_model.as_expr(), f)"
   ]
  },
  {
   "cell_type": "code",
   "execution_count": 11,
   "id": "ab1458f0",
   "metadata": {},
   "outputs": [
    {
     "data": {
      "text/latex": [
       "$\\displaystyle 0.00221307 + 1.00782 e^{- 4.1475 \\left(- 0.497272 x - 1\\right)^{2}}$"
      ],
      "text/plain": [
       "0.00221307 + 1.00782*exp(-4.1475*(-0.497272*x - 1)**2)"
      ]
     },
     "execution_count": 11,
     "metadata": {},
     "output_type": "execute_result"
    }
   ],
   "source": [
    "# Load equation from file\n",
    "with open(save_to, 'rb') as f:\n",
    "    eq = pickle.load(f)\n",
    "eq"
   ]
  },
  {
   "cell_type": "code",
   "execution_count": 12,
   "id": "43cfed57",
   "metadata": {},
   "outputs": [],
   "source": [
    "from jaxfit import CurveFit\n",
    "from jax import numpy as jnp"
   ]
  },
  {
   "cell_type": "code",
   "execution_count": 13,
   "id": "c6418d88",
   "metadata": {},
   "outputs": [],
   "source": [
    "equation = eq"
   ]
  },
  {
   "cell_type": "code",
   "execution_count": 14,
   "id": "399db99a",
   "metadata": {},
   "outputs": [
    {
     "data": {
      "text/plain": [
       "array([-4.14750004e+00, -4.97272015e-01,  2.21307017e-03,  1.00781989e+00])"
      ]
     },
     "execution_count": 14,
     "metadata": {},
     "output_type": "execute_result"
    }
   ],
   "source": [
    "feyn_params = np.array(sorted([float(atom) for atom in sympify(equation).atoms() if atom.is_number]))\n",
    "feyn_params = feyn_params[[0, 2, 3, 4]]\n",
    "feyn_params"
   ]
  },
  {
   "cell_type": "code",
   "execution_count": 15,
   "id": "d49d02f2",
   "metadata": {},
   "outputs": [
    {
     "data": {
      "text/plain": [
       "array([-4.15259791e+00, -4.97142427e-01,  2.95012304e-03,  1.00797403e+00])"
      ]
     },
     "execution_count": 15,
     "metadata": {},
     "output_type": "execute_result"
    }
   ],
   "source": [
    "def initial_function(x, a, b, c, d):\n",
    "    return c+d*np.exp(a*np.square(b*x-1))\n",
    "\n",
    "def jax_initial_function(x, a, b, c, d):\n",
    "    return c+d*jnp.exp(a*jnp.square(b*x-1))\n",
    "\n",
    "recovered_params = np.array(CurveFit().curve_fit(jax_initial_function, x.flatten(), un[:, 0], \n",
    "                                                  p0=feyn_params)[0])\n",
    "recovered_params"
   ]
  }
 ],
 "metadata": {
  "kernelspec": {
   "display_name": "Python [conda env:pysr]",
   "language": "python",
   "name": "conda-env-pysr-py"
  },
  "language_info": {
   "codemirror_mode": {
    "name": "ipython",
    "version": 3
   },
   "file_extension": ".py",
   "mimetype": "text/x-python",
   "name": "python",
   "nbconvert_exporter": "python",
   "pygments_lexer": "ipython3",
   "version": "3.10.10"
  }
 },
 "nbformat": 4,
 "nbformat_minor": 5
}
