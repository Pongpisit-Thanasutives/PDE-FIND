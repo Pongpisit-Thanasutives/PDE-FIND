{
 "cells": [
  {
   "cell_type": "code",
   "execution_count": 1,
   "id": "d4603a05",
   "metadata": {},
   "outputs": [],
   "source": [
    "import sys\n",
    "pdefind_path = \"/Users/pongpisit/Desktop/research/PDE-FIND/\"\n",
    "sys.path.insert(0, pdefind_path)\n",
    "from misc import h5file, pickle_load\n",
    "from itertools import combinations\n",
    "\n",
    "import os\n",
    "from os.path import join as pjoin\n",
    "from pathlib import Path\n",
    "import yaml\n",
    "\n",
    "import numpy as np\n",
    "from jax import numpy as jnp\n",
    "import matplotlib.pyplot as plt\n",
    "import dedalus.public as d3\n",
    "import sympy\n",
    "import pandas as pd\n",
    "from scipy.io import loadmat\n",
    "from scipy.optimize import curve_fit\n",
    "from jaxfit import CurveFit\n",
    "from levenberg_marquardt import lm as lm_curve_fit\n",
    "from functools import partial\n",
    "\n",
    "def log_like_value(prediction, ground):                                                                                                               \n",
    "    nobs = float(ground.shape[0])\n",
    "    nobs2 = nobs / 2.0\n",
    "    ssr = np.sum(np.abs(ground - prediction)**2)\n",
    "    llf = -nobs2 * np.log(2 * np.pi) - nobs2 * np.log(ssr / nobs) - nobs2\n",
    "    return llf\n",
    "\n",
    "def BIC_AIC(prediction, ground, nparams, reg_func = lambda x: x):\n",
    "    nparams = reg_func(nparams)\n",
    "    llf = log_like_value(prediction, ground)\n",
    "    return -2*llf + np.log(ground.shape[0])*nparams, -2*llf + 2*nparams\n",
    "\n",
    "import re\n",
    "from collections import Counter\n",
    "\n",
    "def ef(c):\n",
    "    if c > 1: return f\"dx({ef(c-1)})\"\n",
    "    else: return \"dx(u)\"\n",
    "    \n",
    "def convert2dedalus(input_string):\n",
    "    old_strings = set(re.findall(r\"u_\\d+\", input_string))\n",
    "    new_strings = [ef(s.count('1')) for s in old_strings]\n",
    "    for o, n in zip(old_strings, new_strings):\n",
    "        input_string = input_string.replace(o, n)\n",
    "    return input_string"
   ]
  },
  {
   "cell_type": "code",
   "execution_count": 2,
   "id": "6880df0a",
   "metadata": {},
   "outputs": [
    {
     "name": "stdout",
     "output_type": "stream",
     "text": [
      "['X_pre', 'best_subsets', 'un', 'y_pre']\n"
     ]
    }
   ],
   "source": [
    "noise_lv = 30\n",
    "complexity = 2\n",
    "\n",
    "fp1 = \"./IPI_output_files/PMS_data.h5\"\n",
    "fp2 = \"./IPI_output_files/encoded_pde_names.yaml\"\n",
    "\n",
    "x = loadmat('../Datasets/burgers.mat')['x'][0]\n",
    "X_pre, best_subsets, un, y_pre = h5file(file_path=fp1, mode='r', \n",
    "                                                        return_dict=False)\n",
    "\n",
    "with open(fp2, 'r') as f:\n",
    "    config = yaml.load(f, yaml.Loader)\n",
    "f.close()\n",
    "encoded_feature_names = config[\"encoded_feature_names\"]\n",
    "encoded_pde_names = config[\"encoded_pde_names\"]\n",
    "all_subsets = list(combinations(range(len(config[\"encoded_feature_names\"])), complexity))"
   ]
  },
  {
   "cell_type": "code",
   "execution_count": 3,
   "id": "234bda9f",
   "metadata": {},
   "outputs": [
    {
     "name": "stdout",
     "output_type": "stream",
     "text": [
      "['dx(dx(u))', 'u*dx(u)']\n",
      "[ 0.10128807 -1.00533521]\n"
     ]
    }
   ],
   "source": [
    "all_subsets = list(combinations(range(len(config[\"encoded_feature_names\"])), complexity))\n",
    "scores = []\n",
    "for s in all_subsets:\n",
    "    inp = X_pre[:, s]\n",
    "    w = np.linalg.lstsq(inp, y_pre, rcond=None)[0]\n",
    "    scores.append(((y_pre-inp@w)**2).mean())\n",
    "    \n",
    "init_params = np.linalg.lstsq(X_pre[:, all_subsets[np.argmin(scores)]], \n",
    "                              y_pre, rcond=None)[0].flatten().astype(np.float64)\n",
    "\n",
    "effective_terms = [convert2dedalus(config[\"encoded_feature_names\"][i]) \n",
    "                   for i in all_subsets[np.argmin(scores)]]\n",
    "# print(all_subsets[np.argmin(scores)])\n",
    "print(effective_terms)\n",
    "print(init_params)"
   ]
  },
  {
   "cell_type": "code",
   "execution_count": 4,
   "id": "1d1cd0ef",
   "metadata": {},
   "outputs": [],
   "source": [
    "# hof = pd.read_csv(\"./hall/hof.csv\")\n",
    "# equation = hof.iloc[np.argmax(hof[\"score\"])]\n",
    "# pysr_params = np.array(sorted([float(atom) for atom in sympy.sympify(equation.equation).atoms() if atom.is_number]))\n",
    "\n",
    "# def initial_function(x, a, b): return np.exp(a*np.square(x+b))\n",
    "# def jax_initial_function(x, a, b): return jnp.exp(a*jnp.square(x+b))\n",
    "\n",
    "# recovered_params1 = np.array(CurveFit().curve_fit(jax_initial_function, x.flatten(), un[:, 0], \n",
    "#                                                   p0=pysr_params)[0])\n",
    "\n",
    "# recovered_params2 = np.array(curve_fit(initial_function, x.flatten(), un[:, 0], \n",
    "#                                        p0=pysr_params, method='lm')[0])\n",
    "\n",
    "# recovered_params3 = lm_curve_fit(np.round(pysr_params).reshape(-1, 1), \n",
    "#                                  x.flatten(), un[:, 0], \n",
    "#                                  lambda t,p: np.exp(p[0,0]*np.square(t+p[1,0])))[0].flatten()\n",
    "\n",
    "# # pysr_params, recovered_params1, recovered_params2, recovered_params3 (recommended when finetuning)\n",
    "# recovered_params = recovered_params1\n",
    "\n",
    "# # initial_condition_function = partial(initial_function, a=-1.0, b=2.0) # GROUND\n",
    "# initial_condition_function = partial(initial_function, a=recovered_params[0], b=recovered_params[1])\n",
    "\n",
    "# pysr_params, recovered_params1, recovered_params2, recovered_params3\n",
    "\n",
    "# # func = sympy.lambdify(args=sympy.symbols('x'), expr=equation.sympy_format)\n",
    "# # equation.equation"
   ]
  },
  {
   "cell_type": "code",
   "execution_count": 5,
   "id": "b75a724e",
   "metadata": {},
   "outputs": [
    {
     "name": "stdout",
     "output_type": "stream",
     "text": [
      "pickle_load done\n",
      "2023-06-05 22:38:11,611 jax._src.dispatch 0/1 WARNING :: Finished tracing + transforming jit(convert_element_type) in 0.0002951622009277344 sec\n",
      "2023-06-05 22:38:11,617 jax._src.xla_bridge 0/1 INFO :: Unable to initialize backend 'cuda': module 'jaxlib.xla_extension' has no attribute 'GpuAllocatorConfig'\n",
      "2023-06-05 22:38:11,617 jax._src.xla_bridge 0/1 INFO :: Unable to initialize backend 'rocm': module 'jaxlib.xla_extension' has no attribute 'GpuAllocatorConfig'\n",
      "2023-06-05 22:38:11,618 jax._src.xla_bridge 0/1 INFO :: Unable to initialize backend 'tpu': module 'jaxlib.xla_extension' has no attribute 'get_tpu_client'\n",
      "2023-06-05 22:38:11,619 jax._src.xla_bridge 0/1 INFO :: Unable to initialize backend 'plugin': xla_extension has no attributes named get_plugin_device_client. Compile TensorFlow with //tensorflow/compiler/xla/python:enable_plugin_device set to true (defaults to false) to enable this.\n",
      "2023-06-05 22:38:11,622 jax._src.dispatch 0/1 WARNING :: Finished tracing + transforming jit(convert_element_type) in 0.00036406517028808594 sec\n",
      "2023-06-05 22:38:11,628 jax._src.dispatch 0/1 WARNING :: Finished tracing + transforming fn for pjit in 0.0005118846893310547 sec\n",
      "2023-06-05 22:38:11,630 jax._src.dispatch 0/1 WARNING :: Finished tracing + transforming <lambda> for pjit in 0.0006442070007324219 sec\n",
      "2023-06-05 22:38:11,632 jax._src.dispatch 0/1 WARNING :: Finished tracing + transforming square for pjit in 0.0004780292510986328 sec\n",
      "2023-06-05 22:38:11,634 jax._src.dispatch 0/1 WARNING :: Finished tracing + transforming <lambda> for pjit in 0.00038504600524902344 sec\n",
      "2023-06-05 22:38:11,636 jax._src.dispatch 0/1 WARNING :: Finished tracing + transforming fn for pjit in 0.0004317760467529297 sec\n",
      "2023-06-05 22:38:11,638 jax._src.dispatch 0/1 WARNING :: Finished tracing + transforming <lambda> for pjit in 0.00042700767517089844 sec\n",
      "2023-06-05 22:38:11,641 jax._src.dispatch 0/1 WARNING :: Finished tracing + transforming _broadcast_arrays for pjit in 0.0010287761688232422 sec\n",
      "2023-06-05 22:38:11,643 jax._src.dispatch 0/1 WARNING :: Finished tracing + transforming _where for pjit in 0.0031991004943847656 sec\n",
      "2023-06-05 22:38:11,644 jax._src.dispatch 0/1 WARNING :: Finished tracing + transforming masked_residual_func for pjit in 0.018169879913330078 sec\n",
      "2023-06-05 22:38:11,646 jax._src.dispatch 0/1 WARNING :: Finished tracing + transforming func_no_transform for pjit in 0.019865036010742188 sec\n",
      "2023-06-05 22:38:11,688 jax._src.dispatch 0/1 WARNING :: Finished XLA compilation of jit(func_no_transform) in 0.02930593490600586 sec\n",
      "2023-06-05 22:38:11,697 jax._src.dispatch 0/1 WARNING :: Finished tracing + transforming masked_residual_func for pjit in 0.003635883331298828 sec\n",
      "2023-06-05 22:38:11,698 jax._src.dispatch 0/1 WARNING :: Finished tracing + transforming func_no_transform for pjit in 0.005031108856201172 sec\n",
      "2023-06-05 22:38:11,699 jax._src.dispatch 0/1 WARNING :: Finished tracing + transforming wrap_func for pjit in 0.006592988967895508 sec\n",
      "2023-06-05 22:38:11,718 jax._src.dispatch 0/1 WARNING :: Finished tracing + transforming jac_func for pjit in 0.028871774673461914 sec\n",
      "2023-06-05 22:38:11,721 jax._src.dispatch 0/1 WARNING :: Finished tracing + transforming _broadcast_arrays for pjit in 0.0008177757263183594 sec\n",
      "2023-06-05 22:38:11,723 jax._src.dispatch 0/1 WARNING :: Finished tracing + transforming _where for pjit in 0.003400087356567383 sec\n",
      "2023-06-05 22:38:11,725 jax._src.dispatch 0/1 WARNING :: Finished tracing + transforming atleast_2d for pjit in 0.00026798248291015625 sec\n",
      "2023-06-05 22:38:11,726 jax._src.dispatch 0/1 WARNING :: Finished tracing + transforming masked_jac for pjit in 0.03682899475097656 sec\n",
      "2023-06-05 22:38:11,781 jax._src.dispatch 0/1 WARNING :: Finished XLA compilation of jit(masked_jac) in 0.03287005424499512 sec\n",
      "2023-06-05 22:38:11,783 jax._src.dispatch 0/1 WARNING :: Finished tracing + transforming dot for pjit in 0.0005040168762207031 sec\n",
      "2023-06-05 22:38:11,785 jax._src.dispatch 0/1 WARNING :: Finished tracing + transforming fn for pjit in 0.00042510032653808594 sec\n",
      "2023-06-05 22:38:11,786 jax._src.dispatch 0/1 WARNING :: Finished tracing + transforming loss_function for pjit in 0.003319978713989258 sec\n",
      "2023-06-05 22:38:11,804 jax._src.dispatch 0/1 WARNING :: Finished XLA compilation of jit(loss_function) in 0.015292882919311523 sec\n",
      "2023-06-05 22:38:11,806 jax._src.dispatch 0/1 WARNING :: Finished tracing + transforming dot for pjit in 0.00047397613525390625 sec\n",
      "2023-06-05 22:38:11,807 jax._src.dispatch 0/1 WARNING :: Finished tracing + transforming compute_grad for pjit in 0.0017418861389160156 sec\n",
      "2023-06-05 22:38:11,830 jax._src.dispatch 0/1 WARNING :: Finished XLA compilation of jit(compute_grad) in 0.019801855087280273 sec\n",
      "2023-06-05 22:38:11,831 jax._src.dispatch 0/1 WARNING :: Finished tracing + transforming jit(convert_element_type) in 0.0002167224884033203 sec\n",
      "2023-06-05 22:38:11,833 jax._src.dispatch 0/1 WARNING :: Finished tracing + transforming fn for pjit in 0.0005269050598144531 sec\n",
      "2023-06-05 22:38:11,834 jax._src.dispatch 0/1 WARNING :: Finished tracing + transforming compute_grad_hat for pjit in 0.001834869384765625 sec\n",
      "2023-06-05 22:38:11,846 jax._src.dispatch 0/1 WARNING :: Finished XLA compilation of jit(compute_grad_hat) in 0.008970975875854492 sec\n",
      "2023-06-05 22:38:11,848 jax._src.dispatch 0/1 WARNING :: Finished tracing + transforming fn for pjit in 0.0007979869842529297 sec\n",
      "2023-06-05 22:38:11,850 jax._src.dispatch 0/1 WARNING :: Finished tracing + transforming _svd for pjit in 0.0004742145538330078 sec\n",
      "2023-06-05 22:38:11,853 jax._src.dispatch 0/1 WARNING :: Finished tracing + transforming dot for pjit in 0.0007169246673583984 sec\n",
      "2023-06-05 22:38:11,854 jax._src.dispatch 0/1 WARNING :: Finished tracing + transforming svd_no_bounds for pjit in 0.0069239139556884766 sec\n",
      "2023-06-05 22:38:11,897 jax._src.dispatch 0/1 WARNING :: Finished XLA compilation of jit(svd_no_bounds) in 0.03591799736022949 sec\n",
      "2023-06-05 22:38:11,900 jax._src.dispatch 0/1 WARNING :: Finished tracing + transforming dot for pjit in 0.0005099773406982422 sec\n",
      "2023-06-05 22:38:11,902 jax._src.dispatch 0/1 WARNING :: Finished tracing + transforming dot for pjit in 0.00047206878662109375 sec\n",
      "2023-06-05 22:38:11,904 jax._src.dispatch 0/1 WARNING :: Finished tracing + transforming fn for pjit in 0.0003521442413330078 sec\n",
      "2023-06-05 22:38:11,905 jax._src.dispatch 0/1 WARNING :: Finished tracing + transforming evaluate_quadratic1 for pjit in 0.005653858184814453 sec\n",
      "2023-06-05 22:38:11,933 jax._src.dispatch 0/1 WARNING :: Finished XLA compilation of jit(evaluate_quadratic1) in 0.02492690086364746 sec\n",
      "2023-06-05 22:38:11,935 jax._src.dispatch 0/1 WARNING :: Finished tracing + transforming <lambda> for pjit in 0.0002982616424560547 sec\n",
      "2023-06-05 22:38:11,944 jax._src.dispatch 0/1 WARNING :: Finished XLA compilation of jit(<lambda>) in 0.007046937942504883 sec\n",
      "2023-06-05 22:38:11,946 jax._src.dispatch 0/1 WARNING :: Finished tracing + transforming isfinite for pjit in 0.00025916099548339844 sec\n",
      "2023-06-05 22:38:11,947 jax._src.dispatch 0/1 WARNING :: Finished tracing + transforming _reduce_all for pjit in 0.00047898292541503906 sec\n",
      "2023-06-05 22:38:11,948 jax._src.dispatch 0/1 WARNING :: Finished tracing + transforming isfinite for pjit in 0.0027742385864257812 sec\n",
      "2023-06-05 22:38:11,971 jax._src.dispatch 0/1 WARNING :: Finished XLA compilation of jit(isfinite) in 0.01932811737060547 sec\n",
      "2023-06-05 22:38:11,977 jax._src.dispatch 0/1 WARNING :: Finished tracing + transforming covariance_svd for pjit in 0.0006890296936035156 sec\n",
      "2023-06-05 22:38:12,006 jax._src.dispatch 0/1 WARNING :: Finished XLA compilation of jit(covariance_svd) in 0.023303985595703125 sec\n"
     ]
    },
    {
     "data": {
      "text/plain": [
       "array([-4.15259791e+00, -4.97142427e-01,  2.95012304e-03,  1.00797403e+00])"
      ]
     },
     "execution_count": 5,
     "metadata": {},
     "output_type": "execute_result"
    }
   ],
   "source": [
    "equation = pickle_load(\"./hall/hof.pkl\")\n",
    "feyn_params = np.array(sorted([float(atom) for atom in sympy.sympify(equation).atoms() if atom.is_number]))\n",
    "feyn_params = feyn_params[[0, 2, 3, 4]]\n",
    "\n",
    "def initial_function(x, a, b, c, d):\n",
    "    return c+d*np.exp(a*np.square(b*x-1))\n",
    "\n",
    "def jax_initial_function(x, a, b, c, d):\n",
    "    return c+d*jnp.exp(a*jnp.square(b*x-1))\n",
    "\n",
    "recovered_params = np.array(CurveFit().curve_fit(jax_initial_function, x.flatten(), un[:, 0], \n",
    "                                                  p0=feyn_params)[0])\n",
    "\n",
    "initial_condition_function = partial(initial_function, \n",
    "                                     a=recovered_params[0], \n",
    "                                     b=recovered_params[1], \n",
    "                                     c=recovered_params[2], \n",
    "                                     d=recovered_params[3])\n",
    "\n",
    "recovered_params"
   ]
  },
  {
   "cell_type": "code",
   "execution_count": 6,
   "id": "b6eb2cfe",
   "metadata": {},
   "outputs": [
    {
     "data": {
      "text/plain": [
       "'dt(u)-a*dx(dx(u))=-b*u*dx(u)'"
      ]
     },
     "execution_count": 6,
     "metadata": {},
     "output_type": "execute_result"
    }
   ],
   "source": [
    "LHS = \"dt(u)\"; RHS = \"=\"\n",
    "for i, term in enumerate(effective_terms):\n",
    "    if '*' not in term:\n",
    "        # linear\n",
    "        add_string = (lambda s: '+' if s < 0 else '-')(init_params[i])\n",
    "        add_string = add_string + chr(97+i) + '*' + effective_terms[i]\n",
    "        eval(compile(f\"{chr(97+i)} = {abs(init_params[i])}\", \"<string>\", \"exec\"))\n",
    "        LHS = LHS + add_string\n",
    "    else:\n",
    "        # non-linear\n",
    "        add_string = (lambda s: '-' if s < 0 else '+')(init_params[i])\n",
    "        add_string = add_string + chr(97+i) + '*' + effective_terms[i]\n",
    "        eval(compile(f\"{chr(97+i)} = {abs(init_params[i])}\", \"<string>\", \"exec\"))\n",
    "        RHS = RHS + add_string \n",
    "problem_string = LHS+RHS\n",
    "problem_string"
   ]
  },
  {
   "cell_type": "code",
   "execution_count": 7,
   "id": "8aba56fb",
   "metadata": {},
   "outputs": [],
   "source": [
    "# Parameters\n",
    "Lx = 8\n",
    "spatial_domain = (-Lx, Lx)\n",
    "Nx = 256\n",
    "dealias = 1.5 # 3/2\n",
    "stop_sim_time = 10\n",
    "timestepper = d3.SBDF4\n",
    "acc = 4\n",
    "timestep = (4e-3)/acc\n",
    "spatial_variable_name = 'x'\n",
    "target_variable_name = 'u'\n",
    "dtype = np.float64"
   ]
  },
  {
   "cell_type": "code",
   "execution_count": 8,
   "id": "257cf94e",
   "metadata": {},
   "outputs": [],
   "source": [
    "# Bases\n",
    "xcoord = d3.Coordinate(spatial_variable_name)\n",
    "dist = d3.Distributor(xcoord, dtype=dtype)\n",
    "xbasis = d3.RealFourier(xcoord, size=Nx, bounds=spatial_domain, dealias=dealias)\n",
    "# Fields\n",
    "u = dist.Field(name=target_variable_name, bases=xbasis)\n",
    "# Substitutions\n",
    "dx = lambda A: d3.Differentiate(A, xcoord)"
   ]
  },
  {
   "cell_type": "code",
   "execution_count": 9,
   "id": "be173340",
   "metadata": {},
   "outputs": [],
   "source": [
    "# Problem\n",
    "problem = d3.IVP([u], namespace=locals())\n",
    "# problem.add_equation(\"dt(u) - a*dx(dx(u)) - b*dx(dx(dx(u))) = - u*dx(u)\")\n",
    "problem.add_equation(problem_string)\n",
    "\n",
    "# Initial conditions\n",
    "x = dist.local_grid(xbasis)\n",
    "u['g'] = initial_condition_function(x)\n",
    "# u['g'] = un[:, 0]"
   ]
  },
  {
   "cell_type": "markdown",
   "id": "a8d44e74",
   "metadata": {},
   "source": [
    "#### Information criterion"
   ]
  },
  {
   "cell_type": "code",
   "execution_count": 10,
   "id": "7cfee594",
   "metadata": {},
   "outputs": [],
   "source": [
    "u_clean = loadmat(\"/Users/pongpisit/Desktop/research/PDE-FIND/Datasets/burgers.mat\")[\"usol\"].real\n",
    "cf_sol2 = loadmat(\"../DeepHPMs/Matlab/Burgers_sim/burgers_sim_com2.mat\")[\"usol\"]\n",
    "cf_sol3 = loadmat(\"../DeepHPMs/Matlab/Burgers_sim/burgers_sim_com3.mat\")[\"usol\"]"
   ]
  },
  {
   "cell_type": "code",
   "execution_count": 11,
   "id": "569a6ab4",
   "metadata": {},
   "outputs": [
    {
     "data": {
      "text/plain": [
       "(-134490.26864181866, -134160.41842963122)"
      ]
     },
     "execution_count": 11,
     "metadata": {},
     "output_type": "execute_result"
    }
   ],
   "source": [
    "undenoised = False\n",
    "if undenoised:\n",
    "    np.random.seed(0)\n",
    "    u_test = u_clean + 0.01*np.abs(noise_lv)*(u_clean.std())*np.random.randn(u_clean.shape[0], \n",
    "                                                                             u_clean.shape[1])\n",
    "else:\n",
    "    u_test = un.copy()\n",
    "    \n",
    "bic_com2, _ = BIC_AIC(cf_sol2.reshape(-1, 1), u_test.reshape(-1, 1), complexity)\n",
    "bic_com3, _ = BIC_AIC(cf_sol3.reshape(-1, 1), u_test.reshape(-1, 1), complexity)\n",
    "assert bic_com2 < bic_com3\n",
    "bic_com2, bic_com3"
   ]
  },
  {
   "cell_type": "code",
   "execution_count": 12,
   "id": "69d2de43",
   "metadata": {},
   "outputs": [
    {
     "data": {
      "text/plain": [
       "(-77506.82112795026, -77545.87932368998)"
      ]
     },
     "execution_count": 12,
     "metadata": {},
     "output_type": "execute_result"
    }
   ],
   "source": [
    "undenoised = True\n",
    "if undenoised:\n",
    "    np.random.seed(0)\n",
    "    u_test = u_clean + 0.01*np.abs(noise_lv)*(u_clean.std())*np.random.randn(u_clean.shape[0], \n",
    "                                                                             u_clean.shape[1])\n",
    "else:\n",
    "    u_test = un.copy()\n",
    "    \n",
    "bic_com2, _ = BIC_AIC(cf_sol2.reshape(-1, 1), u_test.reshape(-1, 1), complexity)\n",
    "bic_com3, _ = BIC_AIC(cf_sol3.reshape(-1, 1), u_test.reshape(-1, 1), complexity)\n",
    "assert bic_com2 < bic_com3\n",
    "bic_com3, bic_com2"
   ]
  },
  {
   "cell_type": "code",
   "execution_count": 13,
   "id": "dc460cf6",
   "metadata": {},
   "outputs": [],
   "source": [
    "## Chenfun | feyn -> params1 (Best adjusted IC) ***\n",
    "# (2, -134490.26864181866, _) on denoised\n",
    "# (3, -134160.41842963122, _) on denoised\n",
    "# (2, -77506.82112795026, _) on undenoised\n",
    "# (3, -77545.87932368998, _) on undenoised"
   ]
  },
  {
   "cell_type": "code",
   "execution_count": null,
   "id": "390ed08d",
   "metadata": {},
   "outputs": [],
   "source": []
  },
  {
   "cell_type": "code",
   "execution_count": null,
   "id": "1a382e58",
   "metadata": {},
   "outputs": [],
   "source": []
  }
 ],
 "metadata": {
  "kernelspec": {
   "display_name": "Python [conda env:dedalus3]",
   "language": "python",
   "name": "conda-env-dedalus3-py"
  },
  "language_info": {
   "codemirror_mode": {
    "name": "ipython",
    "version": 3
   },
   "file_extension": ".py",
   "mimetype": "text/x-python",
   "name": "python",
   "nbconvert_exporter": "python",
   "pygments_lexer": "ipython3",
   "version": "3.11.3"
  }
 },
 "nbformat": 4,
 "nbformat_minor": 5
}
