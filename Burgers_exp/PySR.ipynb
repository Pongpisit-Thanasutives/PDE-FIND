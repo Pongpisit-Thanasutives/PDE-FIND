{
 "cells": [
  {
   "cell_type": "code",
   "execution_count": 1,
   "id": "52cc8779-96ba-4817-be2c-5f4d148a25c5",
   "metadata": {},
   "outputs": [],
   "source": [
    "%matplotlib inline\n",
    "import matplotlib.pyplot as plt\n",
    "\n",
    "import sys; sys.path.append('../')\n",
    "from misc import h5file\n",
    "import numpy as np\n",
    "\n",
    "import scipy.io as sio\n",
    "import sympy\n",
    "from sympy import Symbol, parse_expr, sympify, lambdify, Lambda\n",
    "\n",
    "import pandas as pd\n",
    "import subprocess\n",
    "\n",
    "from scipy.optimize import curve_fit\n",
    "\n",
    "MAIN_SEED = 1234"
   ]
  },
  {
   "cell_type": "code",
   "execution_count": 2,
   "id": "12ff9ab7",
   "metadata": {},
   "outputs": [],
   "source": [
    "fp1 = \"./IPI_output_files/PMS_data.h5\""
   ]
  },
  {
   "cell_type": "code",
   "execution_count": 3,
   "id": "c1e54c52-64fa-45e7-9988-f81b4bdf4acc",
   "metadata": {},
   "outputs": [
    {
     "name": "stdout",
     "output_type": "stream",
     "text": [
      "['X_pre', 'best_subsets', 'un', 'y_pre']\n"
     ]
    }
   ],
   "source": [
    "_, _, un, _ = h5file(file_path=fp1, mode='r', return_dict=False)"
   ]
  },
  {
   "cell_type": "code",
   "execution_count": 4,
   "id": "5f7a0242-aedd-4eb7-87e0-62792f0b5a5b",
   "metadata": {},
   "outputs": [],
   "source": [
    "data = sio.loadmat('../Datasets/burgers.mat')\n",
    "x = data['x'].real.reshape(-1, 1)\n",
    "del data"
   ]
  },
  {
   "cell_type": "code",
   "execution_count": 5,
   "id": "9477412c-7540-4e2f-bddc-d5ab8f785975",
   "metadata": {},
   "outputs": [],
   "source": [
    "from pysr import PySRRegressor\n",
    "\n",
    "deterministic = True\n",
    "\n",
    "if not deterministic:\n",
    "    model = PySRRegressor(\n",
    "        niterations=50,  # < Increase me for better results\n",
    "        binary_operators=[\"+\", \"*\"],\n",
    "        unary_operators=[\"exp\", \"square\"], \n",
    "        deterministic=deterministic\n",
    "    )\n",
    "else:\n",
    "    np.random.seed(MAIN_SEED)\n",
    "    model = PySRRegressor(\n",
    "        niterations=50,  # < Increase me for better results\n",
    "        binary_operators=[\"+\", \"*\"],\n",
    "        unary_operators=[\"exp\", \"square\"], \n",
    "        # For a deterministic result\n",
    "        deterministic=deterministic, \n",
    "        random_state=MAIN_SEED, \n",
    "        procs=0, \n",
    "        multithreading=False\n",
    "    )"
   ]
  },
  {
   "cell_type": "code",
   "execution_count": 6,
   "id": "23d306ef-bacb-411d-b07d-7c1c2918fc58",
   "metadata": {},
   "outputs": [
    {
     "name": "stderr",
     "output_type": "stream",
     "text": [
      "/Users/pongpisit/anaconda3/envs/pysr_latest/lib/python3.11/site-packages/pysr/sr.py:1289: UserWarning: Note: it looks like you are running in Jupyter. The progress bar will be turned off.\n",
      "  warnings.warn(\n",
      "/Users/pongpisit/anaconda3/envs/pysr_latest/lib/python3.11/site-packages/pysr/julia_helpers.py:197: UserWarning: Your system's Python library is static (e.g., conda), so precompilation will be turned off. For a dynamic library, try `pyenv`.\n",
      "  warnings.warn(\n"
     ]
    },
    {
     "name": "stdout",
     "output_type": "stream",
     "text": [
      "Started!\n",
      "\n",
      "Cycles per second: 5.690e+04\n",
      "Progress: 157 / 750 total iterations (20.933%)\n",
      "====================================================================================================\n",
      "Hall of Fame:\n",
      "---------------------------------------------------------------------------------------------------\n",
      "Complexity  Loss       Score     Equation\n",
      "1           6.684e-02  1.114e-07  0.113170736\n",
      "6           6.562e-02  3.704e-03  square(-0.30881372 + (0.01490621 * x0))\n",
      "7           4.446e-04  4.995e+00  exp(square(x0 + 2.0117266) * -1.0112218)\n",
      "9           4.444e-04  1.781e-04  exp(square(x0 + square(square(1.1909101))) * -0.99798566)\n",
      "11          4.438e-04  6.249e-04  square(square(exp(square(x0 + square(square(1.1909101))) * -0....\n",
      "                                  25102076)))\n",
      "15          4.420e-04  1.010e-03  exp(square((x0 + -0.013938772) + square(square(1.1909101))) * ...\n",
      "                                  (-1.0366871 + (-0.013938772 * x0)))\n",
      "16          4.415e-04  1.299e-03  square(exp(square((square(-2.0019612) + x0) + -2.0019612) * -0...\n",
      "                                  .5092167) * square(square(square(-1.0007379))))\n",
      "18          4.382e-04  3.690e-03  square(exp(square((square(-2.0019612) + (square(square(exp(-2....\n",
      "                                  0019612) * x0)) + x0)) + -2.0019612) * -0.5092167))\n",
      "19          4.317e-04  1.493e-02  exp(square((square(-2.0019612) + x0) + -2.0019612) * (((-2.001...\n",
      "                                  9612 + 0.48494396) + 0.4856733) + square(-0.07040086 * x0)))\n",
      "---------------------------------------------------------------------------------------------------\n",
      "====================================================================================================\n",
      "Press 'q' and then <enter> to stop execution early.\n",
      "\n",
      "Cycles per second: 5.670e+04\n",
      "Progress: 313 / 750 total iterations (41.733%)\n",
      "====================================================================================================\n",
      "Hall of Fame:\n",
      "---------------------------------------------------------------------------------------------------\n",
      "Complexity  Loss       Score     Equation\n",
      "1           6.684e-02  1.114e-07  0.113170736\n",
      "6           6.562e-02  3.704e-03  square(-0.30881372 + (0.01490621 * x0))\n",
      "7           4.438e-04  4.996e+00  exp(square(x0 + 2.0116963) * -1.0041662)\n",
      "9           4.413e-04  2.902e-03  exp((square(x0 + 2.0116963) * -1.0041662) + 0.0032901817)\n",
      "11          4.404e-04  9.878e-04  exp((square(x0 + 2.0116963) * -1.0041662) + (0.0032901817 * 2....\n",
      "                                  0116963))\n",
      "13          4.374e-04  3.436e-03  exp(square(x0 + square(square(1.1909101))) * (-1.0366871 + (-0...\n",
      "                                  .013938772 * x0)))\n",
      "15          4.374e-04  2.945e-05  exp(square(x0 + square(square(1.1909101))) * (-1.0366871 + (-0...\n",
      "                                  .013938772 * (-0.013938772 + x0))))\n",
      "16          4.325e-04  1.121e-02  square(square(exp(square(x0 + (square(square(1.1730834)) + squ...\n",
      "                                  are(x0 * 0.161092))) * -0.30964127)))\n",
      "18          4.261e-04  7.481e-03  square(square(exp(square(x0 + (square(square(1.1730834)) + ((-...\n",
      "                                  0.0764431 * -0.3220441) * square(x0)))) * -0.30964127)))\n",
      "---------------------------------------------------------------------------------------------------\n",
      "====================================================================================================\n",
      "Press 'q' and then <enter> to stop execution early.\n",
      "\n",
      "Cycles per second: 5.580e+04\n",
      "Progress: 462 / 750 total iterations (61.600%)\n",
      "====================================================================================================\n",
      "Hall of Fame:\n",
      "---------------------------------------------------------------------------------------------------\n",
      "Complexity  Loss       Score     Equation\n",
      "1           6.684e-02  1.114e-07  0.113170736\n",
      "6           6.562e-02  3.704e-03  square(-0.30881372 + (0.01490621 * x0))\n",
      "7           4.438e-04  4.996e+00  exp(square(x0 + 2.0116963) * -1.0041662)\n",
      "9           4.413e-04  2.902e-03  exp((square(x0 + 2.0116963) * -1.0041662) + 0.0032901817)\n",
      "10          4.405e-04  1.760e-03  exp((square(x0 + 2.0116963) * -1.0041662) + square(-0.08778353...\n",
      "                                  ))\n",
      "11          4.404e-04  2.156e-04  exp((square(x0 + 2.0116963) * -1.0041662) + (0.0032901817 * 2....\n",
      "                                  0116963))\n",
      "12          4.389e-04  3.442e-03  square(exp(square((x0 + 2.0116963) * 1.2093288) * -0.3522672) ...\n",
      "                                  + 0.0042892126)\n",
      "13          4.374e-04  3.430e-03  exp(square(x0 + square(square(1.1909101))) * (-1.0366871 + (-0...\n",
      "                                  .013938772 * x0)))\n",
      "15          4.366e-04  9.399e-04  exp(square(x0 + square(square(1.1909101))) * (-1.0366871 + (1....\n",
      "                                  1909101 * (-0.013938772 * x0))))\n",
      "16          4.325e-04  9.392e-03  square(square(exp(square(x0 + (square(square(1.1730834)) + squ...\n",
      "                                  are(x0 * 0.161092))) * -0.30964127)))\n",
      "18          4.261e-04  7.481e-03  square(square(exp(square(x0 + (square(square(1.1730834)) + ((-...\n",
      "                                  0.0764431 * -0.3220441) * square(x0)))) * -0.30964127)))\n",
      "---------------------------------------------------------------------------------------------------\n",
      "====================================================================================================\n",
      "Press 'q' and then <enter> to stop execution early.\n",
      "\n",
      "Cycles per second: 5.680e+04\n",
      "Progress: 627 / 750 total iterations (83.600%)\n",
      "====================================================================================================\n",
      "Hall of Fame:\n",
      "---------------------------------------------------------------------------------------------------\n",
      "Complexity  Loss       Score     Equation\n",
      "1           6.684e-02  1.114e-07  0.113170736\n",
      "5           6.466e-02  8.301e-03  (0.10588875 + (-0.011782348 * x0))\n",
      "7           4.438e-04  2.491e+00  exp(square(x0 + 2.0116963) * -1.0041662)\n",
      "9           4.408e-04  3.389e-03  exp((square(x0 + 2.0116963) + -0.0042296816) * -1.0041662)\n",
      "10          4.395e-04  2.992e-03  (exp(square(x0 + 2.0116963) * -1.0041662) + square(0.031962294...\n",
      "                                  ))\n",
      "11          4.370e-04  5.820e-03  (exp(square(x0 + 2.0116963) * -1.0041662) + square(square(0.22...\n",
      "                                  867697)))\n",
      "14          4.370e-04  9.398e-06  (exp(square(x0 + 2.0116963) * -1.0041662) + square(0.41699326 ...\n",
      "                                  * (-0.19933774 * -0.6177975)))\n",
      "15          4.366e-04  9.143e-04  exp(square(x0 + square(square(1.1909101))) * (-1.0366871 + (1....\n",
      "                                  1909101 * (-0.013938772 * x0))))\n",
      "16          4.325e-04  9.392e-03  square(square(exp(square(x0 + (square(square(1.1730834)) + squ...\n",
      "                                  are(x0 * 0.161092))) * -0.30964127)))\n",
      "18          4.261e-04  7.481e-03  square(square(exp(square(x0 + (square(square(1.1730834)) + ((-...\n",
      "                                  0.0764431 * -0.3220441) * square(x0)))) * -0.30964127)))\n",
      "---------------------------------------------------------------------------------------------------\n",
      "====================================================================================================\n",
      "Press 'q' and then <enter> to stop execution early.\n"
     ]
    },
    {
     "data": {
      "text/html": [
       "<style>#sk-container-id-1 {color: black;background-color: white;}#sk-container-id-1 pre{padding: 0;}#sk-container-id-1 div.sk-toggleable {background-color: white;}#sk-container-id-1 label.sk-toggleable__label {cursor: pointer;display: block;width: 100%;margin-bottom: 0;padding: 0.3em;box-sizing: border-box;text-align: center;}#sk-container-id-1 label.sk-toggleable__label-arrow:before {content: \"▸\";float: left;margin-right: 0.25em;color: #696969;}#sk-container-id-1 label.sk-toggleable__label-arrow:hover:before {color: black;}#sk-container-id-1 div.sk-estimator:hover label.sk-toggleable__label-arrow:before {color: black;}#sk-container-id-1 div.sk-toggleable__content {max-height: 0;max-width: 0;overflow: hidden;text-align: left;background-color: #f0f8ff;}#sk-container-id-1 div.sk-toggleable__content pre {margin: 0.2em;color: black;border-radius: 0.25em;background-color: #f0f8ff;}#sk-container-id-1 input.sk-toggleable__control:checked~div.sk-toggleable__content {max-height: 200px;max-width: 100%;overflow: auto;}#sk-container-id-1 input.sk-toggleable__control:checked~label.sk-toggleable__label-arrow:before {content: \"▾\";}#sk-container-id-1 div.sk-estimator input.sk-toggleable__control:checked~label.sk-toggleable__label {background-color: #d4ebff;}#sk-container-id-1 div.sk-label input.sk-toggleable__control:checked~label.sk-toggleable__label {background-color: #d4ebff;}#sk-container-id-1 input.sk-hidden--visually {border: 0;clip: rect(1px 1px 1px 1px);clip: rect(1px, 1px, 1px, 1px);height: 1px;margin: -1px;overflow: hidden;padding: 0;position: absolute;width: 1px;}#sk-container-id-1 div.sk-estimator {font-family: monospace;background-color: #f0f8ff;border: 1px dotted black;border-radius: 0.25em;box-sizing: border-box;margin-bottom: 0.5em;}#sk-container-id-1 div.sk-estimator:hover {background-color: #d4ebff;}#sk-container-id-1 div.sk-parallel-item::after {content: \"\";width: 100%;border-bottom: 1px solid gray;flex-grow: 1;}#sk-container-id-1 div.sk-label:hover label.sk-toggleable__label {background-color: #d4ebff;}#sk-container-id-1 div.sk-serial::before {content: \"\";position: absolute;border-left: 1px solid gray;box-sizing: border-box;top: 0;bottom: 0;left: 50%;z-index: 0;}#sk-container-id-1 div.sk-serial {display: flex;flex-direction: column;align-items: center;background-color: white;padding-right: 0.2em;padding-left: 0.2em;position: relative;}#sk-container-id-1 div.sk-item {position: relative;z-index: 1;}#sk-container-id-1 div.sk-parallel {display: flex;align-items: stretch;justify-content: center;background-color: white;position: relative;}#sk-container-id-1 div.sk-item::before, #sk-container-id-1 div.sk-parallel-item::before {content: \"\";position: absolute;border-left: 1px solid gray;box-sizing: border-box;top: 0;bottom: 0;left: 50%;z-index: -1;}#sk-container-id-1 div.sk-parallel-item {display: flex;flex-direction: column;z-index: 1;position: relative;background-color: white;}#sk-container-id-1 div.sk-parallel-item:first-child::after {align-self: flex-end;width: 50%;}#sk-container-id-1 div.sk-parallel-item:last-child::after {align-self: flex-start;width: 50%;}#sk-container-id-1 div.sk-parallel-item:only-child::after {width: 0;}#sk-container-id-1 div.sk-dashed-wrapped {border: 1px dashed gray;margin: 0 0.4em 0.5em 0.4em;box-sizing: border-box;padding-bottom: 0.4em;background-color: white;}#sk-container-id-1 div.sk-label label {font-family: monospace;font-weight: bold;display: inline-block;line-height: 1.2em;}#sk-container-id-1 div.sk-label-container {text-align: center;}#sk-container-id-1 div.sk-container {/* jupyter's `normalize.less` sets `[hidden] { display: none; }` but bootstrap.min.css set `[hidden] { display: none !important; }` so we also need the `!important` here to be able to override the default hidden behavior on the sphinx rendered scikit-learn.org. See: https://github.com/scikit-learn/scikit-learn/issues/21755 */display: inline-block !important;position: relative;}#sk-container-id-1 div.sk-text-repr-fallback {display: none;}</style><div id=\"sk-container-id-1\" class=\"sk-top-container\"><div class=\"sk-text-repr-fallback\"><pre>PySRRegressor.equations_ = [\n",
       "\t   pick     score                                           equation   \n",
       "\t0        0.000000                                        0.113170736  \\\n",
       "\t1        0.008301                 (0.10588875 + (-0.011782348 * x0))   \n",
       "\t2  &gt;&gt;&gt;&gt;  2.490723           exp(square(x0 + 2.0116963) * -1.0041662)   \n",
       "\t3        0.003389  exp((square(x0 + 2.0116963) + -0.0042296816) *...   \n",
       "\t4        0.002992  (exp(square(x0 + 2.0116963) * -1.0041662) + sq...   \n",
       "\t5        0.005820  (exp(square(x0 + 2.0116963) * -1.0041662) + sq...   \n",
       "\t6        0.000009  (exp(square(x0 + 2.0116963) * -1.0041662) + sq...   \n",
       "\t7        0.002957  exp(square(x0 + square(square(1.1909101))) * (...   \n",
       "\t8        0.003679  square(square(exp(square(x0 + (square(square(1...   \n",
       "\t9        0.007481  square(square(exp(square(x0 + (square(square(1...   \n",
       "\t\n",
       "\t       loss  complexity  \n",
       "\t0  0.066843           1  \n",
       "\t1  0.064660           5  \n",
       "\t2  0.000444           7  \n",
       "\t3  0.000441           9  \n",
       "\t4  0.000440          10  \n",
       "\t5  0.000437          11  \n",
       "\t6  0.000437          13  \n",
       "\t7  0.000436          14  \n",
       "\t8  0.000432          16  \n",
       "\t9  0.000426          18  \n",
       "]</pre><b>In a Jupyter environment, please rerun this cell to show the HTML representation or trust the notebook. <br />On GitHub, the HTML representation is unable to render, please try loading this page with nbviewer.org.</b></div><div class=\"sk-container\" hidden><div class=\"sk-item\"><div class=\"sk-estimator sk-toggleable\"><input class=\"sk-toggleable__control sk-hidden--visually\" id=\"sk-estimator-id-1\" type=\"checkbox\" checked><label for=\"sk-estimator-id-1\" class=\"sk-toggleable__label sk-toggleable__label-arrow\">PySRRegressor</label><div class=\"sk-toggleable__content\"><pre>PySRRegressor.equations_ = [\n",
       "\t   pick     score                                           equation   \n",
       "\t0        0.000000                                        0.113170736  \\\n",
       "\t1        0.008301                 (0.10588875 + (-0.011782348 * x0))   \n",
       "\t2  &gt;&gt;&gt;&gt;  2.490723           exp(square(x0 + 2.0116963) * -1.0041662)   \n",
       "\t3        0.003389  exp((square(x0 + 2.0116963) + -0.0042296816) *...   \n",
       "\t4        0.002992  (exp(square(x0 + 2.0116963) * -1.0041662) + sq...   \n",
       "\t5        0.005820  (exp(square(x0 + 2.0116963) * -1.0041662) + sq...   \n",
       "\t6        0.000009  (exp(square(x0 + 2.0116963) * -1.0041662) + sq...   \n",
       "\t7        0.002957  exp(square(x0 + square(square(1.1909101))) * (...   \n",
       "\t8        0.003679  square(square(exp(square(x0 + (square(square(1...   \n",
       "\t9        0.007481  square(square(exp(square(x0 + (square(square(1...   \n",
       "\t\n",
       "\t       loss  complexity  \n",
       "\t0  0.066843           1  \n",
       "\t1  0.064660           5  \n",
       "\t2  0.000444           7  \n",
       "\t3  0.000441           9  \n",
       "\t4  0.000440          10  \n",
       "\t5  0.000437          11  \n",
       "\t6  0.000437          13  \n",
       "\t7  0.000436          14  \n",
       "\t8  0.000432          16  \n",
       "\t9  0.000426          18  \n",
       "]</pre></div></div></div></div></div>"
      ],
      "text/plain": [
       "PySRRegressor.equations_ = [\n",
       "\t   pick     score                                           equation   \n",
       "\t0        0.000000                                        0.113170736  \\\n",
       "\t1        0.008301                 (0.10588875 + (-0.011782348 * x0))   \n",
       "\t2  >>>>  2.490723           exp(square(x0 + 2.0116963) * -1.0041662)   \n",
       "\t3        0.003389  exp((square(x0 + 2.0116963) + -0.0042296816) *...   \n",
       "\t4        0.002992  (exp(square(x0 + 2.0116963) * -1.0041662) + sq...   \n",
       "\t5        0.005820  (exp(square(x0 + 2.0116963) * -1.0041662) + sq...   \n",
       "\t6        0.000009  (exp(square(x0 + 2.0116963) * -1.0041662) + sq...   \n",
       "\t7        0.002957  exp(square(x0 + square(square(1.1909101))) * (...   \n",
       "\t8        0.003679  square(square(exp(square(x0 + (square(square(1...   \n",
       "\t9        0.007481  square(square(exp(square(x0 + (square(square(1...   \n",
       "\t\n",
       "\t       loss  complexity  \n",
       "\t0  0.066843           1  \n",
       "\t1  0.064660           5  \n",
       "\t2  0.000444           7  \n",
       "\t3  0.000441           9  \n",
       "\t4  0.000440          10  \n",
       "\t5  0.000437          11  \n",
       "\t6  0.000437          13  \n",
       "\t7  0.000436          14  \n",
       "\t8  0.000432          16  \n",
       "\t9  0.000426          18  \n",
       "]"
      ]
     },
     "execution_count": 6,
     "metadata": {},
     "output_type": "execute_result"
    }
   ],
   "source": [
    "model.fit(x, un[:,0])"
   ]
  },
  {
   "cell_type": "code",
   "execution_count": 9,
   "id": "e73aac2e",
   "metadata": {},
   "outputs": [
    {
     "name": "stdout",
     "output_type": "stream",
     "text": [
      "./hall/hof.csv\n"
     ]
    },
    {
     "name": "stderr",
     "output_type": "stream",
     "text": [
      "rm: hall_of_fame_*: No such file or directory\n"
     ]
    }
   ],
   "source": [
    "# save_to = f\"./hall/hof.csv\"\n",
    "# model.get_hof().to_csv(save_to, index=None)\n",
    "# subprocess.run([\"bash\", \"clean_pysr.sh\"])\n",
    "# print(save_to)"
   ]
  },
  {
   "cell_type": "code",
   "execution_count": 10,
   "id": "cd86e41e",
   "metadata": {},
   "outputs": [],
   "source": [
    "hof = pd.read_csv(save_to)\n",
    "# hof = model.get_hof()"
   ]
  },
  {
   "cell_type": "code",
   "execution_count": 11,
   "id": "d30cbb64-8d8c-4cb2-b966-b203aefa8089",
   "metadata": {},
   "outputs": [],
   "source": [
    "equation = hof.iloc[np.argmax(hof[\"score\"])]"
   ]
  },
  {
   "cell_type": "code",
   "execution_count": 12,
   "id": "6a688c0c",
   "metadata": {},
   "outputs": [],
   "source": [
    "import re\n",
    "from functools import partial\n",
    "from simpleeval import simple_eval\n",
    "from py_expression_eval import Parser\n",
    "from sympy import Symbol\n",
    "\n",
    "def extract_function(equation):\n",
    "    floats = re.findall(\"\\d+\\.\\d+\", equation.equation)\n",
    "    notaions = [chr(97+i) for i in range(len(floats))]\n",
    "    ind_notations = Parser().parse(equation.sympy_format).variables()\n",
    "    new_equation = equation.equation\n",
    "    for f,n in zip(floats, notaions):\n",
    "        new_equation = new_equation.replace(f, n)\n",
    "    function = lambdify(args=list(map(Symbol, ind_notations+notaions)), \n",
    "                        expr=new_equation)\n",
    "    return function, ind_notations, dict(zip(notaions, map(float, floats)))\n",
    "\n",
    "function, ind_notations, args = extract_function(equation)\n",
    "# function = partial(function, **dict(zip(notaions, map(float, floats))))\n",
    "# ((function(x)-un[:, 0:1])**2).mean()"
   ]
  },
  {
   "cell_type": "code",
   "execution_count": 13,
   "id": "fc914264-778a-4247-b014-3a7af51c21b3",
   "metadata": {},
   "outputs": [
    {
     "name": "stdout",
     "output_type": "stream",
     "text": [
      "exp(-4.0637822898844*(0.497092926004785*x0 + 1)**2)\n"
     ]
    },
    {
     "data": {
      "text/plain": [
       "0.00044383308825338683"
      ]
     },
     "execution_count": 13,
     "metadata": {},
     "output_type": "execute_result"
    }
   ],
   "source": [
    "print(equation.sympy_format) # exp(-1.0219623 * square(1.9614727 + x0))\n",
    "func = lambdify(args=sympy.symbols('x0'), expr=equation.sympy_format)\n",
    "# deter: 0.0006665787665166545\n",
    "# non-deter-1: 0.0006665787695548446\n",
    "((np.vectorize(func)(x)-un[:, 0:1])**2).mean()"
   ]
  },
  {
   "cell_type": "code",
   "execution_count": 14,
   "id": "6d982837-32b6-4c5b-837d-d29a60491f13",
   "metadata": {},
   "outputs": [
    {
     "data": {
      "image/png": "[encoded data removed]",
      "text/plain": [
       "<Figure size 640x480 with 1 Axes>"
      ]
     },
     "metadata": {},
     "output_type": "display_data"
    }
   ],
   "source": [
    "plt.plot(x.flatten(), partial(function, **args)(x))\n",
    "plt.show()"
   ]
  },
  {
   "cell_type": "code",
   "execution_count": 15,
   "id": "004ebe1f",
   "metadata": {},
   "outputs": [
    {
     "name": "stdout",
     "output_type": "stream",
     "text": [
      "[2.01169575 1.00414883]\n",
      "0.00044383308388849547\n"
     ]
    },
    {
     "data": {
      "image/png": "[encoded data removed]",
      "text/plain": [
       "<Figure size 640x480 with 1 Axes>"
      ]
     },
     "metadata": {},
     "output_type": "display_data"
    }
   ],
   "source": [
    "recovered_params = curve_fit(function, x.flatten(), un[:, 0])[0]\n",
    "print(recovered_params)\n",
    "print(((function(x, *recovered_params)-un[:, 0:1])**2).mean())\n",
    "plt.plot(x, function(x, *recovered_params))\n",
    "plt.show()"
   ]
  },
  {
   "cell_type": "code",
   "execution_count": 16,
   "id": "48de6603",
   "metadata": {},
   "outputs": [],
   "source": [
    "def func(x, a, b):\n",
    "    return np.exp(np.square(x+a)*b)"
   ]
  },
  {
   "cell_type": "code",
   "execution_count": 17,
   "id": "905e874e",
   "metadata": {},
   "outputs": [
    {
     "name": "stdout",
     "output_type": "stream",
     "text": [
      "[ 2.01169571 -1.00414888]\n",
      "0.0004438330838882192\n"
     ]
    },
    {
     "data": {
      "image/png": "[encoded data removed]",
      "text/plain": [
       "<Figure size 640x480 with 1 Axes>"
      ]
     },
     "metadata": {},
     "output_type": "display_data"
    }
   ],
   "source": [
    "recovered_params = curve_fit(func, x.flatten(), un[:, 0])[0]\n",
    "print(recovered_params)\n",
    "print(((func(x, *recovered_params)-un[:, 0:1])**2).mean())\n",
    "plt.plot(x, func(x, *recovered_params))\n",
    "plt.show()"
   ]
  },
  {
   "cell_type": "code",
   "execution_count": 18,
   "id": "da2b947f-c5af-49aa-bf41-7f0d1783a1a7",
   "metadata": {},
   "outputs": [],
   "source": [
    "# np.save(\"./tmp_files/u0_est.npy\", np.array([func(e) for e in x.flatten()]).astype(np.float32))"
   ]
  },
  {
   "cell_type": "code",
   "execution_count": null,
   "id": "369293fb",
   "metadata": {},
   "outputs": [],
   "source": []
  },
  {
   "cell_type": "code",
   "execution_count": null,
   "id": "01d37771",
   "metadata": {},
   "outputs": [],
   "source": []
  },
  {
   "cell_type": "markdown",
   "id": "df738d04",
   "metadata": {},
   "source": [
    "#### Sympy -> Torch"
   ]
  },
  {
   "cell_type": "code",
   "execution_count": 17,
   "id": "0a8dbe9c",
   "metadata": {},
   "outputs": [],
   "source": [
    "import torch, sympytorch"
   ]
  },
  {
   "cell_type": "code",
   "execution_count": 18,
   "id": "0fe5b5c3",
   "metadata": {},
   "outputs": [],
   "source": [
    "x_ = torch.tensor(x.flatten()).float()"
   ]
  },
  {
   "cell_type": "code",
   "execution_count": 19,
   "id": "c874501d",
   "metadata": {},
   "outputs": [
    {
     "data": {
      "text/latex": [
       "$\\displaystyle e^{- 4.1507986414173 \\left(0.496318754168457 x_{0} + 1\\right)^{2}}$"
      ],
      "text/plain": [
       "exp(-4.1507986414173*(0.496318754168457*x0 + 1)**2)"
      ]
     },
     "execution_count": 19,
     "metadata": {},
     "output_type": "execute_result"
    }
   ],
   "source": [
    "# automatic way of getting learnable parameters\n",
    "sympy_equation = sympify(equation.sympy_format)\n",
    "sympy_equation\n",
    "\n",
    "# sympy_equation = parse_expr(equation.equation, \n",
    "#                             local_dict={\"square\": square, \"exp\":sympy.exp})\n",
    "\n",
    "# x0 = Symbol('x0', real=True)\n",
    "# square = Lambda(x0, x0**2)\n",
    "# sympy_equation = sympify(equation.equation, locals={\"square\": square, \"exp\":sympy.exp}, \n",
    "#                evaluate=True, rational=False)"
   ]
  },
  {
   "cell_type": "code",
   "execution_count": 20,
   "id": "fae9fa09",
   "metadata": {},
   "outputs": [],
   "source": [
    "# automatic way of getting learnable parameters\n",
    "mod = sympytorch.SymPyModule(expressions=[sympy_equation])"
   ]
  },
  {
   "cell_type": "code",
   "execution_count": 21,
   "id": "2bcaffff",
   "metadata": {},
   "outputs": [
    {
     "name": "stdout",
     "output_type": "stream",
     "text": [
      "0.0006418376738908429\n"
     ]
    },
    {
     "data": {
      "image/png": "[encoded data removed]",
      "text/plain": [
       "<Figure size 640x480 with 1 Axes>"
      ]
     },
     "metadata": {},
     "output_type": "display_data"
    }
   ],
   "source": [
    "plt.plot(x, mod(x0=x_).detach().numpy())\n",
    "print(((mod(x0=x_).detach().numpy()-un[:, 0:1])**2).mean())\n",
    "plt.show()"
   ]
  },
  {
   "cell_type": "code",
   "execution_count": 22,
   "id": "d778e108",
   "metadata": {},
   "outputs": [
    {
     "name": "stdout",
     "output_type": "stream",
     "text": [
      "0.0006418377944037246\n"
     ]
    }
   ],
   "source": [
    "# PARTIAL CONTROL on the learnable parameters\n",
    "x0 = Symbol(\"x0\")\n",
    "x1 = Symbol(\"x1\")\n",
    "a, b = recovered_params\n",
    "manual_equation = sympy.exp(b*((x0+a)**2))\n",
    "mod = sympytorch.SymPyModule(expressions=[manual_equation])\n",
    "print(((mod(x0=x_).detach().numpy()-un[:, 0:1])**2).mean())"
   ]
  },
  {
   "cell_type": "code",
   "execution_count": 23,
   "id": "81483673",
   "metadata": {},
   "outputs": [
    {
     "name": "stdout",
     "output_type": "stream",
     "text": [
      "0.0006418377469256779\n"
     ]
    },
    {
     "data": {
      "text/plain": [
       "([Parameter containing:\n",
       "  tensor(2.0148, requires_grad=True)],\n",
       " [Parameter containing:\n",
       "  tensor(-1.0225, requires_grad=True)])"
      ]
     },
     "execution_count": 23,
     "metadata": {},
     "output_type": "execute_result"
    }
   ],
   "source": [
    "# FULLL CONTROL on the learnable parameters\n",
    "mod1 = sympytorch.SymPyModule(expressions=[x0+a])\n",
    "mod2 = sympytorch.SymPyModule(expressions=[sympy.exp(b*x1**2)])\n",
    "print(((mod2(x1=mod1(x0=x_).flatten()).detach().numpy()-un[:, 0:1])**2).mean())\n",
    "list(mod1.parameters()), list(mod2.parameters())"
   ]
  },
  {
   "cell_type": "code",
   "execution_count": 24,
   "id": "0b47a53f",
   "metadata": {},
   "outputs": [
    {
     "data": {
      "text/latex": [
       "$\\displaystyle e^{- 4.1507986414173 \\left(0.496318754168457 x_{0} + 1\\right)^{2}}$"
      ],
      "text/plain": [
       "exp(-4.1507986414173*(0.496318754168457*x0 + 1)**2)"
      ]
     },
     "execution_count": 24,
     "metadata": {},
     "output_type": "execute_result"
    }
   ],
   "source": [
    "sympy_equation"
   ]
  },
  {
   "cell_type": "code",
   "execution_count": 25,
   "id": "9b8c8233",
   "metadata": {},
   "outputs": [
    {
     "data": {
      "text/plain": [
       "0.0006664011032748716"
      ]
     },
     "execution_count": 25,
     "metadata": {},
     "output_type": "execute_result"
    }
   ],
   "source": [
    "func = lambdify(args=sympy.symbols('x0'), expr=\"exp(-1. * square(2. + x0))\")\n",
    "# deter: 0.0006665787665166545\n",
    "# non-deter-1: 0.0006665787695548446\n",
    "((np.vectorize(func)(x)-un[:, 0:1])**2).mean()"
   ]
  },
  {
   "cell_type": "code",
   "execution_count": 26,
   "id": "9ae40571",
   "metadata": {},
   "outputs": [],
   "source": [
    "expr = sympify(equation.equation)"
   ]
  },
  {
   "cell_type": "code",
   "execution_count": 27,
   "id": "475b048b",
   "metadata": {},
   "outputs": [],
   "source": [
    "numbers = [atom for atom in sympify(equation.equation).atoms() if atom.is_number]"
   ]
  },
  {
   "cell_type": "code",
   "execution_count": 28,
   "id": "c163352e",
   "metadata": {},
   "outputs": [
    {
     "data": {
      "text/plain": [
       "[-1.02247580000000, 2.01483420000000]"
      ]
     },
     "execution_count": 28,
     "metadata": {},
     "output_type": "execute_result"
    }
   ],
   "source": [
    "numbers"
   ]
  }
 ],
 "metadata": {
  "kernelspec": {
   "display_name": "Python [conda env:pysr_latest]",
   "language": "python",
   "name": "conda-env-pysr_latest-py"
  },
  "language_info": {
   "codemirror_mode": {
    "name": "ipython",
    "version": 3
   },
   "file_extension": ".py",
   "mimetype": "text/x-python",
   "name": "python",
   "nbconvert_exporter": "python",
   "pygments_lexer": "ipython3",
   "version": "3.11.4"
  },
  "widgets": {
   "application/vnd.jupyter.widget-state+json": {
    "state": {},
    "version_major": 2,
    "version_minor": 0
   }
  }
 },
 "nbformat": 4,
 "nbformat_minor": 5
}
