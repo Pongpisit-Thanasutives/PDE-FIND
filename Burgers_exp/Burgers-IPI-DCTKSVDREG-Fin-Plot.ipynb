{
 "cells": [
  {
   "cell_type": "markdown",
   "metadata": {},
   "source": [
    "# PDE-FIND for Burger's Equation\n",
    "\n",
    "This notebook demonstrates PDE-FIND on Burger's equation with an added diffusive term.\n",
    "$$\n",
    "u_t + uu_x = 0.1u_{xx}\n",
    "$$\n",
    "The solution given is a single travelling wave, starting out as a Gaussian."
   ]
  },
  {
   "cell_type": "code",
   "execution_count": 1,
   "metadata": {},
   "outputs": [
    {
     "name": "stdout",
     "output_type": "stream",
     "text": [
      "Sklearn's version: 1.2.2\n",
      "mrmr is not installed in the env you are using. This may cause an error in future if you try to use the (missing) lib.\n"
     ]
    }
   ],
   "source": [
    "%load_ext autoreload\n",
    "%autoreload 2\n",
    "%matplotlib inline\n",
    "import matplotlib.pyplot as plt\n",
    "import warnings; warnings.filterwarnings(\"ignore\")\n",
    "\n",
    "import numpy as np\n",
    "from numpy.random import default_rng\n",
    "import pandas as pd\n",
    "\n",
    "import os\n",
    "import sys; sys.path.append('../')\n",
    "from PDE_FIND import *\n",
    "from PDE_FIND_RUDY import TrainSTRidge as TrainSTRidgeRudy\n",
    "\n",
    "import sys; sys.path.append('../../parametric-discovery/')\n",
    "from best_subset import *\n",
    "from frols import frols\n",
    "from p_linear_regression import PLinearRegression\n",
    "from r_pca import R_pca\n",
    "from pde_diff_new import RPCA\n",
    "from RobustPCA.rpca import RobustPCA\n",
    "\n",
    "import scipy.io as sio\n",
    "from scipy.signal import savgol_filter, wiener\n",
    "from scipy.integrate import trapz\n",
    "import itertools\n",
    "\n",
    "from sklearn.preprocessing import normalize\n",
    "from sklearn.linear_model import Ridge, BayesianRidge, LinearRegression as SkLinearRegression\n",
    "from sklearn.base import BaseEstimator\n",
    "from sklearn.pipeline import make_pipeline\n",
    "from sklearn.metrics import mean_squared_error\n",
    "from abess.linear import LinearRegression\n",
    "import pysindy as ps\n",
    "\n",
    "from os.path import join as join_path\n",
    "FIGURE_EXPORT_PATH = \"/Users/pongpisit/Documents/figure_export/\"\n",
    "\n",
    "def evaluate_coefficients(prediected_coeffs):\n",
    "    GROUND = np.array([0.1, -1])\n",
    "    errs = 100*np.abs(GROUND-np.array(prediected_coeffs).flatten())/np.abs(GROUND)\n",
    "    return errs.mean(), errs.std()\n",
    "\n",
    "def percent_coeff(pred, ground):\n",
    "    return 100*np.abs(pred-ground)/np.abs(ground)\n",
    "\n",
    "import torch, sympytorch\n",
    "import torch.nn as nn\n",
    "import torch.nn.functional as F\n",
    "from sympy import symbols, simplify, lambdify\n",
    "from mathparser import math_eval\n",
    "from varname import nameof\n",
    "from misc import h5file\n",
    "\n",
    "from findiff import FinDiff\n",
    "from tqdm import tqdm, trange"
   ]
  },
  {
   "cell_type": "code",
   "execution_count": 2,
   "metadata": {},
   "outputs": [],
   "source": [
    "data = sio.loadmat('../Datasets/burgers.mat')\n",
    "u = (data['usol']).real\n",
    "x = (data['x'][0]).real\n",
    "t = (data['t'][:,0]).real\n",
    "dt = t[1]-t[0]\n",
    "dx = x[2]-x[1]\n",
    "X, T = np.meshgrid(x, t)\n",
    "XT = np.asarray([X, T]).T"
   ]
  },
  {
   "cell_type": "markdown",
   "metadata": {},
   "source": [
    "#### Add noise and test functionality "
   ]
  },
  {
   "cell_type": "code",
   "execution_count": 3,
   "metadata": {},
   "outputs": [
    {
     "name": "stdout",
     "output_type": "stream",
     "text": [
      "----- Clean -----\n",
      "STLSQ model: \n",
      "(x0)' = 0.100 x0_11 + -1.001 x0x0_1\n",
      "l0_penalty: 1.6123253173828125\n",
      "PDE derived using STRidge\n",
      "u_t = (-1.000403 +0.000000i)uu_{x}\n",
      "    + (0.100145 +0.000000i)u_{xx}\n",
      "   \n",
      "\n",
      "----- Add 30% noise -----\n",
      "30.0\n",
      "l0_penalty: 1.93969921875\n",
      "PDE derived using STRidge\n",
      "u_t = (-0.775461 +0.000000i)uu_{x}\n",
      "   \n"
     ]
    }
   ],
   "source": [
    "print(\"----- Clean -----\")\n",
    "library_functions = [lambda x: x, lambda x: x * x]\n",
    "library_function_names = [lambda x: x, lambda x: x + x]\n",
    "pde_lib = ps.PDELibrary(\n",
    "    library_functions=library_functions,\n",
    "    function_names=library_function_names,\n",
    "    derivative_order=2,\n",
    "    spatial_grid=x,\n",
    "    is_uniform=True,\n",
    ")\n",
    "\n",
    "print('STLSQ model: ')\n",
    "optimizer = ps.STLSQ(threshold=0.1, alpha=1e-5, normalize_columns=False)\n",
    "model = ps.SINDy(feature_library=pde_lib, optimizer=optimizer)\n",
    "model.fit(np.expand_dims(u, -1), t=dt)\n",
    "model.print()\n",
    "\n",
    "Ut, R, rhs_des = build_linear_system(u, dt, dx, D=3, P=3, time_diff = 'FD', space_diff = 'FD')\n",
    "rhs_des = rhs_des[1:]\n",
    "R = R[:, 1:].real; Ut = Ut.real\n",
    "w = TrainSTRidge(R,Ut,10**-5,0.1)\n",
    "print(\"PDE derived using STRidge\")\n",
    "print_pde(w, rhs_des)\n",
    "\n",
    "print()\n",
    "\n",
    "print(\"----- Add 30% noise -----\")\n",
    "np.random.seed(0)\n",
    "noise_lv = float(30)\n",
    "print(noise_lv)\n",
    "noise = 0.01*np.abs(noise_lv)*(u.std())*np.random.randn(u.shape[0],u.shape[1])\n",
    "un = u + noise\n",
    "np.mean(noise), np.std(noise), np.max(noise), np.min(noise)\n",
    "\n",
    "Utn, Rn, rhs_des = build_linear_system(un, dt, dx, D=3, P=3, time_diff = 'poly',\n",
    "                                       deg_x = 4, deg_t = 4, \n",
    "                                       width_x = 10, width_t = 10)\n",
    "rhs_des = rhs_des[1:]\n",
    "Rn = Rn[:, 1:].real; Utn = Utn.real\n",
    "# Solve with STRidge\n",
    "w = TrainSTRidge(Rn,Utn,10**-5,1)\n",
    "print(\"PDE derived using STRidge\")\n",
    "print_pde(w, rhs_des)"
   ]
  },
  {
   "cell_type": "markdown",
   "metadata": {},
   "source": [
    "## Getting started"
   ]
  },
  {
   "cell_type": "code",
   "execution_count": 4,
   "metadata": {},
   "outputs": [],
   "source": [
    "## Goals: implement my own optimizer and differentiation_method class!\n",
    "from functools import partial\n",
    "import derivative\n",
    "from tvregdiff import TVRegDiff, tvregdiff, numdiff, pysindydiff, savgol_denoise\n",
    "\n",
    "class KalmanDiff(ps.BaseDifferentiation):\n",
    "    def __init__(self, alpha, poly_deg=None, rpca_lambda=None, d=1, axis=1, is_uniform=True, periodic=False):\n",
    "        super(KalmanDiff, self).__init__()\n",
    "        # Kalman diff\n",
    "        self.alpha = alpha\n",
    "        self.diff_func = derivative.Kalman(alpha=self.alpha)\n",
    "        self.d = d\n",
    "        self.diff = partial(pysindydiff, **{\"diff_method\":self.diff_func, \"order\":self.d})\n",
    "        # Savgol denoising\n",
    "        self.poly_deg = poly_deg\n",
    "        if poly_deg is not None:\n",
    "            if poly_deg%2 == 0: window_length = self.poly_deg + 1\n",
    "            else: window_length = self.poly_deg + 2\n",
    "            self.denoise = partial(savgol_denoise, **{\"window_length\":window_length, \"poly_deg\":self.poly_deg})\n",
    "        else:\n",
    "            self.denoise = lambda _: _\n",
    "        # Robust PCA\n",
    "        self.rpca_lambda = rpca_lambda\n",
    "        # Other info...\n",
    "        self.axis = axis\n",
    "        self.is_uniform = is_uniform\n",
    "        self.periodic = periodic\n",
    "        # data transformation\n",
    "        # rs = np.ones(2).astype(np.int32); rs[self.axis] = -1; rs = tuple(rs)\n",
    "        self.transform = np.vectorize(composite_function(self.diff, self.denoise, left2right=True), signature=\"(m),(m)->(m)\")\n",
    "    # _differentiate\n",
    "    def _differentiate(self, x, t):\n",
    "        in_shape = x.shape\n",
    "        if len(in_shape) == 2: x = np.expand_dims(x, -1) # x should now be 3-dimensional\n",
    "        if isinstance(t, float) and self.is_uniform: \n",
    "            t = np.linspace(0, stop=t*(x.shape[self.axis]-1), num=x.shape[self.axis])\n",
    "        out = []\n",
    "        # wrt to x var\n",
    "        if self.axis == 0:\n",
    "            for i in range(x.shape[-1]):\n",
    "                # use lambda and partial from functools to help shorten the code\n",
    "                # diff = np.hstack([self.denoise(self.diff(x[:, j:j+1, i], t)).reshape(-1, 1) \n",
    "                #                   for j in range(x.shape[1])])\n",
    "                # diff = np.hstack([self.transform(x[:, j:j+1, i], t) for j in range(x.shape[1])])\n",
    "                # diff = np.vectorize(self.transform, signature=\"(m),(m)->(m)\")(x[:,:,i].T, t).T\n",
    "                diff = self.transform(x[:,:,i].T, t).T\n",
    "                if self.rpca_lambda is not None:\n",
    "                    diff = self._get_low_rank(diff)\n",
    "                out.append(np.expand_dims(diff, axis=-1))\n",
    "        # wrt to time var\n",
    "        elif self.axis == 1:\n",
    "            for i in range(x.shape[-1]):\n",
    "                # use lambda and partial from functools to help shorten the code\n",
    "                # diff = np.vstack([self.denoise(self.diff(x[j:j+1, :, i], t)).reshape(1, -1) \n",
    "                #                   for j in range(x.shape[0])])\n",
    "                # diff = np.vstack([self.transform(x[j:j+1, :, i], t) for j in range(x.shape[0])])\n",
    "                # diff = np.vectorize(self.transform, signature=\"(m),(m)->(m)\")(x[:,:,i], t)\n",
    "                diff = self.transform(x[:,:,i], t)\n",
    "                if self.rpca_lambda is not None:\n",
    "                    diff = self._get_low_rank(diff)\n",
    "                out.append(np.expand_dims(diff, axis=-1))\n",
    "        return np.concatenate(out, axis=-1).reshape(in_shape)\n",
    "    # _get_low_rank\n",
    "    def _get_low_rank(self, x):\n",
    "        rpca = RobustPCA(lamb=self.rpca_lambda, tol=10, use_fbpca=True, max_iter=int(1e6))\n",
    "        rpca.fit(x)\n",
    "        return rpca.get_low_rank()"
   ]
  },
  {
   "cell_type": "markdown",
   "metadata": {},
   "source": [
    "#### KSVD"
   ]
  },
  {
   "cell_type": "code",
   "execution_count": 5,
   "metadata": {},
   "outputs": [],
   "source": [
    "rpca_lambda = None; apply_savgol = False\n",
    "un_copy = un.copy()\n",
    "\n",
    "if rpca_lambda is not None:\n",
    "    rpca = RobustPCA(lamb=rpca_lambda, tol=10, use_fbpca=True, max_iter=int(1e4))\n",
    "    rpca.fit(un)\n",
    "    un = rpca.get_low_rank()\n",
    "    est_noise = un_copy-un\n",
    "    print(np.mean(est_noise), np.std(est_noise), np.max(est_noise), np.min(est_noise))\n",
    "    print(mean_squared_error(un, u))\n",
    "else:\n",
    "    ### noise30 | ksvd ###\n",
    "    denoising_mode = 'dctksvd_reg' # ksvd, dictionary_learning\n",
    "    n_components = 32\n",
    "    smoother_name = 'none' # none, lowess, kalman, gaussian, filterpy\n",
    "    transform_n_nonzero = \"_none\" # '1'\n",
    "    # un = np.load(f\"../RDAE_data/{denoising_mode}/{smoother_name}/transform_n_nonzero_coefs{transform_n_nonzero}/burgers_dictlearn_denoised30_components{n_components}_8x8.npy\")\n",
    "\n",
    "# divide into 2 5 10\n",
    "if apply_savgol:\n",
    "    un_savgol = np.vstack([savgol_denoise(un[i:i+1, :], 11, 2) for i in range(un.shape[0])])\n",
    "    print(mean_squared_error(u, un_savgol))\n",
    "    un = un_savgol"
   ]
  },
  {
   "cell_type": "markdown",
   "metadata": {},
   "source": [
    "#### Avg weak coef from 10 runs"
   ]
  },
  {
   "cell_type": "code",
   "execution_count": 6,
   "metadata": {},
   "outputs": [],
   "source": [
    "# kalpha = 1e-1; poly_deg = None; diff_order = 2\n",
    "# differentiation_method = KalmanDiff\n",
    "# differentiation_kwargs = {\"alpha\":kalpha, \"poly_deg\":poly_deg, \"rpca_lambda\":None}\n",
    "\n",
    "poly_deg = None; diff_order = 2\n",
    "differentiation_method = ps.FiniteDifference\n",
    "differentiation_kwargs = {}\n",
    "\n",
    "weak_pde_lib = ps.WeakPDELibrary(library_functions=[lambda x: x, lambda x: x * x], \n",
    "                                 function_names=[lambda x: x, lambda x: x + x], \n",
    "                                 derivative_order=diff_order, p=diff_order, \n",
    "                                 spatiotemporal_grid=XT, \n",
    "                                 include_bias=False, is_uniform=True, K=10000, # new random K points in every calls to the ps.WeakPDELibrary\n",
    "                                 differentiation_method=differentiation_method, \n",
    "                                 differentiation_kwargs=differentiation_kwargs, \n",
    "                                 cache=True\n",
    "                                )\n",
    "kwargs = {'fit_intercept':False, 'copy_X':True, 'normalize_columns':False}\n",
    "X_pre, y_pre, fns = ps_features(un, t, weak_pde_lib, kwargs)"
   ]
  },
  {
   "cell_type": "code",
   "execution_count": 7,
   "metadata": {},
   "outputs": [
    {
     "name": "stdout",
     "output_type": "stream",
     "text": [
      "Set parameter Username\n"
     ]
    },
    {
     "name": "stderr",
     "output_type": "stream",
     "text": [
      "2023-10-07 14:24:57,490 [INFO] Set parameter Username\n"
     ]
    },
    {
     "name": "stdout",
     "output_type": "stream",
     "text": [
      "Academic license - for non-commercial use only - expires 2024-06-04\n"
     ]
    },
    {
     "name": "stderr",
     "output_type": "stream",
     "text": [
      "2023-10-07 14:24:57,492 [INFO] Academic license - for non-commercial use only - expires 2024-06-04\n"
     ]
    },
    {
     "name": "stdout",
     "output_type": "stream",
     "text": [
      "['u', 'uu', 'u_1', 'u_11', 'uu_1', 'uuu_1', 'uu_11', 'uuu_11']\n",
      "(u)' = -0.337 u_1 + 0.065 u_11\n",
      "u_t = (0.086513 +0.000000i)u_11\n",
      "    + (-0.889018 +0.000000i)uu_1\n",
      "   \n"
     ]
    }
   ],
   "source": [
    "# optimizer = BruteForceRegressor(2)\n",
    "# if feature_library=weak_pde_lib, then just differentiation_method=None is fine.\n",
    "optimizer_name = \"miosr\" # \"l0bnb\", \"miosr\"\n",
    "assert (optimizer_name == \"l0bnb\") or (optimizer_name == \"miosr\")\n",
    "if optimizer_name == \"l0bnb\":\n",
    "    optimizer = L0BNB(max_nonzeros=2, lam=1e-3, is_normal=True, normalize_columns=False)\n",
    "elif optimizer_name == \"miosr\":\n",
    "    optimizer = ps.MIOSR(target_sparsity=2, normalize_columns=False, regression_timeout=100)\n",
    "n_ensemble_models = 50\n",
    "model = ps.SINDy(feature_library=weak_pde_lib, optimizer=optimizer, \n",
    "                 differentiation_method=differentiation_method,\n",
    "                 cache=True,\n",
    "                 feature_names=['u'])\n",
    "model.fit(np.expand_dims(un, -1), t=dt, ensemble=True, \n",
    "          library_ensemble=True, n_candidates_to_drop=1, n_models=n_ensemble_models)\n",
    "\n",
    "# print the model selected by Pysindy package\n",
    "# (Not giving the best model if set ensemble or library_ensemble = True)\n",
    "print(model.get_feature_names())\n",
    "model.print()\n",
    "\n",
    "# Use the best-performing (on any validation set) coef in model.coef_list (Plse add this functionality to pysindy)\n",
    "# np.einsum('ij,jkl',X_pre,np.array(model.get_coef_list()).T) -> a cool-looking code\n",
    "# from opt_einsum import contract\n",
    "# contract('ij,jkl',X_pre,np.array(model.get_coef_list()).T) -> a cool-looking code\n",
    "print_pde(model.get_coef_list()[np.argmin(np.sum((np.squeeze(np.tensordot(X_pre, np.array(model.get_coef_list()).T, axes=([-1], [0])), axis=1)-y_pre)**2, axis=0))].reshape(-1,1), model.get_feature_names())"
   ]
  },
  {
   "cell_type": "code",
   "execution_count": 8,
   "metadata": {},
   "outputs": [
    {
     "name": "stdout",
     "output_type": "stream",
     "text": [
      "u_t = (0.099057 +0.000000i)u_11\n",
      "    + (-1.006365 +0.000000i)uu_1\n",
      "   \n",
      "['u_{xx}' 'uu_{x}']\n",
      "[ 0.09905664 -1.00636514]\n"
     ]
    },
    {
     "data": {
      "text/plain": [
       "(0.7899371328279738, 0.15342309101038093)"
      ]
     },
     "execution_count": 8,
     "metadata": {},
     "output_type": "execute_result"
    }
   ],
   "source": [
    "ols_model, eff_rhs_indices = model.validate_coef_list()[0]\n",
    "print(np.array([convert2latex(f) for i,f in enumerate(model.get_feature_names()) if i in eff_rhs_indices]))\n",
    "print(ols_model.params)\n",
    "# (2.966546839959899, 1.8494019586055508) -> ksvd\n",
    "# (2.951366904136575, 1.8846719890201133) -> spm_ksvd\n",
    "# (2.0340810219237895, 1.5495206426166808) -> spm_ksvd + savgol\n",
    "evaluate_coefficients(ols_model.params) # (3.05658148186686, 2.101833972875855)"
   ]
  },
  {
   "cell_type": "code",
   "execution_count": 9,
   "metadata": {},
   "outputs": [],
   "source": [
    "# w/ ksvd_reg denoise: (0.910798268338521, 0.3772709170635782)\n",
    "# w/o ksvd_reg denoise: (0.7899371328279738, 0.15342309101038093)\n",
    "\n",
    "# hasattr threshold in optimizer...\n",
    "# u_t = (-0.944892 +0.000000i)uu_1\n",
    "   \n",
    "# hasattr threshold in optimizer...\n",
    "# u_t = (0.101288 +0.000000i)u_11\n",
    "#     + (-1.005335 +0.000000i)uu_1"
   ]
  },
  {
   "cell_type": "code",
   "execution_count": 10,
   "metadata": {},
   "outputs": [
    {
     "data": {
      "text/plain": [
       "(0.7899371328279559, 0.1534230910103851)"
      ]
     },
     "execution_count": 10,
     "metadata": {},
     "output_type": "execute_result"
    }
   ],
   "source": [
    "evaluate_coefficients(np.linalg.lstsq(X_pre[:, (3, 4)], y_pre, rcond=None)[0].flatten())"
   ]
  },
  {
   "cell_type": "code",
   "execution_count": 11,
   "metadata": {},
   "outputs": [
    {
     "name": "stdout",
     "output_type": "stream",
     "text": [
      "u_t = (-0.948255 +0.000000i)uu_1\n",
      "   \n",
      "u_t = (0.099179 +0.000000i)u_11\n",
      "    + (-1.008901 +0.000000i)uu_1\n",
      "   \n",
      "u_t = (0.022012 +0.000000i)u\n",
      "    + (-0.026920 +0.000000i)uu\n",
      "    + (-0.030470 +0.000000i)u_1\n",
      "    + (0.088878 +0.000000i)u_11\n",
      "    + (-0.907404 +0.000000i)uu_1\n",
      "    + (-0.055013 +0.000000i)uuu_1\n",
      "    + (-0.002094 +0.000000i)uu_11\n",
      "    + (0.017226 +0.000000i)uuu_11\n",
      "   \n"
     ]
    }
   ],
   "source": [
    "# u_t = (-0.948255 +0.000000i)uu_1\n",
    "   \n",
    "# u_t = (0.099179 +0.000000i)u_11\n",
    "#     + (-1.008901 +0.000000i)uu_1\n",
    "   \n",
    "# u_t = (0.022012 +0.000000i)u\n",
    "#     + (-0.026920 +0.000000i)uu\n",
    "#     + (-0.030470 +0.000000i)u_1\n",
    "#     + (0.088878 +0.000000i)u_11\n",
    "#     + (-0.907404 +0.000000i)uu_1\n",
    "#     + (-0.055013 +0.000000i)uuu_1\n",
    "#     + (-0.002094 +0.000000i)uu_11\n",
    "#     + (0.017226 +0.000000i)uuu_11\n",
    "\n",
    "str_ww1 = TrainSTRidgeRudy(X_pre,y_pre,1e-5,1,l0_penalty=1e-1).real\n",
    "str_ww2 = TrainSTRidgeRudy(X_pre,y_pre,1e-5,1,l0_penalty=1e-3).real\n",
    "str_ww3 = TrainSTRidgeRudy(X_pre,y_pre,1e-5,1,l0_penalty=1e-5).real\n",
    "\n",
    "print_pde(str_ww1, model.get_feature_names())\n",
    "print_pde(str_ww2, model.get_feature_names())\n",
    "print_pde(str_ww3, model.get_feature_names())"
   ]
  },
  {
   "cell_type": "code",
   "execution_count": 11,
   "metadata": {},
   "outputs": [
    {
     "name": "stdout",
     "output_type": "stream",
     "text": [
      "u_t = (-0.947176 +0.000000i)uu_1\n",
      "   \n",
      "u_t = (0.099057 +0.000000i)u_11\n",
      "    + (-1.006365 +0.000000i)uu_1\n",
      "   \n",
      "u_t = (-0.010277 +0.000000i)u_1\n",
      "    + (0.098175 +0.000000i)u_11\n",
      "    + (-0.979572 +0.000000i)uu_1\n",
      "   \n",
      "u_t = (0.016257 +0.000000i)u\n",
      "    + (0.094479 +0.000000i)u_11\n",
      "    + (-1.015560 +0.000000i)uu_1\n",
      "    + (0.019688 +0.000000i)uuu_11\n",
      "   \n",
      "u_t = (0.017237 +0.000000i)u\n",
      "    + (-0.045728 +0.000000i)uu\n",
      "    + (-0.023492 +0.000000i)u_1\n",
      "    + (0.090705 +0.000000i)u_11\n",
      "    + (-0.943531 +0.000000i)uu_1\n",
      "   \n",
      "u_t = (0.014921 +0.000000i)u\n",
      "    + (-0.048304 +0.000000i)uu\n",
      "    + (-0.026453 +0.000000i)u_1\n",
      "    + (0.089491 +0.000000i)u_11\n",
      "    + (-0.933220 +0.000000i)uu_1\n",
      "    + (-0.002313 +0.000000i)uu_11\n",
      "   \n",
      "u_t = (0.017509 +0.000000i)u\n",
      "    + (-0.031277 +0.000000i)uu\n",
      "    + (-0.023100 +0.000000i)u_1\n",
      "    + (0.089474 +0.000000i)u_11\n",
      "    + (-0.947594 +0.000000i)uu_1\n",
      "    + (-0.002502 +0.000000i)uu_11\n",
      "    + (0.011237 +0.000000i)uuu_11\n",
      "   \n",
      "u_t = (0.017509 +0.000000i)u\n",
      "    + (-0.031277 +0.000000i)uu\n",
      "    + (-0.023100 +0.000000i)u_1\n",
      "    + (0.089474 +0.000000i)u_11\n",
      "    + (-0.947594 +0.000000i)uu_1\n",
      "    + (-0.002502 +0.000000i)uu_11\n",
      "    + (0.011237 +0.000000i)uuu_11\n",
      "   \n"
     ]
    }
   ],
   "source": [
    "optimizer_name = \"miosr\" # \"l0bnb\", \"miosr\"\n",
    "assert (optimizer_name == \"l0bnb\") or (optimizer_name == \"miosr\")\n",
    "all_ols_models = []\n",
    "all_eff_rhs = []\n",
    "for mnz in range(1, 9):\n",
    "    if optimizer_name == \"l0bnb\":\n",
    "        optimizer = L0BNB(max_nonzeros=mnz, lam=1e-3, is_normal=True, normalize_columns=False)\n",
    "    elif optimizer_name == \"miosr\":\n",
    "        optimizer = ps.MIOSR(target_sparsity=mnz, normalize_columns=False, regression_timeout=100)\n",
    "    n_ensemble_models = 50\n",
    "    model = ps.SINDy(feature_library=weak_pde_lib, optimizer=optimizer, \n",
    "                     differentiation_method=differentiation_method, \n",
    "                     cache=True,\n",
    "                     feature_names=['u'])\n",
    "    model.fit(np.expand_dims(un, -1), t=dt, ensemble=True, \n",
    "              library_ensemble=True, n_candidates_to_drop=1, n_models=n_ensemble_models)\n",
    "    ols_model, eff_rhs_indices = model.validate_coef_list()[0]\n",
    "    all_ols_models.append(ols_model)\n",
    "    all_eff_rhs.append(eff_rhs_indices)"
   ]
  },
  {
   "cell_type": "markdown",
   "metadata": {},
   "source": [
    "#### Guarantee the optimality"
   ]
  },
  {
   "cell_type": "code",
   "execution_count": 12,
   "metadata": {},
   "outputs": [],
   "source": [
    "def hierarchy(fitted_model, dataset, target_index=0, field=0):\n",
    "    Xd, yd = dataset\n",
    "    yd = yd[:, target_index]\n",
    "    model_results = {}\n",
    "    for effective_indices in fitted_model:\n",
    "        com = len(effective_indices)\n",
    "        X_pre_sup = Xd[:, effective_indices]\n",
    "        solve = np.linalg.lstsq(X_pre_sup, yd, rcond=None)\n",
    "        coeff = solve[0]\n",
    "        if len(solve[1]) == 1:\n",
    "            mse = solve[1][0]\n",
    "            if (com not in model_results) or model_results[com][-1] > mse:\n",
    "                model_results[com] = effective_indices, coeff, mse\n",
    "    if field < 0: \n",
    "        return model_results\n",
    "    else: \n",
    "        dkeys = model_results.keys()\n",
    "        dvals = (lambda lst, _: [t[_] for t in lst if len(t)>_])(model_results.values(), field)\n",
    "        return dict(zip(dkeys, dvals))"
   ]
  },
  {
   "cell_type": "code",
   "execution_count": 13,
   "metadata": {},
   "outputs": [
    {
     "name": "stdout",
     "output_type": "stream",
     "text": [
      "From leaps\n",
      "From imsubsets\n",
      "From brute-force solver\n"
     ]
    },
    {
     "data": {
      "text/plain": [
       "[(4,),\n",
       " (3, 4),\n",
       " (3, 4, 7),\n",
       " (0, 3, 4, 7),\n",
       " (0, 1, 2, 3, 4),\n",
       " (0, 1, 2, 3, 4, 6),\n",
       " (0, 1, 2, 3, 4, 6, 7),\n",
       " (0, 1, 2, 3, 4, 5, 6, 7)]"
      ]
     },
     "execution_count": 13,
     "metadata": {},
     "output_type": "execute_result"
    }
   ],
   "source": [
    "# np.save(\"../Burgers_exp/IPI_output_files/X_pre.npy\", X_pre)\n",
    "# np.save(\"../Burgers_exp/IPI_output_files/y_pre.npy\", y_pre)\n",
    "print(\"From leaps\")\n",
    "Rdata_name = \"leaps/leaps_efi_nbest10.npy\"\n",
    "leaps_best_subsets = np.load(os.path.join(\"/Users/pongpisit/Desktop/fun/R/data/Burgers/\", Rdata_name))\n",
    "leaps_best_subsets = [tuple(np.where(bs>0)[0]) for bs in leaps_best_subsets]\n",
    "leaps_best_subsets = [e[0] for e in backward_refinement(leaps_best_subsets, (X_pre, y_pre), \n",
    "                                                        mode='SelectKBest', ic_type='bic', \n",
    "                                                        verbose=False).track.values()]\n",
    "\n",
    "print(\"From imsubsets\")\n",
    "Rdata_name = \"imsubsets/imsubsets_efi.npy\"\n",
    "imsubsets_best_subsets = np.load(os.path.join(\"/Users/pongpisit/Desktop/fun/R/data/Burgers/\", Rdata_name))\n",
    "imsubsets_best_subsets = [tuple(np.where(bs>0)[0]) for bs in imsubsets_best_subsets]\n",
    "imsubsets_best_subsets = sorted(hierarchy(imsubsets_best_subsets, (X_pre, y_pre)).values(), key=len)\n",
    "imsubsets_best_subsets = [e[0] for e in backward_refinement(imsubsets_best_subsets, (X_pre, y_pre), \n",
    "                                                            mode='SelectKBest', ic_type='bic', \n",
    "                                                            verbose=False).track.values()]\n",
    "\n",
    "print(\"From brute-force solver\")\n",
    "brute_best_subsets = [tuple(np.where(abs(brute_force(X_pre, y_pre, support_size=i).flatten())>0)[0])\n",
    "                      for i in range(1, X_pre.shape[1]+1)]\n",
    "brute_best_subsets\n",
    "brute_best_subsets"
   ]
  },
  {
   "cell_type": "code",
   "execution_count": 14,
   "metadata": {},
   "outputs": [],
   "source": [
    "# Rdata_name = \"bestsubset\"\n",
    "# Rdata_name = f\"{Rdata_name}/{Rdata_name}_efi.npy\"\n",
    "# bestsubset_best_subsets = np.load(os.path.join(\"/Users/pongpisit/Desktop/fun/R/data/Burgers/\", Rdata_name))\n",
    "# bestsubset_best_subsets = [tuple(np.where(bs>0)[0]) for bs in bestsubset_best_subsets]\n",
    "# bestsubset_best_subsets = [e[0] for e in backward_refinement(bestsubset_best_subsets, (X_pre, y_pre), \n",
    "#                                                              mode='SelectKBest', ic_type='bic', \n",
    "#                                                              verbose=False).track.values()]\n",
    "# print(bestsubset_best_subsets)\n",
    "\n",
    "# Rdata_name = \"l0learn\"\n",
    "# print(f\"From {Rdata_name}\")\n",
    "# Rdata_name = f\"{Rdata_name}/{Rdata_name}_efi.npy\"\n",
    "# l0learn_best_subsets = np.load(os.path.join(\"/Users/pongpisit/Desktop/fun/R/data/Burgers/\", Rdata_name))\n",
    "# l0learn_best_subsets = [tuple(np.where(bs>0)[0]) for bs in l0learn_best_subsets if sum(bs)>0]\n",
    "# l0learn_best_subsets = sorted(hierarchy(l0learn_best_subsets, (X_pre, y_pre)).values(), key=len)\n",
    "# l0learn_best_subsets = [e[0] for e in backward_refinement(l0learn_best_subsets, (X_pre, y_pre), \n",
    "#                                                           mode='SelectKBest', ic_type='bic', \n",
    "#                                                           verbose=False).track.values()]\n",
    "# print(l0learn_best_subsets)\n",
    "\n",
    "# Rdata_name = \"abess\"\n",
    "# print(f\"From {Rdata_name}\")\n",
    "# Rdata_name = f\"{Rdata_name}/{Rdata_name}_efi.npy\"\n",
    "# abess_best_subsets = np.load(os.path.join(\"/Users/pongpisit/Desktop/fun/R/data/Burgers/\", Rdata_name))\n",
    "# abess_best_subsets = [tuple(np.where(bs>0)[0]) for bs in abess_best_subsets if sum(bs)>0]\n",
    "# abess_best_subsets = sorted(hierarchy(abess_best_subsets, (X_pre, y_pre)).values(), key=len)\n",
    "# abess_best_subsets = [e[0] for e in backward_refinement(abess_best_subsets, (X_pre, y_pre), \n",
    "#                                                         mode='SelectKBest', ic_type='bic', \n",
    "#                                                         verbose=False).track.values()]\n",
    "# print(abess_best_subsets)"
   ]
  },
  {
   "cell_type": "code",
   "execution_count": 15,
   "metadata": {},
   "outputs": [
    {
     "name": "stdout",
     "output_type": "stream",
     "text": [
      "Leaps in R package got wrong!?\n"
     ]
    }
   ],
   "source": [
    "print(\"Leaps in R package got wrong!?\")\n",
    "for leaps_indices, imsubsets_indices, brute_indices in zip(leaps_best_subsets, imsubsets_best_subsets, brute_best_subsets):\n",
    "    if (leaps_indices != brute_indices) or (leaps_indices != brute_indices):\n",
    "        print(leaps_indices, brute_indices)"
   ]
  },
  {
   "cell_type": "code",
   "execution_count": 16,
   "metadata": {},
   "outputs": [],
   "source": [
    "all_eff_rhs.append(tuple(i for i in range(X_pre.shape[1])))\n",
    "all_eff_rhs.extend(leaps_best_subsets)"
   ]
  },
  {
   "cell_type": "code",
   "execution_count": 17,
   "metadata": {},
   "outputs": [
    {
     "name": "stdout",
     "output_type": "stream",
     "text": [
      "-6919.137483883831\n"
     ]
    },
    {
     "data": {
      "text/plain": [
       "{1: ((4,), -61930.462319792954),\n",
       " 2: ((3, 4), -68829.96975997163),\n",
       " 3: ((3, 4, 7), -68828.81505675046),\n",
       " 4: ((0, 3, 4, 7), -68839.43122012222),\n",
       " 5: ((0, 1, 2, 3, 4), -68846.96792290192),\n",
       " 6: ((0, 1, 2, 3, 4, 6), -68849.59980367679),\n",
       " 7: ((0, 1, 2, 3, 4, 6, 7), -68843.90860570797),\n",
       " 8: ((0, 1, 2, 3, 4, 5, 6, 7), -68835.43068915032)}"
      ]
     },
     "execution_count": 17,
     "metadata": {},
     "output_type": "execute_result"
    }
   ],
   "source": [
    "# w/o ksvd_reg denoise: -6919.137483883831\n",
    "# w/ ksvd_reg denoise: -12235.853939605491\n",
    "\n",
    "ic_type = 'bic'; mode='rfe' # aic, bic | rfe, SelectKBest\n",
    "\n",
    "# st += backward_refinement(all_eff_rhs, (normalize(X_pre, axis=0), y_pre), \n",
    "#                           mode=mode, ic_type=ic_type, verbose=True)\n",
    "\n",
    "st = backward_refinement(all_eff_rhs, (X_pre, y_pre), \n",
    "                         mode=mode, ic_type=ic_type, verbose=False)\n",
    "print(min([e[1] for e in st.track.values()])-max([e[1] for e in st.track.values()]))\n",
    "st.track"
   ]
  },
  {
   "cell_type": "code",
   "execution_count": 18,
   "metadata": {},
   "outputs": [
    {
     "name": "stdout",
     "output_type": "stream",
     "text": [
      "-6919.137483883831\n"
     ]
    },
    {
     "data": {
      "text/plain": [
       "{1: ((4,), -61930.462319792954),\n",
       " 2: ((3, 4), -68829.96975997163),\n",
       " 3: ((3, 4, 7), -68828.81505675046),\n",
       " 4: ((0, 3, 4, 7), -68839.43122012222),\n",
       " 5: ((0, 1, 2, 3, 4), -68846.96792290192),\n",
       " 6: ((0, 1, 2, 3, 4, 6), -68849.59980367679),\n",
       " 7: ((0, 1, 2, 3, 4, 6, 7), -68843.90860570797),\n",
       " 8: ((0, 1, 2, 3, 4, 5, 6, 7), -68835.43068915032)}"
      ]
     },
     "execution_count": 18,
     "metadata": {},
     "output_type": "execute_result"
    }
   ],
   "source": [
    "# w/o ksvd_reg denoise: -6919.137483883831\n",
    "# w/ ksvd_reg denoise: -12235.853939605491\n",
    "\n",
    "ic_type = 'bic'; mode='rfe' # aic, bic | rfe, SelectKBest\n",
    "\n",
    "# st += backward_refinement(all_eff_rhs, (normalize(X_pre, axis=0), y_pre), \n",
    "#                           mode=mode, ic_type=ic_type, verbose=True)\n",
    "\n",
    "st = backward_refinement(all_eff_rhs, (X_pre, y_pre), \n",
    "                         mode=mode, ic_type=ic_type, verbose=False)\n",
    "print(min([e[1] for e in st.track.values()])-max([e[1] for e in st.track.values()]))\n",
    "st.track"
   ]
  },
  {
   "cell_type": "code",
   "execution_count": 19,
   "metadata": {},
   "outputs": [
    {
     "name": "stdout",
     "output_type": "stream",
     "text": [
      "(4,)\n",
      "(3, 4)\n",
      "(3, 4, 7)\n",
      "(0, 3, 4, 7)\n",
      "(0, 1, 2, 3, 4)\n",
      "(0, 1, 2, 3, 4, 6)\n",
      "(0, 1, 2, 3, 4, 6, 7)\n",
      "(0, 1, 2, 3, 4, 5, 6, 7)\n"
     ]
    }
   ],
   "source": [
    "# decreasing_aics -> mainly for plotting\n",
    "decreasing_aics = []\n",
    "complexities = []\n",
    "eff_feature_names = []\n",
    "now_aic = 1e6\n",
    "for com in sorted(st.track.keys()):\n",
    "    indices, aic = st.track[com]\n",
    "    print(indices)\n",
    "    if aic < now_aic:\n",
    "        complexities.append(len(indices))\n",
    "        decreasing_aics.append(aic)\n",
    "        eff_feature_names.append([convert2latex(f) for i,f in enumerate(model.get_feature_names()) if i in indices])\n",
    "        now_aic = aic\n",
    "decreasing_aics = np.array(decreasing_aics)\n",
    "complexities = np.array(complexities)\n",
    "relative_decreasing_aics = decreasing_aics-np.min(decreasing_aics)"
   ]
  },
  {
   "cell_type": "code",
   "execution_count": 20,
   "metadata": {},
   "outputs": [
    {
     "data": {
      "image/png": "[encoded data removed]",
      "text/plain": [
       "<Figure size 576x288 with 1 Axes>"
      ]
     },
     "metadata": {
      "needs_background": "light"
     },
     "output_type": "display_data"
    }
   ],
   "source": [
    "fig, ax = plt.subplots(figsize=(8,4))\n",
    "ax.plot(complexities, relative_decreasing_aics, color='blue', linewidth=2.5, label=\"BIC-decreasing models\")\n",
    "ax.scatter(complexities, relative_decreasing_aics, marker='*', c='red', s=300)\n",
    "for com, name, rel_aic in zip(complexities, eff_feature_names, relative_decreasing_aics):\n",
    "    rotation = (90+45)/2\n",
    "    if com == 1: rotation = 0\n",
    "    ax.annotate(f\"    $({','.join(name)})$\", (com, rel_aic), rotation=rotation)\n",
    "plt.xlim(0.8,8.1)\n",
    "plt.title(r\"Model selection based on $\\frac{\\Delta BIC}{\\Delta s}$\")\n",
    "plt.ylabel(\"Relative BIC\")\n",
    "plt.xlabel(\"Number of support sizes\")\n",
    "plt.legend()\n",
    "plt.tight_layout()\n",
    "# plt.savefig(join_path(FIGURE_EXPORT_PATH, \"aic_model_selection.png\"), dpi=300)\n",
    "plt.show()"
   ]
  },
  {
   "cell_type": "code",
   "execution_count": 21,
   "metadata": {},
   "outputs": [
    {
     "name": "stdout",
     "output_type": "stream",
     "text": [
      "2 improves 1\n",
      "Percent improve: 0.11140732979759456\n",
      "5 does not improve 2\n",
      "Percent improve: 8.231958156972415e-05\n",
      "2 improves 1\n",
      "Percent improve: 0.11140732979759456\n",
      "5 does not improve 2\n",
      "Percent improve: 8.231958156972415e-05\n",
      "2 improves 1\n",
      "Percent improve: 0.11140732979759456\n",
      "5 does not improve 2\n",
      "Percent improve: 8.231958156972415e-05\n",
      "2 improves 1\n",
      "Percent improve: 0.11140732979759456\n",
      "5 does not improve 2\n",
      "Percent improve: 8.231958156972415e-05\n",
      "2 improves 1\n",
      "Percent improve: 0.11140732979759456\n",
      "5 does not improve 2\n",
      "Percent improve: 8.231958156972415e-05\n",
      "2 improves 1\n",
      "Percent improve: 0.11140732979759456\n",
      "5 does not improve 2\n",
      "Percent improve: 8.231958156972415e-05\n",
      "2 improves 1\n",
      "Percent improve: 0.11140732979759456\n",
      "5 does not improve 2\n",
      "Percent improve: 8.231958156972415e-05\n",
      "2 improves 1\n",
      "Percent improve: 0.11140732979759456\n",
      "5 does not improve 2\n",
      "Percent improve: 8.231958156972415e-05\n",
      "2 improves 1\n",
      "Percent improve: 0.11140732979759456\n",
      "5 does not improve 2\n",
      "Percent improve: 8.231958156972415e-05\n",
      "2 improves 1\n",
      "Percent improve: 0.11140732979759456\n",
      "5 does not improve 2\n",
      "Percent improve: 8.231958156972415e-05\n",
      "2 improves 1\n",
      "Percent improve: 0.11140732979759456\n",
      "5 does not improve 2\n",
      "Percent improve: 8.231958156972415e-05\n",
      "2 does not improve 1\n",
      "Percent improve: 0.11140732979759456\n"
     ]
    },
    {
     "data": {
      "text/plain": [
       "{2}"
      ]
     },
     "execution_count": 21,
     "metadata": {},
     "output_type": "execute_result"
    }
   ],
   "source": [
    "good_coms = set()\n",
    "min_pok = 0.01\n",
    "max_pok = 1./2\n",
    "delta_pok = min_pok\n",
    "for p in np.arange(min_pok, max_pok+delta_pok, delta_pok):\n",
    "    c = find_transition_V5(decreasing_aics, complexities, percent_ok=p)\n",
    "    if c == 1: break\n",
    "    good_coms.add(c)\n",
    "good_coms"
   ]
  },
  {
   "cell_type": "code",
   "execution_count": 22,
   "metadata": {},
   "outputs": [
    {
     "name": "stdout",
     "output_type": "stream",
     "text": [
      "none 32\n",
      "-6899.507440178677\n"
     ]
    },
    {
     "data": {
      "text/plain": [
       "(array([-61930.46231979, -68829.96975997, -68839.43122012, -68846.9679229 ,\n",
       "        -68849.59980368]),\n",
       " array([1, 2, 4, 5, 6]),\n",
       " [['uu_{x}'],\n",
       "  ['u_{xx}', 'uu_{x}'],\n",
       "  ['u', 'u_{xx}', 'uu_{x}', 'u^2u_{xx}'],\n",
       "  ['u', 'u^2', 'u_{x}', 'u_{xx}', 'uu_{x}'],\n",
       "  ['u', 'u^2', 'u_{x}', 'u_{xx}', 'uu_{x}', 'uu_{xx}']])"
      ]
     },
     "execution_count": 22,
     "metadata": {},
     "output_type": "execute_result"
    }
   ],
   "source": [
    "# w/o ksvd_reg denoise: -6899.507440178677\n",
    "# w/ ksvd_reg denoise: -12216.134372396475\n",
    "print(smoother_name, n_components)\n",
    "print(decreasing_aics[1]-decreasing_aics[0])\n",
    "decreasing_aics, complexities, eff_feature_names"
   ]
  },
  {
   "cell_type": "markdown",
   "metadata": {},
   "source": [
    "#### More model selection"
   ]
  },
  {
   "cell_type": "code",
   "execution_count": 23,
   "metadata": {},
   "outputs": [],
   "source": [
    "# Use PDE_FIND_Loss from parametric_pde_find.py by formulating as a parametric problem\n",
    "# Moving horizon in time\n",
    "\n",
    "def ssr2llf(ssr, nobs):\n",
    "    nobs2 = nobs / 2.0\n",
    "    llf = -nobs2 * np.log(2 * np.pi) - nobs2 * np.log(ssr / nobs) - nobs2\n",
    "    return llf\n",
    "\n",
    "def log_like_value(prediction, ground):                                                                                                               \n",
    "    nobs = float(ground.shape[0])\n",
    "    ssr = np.sum(np.abs(ground - prediction)**2)\n",
    "    def ssr2llf(ssr, nobs):\n",
    "        nobs2 = nobs / 2.0\n",
    "        llf = -nobs2 * np.log(2 * np.pi) - nobs2 * np.log(ssr / nobs) - nobs2\n",
    "        return llf\n",
    "    return ssr2llf(ssr, nobs)\n",
    "\n",
    "def BIC_AIC(prediction, ground, nparams, reg_func = lambda x: x):\n",
    "    nparams = reg_func(nparams)\n",
    "    llf = log_like_value(prediction, ground)\n",
    "    return -2*llf + np.log(ground.shape[0])*nparams, -2*llf + 2*nparams\n",
    "\n",
    "def AIC_Loss(A,b,x,epsilon=1e-5):\n",
    "    N = A.shape[0]\n",
    "    k = np.count_nonzero(x)\n",
    "    # Rudy et al., 2019\n",
    "    rss = ((b-A.dot(x))**2).sum()\n",
    "    aic = N*np.log(rss/N+epsilon) + 2*k + (2*k**2+2*k)/(N-k-1)\n",
    "    return aic\n",
    "\n",
    "def PDE_FIND_Loss(As,bs,x,epsilon=1e-5,const_coeff=True,cv=0,ic_type=\"bic\",version=0):\n",
    "    # D: Number of candidates | m: either len(t) or len(x) (temporal or spatial group)\n",
    "    D,m = x.shape\n",
    "    # n: Number of horizon\n",
    "    n,_ = As[0].shape\n",
    "    N = n*m\n",
    "    \n",
    "    rss = [np.linalg.norm(bs[j] - As[j].dot(x[:,j].reshape(D,1)))**2 for j in range(m)]\n",
    "    rss = np.sum(rss)\n",
    "    llf = ssr2llf(rss, N)\n",
    "    \n",
    "    k = np.count_nonzero(x)\n",
    "    if const_coeff:\n",
    "        k = np.count_nonzero(x)/m\n",
    "    k = k + k*cv\n",
    "    \n",
    "    if ic_type == \"aic\":\n",
    "        aic1 = N*np.log(rss/N+epsilon) + 2*k + (2*k**2+2*k)/(N-k-1)\n",
    "        aic2 = -2*llf + 2*k + (2*k**2+2*k)/(N-k-1)\n",
    "        if version > 0:\n",
    "            return aic2\n",
    "        return aic1\n",
    "    elif ic_type == \"bic\":\n",
    "        bic1 = N*np.log(rss/N+epsilon) + np.log(N)*k\n",
    "        bic2 = -2*llf + np.log(N)*k\n",
    "        if version > 0:\n",
    "            return bic2\n",
    "        return bic1"
   ]
  },
  {
   "cell_type": "markdown",
   "metadata": {},
   "source": [
    "#### Consider uncert from BayesianRidge (brr)"
   ]
  },
  {
   "cell_type": "code",
   "execution_count": 24,
   "metadata": {},
   "outputs": [
    {
     "name": "stdout",
     "output_type": "stream",
     "text": [
      "[0.00559118 0.00499471 0.00667731 0.01348801 0.03050938 0.03613925\n",
      " 0.04953412 0.14418332]\n",
      "[ 1.11941947  1.          1.33687645  2.7004588   6.10833585  7.23550233\n",
      "  9.91731436 28.86719684]\n",
      "3,3,3,3,3,2,2,2,2,"
     ]
    },
    {
     "data": {
      "image/png": "[encoded data removed]",
      "text/plain": [
       "<Figure size 432x288 with 1 Axes>"
      ]
     },
     "metadata": {
      "needs_background": "light"
     },
     "output_type": "display_data"
    }
   ],
   "source": [
    "# baye_alpha = 1e-6\n",
    "# mul_val = 1\n",
    "# brr_uncertainties = []\n",
    "# brr_bics = []\n",
    "# for com in sorted(st.track.keys()):\n",
    "#     brr = BayesianRidge(compute_score=True, alpha_1=baye_alpha, alpha_2=baye_alpha)\n",
    "#     brr.fit(X_pre[:, st.track[com][0]], y_pre)\n",
    "#     uncert = mul_val*np.trace(np.sqrt(brr.sigma_))\n",
    "#     brr_uncertainties.append(uncert)\n",
    "#     brr_bics.append((brr.predict(X_pre[:, st.track[com][0]]).reshape(-1, 1), \n",
    "#                      np.count_nonzero(brr.coef_), \n",
    "#                      uncert))\n",
    "# brr_uncertainties = np.array(brr_uncertainties)\n",
    "\n",
    "# power = 0\n",
    "# while 1:\n",
    "#     e = brr_uncertainties.min()*(10**power)\n",
    "#     if e > 1: break\n",
    "#     power += 1\n",
    "# mul_val = 10**power\n",
    "# brr_uncertainties = brr_uncertainties*mul_val\n",
    "# print(brr_uncertainties)\n",
    "\n",
    "# for kkk in range(1, 10):\n",
    "#     brr_bicaics = [BIC_AIC(brr_pred, y_pre, brr_com+kkk*mul_val*brr_uncert)[0] \n",
    "#                    for brr_pred, brr_com, brr_uncert in brr_bics]\n",
    "#     print(np.argmin(brr_bicaics)+1, end=',')\n",
    "#     plt.plot(brr_bicaics)\n",
    "# plt.show()\n",
    "\n",
    "baye_alpha = 1e-6\n",
    "mul_val = 1\n",
    "brr_uncertainties = []\n",
    "brr_bics = []\n",
    "for com in sorted(st.track.keys()):\n",
    "    brr = BayesianRidge(compute_score=True, alpha_1=baye_alpha, alpha_2=baye_alpha)\n",
    "    brr.fit(X_pre[:, st.track[com][0]], y_pre)\n",
    "    _, prediction_std = brr.predict(X_pre[:, st.track[com][0]], return_std=True)\n",
    "    # uncert = np.trace(np.sqrt(brr.sigma_))\n",
    "    uncert = np.sqrt(np.diag(brr.sigma_)).sum()\n",
    "    brr_uncertainties.append(uncert)\n",
    "    brr_bics.append((brr.predict(X_pre[:, st.track[com][0]]).reshape(-1, 1), \n",
    "                     np.count_nonzero(brr.coef_), \n",
    "                     uncert))\n",
    "    \n",
    "brr_uncertainties = np.array(brr_uncertainties)\n",
    "print(brr_uncertainties)\n",
    "mul_val = 1/brr_uncertainties.min()\n",
    "print(brr_uncertainties*mul_val)\n",
    "\n",
    "for kkk in range(1, 10):\n",
    "    brr_bicaics = [BIC_AIC(brr_pred, y_pre, brr_com+kkk*mul_val*brr_uncert)[0] \n",
    "                   for brr_pred, brr_com, brr_uncert in brr_bics]\n",
    "    print(np.argmin(brr_bicaics)+1, end=',')\n",
    "    plt.plot([i+1 for i in range(len(brr_bicaics))], brr_bicaics)\n",
    "plt.show()"
   ]
  },
  {
   "cell_type": "code",
   "execution_count": 25,
   "metadata": {},
   "outputs": [],
   "source": [
    "from UBIC import *"
   ]
  },
  {
   "cell_type": "code",
   "execution_count": 26,
   "metadata": {},
   "outputs": [
    {
     "data": {
      "text/plain": [
       "array([ 1.11932805,  1.        ,  1.26054995,  2.66681646,  6.02179183,\n",
       "        6.2671206 ,  8.83154437, 28.32321817])"
      ]
     },
     "execution_count": 26,
     "metadata": {},
     "output_type": "execute_result"
    }
   ],
   "source": [
    "_, _, b_uns = baye_uncertainties([v[0] for v in st.track.values()], (X_pre, y_pre), ridge_lambda=0)\n",
    "b_uns"
   ]
  },
  {
   "cell_type": "code",
   "execution_count": 27,
   "metadata": {},
   "outputs": [
    {
     "name": "stdout",
     "output_type": "stream",
     "text": [
      "n_lams = 3\n",
      "Using OLS's uncertainties\n",
      "[ 1.11928223  1.          1.26061159  2.66710192  6.02310254  6.26880714\n",
      "  8.83475586 28.39940575]\n",
      "0 ---> 2\n",
      "1.0 ---> 2\n",
      "2.0 ---> 2\n",
      "[-61920.15334948 -68820.7594196  -68817.20439491 -68814.86630366\n",
      " -68791.49309841 -68791.8619562  -68762.53749709 -68573.86249587]\n",
      "The optimal complexity is currently at the support sizes of 2.\n"
     ]
    },
    {
     "data": {
      "text/plain": [
       "(array([-61920.15334948, -68820.7594196 , -68817.20439491, -68814.86630366,\n",
       "        -68791.49309841, -68791.8619562 , -68762.53749709, -68573.86249587]),\n",
       " 1,\n",
       " 0)"
      ]
     },
     "execution_count": 27,
     "metadata": {},
     "output_type": "execute_result"
    }
   ],
   "source": [
    "ics, bc, lam = UBICs([v[0] for v in st.track.values()], (X_pre, y_pre))\n",
    "ics[-3], bc, lam"
   ]
  },
  {
   "cell_type": "code",
   "execution_count": 28,
   "metadata": {},
   "outputs": [
    {
     "name": "stdout",
     "output_type": "stream",
     "text": [
      "n_lams = 3\n",
      "Using baye_uncertainties\n",
      "[ 1.30633581  1.          1.25863511  2.57242136  5.93973621  6.21494908\n",
      "  8.6956885  27.40698055]\n",
      "0 ---> 2\n",
      "1.3333333333333333 ---> 2\n",
      "2.6666666666666665 ---> 2\n",
      "[-61918.43052239 -68820.7594196  -68817.22259894 -68815.73834385\n",
      " -68792.2609307  -68792.35800727 -68763.81835487 -68583.0030697 ]\n",
      "The optimal complexity is currently at the support sizes of 2.\n"
     ]
    },
    {
     "data": {
      "text/plain": [
       "(array([-61918.43052239, -68820.7594196 , -68817.22259894, -68815.73834385,\n",
       "        -68792.2609307 , -68792.35800727, -68763.81835487, -68583.0030697 ]),\n",
       " 1,\n",
       " 0)"
      ]
     },
     "execution_count": 28,
     "metadata": {},
     "output_type": "execute_result"
    }
   ],
   "source": [
    "n_lams = 3\n",
    "ics, bc, lam = UBICs([v[0] for v in st.track.values()], \n",
    "                     (X_pre, y_pre), \n",
    "                     u_type='cv', take_sqrt=True, use_baye=True, \n",
    "                     delta=(1+1/3), n_lams=n_lams)\n",
    "ics[-n_lams], bc, lam"
   ]
  },
  {
   "cell_type": "code",
   "execution_count": 29,
   "metadata": {},
   "outputs": [
    {
     "data": {
      "text/plain": [
       "3.572355659062238"
      ]
     },
     "execution_count": 29,
     "metadata": {},
     "output_type": "execute_result"
    }
   ],
   "source": [
    "_,_, b_uns = baye_uncertainties([v[0] for v in st.track.values()], (X_pre, y_pre), u_type='cv', take_sqrt=True)\n",
    "lower_bounds = []\n",
    "for efi in [v[0] for v in st.track.values()]:\n",
    "    com = len(efi)\n",
    "    w = np.linalg.lstsq(X_pre[:, efi], y_pre, rcond=None)[0]\n",
    "    pred = X_pre[:, efi]@w\n",
    "    lower_bound = log_like_value(pred, y_pre)/np.log(len(y_pre))-com\n",
    "    lower_bounds.append(lower_bound)\n",
    "max_lam = max(np.log10(lower_bounds/b_uns))\n",
    "delta = np.linspace(0, max_lam, 4)[1]\n",
    "max_lam"
   ]
  },
  {
   "cell_type": "code",
   "execution_count": 30,
   "metadata": {},
   "outputs": [
    {
     "name": "stdout",
     "output_type": "stream",
     "text": [
      "n_lams = 3\n",
      "Using baye_uncertainties\n",
      "[ 1.30633581  1.          1.25863511  2.57242136  5.93973621  6.21494908\n",
      "  8.6956885  27.40698055]\n",
      "0 ---> 2\n",
      "1.1907852196874127 ---> 2\n",
      "2.3815704393748254 ---> 2\n",
      "[-61918.43052239 -68820.7594196  -68817.22259894 -68815.73834385\n",
      " -68792.2609307  -68792.35800727 -68763.81835487 -68583.0030697 ]\n",
      "The optimal complexity is currently at the support sizes of 2.\n"
     ]
    },
    {
     "data": {
      "text/plain": [
       "(array([-61918.43052239, -68820.7594196 , -68817.22259894, -68815.73834385,\n",
       "        -68792.2609307 , -68792.35800727, -68763.81835487, -68583.0030697 ]),\n",
       " 1,\n",
       " 0)"
      ]
     },
     "execution_count": 30,
     "metadata": {},
     "output_type": "execute_result"
    }
   ],
   "source": [
    "n_lams = 3\n",
    "ics, bc, lam = UBICs([v[0] for v in st.track.values()], \n",
    "                     (X_pre, y_pre), \n",
    "                     u_type='cv', take_sqrt=True, use_baye=True, \n",
    "                     max_lam=max_lam,\n",
    "                     delta=delta, \n",
    "                     n_lams=n_lams)\n",
    "ics[-n_lams], bc, lam"
   ]
  },
  {
   "cell_type": "code",
   "execution_count": 31,
   "metadata": {},
   "outputs": [
    {
     "name": "stdout",
     "output_type": "stream",
     "text": [
      "2\n"
     ]
    },
    {
     "data": {
      "text/html": [
       "<div>\n",
       "<style scoped>\n",
       "    .dataframe tbody tr th:only-of-type {\n",
       "        vertical-align: middle;\n",
       "    }\n",
       "\n",
       "    .dataframe tbody tr th {\n",
       "        vertical-align: top;\n",
       "    }\n",
       "\n",
       "    .dataframe thead th {\n",
       "        text-align: right;\n",
       "    }\n",
       "</style>\n",
       "<table border=\"1\" class=\"dataframe\">\n",
       "  <thead>\n",
       "    <tr style=\"text-align: right;\">\n",
       "      <th></th>\n",
       "      <th>df_resid</th>\n",
       "      <th>ssr</th>\n",
       "      <th>df_diff</th>\n",
       "      <th>ss_diff</th>\n",
       "      <th>F</th>\n",
       "      <th>Pr(&gt;F)</th>\n",
       "    </tr>\n",
       "  </thead>\n",
       "  <tbody>\n",
       "    <tr>\n",
       "      <th>0</th>\n",
       "      <td>9999.0</td>\n",
       "      <td>1.195418</td>\n",
       "      <td>0.0</td>\n",
       "      <td>NaN</td>\n",
       "      <td>NaN</td>\n",
       "      <td>NaN</td>\n",
       "    </tr>\n",
       "    <tr>\n",
       "      <th>1</th>\n",
       "      <td>9998.0</td>\n",
       "      <td>0.599071</td>\n",
       "      <td>1.0</td>\n",
       "      <td>0.596347</td>\n",
       "      <td>10007.162391</td>\n",
       "      <td>0.000000</td>\n",
       "    </tr>\n",
       "    <tr>\n",
       "      <th>2</th>\n",
       "      <td>9997.0</td>\n",
       "      <td>0.598588</td>\n",
       "      <td>1.0</td>\n",
       "      <td>0.000482</td>\n",
       "      <td>8.094957</td>\n",
       "      <td>0.004448</td>\n",
       "    </tr>\n",
       "    <tr>\n",
       "      <th>3</th>\n",
       "      <td>9996.0</td>\n",
       "      <td>0.597403</td>\n",
       "      <td>1.0</td>\n",
       "      <td>0.001186</td>\n",
       "      <td>19.895526</td>\n",
       "      <td>0.000008</td>\n",
       "    </tr>\n",
       "    <tr>\n",
       "      <th>4</th>\n",
       "      <td>9995.0</td>\n",
       "      <td>0.596403</td>\n",
       "      <td>1.0</td>\n",
       "      <td>0.001000</td>\n",
       "      <td>16.774640</td>\n",
       "      <td>0.000042</td>\n",
       "    </tr>\n",
       "    <tr>\n",
       "      <th>5</th>\n",
       "      <td>9994.0</td>\n",
       "      <td>0.595697</td>\n",
       "      <td>1.0</td>\n",
       "      <td>0.000706</td>\n",
       "      <td>11.844791</td>\n",
       "      <td>0.000581</td>\n",
       "    </tr>\n",
       "    <tr>\n",
       "      <th>6</th>\n",
       "      <td>9993.0</td>\n",
       "      <td>0.595488</td>\n",
       "      <td>1.0</td>\n",
       "      <td>0.000210</td>\n",
       "      <td>3.517203</td>\n",
       "      <td>0.060764</td>\n",
       "    </tr>\n",
       "    <tr>\n",
       "      <th>7</th>\n",
       "      <td>9992.0</td>\n",
       "      <td>0.595444</td>\n",
       "      <td>1.0</td>\n",
       "      <td>0.000044</td>\n",
       "      <td>0.731865</td>\n",
       "      <td>0.392300</td>\n",
       "    </tr>\n",
       "  </tbody>\n",
       "</table>\n",
       "</div>"
      ],
      "text/plain": [
       "   df_resid       ssr  df_diff   ss_diff             F    Pr(>F)\n",
       "0    9999.0  1.195418      0.0       NaN           NaN       NaN\n",
       "1    9998.0  0.599071      1.0  0.596347  10007.162391  0.000000\n",
       "2    9997.0  0.598588      1.0  0.000482      8.094957  0.004448\n",
       "3    9996.0  0.597403      1.0  0.001186     19.895526  0.000008\n",
       "4    9995.0  0.596403      1.0  0.001000     16.774640  0.000042\n",
       "5    9994.0  0.595697      1.0  0.000706     11.844791  0.000581\n",
       "6    9993.0  0.595488      1.0  0.000210      3.517203  0.060764\n",
       "7    9992.0  0.595444      1.0  0.000044      0.731865  0.392300"
      ]
     },
     "execution_count": 31,
     "metadata": {},
     "output_type": "execute_result"
    }
   ],
   "source": [
    "best_subsets = sorted([v[0] for v in st.track.values()], key=len)\n",
    "ols_models = [sm.OLS(y_pre, X_pre[:, efi]).fit() for efi in best_subsets]\n",
    "f_res = sm.stats.anova_lm(*ols_models, test=\"F\", robust=\"hc3\") # \"F\", \"Chisq\"\", \"Cp\"\n",
    "print(np.argmax(f_res.F)+1)\n",
    "f_res"
   ]
  },
  {
   "cell_type": "code",
   "execution_count": 32,
   "metadata": {},
   "outputs": [
    {
     "data": {
      "text/plain": [
       "(array([1, 0, 0, 0, 0], dtype=int32),\n",
       " array([[-6.88414922e+04,  4.25000000e+00],\n",
       "        [-6.19304623e+04,  1.00000000e+00]]))"
      ]
     },
     "execution_count": 32,
     "metadata": {},
     "output_type": "execute_result"
    }
   ],
   "source": [
    "from sklearn.cluster import KMeans\n",
    "from sklearn.metrics import silhouette_score\n",
    "from k_means_constrained import KMeansConstrained\n",
    "\n",
    "clf = KMeansConstrained(\n",
    "    n_clusters=2, size_min=1, size_max=len(complexities)-1, \n",
    "    random_state=0, \n",
    ")\n",
    "clf.fit(np.vstack((decreasing_aics, complexities)).T)\n",
    "# silhouette_avg = silhouette_score(X, clf.labels_)\n",
    "clf.labels_,  clf.cluster_centers_"
   ]
  },
  {
   "cell_type": "code",
   "execution_count": 33,
   "metadata": {},
   "outputs": [],
   "source": [
    "model = sm.OLS(y_pre, X_pre[:, efi])\n",
    "res = model.fit()"
   ]
  },
  {
   "cell_type": "code",
   "execution_count": 34,
   "metadata": {},
   "outputs": [
    {
     "data": {
      "text/plain": [
       "(34454.556706063064, 34454.556706063064)"
      ]
     },
     "execution_count": 34,
     "metadata": {},
     "output_type": "execute_result"
    }
   ],
   "source": [
    "model.loglike(res.params), log_like_value(X_pre[:, efi]@res.params.reshape(-1, 1), y_pre)"
   ]
  },
  {
   "cell_type": "markdown",
   "metadata": {},
   "source": [
    "#### UBIC"
   ]
  },
  {
   "cell_type": "code",
   "execution_count": 35,
   "metadata": {},
   "outputs": [
    {
     "name": "stdout",
     "output_type": "stream",
     "text": [
      "1, 1, 1, 1, 1, 1, 1, 1, 1, 1, 1, 1, 1, 1, 1, 1, 1, 1, 1, 1, 1, 1, 1, 1, 1, 1, 1, 1, 1, 1, 1, 1, 1, 1, 1, 1, 1, 1, 1, 1, 1, 1, 1, 1, 1, 1, 1, 1, 1, 1, 1, 1, 1, 1, 1, 1, 1, 1, 1, 1, 1, 1, 1, 1, 1, 1, 1, 1, 1, 1, 1, 1, 1, 1, 1, 1, 1, 1, 1, 1, 1, 1, 1, 1, 1, 1, 1, 1, 1, 1, 1, 1, 1, 1, 1, 1, 1, 1, 1, 1, "
     ]
    }
   ],
   "source": [
    "# 100% success rate\n",
    "tau = 3\n",
    "thresholds = np.arange(0.001, 0.1+0.001, 0.001)\n",
    "verbose = False\n",
    "\n",
    "post_means, b_bics, b_uns = baye_uncertainties(best_subsets, (X_pre, y_pre), u_type='cv1', take_sqrt=True)\n",
    "predictions = X_pre@post_means\n",
    "lower_bounds = []\n",
    "for k, efi in enumerate(best_subsets):\n",
    "    assert len(efi) == np.count_nonzero(post_means[:, k:k+1])\n",
    "    com = len(efi)\n",
    "    lower_bound = 2*log_like_value(predictions[:, k:k+1], y_pre)/np.log(len(y_pre))-com\n",
    "    lower_bounds.append(lower_bound)\n",
    "    \n",
    "for thres in thresholds:\n",
    "    last_lam = np.log10(max(lower_bounds/b_uns))\n",
    "    delta = last_lam/tau\n",
    "    now_lam = last_lam-delta\n",
    "    last_ubic = UBIC(b_bics, b_uns, len(y_pre), hyp=10**last_lam)\n",
    "    last_bc = np.argmin(last_ubic)\n",
    "    \n",
    "    while now_lam > 0:\n",
    "        now_lam = last_lam-delta\n",
    "        now_ubic = UBIC(b_bics, b_uns, len(y_pre), hyp=10**now_lam)\n",
    "        now_bc = np.argmin(now_ubic)\n",
    "\n",
    "        diff_com = now_bc-last_bc\n",
    "        diff_bic = b_bics[now_bc]-b_bics[last_bc]\n",
    "        imp = abs(diff_bic/(b_bics[last_bc]*diff_com))\n",
    "\n",
    "        if verbose:\n",
    "            print(min(last_bc, now_bc), '<--->', max(last_bc, now_bc), \n",
    "                  np.nan_to_num(imp, nan=np.inf))\n",
    "        \n",
    "        if (diff_com > 0 and (diff_bic > 0 or imp < thres)) or \\\n",
    "            (diff_com < 0 and diff_bic > 0 and imp > thres):\n",
    "            break\n",
    "\n",
    "        last_lam = now_lam\n",
    "        now_lam = last_lam-delta\n",
    "        last_ubic = now_ubic\n",
    "        last_bc = now_bc\n",
    "\n",
    "    last_lam = round(last_lam, 10)\n",
    "    # last_lam, last_ubic, last_bc\n",
    "    print(last_bc, end=', ')"
   ]
  },
  {
   "cell_type": "code",
   "execution_count": 36,
   "metadata": {},
   "outputs": [
    {
     "name": "stdout",
     "output_type": "stream",
     "text": [
      "1\n",
      "2\n",
      "3\n",
      "4\n",
      "5\n",
      "6\n",
      "7\n",
      "8\n",
      "max_lam: 3.873501898721712\n",
      "1 <---> 1 inf\n",
      "1 <---> 1 inf\n",
      "1 <---> 1 inf\n"
     ]
    },
    {
     "data": {
      "text/plain": [
       "(0.0,\n",
       " array([-61918.43052239, -68820.7594196 , -68817.22259894, -68815.73834385,\n",
       "        -68792.2609307 , -68792.35800727, -68763.81835487, -68583.0030697 ]),\n",
       " 1,\n",
       " 1)"
      ]
     },
     "execution_count": 36,
     "metadata": {},
     "output_type": "execute_result"
    }
   ],
   "source": [
    "tau = 3\n",
    "thres = 0.02\n",
    "verbose = True\n",
    "\n",
    "post_means, b_bics, b_uns = baye_uncertainties(best_subsets, (X_pre, y_pre), u_type='cv1', take_sqrt=True)\n",
    "predictions = X_pre@post_means\n",
    "lower_bounds = []\n",
    "for k, efi in enumerate(best_subsets):\n",
    "    assert len(efi) == np.count_nonzero(post_means[:, k:k+1])\n",
    "    com = len(efi); print(com)\n",
    "    lower_bound = 2*log_like_value(predictions[:, k:k+1], y_pre)/np.log(len(y_pre))-com\n",
    "    lower_bounds.append(lower_bound)\n",
    "\n",
    "last_lam = np.log10(max(lower_bounds/b_uns))\n",
    "print(\"max_lam:\", last_lam)\n",
    "delta = last_lam/tau\n",
    "now_lam = last_lam-delta\n",
    "last_ubic = UBIC(b_bics, b_uns, len(y_pre), hyp=10**last_lam)\n",
    "last_bc = np.argmin(last_ubic)\n",
    "while now_lam > 0:\n",
    "    now_lam = last_lam-delta\n",
    "    now_ubic = UBIC(b_bics, b_uns, len(y_pre), hyp=10**now_lam)\n",
    "    now_bc = np.argmin(now_ubic)\n",
    "    \n",
    "    diff_com = now_bc-last_bc\n",
    "    diff_bic = b_bics[now_bc]-b_bics[last_bc]\n",
    "    imp = abs(diff_bic/(b_bics[last_bc]*diff_com))\n",
    "    \n",
    "    if verbose:\n",
    "        print(min(last_bc, now_bc), '<--->', max(last_bc, now_bc), \n",
    "              np.nan_to_num(imp, nan=np.inf))\n",
    "    \n",
    "#     if (diff_com > 0 and imp < thres) or (diff_com < 0 and imp > thres):\n",
    "#         break\n",
    "    if (diff_com > 0 and (diff_bic > 0 or imp < thres)) or \\\n",
    "        (diff_com < 0 and diff_bic > 0 and imp > thres):\n",
    "        break\n",
    "    \n",
    "    last_lam = now_lam\n",
    "    now_lam = last_lam-delta\n",
    "    last_ubic = now_ubic\n",
    "    last_bc = now_bc\n",
    "\n",
    "best_bc = last_bc\n",
    "if abs((b_bics[last_bc]-b_bics[last_bc-1])/b_bics[last_bc-1]) < thres:\n",
    "    best_bc = best_bc - 1\n",
    "    \n",
    "last_lam = round(last_lam, 10)\n",
    "last_lam, last_ubic, last_bc, best_bc"
   ]
  },
  {
   "cell_type": "code",
   "execution_count": 37,
   "metadata": {},
   "outputs": [],
   "source": [
    "_, b_aics, _ = baye_uncertainties_aic(best_subsets, (X_pre, y_pre), u_type='cv1', take_sqrt=True)"
   ]
  },
  {
   "cell_type": "code",
   "execution_count": 38,
   "metadata": {},
   "outputs": [
    {
     "data": {
      "text/plain": [
       "array([ -7.21034037, -14.42068074, -21.63102112, -28.84136149,\n",
       "       -36.05170186, -43.26204223, -50.4723826 , -57.68272298])"
      ]
     },
     "execution_count": 38,
     "metadata": {},
     "output_type": "execute_result"
    }
   ],
   "source": [
    "np.array(b_aics)-np.array(b_bics) # np.log(len(y_pre))-2"
   ]
  },
  {
   "cell_type": "code",
   "execution_count": 36,
   "metadata": {},
   "outputs": [
    {
     "data": {
      "image/png": "[encoded data removed]",
      "text/plain": [
       "<Figure size 252x189 with 2 Axes>"
      ]
     },
     "metadata": {
      "needs_background": "light"
     },
     "output_type": "display_data"
    }
   ],
   "source": [
    "complexity_axis = list(st.track.keys())\n",
    "with plt.style.context(['science']):\n",
    "    fig, ax = plt.subplots()\n",
    "    ax2 = ax.twinx()\n",
    "    ax.set_zorder(ax2.get_zorder()+1)\n",
    "    ax.patch.set_visible(False)\n",
    "    \n",
    "    l1, = ax.plot(complexity_axis, last_ubic, 'o-', c='black', markerfacecolor='none', label=f\"$\\lambda = {abs(last_lam)}$\")\n",
    "    ax.set_xticks(complexity_axis)\n",
    "    ax.set_ylabel(\"$\\\\textrm{UBIC}(\\\\xi^{k}, 10^{\\\\lambda})$\", fontsize=12)\n",
    "    ax.set_xlabel(\"Support sizes ($s_{k}$)\", fontsize=12)\n",
    "    ax.annotate('$(u_{xx}, uu_{x})\\checkmark$', fontsize=16, \n",
    "                 xy=(complexity_axis[best_bc], last_ubic[best_bc]), \n",
    "                 xytext=(complexity_axis[best_bc]+0.5, last_ubic[best_bc]+4000), \n",
    "                 arrowprops={'arrowstyle': '->'})\n",
    "    \n",
    "    l2, = ax2.plot(complexity_axis, b_uns, 'o--', c='blue', markerfacecolor='none', label=\"Uncertainty $\\\\textrm{U}^{k}$\")\n",
    "    s1 = ax2.scatter(complexity_axis[np.argmin(b_uns)], b_uns[np.argmin(b_uns)], c='blue')\n",
    "    ax2.tick_params(axis='y', labelcolor='blue')\n",
    "\n",
    "    ax.legend([l1, l2, s1], [f\"UBIC with $\\lambda = {abs(last_lam)}$\", \"Uncertainty $\\\\textrm{U}^{k}$\", \"Min $\\\\textrm{U}^{k}$\"], \n",
    "              labelcolor='linecolor', loc='upper center', fontsize=12)\n",
    "    \n",
    "#     fig.savefig(\"../Figures/Burgers/burgers_ubic_V2.pdf\")\n",
    "    \n",
    "    plt.show()"
   ]
  },
  {
   "cell_type": "code",
   "execution_count": 38,
   "metadata": {},
   "outputs": [
    {
     "data": {
      "text/plain": [
       "(array([ 1.70552385,  1.        ,  3.28222831,  4.09796083,  6.08513976,\n",
       "        10.33654514, 12.34072273, 31.27730218]),\n",
       " array([1]),\n",
       " array([1, 2, 3, 4, 5, 6, 7, 8]),\n",
       " array([0.]),\n",
       " array([-65207.60451348, -77430.2372346 , -77411.35282454, -77409.46120483,\n",
       "        -77403.12069533, -77361.11989089, -77334.10458529, -77150.49229761]))"
      ]
     },
     "execution_count": 38,
     "metadata": {},
     "output_type": "execute_result"
    }
   ],
   "source": [
    "h5file(file_path=\"../Visualization/figure1/Burgers/ubic_plot.h5\", \n",
    "       cdict={'complexity_axis': complexity_axis, 'last_ubic': last_ubic, 'b_uns': b_uns, 'best_bc': np.array([best_bc]), 'last_lam': np.array([last_lam])}, \n",
    "       mode='w'\n",
    "      )"
   ]
  },
  {
   "cell_type": "code",
   "execution_count": 39,
   "metadata": {},
   "outputs": [
    {
     "data": {
      "image/png": "[encoded data removed]",
      "text/plain": [
       "<Figure size 252x189 with 1 Axes>"
      ]
     },
     "metadata": {
      "needs_background": "light"
     },
     "output_type": "display_data"
    }
   ],
   "source": [
    "save_fig = True # True, False\n",
    "complexity_axis = list(st.track.keys())\n",
    "with plt.style.context(['science', 'grid']):\n",
    "    fig, ax = plt.subplots()\n",
    "    ax.plot([], [], linestyle='', marker='', label='Target: $u_t$')\n",
    "    ax.plot(complexity_axis, last_ubic, 'o-', c='black', markerfacecolor='none', label=f\"$\\lambda = {abs(last_lam)}$\")\n",
    "    ax.set_xticks(complexity_axis)\n",
    "    ax.set_ylabel(\"$\\\\textrm{UBIC}(\\\\xi^{k}, 10^{\\\\lambda})$\", fontsize=12)\n",
    "    ax.set_xlabel(\"Support sizes ($s_{k}$)\", fontsize=12)\n",
    "    plt.annotate('$(u_{xx}, uu_{x})\\checkmark$', fontsize=16, \n",
    "                 xy=(complexity_axis[best_bc], last_ubic[best_bc]), \n",
    "                 xytext=(complexity_axis[best_bc]+0.5, last_ubic[best_bc]+2000), \n",
    "                 arrowprops={'arrowstyle': '->'})\n",
    "    ax.legend(fontsize=12)\n",
    "#     if save_fig: fig.savefig(\"../Figures/Burgers/burgers_ubic.pdf\")\n",
    "    plt.show()\n",
    "    plt.close()"
   ]
  },
  {
   "cell_type": "code",
   "execution_count": 40,
   "metadata": {},
   "outputs": [
    {
     "data": {
      "image/png": "[encoded data removed]",
      "text/plain": [
       "<Figure size 252x189 with 1 Axes>"
      ]
     },
     "metadata": {
      "needs_background": "light"
     },
     "output_type": "display_data"
    }
   ],
   "source": [
    "save_fig = True # True, False\n",
    "complexity_axis = list(st.track.keys())\n",
    "with plt.style.context(['science', 'grid']):\n",
    "    fig, ax = plt.subplots()\n",
    "    ax.plot([], [], linestyle='', marker='', label='Target: $u_t$')\n",
    "    ax.plot(complexity_axis, b_uns, 'o-', c='black', markerfacecolor='none')\n",
    "    ax.set_xticks(complexity_axis)\n",
    "    ax.set_ylabel(\"Uncertainty $\\\\textrm{U}^{k}$\", fontsize=12)\n",
    "    ax.set_xlabel(\"Support sizes ($s_{k}$)\", fontsize=12)\n",
    "    plt.annotate('min', fontsize=16, \n",
    "                 xy=(complexity_axis[best_bc], b_uns[best_bc]), \n",
    "                 xytext=(complexity_axis[best_bc]-1, b_uns[best_bc]+10), \n",
    "                 arrowprops={'arrowstyle': '->'})\n",
    "    ax.legend(fontsize=12)\n",
    "#     if save_fig: fig.savefig(\"../Figures/Burgers/burgers_uns.pdf\")\n",
    "    plt.show()\n",
    "    plt.close()"
   ]
  },
  {
   "cell_type": "code",
   "execution_count": 41,
   "metadata": {},
   "outputs": [
    {
     "name": "stdout",
     "output_type": "stream",
     "text": [
      "['X_pre', 'best_subsets', 'un', 'y_pre']\n"
     ]
    },
    {
     "data": {
      "image/png": "[encoded data removed]",
      "text/plain": [
       "<Figure size 252x189 with 1 Axes>"
      ]
     },
     "metadata": {
      "needs_background": "light"
     },
     "output_type": "display_data"
    }
   ],
   "source": [
    "ud_X, un_best_subsets, _, ud_y = h5file(\"./IPI_output_files/PMS_undenoised_data.h5\", 'r')\n",
    "_, ud_bics, _ = baye_uncertainties([np.where(e>0)[0].tolist() for e in un_best_subsets], \n",
    "                                   (ud_X, ud_y), u_type='cv1', take_sqrt=True)\n",
    "\n",
    "save_fig = True # True, False\n",
    "complexity_axis = list(st.track.keys())\n",
    "with plt.style.context(['science']):\n",
    "    fig, ax = plt.subplots()\n",
    "    ax.plot(complexity_axis, ud_bics, 'o-', c='blue', markerfacecolor='none', label=\"w/o denoising\")\n",
    "    ax.plot(complexity_axis, b_bics, 'o-', c='black', markerfacecolor='none', label=\"w/ denoising\")\n",
    "    ax.fill_between(complexity_axis, ud_bics, b_bics, facecolor='lightblue')\n",
    "    ax.set_xticks(complexity_axis)\n",
    "    ax.set_ylabel(\"$\\\\textrm{BIC}(\\\\xi^{k}_{\\\\mu})$\", fontsize=12)\n",
    "    ax.set_xlabel(\"Support sizes ($s_{k}$)\", fontsize=12)\n",
    "    plt.annotate(f\"$({', '.join(eff_feature_names[np.argmin(b_bics)])})$\", fontsize=16, \n",
    "                 xy=(complexity_axis[np.argmin(b_bics)], b_bics[np.argmin(b_bics)]), \n",
    "                 xytext=(complexity_axis[np.argmin(b_bics)]-2, b_bics[np.argmin(b_bics)]+4000), \n",
    "                 arrowprops={'arrowstyle': '->'})\n",
    "    ax.legend(fontsize=12, title='Target: $u_t$')\n",
    "    if save_fig: fig.savefig(\"../Figures/Burgers/burgers_bic_V2.pdf\")\n",
    "    plt.show()\n",
    "    plt.close()"
   ]
  },
  {
   "cell_type": "code",
   "execution_count": 42,
   "metadata": {},
   "outputs": [
    {
     "data": {
      "text/plain": [
       "(array([-65223.31296864, -77439.44757497, -77441.58326444, -77447.20481893,\n",
       "        -77459.1669037 , -77456.32298993, -77447.76684203, -77438.56689659]),\n",
       " array([-61930.46231979, -68829.96975997, -68828.81505675, -68839.43122012,\n",
       "        -68846.9679229 , -68849.59980368, -68843.90860571, -68835.43068915]))"
      ]
     },
     "execution_count": 42,
     "metadata": {},
     "output_type": "execute_result"
    }
   ],
   "source": [
    "h5file(file_path=\"../Visualization/figure1/Burgers/bic_plot.h5\", \n",
    "       cdict={'ud_bics': ud_bics, 'b_bics': b_bics}, \n",
    "       mode='w'\n",
    "      )"
   ]
  },
  {
   "cell_type": "code",
   "execution_count": 43,
   "metadata": {},
   "outputs": [
    {
     "data": {
      "text/plain": [
       "[['uu_{x}'],\n",
       " ['u_{xx}', 'uu_{x}'],\n",
       " ['u_{x}', 'u_{xx}', 'uu_{x}'],\n",
       " ['u_{x}', 'u_{xx}', 'uu_{x}', 'u^2u_{xx}'],\n",
       " ['u', 'u^2', 'u_{x}', 'u_{xx}', 'uu_{x}']]"
      ]
     },
     "execution_count": 43,
     "metadata": {},
     "output_type": "execute_result"
    }
   ],
   "source": [
    "eff_feature_names"
   ]
  },
  {
   "cell_type": "markdown",
   "metadata": {},
   "source": [
    "#### IC on validation data"
   ]
  },
  {
   "cell_type": "code",
   "execution_count": null,
   "metadata": {},
   "outputs": [],
   "source": [
    "div = 2\n",
    "X_train = X_pre.copy()[:len(X_pre)//div, :]\n",
    "y_train = y_pre.copy()[:len(X_pre)//div, :]\n",
    "X_val = X_pre.copy()[len(X_pre)//div:, :]\n",
    "y_val = y_pre.copy()[len(X_pre)//div:, :]"
   ]
  },
  {
   "cell_type": "code",
   "execution_count": null,
   "metadata": {},
   "outputs": [],
   "source": [
    "post_means, b_bics, b_uns = baye_uncertainties(best_subsets, (X_train, y_train), \n",
    "                                               u_type='cv1', take_sqrt=True)\n",
    "print(np.argmin(b_bics))\n",
    "val_pred = X_val@post_means\n",
    "val_bic_scores = []\n",
    "for k in range(val_pred.shape[-1]):\n",
    "    val_bic_scores.append(BIC_AIC(val_pred[:, k:k+1], y_val, \n",
    "                                  np.count_nonzero(post_means[:, k:k+1]))[0])\n",
    "print(np.argmin(val_bic_scores))"
   ]
  },
  {
   "cell_type": "code",
   "execution_count": null,
   "metadata": {},
   "outputs": [],
   "source": []
  },
  {
   "cell_type": "code",
   "execution_count": null,
   "metadata": {},
   "outputs": [],
   "source": []
  },
  {
   "cell_type": "code",
   "execution_count": null,
   "metadata": {},
   "outputs": [],
   "source": []
  },
  {
   "cell_type": "code",
   "execution_count": null,
   "metadata": {},
   "outputs": [],
   "source": []
  },
  {
   "cell_type": "code",
   "execution_count": null,
   "metadata": {},
   "outputs": [],
   "source": []
  },
  {
   "cell_type": "code",
   "execution_count": null,
   "metadata": {},
   "outputs": [],
   "source": []
  },
  {
   "cell_type": "code",
   "execution_count": null,
   "metadata": {},
   "outputs": [],
   "source": []
  },
  {
   "cell_type": "code",
   "execution_count": null,
   "metadata": {},
   "outputs": [],
   "source": []
  },
  {
   "cell_type": "code",
   "execution_count": null,
   "metadata": {},
   "outputs": [],
   "source": [
    "### useful for checking whether it worth having function coefficienst or not? ###\n",
    "# diff_lib = ps.PDELibrary(library_functions=library_functions, \n",
    "#                          function_names=library_function_names, \n",
    "#                          derivative_order=2, \n",
    "#                          spatial_grid=x, \n",
    "#                          is_uniform=True, \n",
    "#                          differentiation_method=ps., \n",
    "#                          differentiation_kwargs=differentiation_kwargs)\n",
    "\n",
    "diff_lib = ps.PDELibrary(library_functions=library_functions, \n",
    "                         function_names=library_function_names, \n",
    "                         derivative_order=2, \n",
    "                         spatial_grid=x, \n",
    "                         is_uniform=True, \n",
    "                         differentiation_method=differentiation_method, \n",
    "                         differentiation_kwargs=differentiation_kwargs)\n",
    "\n",
    "candidate_lib = diff_lib.fit_transform(np.expand_dims(un[:, :], -1))\n",
    "f_candidate_lib = np.stack([np.fft.fft2(candidate_lib[:, :, i]) \n",
    "                            for i in range(candidate_lib.shape[-1])], axis=-1)\n",
    "candidate_lib = candidate_lib.reshape(-1, candidate_lib.shape[-1])\n",
    "dynamics = diff_lib.differentiation_method(**diff_lib.differentiation_kwargs, \n",
    "                                           axis=1)._differentiate(un[:, :], \n",
    "                                                                  t)\n",
    "f_dynamics = np.fft.fft2(dynamics)\n",
    "dynamics = dynamics.reshape(-1,1)\n",
    "\n",
    "dependent = \"temporal\"\n",
    "Theta_grouped, Ut_grouped = spatial_temporal_group(candidate_lib, dynamics, \n",
    "                                                   (len(x), len(t)), \n",
    "                                                   dependent=dependent)\n",
    "\n",
    "com2coeff = {}\n",
    "com2paracoeff = {}\n",
    "for com in sorted(st.track.keys()):\n",
    "    indices, _ = st.track[com]\n",
    "    paracoeff = np.zeros(shape=(candidate_lib.shape[-1], len(Theta_grouped)))\n",
    "    \n",
    "    paracoeff[list(indices)] = np.hstack([np.linalg.lstsq(Theta_grouped[_][:, indices], \n",
    "                                                          Ut_grouped[_], \n",
    "                                                          rcond=None)[0] for _ in range(len(Theta_grouped))])\n",
    "    \n",
    "    coeff = np.zeros(shape=(candidate_lib.shape[-1], 1))\n",
    "    coeff[list(indices)] = np.linalg.lstsq(candidate_lib[:, indices], dynamics)[0]\n",
    "    coeff = np.hstack([coeff for _ in range(len(Theta_grouped))])\n",
    "    \n",
    "    com2coeff[com] = coeff\n",
    "    com2paracoeff[com] = paracoeff"
   ]
  },
  {
   "cell_type": "code",
   "execution_count": null,
   "metadata": {},
   "outputs": [],
   "source": [
    "PDE_Losses = np.array([PDE_FIND_Loss(Theta_grouped, Ut_grouped, com2coeff[com])\n",
    "                       for com in sorted(st.track.keys())])\n",
    "paraPDE_Losses = np.array([PDE_FIND_Loss(Theta_grouped, Ut_grouped, com2paracoeff[com], const_coeff=False)\n",
    "                       for com in sorted(st.track.keys())])\n",
    "\n",
    "### decide whether you are dealing with functional coefficients here ###\n",
    "plt.plot(sorted(st.track.keys()), PDE_Losses, label='const')\n",
    "plt.plot(sorted(st.track.keys()), paraPDE_Losses, label='para')\n",
    "plt.legend()\n",
    "plt.show()"
   ]
  },
  {
   "cell_type": "code",
   "execution_count": null,
   "metadata": {},
   "outputs": [],
   "source": [
    "# 5 to 10 percent as threshold\n",
    "print(np.min(paraPDE_Losses-PDE_Losses)/PDE_Losses[np.argmin(paraPDE_Losses-PDE_Losses)])\n",
    "plt.plot(sorted(st.track.keys()), paraPDE_Losses-PDE_Losses)\n",
    "plt.show()"
   ]
  },
  {
   "cell_type": "code",
   "execution_count": null,
   "metadata": {},
   "outputs": [],
   "source": [
    "if dependent == \"temporal\":\n",
    "    plt.plot(t, com2paracoeff[2][list(st.track[2][0])][0])\n",
    "    plt.plot(t, com2paracoeff[2][list(st.track[2][0])][1])\n",
    "elif dependent == \"spatial\":\n",
    "    plt.plot(x, com2paracoeff[2][list(st.track[2][0])][0])\n",
    "    plt.plot(x, com2paracoeff[2][list(st.track[2][0])][1])\n",
    "plt.show()"
   ]
  },
  {
   "cell_type": "code",
   "execution_count": null,
   "metadata": {},
   "outputs": [],
   "source": [
    "maxi = np.max(t); mini = np.min(t)\n",
    "mid = (mini+maxi)/2\n",
    "ss = np.arange(0, len(t)-(list(t).index(mid)), dtype=np.int)\n",
    "\n",
    "com2coeff_sub = {}\n",
    "for s in ss:\n",
    "    t_sub_indices = [i+s for i in range(list(t).index(mid)+1)]\n",
    "    t_sub = t[t_sub_indices]\n",
    "    un_sub = (un.copy())[:, t_sub_indices]\n",
    "    print(t_sub_indices[0], \"->\", t_sub_indices[-1])\n",
    "\n",
    "    diff_lib = ps.PDELibrary(library_functions=library_functions, \n",
    "                             function_names=library_function_names, \n",
    "                             derivative_order=2, \n",
    "                             spatial_grid=x, \n",
    "                             is_uniform=True, \n",
    "                             differentiation_method=ps.SmoothedFiniteDifference, \n",
    "                             differentiation_kwargs=differentiation_kwargs)\n",
    "\n",
    "    candidate_lib_sub = diff_lib.fit_transform(np.expand_dims(un_sub, -1))\n",
    "    candidate_lib_sub = candidate_lib_sub.reshape(-1, candidate_lib_sub.shape[-1])\n",
    "    dynamics_sub = diff_lib.differentiation_method(**diff_lib.differentiation_kwargs, \n",
    "                                                   axis=1)._differentiate(un_sub, \n",
    "                                                                          t_sub).reshape(-1,1)\n",
    "    \n",
    "    Theta_grouped_sub, Ut_grouped_sub = spatial_temporal_group(candidate_lib_sub, dynamics_sub, \n",
    "                                                               (len(x), len(t_sub)), \n",
    "                                                               dependent=dependent)\n",
    "    \n",
    "    for com in sorted(st.track.keys()):\n",
    "        indices, _ = st.track[com]\n",
    "        \n",
    "        coeff = np.hstack([np.linalg.lstsq(Theta_grouped_sub[_][:, indices], \n",
    "                                           Ut_grouped_sub[_], \n",
    "                                           rcond=None)[0] for _ in range(len(Theta_grouped_sub))])\n",
    "\n",
    "#         coeff = np.zeros(shape=(candidate_lib_sub.shape[-1], 1))\n",
    "#         coeff[list(indices)] = np.linalg.lstsq(candidate_lib_sub[:, indices], dynamics_sub)[0]\n",
    "#         coeff = np.hstack([coeff for _ in range(n)])\n",
    "\n",
    "        coeff = np.expand_dims(coeff, 0)\n",
    "        if com not in com2coeff_sub: \n",
    "            com2coeff_sub[com] = coeff\n",
    "        else: \n",
    "            com2coeff_sub[com] = np.vstack((com2coeff_sub[com], coeff))"
   ]
  },
  {
   "cell_type": "code",
   "execution_count": null,
   "metadata": {},
   "outputs": [],
   "source": [
    "# cvs = np.zeros((len(st.track.keys()), len(diff_lib.get_feature_names())))\n",
    "# for com in sorted(st.track.keys()):\n",
    "#     indices, _ = st.track[com]\n",
    "#     cv_com = np.zeros(len(diff_lib.get_feature_names()))\n",
    "    \n",
    "#     ### treat a seq of coeff values in one horizon as a mean constant number ###\n",
    "#     mh_coeffs = np.mean(com2coeff_sub[com], axis=-1)\n",
    "#     cv = np.std(mh_coeffs, axis=0)/np.mean(mh_coeffs, axis=0)\n",
    "#     cv = cv[~np.isnan(cv)]\n",
    "#     cv_com[list(indices)] = np.abs(cv)\n",
    "    \n",
    "#     ### mean over the horizon axis as well\n",
    "#     # cv = np.abs(com2coeff_sub[com].std(axis=0)/com2coeff_sub[com].mean(axis=0)).mean(axis=-1)\n",
    "#     # cv = cv[~np.isnan(cv)]\n",
    "    \n",
    "#     cv_com[list(indices)] = np.abs(cv)\n",
    "#     cvs[com-1] = cv_com\n",
    "\n",
    "# cvs.sum(axis=-1)\n",
    "\n",
    "cvs = np.zeros((len(st.track.keys()), len(diff_lib.get_feature_names())))\n",
    "for com in sorted(st.track.keys()):\n",
    "    indices, _ = st.track[com]\n",
    "    cv_com = np.zeros(len(diff_lib.get_feature_names()))\n",
    "    \n",
    "    ### treat a seq of coeff values in one horizon as a mean constant number ###\n",
    "    mh_coeffs = np.mean(com2coeff_sub[com], axis=-1)\n",
    "    cv_com[list(indices)] = np.abs(np.std(mh_coeffs, axis=0)/np.mean(mh_coeffs, axis=0))\n",
    "    \n",
    "    ### mean over the horizon axis as well\n",
    "    # cv_com[list(indices)] = np.abs(com2coeff_sub[com].std(axis=0)/com2coeff_sub[com].mean(axis=0)).mean(axis=-1)\n",
    "    \n",
    "    cvs[com-1] = cv_com\n",
    "    \n",
    "cvs.sum(axis=-1)"
   ]
  },
  {
   "cell_type": "code",
   "execution_count": null,
   "metadata": {},
   "outputs": [],
   "source": [
    "brr_bicaics = [BIC_AIC(brr_pred, y_pre, brr_com+cvs.sum(axis=-1)[brr_com-1])[0] \n",
    "               for brr_pred, brr_com, brr_uncert in brr_bics]\n",
    "print(np.argmin(brr_bicaics)+1)\n",
    "plt.plot(brr_bicaics)\n",
    "plt.show()"
   ]
  },
  {
   "cell_type": "markdown",
   "metadata": {},
   "source": [
    "#### Denoised weak form: Tune (p, q), ws"
   ]
  },
  {
   "cell_type": "code",
   "execution_count": null,
   "metadata": {},
   "outputs": [],
   "source": [
    "def weight_poly(x, m, k):\n",
    "    \"\"\"\n",
    "    Polynomial piece of weighting function used to satisfy BC A = d^k/dx^k[(x^2 - 1)^m]\n",
    "    x: independent variable\n",
    "    m: power of base function\n",
    "    k: order of derivative\n",
    "    \"\"\"\n",
    "    a = np.zeros((2*m+1, 1)) # initial coefficient vector\n",
    "    for l in range(m+1):\n",
    "        a[2*l] = ((-1)**(m-l))*np.math.comb(m, l) # set polynomial coefficients\n",
    "    \n",
    "    c = np.zeros((2*m+1, 1)) # final coefficient vector\n",
    "    for n in range(2*m-k+1):\n",
    "        c[n] = a[n+k]*np.math.factorial(n+k)/np.math.factorial(n)\n",
    "    \n",
    "    p = 0\n",
    "    for n in range(2*m-k+1):\n",
    "        p += c[n]*(x**n) # final windowing function\n",
    "\n",
    "    return p\n",
    "\n",
    "def weight_full(k, p, x, t):\n",
    "    \"\"\"\n",
    "    Assemble the 1D weight functions into the full weight\n",
    "    k = [kx,ky,kt]: order of derivative(s)\n",
    "    p = [px,py,pt]: exponents of weight polynomials\n",
    "    \"\"\"\n",
    "    if len(k) == 3:\n",
    "        wx = weight_poly(x, p[0], k[0])\n",
    "        wy = weight_poly(x, p[1], k[1])\n",
    "        wt = weight_poly(t, p[2], k[2])\n",
    "        wX, wY, wT = np.meshgrid(wx, wy, wt)\n",
    "        W = wX * wY * wT\n",
    "    elif len(k) == 2:\n",
    "        wx = weight_poly(x, p[0], k[0])\n",
    "        wt = weight_poly(t, p[1], k[1])\n",
    "        wT, wX = np.meshgrid(wt, wx)\n",
    "        W = wX * wT\n",
    "    \n",
    "    return W, wx, wt"
   ]
  },
  {
   "cell_type": "code",
   "execution_count": null,
   "metadata": {},
   "outputs": [],
   "source": [
    "u_weak = un.copy()\n",
    "n_domain = 10000\n",
    "div = 3.5\n",
    "x_size, t_size = int(max(u_weak.shape)/div), int(max(u_weak.shape)/div)\n",
    "\n",
    "xsup = np.linspace(-1,1,x_size+1)\n",
    "tsup = np.linspace(-1,1,t_size+1)\n",
    "S_x = 2/(dx*x_size)\n",
    "S_t = 2/(dt*t_size)"
   ]
  },
  {
   "cell_type": "code",
   "execution_count": null,
   "metadata": {},
   "outputs": [],
   "source": [
    "max_order = 2\n",
    "best_loss = 1e6; best_coeff = None\n",
    "for mo in range(max_order, max_order+10, 1):\n",
    "    wx, wt = np.meshgrid((xsup**2-1)**(mo), (tsup**2-1)**(mo))\n",
    "    W = (wx*wt).T\n",
    "    \n",
    "    # Define the derivative:\n",
    "    d_dx = FinDiff(0, xsup[1]-xsup[0], 1)\n",
    "    d_dxx = FinDiff(0, xsup[1]-xsup[0], 2)\n",
    "    d_dxxxx = FinDiff(0, xsup[1]-xsup[0], 4)\n",
    "    d_dt = FinDiff(1, tsup[1]-tsup[0], 1)\n",
    "\n",
    "    dA01 = d_dt(W)\n",
    "    dA10 = d_dx(W)\n",
    "    dA20 = d_dxx(W)\n",
    "    dA40 = d_dxxxx(W)\n",
    "\n",
    "    X_weak = []\n",
    "    y_weak = []\n",
    "    for _ in trange(n_domain):\n",
    "        ix = np.random.randint(0, len(x)-x_size, size=1)[0] + np.arange(0, x_size+1)\n",
    "        it = np.random.randint(0, len(t)-t_size, size=1)[0] + np.arange(0, t_size+1)\n",
    "\n",
    "        usup = (u_weak[ix, :][:, it])\n",
    "\n",
    "        f1 = -(1/2)*(usup**2)*dA10*S_x\n",
    "        f1 = trapz(trapz(f1, tsup, dt, 1), xsup, dx, 0)\n",
    "\n",
    "        f2 = usup*dA20*(S_x**2)\n",
    "        f2 = trapz(trapz(f2, tsup, dt, 1), xsup, dx, 0)\n",
    "\n",
    "        X_weak.append([f2, f1])\n",
    "\n",
    "        f4 = -usup*dA01*S_t\n",
    "        f4 = trapz(trapz(f4, tsup, dt, 1), xsup, dx, 0)\n",
    "        y_weak.append(f4)\n",
    "\n",
    "    X_weak = np.array(X_weak)\n",
    "    y_weak = np.array(y_weak)\n",
    "\n",
    "    coeff = np.linalg.lstsq(X_weak, y_weak, rcond=None)[0]\n",
    "    loss = ((X_weak@coeff-y_weak)**2).mean()\n",
    "\n",
    "    print(mo)\n",
    "    print(loss, evaluate_coefficients(coeff))\n",
    "    if loss < best_loss:\n",
    "        best_loss = loss\n",
    "        best_coeff = coeff\n",
    "    else:\n",
    "        break\n",
    "\n",
    "best_mo = mo-1\n",
    "best_coeff, evaluate_coefficients(best_coeff)"
   ]
  },
  {
   "cell_type": "markdown",
   "metadata": {},
   "source": [
    "#### Savgol_filter"
   ]
  },
  {
   "cell_type": "code",
   "execution_count": null,
   "metadata": {},
   "outputs": [],
   "source": [
    "wx, wt = np.meshgrid((xsup**2-1)**(best_mo), (tsup**2-1)**(best_mo))\n",
    "W = (wx*wt).T\n",
    "\n",
    "# Define the derivative:\n",
    "d_dx = FinDiff(0, xsup[1]-xsup[0], 1, acc=4)\n",
    "d_dxx = FinDiff(0, xsup[1]-xsup[0], 2, acc=4)\n",
    "d_dxxxx = FinDiff(0, xsup[1]-xsup[0], 4, acc=4)\n",
    "d_dt = FinDiff(1, tsup[1]-tsup[0], 1, acc=4)\n",
    "\n",
    "dA01 = d_dt(W)\n",
    "dA10 = d_dx(W)\n",
    "dA20 = d_dxx(W)\n",
    "dA40 = d_dxxxx(W)\n",
    "\n",
    "min_loss = 1e6; best_coeff = None\n",
    "for ws in trange(3, 33, 2):\n",
    "    X_weak = []\n",
    "    y_weak = []\n",
    "    for _ in range(n_domain):\n",
    "        ix = np.random.randint(0, len(x)-x_size, size=1)[0] + np.arange(0, x_size+1)\n",
    "        it = np.random.randint(0, len(t)-t_size, size=1)[0] + np.arange(0, t_size+1)\n",
    "        \n",
    "        usup = savgol_filter(u_weak[ix, :][:, it], ws, 2)\n",
    "\n",
    "        f1 = -(1/2)*(usup**2)*dA10*S_x\n",
    "        f1 = trapz(trapz(f1, tsup, 1), xsup, 0)\n",
    "\n",
    "        f2 = usup*dA20*(S_x**2)\n",
    "        f2 = trapz(trapz(f2, tsup, 1), xsup, 0)\n",
    "\n",
    "        X_weak.append([f2, f1])\n",
    "\n",
    "        f4 = -usup*dA01*S_t\n",
    "        f4 = trapz(trapz(f4, tsup, 1), xsup, 0)\n",
    "        y_weak.append(f4)\n",
    "\n",
    "    X_weak = np.array(X_weak)\n",
    "    y_weak = np.array(y_weak)\n",
    "    \n",
    "    coeff = np.linalg.lstsq(X_weak, y_weak, rcond=None)[0]\n",
    "    loss = ((X_weak@coeff-y_weak)**2).mean()\n",
    "    if loss < min_loss:\n",
    "        min_loss = loss\n",
    "        best_coeff = coeff\n",
    "\n",
    "# (0.03524781993990561, 0.011424239600747732)\n",
    "min_loss, best_coeff, evaluate_coefficients(best_coeff)"
   ]
  },
  {
   "cell_type": "markdown",
   "metadata": {},
   "source": [
    "#### wiener"
   ]
  },
  {
   "cell_type": "code",
   "execution_count": null,
   "metadata": {},
   "outputs": [],
   "source": [
    "min_loss = 1e6; best_coeff = None\n",
    "for ws in trange(3, 33, 1):\n",
    "    X_weak = []\n",
    "    y_weak = []\n",
    "    for _ in range(n_domain):\n",
    "        ix = np.random.randint(0, len(x)-x_size, size=1)[0] + np.arange(0, x_size+1)\n",
    "        it = np.random.randint(0, len(t)-t_size, size=1)[0] + np.arange(0, t_size+1)\n",
    "        \n",
    "        usup = wiener(u_weak[ix, :][:, it], ws)\n",
    "\n",
    "        f1 = -(1/2)*(usup**2)*dA10*S_x\n",
    "        f1 = trapz(trapz(f1, tsup, 1), xsup, 0)\n",
    "\n",
    "        f2 = usup*dA20*(S_x**2)\n",
    "        f2 = trapz(trapz(f2, tsup, 1), xsup, 0)\n",
    "\n",
    "        X_weak.append([f2, f1])\n",
    "\n",
    "        f4 = -usup*dA01*S_t\n",
    "        f4 = trapz(trapz(f4, tsup, 1), xsup, 0)\n",
    "        y_weak.append(f4)\n",
    "\n",
    "    X_weak = np.array(X_weak)\n",
    "    y_weak = np.array(y_weak)\n",
    "    \n",
    "    coeff = np.linalg.lstsq(X_weak, y_weak, rcond=None)[0]\n",
    "    loss = ((X_weak@coeff-y_weak)**2).mean()\n",
    "    if loss < min_loss:\n",
    "        min_loss = loss\n",
    "        best_coeff = coeff\n",
    "\n",
    "# (0.4346650845124686, 0.23677533103052956)\n",
    "min_loss, best_coeff, evaluate_coefficients(best_coeff)"
   ]
  },
  {
   "cell_type": "code",
   "execution_count": null,
   "metadata": {},
   "outputs": [],
   "source": [
    "raise SystemExit(\"Stop right here!\")"
   ]
  },
  {
   "cell_type": "code",
   "execution_count": null,
   "metadata": {},
   "outputs": [],
   "source": []
  },
  {
   "cell_type": "code",
   "execution_count": null,
   "metadata": {},
   "outputs": [],
   "source": []
  },
  {
   "cell_type": "markdown",
   "metadata": {},
   "source": [
    "#### Save"
   ]
  },
  {
   "cell_type": "code",
   "execution_count": null,
   "metadata": {},
   "outputs": [],
   "source": [
    "best_subsets = sorted([indices for _, (indices, _) in st.track.items()], key=lambda _: len(_))\n",
    "tmp = np.zeros((len(best_subsets), X_pre.shape[-1]))\n",
    "for i in range(len(best_subsets)):\n",
    "    tmp[i:i+1, :][0, best_subsets[i]] = 1.0\n",
    "best_subsets = tmp.astype(np.float32)\n",
    "del tmp\n",
    "\n",
    "pms_data = {nameof(un): un, \n",
    "            nameof(X_pre): X_pre, \n",
    "            nameof(y_pre): y_pre, \n",
    "            nameof(best_subsets): best_subsets}\n",
    "pms_data"
   ]
  },
  {
   "cell_type": "code",
   "execution_count": null,
   "metadata": {},
   "outputs": [],
   "source": [
    "basic_vars = {'u'}\n",
    "encoded_feature_names = []\n",
    "for feature in model.get_feature_names():\n",
    "    out_feature = []\n",
    "    last_index = -1\n",
    "    for i, c in enumerate(feature):\n",
    "        if i+1 < len(feature) and feature[i+1] in basic_vars:\n",
    "            last_index = i\n",
    "            out_feature.append(c+'*')\n",
    "    out_feature.append(feature[last_index+1:])\n",
    "    encoded_feature_names.append(''.join(out_feature))\n",
    "encoded_feature_names = np.array(encoded_feature_names)\n",
    "encoded_feature_names.tolist()"
   ]
  },
  {
   "cell_type": "code",
   "execution_count": null,
   "metadata": {},
   "outputs": [],
   "source": [
    "for com in sorted(st.track.keys()):\n",
    "    indices, _ = st.track[com]\n",
    "    expr = '+'.join(encoded_feature_names[list(indices)])\n",
    "    print(expr)\n",
    "    print('----------')\n",
    "encoded_pde_names = ['+'.join(encoded_feature_names[list(indices)]) for _, (indices, _) \n",
    "                     in sorted(st.track.items())]"
   ]
  },
  {
   "cell_type": "code",
   "execution_count": null,
   "metadata": {},
   "outputs": [],
   "source": [
    "import yaml\n",
    "from omegaconf import OmegaConf\n",
    "yml = {}\n",
    "yml[\"encoded_feature_names\"] = encoded_feature_names.tolist()\n",
    "yml[\"encoded_pde_names\"] = encoded_pde_names\n",
    "yml[\"information_criterion_score\"] = [float(ic) for _, (_, ic) in st.track.items()]"
   ]
  },
  {
   "cell_type": "markdown",
   "metadata": {},
   "source": [
    "#### Save files for training PINNs & DeepONets"
   ]
  },
  {
   "cell_type": "code",
   "execution_count": null,
   "metadata": {},
   "outputs": [],
   "source": [
    "fp1 = \"../Burgers_exp/IPI_output_files/PMS_data.h5\"\n",
    "fp2 = \"../Burgers_exp/IPI_output_files/encoded_pde_names.yaml\"\n",
    "fp1, fp2"
   ]
  },
  {
   "cell_type": "code",
   "execution_count": null,
   "metadata": {},
   "outputs": [],
   "source": [
    "h5file(file_path=fp1, cdict=pms_data, mode='w')\n",
    "OmegaConf.save(config=OmegaConf.create(yml), f=fp2)"
   ]
  },
  {
   "cell_type": "code",
   "execution_count": null,
   "metadata": {},
   "outputs": [],
   "source": [
    "OmegaConf.load(fp2)"
   ]
  },
  {
   "cell_type": "code",
   "execution_count": null,
   "metadata": {},
   "outputs": [],
   "source": [
    "h5file(file_path=fp1, mode='r', return_dict=False)"
   ]
  },
  {
   "cell_type": "code",
   "execution_count": null,
   "metadata": {},
   "outputs": [],
   "source": []
  }
 ],
 "metadata": {
  "anaconda-cloud": {},
  "kernelspec": {
   "display_name": "Python [conda env:pysr]",
   "language": "python",
   "name": "conda-env-pysr-py"
  },
  "language_info": {
   "codemirror_mode": {
    "name": "ipython",
    "version": 3
   },
   "file_extension": ".py",
   "mimetype": "text/x-python",
   "name": "python",
   "nbconvert_exporter": "python",
   "pygments_lexer": "ipython3",
   "version": "3.10.10"
  },
  "widgets": {
   "application/vnd.jupyter.widget-state+json": {
    "state": {},
    "version_major": 2,
    "version_minor": 0
   }
  }
 },
 "nbformat": 4,
 "nbformat_minor": 4
}
