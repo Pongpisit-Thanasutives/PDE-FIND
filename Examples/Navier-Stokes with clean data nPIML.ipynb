{
 "cells": [
  {
   "cell_type": "markdown",
   "metadata": {},
   "source": [
    "# PDE-FIND for identifying Navier-Stokes\n",
    "\n",
    "Samuel Rudy, 2016\n",
    "\n",
    "This notebook demonstrates PDE-FIND for the vorticity equation given a simulation of fluid flowing around a cylinder.\n",
    "\\begin{align*}\n",
    "\\omega_t &= \\frac{1}{Re}\\nabla^2 \\omega - (V \\cdot \\nabla)\\omega\\\\\n",
    "V &= (v,u)\\\\\n",
    "Re &= 100\n",
    "\\end{align*}\n",
    "The x and y components of the velocity field are given as forcing terms to the PDE.  That is, they appear in $\\Theta$, but are not differentiated."
   ]
  },
  {
   "cell_type": "code",
   "execution_count": 1,
   "metadata": {},
   "outputs": [
    {
     "name": "stdout",
     "output_type": "stream",
     "text": [
      "Populating the interactive namespace from numpy and matplotlib\n"
     ]
    }
   ],
   "source": [
    "%pylab inline\n",
    "pylab.rcParams['figure.figsize'] = (12, 8)\n",
    "import numpy as np\n",
    "from mpl_toolkits.mplot3d import Axes3D\n",
    "import sys; sys.path.append('../')\n",
    "from PDE_FIND import *\n",
    "import scipy.io as sio\n",
    "import itertools"
   ]
  },
  {
   "cell_type": "markdown",
   "metadata": {},
   "source": [
    "Load in the data."
   ]
  },
  {
   "cell_type": "code",
   "execution_count": null,
   "metadata": {},
   "outputs": [],
   "source": [
    "data = sio.loadmat('/Users/pongpisit/Desktop/research/DeepHPMs/Data/cylinder.mat')\n",
    "\n",
    "U_star = data['U_star'] # N x 2 x T\n",
    "P_star = data['w_star'] # N x T\n",
    "t_star = data['t_star'] # T x 1\n",
    "X_star = data['X_star'] # N x 2\n",
    "\n",
    "N = X_star.shape[0]\n",
    "T = t_star.shape[0]\n",
    "\n",
    "UU = U_star[:,0,:] # N x T\n",
    "VV = U_star[:,1,:] # N x T\n",
    "PP = P_star # N x T\n",
    "\n",
    "x = np.unique(X_star[:,0:1]).flatten()\n",
    "y = np.unique(X_star[:,1:2]).flatten()\n",
    "t = t_star.flatten()\n",
    "\n",
    "usol = UU.reshape(len(x), len(y), len(t))\n",
    "vsol = VV.reshape(len(x), len(y), len(t))\n",
    "wsol = PP.reshape(len(x), len(y), len(t))\n",
    "\n",
    "# Load data\n",
    "steps = len(t)\n",
    "n = len(x)\n",
    "m = len(y)\n",
    "\n",
    "U = usol\n",
    "V = vsol\n",
    "W = wsol\n",
    "\n",
    "dt = t[1]-t[0]\n",
    "dx = x[1]-x[0]\n",
    "dy = y[1]-y[0]\n",
    "\n",
    "n,m,steps = W.shape"
   ]
  },
  {
   "cell_type": "markdown",
   "metadata": {},
   "source": [
    "Here we take the SVD of the data and reconstruct either with a reduced basis or everything.  It isn't necesarry but is interesting to show that we can still derive the correct PDE with the first 50 modes (maybe less). "
   ]
  },
  {
   "cell_type": "code",
   "execution_count": null,
   "metadata": {},
   "outputs": [],
   "source": [
    "# Original Code\n",
    "# # Load data\n",
    "# steps = 151\n",
    "# n = 449\n",
    "# m = 199\n",
    "# U = np.load('../Datasets/course_timestep_cylinder/Cylinder_U.npy')\n",
    "# V = np.load('../Datasets/course_timestep_cylinder/Cylinder_V.npy')\n",
    "# W = np.load('../Datasets/course_timestep_cylinder/Cylinder_W.npy')\n",
    "\n",
    "# dt = 0.2\n",
    "# dx = 0.02\n",
    "# dy = 0.02\n",
    "\n",
    "# # Cut out the portion of the data before the cylinder\n",
    "# xmin = 100\n",
    "# xmax = 425\n",
    "# ymin = 15\n",
    "# ymax = 185\n",
    "\n",
    "# W = W[xmin:xmax,ymin:ymax,:]\n",
    "# U = U[xmin:xmax,ymin:ymax,:]\n",
    "# V = V[xmin:xmax,ymin:ymax,:]\n",
    "# n,m,steps = W.shape"
   ]
  },
  {
   "cell_type": "code",
   "execution_count": null,
   "metadata": {},
   "outputs": [],
   "source": [
    "dx, dt, dy"
   ]
  },
  {
   "cell_type": "code",
   "execution_count": null,
   "metadata": {},
   "outputs": [],
   "source": [
    "W = W.reshape(n*m,steps)\n",
    "U = U.reshape(n*m,steps)\n",
    "V = V.reshape(n*m,steps)"
   ]
  },
  {
   "cell_type": "code",
   "execution_count": null,
   "metadata": {},
   "outputs": [],
   "source": [
    "uw,sigmaw,vw = svd(W, full_matrices=False); vw = vw.T\n",
    "uu,sigmau,vu = svd(U, full_matrices=False); vu = vu.T\n",
    "uv,sigmav,vv = svd(V, full_matrices=False); vv = vv.T"
   ]
  },
  {
   "cell_type": "code",
   "execution_count": null,
   "metadata": {},
   "outputs": [],
   "source": [
    "semilogy(sigmaw)\n",
    "semilogy(sigmau)\n",
    "semilogy(sigmav)"
   ]
  },
  {
   "cell_type": "code",
   "execution_count": null,
   "metadata": {},
   "outputs": [],
   "source": [
    "# Use this code to identify the PDE from reduced basis\n",
    "# dim = 50\n",
    "# Wn = uw[:,0:dim].dot(np.diag(sigmaw[0:dim]).dot(vw[:,0:dim].T)).reshape(n,m,steps)\n",
    "# Un = uu[:,0:dim].dot(np.diag(sigmau[0:dim]).dot(vu[:,0:dim].T)).reshape(n,m,steps)\n",
    "# Vn = uv[:,0:dim].dot(np.diag(sigmav[0:dim]).dot(vv[:,0:dim].T)).reshape(n,m,steps)\n",
    "\n",
    "# Or this code to take the full solution\n",
    "Wn = W.reshape(n,m,steps)\n",
    "Un = U.reshape(n,m,steps)\n",
    "Vn = V.reshape(n,m,steps)"
   ]
  },
  {
   "cell_type": "markdown",
   "metadata": {},
   "source": [
    "## Sample data points\n",
    "\n",
    "Now randomly sample some points to use.  See figure 1, panel 2a-2c for visual description of what we're doing here.  5000 spatial points are samples and 60 timepoints are viewed at each one.  Note that we still need nearby points to take derivatives."
   ]
  },
  {
   "cell_type": "code",
   "execution_count": null,
   "metadata": {},
   "outputs": [],
   "source": [
    "# Sample a collection of data points, stay away from edges so I can just use centered finite differences.\n",
    "np.random.seed(0)\n",
    "\n",
    "num_xy = 5000\n",
    "num_t = 60\n",
    "num_points = num_xy * num_t\n",
    "boundary = 5\n",
    "boundary_x = 10\n",
    "points = {}\n",
    "count = 0\n",
    "\n",
    "for p in range(num_xy):\n",
    "    x = np.random.choice(np.arange(boundary_x,n-boundary_x),1)[0]\n",
    "    y = np.random.choice(np.arange(boundary,m-boundary),1)[0]\n",
    "    for t in range(num_t):\n",
    "        points[count] = [x,y,2*t+12]\n",
    "        count = count + 1"
   ]
  },
  {
   "cell_type": "markdown",
   "metadata": {},
   "source": [
    "## Construct $\\Theta (U)$ and compute $U_t$\n",
    "\n",
    "Take derivatives and assemble into $\\Theta(\\omega, u ,v)$"
   ]
  },
  {
   "cell_type": "code",
   "execution_count": null,
   "metadata": {},
   "outputs": [],
   "source": [
    "# Take up to second order derivatives.\n",
    "w = np.zeros((num_points,1))\n",
    "u = np.zeros((num_points,1))\n",
    "v = np.zeros((num_points,1))\n",
    "wt = np.zeros((num_points,1))\n",
    "wx = np.zeros((num_points,1))\n",
    "wy = np.zeros((num_points,1))\n",
    "wxx = np.zeros((num_points,1))\n",
    "wxy = np.zeros((num_points,1))\n",
    "wyy = np.zeros((num_points,1))\n",
    "\n",
    "N = 2*boundary-1  # odd number of points to use in fitting\n",
    "Nx = 2*boundary_x-1  # odd number of points to use in fitting\n",
    "deg = 5 # degree of polynomial to use\n",
    "\n",
    "for p in points.keys():\n",
    "    \n",
    "    [x,y,t] = points[p]\n",
    "    w[p] = Wn[x,y,t]\n",
    "    u[p] = Un[x,y,t]\n",
    "    v[p] = Vn[x,y,t]\n",
    "    \n",
    "    wt[p] = PolyDiffPoint(Wn[x,y,t-(N-1)//2:t+(N+1)//2], np.arange(N)*dt, deg, 1)[0]\n",
    "    \n",
    "    x_diff = PolyDiffPoint(Wn[x-(Nx-1)//2:x+(Nx+1)//2,y,t], np.arange(Nx)*dx, deg, 2)\n",
    "    y_diff = PolyDiffPoint(Wn[x,y-(N-1)//2:y+(N+1)//2,t], np.arange(N)*dy, deg, 2)\n",
    "    wx[p] = x_diff[0]\n",
    "    wy[p] = y_diff[0]\n",
    "    \n",
    "    x_diff_yp = PolyDiffPoint(Wn[x-(Nx-1)//2:x+(Nx+1)//2,y+1,t], np.arange(Nx)*dx, deg, 2)\n",
    "    x_diff_ym = PolyDiffPoint(Wn[x-(Nx-1)//2:x+(Nx+1)//2,y-1,t], np.arange(Nx)*dx, deg, 2)\n",
    "    \n",
    "    wxx[p] = x_diff[1]\n",
    "    wxy[p] = (x_diff_yp[0]-x_diff_ym[0])/(2*dy)\n",
    "    wyy[p] = y_diff[1]"
   ]
  },
  {
   "cell_type": "code",
   "execution_count": null,
   "metadata": {},
   "outputs": [],
   "source": [
    "# Form Theta using up to quadratic polynomials in all variables.\n",
    "X_data = np.hstack([w,u,v])\n",
    "X_ders = np.hstack([np.ones((num_points,1)), wx, wy, wxx, wxy, wyy])\n",
    "X_ders_descr = ['','w_{x}', 'w_{y}','w_{xx}','w_{xy}','w_{yy}']\n",
    "X, description = build_Theta(X_data, X_ders, X_ders_descr, 2, data_description = ['w','u','v'])\n",
    "print('Candidate terms for PDE')\n",
    "['1']+description[1:]"
   ]
  },
  {
   "cell_type": "markdown",
   "metadata": {},
   "source": [
    "## Solve for $\\xi$\n",
    "\n",
    "TrainSTRidge splits the data up into 80% for training and 20% for validation.  It searches over various tolerances in the STRidge algorithm and finds the one with the best performance on the validation set, including an $\\ell^0$ penalty for $\\xi$ in the loss function."
   ]
  },
  {
   "cell_type": "code",
   "execution_count": null,
   "metadata": {},
   "outputs": [],
   "source": [
    "# w_t = (0.011051 +0.000000i)w_{xx}\n",
    "#     + (0.012470 +0.000000i)w_{yy}\n",
    "#     + (-1.017017 +0.000000i)uw_{x}\n",
    "#     + (-1.006237 +0.000000i)vw_{y}\n",
    "lam = 10**-3\n",
    "d_tol = 1\n",
    "c = TrainSTRidge(X,wt,lam,d_tol,multiply_l0=1)\n",
    "print_pde(c, description, ut = 'w_t')"
   ]
  },
  {
   "cell_type": "code",
   "execution_count": null,
   "metadata": {},
   "outputs": [],
   "source": []
  },
  {
   "cell_type": "code",
   "execution_count": null,
   "metadata": {},
   "outputs": [],
   "source": []
  },
  {
   "cell_type": "code",
   "execution_count": 145,
   "metadata": {},
   "outputs": [
    {
     "name": "stdout",
     "output_type": "stream",
     "text": [
      "The autoreload extension is already loaded. To reload it, use:\n",
      "  %reload_ext autoreload\n",
      "Populating the interactive namespace from numpy and matplotlib\n"
     ]
    }
   ],
   "source": [
    "%load_ext autoreload\n",
    "%autoreload 2\n",
    "%pylab inline\n",
    "pylab.rcParams['figure.figsize'] = (12, 8)\n",
    "import warnings; warnings.filterwarnings(\"ignore\")\n",
    "\n",
    "import numpy as np\n",
    "import pandas as pd\n",
    "from mpl_toolkits.mplot3d import Axes3D\n",
    "from sympy import symbols\n",
    "\n",
    "import sys; sys.path.append('../')\n",
    "from PDE_FIND import *\n",
    "\n",
    "import sys; sys.path.append('../../parametric-discovery/')\n",
    "from best_subset import *\n",
    "from frols import frols\n",
    "from p_linear_regression import PLinearRegression\n",
    "from r_pca import R_pca\n",
    "from pde_diff_new import RPCA\n",
    "from RobustPCA.rpca import RobustPCA\n",
    "\n",
    "import scipy.io as sio\n",
    "from scipy.signal import savgol_filter\n",
    "import itertools\n",
    "\n",
    "from sklearn.preprocessing import normalize\n",
    "from sklearn.linear_model import Ridge, BayesianRidge, LinearRegression as SkLinearRegression\n",
    "from sklearn.base import BaseEstimator\n",
    "from sklearn.pipeline import make_pipeline\n",
    "from sklearn.metrics import mean_squared_error\n",
    "from abess.linear import LinearRegression\n",
    "from bess import PdasLm\n",
    "import pysindy as ps\n",
    "\n",
    "from tqdm import trange\n",
    "from os.path import join as join_path\n",
    "FIGURE_EXPORT_PATH = \"./\"\n",
    "\n",
    "from misc import h5file\n",
    "# ground_indices = (3, 5, 16, 24)\n",
    "description = ['',\n",
    "             'w_{x}',\n",
    "             'w_{y}',\n",
    "             'w_{xx}',\n",
    "             'w_{xy}',\n",
    "             'w_{yy}',\n",
    "             'v',\n",
    "             'u',\n",
    "             'w',\n",
    "             'v^2',\n",
    "             'uv',\n",
    "             'u^2',\n",
    "             'wv',\n",
    "             'wu',\n",
    "             'w^2',\n",
    "             'vw_{x}',\n",
    "             'uw_{x}',\n",
    "             'ww_{x}',\n",
    "             'v^2w_{x}',\n",
    "             'uvw_{x}',\n",
    "             'u^2w_{x}',\n",
    "             'wvw_{x}',\n",
    "             'wuw_{x}',\n",
    "             'w^2w_{x}',\n",
    "             'vw_{y}',\n",
    "             'uw_{y}',\n",
    "             'ww_{y}',\n",
    "             'v^2w_{y}',\n",
    "             'uvw_{y}',\n",
    "             'u^2w_{y}',\n",
    "             'wvw_{y}',\n",
    "             'wuw_{y}',\n",
    "             'w^2w_{y}',\n",
    "             'vw_{xx}',\n",
    "             'uw_{xx}',\n",
    "             'ww_{xx}',\n",
    "             'v^2w_{xx}',\n",
    "             'uvw_{xx}',\n",
    "             'u^2w_{xx}',\n",
    "             'wvw_{xx}',\n",
    "             'wuw_{xx}',\n",
    "             'w^2w_{xx}',\n",
    "             'vw_{xy}',\n",
    "             'uw_{xy}',\n",
    "             'ww_{xy}',\n",
    "             'v^2w_{xy}',\n",
    "             'uvw_{xy}',\n",
    "             'u^2w_{xy}',\n",
    "             'wvw_{xy}',\n",
    "             'wuw_{xy}',\n",
    "             'w^2w_{xy}',\n",
    "             'vw_{yy}',\n",
    "             'uw_{yy}',\n",
    "             'ww_{yy}',\n",
    "             'v^2w_{yy}',\n",
    "             'uvw_{yy}',\n",
    "             'u^2w_{yy}',\n",
    "             'wvw_{yy}',\n",
    "             'wuw_{yy}',\n",
    "             'w^2w_{yy}']"
   ]
  },
  {
   "cell_type": "code",
   "execution_count": 146,
   "metadata": {},
   "outputs": [
    {
     "name": "stdout",
     "output_type": "stream",
     "text": [
      "['X', 'wt']\n"
     ]
    }
   ],
   "source": [
    "Xr, wtr = h5file(\"../Datasets/nv_clean.h5\")\n",
    "Xr = Xr.real[:, 1:]\n",
    "wtr = wtr.real\n",
    "description = description[1:]"
   ]
  },
  {
   "cell_type": "code",
   "execution_count": 147,
   "metadata": {},
   "outputs": [],
   "source": [
    "### STRidge results ###\n",
    "\n",
    "# # w_t = (0.015333 +0.000000i)w_{yy}\n",
    "# #     + (-1.019644 +0.000000i)uw_{x}\n",
    "# #     + (-0.999997 +0.000000i)vw_{y}\n",
    "# c = TrainSTRidge(Xr,wtr,lam=1e-5,d_tol=1,multiply_l0=1e4)\n",
    "# print_pde(c, description, ut='w_t')\n",
    "\n",
    "# # w_t = (0.011051 +0.000000i)w_{xx}\n",
    "# #     + (0.012470 +0.000000i)w_{yy}\n",
    "# #     + (-1.017017 +0.000000i)uw_{x}\n",
    "# #     + (-1.006237 +0.000000i)vw_{y}\n",
    "# w_str = TrainSTRidge(Xr,wtr,lam=1e-5,d_tol=5,multiply_l0=1)\n",
    "# print_pde(w_str, description, ut='w_t')\n",
    "\n",
    "# # w_t = (-0.143011 +0.000000i)w_{x}\n",
    "# #     + (-0.010843 +0.000000i)w_{xx}\n",
    "# #     + (-0.007857 +0.000000i)w_{yy}\n",
    "# #     + (-0.165664 +0.000000i)v\n",
    "# #     + (-0.100943 +0.000000i)w\n",
    "# #     + (0.164399 +0.000000i)uv\n",
    "# #     + (0.186581 +0.000000i)wu\n",
    "# #     + (-0.798769 +0.000000i)uw_{x}\n",
    "# #     + (0.084907 +0.000000i)v^2w_{x}\n",
    "# #     + (-0.074972 +0.000000i)u^2w_{x}\n",
    "# #     + (0.082585 +0.000000i)wvw_{x}\n",
    "# #     + (-0.004921 +0.000000i)w^2w_{x}\n",
    "# #     + (-0.850109 +0.000000i)vw_{y}\n",
    "# #     + (0.046209 +0.000000i)ww_{y}\n",
    "# #     + (-0.027934 +0.000000i)uvw_{y}\n",
    "# #     + (-0.053768 +0.000000i)wuw_{y}\n",
    "# #     + (0.033423 +0.000000i)uw_{xx}\n",
    "# #     + (-0.026642 +0.000000i)v^2w_{xx}\n",
    "# #     + (-0.000671 +0.000000i)u^2w_{xx}\n",
    "# #     + (0.047625 +0.000000i)wvw_{xx}\n",
    "# #     + (0.002091 +0.000000i)w^2w_{xx}\n",
    "# #     + (0.023723 +0.000000i)vw_{xy}\n",
    "# #     + (0.021619 +0.000000i)ww_{xy}\n",
    "# #     + (0.051665 +0.000000i)uvw_{xy}\n",
    "# #     + (-0.019442 +0.000000i)wuw_{xy}\n",
    "# #     + (0.036998 +0.000000i)uw_{yy}\n",
    "# #     + (-0.019180 +0.000000i)v^2w_{yy}\n",
    "# #     + (-0.014575 +0.000000i)u^2w_{yy}\n",
    "# #     + (-0.006676 +0.000000i)wvw_{yy}\n",
    "# #     + (0.000739 +0.000000i)w^2w_{yy}\n",
    "# c = TrainSTRidge(Xr,wtr,lam=1e-5,d_tol=1,multiply_l0=1e-4)\n",
    "# print_pde(c, description, ut='w_t')"
   ]
  },
  {
   "cell_type": "code",
   "execution_count": 148,
   "metadata": {},
   "outputs": [
    {
     "name": "stdout",
     "output_type": "stream",
     "text": [
      "w_{xx}\n",
      "w_{yy}\n",
      "uw_{x}\n",
      "vw_{y}\n"
     ]
    }
   ],
   "source": [
    "combine = True\n",
    "if not combine:\n",
    "    newXr = Xr\n",
    "else:\n",
    "    # Combine features\n",
    "    newXr = np.hstack((Xr, Xr[:, 2:3]+Xr[:, 4:5], Xr[:, 15:16]+Xr[:, 23:24]))\n",
    "    description.append(f\"{description[2]}+{description[4]}\")\n",
    "    description.append(f\"{description[15]}+{description[23]}\")\n",
    "    newXr = np.delete(newXr, [2, 4, 15, 23], axis=1)\n",
    "    print(description.pop(2))\n",
    "    print(description.pop(4-1))\n",
    "    print(description.pop(15-2))\n",
    "    print(description.pop(23-3))"
   ]
  },
  {
   "cell_type": "code",
   "execution_count": 149,
   "metadata": {},
   "outputs": [
    {
     "name": "stdout",
     "output_type": "stream",
     "text": [
      "(56,)\n",
      "-1294692.0375999624\n",
      "(55, 56)\n",
      "-1534121.9650243565\n",
      "(37, 55, 56)\n",
      "-1555306.581204509\n",
      "(34, 37, 55, 56)\n",
      "-1570344.101099447\n",
      "(0, 34, 37, 55, 56)\n",
      "-1583044.8708792867\n",
      "(23, 34, 37, 51, 55, 56)\n",
      "-1582776.3377548489\n",
      "(0, 19, 37, 39, 51, 55, 56)\n",
      "-1595276.0768424894\n",
      "(0, 3, 34, 37, 39, 44, 55, 56)\n",
      "-1601007.5577638657\n",
      "(23, 33, 34, 37, 39, 41, 47, 55, 56)\n",
      "-1594196.8175245551\n"
     ]
    }
   ],
   "source": [
    "lrs = []\n",
    "ebics = []\n",
    "eff_indices = []\n",
    "max_complexity = 10\n",
    "for s in range(1, max_complexity):\n",
    "    lr = LinearRegression(support_size=s, ic_type='bic', always_select=None)\n",
    "    lr.fit(newXr, wtr)\n",
    "    lrs.append(lr)\n",
    "    eff_indices.append(nonz(lr.coef_))\n",
    "    ebics.append(lr.ic_)\n",
    "    print(nonz(lr.coef_))\n",
    "    print(lr.ic_)\n",
    "abess_feature_hierarchy = set(eff_indices)"
   ]
  },
  {
   "cell_type": "code",
   "execution_count": 150,
   "metadata": {},
   "outputs": [
    {
     "data": {
      "image/png": "[encoded data removed]",
      "text/plain": [
       "<Figure size 1200x800 with 1 Axes>"
      ]
     },
     "metadata": {},
     "output_type": "display_data"
    }
   ],
   "source": [
    "plt.plot([i for i in range(1, max_complexity)], ebics)\n",
    "plt.show()"
   ]
  },
  {
   "cell_type": "code",
   "execution_count": 151,
   "metadata": {},
   "outputs": [
    {
     "data": {
      "text/plain": [
       "{(0, 3, 14, 29, 34, 37, 39, 47, 55, 56),\n",
       " (0, 3, 29, 34, 37, 39, 47, 55, 56),\n",
       " (0, 3, 34, 37, 39, 47, 55, 56),\n",
       " (0, 34, 37, 39, 47, 55, 56),\n",
       " (0, 34, 37, 47, 55, 56),\n",
       " (0, 34, 37, 55, 56),\n",
       " (34, 37, 55, 56),\n",
       " (37, 55, 56),\n",
       " (55, 56),\n",
       " (56,)}"
      ]
     },
     "execution_count": 151,
     "metadata": {},
     "output_type": "execute_result"
    }
   ],
   "source": [
    "nor_axis = 0\n",
    "if nor_axis is not None: Xfrols = normalize(newXr, axis=nor_axis)\n",
    "else: Xfrols = newXr.copy()\n",
    "frols_coeffs,selected_inds_list,_,_,_ = frols(wtr, Xfrols, max_nonzeros=max_complexity)\n",
    "selected_inds_list = set(selected_inds_list)\n",
    "selected_inds_list"
   ]
  },
  {
   "cell_type": "code",
   "execution_count": 152,
   "metadata": {},
   "outputs": [],
   "source": [
    "feature_hierarchy = abess_feature_hierarchy.union(selected_inds_list)"
   ]
  },
  {
   "cell_type": "code",
   "execution_count": 153,
   "metadata": {},
   "outputs": [
    {
     "name": "stdout",
     "output_type": "stream",
     "text": [
      "RFE_PLinearRegression\n",
      "(0, 3, 29, 34, 37, 39, 47, 55, 56)\n",
      "(0, 3, 34, 37, 39, 47, 55, 56)\n",
      "(0, 34, 37, 39, 47, 55, 56)\n",
      "(0, 34, 37, 47, 55, 56)\n",
      "(0, 34, 37, 55, 56)\n",
      "(34, 37, 55, 56)\n",
      "(37, 55, 56)\n",
      "(55, 56)\n",
      "(56,)\n",
      "--------------------------------------------------\n",
      "(0, 3, 14, 29, 34, 37, 39, 47, 55, 56)\n",
      "(0, 3, 29, 34, 37, 39, 47, 55, 56)\n",
      "--------------------------------------------------\n",
      "(23, 33, 34, 37, 39, 41, 47, 55, 56)\n",
      "(23, 33, 34, 39, 41, 47, 55, 56)\n",
      "(23, 34, 39, 41, 47, 55, 56)\n",
      "(23, 34, 39, 41, 55, 56)\n",
      "(23, 34, 41, 55, 56)\n",
      "(34, 41, 55, 56)\n",
      "(41, 55, 56)\n",
      "(55, 56)\n",
      "--------------------------------------------------\n",
      "(0, 19, 37, 39, 51, 55, 56)\n",
      "(0, 19, 37, 39, 55, 56)\n",
      "(0, 19, 37, 55, 56)\n",
      "(0, 37, 55, 56)\n",
      "(37, 55, 56)\n",
      "--------------------------------------------------\n",
      "(37, 55, 56)\n",
      "--------------------------------------------------\n",
      "(0, 34, 37, 47, 55, 56)\n",
      "--------------------------------------------------\n",
      "(23, 34, 37, 51, 55, 56)\n",
      "(23, 34, 37, 55, 56)\n",
      "(34, 37, 55, 56)\n",
      "--------------------------------------------------\n",
      "(55, 56)\n",
      "--------------------------------------------------\n",
      "(0, 3, 34, 37, 39, 47, 55, 56)\n",
      "--------------------------------------------------\n",
      "(34, 37, 55, 56)\n",
      "--------------------------------------------------\n",
      "(0, 3, 34, 37, 39, 44, 55, 56)\n",
      "(0, 34, 37, 39, 44, 55, 56)\n",
      "(0, 34, 37, 39, 55, 56)\n",
      "(0, 34, 37, 55, 56)\n",
      "--------------------------------------------------\n",
      "(0, 34, 37, 39, 47, 55, 56)\n",
      "--------------------------------------------------\n",
      "(0, 34, 37, 55, 56)\n",
      "--------------------------------------------------\n",
      "SelectKBest\n",
      "(0, 3, 29, 34, 37, 39, 47, 55, 56)\n",
      "(0, 3, 34, 37, 39, 47, 55, 56)\n",
      "(0, 34, 37, 39, 47, 55, 56)\n",
      "(0, 34, 37, 47, 55, 56)\n",
      "(0, 34, 37, 55, 56)\n",
      "(34, 37, 55, 56)\n",
      "(37, 55, 56)\n",
      "(55, 56)\n",
      "(56,)\n",
      "--------------------------------------------------\n",
      "(0, 3, 14, 29, 34, 37, 39, 47, 55, 56)\n",
      "(0, 3, 29, 34, 37, 39, 47, 55, 56)\n",
      "--------------------------------------------------\n",
      "(23, 33, 34, 37, 39, 41, 47, 55, 56)\n",
      "(23, 33, 34, 39, 41, 47, 55, 56)\n",
      "(23, 34, 39, 41, 47, 55, 56)\n",
      "(23, 34, 39, 41, 55, 56)\n",
      "(23, 34, 41, 55, 56)\n",
      "(34, 41, 55, 56)\n",
      "(41, 55, 56)\n",
      "(55, 56)\n",
      "--------------------------------------------------\n",
      "(0, 19, 37, 39, 51, 55, 56)\n",
      "(0, 19, 37, 39, 55, 56)\n",
      "(0, 19, 37, 55, 56)\n",
      "(0, 37, 55, 56)\n",
      "(37, 55, 56)\n",
      "--------------------------------------------------\n",
      "(37, 55, 56)\n",
      "--------------------------------------------------\n",
      "(0, 34, 37, 47, 55, 56)\n",
      "--------------------------------------------------\n",
      "(23, 34, 37, 51, 55, 56)\n",
      "(23, 34, 37, 55, 56)\n",
      "(34, 37, 55, 56)\n",
      "--------------------------------------------------\n",
      "(55, 56)\n",
      "--------------------------------------------------\n",
      "(0, 3, 34, 37, 39, 47, 55, 56)\n",
      "--------------------------------------------------\n",
      "(34, 37, 55, 56)\n",
      "--------------------------------------------------\n",
      "(0, 3, 34, 37, 39, 44, 55, 56)\n",
      "(0, 34, 37, 39, 44, 55, 56)\n",
      "(0, 34, 37, 39, 55, 56)\n",
      "(0, 34, 37, 55, 56)\n",
      "--------------------------------------------------\n",
      "(0, 34, 37, 39, 47, 55, 56)\n",
      "--------------------------------------------------\n",
      "(0, 34, 37, 55, 56)\n",
      "--------------------------------------------------\n"
     ]
    },
    {
     "data": {
      "text/plain": [
       "{1: ((56,), -235384.68155096806), 2: ((55, 56), -474814.5859281724), 3: ((37, 55, 56), -495998.8112468056), 4: ((34, 37, 55, 56), -511035.5519544687), 5: ((0, 34, 37, 55, 56), -523737.3352457459), 6: ((0, 34, 37, 47, 55, 56), -532603.7682714219), 7: ((0, 34, 37, 39, 47, 55, 56), -538334.8739961748), 8: ((0, 3, 34, 37, 39, 47, 55, 56), -542355.2319087497), 9: ((0, 3, 29, 34, 37, 39, 47, 55, 56), -546533.2082600782), 10: ((0, 3, 14, 29, 34, 37, 39, 47, 55, 56), -549286.6999980211)}"
      ]
     },
     "execution_count": 153,
     "metadata": {},
     "output_type": "execute_result"
    }
   ],
   "source": [
    "br1 = backward_refinement(feature_hierarchy, (newXr, wtr), mode='rfe', ic_type='bic', verbose=True)\n",
    "br2 = backward_refinement(feature_hierarchy, (newXr, wtr), mode='k best', ic_type='bic', verbose=True)\n",
    "br_u=br1+br2; br_u"
   ]
  },
  {
   "cell_type": "code",
   "execution_count": 154,
   "metadata": {},
   "outputs": [
    {
     "name": "stdout",
     "output_type": "stream",
     "text": [
      "Ploting less than max_complexity\n"
     ]
    }
   ],
   "source": [
    "print(\"Ploting less than max_complexity\")\n",
    "for c in range(max_complexity+1, max(list(br_u.track.keys()))+1):\n",
    "    del_c = br_u.delete(c)\n",
    "    if del_c is not None: print(f\"Delete {c} complexity\")\n",
    "    else: print(f\"{c} not exist\")"
   ]
  },
  {
   "cell_type": "code",
   "execution_count": 155,
   "metadata": {},
   "outputs": [
    {
     "name": "stdout",
     "output_type": "stream",
     "text": [
      "(56,) -235384.68155096806\n",
      "(55, 56) -474814.5859281724\n",
      "(37, 55, 56) -495998.8112468056\n",
      "(34, 37, 55, 56) -511035.5519544687\n",
      "(0, 34, 37, 55, 56) -523737.3352457459\n",
      "(0, 34, 37, 47, 55, 56) -532603.7682714219\n",
      "(0, 34, 37, 39, 47, 55, 56) -538334.8739961748\n",
      "(0, 3, 34, 37, 39, 47, 55, 56) -542355.2319087497\n",
      "(0, 3, 29, 34, 37, 39, 47, 55, 56) -546533.2082600782\n",
      "(0, 3, 14, 29, 34, 37, 39, 47, 55, 56) -549286.6999980211\n"
     ]
    }
   ],
   "source": [
    "complexities = np.array(sorted(list(br_u.track.keys())))\n",
    "bic_scores = []\n",
    "eff_feature_names = []\n",
    "for com in complexities:\n",
    "    indices, bic = br_u.track[com]\n",
    "    bic_scores.append(bic)\n",
    "    print(indices, bic)\n",
    "bic_scores = np.array(bic_scores)\n",
    "min_bic_score = np.min(bic_scores)\n",
    "div_scale = 1e3\n",
    "rel_bic_scores = (bic_scores-min_bic_score)/div_scale"
   ]
  },
  {
   "cell_type": "code",
   "execution_count": 156,
   "metadata": {},
   "outputs": [
    {
     "data": {
      "image/png": "[encoded data removed]",
      "text/plain": [
       "<Figure size 350x262.5 with 1 Axes>"
      ]
     },
     "metadata": {},
     "output_type": "display_data"
    }
   ],
   "source": [
    "with plt.style.context('science'):\n",
    "    fig, ax = plt.subplots()\n",
    "    ax.plot(complexities, rel_bic_scores, color='black', linewidth=2.5//2)\n",
    "    ax.scatter(complexities, rel_bic_scores, marker='o', c='black', s=25)\n",
    "    plt.xlim(min(complexities)-0.3,max(complexities)+0.3)\n",
    "    plt.ylabel(r\"Relative BIC ($\\times 10^{3}$)\")\n",
    "    plt.xlabel(\"Complexity\")\n",
    "    plt.tight_layout()\n",
    "    plt.show()"
   ]
  },
  {
   "cell_type": "code",
   "execution_count": 157,
   "metadata": {},
   "outputs": [
    {
     "data": {
      "text/plain": [
       "array([-235384.68155097, -474814.58592817, -495998.81124681,\n",
       "       -511035.55195447, -523737.33524575, -532603.76827142,\n",
       "       -538334.87399617, -542355.23190875, -546533.20826008,\n",
       "       -549286.69999802])"
      ]
     },
     "execution_count": 157,
     "metadata": {},
     "output_type": "execute_result"
    }
   ],
   "source": [
    "# Uncombine\n",
    "# array([ 307112.9782017 , -237159.67602557, -440173.04714535,\n",
    "#        -475963.22679295, -500767.14218179, -515717.41664363,\n",
    "#        -529173.01216944, -534591.53853473, -540469.31162411,\n",
    "#        -546389.03193977])\n",
    "\n",
    "# Combine\n",
    "# array([-235384.68155097, -474814.58592817, -495998.81124681,\n",
    "#        -511035.55195447, -523737.33524575, -532603.76827142,\n",
    "#        -538334.87399617, -542355.23190875, -546533.20826008,\n",
    "#        -549286.69999802])\n",
    "\n",
    "# [1-10]\n",
    "\n",
    "bic_scores"
   ]
  },
  {
   "cell_type": "code",
   "execution_count": null,
   "metadata": {},
   "outputs": [],
   "source": []
  }
 ],
 "metadata": {
  "anaconda-cloud": {},
  "kernelspec": {
   "display_name": "Python 3 (ipykernel)",
   "language": "python",
   "name": "python3"
  },
  "language_info": {
   "codemirror_mode": {
    "name": "ipython",
    "version": 3
   },
   "file_extension": ".py",
   "mimetype": "text/x-python",
   "name": "python",
   "nbconvert_exporter": "python",
   "pygments_lexer": "ipython3",
   "version": "3.7.12"
  },
  "widgets": {
   "application/vnd.jupyter.widget-state+json": {
    "state": {},
    "version_major": 2,
    "version_minor": 0
   }
  }
 },
 "nbformat": 4,
 "nbformat_minor": 4
}
