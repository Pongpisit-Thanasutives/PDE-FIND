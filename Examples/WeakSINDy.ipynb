{
 "cells": [
  {
   "cell_type": "markdown",
   "id": "0a4ba045-3466-4eb4-81b1-79efd0454c05",
   "metadata": {},
   "source": [
    "## Results from the Matlab code...\n",
    "    - https://github.com/MathBioCU/WSINDy_PDE/blob/master/wsindy_pde_script.m\n",
    "    - tauhat = 2,3 and tau = 1e-10\n",
    "    - tauhat = 2 in nPIML (better results than tauhat = 3)"
   ]
  },
  {
   "cell_type": "code",
   "execution_count": 1,
   "id": "cdd01f21-d8d2-4fe5-8ea9-39a37d59ff69",
   "metadata": {},
   "outputs": [],
   "source": [
    "import numpy as np\n",
    "from scipy.io import loadmat, savemat"
   ]
  },
  {
   "cell_type": "code",
   "execution_count": 2,
   "id": "5e2ffb48-4df6-4855-9411-576af3288de7",
   "metadata": {},
   "outputs": [],
   "source": [
    "burgers = loadmat(\"../../../Multi-task-Physics-informed-neural-networks/experimental_data/burgers_shock.mat\")\n",
    "# burgers = loadmat(\"../../PDE-FIND-OLD/Datasets/burgers_shock_noiselv1.mat\")"
   ]
  },
  {
   "cell_type": "code",
   "execution_count": 3,
   "id": "b7de4e46-1b7a-4dae-ad97-329115207455",
   "metadata": {},
   "outputs": [
    {
     "name": "stdout",
     "output_type": "stream",
     "text": [
      "(1, 256) (1, 256)\n",
      "(1, 256) (1, 100)\n"
     ]
    }
   ],
   "source": [
    "file_name = \"../../WSINDy_PDE_JCP/datasets/burgers_shock.mat\"\n",
    "\n",
    "# getting template\n",
    "data = loadmat(\"../../WSINDy_PDE_JCP/datasets/burgers.mat\")\n",
    "# data = loadmat(\"../../WSINDy_PDE/datasets/sod.mat\")\n",
    "\n",
    "data['U_exact'][0][0] = burgers['usol']\n",
    "print(data['xs'][0][0].shape, burgers['x'].reshape(1, -1).shape)\n",
    "data['xs'][0][0] = burgers['x'].reshape(1, -1)\n",
    "print(data['xs'][0][1].shape, burgers['t'].reshape(1, -1).shape)\n",
    "data['xs'][0][1] = burgers['t'].reshape(1, -1)\n",
    "# savemat(file_name, data)"
   ]
  },
  {
   "cell_type": "code",
   "execution_count": 4,
   "id": "aed193d4-3f34-46cc-9d64-b45005e51013",
   "metadata": {},
   "outputs": [],
   "source": [
    "def percent_coeff(pred, ground):\n",
    "    return 100*np.abs(pred-ground)/np.abs(ground)"
   ]
  },
  {
   "cell_type": "code",
   "execution_count": 5,
   "id": "15cd5941-038b-4ec3-bbd6-b636dc1bea04",
   "metadata": {},
   "outputs": [
    {
     "name": "stdout",
     "output_type": "stream",
     "text": [
      "0.31346218498464856 0.2824621849846453\n",
      "0.5283046477085425 0.4245046477085442\n"
     ]
    }
   ],
   "source": [
    "ground = np.array([0.01/np.pi, -1])\n",
    "tauhat = 2\n",
    "if tauhat == 2:\n",
    "    # Clean Burgers full domain tauhat = 2 | 1e-10\n",
    "    wsindy_clean = np.array([0.00316413, -0.499845*2])\n",
    "    errs = 100*np.abs(wsindy_clean-ground)/np.abs(ground)\n",
    "    print(errs.mean(), errs.std())\n",
    "    # Clean Burgers is_sub = 2 (6400=128x50)\n",
    "    wsindy_clean = np.array([0.00315277, -0.499481*2])\n",
    "    errs = 100*np.abs(wsindy_clean-ground)/np.abs(ground)\n",
    "    print(errs.mean(), errs.std())\n",
    "elif tauhat == 3:\n",
    "    # Clean Burgers full domain tauhat = 3 | 1e-10\n",
    "    # 0.0031571u^{1}_{xx} + -0.49975u^{2}_{x}\n",
    "    # 0.0031571u^{1}_{xx} + -0.49975u^{2}_{x} (double chk)\n",
    "    wsindy_clean = np.array([0.0031571, -0.49975*2])\n",
    "    errs = 100*np.abs(wsindy_clean-ground)/np.abs(ground)\n",
    "    print(errs.mean(), errs.std())\n",
    "    # Clean Burgers is_sub = 2 (6400=128x50)\n",
    "    # 0.00315799u^{1}_{xx} + -0.499942u^{2}_{x}\n",
    "    # 0.00315799u^{1}_{xx} + -0.499942u^{2}_{x} (double chk)\n",
    "    wsindy_clean = np.array([0.00315799, -0.499942*2])\n",
    "    errs = 100*np.abs(wsindy_clean-ground)/np.abs(ground)\n",
    "    print(errs.mean(), errs.std())"
   ]
  },
  {
   "cell_type": "code",
   "execution_count": 6,
   "id": "239df008-a9cd-4a74-804c-5613ae896394",
   "metadata": {},
   "outputs": [
    {
     "name": "stdout",
     "output_type": "stream",
     "text": [
      "0.33164493374945014 0.13704493374944982\n",
      "0.14761397486344693 0.021986025136545045\n"
     ]
    }
   ],
   "source": [
    "tauhat = 2\n",
    "if tauhat == 2:\n",
    "    # Burgers noisy1 full domain\n",
    "    # 0.00316818u^{1}_{xx} + -0.499027u^{2}_{x}\n",
    "    wsindy_noisy = np.array([0.00316818,  -0.499027*2])\n",
    "    errs = 100*np.abs(wsindy_noisy-ground)/np.abs(ground)\n",
    "    print(errs.mean(), errs.std())\n",
    "    # Burgers noisy1 is_sub = 2 (6400=128x50)\n",
    "    # 0.0031791u^{1}_{xx} + -0.500848u^{2}_{x}\n",
    "    wsindy_noisy = np.array([0.0031791,  -0.500848*2])\n",
    "    errs = 100*np.abs(wsindy_noisy-ground)/np.abs(ground)\n",
    "    print(errs.mean(), errs.std())\n",
    "elif tauhat == 3:\n",
    "    # Burgers noisy1 full domain\n",
    "    # 0.00316527u^{1}_{xx} + -0.499856u^{2}_{x}\n",
    "    # 0.00316527u^{1}_{xx} + -0.499856u^{2}_{x} (double chk)\n",
    "    wsindy_noisy = np.array([0.00316527,  -0.499856*2])\n",
    "    errs = 100*np.abs(wsindy_noisy-ground)/np.abs(ground)\n",
    "    print(errs.mean(), errs.std())\n",
    "    # Burgers noisy1 is_sub = 2 (6400=128x50)\n",
    "    # 0.00315364u^{1}_{xx} + -0.501564u^{2}_{x}\n",
    "    # 0.00315364u^{1}_{xx} + -0.501564u^{2}_{x} (double chk)\n",
    "    wsindy_noisy = np.array([0.00315364,  -0.501564*2])\n",
    "    errs = 100*np.abs(wsindy_noisy-ground)/np.abs(ground)\n",
    "    print(errs.mean(), errs.std())"
   ]
  },
  {
   "cell_type": "code",
   "execution_count": null,
   "id": "0c3982b3-daed-4c61-b391-9af1334e0fd1",
   "metadata": {},
   "outputs": [],
   "source": []
  },
  {
   "cell_type": "code",
   "execution_count": null,
   "id": "fd0a167a-272e-4862-8635-32960a3eb6f6",
   "metadata": {},
   "outputs": [],
   "source": []
  },
  {
   "cell_type": "code",
   "execution_count": 7,
   "id": "4335d012-a0f0-4631-bc53-6687ec83001b",
   "metadata": {},
   "outputs": [],
   "source": [
    "import pickle\n",
    "def pickle_load(path):\n",
    "    with open(path, 'rb') as f:\n",
    "        obj = pickle.load(f)\n",
    "        print('Loaded from', str(path))\n",
    "        return obj   "
   ]
  },
  {
   "cell_type": "code",
   "execution_count": 8,
   "id": "c87a9400-84a2-493d-8db9-be55768361d9",
   "metadata": {},
   "outputs": [],
   "source": [
    "# burgers = loadmat(\"../../../Multi-task-Physics-informed-neural-networks/experimental_data/burgers_shock.mat\")\n",
    "# kdv = pickle_load(\"../../../Multi-task-Physics-informed-neural-networks/deephpms_data/KdV_simple2.pkl\")"
   ]
  },
  {
   "cell_type": "code",
   "execution_count": 9,
   "id": "6330cc68-531f-4231-9ee2-9850a540891a",
   "metadata": {},
   "outputs": [],
   "source": [
    "# file_name = \"../../WSINDy_PDE/datasets/KdV_simple2_noiselv1.mat\"\n",
    "\n",
    "# # getting template\n",
    "# data = loadmat(\"../../WSINDy_PDE/datasets/kdv.mat\")\n",
    "# # data = loadmat(\"../../WSINDy_PDE/datasets/sod.mat\")\n",
    "\n",
    "# np.random.seed(0)\n",
    "# noise = 0.01*np.std(kdv['u'].T)*np.random.randn(kdv['u'].T.shape[0],kdv['u'].T.shape[1])\n",
    "\n",
    "# data['U_exact'][0][0] = kdv['u'].T+noise\n",
    "# data['xs'][0][0] = kdv['x'].reshape(-1, 1)\n",
    "# data['xs'][0][1] = kdv['t'].reshape(1, -1)\n",
    "# savemat(file_name, data)"
   ]
  },
  {
   "cell_type": "code",
   "execution_count": 10,
   "id": "68d391f2-0e23-46ae-87cc-acf62cea4e63",
   "metadata": {},
   "outputs": [
    {
     "name": "stdout",
     "output_type": "stream",
     "text": [
      "6.2272e-06 6.0453e-06\n",
      "5.5634e-06 6.3253e-06\n"
     ]
    }
   ],
   "source": [
    "# Clean KdV full domain\n",
    "pred_clean = np.array([-1, -3*2])\n",
    "errs = percent_coeff(pred_clean, np.array([-1, -6]))\n",
    "# tauhat = 2\n",
    "print(6.2272e-06, 6.0453e-06)\n",
    "# tauhat = 3\n",
    "print(5.5634e-06, 6.3253e-06)\n",
    "\n",
    "# Clean KdV sub = 5 (26x101)\n",
    "# tauhat = 2\n",
    "# -2.70451u^{2}_{x}\n",
    "# tauhat = 3\n",
    "# u^{1}_{t} = -2.85356u^{2}_{x}\n",
    "# u^{1}_{t} = -2.85356u^{2}_{x} (double chk)"
   ]
  },
  {
   "cell_type": "code",
   "execution_count": 11,
   "id": "3b1b8c18-7ac6-45c8-8c67-b7686774d927",
   "metadata": {},
   "outputs": [
    {
     "name": "stdout",
     "output_type": "stream",
     "text": [
      "0.020333333333329616 0.0026666666666656322\n",
      "0.043483333333332874 0.04281666666666184\n"
     ]
    }
   ],
   "source": [
    "# tauhat = 2\n",
    "pred_noisy = np.array([-1.00023, -3.00053*2])\n",
    "errs = percent_coeff(pred_noisy, np.array([-1, -6]))\n",
    "print(errs.mean(), errs.std())\n",
    "\n",
    "# tauhat = 3\n",
    "# u^{1}_{t} = -0.999137u^{1}_{xxx} + -2.99998u^{2}_{x} (double chk)\n",
    "pred_noisy = np.array([-0.999137, -2.99998*2])\n",
    "errs = percent_coeff(pred_noisy, np.array([-1, -6]))\n",
    "print(errs.mean(), errs.std())\n",
    "\n",
    "\n",
    "# KdV noisy1 sub = 5 (26x101)\n",
    "# tauhat = 2\n",
    "# -2.72059u^{2}_{x}\n",
    "\n",
    "# tauhat = 3\n",
    "# u^{1}_{t} = -2.86159u^{2}_{x}\n",
    "# u^{1}_{t} = -2.86159u^{2}_{x} (double chk)"
   ]
  },
  {
   "cell_type": "code",
   "execution_count": 12,
   "id": "097f1d52-64d8-4fb6-828e-0dabe60dc17e",
   "metadata": {},
   "outputs": [],
   "source": [
    "# ks = loadmat(\"../../../Multi-task-Physics-informed-neural-networks/PDE_FIND_experimental_datasets/kuramoto_sivishinky.mat\")"
   ]
  },
  {
   "cell_type": "code",
   "execution_count": 13,
   "id": "5c12f460-3188-473b-b318-d819ecb90740",
   "metadata": {},
   "outputs": [],
   "source": [
    "# file_name = \"../../WSINDy_PDE/datasets/kura_noiselv1.mat\"\n",
    "\n",
    "# # getting template\n",
    "# data = loadmat(\"../../WSINDy_PDE/datasets/ks.mat\")\n",
    "\n",
    "# np.random.seed(0)\n",
    "# noise = 0.01*np.std(ks['uu'])*np.random.randn(ks['uu'].shape[0],ks['uu'].shape[1])\n",
    "\n",
    "# data['U_exact'][0][0] = ks['uu']+noise\n",
    "# data['xs'][0][0] = ks['x'].reshape(-1, 1)\n",
    "# data['xs'][0][1] = ks['tt'].reshape(1, -1)\n",
    "\n",
    "# savemat(file_name, data)"
   ]
  },
  {
   "cell_type": "code",
   "execution_count": 14,
   "id": "b943bd7f-df83-4dba-804e-6b456ef16453",
   "metadata": {},
   "outputs": [
    {
     "name": "stdout",
     "output_type": "stream",
     "text": [
      "0.00044719 0.00038145\n",
      "2.5065e-05 9.4578e-06\n",
      "0.00013333333333346667 9.428090415830062e-05\n"
     ]
    }
   ],
   "source": [
    "# Clean KS full domain\n",
    "pred_clean = np.array([-1, -1, -0.5*2])\n",
    "errs = percent_coeff(pred_clean, np.array([-1, -1, -1]))\n",
    "# คิดใน matlab\n",
    "# tauhat = 2\n",
    "# (0.0004, 0.0004)\n",
    "print(4.4719e-04, 3.8145e-04)\n",
    "# tauhat = 3\n",
    "print(2.5065e-05, 9.4578e-06)\n",
    "# print(errs.mean(), errs.std())\n",
    "\n",
    "# Clean KS sub 1024x30 \n",
    "pred_clean = np.array([-0.999998, -1, -0.500001*2])\n",
    "errs = percent_coeff(pred_clean, np.array([-1, -1, -1]))\n",
    "print(errs.mean(), errs.std())\n",
    "\n",
    "# Clean KS sub 1024x21 แบบใน paper\n",
    "# tauhat = 2\n",
    "# u^{1}_{t} = -0.610881u^{2}_{x}\n",
    "# tauhat = 3\n",
    "# u^{1}_{t} = -0.612131u^{2}_{x}\n",
    "# u^{1}_{t} = -0.612131u^{2}_{x} (double check)"
   ]
  },
  {
   "cell_type": "code",
   "execution_count": 15,
   "id": "17461d81-8117-4cb7-a685-494cca340a90",
   "metadata": {},
   "outputs": [
    {
     "name": "stdout",
     "output_type": "stream",
     "text": [
      "0.012799999999997999 0.0038052595180944238\n",
      "0.0018999999999954238 0.0018055470085256127\n",
      "0.1740000000000038 0.14532951065309227\n"
     ]
    }
   ],
   "source": [
    "# KS Noisy full domain\n",
    "# tauhat = 2\n",
    "# u^{1}_{t} = -1.00009u^{1}_{xx} + -1.00018u^{1}_{xxxx} + -0.500057u^{2}_{x}\n",
    "pred_noisy = np.array([-1.00009, -1.00018, -0.500057*2])\n",
    "errs = percent_coeff(pred_noisy, np.array([-1, -1, -1]))\n",
    "print(errs.mean(), errs.std())\n",
    "# tauhat = 3\n",
    "# u^{1}_{t} = -0.999989u^{1}_{xx} + -0.999998u^{1}_{xxxx} + -0.500022u^{2}_{x}\n",
    "pred_noisy = np.array([-0.999989, -0.999998, -0.500022*2])\n",
    "errs = percent_coeff(pred_noisy, np.array([-1, -1, -1]))\n",
    "print(errs.mean(), errs.std())\n",
    "\n",
    "# KS Noisy sub 1024x30\n",
    "pred_noisy = np.array([-1.00115,-1.00374,-0.499835*2])\n",
    "errs = percent_coeff(pred_noisy, np.array([-1, -1, -1]))\n",
    "print(errs.mean(), errs.std())\n",
    "\n",
    "# KS Noisy sub 1024x21 แบบใน paper\n",
    "# tauhat = 2\n",
    "# u^{1}_{t} = -0.897573u^{1}_{xx} + -0.49779u^{2}_{x}\n",
    "# tauhat = 3\n",
    "# u^{1}_{t} = -0.964463u^{1}_{xx} + -0.494144u^{2}_{x}"
   ]
  },
  {
   "cell_type": "code",
   "execution_count": null,
   "id": "af1325bb-70f5-4d28-bc86-44d3d3eb57e3",
   "metadata": {},
   "outputs": [],
   "source": []
  }
 ],
 "metadata": {
  "kernelspec": {
   "display_name": "Python [conda env:py3.7]",
   "language": "python",
   "name": "conda-env-py3.7-py"
  },
  "language_info": {
   "codemirror_mode": {
    "name": "ipython",
    "version": 3
   },
   "file_extension": ".py",
   "mimetype": "text/x-python",
   "name": "python",
   "nbconvert_exporter": "python",
   "pygments_lexer": "ipython3",
   "version": "3.7.12"
  },
  "widgets": {
   "application/vnd.jupyter.widget-state+json": {
    "state": {},
    "version_major": 2,
    "version_minor": 0
   }
  }
 },
 "nbformat": 4,
 "nbformat_minor": 5
}
