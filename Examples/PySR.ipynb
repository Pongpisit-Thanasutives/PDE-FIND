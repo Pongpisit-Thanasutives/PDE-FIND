{
 "cells": [
  {
   "cell_type": "code",
   "execution_count": 1,
   "id": "52cc8779-96ba-4817-be2c-5f4d148a25c5",
   "metadata": {},
   "outputs": [],
   "source": [
    "%matplotlib inline\n",
    "import matplotlib.pyplot as plt\n",
    "\n",
    "import sys; sys.path.append('../')\n",
    "from misc import h5file\n",
    "import numpy as np\n",
    "\n",
    "import scipy.io as sio\n",
    "import sympy\n",
    "from sympy import Symbol, parse_expr, sympify, lambdify, Lambda\n",
    "\n",
    "import pandas as pd\n",
    "import subprocess\n",
    "\n",
    "from scipy.optimize import curve_fit\n",
    "\n",
    "MAIN_SEED = 1234"
   ]
  },
  {
   "cell_type": "code",
   "execution_count": 2,
   "id": "12ff9ab7",
   "metadata": {},
   "outputs": [],
   "source": [
    "noise_lv = 30\n",
    "denoising_mode = 'ksvd'\n",
    "smoother_name = 'filterpy' # none, filterpy\n",
    "n_components = 32\n",
    "transform_n_nonzero = '_none'\n",
    "undenoised = False\n",
    "\n",
    "fp1 = f\"../PMS_data/{denoising_mode}/{smoother_name}/transform_n_nonzero_coefs{transform_n_nonzero}/burgers_pms_noise30_dictlearn{n_components}.h5\"\n",
    "\n",
    "# after loading\n",
    "if smoother_name == 'none': smoother_name = ''\n",
    "else: smoother_name = '_'+smoother_name"
   ]
  },
  {
   "cell_type": "code",
   "execution_count": 3,
   "id": "c1e54c52-64fa-45e7-9988-f81b4bdf4acc",
   "metadata": {},
   "outputs": [
    {
     "name": "stdout",
     "output_type": "stream",
     "text": [
      "['X_pre', 'avg_weak_coeff', 'best_subsets', 'un', 'y_pre']\n"
     ]
    }
   ],
   "source": [
    "_, _, _, un, _ = h5file(file_path=fp1, mode='r', return_dict=False)"
   ]
  },
  {
   "cell_type": "code",
   "execution_count": 4,
   "id": "5f7a0242-aedd-4eb7-87e0-62792f0b5a5b",
   "metadata": {},
   "outputs": [],
   "source": [
    "data = sio.loadmat('../Datasets/burgers.mat')\n",
    "x = data['x'].real.reshape(-1, 1)\n",
    "del data"
   ]
  },
  {
   "cell_type": "code",
   "execution_count": 5,
   "id": "9477412c-7540-4e2f-bddc-d5ab8f785975",
   "metadata": {},
   "outputs": [],
   "source": [
    "from pysr import PySRRegressor\n",
    "\n",
    "deterministic = True\n",
    "\n",
    "if not deterministic:\n",
    "    model = PySRRegressor(\n",
    "        niterations=50,  # < Increase me for better results\n",
    "        binary_operators=[\"+\", \"*\"],\n",
    "        unary_operators=[\"exp\", \"square\"], \n",
    "        deterministic=deterministic\n",
    "    )\n",
    "else:\n",
    "    np.random.seed(MAIN_SEED)\n",
    "    model = PySRRegressor(\n",
    "        niterations=50,  # < Increase me for better results\n",
    "        binary_operators=[\"+\", \"*\"],\n",
    "        unary_operators=[\"exp\", \"square\"], \n",
    "        # For a deterministic result\n",
    "        deterministic=deterministic, \n",
    "        random_state=MAIN_SEED, \n",
    "        procs=0, \n",
    "        multithreading=False\n",
    "    )"
   ]
  },
  {
   "cell_type": "code",
   "execution_count": 6,
   "id": "23d306ef-bacb-411d-b07d-7c1c2918fc58",
   "metadata": {},
   "outputs": [
    {
     "name": "stderr",
     "output_type": "stream",
     "text": [
      "/Users/pongpisit/anaconda3/envs/pysr_latest/lib/python3.11/site-packages/pysr/sr.py:1289: UserWarning: Note: it looks like you are running in Jupyter. The progress bar will be turned off.\n",
      "  warnings.warn(\n",
      "/Users/pongpisit/anaconda3/envs/pysr_latest/lib/python3.11/site-packages/pysr/julia_helpers.py:197: UserWarning: Your system's Python library is static (e.g., conda), so precompilation will be turned off. For a dynamic library, try `pyenv`.\n",
      "  warnings.warn(\n"
     ]
    },
    {
     "name": "stdout",
     "output_type": "stream",
     "text": [
      "Started!\n",
      "\n",
      "Cycles per second: 5.760e+04\n",
      "Progress: 159 / 750 total iterations (21.200%)\n",
      "====================================================================================================\n",
      "Hall of Fame:\n",
      "---------------------------------------------------------------------------------------------------\n",
      "Complexity  Loss       Score     Equation\n",
      "1           6.553e-02  -1.000e-10  0.11169324\n",
      "7           4.960e-03  4.302e-01  exp(-0.95656747 * square(1.779441 + x0))\n",
      "8           6.914e-04  1.971e+00  exp(-0.9987683 * square(exp(0.71192145) + x0))\n",
      "9           6.418e-04  7.435e-02  square(exp(-0.51127654 * square(x0 + square(1.4194545))))\n",
      "10          6.418e-04  1.787e-07  exp(square((exp(0.02718181) + 0.9872874) + x0) * -1.0224444)\n",
      "17          6.361e-04  1.292e-03  (square(square(exp((-0.6305928 * square(0.72094697 * -0.887717...\n",
      "                                  1)) * square(x0 + exp(0.7005335))))) + 0.0027111943)\n",
      "---------------------------------------------------------------------------------------------------\n",
      "====================================================================================================\n",
      "Press 'q' and then <enter> to stop execution early.\n",
      "\n",
      "Cycles per second: 6.100e+04\n",
      "Progress: 337 / 750 total iterations (44.933%)\n",
      "====================================================================================================\n",
      "Hall of Fame:\n",
      "---------------------------------------------------------------------------------------------------\n",
      "Complexity  Loss       Score     Equation\n",
      "1           6.553e-02  -1.000e-10  0.11169324\n",
      "7           8.432e-04  7.255e-01  exp(-1.1488439 * square(2.0022898 + x0))\n",
      "8           6.418e-04  2.728e-01  exp(-1.0224832 * square(x0 + exp(0.70053077)))\n",
      "10          6.418e-04  5.955e-08  exp(square((exp(0.02718181) + 0.9872874) + x0) * -1.0224444)\n",
      "11          6.376e-04  6.583e-03  (exp(-1.0224832 * square(x0 + exp(0.70053077))) + square(-0.05...\n",
      "                                  2380744))\n",
      "14          6.376e-04  2.211e-05  (exp(-1.0224832 * square(x0 + exp(0.70053077))) + square(squar...\n",
      "                                  e(-0.0845097 * -2.355778)))\n",
      "15          6.374e-04  2.753e-04  (exp(-1.0224832 * square(x0 + exp(0.70053077))) + ((square(-0....\n",
      "                                  052380744) * -1.0224832) * -0.6256522))\n",
      "16          6.364e-04  1.524e-03  (square(exp((-0.6305928 * square(0.7645218 + 0.13821991)) * sq...\n",
      "                                  uare(x0 + exp(0.7005335)))) + 0.0027111943)\n",
      "17          6.361e-04  5.966e-04  (square(square(exp((-0.6305928 * square(0.72094697 * -0.887717...\n",
      "                                  1)) * square(x0 + exp(0.7005335))))) + 0.0027111943)\n",
      "---------------------------------------------------------------------------------------------------\n",
      "====================================================================================================\n",
      "Press 'q' and then <enter> to stop execution early.\n",
      "\n",
      "Cycles per second: 6.270e+04\n",
      "Progress: 520 / 750 total iterations (69.333%)\n",
      "====================================================================================================\n",
      "Hall of Fame:\n",
      "---------------------------------------------------------------------------------------------------\n",
      "Complexity  Loss       Score     Equation\n",
      "1           6.553e-02  -1.000e-10  0.11169324\n",
      "6           6.443e-02  3.395e-03  (exp(-0.03723168 * x0) * 0.11592887)\n",
      "7           6.418e-04  4.609e+00  exp(-1.0224758 * square(2.0148342 + x0))\n",
      "10          6.418e-04  1.633e-05  (exp(-1.0224832 * square(x0 + exp(0.70053077))) * 0.99940604)\n",
      "11          6.361e-04  8.996e-03  (square(exp(-0.51654047 * square(x0 + exp(0.70052767)))) + 0.0...\n",
      "                                  027080777)\n",
      "17          6.330e-04  8.001e-04  (exp(-1.0224832 * square(x0 + exp(0.70053077))) + (square(squa...\n",
      "                                  re(square(0.06021086 * x0))) * x0))\n",
      "19          6.297e-04  2.656e-03  (exp(-1.0224832 * square(x0 + exp(0.70053077))) + ((square(squ...\n",
      "                                  are(square(0.06021086 * x0))) * 0.6418157) * x0))\n",
      "---------------------------------------------------------------------------------------------------\n",
      "====================================================================================================\n",
      "Press 'q' and then <enter> to stop execution early.\n",
      "\n",
      "Cycles per second: 6.310e+04\n",
      "Progress: 698 / 750 total iterations (93.067%)\n",
      "====================================================================================================\n",
      "Hall of Fame:\n",
      "---------------------------------------------------------------------------------------------------\n",
      "Complexity  Loss       Score     Equation\n",
      "1           6.553e-02  -1.000e-10  0.11169324\n",
      "5           6.390e-02  6.295e-03  ((-0.009605255 * x0) + 0.08869171)\n",
      "7           6.418e-04  2.300e+00  exp(-1.0224758 * square(2.0148342 + x0))\n",
      "10          6.361e-04  3.015e-03  (square(exp(-0.51654047 * square(x0 + 2.0148177))) + 0.0027080...\n",
      "                                  777)\n",
      "17          6.330e-04  6.858e-04  (exp(-1.0224832 * square(x0 + exp(0.70053077))) + (square(squa...\n",
      "                                  re(square(0.06021086 * x0))) * x0))\n",
      "19          6.297e-04  2.656e-03  (exp(-1.0224832 * square(x0 + exp(0.70053077))) + ((square(squ...\n",
      "                                  are(square(0.06021086 * x0))) * 0.6418157) * x0))\n",
      "---------------------------------------------------------------------------------------------------\n",
      "====================================================================================================\n",
      "Press 'q' and then <enter> to stop execution early.\n"
     ]
    },
    {
     "data": {
      "text/html": [
       "<style>#sk-container-id-1 {color: black;background-color: white;}#sk-container-id-1 pre{padding: 0;}#sk-container-id-1 div.sk-toggleable {background-color: white;}#sk-container-id-1 label.sk-toggleable__label {cursor: pointer;display: block;width: 100%;margin-bottom: 0;padding: 0.3em;box-sizing: border-box;text-align: center;}#sk-container-id-1 label.sk-toggleable__label-arrow:before {content: \"▸\";float: left;margin-right: 0.25em;color: #696969;}#sk-container-id-1 label.sk-toggleable__label-arrow:hover:before {color: black;}#sk-container-id-1 div.sk-estimator:hover label.sk-toggleable__label-arrow:before {color: black;}#sk-container-id-1 div.sk-toggleable__content {max-height: 0;max-width: 0;overflow: hidden;text-align: left;background-color: #f0f8ff;}#sk-container-id-1 div.sk-toggleable__content pre {margin: 0.2em;color: black;border-radius: 0.25em;background-color: #f0f8ff;}#sk-container-id-1 input.sk-toggleable__control:checked~div.sk-toggleable__content {max-height: 200px;max-width: 100%;overflow: auto;}#sk-container-id-1 input.sk-toggleable__control:checked~label.sk-toggleable__label-arrow:before {content: \"▾\";}#sk-container-id-1 div.sk-estimator input.sk-toggleable__control:checked~label.sk-toggleable__label {background-color: #d4ebff;}#sk-container-id-1 div.sk-label input.sk-toggleable__control:checked~label.sk-toggleable__label {background-color: #d4ebff;}#sk-container-id-1 input.sk-hidden--visually {border: 0;clip: rect(1px 1px 1px 1px);clip: rect(1px, 1px, 1px, 1px);height: 1px;margin: -1px;overflow: hidden;padding: 0;position: absolute;width: 1px;}#sk-container-id-1 div.sk-estimator {font-family: monospace;background-color: #f0f8ff;border: 1px dotted black;border-radius: 0.25em;box-sizing: border-box;margin-bottom: 0.5em;}#sk-container-id-1 div.sk-estimator:hover {background-color: #d4ebff;}#sk-container-id-1 div.sk-parallel-item::after {content: \"\";width: 100%;border-bottom: 1px solid gray;flex-grow: 1;}#sk-container-id-1 div.sk-label:hover label.sk-toggleable__label {background-color: #d4ebff;}#sk-container-id-1 div.sk-serial::before {content: \"\";position: absolute;border-left: 1px solid gray;box-sizing: border-box;top: 0;bottom: 0;left: 50%;z-index: 0;}#sk-container-id-1 div.sk-serial {display: flex;flex-direction: column;align-items: center;background-color: white;padding-right: 0.2em;padding-left: 0.2em;position: relative;}#sk-container-id-1 div.sk-item {position: relative;z-index: 1;}#sk-container-id-1 div.sk-parallel {display: flex;align-items: stretch;justify-content: center;background-color: white;position: relative;}#sk-container-id-1 div.sk-item::before, #sk-container-id-1 div.sk-parallel-item::before {content: \"\";position: absolute;border-left: 1px solid gray;box-sizing: border-box;top: 0;bottom: 0;left: 50%;z-index: -1;}#sk-container-id-1 div.sk-parallel-item {display: flex;flex-direction: column;z-index: 1;position: relative;background-color: white;}#sk-container-id-1 div.sk-parallel-item:first-child::after {align-self: flex-end;width: 50%;}#sk-container-id-1 div.sk-parallel-item:last-child::after {align-self: flex-start;width: 50%;}#sk-container-id-1 div.sk-parallel-item:only-child::after {width: 0;}#sk-container-id-1 div.sk-dashed-wrapped {border: 1px dashed gray;margin: 0 0.4em 0.5em 0.4em;box-sizing: border-box;padding-bottom: 0.4em;background-color: white;}#sk-container-id-1 div.sk-label label {font-family: monospace;font-weight: bold;display: inline-block;line-height: 1.2em;}#sk-container-id-1 div.sk-label-container {text-align: center;}#sk-container-id-1 div.sk-container {/* jupyter's `normalize.less` sets `[hidden] { display: none; }` but bootstrap.min.css set `[hidden] { display: none !important; }` so we also need the `!important` here to be able to override the default hidden behavior on the sphinx rendered scikit-learn.org. See: https://github.com/scikit-learn/scikit-learn/issues/21755 */display: inline-block !important;position: relative;}#sk-container-id-1 div.sk-text-repr-fallback {display: none;}</style><div id=\"sk-container-id-1\" class=\"sk-top-container\"><div class=\"sk-text-repr-fallback\"><pre>PySRRegressor.equations_ = [\n",
       "\t   pick     score                                           equation   \n",
       "\t0        0.000000                                         0.11169324  \\\n",
       "\t1        0.006295                 ((-0.009605255 * x0) + 0.08869171)   \n",
       "\t2  &gt;&gt;&gt;&gt;  2.300401           exp(-1.0224758 * square(2.0148342 + x0))   \n",
       "\t3        0.003015  (square(exp(-0.51654047 * square(x0 + 2.014817...   \n",
       "\t4        0.000800  (exp(-1.0224832 * square(2.0148342 + x0)) + (s...   \n",
       "\t5        0.002656  (exp(-1.0224832 * square(2.0148342 + x0)) + ((...   \n",
       "\t\n",
       "\t       loss  complexity  \n",
       "\t0  0.065534           1  \n",
       "\t1  0.063904           5  \n",
       "\t2  0.000642           7  \n",
       "\t3  0.000636          10  \n",
       "\t4  0.000633          16  \n",
       "\t5  0.000630          18  \n",
       "]</pre><b>In a Jupyter environment, please rerun this cell to show the HTML representation or trust the notebook. <br />On GitHub, the HTML representation is unable to render, please try loading this page with nbviewer.org.</b></div><div class=\"sk-container\" hidden><div class=\"sk-item\"><div class=\"sk-estimator sk-toggleable\"><input class=\"sk-toggleable__control sk-hidden--visually\" id=\"sk-estimator-id-1\" type=\"checkbox\" checked><label for=\"sk-estimator-id-1\" class=\"sk-toggleable__label sk-toggleable__label-arrow\">PySRRegressor</label><div class=\"sk-toggleable__content\"><pre>PySRRegressor.equations_ = [\n",
       "\t   pick     score                                           equation   \n",
       "\t0        0.000000                                         0.11169324  \\\n",
       "\t1        0.006295                 ((-0.009605255 * x0) + 0.08869171)   \n",
       "\t2  &gt;&gt;&gt;&gt;  2.300401           exp(-1.0224758 * square(2.0148342 + x0))   \n",
       "\t3        0.003015  (square(exp(-0.51654047 * square(x0 + 2.014817...   \n",
       "\t4        0.000800  (exp(-1.0224832 * square(2.0148342 + x0)) + (s...   \n",
       "\t5        0.002656  (exp(-1.0224832 * square(2.0148342 + x0)) + ((...   \n",
       "\t\n",
       "\t       loss  complexity  \n",
       "\t0  0.065534           1  \n",
       "\t1  0.063904           5  \n",
       "\t2  0.000642           7  \n",
       "\t3  0.000636          10  \n",
       "\t4  0.000633          16  \n",
       "\t5  0.000630          18  \n",
       "]</pre></div></div></div></div></div>"
      ],
      "text/plain": [
       "PySRRegressor.equations_ = [\n",
       "\t   pick     score                                           equation   \n",
       "\t0        0.000000                                         0.11169324  \\\n",
       "\t1        0.006295                 ((-0.009605255 * x0) + 0.08869171)   \n",
       "\t2  >>>>  2.300401           exp(-1.0224758 * square(2.0148342 + x0))   \n",
       "\t3        0.003015  (square(exp(-0.51654047 * square(x0 + 2.014817...   \n",
       "\t4        0.000800  (exp(-1.0224832 * square(2.0148342 + x0)) + (s...   \n",
       "\t5        0.002656  (exp(-1.0224832 * square(2.0148342 + x0)) + ((...   \n",
       "\t\n",
       "\t       loss  complexity  \n",
       "\t0  0.065534           1  \n",
       "\t1  0.063904           5  \n",
       "\t2  0.000642           7  \n",
       "\t3  0.000636          10  \n",
       "\t4  0.000633          16  \n",
       "\t5  0.000630          18  \n",
       "]"
      ]
     },
     "execution_count": 6,
     "metadata": {},
     "output_type": "execute_result"
    }
   ],
   "source": [
    "model.fit(x, un[:,0])"
   ]
  },
  {
   "cell_type": "code",
   "execution_count": 7,
   "id": "e73aac2e",
   "metadata": {},
   "outputs": [
    {
     "name": "stdout",
     "output_type": "stream",
     "text": [
      "hof_filterpy.csv\n"
     ]
    }
   ],
   "source": [
    "save_to = f\"hof{smoother_name}.csv\"\n",
    "model.get_hof().to_csv(save_to, index=None)\n",
    "subprocess.run([\"bash\", \"clean_pysr.sh\"])\n",
    "print(save_to)"
   ]
  },
  {
   "cell_type": "code",
   "execution_count": 8,
   "id": "cd86e41e",
   "metadata": {},
   "outputs": [],
   "source": [
    "hof = pd.read_csv(save_to)\n",
    "# hof = model.get_hof()"
   ]
  },
  {
   "cell_type": "code",
   "execution_count": 9,
   "id": "d30cbb64-8d8c-4cb2-b966-b203aefa8089",
   "metadata": {},
   "outputs": [],
   "source": [
    "equation = hof.iloc[np.argmax(hof[\"score\"])]"
   ]
  },
  {
   "cell_type": "code",
   "execution_count": 10,
   "id": "6a688c0c",
   "metadata": {},
   "outputs": [],
   "source": [
    "import re\n",
    "from functools import partial\n",
    "from simpleeval import simple_eval\n",
    "from py_expression_eval import Parser\n",
    "from sympy import Symbol\n",
    "\n",
    "def extract_function(equation):\n",
    "    floats = re.findall(\"\\d+\\.\\d+\", equation.equation)\n",
    "    notaions = [chr(97+i) for i in range(len(floats))]\n",
    "    ind_notations = Parser().parse(equation.sympy_format).variables()\n",
    "    new_equation = equation.equation\n",
    "    for f,n in zip(floats, notaions):\n",
    "        new_equation = new_equation.replace(f, n)\n",
    "    function = lambdify(args=list(map(Symbol, ind_notations+notaions)), \n",
    "                        expr=new_equation)\n",
    "    return function, ind_notations, dict(zip(notaions, map(float, floats)))\n",
    "\n",
    "function, ind_notations, args = extract_function(equation)\n",
    "# function = partial(function, **dict(zip(notaions, map(float, floats))))\n",
    "# ((function(x)-un[:, 0:1])**2).mean()"
   ]
  },
  {
   "cell_type": "code",
   "execution_count": 11,
   "id": "fc914264-778a-4247-b014-3a7af51c21b3",
   "metadata": {},
   "outputs": [
    {
     "name": "stdout",
     "output_type": "stream",
     "text": [
      "exp(-4.1507986414173*(0.496318754168457*x0 + 1)**2)\n"
     ]
    },
    {
     "data": {
      "text/plain": [
       "0.000641837745509215"
      ]
     },
     "execution_count": 11,
     "metadata": {},
     "output_type": "execute_result"
    }
   ],
   "source": [
    "print(equation.sympy_format) # exp(-1.0219623 * square(1.9614727 + x0))\n",
    "func = lambdify(args=sympy.symbols('x0'), expr=equation.sympy_format)\n",
    "# deter: 0.0006665787665166545\n",
    "# non-deter-1: 0.0006665787695548446\n",
    "((np.vectorize(func)(x)-un[:, 0:1])**2).mean()"
   ]
  },
  {
   "cell_type": "code",
   "execution_count": 12,
   "id": "6d982837-32b6-4c5b-837d-d29a60491f13",
   "metadata": {},
   "outputs": [
    {
     "data": {
      "image/png": "[encoded data removed]",
      "text/plain": [
       "<Figure size 640x480 with 1 Axes>"
      ]
     },
     "metadata": {},
     "output_type": "display_data"
    }
   ],
   "source": [
    "plt.plot(x.flatten(), partial(function, **args)(x))\n",
    "plt.show()"
   ]
  },
  {
   "cell_type": "code",
   "execution_count": 13,
   "id": "004ebe1f",
   "metadata": {},
   "outputs": [
    {
     "name": "stdout",
     "output_type": "stream",
     "text": [
      "[1.02246738 2.01484875]\n",
      "0.0006418377278801812\n"
     ]
    },
    {
     "data": {
      "image/png": "[encoded data removed]",
      "text/plain": [
       "<Figure size 640x480 with 1 Axes>"
      ]
     },
     "metadata": {},
     "output_type": "display_data"
    }
   ],
   "source": [
    "recovered_params = curve_fit(function, x.flatten(), un[:, 0])[0]\n",
    "print(recovered_params)\n",
    "print(((function(x, *recovered_params)-un[:, 0:1])**2).mean())\n",
    "plt.plot(x, function(x, *recovered_params))\n",
    "plt.show()"
   ]
  },
  {
   "cell_type": "code",
   "execution_count": 14,
   "id": "48de6603",
   "metadata": {},
   "outputs": [],
   "source": [
    "def func(x, a, b):\n",
    "    return np.exp(np.square(x+a)*b)"
   ]
  },
  {
   "cell_type": "code",
   "execution_count": 15,
   "id": "905e874e",
   "metadata": {},
   "outputs": [
    {
     "name": "stdout",
     "output_type": "stream",
     "text": [
      "[ 2.01484874 -1.02246744]\n",
      "0.0006418377278801021\n"
     ]
    },
    {
     "data": {
      "image/png": "[encoded data removed]",
      "text/plain": [
       "<Figure size 640x480 with 1 Axes>"
      ]
     },
     "metadata": {},
     "output_type": "display_data"
    }
   ],
   "source": [
    "recovered_params = curve_fit(func, x.flatten(), un[:, 0])[0]\n",
    "print(recovered_params)\n",
    "print(((func(x, *recovered_params)-un[:, 0:1])**2).mean())\n",
    "plt.plot(x, func(x, *recovered_params))\n",
    "plt.show()"
   ]
  },
  {
   "cell_type": "code",
   "execution_count": 16,
   "id": "da2b947f-c5af-49aa-bf41-7f0d1783a1a7",
   "metadata": {},
   "outputs": [],
   "source": [
    "# np.save(\"./tmp_files/u0_est.npy\", np.array([func(e) for e in x.flatten()]).astype(np.float32))"
   ]
  },
  {
   "cell_type": "code",
   "execution_count": null,
   "id": "369293fb",
   "metadata": {},
   "outputs": [],
   "source": []
  },
  {
   "cell_type": "code",
   "execution_count": null,
   "id": "01d37771",
   "metadata": {},
   "outputs": [],
   "source": []
  },
  {
   "cell_type": "markdown",
   "id": "df738d04",
   "metadata": {},
   "source": [
    "#### Sympy -> Torch"
   ]
  },
  {
   "cell_type": "code",
   "execution_count": 17,
   "id": "0a8dbe9c",
   "metadata": {},
   "outputs": [],
   "source": [
    "import torch, sympytorch"
   ]
  },
  {
   "cell_type": "code",
   "execution_count": 18,
   "id": "0fe5b5c3",
   "metadata": {},
   "outputs": [],
   "source": [
    "x_ = torch.tensor(x.flatten()).float()"
   ]
  },
  {
   "cell_type": "code",
   "execution_count": 19,
   "id": "c874501d",
   "metadata": {},
   "outputs": [
    {
     "data": {
      "text/latex": [
       "$\\displaystyle e^{- 4.1507986414173 \\left(0.496318754168457 x_{0} + 1\\right)^{2}}$"
      ],
      "text/plain": [
       "exp(-4.1507986414173*(0.496318754168457*x0 + 1)**2)"
      ]
     },
     "execution_count": 19,
     "metadata": {},
     "output_type": "execute_result"
    }
   ],
   "source": [
    "# automatic way of getting learnable parameters\n",
    "sympy_equation = sympify(equation.sympy_format)\n",
    "sympy_equation\n",
    "\n",
    "# sympy_equation = parse_expr(equation.equation, \n",
    "#                             local_dict={\"square\": square, \"exp\":sympy.exp})\n",
    "\n",
    "# x0 = Symbol('x0', real=True)\n",
    "# square = Lambda(x0, x0**2)\n",
    "# sympy_equation = sympify(equation.equation, locals={\"square\": square, \"exp\":sympy.exp}, \n",
    "#                evaluate=True, rational=False)"
   ]
  },
  {
   "cell_type": "code",
   "execution_count": 20,
   "id": "fae9fa09",
   "metadata": {},
   "outputs": [],
   "source": [
    "# automatic way of getting learnable parameters\n",
    "mod = sympytorch.SymPyModule(expressions=[sympy_equation])"
   ]
  },
  {
   "cell_type": "code",
   "execution_count": 21,
   "id": "2bcaffff",
   "metadata": {},
   "outputs": [
    {
     "name": "stdout",
     "output_type": "stream",
     "text": [
      "0.0006418376738908429\n"
     ]
    },
    {
     "data": {
      "image/png": "[encoded data removed]",
      "text/plain": [
       "<Figure size 640x480 with 1 Axes>"
      ]
     },
     "metadata": {},
     "output_type": "display_data"
    }
   ],
   "source": [
    "plt.plot(x, mod(x0=x_).detach().numpy())\n",
    "print(((mod(x0=x_).detach().numpy()-un[:, 0:1])**2).mean())\n",
    "plt.show()"
   ]
  },
  {
   "cell_type": "code",
   "execution_count": 22,
   "id": "d778e108",
   "metadata": {},
   "outputs": [
    {
     "name": "stdout",
     "output_type": "stream",
     "text": [
      "0.0006418377944037246\n"
     ]
    }
   ],
   "source": [
    "# PARTIAL CONTROL on the learnable parameters\n",
    "x0 = Symbol(\"x0\")\n",
    "x1 = Symbol(\"x1\")\n",
    "a, b = recovered_params\n",
    "manual_equation = sympy.exp(b*((x0+a)**2))\n",
    "mod = sympytorch.SymPyModule(expressions=[manual_equation])\n",
    "print(((mod(x0=x_).detach().numpy()-un[:, 0:1])**2).mean())"
   ]
  },
  {
   "cell_type": "code",
   "execution_count": 23,
   "id": "81483673",
   "metadata": {},
   "outputs": [
    {
     "name": "stdout",
     "output_type": "stream",
     "text": [
      "0.0006418377469256779\n"
     ]
    },
    {
     "data": {
      "text/plain": [
       "([Parameter containing:\n",
       "  tensor(2.0148, requires_grad=True)],\n",
       " [Parameter containing:\n",
       "  tensor(-1.0225, requires_grad=True)])"
      ]
     },
     "execution_count": 23,
     "metadata": {},
     "output_type": "execute_result"
    }
   ],
   "source": [
    "# FULLL CONTROL on the learnable parameters\n",
    "mod1 = sympytorch.SymPyModule(expressions=[x0+a])\n",
    "mod2 = sympytorch.SymPyModule(expressions=[sympy.exp(b*x1**2)])\n",
    "print(((mod2(x1=mod1(x0=x_).flatten()).detach().numpy()-un[:, 0:1])**2).mean())\n",
    "list(mod1.parameters()), list(mod2.parameters())"
   ]
  },
  {
   "cell_type": "code",
   "execution_count": 24,
   "id": "0b47a53f",
   "metadata": {},
   "outputs": [
    {
     "data": {
      "text/latex": [
       "$\\displaystyle e^{- 4.1507986414173 \\left(0.496318754168457 x_{0} + 1\\right)^{2}}$"
      ],
      "text/plain": [
       "exp(-4.1507986414173*(0.496318754168457*x0 + 1)**2)"
      ]
     },
     "execution_count": 24,
     "metadata": {},
     "output_type": "execute_result"
    }
   ],
   "source": [
    "sympy_equation"
   ]
  },
  {
   "cell_type": "code",
   "execution_count": 25,
   "id": "9b8c8233",
   "metadata": {},
   "outputs": [
    {
     "data": {
      "text/plain": [
       "0.0006664011032748716"
      ]
     },
     "execution_count": 25,
     "metadata": {},
     "output_type": "execute_result"
    }
   ],
   "source": [
    "func = lambdify(args=sympy.symbols('x0'), expr=\"exp(-1. * square(2. + x0))\")\n",
    "# deter: 0.0006665787665166545\n",
    "# non-deter-1: 0.0006665787695548446\n",
    "((np.vectorize(func)(x)-un[:, 0:1])**2).mean()"
   ]
  },
  {
   "cell_type": "code",
   "execution_count": 26,
   "id": "9ae40571",
   "metadata": {},
   "outputs": [],
   "source": [
    "expr = sympify(equation.equation)"
   ]
  },
  {
   "cell_type": "code",
   "execution_count": 27,
   "id": "475b048b",
   "metadata": {},
   "outputs": [],
   "source": [
    "numbers = [atom for atom in sympify(equation.equation).atoms() if atom.is_number]"
   ]
  },
  {
   "cell_type": "code",
   "execution_count": 28,
   "id": "c163352e",
   "metadata": {},
   "outputs": [
    {
     "data": {
      "text/plain": [
       "[-1.02247580000000, 2.01483420000000]"
      ]
     },
     "execution_count": 28,
     "metadata": {},
     "output_type": "execute_result"
    }
   ],
   "source": [
    "numbers"
   ]
  },
  {
   "cell_type": "code",
   "execution_count": null,
   "id": "d09709fa",
   "metadata": {},
   "outputs": [],
   "source": []
  }
 ],
 "metadata": {
  "kernelspec": {
   "display_name": "Python [conda env:pysr_latest]",
   "language": "python",
   "name": "conda-env-pysr_latest-py"
  },
  "language_info": {
   "codemirror_mode": {
    "name": "ipython",
    "version": 3
   },
   "file_extension": ".py",
   "mimetype": "text/x-python",
   "name": "python",
   "nbconvert_exporter": "python",
   "pygments_lexer": "ipython3",
   "version": "3.11.3"
  },
  "widgets": {
   "application/vnd.jupyter.widget-state+json": {
    "state": {},
    "version_major": 2,
    "version_minor": 0
   }
  }
 },
 "nbformat": 4,
 "nbformat_minor": 5
}
