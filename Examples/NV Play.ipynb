{
 "cells": [
  {
   "cell_type": "code",
   "execution_count": 1,
   "id": "5c8736f7-3fcd-49e0-9367-6a3627c14b26",
   "metadata": {},
   "outputs": [
    {
     "name": "stdout",
     "output_type": "stream",
     "text": [
      "Populating the interactive namespace from numpy and matplotlib\n"
     ]
    }
   ],
   "source": [
    "%load_ext autoreload\n",
    "%autoreload 2\n",
    "%pylab inline\n",
    "pylab.rcParams['figure.figsize'] = (12, 8)\n",
    "import warnings; warnings.filterwarnings(\"ignore\")\n",
    "\n",
    "import numpy as np\n",
    "import pandas as pd\n",
    "from mpl_toolkits.mplot3d import Axes3D\n",
    "from sympy import symbols\n",
    "\n",
    "import sys; sys.path.append('../')\n",
    "from PDE_FIND import *\n",
    "\n",
    "import sys; sys.path.append('../../parametric-discovery/')\n",
    "from best_subset import *\n",
    "from frols import frols\n",
    "from p_linear_regression import PLinearRegression\n",
    "from r_pca import R_pca\n",
    "from pde_diff_new import RPCA\n",
    "from RobustPCA.rpca import RobustPCA\n",
    "\n",
    "import scipy.io as sio\n",
    "from scipy.signal import savgol_filter\n",
    "import itertools\n",
    "\n",
    "from sklearn.preprocessing import normalize\n",
    "from sklearn.linear_model import Ridge, BayesianRidge, LinearRegression as SkLinearRegression\n",
    "from sklearn.base import BaseEstimator\n",
    "from sklearn.pipeline import make_pipeline\n",
    "from sklearn.metrics import mean_squared_error\n",
    "from abess.linear import LinearRegression\n",
    "from bess import PdasLm\n",
    "import pysindy as ps\n",
    "\n",
    "from tqdm import trange\n",
    "from os.path import join as join_path\n",
    "FIGURE_EXPORT_PATH = \"/Users/pongpisit/Documents/figure_export/\""
   ]
  },
  {
   "cell_type": "code",
   "execution_count": 2,
   "id": "f428bf63-f8aa-4de3-97c8-dd17f45a8c55",
   "metadata": {},
   "outputs": [],
   "source": [
    "def nonzero(wei):\n",
    "    return tuple(np.nonzero(wei)[0])\n",
    "\n",
    "def check_percent(bic_scores, complexities):\n",
    "    slope = (bic_scores[1:]-bic_scores[:-1])/(complexities[1:]-complexities[:-1])\n",
    "    slope_index = np.argmin(slope)\n",
    "    percent_improve = 100*np.abs(bic_scores[slope_index+1]-bic_scores[slope_index])/np.abs(bic_scores[slope_index])\n",
    "    percent_from_1 = 100*np.abs(bic_scores[slope_index+1]-bic_scores[0])/np.abs(bic_scores[0])\n",
    "    return slope_index+1, percent_improve, percent_from_1\n",
    "\n",
    "def percent_coeff(pred, ground):\n",
    "    return 100*(np.abs(pred-ground)/np.abs(ground))"
   ]
  },
  {
   "cell_type": "code",
   "execution_count": 3,
   "id": "0e366b04-cdf3-40e8-9cfc-b0e0c25ea165",
   "metadata": {},
   "outputs": [],
   "source": [
    "U = np.load('../Datasets/course_timestep_cylinder/Cylinder_U.npy')\n",
    "V = np.load('../Datasets/course_timestep_cylinder/Cylinder_V.npy')\n",
    "W = np.load('../Datasets/course_timestep_cylinder/Cylinder_W.npy')\n",
    "\n",
    "dt = 0.2\n",
    "dx = 0.02\n",
    "dy = 0.02"
   ]
  },
  {
   "cell_type": "code",
   "execution_count": 4,
   "id": "38789883-e9ed-4262-b484-0a86bf76991f",
   "metadata": {},
   "outputs": [],
   "source": [
    "xmin = 100\n",
    "xmax = 425\n",
    "ymin = 15\n",
    "ymax = 185\n",
    "\n",
    "x = (np.arange(449)*dx)[xmin:xmax]\n",
    "y = (np.arange(199)*dy)[ymin:ymax]\n",
    "t = np.arange(151)*dt\n",
    "\n",
    "W = W[xmin:xmax,ymin:ymax,:]\n",
    "U = U[xmin:xmax,ymin:ymax,:]\n",
    "V = V[xmin:xmax,ymin:ymax,:]"
   ]
  },
  {
   "cell_type": "code",
   "execution_count": 5,
   "id": "450112c3-065c-4a0c-94b2-4801932031fc",
   "metadata": {},
   "outputs": [],
   "source": [
    "def col_vec(vec): return vec.reshape(-1, 1)"
   ]
  },
  {
   "cell_type": "code",
   "execution_count": 6,
   "id": "435ad57b-c77f-46da-bd05-7ce6344148a9",
   "metadata": {},
   "outputs": [],
   "source": [
    "fd = ps.SmoothedFiniteDifference(axis=-1)\n",
    "wt = fd._differentiate(W, t=t).reshape(-1, 1)\n",
    "\n",
    "fd = ps.SmoothedFiniteDifference(axis=0)\n",
    "wx = fd._differentiate(W, t=x)\n",
    "wxx = fd._differentiate(wx, t=x)\n",
    "fd = ps.SmoothedFiniteDifference(axis=1)\n",
    "wy = fd._differentiate(W, t=y)\n",
    "wyy = fd._differentiate(wy, t=y)\n",
    "wxy = fd._differentiate(wx, t=y)\n",
    "\n",
    "fd = ps.SmoothedFiniteDifference(axis=-1)\n",
    "wt = fd._differentiate(W, t=t).reshape(-1, 1)\n",
    "\n",
    "w = col_vec(W)\n",
    "u = col_vec(U)\n",
    "v = col_vec(V)\n",
    "wt = col_vec(wt)\n",
    "wx = col_vec(wx)\n",
    "wy = col_vec(wy)\n",
    "wxx = col_vec(wxx)\n",
    "wxy = col_vec(wxy)\n",
    "wyy = col_vec(wyy)"
   ]
  },
  {
   "cell_type": "code",
   "execution_count": 7,
   "id": "a0908539-3e15-486d-a973-120c7c4730e7",
   "metadata": {},
   "outputs": [],
   "source": [
    "theta = np.hstack([w, u, v, wx, wy, wxx, wxy, wyy])"
   ]
  },
  {
   "cell_type": "code",
   "execution_count": 8,
   "id": "8ddec8ed-1509-4ef7-9f77-e20059e0beb6",
   "metadata": {},
   "outputs": [],
   "source": [
    "from sklearn.preprocessing import PolynomialFeatures\n",
    "poly_transformer = PolynomialFeatures(interaction_only=True, include_bias=False)\n",
    "theta = poly_transformer.fit_transform(theta)\n",
    "basis_names = ['w', 'u', 'v', 'w_{x}', 'w_{y}','w_{xx}','w_{xy}','w_{yy}']\n",
    "description = [''.join([basis_names[int(e)] for e in fn.replace('x', '').split()]) for fn in poly_transformer.get_feature_names_out()]"
   ]
  },
  {
   "cell_type": "code",
   "execution_count": 9,
   "id": "e77fa604-381a-4851-96a9-50d06ba8ead7",
   "metadata": {},
   "outputs": [],
   "source": [
    "# Form Theta using up to quadratic polynomials in all variables.\n",
    "# X_data = np.hstack([w,u,v])\n",
    "# X_ders = np.hstack([np.ones((w.shape[0],1)), wx, wy, wxx, wxy, wyy])\n",
    "# X_ders_descr = ['','w_{x}', 'w_{y}','w_{xx}','w_{xy}','w_{yy}']\n",
    "# X, description = build_Theta(X_data, X_ders, X_ders_descr, 2, data_description = ['w','u','v'])"
   ]
  },
  {
   "cell_type": "code",
   "execution_count": 10,
   "id": "c76fc38b-a2f2-4853-8c2b-5810550b518e",
   "metadata": {},
   "outputs": [
    {
     "name": "stdout",
     "output_type": "stream",
     "text": [
      "(3,)\n",
      "-22756481.79869665\n",
      "(3, 22)\n",
      "-23900992.342734784\n",
      "(7, 16, 22)\n",
      "-49397232.076707594\n",
      "(5, 7, 16, 22)\n",
      "-52873990.62114105\n",
      "(2, 5, 7, 16, 22)\n",
      "-54806790.22714589\n",
      "(2, 5, 7, 15, 16, 22)\n",
      "-55178672.09783288\n",
      "(2, 5, 7, 13, 15, 16, 22)\n",
      "-55340928.83784835\n",
      "(5, 7, 15, 16, 22, 24, 26, 28)\n",
      "-55858475.88903728\n",
      "(2, 5, 7, 15, 16, 22, 24, 26, 28)\n",
      "-56784891.6495166\n"
     ]
    }
   ],
   "source": [
    "lrs = []\n",
    "ebics = []\n",
    "eff_indices = []\n",
    "max_complexity = 10\n",
    "for s in range(1, max_complexity):\n",
    "    lr = LinearRegression(support_size=s, ic_type='bic', always_select=None)\n",
    "    lr.fit(theta, wt)\n",
    "    lrs.append(lr)\n",
    "    eff_indices.append(nonz(lr.coef_))\n",
    "    ebics.append(lr.ic_)\n",
    "    print(nonz(lr.coef_))\n",
    "    print(lr.ic_)\n",
    "abess_feature_hierarchy = set(eff_indices)"
   ]
  },
  {
   "cell_type": "code",
   "execution_count": 11,
   "id": "5d275fc9-19ab-4a50-84ff-814e77fe749f",
   "metadata": {},
   "outputs": [
    {
     "name": "stdout",
     "output_type": "stream",
     "text": [
      "RFE_PLinearRegression\n",
      "(5, 7, 15, 16, 22, 24, 26, 28)\n",
      "(5, 7, 15, 16, 22, 24, 28)\n",
      "(5, 7, 16, 22, 24, 28)\n",
      "(5, 7, 16, 22, 24)\n",
      "(5, 7, 16, 22)\n",
      "(7, 16, 22)\n",
      "(16, 22)\n",
      "(16,)\n",
      "--------------------------------------------------\n",
      "(3, 22)\n",
      "(3,)\n",
      "--------------------------------------------------\n",
      "(2, 5, 7, 15, 16, 22, 24, 26, 28)\n",
      "(2, 5, 7, 16, 22, 24, 26, 28)\n",
      "(2, 5, 7, 16, 22, 24, 28)\n",
      "(2, 5, 7, 16, 22, 28)\n",
      "(2, 5, 7, 16, 22)\n",
      "(5, 7, 16, 22)\n",
      "--------------------------------------------------\n",
      "(2, 5, 7, 13, 15, 16, 22)\n",
      "(2, 5, 7, 15, 16, 22)\n",
      "(2, 5, 7, 16, 22)\n",
      "--------------------------------------------------\n",
      "(2, 5, 7, 16, 22)\n",
      "--------------------------------------------------\n",
      "(5, 7, 16, 22)\n",
      "--------------------------------------------------\n",
      "(2, 5, 7, 15, 16, 22)\n",
      "--------------------------------------------------\n",
      "(7, 16, 22)\n",
      "--------------------------------------------------\n",
      "SelectKBest\n",
      "(5, 7, 15, 16, 22, 24, 26, 28)\n",
      "(5, 7, 15, 16, 22, 24, 28)\n",
      "(5, 7, 16, 22, 24, 28)\n",
      "(5, 7, 16, 22, 24)\n",
      "(5, 7, 16, 22)\n",
      "(7, 16, 22)\n",
      "(16, 22)\n",
      "(16,)\n",
      "--------------------------------------------------\n",
      "(3, 22)\n",
      "(3,)\n",
      "--------------------------------------------------\n",
      "(2, 5, 7, 15, 16, 22, 24, 26, 28)\n",
      "(2, 5, 7, 16, 22, 24, 26, 28)\n",
      "(2, 5, 7, 16, 22, 24, 28)\n",
      "(2, 5, 7, 16, 22, 28)\n",
      "(2, 5, 7, 16, 22)\n",
      "(5, 7, 16, 22)\n",
      "--------------------------------------------------\n",
      "(2, 5, 7, 13, 15, 16, 22)\n",
      "(2, 5, 7, 15, 16, 22)\n",
      "(2, 5, 7, 16, 22)\n",
      "--------------------------------------------------\n",
      "(2, 5, 7, 16, 22)\n",
      "--------------------------------------------------\n",
      "(5, 7, 16, 22)\n",
      "--------------------------------------------------\n",
      "(2, 5, 7, 15, 16, 22)\n",
      "--------------------------------------------------\n",
      "(7, 16, 22)\n",
      "--------------------------------------------------\n"
     ]
    },
    {
     "data": {
      "text/plain": [
       "{1: ((3,), 6701971.368732434), 2: ((16, 22), -8899707.81245153), 3: ((7, 16, 22), -19938776.68029077), 4: ((5, 7, 16, 22), -23415533.17342277), 5: ((2, 5, 7, 16, 22), -25348336.844904445), 6: ((2, 5, 7, 15, 16, 22), -25720216.463609237), 7: ((2, 5, 7, 16, 22, 24, 28), -26705352.991840046), 8: ((2, 5, 7, 16, 22, 24, 26, 28), -26997442.985712484), 9: ((2, 5, 7, 15, 16, 22, 24, 26, 28), -27326435.69842902)}"
      ]
     },
     "execution_count": 11,
     "metadata": {},
     "output_type": "execute_result"
    }
   ],
   "source": [
    "br1 = backward_refinement(abess_feature_hierarchy, (theta, wt), mode='rfe', ic_type='bic', verbose=True)\n",
    "br2 = backward_refinement(abess_feature_hierarchy, (theta, wt), mode='k best', ic_type='bic', verbose=True)\n",
    "br_u=br1+br2; br_u"
   ]
  },
  {
   "cell_type": "code",
   "execution_count": 12,
   "id": "6cf2cc6d-1461-46bc-85cd-70d791b12514",
   "metadata": {},
   "outputs": [
    {
     "name": "stdout",
     "output_type": "stream",
     "text": [
      "(3,) 6701971.368732434\n",
      "(16, 22) -8899707.81245153\n",
      "(7, 16, 22) -19938776.68029077\n",
      "(5, 7, 16, 22) -23415533.17342277\n",
      "(2, 5, 7, 16, 22) -25348336.844904445\n",
      "(2, 5, 7, 15, 16, 22) -25720216.463609237\n",
      "(2, 5, 7, 16, 22, 24, 28) -26705352.991840046\n",
      "(2, 5, 7, 16, 22, 24, 26, 28) -26997442.985712484\n",
      "(2, 5, 7, 15, 16, 22, 24, 26, 28) -27326435.69842902\n"
     ]
    }
   ],
   "source": [
    "complexities = np.array(sorted(list(br_u.track.keys())))\n",
    "bic_scores = []\n",
    "eff_feature_names = []\n",
    "for com in complexities:\n",
    "    indices, bic = br_u.track[com]\n",
    "    bic_scores.append(bic)\n",
    "    print(indices, bic)\n",
    "bic_scores = np.array(bic_scores)\n",
    "min_bic_score = np.min(bic_scores)\n",
    "div_scale = 1e3\n",
    "rel_bic_scores = (bic_scores-min_bic_score)/div_scale"
   ]
  },
  {
   "cell_type": "code",
   "execution_count": 13,
   "id": "6f8bb984-1bd0-46f8-b2e4-931e6485a9a4",
   "metadata": {},
   "outputs": [
    {
     "data": {
      "image/png": "[encoded data removed]",
      "text/plain": [
       "<Figure size 350x262.5 with 1 Axes>"
      ]
     },
     "metadata": {},
     "output_type": "display_data"
    }
   ],
   "source": [
    "with plt.style.context('science'):\n",
    "    fig, ax = plt.subplots()\n",
    "    ax.plot(complexities, rel_bic_scores, color='black', linewidth=2.5//2)\n",
    "    ax.scatter(complexities, rel_bic_scores, marker='o', c='black', s=25)\n",
    "    plt.xlim(min(complexities)-0.3,max(complexities)+0.3)\n",
    "    plt.ylabel(r\"Relative BIC ($\\times 10^{3}$)\")\n",
    "    plt.xlabel(\"Complexity\")\n",
    "    plt.tight_layout()\n",
    "    plt.show()"
   ]
  },
  {
   "cell_type": "code",
   "execution_count": null,
   "id": "1ddb549f-abde-4cee-a577-53348ad71b35",
   "metadata": {},
   "outputs": [],
   "source": []
  }
 ],
 "metadata": {
  "kernelspec": {
   "display_name": "Python [conda env:py3.7]",
   "language": "python",
   "name": "conda-env-py3.7-py"
  },
  "language_info": {
   "codemirror_mode": {
    "name": "ipython",
    "version": 3
   },
   "file_extension": ".py",
   "mimetype": "text/x-python",
   "name": "python",
   "nbconvert_exporter": "python",
   "pygments_lexer": "ipython3",
   "version": "3.7.12"
  },
  "widgets": {
   "application/vnd.jupyter.widget-state+json": {
    "state": {},
    "version_major": 2,
    "version_minor": 0
   }
  }
 },
 "nbformat": 4,
 "nbformat_minor": 5
}
