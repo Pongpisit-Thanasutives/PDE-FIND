{
 "cells": [
  {
   "cell_type": "code",
   "execution_count": 1,
   "id": "7b8892a6-fcba-4385-95b4-da16ef26123b",
   "metadata": {},
   "outputs": [],
   "source": [
    "from celer import GroupLasso"
   ]
  },
  {
   "cell_type": "code",
   "execution_count": 2,
   "id": "14a16922-827d-4328-bf6f-45d169634fe1",
   "metadata": {},
   "outputs": [],
   "source": [
    "clf = GroupLasso(alpha=0.5, groups=[[0, 1], [2]])"
   ]
  },
  {
   "cell_type": "code",
   "execution_count": 3,
   "id": "5db11a59-eb4a-4782-830a-1aae57fc4754",
   "metadata": {},
   "outputs": [
    {
     "data": {
      "text/plain": [
       "GroupLasso(alpha=0.5, groups=[[0, 1], [2]])"
      ]
     },
     "execution_count": 3,
     "metadata": {},
     "output_type": "execute_result"
    }
   ],
   "source": [
    "clf.fit([[0, 0, 1], [1, -1, 2], [2, 0, -1]], [1, 1, -1])"
   ]
  },
  {
   "cell_type": "code",
   "execution_count": 4,
   "id": "cecd2809-a135-40a0-961f-26604a54caf5",
   "metadata": {},
   "outputs": [
    {
     "data": {
      "text/plain": [
       "array([-0.        , -0.        ,  0.39285714])"
      ]
     },
     "execution_count": 4,
     "metadata": {},
     "output_type": "execute_result"
    }
   ],
   "source": [
    "clf.coef_"
   ]
  },
  {
   "cell_type": "code",
   "execution_count": null,
   "id": "9ae5875d-b81f-4921-ba86-847902020a06",
   "metadata": {},
   "outputs": [],
   "source": []
  }
 ],
 "metadata": {
  "kernelspec": {
   "display_name": "Python 3 (ipykernel)",
   "language": "python",
   "name": "python3"
  },
  "language_info": {
   "codemirror_mode": {
    "name": "ipython",
    "version": 3
   },
   "file_extension": ".py",
   "mimetype": "text/x-python",
   "name": "python",
   "nbconvert_exporter": "python",
   "pygments_lexer": "ipython3",
   "version": "3.7.12"
  },
  "widgets": {
   "application/vnd.jupyter.widget-state+json": {
    "state": {},
    "version_major": 2,
    "version_minor": 0
   }
  }
 },
 "nbformat": 4,
 "nbformat_minor": 5
}
