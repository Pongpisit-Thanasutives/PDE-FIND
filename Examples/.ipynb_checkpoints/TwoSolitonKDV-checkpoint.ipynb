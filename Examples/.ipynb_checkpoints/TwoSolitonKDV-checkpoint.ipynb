{
 "cells": [
  {
   "cell_type": "code",
   "execution_count": 1,
   "metadata": {},
   "outputs": [
    {
     "name": "stdout",
     "output_type": "stream",
     "text": [
      "%pylab is deprecated, use %matplotlib inline and import the required libraries.\n",
      "Populating the interactive namespace from numpy and matplotlib\n"
     ]
    }
   ],
   "source": [
    "%pylab inline\n",
    "pylab.rcParams['figure.figsize'] = (12, 8)\n",
    "import numpy as np\n",
    "from mpl_toolkits.mplot3d import Axes3D\n",
    "import sys; sys.path.append('../')\n",
    "from PDE_FIND import *\n",
    "import scipy.io as sio\n",
    "from solvel0 import solvel0"
   ]
  },
  {
   "cell_type": "code",
   "execution_count": 2,
   "metadata": {},
   "outputs": [],
   "source": [
    "# Load data\n",
    "# Performance clean -> noisy: (0.9839602959700673, 0.24061821721541404) -> (8.341118495041858, 5.442756516022514)\n",
    "data = sio.loadmat('../Datasets/kdv.mat')\n",
    "U = real(data['usol'])\n",
    "x = data['x'][0]\n",
    "t = data['t'][:,0]\n",
    "n,m = U.shape #512, 201\n",
    "dt = t[1]-t[0]\n",
    "dx = x[1]-x[0]"
   ]
  },
  {
   "cell_type": "code",
   "execution_count": 3,
   "metadata": {},
   "outputs": [],
   "source": [
    "data = sio.loadmat('../Datasets/KdV_sine_rep.mat')\n",
    "U = real(data['usol'])\n",
    "x = data['x'][0]\n",
    "t = data['t'][0]\n",
    "n,m = U.shape\n",
    "dt = t[1]-t[0]\n",
    "dx = x[1]-x[0]"
   ]
  },
  {
   "cell_type": "code",
   "execution_count": 4,
   "metadata": {},
   "outputs": [
    {
     "data": {
      "image/png": "[encoded data removed]",
      "text/plain": [
       "<Figure size 864x576 with 1 Axes>"
      ]
     },
     "metadata": {
      "needs_background": "light"
     },
     "output_type": "display_data"
    }
   ],
   "source": [
    "X, T = np.meshgrid(x, t)\n",
    "plt.contourf(U)\n",
    "plt.show()"
   ]
  },
  {
   "cell_type": "markdown",
   "metadata": {},
   "source": [
    "## Construct $\\Theta (U)$ and compute $U_t$\n",
    "\n",
    "The function build_linear_system does this for us.  We specify <br>\n",
    "D = highest derivative to appear in $\\Theta$  <br>\n",
    "P = highest degree polynomial of $u$ to appear in $\\Theta$ (not including multiplication by a derivative.  <br>\n",
    "time_diff and space_diff taken via finite differences\n",
    "\n",
    "Printed out is a list of candidate functions for the PDE.  Each is a column of $\\Theta (U)$"
   ]
  },
  {
   "cell_type": "code",
   "execution_count": 5,
   "metadata": {},
   "outputs": [
    {
     "data": {
      "text/plain": [
       "['1',\n",
       " 'u',\n",
       " 'u^2',\n",
       " 'u_{x}',\n",
       " 'uu_{x}',\n",
       " 'u^2u_{x}',\n",
       " 'u_{xx}',\n",
       " 'uu_{xx}',\n",
       " 'u^2u_{xx}',\n",
       " 'u_{xxx}',\n",
       " 'uu_{xxx}',\n",
       " 'u^2u_{xxx}']"
      ]
     },
     "execution_count": 5,
     "metadata": {},
     "output_type": "execute_result"
    }
   ],
   "source": [
    "Ut, R, rhs_des = build_linear_system(U, dt, dx, D=3, P=2, time_diff = 'FD', space_diff = 'FD')\n",
    "['1']+rhs_des[1:]"
   ]
  },
  {
   "cell_type": "markdown",
   "metadata": {},
   "source": [
    "## Solve for $\\xi$\n",
    "\n",
    "TrainSTRidge splits the data up into 80% for training and 20% for validation.  It searches over various tolerances in the STRidge algorithm and finds the one with the best performance on the validation set, including an $\\ell^0$ penalty for $\\xi$ in the loss function."
   ]
  },
  {
   "cell_type": "code",
   "execution_count": 6,
   "metadata": {},
   "outputs": [
    {
     "name": "stdout",
     "output_type": "stream",
     "text": [
      "l0_penalty: 0.038903388977050785\n",
      "PDE derived using STRidge\n",
      "u_t = (-1.000743 +0.000000i)uu_{x}\n",
      "    + (-1.002563 +0.000000i)u_{xxx}\n",
      "   \n"
     ]
    }
   ],
   "source": [
    "# Solve with STRidge using 2-norm normalization\n",
    "w = TrainSTRidge(R,Ut,1e-5,5)\n",
    "print(\"PDE derived using STRidge\")\n",
    "print_pde(w, rhs_des)"
   ]
  },
  {
   "cell_type": "code",
   "execution_count": 7,
   "metadata": {},
   "outputs": [
    {
     "data": {
      "text/plain": [
       "(0.16528568564470048, 0.09103430001701218)"
      ]
     },
     "execution_count": 7,
     "metadata": {},
     "output_type": "execute_result"
    }
   ],
   "source": [
    "ground = np.array([-1, -1])\n",
    "errs = 100*np.abs((w[np.abs(w)>0].real)-ground)/np.abs(ground)\n",
    "errs.mean(), errs.std()"
   ]
  },
  {
   "cell_type": "markdown",
   "metadata": {},
   "source": [
    "## Now identify the same dynamics but with added noise.\n",
    "\n",
    "The only difference from above is that finite differences work poorly for noisy data so here we use polynomial interpolation.  With deg_x or deg_t and width_x or width_t we specify the degree number of points used to fit the polynomials used for differentiating x or t.  Unfortunately, the result can be sensitive to these."
   ]
  },
  {
   "cell_type": "code",
   "execution_count": 8,
   "metadata": {},
   "outputs": [],
   "source": [
    "numpy.random.seed(0)\n",
    "noise_lv = 1\n",
    "Un = U + 0.01*abs(noise_lv)*std(U)*np.random.randn(n,m)"
   ]
  },
  {
   "cell_type": "code",
   "execution_count": 9,
   "metadata": {},
   "outputs": [],
   "source": [
    "Utn, Rn, rhs_des = build_linear_system(Un, dt, dx, D=3, P=2, \n",
    "                                       time_diff = 'poly', space_diff = 'poly', \n",
    "                                       width_x = 20, width_t = 10, deg_x = 5)"
   ]
  },
  {
   "cell_type": "code",
   "execution_count": 10,
   "metadata": {},
   "outputs": [],
   "source": [
    "Rn = real(Rn[:, 1:])\n",
    "Utn = real(Utn)\n",
    "rhs_des = rhs_des[1:]"
   ]
  },
  {
   "cell_type": "code",
   "execution_count": 11,
   "metadata": {},
   "outputs": [
    {
     "name": "stdout",
     "output_type": "stream",
     "text": [
      "l0_penalty: 0.031296062469482425\n",
      "PDE derived using STRidge\n",
      "u_t = (-0.854944 +0.000000i)uu_{x}\n",
      "    + (-0.102883 +0.000000i)u^2u_{x}\n",
      "    + (-0.747741 +0.000000i)u_{xxx}\n",
      "    + (-0.196945 +0.000000i)uu_{xxx}\n",
      "   \n"
     ]
    }
   ],
   "source": [
    "# Solve with STRidge using 2-norm normalization\n",
    "wn = TrainSTRidge(Rn,Utn,1e-5,5)\n",
    "print(\"PDE derived using STRidge\")\n",
    "print_pde(wn, rhs_des)"
   ]
  },
  {
   "cell_type": "code",
   "execution_count": 12,
   "metadata": {},
   "outputs": [
    {
     "name": "stdout",
     "output_type": "stream",
     "text": [
      "Set parameter Username\n",
      "Academic license - for non-commercial use only - expires 2024-06-04\n"
     ]
    }
   ],
   "source": [
    "grb_solve = solvel0(Rn, Utn)"
   ]
  },
  {
   "cell_type": "code",
   "execution_count": 13,
   "metadata": {},
   "outputs": [
    {
     "data": {
      "text/plain": [
       "['uu_{x}', 'u_{xxx}']"
      ]
     },
     "execution_count": 13,
     "metadata": {},
     "output_type": "execute_result"
    }
   ],
   "source": [
    "[rhs_des[e] for e in range(len(rhs_des)) if e in grb_solve[1]]"
   ]
  },
  {
   "cell_type": "code",
   "execution_count": 14,
   "metadata": {},
   "outputs": [
    {
     "name": "stdout",
     "output_type": "stream",
     "text": [
      "u_t = (-0.794076 +0.000000i)uu_{x}\n",
      "    + (-0.788065 +0.000000i)u_{xxx}\n",
      "   \n"
     ]
    }
   ],
   "source": [
    "ww = np.linalg.lstsq(Rn[:, grb_solve[1]], Utn, rcond=None)[0]\n",
    "print_pde(ww, [rhs_des[e] for e in range(len(rhs_des)) if e in grb_solve[1]])"
   ]
  },
  {
   "cell_type": "code",
   "execution_count": 15,
   "metadata": {},
   "outputs": [
    {
     "data": {
      "text/plain": [
       "(20.89295983314514, 0.3005385398864746)"
      ]
     },
     "execution_count": 15,
     "metadata": {},
     "output_type": "execute_result"
    }
   ],
   "source": [
    "ground = np.array([-1, -1])\n",
    "errs = 100*np.abs((ww[np.abs(ww)>0].real)-ground)/np.abs(ground)\n",
    "errs.mean(), errs.std()"
   ]
  }
 ],
 "metadata": {
  "anaconda-cloud": {},
  "kernelspec": {
   "display_name": "Python [conda env:pysr]",
   "language": "python",
   "name": "conda-env-pysr-py"
  },
  "language_info": {
   "codemirror_mode": {
    "name": "ipython",
    "version": 3
   },
   "file_extension": ".py",
   "mimetype": "text/x-python",
   "name": "python",
   "nbconvert_exporter": "python",
   "pygments_lexer": "ipython3",
   "version": "3.10.10"
  }
 },
 "nbformat": 4,
 "nbformat_minor": 1
}
