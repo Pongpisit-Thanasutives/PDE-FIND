{
 "cells": [
  {
   "cell_type": "code",
   "execution_count": 1,
   "id": "5c8736f7-3fcd-49e0-9367-6a3627c14b26",
   "metadata": {},
   "outputs": [
    {
     "name": "stdout",
     "output_type": "stream",
     "text": [
      "Populating the interactive namespace from numpy and matplotlib\n"
     ]
    }
   ],
   "source": [
    "%load_ext autoreload\n",
    "%autoreload 2\n",
    "%pylab inline\n",
    "pylab.rcParams['figure.figsize'] = (12, 8)\n",
    "import warnings; warnings.filterwarnings(\"ignore\")\n",
    "\n",
    "import numpy as np\n",
    "import pandas as pd\n",
    "from mpl_toolkits.mplot3d import Axes3D\n",
    "from sympy import symbols\n",
    "\n",
    "import sys; sys.path.append('../')\n",
    "from PDE_FIND import *\n",
    "\n",
    "import sys; sys.path.append('../../parametric-discovery/')\n",
    "from best_subset import *\n",
    "from frols import frols\n",
    "from p_linear_regression import PLinearRegression\n",
    "from r_pca import R_pca\n",
    "from pde_diff_new import RPCA\n",
    "from RobustPCA.rpca import RobustPCA\n",
    "\n",
    "import scipy.io as sio\n",
    "from scipy.signal import savgol_filter\n",
    "import itertools\n",
    "\n",
    "from sklearn.preprocessing import normalize\n",
    "from sklearn.linear_model import Ridge, BayesianRidge, LinearRegression as SkLinearRegression\n",
    "from sklearn.base import BaseEstimator\n",
    "from sklearn.pipeline import make_pipeline\n",
    "from sklearn.metrics import mean_squared_error\n",
    "from abess.linear import LinearRegression\n",
    "from bess import PdasLm\n",
    "import pysindy as ps\n",
    "\n",
    "from tqdm import trange\n",
    "from os.path import join as join_path\n",
    "FIGURE_EXPORT_PATH = \"/Users/pongpisit/Documents/figure_export/\"\n",
    "\n",
    "np.random.seed(100)"
   ]
  },
  {
   "cell_type": "code",
   "execution_count": 2,
   "id": "f428bf63-f8aa-4de3-97c8-dd17f45a8c55",
   "metadata": {},
   "outputs": [],
   "source": [
    "def check_percent(bic_scores, complexities):\n",
    "    slope = (bic_scores[1:]-bic_scores[:-1])/(complexities[1:]-complexities[:-1])\n",
    "    slope_index = np.argmin(slope)\n",
    "    percent_improve = 100*np.abs(bic_scores[slope_index+1]-bic_scores[slope_index])/np.abs(bic_scores[slope_index])\n",
    "    percent_from_1 = 100*np.abs(bic_scores[slope_index+1]-bic_scores[0])/np.abs(bic_scores[0])\n",
    "    return slope_index+1, percent_improve, percent_from_1\n",
    "\n",
    "def percent_coeff(pred, ground):\n",
    "    return 100*(np.abs(pred-ground)/np.abs(ground))"
   ]
  },
  {
   "cell_type": "code",
   "execution_count": 3,
   "id": "0e366b04-cdf3-40e8-9cfc-b0e0c25ea165",
   "metadata": {},
   "outputs": [
    {
     "data": {
      "text/plain": [
       "(array([-1.25     , -1.2109375, -1.171875 , -1.1328125, -1.09375  ,\n",
       "        -1.0546875, -1.015625 , -0.9765625, -0.9375   , -0.8984375,\n",
       "        -0.859375 , -0.8203125, -0.78125  , -0.7421875, -0.703125 ,\n",
       "        -0.6640625, -0.625    , -0.5859375, -0.546875 , -0.5078125,\n",
       "        -0.46875  , -0.4296875, -0.390625 , -0.3515625, -0.3125   ,\n",
       "        -0.2734375, -0.234375 , -0.1953125, -0.15625  , -0.1171875,\n",
       "        -0.078125 , -0.0390625,  0.       ,  0.0390625,  0.078125 ,\n",
       "         0.1171875,  0.15625  ,  0.1953125,  0.234375 ,  0.2734375,\n",
       "         0.3125   ,  0.3515625,  0.390625 ,  0.4296875,  0.46875  ,\n",
       "         0.5078125,  0.546875 ,  0.5859375,  0.625    ,  0.6640625,\n",
       "         0.703125 ,  0.7421875,  0.78125  ,  0.8203125,  0.859375 ,\n",
       "         0.8984375,  0.9375   ,  0.9765625,  1.015625 ,  1.0546875,\n",
       "         1.09375  ,  1.1328125,  1.171875 ,  1.2109375]),\n",
       " array([-1.25     , -1.2109375, -1.171875 , -1.1328125, -1.09375  ,\n",
       "        -1.0546875, -1.015625 , -0.9765625, -0.9375   , -0.8984375,\n",
       "        -0.859375 , -0.8203125, -0.78125  , -0.7421875, -0.703125 ,\n",
       "        -0.6640625, -0.625    , -0.5859375, -0.546875 , -0.5078125,\n",
       "        -0.46875  , -0.4296875, -0.390625 , -0.3515625, -0.3125   ,\n",
       "        -0.2734375, -0.234375 , -0.1953125, -0.15625  , -0.1171875,\n",
       "        -0.078125 , -0.0390625,  0.       ,  0.0390625,  0.078125 ,\n",
       "         0.1171875,  0.15625  ,  0.1953125,  0.234375 ,  0.2734375,\n",
       "         0.3125   ,  0.3515625,  0.390625 ,  0.4296875,  0.46875  ,\n",
       "         0.5078125,  0.546875 ,  0.5859375,  0.625    ,  0.6640625,\n",
       "         0.703125 ,  0.7421875,  0.78125  ,  0.8203125,  0.859375 ,\n",
       "         0.8984375,  0.9375   ,  0.9765625,  1.015625 ,  1.0546875,\n",
       "         1.09375  ,  1.1328125,  1.171875 ,  1.2109375]),\n",
       " array([-1.25     , -1.2109375, -1.171875 , -1.1328125, -1.09375  ,\n",
       "        -1.0546875, -1.015625 , -0.9765625, -0.9375   , -0.8984375,\n",
       "        -0.859375 , -0.8203125, -0.78125  , -0.7421875, -0.703125 ,\n",
       "        -0.6640625, -0.625    , -0.5859375, -0.546875 , -0.5078125,\n",
       "        -0.46875  , -0.4296875, -0.390625 , -0.3515625, -0.3125   ,\n",
       "        -0.2734375, -0.234375 , -0.1953125, -0.15625  , -0.1171875,\n",
       "        -0.078125 , -0.0390625,  0.       ,  0.0390625,  0.078125 ,\n",
       "         0.1171875,  0.15625  ,  0.1953125,  0.234375 ,  0.2734375,\n",
       "         0.3125   ,  0.3515625,  0.390625 ,  0.4296875,  0.46875  ,\n",
       "         0.5078125,  0.546875 ,  0.5859375,  0.625    ,  0.6640625,\n",
       "         0.703125 ,  0.7421875,  0.78125  ,  0.8203125,  0.859375 ,\n",
       "         0.8984375,  0.9375   ,  0.9765625,  1.015625 ,  1.0546875,\n",
       "         1.09375  ,  1.1328125,  1.171875 ,  1.2109375]),\n",
       " array([ 0.        ,  0.1010101 ,  0.2020202 ,  0.3030303 ,  0.4040404 ,\n",
       "         0.50505051,  0.60606061,  0.70707071,  0.80808081,  0.90909091,\n",
       "         1.01010101,  1.11111111,  1.21212121,  1.31313131,  1.41414141,\n",
       "         1.51515152,  1.61616162,  1.71717172,  1.81818182,  1.91919192,\n",
       "         2.02020202,  2.12121212,  2.22222222,  2.32323232,  2.42424242,\n",
       "         2.52525253,  2.62626263,  2.72727273,  2.82828283,  2.92929293,\n",
       "         3.03030303,  3.13131313,  3.23232323,  3.33333333,  3.43434343,\n",
       "         3.53535354,  3.63636364,  3.73737374,  3.83838384,  3.93939394,\n",
       "         4.04040404,  4.14141414,  4.24242424,  4.34343434,  4.44444444,\n",
       "         4.54545455,  4.64646465,  4.74747475,  4.84848485,  4.94949495,\n",
       "         5.05050505,  5.15151515,  5.25252525,  5.35353535,  5.45454545,\n",
       "         5.55555556,  5.65656566,  5.75757576,  5.85858586,  5.95959596,\n",
       "         6.06060606,  6.16161616,  6.26262626,  6.36363636,  6.46464646,\n",
       "         6.56565657,  6.66666667,  6.76767677,  6.86868687,  6.96969697,\n",
       "         7.07070707,  7.17171717,  7.27272727,  7.37373737,  7.47474747,\n",
       "         7.57575758,  7.67676768,  7.77777778,  7.87878788,  7.97979798,\n",
       "         8.08080808,  8.18181818,  8.28282828,  8.38383838,  8.48484848,\n",
       "         8.58585859,  8.68686869,  8.78787879,  8.88888889,  8.98989899,\n",
       "         9.09090909,  9.19191919,  9.29292929,  9.39393939,  9.49494949,\n",
       "         9.5959596 ,  9.6969697 ,  9.7979798 ,  9.8989899 , 10.        ]))"
      ]
     },
     "execution_count": 3,
     "metadata": {},
     "output_type": "execute_result"
    }
   ],
   "source": [
    "n = 64\n",
    "data = sio.loadmat(f\"../Datasets/reaction_diffusion_3d_{n}.mat\")\n",
    "u_sol = real(data['usol'])\n",
    "v_sol = real(data['vsol'])\n",
    "x = real(data['x'][0])\n",
    "y = real(data['y'][0])\n",
    "z = real(data['z'][0])\n",
    "t = real(data['t'][0])\n",
    "\n",
    "del data\n",
    "\n",
    "dt = t[1] - t[0]\n",
    "dx = x[1] - x[0]\n",
    "dy = y[1] - y[0]\n",
    "dz = z[1] - z[0]\n",
    "# For WeakPDELibrary\n",
    "ground_indices_u = (0, 1, 5, 9, 15, 23)\n",
    "ground_coeff_u = np.array([0.014, -0.014, -1.000, 0.020, 0.020, 0.020])\n",
    "ground_indices_v = (2, 5, 10, 16, 24)\n",
    "ground_coeff_v = np.array([-0.067, 1.0, 0.01, 0.01, 0.01])\n",
    "\n",
    "x, y, z, t"
   ]
  },
  {
   "cell_type": "code",
   "execution_count": 4,
   "id": "51a0a7f1-5302-46c7-9974-0466b1de2282",
   "metadata": {},
   "outputs": [],
   "source": [
    "time = t\n",
    "u = np.zeros((n, n, n, len(time), 2))\n",
    "u[:, :, :, :, 0] = u_sol\n",
    "u[:, :, :, :, 1] = v_sol\n",
    "# u_dot = ps.FiniteDifference(axis=3)._differentiate(u, dt)\n",
    "\n",
    "# Odd polynomial terms in (u, v), up to second order derivatives in (u, v)\n",
    "library_functions = [\n",
    "    lambda x: x,\n",
    "    lambda x: x * x * x,\n",
    "    lambda x, y: x * y * y,\n",
    "    lambda x, y: x * x * y,\n",
    "]\n",
    "library_function_names = [\n",
    "    lambda x: x,\n",
    "    lambda x: x + x + x,\n",
    "    lambda x, y: x + y + y,\n",
    "    lambda x, y: x + x + y,\n",
    "]\n",
    "\n",
    "# Need to define the 2D spatial grid before calling the library\n",
    "X, Y, Z, T = np.meshgrid(x, y, z, time, indexing=\"ij\")\n",
    "spatiotemporal_grid = np.asarray([X, Y, Z, T])\n",
    "spatiotemporal_grid = np.transpose(spatiotemporal_grid, axes=[1, 2, 3, 4, 0])\n",
    "weak_lib = ps.WeakPDELibrary(\n",
    "    library_functions=library_functions,\n",
    "    function_names=library_function_names,\n",
    "    derivative_order=2,\n",
    "    spatiotemporal_grid=spatiotemporal_grid,\n",
    "    is_uniform=True,\n",
    "    include_interaction=False,\n",
    "    include_bias=True,\n",
    "    periodic=True,\n",
    "    K=10000,\n",
    "    cache=True\n",
    ")"
   ]
  },
  {
   "cell_type": "code",
   "execution_count": 5,
   "id": "7ad8b85d-f21a-491d-ad42-d1c604f86f66",
   "metadata": {},
   "outputs": [],
   "source": [
    "# np.random.seed(100) # pub, little stochastic\n",
    "noise_lvs = [0, 0.04, 0.1]\n",
    "noise_lv = noise_lvs[1]\n",
    "domain_noise = 0.01*np.abs(noise_lv)*np.std(u)*np.random.randn(*u.shape)\n",
    "u = u + domain_noise"
   ]
  },
  {
   "cell_type": "code",
   "execution_count": 6,
   "id": "186a6ed9-e4ce-4734-a664-f27af8c1fdd1",
   "metadata": {},
   "outputs": [
    {
     "name": "stdout",
     "output_type": "stream",
     "text": [
      "(x0)' = 0.014 1 + -0.014 x0 + -1.000 x0x1x1 + 0.020 x0_33 + 0.020 x0_22 + 0.020 x0_11\n",
      "(x1)' = -0.067 x1 + 1.000 x0x1x1 + 0.010 x1_33 + 0.010 x1_22 + 0.010 x1_11\n"
     ]
    }
   ],
   "source": [
    "include_sr3 = True\n",
    "# Fit the 3D reaction-diffusion equation\n",
    "optimizer = ps.SR3(threshold=1e-5, normalize_columns=True, max_iter=100)\n",
    "model = ps.SINDy(feature_library=weak_lib, optimizer=optimizer, cache=True)\n",
    "model.fit(u, ensemble=False, library_ensemble=True)\n",
    "model.print()"
   ]
  },
  {
   "cell_type": "code",
   "execution_count": 7,
   "id": "cb0bae31-7357-4fce-8174-273997affaaa",
   "metadata": {},
   "outputs": [
    {
     "name": "stdout",
     "output_type": "stream",
     "text": [
      "hasattr threshold in optimizer...\n",
      "x0_t = (0.013999 +0.000000i)1\n",
      "    + (-0.013963 +0.000000i)x0\n",
      "    + (-0.999930 +0.000000i)x0x1x1\n",
      "    + (0.019958 +0.000000i)x0_33\n",
      "    + (0.019987 +0.000000i)x0_22\n",
      "    + (0.019991 +0.000000i)x0_11\n",
      "   \n"
     ]
    },
    {
     "data": {
      "text/plain": [
       "(0, 1, 5, 9, 15, 23)"
      ]
     },
     "execution_count": 7,
     "metadata": {},
     "output_type": "execute_result"
    }
   ],
   "source": [
    "_, ensemble_indices_u = model.validate_coef_list(target_index=0, criterion='bic')[0]\n",
    "ensemble_indices_u"
   ]
  },
  {
   "cell_type": "code",
   "execution_count": 8,
   "id": "e00d2a8f-1d40-41c9-9e18-4e1d0b512c1e",
   "metadata": {},
   "outputs": [
    {
     "name": "stdout",
     "output_type": "stream",
     "text": [
      "hasattr threshold in optimizer...\n",
      "x1_t = (-0.066943 +0.000000i)x1\n",
      "    + (0.999939 +0.000000i)x0x1x1\n",
      "    + (0.009982 +0.000000i)x1_33\n",
      "    + (0.009996 +0.000000i)x1_22\n",
      "    + (0.009995 +0.000000i)x1_11\n",
      "   \n"
     ]
    },
    {
     "data": {
      "text/plain": [
       "(2, 5, 10, 16, 24)"
      ]
     },
     "execution_count": 8,
     "metadata": {},
     "output_type": "execute_result"
    }
   ],
   "source": [
    "_, ensemble_indices_v = model.validate_coef_list(target_index=1, criterion='bic')[0]\n",
    "ensemble_indices_v"
   ]
  },
  {
   "cell_type": "code",
   "execution_count": 9,
   "id": "41ce20d8-be68-4bf6-b9df-91fcf1e226bf",
   "metadata": {},
   "outputs": [
    {
     "data": {
      "text/plain": [
       "({(0, 1, 2, 3, 4, 5, 6, 8, 9, 10, 13, 16, 17, 21, 22, 23, 24),\n",
       "  (0, 1, 2, 3, 4, 6, 9, 10, 11, 13, 15, 16, 21, 22, 23, 24),\n",
       "  (0, 1, 5, 9, 15, 23),\n",
       "  (0, 3, 5, 9, 15, 23),\n",
       "  (1, 3, 5, 6, 9, 10, 15, 16, 21, 22, 23)},\n",
       " {(0, 1, 2, 3, 4, 6, 9, 10, 11, 13, 15, 16, 21, 22, 23, 24),\n",
       "  (2, 5, 6, 9, 16, 24),\n",
       "  (2, 5, 10, 16, 24)})"
      ]
     },
     "execution_count": 9,
     "metadata": {},
     "output_type": "execute_result"
    }
   ],
   "source": [
    "# pub 32 v\n",
    "# ({(0, 1, 2, 4, 6, 9, 10, 15, 16, 22, 23, 24),\n",
    "#   (0, 1, 5, 9, 15, 23),\n",
    "#   (0, 1, 5, 10, 15, 23),\n",
    "#   (0, 3, 5, 9, 15, 23)},\n",
    "#  {(0, 1, 2, 3, 4, 5, 9, 10, 17, 21, 24),\n",
    "#   (0, 1, 2, 4, 6, 10, 15, 16, 22, 23, 24),\n",
    "#   (1, 2, 3, 4, 5, 6, 10, 15, 16, 21, 22),\n",
    "#   (1, 4, 5, 6, 10, 16, 22, 24),\n",
    "#   (2, 5, 10, 16, 24)})\n",
    "\n",
    "sr3_u = set()\n",
    "sr3_u.add(ensemble_indices_u)\n",
    "for i in range(len(model.get_coef_list())):\n",
    "    sr3_u.add(nonz(model.get_coef_list()[i][0]))\n",
    "sr3_v = set()\n",
    "sr3_v.add(ensemble_indices_v)\n",
    "for i in range(len(model.get_coef_list())):\n",
    "    sr3_v.add(nonz(model.get_coef_list()[i][1]))\n",
    "sr3_u, sr3_v"
   ]
  },
  {
   "cell_type": "code",
   "execution_count": 10,
   "id": "8f196144-5590-49d3-9cda-677a696e2da7",
   "metadata": {},
   "outputs": [],
   "source": [
    "X_pre, y_pre = model.feature_library.cached_xp_full[0], model.cached_x_dot"
   ]
  },
  {
   "cell_type": "code",
   "execution_count": 11,
   "id": "480c677f-954a-4bd7-a89b-dec21c1c956a",
   "metadata": {},
   "outputs": [],
   "source": [
    "max_complexity = 12; target_index = 1"
   ]
  },
  {
   "cell_type": "code",
   "execution_count": 12,
   "id": "b379cbbb-331e-425f-8b36-192b7c1498e3",
   "metadata": {},
   "outputs": [
    {
     "data": {
      "text/plain": [
       "{(2,), (2, 5, 10, 16, 24), (2, 5, 16, 24), (5, 16, 24)}"
      ]
     },
     "execution_count": 12,
     "metadata": {},
     "output_type": "execute_result"
    }
   ],
   "source": [
    "# pub 32 v\n",
    "# {(2,), (2, 5, 10, 16, 24), (2, 5, 16, 24), (5, 16, 24)}\n",
    "\n",
    "nor_axis = None\n",
    "Xbnb = X_pre.copy()\n",
    "if nor_axis is not None: Xbnb = normalize(Xbnb, axis=nor_axis)\n",
    "\n",
    "thres = 1e-4\n",
    "bnb_sols = bnb(Xbnb, y_pre[:, target_index:target_index+1].ravel(), max_nonzeros=max_complexity, \n",
    "               lam=1e-2, threshold=thres, normalize=True, corrected_coefficients=True)\n",
    "bnb_feature_hierarchy = set([tuple(np.nonzero(bnb_sols[:, i:i+1].flatten())[0].tolist()) \n",
    "                             for i in range(bnb_sols.shape[1])])\n",
    "bnb_feature_hierarchy"
   ]
  },
  {
   "cell_type": "code",
   "execution_count": 13,
   "id": "e79134d8-a02a-451c-9760-40070e2f0c23",
   "metadata": {},
   "outputs": [
    {
     "data": {
      "text/plain": [
       "{(2,),\n",
       " (2, 3, 5, 10, 12, 13, 14, 16, 19, 20, 21, 24),\n",
       " (2, 3, 5, 10, 12, 13, 14, 16, 19, 21, 24),\n",
       " (2, 3, 5, 10, 12, 13, 16, 19, 21, 24),\n",
       " (2, 3, 5, 10, 12, 13, 16, 21, 24),\n",
       " (2, 5, 10, 12, 13, 16, 21, 24),\n",
       " (2, 5, 10, 13, 16, 21, 24),\n",
       " (2, 5, 10, 16, 21, 24),\n",
       " (2, 5, 10, 16, 24),\n",
       " (2, 5, 16, 24),\n",
       " (2, 5, 24),\n",
       " (2, 24)}"
      ]
     },
     "execution_count": 13,
     "metadata": {},
     "output_type": "execute_result"
    }
   ],
   "source": [
    "nor_axis = None\n",
    "Xfrols = X_pre.copy()\n",
    "if nor_axis is not None: Xfrols = normalize(Xfrols, axis=nor_axis)\n",
    "frols_coeffs,selected_inds_list,_,_,_ = frols(y_pre[:, target_index:target_index+1], Xfrols, max_nonzeros=max_complexity)\n",
    "selected_inds_list = set(selected_inds_list)\n",
    "selected_inds_list"
   ]
  },
  {
   "cell_type": "code",
   "execution_count": 14,
   "id": "9f940b54-aa89-45a2-8286-fa0355578344",
   "metadata": {},
   "outputs": [],
   "source": [
    "feature_hierarchy = bnb_feature_hierarchy.union(selected_inds_list)\n",
    "if include_sr3:\n",
    "    if target_index == 0:\n",
    "        feature_hierarchy = feature_hierarchy.union(sr3_u)\n",
    "    elif target_index == 1:\n",
    "        feature_hierarchy = feature_hierarchy.union(sr3_v)"
   ]
  },
  {
   "cell_type": "code",
   "execution_count": 15,
   "id": "56e5dee8-db5e-4c3e-a9e6-74240ff0db54",
   "metadata": {},
   "outputs": [
    {
     "name": "stdout",
     "output_type": "stream",
     "text": [
      "RFE_PLinearRegression\n",
      "(2, 5, 24)\n",
      "(2, 24)\n",
      "(2,)\n",
      "--------------------------------------------------\n",
      "(2, 5, 10, 16, 24)\n",
      "(2, 5, 16, 24)\n",
      "(5, 16, 24)\n",
      "(16, 24)\n",
      "(24,)\n",
      "--------------------------------------------------\n",
      "(2, 5, 10, 12, 13, 16, 21, 24)\n",
      "(2, 5, 10, 13, 16, 21, 24)\n",
      "(2, 5, 10, 16, 21, 24)\n",
      "(2, 5, 10, 16, 24)\n",
      "--------------------------------------------------\n",
      "(2, 3, 5, 10, 12, 13, 16, 21, 24)\n",
      "(2, 5, 10, 12, 13, 16, 21, 24)\n",
      "--------------------------------------------------\n",
      "(2, 5, 16, 24)\n",
      "--------------------------------------------------\n",
      "(2, 5, 10, 13, 16, 21, 24)\n",
      "--------------------------------------------------\n",
      "(2, 3, 5, 10, 12, 13, 14, 16, 19, 20, 21, 24)\n",
      "(2, 3, 5, 10, 12, 13, 14, 16, 19, 21, 24)\n",
      "(2, 3, 5, 10, 12, 13, 16, 19, 21, 24)\n",
      "(2, 3, 5, 10, 12, 13, 16, 21, 24)\n",
      "--------------------------------------------------\n",
      "(2, 3, 5, 10, 12, 13, 14, 16, 19, 21, 24)\n",
      "--------------------------------------------------\n",
      "(0, 1, 2, 3, 4, 6, 9, 10, 11, 13, 15, 16, 21, 22, 23, 24)\n",
      "(0, 1, 2, 4, 6, 9, 10, 11, 13, 15, 16, 21, 22, 23, 24)\n",
      "(0, 1, 2, 4, 6, 9, 10, 11, 13, 15, 16, 22, 23, 24)\n",
      "(0, 1, 2, 4, 6, 10, 11, 13, 15, 16, 22, 23, 24)\n",
      "(0, 1, 2, 4, 6, 10, 13, 15, 16, 22, 23, 24)\n",
      "(0, 1, 2, 4, 6, 10, 15, 16, 22, 23, 24)\n",
      "(0, 1, 2, 4, 6, 10, 15, 16, 23, 24)\n",
      "(0, 1, 2, 4, 6, 15, 16, 23, 24)\n",
      "(0, 1, 2, 4, 15, 16, 23, 24)\n",
      "(0, 1, 2, 4, 15, 16, 24)\n",
      "(1, 2, 4, 15, 16, 24)\n",
      "(1, 2, 4, 16, 24)\n",
      "(1, 2, 16, 24)\n",
      "(1, 16, 24)\n",
      "(16, 24)\n",
      "--------------------------------------------------\n",
      "(5, 16, 24)\n",
      "--------------------------------------------------\n",
      "(2, 24)\n",
      "--------------------------------------------------\n",
      "(2, 3, 5, 10, 12, 13, 16, 19, 21, 24)\n",
      "--------------------------------------------------\n",
      "(2, 5, 10, 16, 21, 24)\n",
      "--------------------------------------------------\n",
      "(2, 5, 6, 9, 16, 24)\n",
      "(2, 5, 9, 16, 24)\n",
      "(2, 5, 16, 24)\n",
      "--------------------------------------------------\n",
      "SelectKBest\n",
      "(2, 5, 24)\n",
      "(2, 24)\n",
      "(2,)\n",
      "--------------------------------------------------\n",
      "(2, 5, 10, 16, 24)\n",
      "(2, 5, 16, 24)\n",
      "(5, 16, 24)\n",
      "(16, 24)\n",
      "(24,)\n",
      "--------------------------------------------------\n",
      "(2, 5, 10, 12, 13, 16, 21, 24)\n",
      "(2, 5, 10, 13, 16, 21, 24)\n",
      "(2, 5, 10, 16, 21, 24)\n",
      "(2, 5, 10, 16, 24)\n",
      "--------------------------------------------------\n",
      "(2, 3, 5, 10, 12, 13, 16, 21, 24)\n",
      "(2, 5, 10, 12, 13, 16, 21, 24)\n",
      "--------------------------------------------------\n",
      "(2, 5, 16, 24)\n",
      "--------------------------------------------------\n",
      "(2, 5, 10, 13, 16, 21, 24)\n",
      "--------------------------------------------------\n",
      "(2, 3, 5, 10, 12, 13, 14, 16, 19, 20, 21, 24)\n",
      "(2, 3, 5, 10, 12, 13, 14, 16, 19, 21, 24)\n",
      "(2, 3, 5, 10, 12, 13, 16, 19, 21, 24)\n",
      "(2, 3, 5, 10, 12, 13, 16, 21, 24)\n",
      "--------------------------------------------------\n",
      "(2, 3, 5, 10, 12, 13, 14, 16, 19, 21, 24)\n",
      "--------------------------------------------------\n",
      "(0, 1, 2, 3, 4, 6, 9, 10, 11, 13, 15, 16, 21, 22, 23, 24)\n",
      "(0, 1, 2, 4, 6, 9, 10, 11, 13, 15, 16, 21, 22, 23, 24)\n",
      "(0, 1, 2, 4, 6, 9, 10, 11, 13, 15, 16, 22, 23, 24)\n",
      "(0, 1, 2, 4, 6, 10, 11, 13, 15, 16, 22, 23, 24)\n",
      "(0, 1, 2, 4, 6, 10, 13, 15, 16, 22, 23, 24)\n",
      "(0, 1, 2, 4, 6, 10, 15, 16, 22, 23, 24)\n",
      "(0, 1, 2, 4, 6, 10, 15, 16, 23, 24)\n",
      "(0, 1, 2, 4, 6, 15, 16, 23, 24)\n",
      "(0, 1, 2, 4, 15, 16, 23, 24)\n",
      "(0, 1, 2, 4, 15, 16, 24)\n",
      "(1, 2, 4, 15, 16, 24)\n",
      "(1, 2, 4, 16, 24)\n",
      "(1, 2, 16, 24)\n",
      "(1, 16, 24)\n",
      "(16, 24)\n",
      "--------------------------------------------------\n",
      "(5, 16, 24)\n",
      "--------------------------------------------------\n",
      "(2, 24)\n",
      "--------------------------------------------------\n",
      "(2, 3, 5, 10, 12, 13, 16, 19, 21, 24)\n",
      "--------------------------------------------------\n",
      "(2, 5, 10, 16, 21, 24)\n",
      "--------------------------------------------------\n",
      "(2, 5, 6, 9, 16, 24)\n",
      "(2, 5, 9, 16, 24)\n",
      "(2, 5, 16, 24)\n",
      "--------------------------------------------------\n"
     ]
    },
    {
     "data": {
      "text/plain": [
       "{1: ((2,), -211196.57060292037), 2: ((16, 24), -214575.49810438527), 3: ((5, 16, 24), -231727.80048496384), 4: ((2, 5, 16, 24), -261229.32687634675), 5: ((2, 5, 10, 16, 24), -321415.6610554761), 6: ((2, 5, 10, 16, 21, 24), -321415.50677961163), 7: ((2, 5, 10, 13, 16, 21, 24), -321415.4475040161), 8: ((2, 5, 10, 12, 13, 16, 21, 24), -321412.5093027563), 9: ((2, 3, 5, 10, 12, 13, 16, 21, 24), -321407.4669897883), 10: ((2, 3, 5, 10, 12, 13, 16, 19, 21, 24), -321401.90087486844), 11: ((2, 3, 5, 10, 12, 13, 14, 16, 19, 21, 24), -321394.33633436), 12: ((2, 3, 5, 10, 12, 13, 14, 16, 19, 20, 21, 24), -321386.672002704), 13: ((0, 1, 2, 4, 6, 10, 11, 13, 15, 16, 22, 23, 24), -226140.65890065793), 14: ((0, 1, 2, 4, 6, 9, 10, 11, 13, 15, 16, 22, 23, 24), -226150.1201834276), 15: ((0, 1, 2, 4, 6, 9, 10, 11, 13, 15, 16, 21, 22, 23, 24), -226157.08502675043), 16: ((0, 1, 2, 3, 4, 6, 9, 10, 11, 13, 15, 16, 21, 22, 23, 24), -226154.03612430335)}"
      ]
     },
     "execution_count": 15,
     "metadata": {},
     "output_type": "execute_result"
    }
   ],
   "source": [
    "br1 = backward_refinement(feature_hierarchy, (X_pre,y_pre[:, target_index:target_index+1]), mode='rfe', ic_type='bic', verbose=True)\n",
    "br2 = backward_refinement(feature_hierarchy, (X_pre,y_pre[:, target_index:target_index+1]), mode='k best', ic_type='bic', verbose=True)\n",
    "br=br1+br2; br"
   ]
  },
  {
   "cell_type": "code",
   "execution_count": 16,
   "id": "1d053d3e-7f83-4370-82dd-c4c53df3587a",
   "metadata": {},
   "outputs": [
    {
     "name": "stdout",
     "output_type": "stream",
     "text": [
      "Ploting less than max_complexity\n",
      "Delete 13 complexity\n",
      "Delete 14 complexity\n",
      "Delete 15 complexity\n",
      "Delete 16 complexity\n"
     ]
    }
   ],
   "source": [
    "print(\"Ploting less than max_complexity\")\n",
    "for c in range(max_complexity+1, max(list(br.track.keys()))+1):\n",
    "    del_c = br.delete(c)\n",
    "    if del_c is not None: print(f\"Delete {c} complexity\")\n",
    "    else: print(f\"{c} not exist\")"
   ]
  },
  {
   "cell_type": "code",
   "execution_count": 17,
   "id": "80daf1ca-5b16-45d6-98e6-09e8d397a55e",
   "metadata": {},
   "outputs": [
    {
     "name": "stdout",
     "output_type": "stream",
     "text": [
      "(2,) -211196.57060292037\n",
      "(16, 24) -214575.49810438527\n",
      "(5, 16, 24) -231727.80048496384\n",
      "(2, 5, 16, 24) -261229.32687634675\n",
      "(2, 5, 10, 16, 24) -321415.6610554761\n",
      "(2, 5, 10, 16, 21, 24) -321415.50677961163\n",
      "(2, 5, 10, 13, 16, 21, 24) -321415.4475040161\n",
      "(2, 5, 10, 12, 13, 16, 21, 24) -321412.5093027563\n",
      "(2, 3, 5, 10, 12, 13, 16, 21, 24) -321407.4669897883\n",
      "(2, 3, 5, 10, 12, 13, 16, 19, 21, 24) -321401.90087486844\n",
      "(2, 3, 5, 10, 12, 13, 14, 16, 19, 21, 24) -321394.33633436\n",
      "(2, 3, 5, 10, 12, 13, 14, 16, 19, 20, 21, 24) -321386.672002704\n"
     ]
    }
   ],
   "source": [
    "# pub 32 v\n",
    "# (2,) -225753.91368340503\n",
    "# (16, 24) -228763.57914524354\n",
    "# (5, 16, 24) -244641.6767333153\n",
    "# (2, 5, 16, 24) -267260.97739774553\n",
    "# (2, 5, 10, 16, 24) -272890.6729010754\n",
    "# (2, 5, 10, 16, 17, 24) -272914.162795415\n",
    "# (2, 3, 5, 10, 16, 17, 24) -272924.30835923535\n",
    "# (2, 3, 5, 7, 10, 16, 17, 24) -272932.6275170798\n",
    "# (0, 2, 3, 5, 7, 10, 16, 17, 24) -272938.3679217328\n",
    "# (0, 2, 3, 5, 7, 10, 16, 17, 23, 24) -272943.1201767921\n",
    "# (0, 2, 3, 4, 5, 7, 10, 16, 17, 23, 24) -272939.5732545059\n",
    "# (0, 2, 3, 4, 5, 7, 10, 16, 17, 22, 23, 24) -272934.92400972766\n",
    "\n",
    "complexities = np.array(sorted(list(br.track.keys())))\n",
    "bic_scores = []\n",
    "eff_feature_names = []\n",
    "for com in complexities:\n",
    "    indices, bic = br.track[com]\n",
    "    bic_scores.append(bic)\n",
    "    print(indices, bic)\n",
    "bic_scores = np.array(bic_scores)\n",
    "min_bic_score = np.min(bic_scores)\n",
    "div_scale = 1e3\n",
    "rel_bic_scores = (bic_scores-min_bic_score)/div_scale"
   ]
  },
  {
   "cell_type": "code",
   "execution_count": 18,
   "id": "7244a55c-98a3-4425-bf13-6b70e05d78cf",
   "metadata": {},
   "outputs": [
    {
     "data": {
      "image/png": "[encoded data removed]",
      "text/plain": [
       "<Figure size 350x262.5 with 1 Axes>"
      ]
     },
     "metadata": {},
     "output_type": "display_data"
    }
   ],
   "source": [
    "with plt.style.context('science'):\n",
    "    fig, ax = plt.subplots()\n",
    "    ax.plot(complexities, rel_bic_scores, color='black', linewidth=2.5//2)\n",
    "    ax.scatter(complexities, rel_bic_scores, marker='o', c='black', s=25)\n",
    "    plt.xlim(min(complexities)-0.3,max(complexities)+0.3)\n",
    "    plt.ylabel(r\"Relative BIC ($\\times 10^{3}$)\")\n",
    "    plt.xlabel(\"Complexity\")\n",
    "    plt.tight_layout()\n",
    "    plt.show()"
   ]
  },
  {
   "cell_type": "code",
   "execution_count": 19,
   "id": "81b0ec75-1947-4ea9-86a2-b0cd735655b3",
   "metadata": {},
   "outputs": [
    {
     "name": "stdout",
     "output_type": "stream",
     "text": [
      "5 improves 4\n",
      "Percent improve: 0.23039654428853099\n"
     ]
    },
    {
     "data": {
      "text/plain": [
       "5"
      ]
     },
     "execution_count": 19,
     "metadata": {},
     "output_type": "execute_result"
    }
   ],
   "source": [
    "from best_subset import get_decreasing_vals, find_transition_V5\n",
    "db, dc, _ = get_decreasing_vals(bic_scores, complexities)\n",
    "find_transition_V5(db, dc, percent_ok=0.09, epsilon=0.01)"
   ]
  },
  {
   "cell_type": "code",
   "execution_count": 20,
   "id": "7170a060-dff6-4f7c-a989-c66b014d49a3",
   "metadata": {},
   "outputs": [
    {
     "data": {
      "text/plain": [
       "(4, 23.0396544288531, 52.18791675352689)"
      ]
     },
     "execution_count": 20,
     "metadata": {},
     "output_type": "execute_result"
    }
   ],
   "source": [
    "optimal_slope_index, im1, im2 = check_percent(bic_scores, complexities)\n",
    "optimal_slope_index, im1, im2"
   ]
  },
  {
   "cell_type": "code",
   "execution_count": 21,
   "id": "62907fc6-dd23-4d6e-bffb-93d3f114863f",
   "metadata": {},
   "outputs": [
    {
     "name": "stdout",
     "output_type": "stream",
     "text": [
      "[-0.06694264  0.99993854  0.00998153  0.00999583  0.00999466]\n",
      "[-0.067  1.     0.01   0.01   0.01 ]\n"
     ]
    }
   ],
   "source": [
    "if target_index == 0: \n",
    "    ground = ground_coeff_u\n",
    "    true_indices = ground_indices_u\n",
    "elif target_index ==1 : \n",
    "    ground = ground_coeff_v\n",
    "    true_indices = ground_indices_v\n",
    "pred = np.linalg.lstsq(X_pre[:, br.track[optimal_slope_index+1][0]], \n",
    "                       y_pre[:, target_index:target_index+1], rcond=None)[0].flatten()\n",
    "print(pred); print(ground)\n",
    "errs = None\n",
    "if br.track[optimal_slope_index+1][0] == true_indices:\n",
    "    errs = percent_coeff(pred, ground)\n",
    "    errs.mean(), errs.std()"
   ]
  },
  {
   "cell_type": "code",
   "execution_count": 22,
   "id": "dafa8591-2781-43ca-99e1-96e058cbc363",
   "metadata": {},
   "outputs": [
    {
     "data": {
      "text/plain": [
       "{'rel_bic_scores': array([1.10219090e+02, 1.06840163e+02, 8.96878606e+01, 6.01863342e+01,\n",
       "        0.00000000e+00, 1.54275864e-04, 2.13551460e-04, 3.15175272e-03,\n",
       "        8.19406569e-03, 1.37601806e-02, 2.13247211e-02, 2.89890528e-02]),\n",
       " 'complexities': array([ 1,  2,  3,  4,  5,  6,  7,  8,  9, 10, 11, 12]),\n",
       " 'min_bic_score': -321415.6610554761,\n",
       " 'found_coeff': array([-0.06694264,  0.99993854,  0.00998153,  0.00999583,  0.00999466]),\n",
       " 'percent_coefficient_error_mean': 0.07431126108408234,\n",
       " 'percent_coefficient_error_std': 0.06076562562496081}"
      ]
     },
     "execution_count": 22,
     "metadata": {},
     "output_type": "execute_result"
    }
   ],
   "source": [
    "if errs is not None: \n",
    "    errsm = errs.mean()\n",
    "    errss = errs.std()\n",
    "else: \n",
    "    errsm = np.nan\n",
    "    errss = np.nan\n",
    "metric_dict = {'rel_bic_scores': rel_bic_scores, \n",
    "               'complexities': complexities, \n",
    "               'min_bic_score': min_bic_score, \n",
    "               'found_coeff': pred, \n",
    "               'percent_coefficient_error_mean': errsm, \n",
    "               'percent_coefficient_error_std': errss}\n",
    "metric_dict"
   ]
  },
  {
   "cell_type": "code",
   "execution_count": 23,
   "id": "3b3e44a3-dc5b-4864-a639-7f23a2bd1952",
   "metadata": {},
   "outputs": [
    {
     "name": "stdout",
     "output_type": "stream",
     "text": [
      "./Visualization/reaction_diffustion_3d_64_v_sr3_bnb_frols_noise_lv0.04_20230116.mat\n"
     ]
    }
   ],
   "source": [
    "target_index2name = ['u', 'v']\n",
    "file_name = f\"./Visualization/reaction_diffustion_3d_{n}_{target_index2name[target_index]}_sr3_bnb_frols_noise_lv{noise_lv}_20230116.mat\"\n",
    "print(file_name)\n",
    "sio.savemat(file_name, metric_dict)"
   ]
  },
  {
   "cell_type": "code",
   "execution_count": null,
   "id": "71725489-311f-4638-9caa-ea19961b2153",
   "metadata": {},
   "outputs": [],
   "source": []
  }
 ],
 "metadata": {
  "kernelspec": {
   "display_name": "Python [conda env:py3.7]",
   "language": "python",
   "name": "conda-env-py3.7-py"
  },
  "language_info": {
   "codemirror_mode": {
    "name": "ipython",
    "version": 3
   },
   "file_extension": ".py",
   "mimetype": "text/x-python",
   "name": "python",
   "nbconvert_exporter": "python",
   "pygments_lexer": "ipython3",
   "version": "3.7.12"
  },
  "widgets": {
   "application/vnd.jupyter.widget-state+json": {
    "state": {},
    "version_major": 2,
    "version_minor": 0
   }
  }
 },
 "nbformat": 4,
 "nbformat_minor": 5
}
