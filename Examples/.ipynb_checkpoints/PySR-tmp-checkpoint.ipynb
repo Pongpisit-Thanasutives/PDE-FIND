{
 "cells": [
  {
   "cell_type": "code",
   "execution_count": 1,
   "id": "52cc8779-96ba-4817-be2c-5f4d148a25c5",
   "metadata": {},
   "outputs": [],
   "source": [
    "%matplotlib inline\n",
    "import matplotlib.pyplot as plt\n",
    "\n",
    "import sys; sys.path.append('../')\n",
    "from misc import h5file\n",
    "import numpy as np\n",
    "\n",
    "import scipy.io as sio\n",
    "import sympy\n",
    "from sympy import Symbol, parse_expr, sympify, lambdify, Lambda\n",
    "\n",
    "import pandas as pd\n",
    "import subprocess\n",
    "\n",
    "from scipy.optimize import curve_fit\n",
    "\n",
    "MAIN_SEED = 1234"
   ]
  },
  {
   "cell_type": "code",
   "execution_count": 2,
   "id": "12ff9ab7",
   "metadata": {},
   "outputs": [],
   "source": [
    "data = sio.loadmat('../Datasets/burgers.mat')\n",
    "u = (data['usol']).real\n",
    "x = (data['x'][0]).real\n",
    "t = (data['t'][:,0]).real"
   ]
  },
  {
   "cell_type": "code",
   "execution_count": 3,
   "id": "c1e54c52-64fa-45e7-9988-f81b4bdf4acc",
   "metadata": {},
   "outputs": [],
   "source": [
    "y = np.load(\"./feyn_files/coeff.npy\")"
   ]
  },
  {
   "cell_type": "code",
   "execution_count": 4,
   "id": "9477412c-7540-4e2f-bddc-d5ab8f785975",
   "metadata": {},
   "outputs": [],
   "source": [
    "from pysr import PySRRegressor\n",
    "\n",
    "deterministic = True\n",
    "parsimony = 1\n",
    "\n",
    "if not deterministic:\n",
    "    model = PySRRegressor(\n",
    "        niterations=50,  # < Increase me for better results\n",
    "        binary_operators=[\"+\", \"*\"],\n",
    "        unary_operators=[\"exp\", \"square\", \"sin\", \"cos\"], \n",
    "        deterministic=deterministic, \n",
    "        parsimony=parsimony # 0.0032 ค่าเริ่มต้น\n",
    "    )\n",
    "else:\n",
    "    np.random.seed(MAIN_SEED)\n",
    "    model = PySRRegressor(\n",
    "        niterations=50,  # < Increase me for better results\n",
    "        binary_operators=[\"+\", \"*\"],\n",
    "        unary_operators=[\"exp\", \"square\", \"sin\", \"cos\"], \n",
    "        # For a deterministic result\n",
    "        deterministic=deterministic, \n",
    "        random_state=MAIN_SEED, \n",
    "        procs=0, \n",
    "        multithreading=False,\n",
    "        parsimony=parsimony # 0.0032 ค่าเริ่มต้น\n",
    "    )"
   ]
  },
  {
   "cell_type": "code",
   "execution_count": 5,
   "id": "23d306ef-bacb-411d-b07d-7c1c2918fc58",
   "metadata": {},
   "outputs": [
    {
     "name": "stderr",
     "output_type": "stream",
     "text": [
      "/Users/pongpisit/anaconda3/envs/pysr_latest/lib/python3.11/site-packages/pysr/sr.py:1289: UserWarning: Note: it looks like you are running in Jupyter. The progress bar will be turned off.\n",
      "  warnings.warn(\n",
      "/Users/pongpisit/anaconda3/envs/pysr_latest/lib/python3.11/site-packages/pysr/julia_helpers.py:197: UserWarning: Your system's Python library is static (e.g., conda), so precompilation will be turned off. For a dynamic library, try `pyenv`.\n",
      "  warnings.warn(\n"
     ]
    },
    {
     "name": "stdout",
     "output_type": "stream",
     "text": [
      "Started!\n",
      "\n",
      "Cycles per second: 8.160e+04\n",
      "Progress: 226 / 750 total iterations (30.133%)\n",
      "====================================================================================================\n",
      "Hall of Fame:\n",
      "---------------------------------------------------------------------------------------------------\n",
      "Complexity  Loss       Score     Equation\n",
      "1           4.367e+01  -1.000e-10  -0.90638614\n",
      "3           4.336e+01  3.514e-03  (-0.18342574 * x0)\n",
      "4           4.211e+01  2.927e-02  sin(-2.8226318 * x0)\n",
      "6           4.102e+01  1.307e-02  (sin(-2.8226318 * x0) * 1.7100565)\n",
      "7           3.481e+01  1.643e-01  (sin(cos(x0) * x0) * x0)\n",
      "9           3.478e+01  3.340e-04  ((sin(cos(x0) * x0) * x0) + 0.41738915)\n",
      "10          3.403e+01  2.198e-02  (sin(sin(cos(x0) * x0)) * (x0 + -1.8681546))\n",
      "13          3.393e+01  9.812e-04  (sin(cos(x0) * x0) * (sin(cos(x0) + x0) * x0))\n",
      "14          3.331e+01  1.829e-02  (sin(cos(x0) * x0) * (cos(cos(sin(x0) + 0.46534666)) * x0))\n",
      "---------------------------------------------------------------------------------------------------\n",
      "====================================================================================================\n",
      "Press 'q' and then <enter> to stop execution early.\n",
      "\n",
      "Cycles per second: 9.610e+04\n",
      "Progress: 531 / 750 total iterations (70.800%)\n",
      "====================================================================================================\n",
      "Hall of Fame:\n",
      "---------------------------------------------------------------------------------------------------\n",
      "Complexity  Loss       Score     Equation\n",
      "1           4.367e+01  -1.000e-10  -0.90638614\n",
      "3           4.336e+01  3.514e-03  (-0.18342574 * x0)\n",
      "4           4.211e+01  2.927e-02  sin(-2.8226318 * x0)\n",
      "5           4.200e+01  2.687e-03  sin(0.5504161 * square(x0))\n",
      "6           4.102e+01  2.346e-02  (sin(-2.8226318 * x0) * 1.7100565)\n",
      "7           3.481e+01  1.643e-01  (sin(cos(x0) * x0) * x0)\n",
      "9           3.332e+01  2.186e-02  (sin(cos(x0) * x0) * (-2.1446362 + x0))\n",
      "14          3.331e+01  3.172e-05  (sin(cos(x0) * x0) * (cos(cos(sin(x0) + 0.46534666)) * x0))\n",
      "15          3.318e+01  4.007e-03  (sin(cos(x0) * x0) * (cos(cos(square(sin(x0) + 0.46534666))) *...\n",
      "                                   x0))\n",
      "16          3.303e+01  4.489e-03  (sin(cos(x0) * x0) * (cos(cos(square(sin(sin(x0)) + 0.46534666...\n",
      "                                  ))) * x0))\n",
      "17          3.254e+01  1.490e-02  (sin(cos(x0) * x0) * (cos(sin(cos(x0)) + cos(x0 * -1.3287688))...\n",
      "                                   * x0))\n",
      "---------------------------------------------------------------------------------------------------\n",
      "====================================================================================================\n",
      "Press 'q' and then <enter> to stop execution early.\n"
     ]
    },
    {
     "data": {
      "text/html": [
       "<style>#sk-container-id-1 {color: black;background-color: white;}#sk-container-id-1 pre{padding: 0;}#sk-container-id-1 div.sk-toggleable {background-color: white;}#sk-container-id-1 label.sk-toggleable__label {cursor: pointer;display: block;width: 100%;margin-bottom: 0;padding: 0.3em;box-sizing: border-box;text-align: center;}#sk-container-id-1 label.sk-toggleable__label-arrow:before {content: \"▸\";float: left;margin-right: 0.25em;color: #696969;}#sk-container-id-1 label.sk-toggleable__label-arrow:hover:before {color: black;}#sk-container-id-1 div.sk-estimator:hover label.sk-toggleable__label-arrow:before {color: black;}#sk-container-id-1 div.sk-toggleable__content {max-height: 0;max-width: 0;overflow: hidden;text-align: left;background-color: #f0f8ff;}#sk-container-id-1 div.sk-toggleable__content pre {margin: 0.2em;color: black;border-radius: 0.25em;background-color: #f0f8ff;}#sk-container-id-1 input.sk-toggleable__control:checked~div.sk-toggleable__content {max-height: 200px;max-width: 100%;overflow: auto;}#sk-container-id-1 input.sk-toggleable__control:checked~label.sk-toggleable__label-arrow:before {content: \"▾\";}#sk-container-id-1 div.sk-estimator input.sk-toggleable__control:checked~label.sk-toggleable__label {background-color: #d4ebff;}#sk-container-id-1 div.sk-label input.sk-toggleable__control:checked~label.sk-toggleable__label {background-color: #d4ebff;}#sk-container-id-1 input.sk-hidden--visually {border: 0;clip: rect(1px 1px 1px 1px);clip: rect(1px, 1px, 1px, 1px);height: 1px;margin: -1px;overflow: hidden;padding: 0;position: absolute;width: 1px;}#sk-container-id-1 div.sk-estimator {font-family: monospace;background-color: #f0f8ff;border: 1px dotted black;border-radius: 0.25em;box-sizing: border-box;margin-bottom: 0.5em;}#sk-container-id-1 div.sk-estimator:hover {background-color: #d4ebff;}#sk-container-id-1 div.sk-parallel-item::after {content: \"\";width: 100%;border-bottom: 1px solid gray;flex-grow: 1;}#sk-container-id-1 div.sk-label:hover label.sk-toggleable__label {background-color: #d4ebff;}#sk-container-id-1 div.sk-serial::before {content: \"\";position: absolute;border-left: 1px solid gray;box-sizing: border-box;top: 0;bottom: 0;left: 50%;z-index: 0;}#sk-container-id-1 div.sk-serial {display: flex;flex-direction: column;align-items: center;background-color: white;padding-right: 0.2em;padding-left: 0.2em;position: relative;}#sk-container-id-1 div.sk-item {position: relative;z-index: 1;}#sk-container-id-1 div.sk-parallel {display: flex;align-items: stretch;justify-content: center;background-color: white;position: relative;}#sk-container-id-1 div.sk-item::before, #sk-container-id-1 div.sk-parallel-item::before {content: \"\";position: absolute;border-left: 1px solid gray;box-sizing: border-box;top: 0;bottom: 0;left: 50%;z-index: -1;}#sk-container-id-1 div.sk-parallel-item {display: flex;flex-direction: column;z-index: 1;position: relative;background-color: white;}#sk-container-id-1 div.sk-parallel-item:first-child::after {align-self: flex-end;width: 50%;}#sk-container-id-1 div.sk-parallel-item:last-child::after {align-self: flex-start;width: 50%;}#sk-container-id-1 div.sk-parallel-item:only-child::after {width: 0;}#sk-container-id-1 div.sk-dashed-wrapped {border: 1px dashed gray;margin: 0 0.4em 0.5em 0.4em;box-sizing: border-box;padding-bottom: 0.4em;background-color: white;}#sk-container-id-1 div.sk-label label {font-family: monospace;font-weight: bold;display: inline-block;line-height: 1.2em;}#sk-container-id-1 div.sk-label-container {text-align: center;}#sk-container-id-1 div.sk-container {/* jupyter's `normalize.less` sets `[hidden] { display: none; }` but bootstrap.min.css set `[hidden] { display: none !important; }` so we also need the `!important` here to be able to override the default hidden behavior on the sphinx rendered scikit-learn.org. See: https://github.com/scikit-learn/scikit-learn/issues/21755 */display: inline-block !important;position: relative;}#sk-container-id-1 div.sk-text-repr-fallback {display: none;}</style><div id=\"sk-container-id-1\" class=\"sk-top-container\"><div class=\"sk-text-repr-fallback\"><pre>PySRRegressor.equations_ = [\n",
       "\t   pick     score                                           equation   \n",
       "\t0        0.000000                                        -0.90638614  \\\n",
       "\t1        0.003514                                 (-0.18342574 * x0)   \n",
       "\t2        0.029273                               sin(-2.8226318 * x0)   \n",
       "\t3        0.002725                         sin(0.552327 * square(x0))   \n",
       "\t4        0.023418                 (sin(-2.8226318 * x0) * 1.7100565)   \n",
       "\t5  &gt;&gt;&gt;&gt;  0.164340                           (sin(cos(x0) * x0) * x0)   \n",
       "\t6        0.021861            (sin(cos(x0) * x0) * (-2.1446362 + x0))   \n",
       "\t7        0.001616  (sin((sin(cos(x0) * x0) * 0.15736787) * x0) * x0)   \n",
       "\t8        0.000951  (sin(cos(x0) * x0) * (cos(cos(square(sin(sin(x...   \n",
       "\t9        0.014897  (sin(cos(x0) * x0) * (cos(sin(cos(x0)) + cos(x...   \n",
       "\t\n",
       "\t        loss  complexity  \n",
       "\t0  43.665170           1  \n",
       "\t1  43.359360           3  \n",
       "\t2  42.108486           4  \n",
       "\t3  41.993896           5  \n",
       "\t4  41.021927           6  \n",
       "\t5  34.805183           7  \n",
       "\t6  33.316190           9  \n",
       "\t7  33.155018          12  \n",
       "\t8  33.029102          16  \n",
       "\t9  32.540718          17  \n",
       "]</pre><b>In a Jupyter environment, please rerun this cell to show the HTML representation or trust the notebook. <br />On GitHub, the HTML representation is unable to render, please try loading this page with nbviewer.org.</b></div><div class=\"sk-container\" hidden><div class=\"sk-item\"><div class=\"sk-estimator sk-toggleable\"><input class=\"sk-toggleable__control sk-hidden--visually\" id=\"sk-estimator-id-1\" type=\"checkbox\" checked><label for=\"sk-estimator-id-1\" class=\"sk-toggleable__label sk-toggleable__label-arrow\">PySRRegressor</label><div class=\"sk-toggleable__content\"><pre>PySRRegressor.equations_ = [\n",
       "\t   pick     score                                           equation   \n",
       "\t0        0.000000                                        -0.90638614  \\\n",
       "\t1        0.003514                                 (-0.18342574 * x0)   \n",
       "\t2        0.029273                               sin(-2.8226318 * x0)   \n",
       "\t3        0.002725                         sin(0.552327 * square(x0))   \n",
       "\t4        0.023418                 (sin(-2.8226318 * x0) * 1.7100565)   \n",
       "\t5  &gt;&gt;&gt;&gt;  0.164340                           (sin(cos(x0) * x0) * x0)   \n",
       "\t6        0.021861            (sin(cos(x0) * x0) * (-2.1446362 + x0))   \n",
       "\t7        0.001616  (sin((sin(cos(x0) * x0) * 0.15736787) * x0) * x0)   \n",
       "\t8        0.000951  (sin(cos(x0) * x0) * (cos(cos(square(sin(sin(x...   \n",
       "\t9        0.014897  (sin(cos(x0) * x0) * (cos(sin(cos(x0)) + cos(x...   \n",
       "\t\n",
       "\t        loss  complexity  \n",
       "\t0  43.665170           1  \n",
       "\t1  43.359360           3  \n",
       "\t2  42.108486           4  \n",
       "\t3  41.993896           5  \n",
       "\t4  41.021927           6  \n",
       "\t5  34.805183           7  \n",
       "\t6  33.316190           9  \n",
       "\t7  33.155018          12  \n",
       "\t8  33.029102          16  \n",
       "\t9  32.540718          17  \n",
       "]</pre></div></div></div></div></div>"
      ],
      "text/plain": [
       "PySRRegressor.equations_ = [\n",
       "\t   pick     score                                           equation   \n",
       "\t0        0.000000                                        -0.90638614  \\\n",
       "\t1        0.003514                                 (-0.18342574 * x0)   \n",
       "\t2        0.029273                               sin(-2.8226318 * x0)   \n",
       "\t3        0.002725                         sin(0.552327 * square(x0))   \n",
       "\t4        0.023418                 (sin(-2.8226318 * x0) * 1.7100565)   \n",
       "\t5  >>>>  0.164340                           (sin(cos(x0) * x0) * x0)   \n",
       "\t6        0.021861            (sin(cos(x0) * x0) * (-2.1446362 + x0))   \n",
       "\t7        0.001616  (sin((sin(cos(x0) * x0) * 0.15736787) * x0) * x0)   \n",
       "\t8        0.000951  (sin(cos(x0) * x0) * (cos(cos(square(sin(sin(x...   \n",
       "\t9        0.014897  (sin(cos(x0) * x0) * (cos(sin(cos(x0)) + cos(x...   \n",
       "\t\n",
       "\t        loss  complexity  \n",
       "\t0  43.665170           1  \n",
       "\t1  43.359360           3  \n",
       "\t2  42.108486           4  \n",
       "\t3  41.993896           5  \n",
       "\t4  41.021927           6  \n",
       "\t5  34.805183           7  \n",
       "\t6  33.316190           9  \n",
       "\t7  33.155018          12  \n",
       "\t8  33.029102          16  \n",
       "\t9  32.540718          17  \n",
       "]"
      ]
     },
     "execution_count": 5,
     "metadata": {},
     "output_type": "execute_result"
    }
   ],
   "source": [
    "model.fit(t.reshape(-1, 1), y)"
   ]
  },
  {
   "cell_type": "code",
   "execution_count": 9,
   "id": "d09709fa",
   "metadata": {},
   "outputs": [
    {
     "data": {
      "text/plain": [
       "1.4766645656745918"
      ]
     },
     "execution_count": 9,
     "metadata": {},
     "output_type": "execute_result"
    }
   ],
   "source": [
    "(((y-y.mean())**2).mean()-model.get_best()[\"loss\"])/(model.get_best()[\"complexity\"]-1)"
   ]
  },
  {
   "cell_type": "code",
   "execution_count": 10,
   "id": "bc911024",
   "metadata": {},
   "outputs": [
    {
     "data": {
      "text/plain": [
       "(43.66517039404755, 6.607962650775771)"
      ]
     },
     "execution_count": 10,
     "metadata": {},
     "output_type": "execute_result"
    }
   ],
   "source": [
    "((y-y.mean())**2).mean(), np.sqrt(((y-y.mean())**2).mean())"
   ]
  },
  {
   "cell_type": "code",
   "execution_count": 11,
   "id": "d443d99e",
   "metadata": {},
   "outputs": [
    {
     "data": {
      "text/plain": [
       "(34.805183, 5.8995917655376795)"
      ]
     },
     "execution_count": 11,
     "metadata": {},
     "output_type": "execute_result"
    }
   ],
   "source": [
    "model.get_best()[\"loss\"], np.sqrt(model.get_best()[\"loss\"])"
   ]
  },
  {
   "cell_type": "code",
   "execution_count": null,
   "id": "388048fe",
   "metadata": {},
   "outputs": [],
   "source": []
  }
 ],
 "metadata": {
  "kernelspec": {
   "display_name": "Python [conda env:pysr_latest]",
   "language": "python",
   "name": "conda-env-pysr_latest-py"
  },
  "language_info": {
   "codemirror_mode": {
    "name": "ipython",
    "version": 3
   },
   "file_extension": ".py",
   "mimetype": "text/x-python",
   "name": "python",
   "nbconvert_exporter": "python",
   "pygments_lexer": "ipython3",
   "version": "3.11.3"
  },
  "widgets": {
   "application/vnd.jupyter.widget-state+json": {
    "state": {},
    "version_major": 2,
    "version_minor": 0
   }
  }
 },
 "nbformat": 4,
 "nbformat_minor": 5
}
