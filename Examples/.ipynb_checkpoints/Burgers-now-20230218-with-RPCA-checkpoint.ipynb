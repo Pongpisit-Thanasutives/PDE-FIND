{
 "cells": [
  {
   "cell_type": "markdown",
   "metadata": {},
   "source": [
    "# PDE-FIND for Burger's Equation\n",
    "\n",
    "Samuel Rudy, 2016\n",
    "\n",
    "This notebook demonstrates PDE-FIND on Burger's equation with an added diffusive term.\n",
    "$$\n",
    "u_t + uu_x = 0.1u_{xx}\n",
    "$$\n",
    "The solution given is a single travelling wave, starting out as a Gaussian."
   ]
  },
  {
   "cell_type": "code",
   "execution_count": 1,
   "metadata": {},
   "outputs": [
    {
     "name": "stdout",
     "output_type": "stream",
     "text": [
      "Sklearn's version: 1.2.1\n",
      "mrmr is not installed in the env you are using. This may cause an error in future if you try to use the (missing) lib.\n"
     ]
    }
   ],
   "source": [
    "%load_ext autoreload\n",
    "%autoreload 2\n",
    "%matplotlib inline\n",
    "import matplotlib.pyplot as plt\n",
    "# %pylab inline\n",
    "# pylab.rcParams['figure.figsize'] = (12, 8)\n",
    "import warnings; warnings.filterwarnings(\"ignore\")\n",
    "\n",
    "import numpy as np\n",
    "from numpy.random import default_rng\n",
    "import pandas as pd\n",
    "# from mpl_toolkits.mplot3d import Axes3D\n",
    "\n",
    "import sys; sys.path.append('../')\n",
    "from PDE_FIND import *\n",
    "\n",
    "import sys; sys.path.append('../../parametric-discovery/')\n",
    "from best_subset import *\n",
    "from frols import frols\n",
    "from p_linear_regression import PLinearRegression\n",
    "from r_pca import R_pca\n",
    "from pde_diff_new import RPCA\n",
    "from RobustPCA.rpca import RobustPCA\n",
    "\n",
    "import scipy.io as sio\n",
    "from scipy.signal import savgol_filter\n",
    "import itertools\n",
    "\n",
    "from sklearn.preprocessing import normalize\n",
    "from sklearn.linear_model import Ridge, BayesianRidge, LinearRegression as SkLinearRegression\n",
    "from sklearn.base import BaseEstimator\n",
    "from sklearn.pipeline import make_pipeline\n",
    "from sklearn.metrics import mean_squared_error\n",
    "from abess.linear import LinearRegression\n",
    "# from bess import PdasLm\n",
    "import pysindy as ps\n",
    "\n",
    "from os.path import join as join_path\n",
    "FIGURE_EXPORT_PATH = \"/Users/pongpisit/Documents/figure_export/\"\n",
    "\n",
    "# from rad import AnomalyDetection_RPCA\n",
    "\n",
    "def evaluate_coefficients(prediected_coeffs):\n",
    "    GROUND = np.array([0.1, -1])\n",
    "    errs = 100*np.abs(GROUND-np.array(prediected_coeffs).flatten())/np.abs(GROUND)\n",
    "    return errs.mean(), errs.std()\n",
    "\n",
    "import torch, sympytorch\n",
    "import torch.nn as nn\n",
    "import torch.nn.functional as F\n",
    "from sympy import symbols, simplify, lambdify\n",
    "from mathparser import math_eval\n",
    "from varname import nameof\n",
    "from misc import h5file"
   ]
  },
  {
   "cell_type": "code",
   "execution_count": 2,
   "metadata": {},
   "outputs": [],
   "source": [
    "data = sio.loadmat('../Datasets/burgers.mat')\n",
    "u = (data['usol']).real\n",
    "x = (data['x'][0]).real\n",
    "t = (data['t'][:,0]).real\n",
    "dt = t[1]-t[0]\n",
    "dx = x[2]-x[1]\n",
    "X, T = np.meshgrid(x, t)\n",
    "XT = np.asarray([X, T]).T"
   ]
  },
  {
   "cell_type": "code",
   "execution_count": 3,
   "metadata": {},
   "outputs": [],
   "source": [
    "# from matplotlib import cm\n",
    "# cmap_name = cm.get_cmap().name\n",
    "# print(\"cmap =\", cmap_name)\n",
    "\n",
    "# plt.contourf(X, T, u.T, levels=10, cmap=cmap_name)\n",
    "# plt.colorbar()\n",
    "# plt.show()"
   ]
  },
  {
   "cell_type": "code",
   "execution_count": 4,
   "metadata": {},
   "outputs": [],
   "source": [
    "# fig = figure()\n",
    "# ax = fig.gca(projection='3d')\n",
    "# ax.set_zlabel(\"$u$\", fontsize=20)\n",
    "# ax.set_xlabel(\"$x$\", fontsize=20)\n",
    "# ax.set_ylabel(\"$t$\", fontsize=20)\n",
    "# surf = ax.plot_surface(X, T, u.T, \n",
    "#                        rstride=1, cstride=1, cmap=cmap_name, \n",
    "#                        linewidth=1, antialiased=False)\n",
    "# # plt.title(\"Burgers' PDE\", fontsize=20)\n",
    "# # plt.savefig(fname=join_path(FIGURE_EXPORT_PATH, \"burgers3d.png\"), dpi=300)\n",
    "# plt.show()"
   ]
  },
  {
   "cell_type": "code",
   "execution_count": 5,
   "metadata": {},
   "outputs": [
    {
     "name": "stdout",
     "output_type": "stream",
     "text": [
      "STLSQ model: \n",
      "(x0)' = 0.100 x0_11 + -1.001 x0x0_1\n"
     ]
    }
   ],
   "source": [
    "library_functions = [lambda x: x, lambda x: x * x]\n",
    "library_function_names = [lambda x: x, lambda x: x + x]\n",
    "pde_lib = ps.PDELibrary(\n",
    "    library_functions=library_functions,\n",
    "    function_names=library_function_names,\n",
    "    derivative_order=2,\n",
    "    spatial_grid=x,\n",
    "    is_uniform=True,\n",
    ")\n",
    "\n",
    "print('STLSQ model: ')\n",
    "optimizer = ps.STLSQ(threshold=0.1, alpha=1e-5, normalize_columns=True)\n",
    "model = ps.SINDy(feature_library=pde_lib, optimizer=optimizer)\n",
    "model.fit(np.expand_dims(u, -1), t=dt)\n",
    "model.print()"
   ]
  },
  {
   "cell_type": "markdown",
   "metadata": {},
   "source": [
    "## Construct $\\Theta (U)$ and compute $U_t$\n",
    "\n",
    "The function build_linear_system does this for us.  We specify <br>\n",
    "D = highest derivative to appear in $\\Theta$  <br>\n",
    "P = highest degree polynomial of $u$ to appear in $\\Theta$ (not including multiplication by a derivative.  <br>\n",
    "time_diff and space_diff taken via finite differences\n",
    "\n",
    "Printed out is a list of candidate functions for the PDE.  Each is a column of $\\Theta (U)$"
   ]
  },
  {
   "cell_type": "code",
   "execution_count": 6,
   "metadata": {},
   "outputs": [],
   "source": [
    "Ut, R, rhs_des = build_linear_system(u, dt, dx, D=3, P=3, time_diff = 'FD', space_diff = 'FD')\n",
    "rhs_des = rhs_des[1:]\n",
    "R = R[:, 1:].real; Ut = Ut.real"
   ]
  },
  {
   "cell_type": "markdown",
   "metadata": {},
   "source": [
    "## Solve for $\\xi$\n",
    "\n",
    "TrainSTRidge splits the data up into 80% for training and 20% for validation.  It searches over various tolerances in the STRidge algorithm and finds the one with the best performance on the validation set, including an $\\ell^0$ penalty for $\\xi$ in the loss function."
   ]
  },
  {
   "cell_type": "code",
   "execution_count": 7,
   "metadata": {},
   "outputs": [
    {
     "name": "stdout",
     "output_type": "stream",
     "text": [
      "l0_penalty: 1.6123253173828125\n",
      "PDE derived using STRidge\n",
      "u_t = (-1.000403 +0.000000i)uu_{x}\n",
      "    + (0.100145 +0.000000i)u_{xx}\n",
      "   \n"
     ]
    }
   ],
   "source": [
    "# Solve with STRidge\n",
    "w = TrainSTRidge(R,Ut,10**-5,0.1)\n",
    "print(\"PDE derived using STRidge\")\n",
    "print_pde(w, rhs_des)"
   ]
  },
  {
   "cell_type": "markdown",
   "metadata": {},
   "source": [
    "## Now identify the same dynamics but with added noise.\n",
    "\n",
    "The only difference from above is that finite differences work poorly for noisy data so here we use polynomial interpolation.  With deg_x or deg_t and width_x or width_t we specify the degree number of points used to fit the polynomials used for differentiating x or t.  Unfortunately, the result can be sensitive to these."
   ]
  },
  {
   "cell_type": "code",
   "execution_count": 8,
   "metadata": {},
   "outputs": [
    {
     "data": {
      "text/plain": [
       "(-0.00017436017271128736,\n",
       " 0.07192089134552937,\n",
       " 0.2780377297273821,\n",
       " -0.32265115805438993)"
      ]
     },
     "execution_count": 8,
     "metadata": {},
     "output_type": "execute_result"
    }
   ],
   "source": [
    "# K = 2000 experiments\n",
    "# weak lib only can tolerate up to 75 (maybe more?)\n",
    "# weak lib + KalmanDiff: 90 (maybe more?)\n",
    "# weak lib + KalmanDiff + Robust PCA: 110\n",
    "# set np.random.seed(0) to reproduce...\n",
    "np.random.seed(0)\n",
    "noise_lv = float(40)\n",
    "noise = 0.01*np.abs(noise_lv)*(u.std())*np.random.randn(u.shape[0],u.shape[1])\n",
    "un = u + noise\n",
    "np.mean(noise), np.std(noise), np.max(noise), np.min(noise)"
   ]
  },
  {
   "cell_type": "code",
   "execution_count": 9,
   "metadata": {},
   "outputs": [],
   "source": [
    "Utn, Rn, rhs_des = build_linear_system(un, dt, dx, D=3, P=3, time_diff = 'poly',\n",
    "                                       deg_x = 4, deg_t = 4, \n",
    "                                       width_x = 10, width_t = 10)\n",
    "rhs_des = rhs_des[1:]\n",
    "Rn = Rn[:, 1:].real; Utn = Utn.real"
   ]
  },
  {
   "cell_type": "code",
   "execution_count": 10,
   "metadata": {},
   "outputs": [
    {
     "name": "stdout",
     "output_type": "stream",
     "text": [
      "l0_penalty: 1.958869140625\n",
      "PDE derived using STRidge\n",
      "u_t = (-0.709884 +0.000000i)uu_{x}\n",
      "   \n"
     ]
    }
   ],
   "source": [
    "# Solve with STRidge\n",
    "w = TrainSTRidge(Rn,Utn,10**-5,1)\n",
    "print(\"PDE derived using STRidge\")\n",
    "print_pde(w, rhs_des)"
   ]
  },
  {
   "cell_type": "code",
   "execution_count": 11,
   "metadata": {},
   "outputs": [],
   "source": [
    "## Goals: implement my own optimizer and differentiation_method class!\n",
    "from functools import partial\n",
    "import derivative\n",
    "from tvregdiff import TVRegDiff, tvregdiff, numdiff, pysindydiff, savgol_denoise\n",
    "# import sys; sys.path.insert(0, \"../../derivative/\"); import derivative\n",
    "class KalmanDiff(ps.BaseDifferentiation):\n",
    "    def __init__(self, alpha, poly_deg=None, rpca_lambda=None, d=1, axis=1, is_uniform=True, periodic=False):\n",
    "        super(KalmanDiff, self).__init__()\n",
    "        # Kalman diff\n",
    "        self.alpha = alpha\n",
    "        self.diff_func = derivative.Kalman(alpha=self.alpha)\n",
    "        self.d = d\n",
    "        self.diff = partial(pysindydiff, **{\"diff_method\":self.diff_func, \"order\":self.d})\n",
    "        # Savgol denoising\n",
    "        self.poly_deg = poly_deg\n",
    "        if poly_deg is not None:\n",
    "            if poly_deg%2 == 0: window_length = self.poly_deg + 1\n",
    "            else: window_length = self.poly_deg + 2\n",
    "            self.denoise = partial(savgol_denoise, **{\"window_length\":window_length, \"poly_deg\":self.poly_deg})\n",
    "        else:\n",
    "            self.denoise = lambda _: _\n",
    "        # Robust PCA\n",
    "        self.rpca_lambda = rpca_lambda\n",
    "        # Other info...\n",
    "        self.axis = axis\n",
    "        self.is_uniform = is_uniform\n",
    "        self.periodic = periodic\n",
    "        # data transformation\n",
    "        # rs = np.ones(2).astype(np.int32); rs[self.axis] = -1; rs = tuple(rs)\n",
    "        self.transform = np.vectorize(composite_function(self.diff, self.denoise, left2right=True), signature=\"(m),(m)->(m)\")\n",
    "    # _differentiate\n",
    "    def _differentiate(self, x, t):\n",
    "        in_shape = x.shape\n",
    "        if len(in_shape) == 2: x = np.expand_dims(x, -1) # x should now be 3-dimensional\n",
    "        if isinstance(t, float) and self.is_uniform: \n",
    "            t = np.linspace(0, stop=t*(x.shape[self.axis]-1), num=x.shape[self.axis])\n",
    "        out = []\n",
    "        # wrt to x var\n",
    "        if self.axis == 0:\n",
    "            for i in range(x.shape[-1]):\n",
    "                # use lambda and partial from functools to help shorten the code\n",
    "                # diff = np.hstack([self.denoise(self.diff(x[:, j:j+1, i], t)).reshape(-1, 1) \n",
    "                #                   for j in range(x.shape[1])])\n",
    "                # diff = np.hstack([self.transform(x[:, j:j+1, i], t) for j in range(x.shape[1])])\n",
    "                # diff = np.vectorize(self.transform, signature=\"(m),(m)->(m)\")(x[:,:,i].T, t).T\n",
    "                diff = self.transform(x[:,:,i].T, t).T\n",
    "                if self.rpca_lambda is not None:\n",
    "                    diff = self._get_low_rank(diff)\n",
    "                out.append(np.expand_dims(diff, axis=-1))\n",
    "        # wrt to time var\n",
    "        elif self.axis == 1:\n",
    "            for i in range(x.shape[-1]):\n",
    "                # use lambda and partial from functools to help shorten the code\n",
    "                # diff = np.vstack([self.denoise(self.diff(x[j:j+1, :, i], t)).reshape(1, -1) \n",
    "                #                   for j in range(x.shape[0])])\n",
    "                # diff = np.vstack([self.transform(x[j:j+1, :, i], t) for j in range(x.shape[0])])\n",
    "                # diff = np.vectorize(self.transform, signature=\"(m),(m)->(m)\")(x[:,:,i], t)\n",
    "                diff = self.transform(x[:,:,i], t)\n",
    "                if self.rpca_lambda is not None:\n",
    "                    diff = self._get_low_rank(diff)\n",
    "                out.append(np.expand_dims(diff, axis=-1))\n",
    "        return np.concatenate(out, axis=-1).reshape(in_shape)\n",
    "    # _get_low_rank\n",
    "    def _get_low_rank(self, x):\n",
    "        rpca = RobustPCA(lamb=self.rpca_lambda, tol=10, use_fbpca=True, max_iter=int(1e6))\n",
    "        rpca.fit(x)\n",
    "        return rpca.get_low_rank()"
   ]
  },
  {
   "cell_type": "markdown",
   "metadata": {},
   "source": [
    "#### RPCA before Savgol (Best with window length = 11, Seems fine)"
   ]
  },
  {
   "cell_type": "code",
   "execution_count": 12,
   "metadata": {},
   "outputs": [],
   "source": [
    "### also works ###\n",
    "# un, _ = RPCA(un, 6e-2)\n",
    "# un, _ = R_pca(un, lmbda=5e-2).fit(max_iter=5000, iter_print=1000)\n",
    "\n",
    "rpca_lambda = None; apply_savgol = False # Set to False for IBIS2022\n",
    "# rpca_lambda = 5e-2\n",
    "\n",
    "un_copy = un.copy()\n",
    "\n",
    "if rpca_lambda is not None:\n",
    "    rpca = RobustPCA(lamb=rpca_lambda, tol=10, use_fbpca=True, max_iter=int(1e6))\n",
    "    rpca.fit(un)\n",
    "    un = rpca.get_low_rank()\n",
    "    est_noise = un_copy-un\n",
    "    print(np.mean(est_noise), np.std(est_noise), np.max(est_noise), np.min(est_noise))\n",
    "    print(mean_squared_error(un, u))\n",
    "else:\n",
    "    # un = sio.loadmat(\"../Datasets/l1rdae_noisy_burgers.mat\")[\"rdae_denoised_un\"].real\n",
    "    # un = sio.loadmat(\"../Datasets/rdae_noisy_burgers_best.mat\")[\"rdae_denoised_un\"].real\n",
    "    \n",
    "    un = sio.loadmat(\"../RDAE_data/l21rdae_noisy40_burgers_0.5.mat\")[\"rdae_denoised_un\"].real # best\n",
    "    # un = sio.loadmat(\"../RDAE_data/l21rdae_noisy40_burgers_0.05.mat\")[\"rdae_denoised_un\"].real\n",
    "\n",
    "# divide into 2 5 10\n",
    "if apply_savgol:\n",
    "    un_savgol = np.vstack([savgol_denoise(un[i:i+1, :], 11, 2) for i in range(un.shape[0])])\n",
    "    print(mean_squared_error(u, un_savgol))\n",
    "    un = un_savgol"
   ]
  },
  {
   "cell_type": "markdown",
   "metadata": {},
   "source": [
    "#### Savgol before RPCA (Best with window length = 51, Seems to be tailored to perform well with highly noisy data)\n",
    "    - Need to test with other datasets"
   ]
  },
  {
   "cell_type": "code",
   "execution_count": 13,
   "metadata": {},
   "outputs": [],
   "source": [
    "# # divide into 2 5 10\n",
    "# apply_savgol = True\n",
    "# if apply_savgol:\n",
    "#     un_savgol = np.vstack([savgol_denoise(un[i:i+1, :], 51, 2) for i in range(un.shape[0])])\n",
    "#     print(mean_squared_error(u, un_savgol))\n",
    "#     un = un_savgol\n",
    "\n",
    "# rpca_lambda = None\n",
    "# rpca_lambda = 5e-2\n",
    "# if rpca_lambda is not None:\n",
    "#     rpca = RobustPCA(lamb=rpca_lambda, tol=10, use_fbpca=True, max_iter=int(1e6))\n",
    "#     un_copy = un.copy()\n",
    "#     rpca.fit(un)\n",
    "#     un = rpca.get_low_rank()\n",
    "#     est_noise = un_copy-un\n",
    "#     print(np.mean(est_noise), np.std(est_noise), np.max(est_noise), np.min(est_noise))\n",
    "#     print(mean_squared_error(un, u))"
   ]
  },
  {
   "cell_type": "code",
   "execution_count": null,
   "metadata": {},
   "outputs": [],
   "source": []
  },
  {
   "cell_type": "code",
   "execution_count": null,
   "metadata": {},
   "outputs": [],
   "source": []
  },
  {
   "cell_type": "markdown",
   "metadata": {},
   "source": [
    "#### Just testing the code"
   ]
  },
  {
   "cell_type": "code",
   "execution_count": 14,
   "metadata": {},
   "outputs": [],
   "source": [
    "# differentiation_method = ps.FiniteDifference\n",
    "# differentiation_kwargs = {}\n",
    "# kalpha = 1e-2; poly_deg = None; diff_order = 2 # kalpha = 1e-3 | 5e-3 | 1e-2\n",
    "# differentiation_method = KalmanDiff\n",
    "# differentiation_kwargs = {\"alpha\":kalpha, \"poly_deg\":poly_deg, \"rpca_lambda\":None}\n",
    "# weak_pde_lib = ps.WeakPDELibrary(library_functions=[lambda x: x, lambda x: x * x], \n",
    "#                                  function_names=[lambda x: x, lambda x: x + x], \n",
    "#                                  derivative_order=diff_order, p=diff_order, \n",
    "#                                  spatiotemporal_grid=XT, \n",
    "#                                  include_bias=False, is_uniform=True, K=5000, # new random K points in every calls to the ps.WeakPDELibrary\n",
    "#                                  differentiation_method=differentiation_method, \n",
    "#                                  differentiation_kwargs=differentiation_kwargs, \n",
    "#                                  cache=True\n",
    "#                                 )\n",
    "\n",
    "# to calculate u, u_1, u_11, ... up to diff_order\n",
    "# weak_pde_lib = ps.WeakPDELibrary(library_functions=[lambda x: x], \n",
    "#                                  function_names=[lambda x: x], \n",
    "#                                  derivative_order=diff_order, p=diff_order, \n",
    "#                                  include_interaction=False, \n",
    "#                                  spatiotemporal_grid=XT, \n",
    "#                                  include_bias=False, is_uniform=True, K=5000, # new random K points in every calls to the ps.WeakPDELibrary\n",
    "#                                  differentiation_method=differentiation_method, \n",
    "#                                  differentiation_kwargs=differentiation_kwargs\n",
    "#                                 )\n",
    "\n",
    "# To have that it's better to calc the coefficients using the weak lib\n",
    "# weak_pde_lib = ps.PDELibrary(library_functions=[lambda x: x, lambda x: x * x], \n",
    "#                         function_names=[lambda x: x, lambda x: x + x], \n",
    "#                         derivative_order=diff_order, spatial_grid=x, \n",
    "#                         include_bias=False, is_uniform=True, \n",
    "#                         differentiation_method=differentiation_method, \n",
    "#                         differentiation_kwargs=differentiation_kwargs\n",
    "#                        )"
   ]
  },
  {
   "cell_type": "code",
   "execution_count": 15,
   "metadata": {},
   "outputs": [],
   "source": [
    "# uu = np.expand_dims(un,-1)\n",
    "# X_uu_pre1 = weak_pde_lib.fit_transform(uu).reshape(-1, len(weak_pde_lib.get_feature_names()))\n",
    "# y_uu_pre1 = weak_pde_lib.convert_u_dot_integral(uu)\n",
    "# # for weak_pde_lib = ps.PDELibrary(...)\n",
    "# # y_uu_pre1 = weak_pde_lib.differentiation_method(axis=1, **weak_pde_lib.differentiation_kwargs)._differentiate(uu, t).reshape(-1,1)\n",
    "# coeffs1 = np.linalg.lstsq(X_uu_pre1[:, [3, 4]], y_uu_pre1, rcond=None)[0]\n",
    "\n",
    "# kwargs = {'fit_intercept':False, 'copy_X':True, 'normalize_columns':False}\n",
    "# X_uu_pre2, y_uu_pre2, fns = ps_features(uu, t, weak_pde_lib, kwargs)\n",
    "# coeffs2 = np.linalg.lstsq(X_uu_pre2[:, [3, 4]], y_uu_pre2, rcond=None)[0]\n",
    "\n",
    "# print(np.allclose(X_uu_pre1, X_uu_pre2))\n",
    "# print(np.allclose(y_uu_pre1, y_uu_pre2))\n",
    "# print(np.allclose(coeffs1, coeffs2))\n",
    "# print(np.allclose(weak_pde_lib.cached_xp_full, X_uu_pre1))"
   ]
  },
  {
   "cell_type": "code",
   "execution_count": 16,
   "metadata": {},
   "outputs": [],
   "source": [
    "# from sklearn.linear_model import BayesianRidge, LinearRegression as SkLinearRegression\n",
    "# from sklearn.base import BaseEstimator\n",
    "# from sklearn.pipeline import make_pipeline\n",
    "\n",
    "# kwargs = {'fit_intercept':False, 'copy_X':True, 'normalize_columns':False}\n",
    "# X_pre, y_pre, fns = ps_features(un, t, weak_pde_lib, kwargs)\n",
    "# print(symbols(' '.join(fns)))\n",
    "# # reg = BayesianRidge(fit_intercept=False, normalize=True, compute_score=True)\n",
    "# reg = SkLinearRegression(fit_intercept=False, normalize=True)\n",
    "# print(reg.fit(X_pre[:, [3, 4]], y_pre).coef_)\n",
    "# print(bnb(X_pre, y_pre, 2, lam=1e-3, corrected_coefficients=True))\n",
    "\n",
    "# class Normalizer(BaseEstimator):\n",
    "#     def __init__(self, order=2, axis=0):\n",
    "#         super(Normalizer, self).__init__()\n",
    "#         self.order = order\n",
    "#         self.axis = axis\n",
    "#         self.norm = None\n",
    "#     def fit(self, X, y):\n",
    "#         self.norm = np.divide(1.0, np.linalg.norm(X, ord=self.order, axis=self.axis))\n",
    "#     def transform(self, X):\n",
    "#         return np.multiply(self.norm, X)\n",
    "#     def fit_transform(self, X, y):\n",
    "#         self.fit(X, y)\n",
    "#         return self.transform(X)\n",
    "\n",
    "# # Implement something like NormalizedLinearEstimator...\n",
    "# model = make_pipeline(Normalizer(order=2, axis=0), SkLinearRegression(fit_intercept=False))\n",
    "# model.fit(X_pre[:, [3, 4]], y_pre)\n",
    "# model.steps[1][-1].coef_ = model.steps[0][-1].transform(model.steps[1][-1].coef_)\n",
    "# model = model.steps[1][-1]; model.coef_"
   ]
  },
  {
   "cell_type": "code",
   "execution_count": null,
   "metadata": {},
   "outputs": [],
   "source": []
  },
  {
   "cell_type": "code",
   "execution_count": null,
   "metadata": {},
   "outputs": [],
   "source": []
  },
  {
   "cell_type": "markdown",
   "metadata": {},
   "source": [
    "#### Avg weak coef from 10 runs"
   ]
  },
  {
   "cell_type": "code",
   "execution_count": 17,
   "metadata": {},
   "outputs": [],
   "source": [
    "kalpha = 1e-2; poly_deg = None; diff_order = 2\n",
    "differentiation_method = KalmanDiff\n",
    "differentiation_kwargs = {\"alpha\":kalpha, \"poly_deg\":poly_deg, \"rpca_lambda\":None}"
   ]
  },
  {
   "cell_type": "code",
   "execution_count": 18,
   "metadata": {},
   "outputs": [],
   "source": [
    "weak_pde_lib = ps.WeakPDELibrary(library_functions=[lambda x: x, lambda x: x * x], \n",
    "                                 function_names=[lambda x: x, lambda x: x + x], \n",
    "                                 derivative_order=diff_order, p=diff_order, \n",
    "                                 spatiotemporal_grid=XT, \n",
    "                                 include_bias=False, is_uniform=True, K=10000, # new random K points in every calls to the ps.WeakPDELibrary\n",
    "                                 differentiation_method=differentiation_method, \n",
    "                                 differentiation_kwargs=differentiation_kwargs, \n",
    "                                 cache=True\n",
    "                                )\n",
    "kwargs = {'fit_intercept':False, 'copy_X':True, 'normalize_columns':False}\n",
    "X_pre, y_pre, fns = ps_features(un, t, weak_pde_lib, kwargs)"
   ]
  },
  {
   "cell_type": "code",
   "execution_count": 19,
   "metadata": {},
   "outputs": [
    {
     "name": "stdout",
     "output_type": "stream",
     "text": [
      "['u', 'uu', 'u_1', 'u_11', 'uu_1', 'uuu_1', 'uu_11', 'uuu_11']\n",
      "(u)' = 0.093 u_11 + -0.998 uu_1\n",
      "u_t = (0.092780 +0.000000i)u_11\n",
      "    + (-1.001165 +0.000000i)uu_1\n",
      "   \n"
     ]
    }
   ],
   "source": [
    "## give wrong answer\n",
    "# optimizer = ps.STLSQ(threshold=0.1, alpha=1e-5, normalize_columns=True)\n",
    "# optimizer = ps.SR3(threshold=0.1, thresholder='l0', tol=1e-8, normalize_columns=True, max_iter=1000)\n",
    "# optimizer = ABESS(abess_kw={'alpha':1e-2, 'support_size':2, 'cv':5}, group=None, is_normal=False, normalize_columns=True)\n",
    "# optimizer = BESS(bess_kw={'path_type':'seq', 'sequence':[2], 'is_cv':True, 'K':5}, is_normal=True, normalize_columns=False)\n",
    "\n",
    "## give correct answer (for reasonable noise levels) | L0BNB & ps.FROLS are now the best algos. \n",
    "# Fit a weak form model\n",
    "# optimizer = ps.SSR(criteria='model_residual', normalize_columns=True, kappa=1e-2)\n",
    "# optimizer = ps.FROLS(normalize_columns=True, kappa=5e-4, max_iter=100, alpha=1e-1) # kappa = 1e-3 or 5e-4 gives 2 effective candidates\n",
    "optimizer = L0BNB(max_nonzeros=2, lam=1e-3, is_normal=True, normalize_columns=False) # tune lam จาก (X_pre, y_pre) | ตอนนี้ยังไม่ได้ tune\n",
    "# optimizer = BruteForceRegressor(2)\n",
    "# if feature_library=weak_pde_lib, then just differentiation_method=None is fine.\n",
    "n_ensemble_models = 50\n",
    "model = ps.SINDy(feature_library=weak_pde_lib, optimizer=optimizer, \n",
    "                 # differentiation_method=None,\n",
    "                 differentiation_method=KalmanDiff(alpha=kalpha, poly_deg=poly_deg, rpca_lambda=rpca_lambda, axis=0, is_uniform=True), \n",
    "                 cache=True,\n",
    "                 feature_names=['u'])\n",
    "model.fit(np.expand_dims(un, -1), t=dt, ensemble=True, \n",
    "          library_ensemble=True, n_candidates_to_drop=1, n_models=n_ensemble_models)\n",
    "\n",
    "# print the model selected by Pysindy package\n",
    "# (Not giving the best model if set ensemble or library_ensemble = True)\n",
    "print(model.get_feature_names())\n",
    "model.print()\n",
    "\n",
    "# Use the best-performing (on any validation set) coef in model.coef_list (Plse add this functionality to pysindy)\n",
    "# np.einsum('ij,jkl',X_pre,np.array(model.get_coef_list()).T) -> a cool-looking code\n",
    "# from opt_einsum import contract\n",
    "# contract('ij,jkl',X_pre,np.array(model.get_coef_list()).T) -> a cool-looking code\n",
    "print_pde(model.get_coef_list()[np.argmin(np.sum((np.squeeze(np.tensordot(X_pre, np.array(model.get_coef_list()).T, axes=([-1], [0])), axis=1)-y_pre)**2, axis=0))].reshape(-1,1), model.get_feature_names())"
   ]
  },
  {
   "cell_type": "code",
   "execution_count": 20,
   "metadata": {},
   "outputs": [
    {
     "name": "stdout",
     "output_type": "stream",
     "text": [
      "hasattr threshold in optimizer...\n",
      "u_t = (0.092594 +0.000000i)u_11\n",
      "    + (-0.997865 +0.000000i)uu_1\n",
      "   \n",
      "['u_{xx}' 'uu_{x}']\n",
      "[ 0.0925936  -0.99786459]\n"
     ]
    },
    {
     "data": {
      "text/plain": [
       "(3.8099707505810274, 3.596429831826865)"
      ]
     },
     "execution_count": 20,
     "metadata": {},
     "output_type": "execute_result"
    }
   ],
   "source": [
    "# For poster: No savgol before or after RPCA\n",
    "# u_t = (0.094309 +0.000000i)u_11\n",
    "#     + (-0.851764 +0.000000i)uu_1\n",
    "# For future Savgol (win_len = 11) after RPCA (performance little bit better)\n",
    "# u_t = (0.094646 +0.000000i)u_11\n",
    "#     + (-0.859442 +0.000000i)uu_1\n",
    "# model.validate_coef_list()\n",
    "# model.validate_coef_list(X_pre, y_pre)\n",
    "ols_model, eff_rhs_indices = model.validate_coef_list()[0]\n",
    "print(np.array([convert2latex(f) for i,f in enumerate(model.get_feature_names()) if i in eff_rhs_indices]))\n",
    "print(ols_model.params)\n",
    "evaluate_coefficients(ols_model.params)"
   ]
  },
  {
   "cell_type": "code",
   "execution_count": 21,
   "metadata": {},
   "outputs": [
    {
     "name": "stdout",
     "output_type": "stream",
     "text": [
      "hasattr threshold in optimizer...\n",
      "u_t = (-0.945400 +0.000000i)uu_1\n",
      "   \n",
      "hasattr threshold in optimizer...\n",
      "u_t = (0.092594 +0.000000i)u_11\n",
      "    + (-0.997865 +0.000000i)uu_1\n",
      "   \n",
      "hasattr threshold in optimizer...\n",
      "u_t = (-0.012178 +0.000000i)uu\n",
      "    + (0.088774 +0.000000i)u_11\n",
      "    + (-0.996010 +0.000000i)uu_1\n",
      "   \n",
      "hasattr threshold in optimizer...\n",
      "u_t = (0.011151 +0.000000i)u\n",
      "    + (-0.035174 +0.000000i)uu\n",
      "    + (0.086732 +0.000000i)u_11\n",
      "    + (-0.996024 +0.000000i)uu_1\n",
      "   \n",
      "hasattr threshold in optimizer...\n",
      "u_t = (0.013020 +0.000000i)u\n",
      "    + (-0.043058 +0.000000i)uu\n",
      "    + (0.087108 +0.000000i)u_11\n",
      "    + (-0.992292 +0.000000i)uu_1\n",
      "    + (-0.006839 +0.000000i)uuu_11\n",
      "   \n",
      "hasattr threshold in optimizer...\n",
      "u_t = (0.023888 +0.000000i)u\n",
      "    + (-0.079851 +0.000000i)uu\n",
      "    + (-0.021880 +0.000000i)u_1\n",
      "    + (0.084175 +0.000000i)u_11\n",
      "    + (-0.925040 +0.000000i)uu_1\n",
      "    + (-0.024930 +0.000000i)uuu_11\n",
      "   \n",
      "hasattr threshold in optimizer...\n",
      "u_t = (0.037948 +0.000000i)u\n",
      "    + (-0.108505 +0.000000i)uu\n",
      "    + (-0.025716 +0.000000i)u_1\n",
      "    + (0.077421 +0.000000i)u_11\n",
      "    + (-0.917984 +0.000000i)uu_1\n",
      "    + (0.052009 +0.000000i)uu_11\n",
      "    + (-0.088764 +0.000000i)uuu_11\n",
      "   \n",
      "hasattr threshold in optimizer...\n",
      "u_t = (0.037948 +0.000000i)u\n",
      "    + (-0.108505 +0.000000i)uu\n",
      "    + (-0.025716 +0.000000i)u_1\n",
      "    + (0.077421 +0.000000i)u_11\n",
      "    + (-0.917984 +0.000000i)uu_1\n",
      "    + (0.052009 +0.000000i)uu_11\n",
      "    + (-0.088764 +0.000000i)uuu_11\n",
      "   \n"
     ]
    }
   ],
   "source": [
    "all_ols_models = []\n",
    "all_eff_rhs = []\n",
    "for mnz in range(1, 9):\n",
    "    optimizer = L0BNB(max_nonzeros=mnz, lam=1e-3, is_normal=True, normalize_columns=False) # tune lam จาก (X_pre, y_pre) | ตอนนี้ยังไม่ได้ tune\n",
    "    n_ensemble_models = 50\n",
    "    model = ps.SINDy(feature_library=weak_pde_lib, optimizer=optimizer, \n",
    "                     differentiation_method=KalmanDiff(alpha=kalpha, poly_deg=poly_deg, rpca_lambda=rpca_lambda, axis=0, is_uniform=True), \n",
    "                     cache=True,\n",
    "                     feature_names=['u'])\n",
    "    model.fit(np.expand_dims(un, -1), t=dt, ensemble=True, \n",
    "              library_ensemble=True, n_candidates_to_drop=1, n_models=n_ensemble_models)\n",
    "    ols_model, eff_rhs_indices = model.validate_coef_list()[0]\n",
    "    all_ols_models.append(ols_model)\n",
    "    all_eff_rhs.append(eff_rhs_indices)"
   ]
  },
  {
   "cell_type": "code",
   "execution_count": 22,
   "metadata": {},
   "outputs": [],
   "source": [
    "all_eff_rhs.append(tuple(i for i in range(X_pre.shape[1])))"
   ]
  },
  {
   "cell_type": "code",
   "execution_count": 23,
   "metadata": {},
   "outputs": [
    {
     "name": "stdout",
     "output_type": "stream",
     "text": [
      "RFE_PLinearRegression\n",
      "(3, 4)\n",
      "Since sklearn's version 1.2.1 is being used, the normalize arg has no effect.\n",
      "Since sklearn's version 1.2.1 is being used, the normalize arg has no effect.\n",
      "Since sklearn's version 1.2.1 is being used, the normalize arg has no effect.\n",
      "(4,)\n",
      "--------------------------------------------------\n",
      "(1, 3, 4)\n",
      "Since sklearn's version 1.2.1 is being used, the normalize arg has no effect.\n",
      "Since sklearn's version 1.2.1 is being used, the normalize arg has no effect.\n",
      "Since sklearn's version 1.2.1 is being used, the normalize arg has no effect.\n",
      "(3, 4)\n",
      "--------------------------------------------------\n",
      "(0, 1, 3, 4)\n",
      "Since sklearn's version 1.2.1 is being used, the normalize arg has no effect.\n",
      "Since sklearn's version 1.2.1 is being used, the normalize arg has no effect.\n",
      "Since sklearn's version 1.2.1 is being used, the normalize arg has no effect.\n",
      "(1, 3, 4)\n",
      "--------------------------------------------------\n",
      "(0, 1, 3, 4, 7)\n",
      "Since sklearn's version 1.2.1 is being used, the normalize arg has no effect.\n",
      "Since sklearn's version 1.2.1 is being used, the normalize arg has no effect.\n",
      "Since sklearn's version 1.2.1 is being used, the normalize arg has no effect.\n",
      "(0, 1, 3, 4)\n",
      "--------------------------------------------------\n",
      "(0, 1, 2, 3, 4, 7)\n",
      "Since sklearn's version 1.2.1 is being used, the normalize arg has no effect.\n",
      "Since sklearn's version 1.2.1 is being used, the normalize arg has no effect.\n",
      "Since sklearn's version 1.2.1 is being used, the normalize arg has no effect.\n",
      "(0, 1, 2, 3, 4)\n",
      "Since sklearn's version 1.2.1 is being used, the normalize arg has no effect.\n",
      "Since sklearn's version 1.2.1 is being used, the normalize arg has no effect.\n",
      "Since sklearn's version 1.2.1 is being used, the normalize arg has no effect.\n",
      "(0, 1, 3, 4)\n",
      "--------------------------------------------------\n",
      "(0, 1, 2, 3, 4, 6, 7)\n",
      "Since sklearn's version 1.2.1 is being used, the normalize arg has no effect.\n",
      "Since sklearn's version 1.2.1 is being used, the normalize arg has no effect.\n",
      "Since sklearn's version 1.2.1 is being used, the normalize arg has no effect.\n",
      "(0, 1, 2, 3, 4, 7)\n",
      "--------------------------------------------------\n",
      "(0, 1, 2, 3, 4, 6, 7)\n",
      "--------------------------------------------------\n",
      "(0, 1, 2, 3, 4, 5, 6, 7)\n",
      "Since sklearn's version 1.2.1 is being used, the normalize arg has no effect.\n",
      "Since sklearn's version 1.2.1 is being used, the normalize arg has no effect.\n",
      "Since sklearn's version 1.2.1 is being used, the normalize arg has no effect.\n",
      "(0, 1, 2, 3, 4, 6, 7)\n",
      "--------------------------------------------------\n",
      "RFE_PLinearRegression\n",
      "(3, 4)\n",
      "Since sklearn's version 1.2.1 is being used, the normalize arg has no effect.\n",
      "Since sklearn's version 1.2.1 is being used, the normalize arg has no effect.\n",
      "Since sklearn's version 1.2.1 is being used, the normalize arg has no effect.\n",
      "(4,)\n",
      "--------------------------------------------------\n",
      "(1, 3, 4)\n",
      "Since sklearn's version 1.2.1 is being used, the normalize arg has no effect.\n",
      "Since sklearn's version 1.2.1 is being used, the normalize arg has no effect.\n",
      "Since sklearn's version 1.2.1 is being used, the normalize arg has no effect.\n",
      "(3, 4)\n",
      "--------------------------------------------------\n",
      "(0, 1, 3, 4)\n",
      "Since sklearn's version 1.2.1 is being used, the normalize arg has no effect.\n",
      "Since sklearn's version 1.2.1 is being used, the normalize arg has no effect.\n",
      "Since sklearn's version 1.2.1 is being used, the normalize arg has no effect.\n",
      "(1, 3, 4)\n",
      "--------------------------------------------------\n",
      "(0, 1, 3, 4, 7)\n",
      "Since sklearn's version 1.2.1 is being used, the normalize arg has no effect.\n",
      "Since sklearn's version 1.2.1 is being used, the normalize arg has no effect.\n",
      "Since sklearn's version 1.2.1 is being used, the normalize arg has no effect.\n",
      "(0, 1, 3, 4)\n",
      "--------------------------------------------------\n",
      "(0, 1, 2, 3, 4, 7)\n",
      "Since sklearn's version 1.2.1 is being used, the normalize arg has no effect.\n",
      "Since sklearn's version 1.2.1 is being used, the normalize arg has no effect.\n",
      "Since sklearn's version 1.2.1 is being used, the normalize arg has no effect.\n",
      "(0, 1, 2, 3, 4)\n",
      "Since sklearn's version 1.2.1 is being used, the normalize arg has no effect.\n",
      "Since sklearn's version 1.2.1 is being used, the normalize arg has no effect.\n",
      "Since sklearn's version 1.2.1 is being used, the normalize arg has no effect.\n",
      "(0, 1, 3, 4)\n",
      "--------------------------------------------------\n",
      "(0, 1, 2, 3, 4, 6, 7)\n",
      "Since sklearn's version 1.2.1 is being used, the normalize arg has no effect.\n",
      "Since sklearn's version 1.2.1 is being used, the normalize arg has no effect.\n",
      "Since sklearn's version 1.2.1 is being used, the normalize arg has no effect.\n",
      "(0, 1, 2, 3, 4, 7)\n",
      "--------------------------------------------------\n",
      "(0, 1, 2, 3, 4, 6, 7)\n",
      "--------------------------------------------------\n",
      "(0, 1, 2, 3, 4, 5, 6, 7)\n",
      "Since sklearn's version 1.2.1 is being used, the normalize arg has no effect.\n",
      "Since sklearn's version 1.2.1 is being used, the normalize arg has no effect.\n",
      "Since sklearn's version 1.2.1 is being used, the normalize arg has no effect.\n",
      "(0, 1, 2, 3, 4, 6, 7)\n",
      "--------------------------------------------------\n"
     ]
    }
   ],
   "source": [
    "st = backward_refinement(all_eff_rhs, (X_pre, y_pre), mode='rfe', verbose=True)\n",
    "st += backward_refinement(all_eff_rhs, (normalize(X_pre, axis=0), y_pre), mode='rfe', verbose=True)"
   ]
  },
  {
   "cell_type": "code",
   "execution_count": 24,
   "metadata": {},
   "outputs": [
    {
     "name": "stdout",
     "output_type": "stream",
     "text": [
      "(4,)\n",
      "(3, 4)\n",
      "(1, 3, 4)\n",
      "(0, 1, 3, 4)\n",
      "(0, 1, 2, 3, 4)\n",
      "(0, 1, 2, 3, 4, 7)\n",
      "(0, 1, 2, 3, 4, 6, 7)\n",
      "(0, 1, 2, 3, 4, 5, 6, 7)\n"
     ]
    }
   ],
   "source": [
    "decreasing_aics = []\n",
    "complexities = []\n",
    "eff_feature_names = []\n",
    "now_aic = 1e6\n",
    "for com in sorted(st.track.keys()):\n",
    "    indices, aic = st.track[com]\n",
    "    print(indices)\n",
    "    if aic < now_aic:\n",
    "        complexities.append(len(indices))\n",
    "        decreasing_aics.append(aic)\n",
    "        eff_feature_names.append([convert2latex(f) for i,f in enumerate(model.get_feature_names()) if i in indices])\n",
    "        now_aic = aic\n",
    "decreasing_aics = np.array(decreasing_aics)\n",
    "complexities = np.array(complexities)\n",
    "relative_decreasing_aics = decreasing_aics-np.min(decreasing_aics)"
   ]
  },
  {
   "cell_type": "code",
   "execution_count": null,
   "metadata": {},
   "outputs": [],
   "source": []
  },
  {
   "cell_type": "code",
   "execution_count": 25,
   "metadata": {},
   "outputs": [
    {
     "data": {
      "image/png": "[encoded data removed]",
      "text/plain": [
       "<Figure size 576x288 with 1 Axes>"
      ]
     },
     "metadata": {
      "needs_background": "light"
     },
     "output_type": "display_data"
    }
   ],
   "source": [
    "fig, ax = plt.subplots(figsize=(8,4))\n",
    "ax.plot(complexities, relative_decreasing_aics, color='blue', linewidth=2.5, label=\"AIC-decreasing models\")\n",
    "ax.scatter(complexities, relative_decreasing_aics, marker='*', c='red', s=300)\n",
    "for com, name, rel_aic in zip(complexities, eff_feature_names, relative_decreasing_aics):\n",
    "    rotation = (90+45)/2\n",
    "    if com == 1: rotation = 0\n",
    "    ax.annotate(f\"    $({','.join(name)})$\", (com, rel_aic), rotation=rotation)\n",
    "plt.xlim(0.8,8.1)\n",
    "plt.title(r\"Model selection based on $\\frac{\\Delta AIC}{\\Delta s}$\")\n",
    "plt.ylabel(\"Relative AIC\")\n",
    "plt.xlabel(\"Number of support sizes\")\n",
    "plt.legend()\n",
    "plt.tight_layout()\n",
    "# plt.savefig(join_path(FIGURE_EXPORT_PATH, \"aic_model_selection.png\"), dpi=300)\n",
    "plt.show()"
   ]
  },
  {
   "cell_type": "code",
   "execution_count": 26,
   "metadata": {},
   "outputs": [
    {
     "name": "stdout",
     "output_type": "stream",
     "text": [
      "2 improves 1\n",
      "Percent improve: 0.10074561156821914\n",
      "3 does not improve 2\n",
      "Percent improve: 0.00041722808790998014\n"
     ]
    },
    {
     "data": {
      "text/plain": [
       "2"
      ]
     },
     "execution_count": 26,
     "metadata": {},
     "output_type": "execute_result"
    }
   ],
   "source": [
    "find_transition_V5(decreasing_aics, complexities, percent_ok=0.09)"
   ]
  },
  {
   "cell_type": "code",
   "execution_count": 27,
   "metadata": {},
   "outputs": [
    {
     "data": {
      "text/plain": [
       "(array([-62390.53814928, -68676.1110712 , -68704.7646737 , -68713.7854452 ,\n",
       "        -68720.1317624 , -68725.38491433, -68733.10731096]),\n",
       " array([1, 2, 3, 4, 5, 6, 7]),\n",
       " [['uu_{x}'],\n",
       "  ['u_{xx}', 'uu_{x}'],\n",
       "  ['u^2', 'u_{xx}', 'uu_{x}'],\n",
       "  ['u', 'u^2', 'u_{xx}', 'uu_{x}'],\n",
       "  ['u', 'u^2', 'u_{x}', 'u_{xx}', 'uu_{x}'],\n",
       "  ['u', 'u^2', 'u_{x}', 'u_{xx}', 'uu_{x}', 'u^2u_{xx}'],\n",
       "  ['u', 'u^2', 'u_{x}', 'u_{xx}', 'uu_{x}', 'uu_{xx}', 'u^2u_{xx}']])"
      ]
     },
     "execution_count": 27,
     "metadata": {},
     "output_type": "execute_result"
    }
   ],
   "source": [
    "### Robust PCA | 5e-2 ###\n",
    "# (array([-67232.53198227, -75588.1584368 , -76240.48984011, -76260.73668138,\n",
    "#         -76425.72108798, -76437.34969411, -76489.94051519, -76523.73245724]),\n",
    "#  array([1, 2, 3, 4, 5, 6, 7, 8]),\n",
    "#  [['u_{x}'],\n",
    "#   ['u_{xx}', 'uu_{x}'],\n",
    "#   ['u_{xx}', 'uu_{x}', 'u^2u_{x}'],\n",
    "#   ['u_{xx}', 'uu_{x}', 'u^2u_{x}', 'u^2u_{xx}'],\n",
    "#   ['u_{xx}', 'uu_{x}', 'u^2u_{x}', 'uu_{xx}', 'u^2u_{xx}'],\n",
    "#   ['u^2', 'u_{xx}', 'uu_{x}', 'u^2u_{x}', 'uu_{xx}', 'u^2u_{xx}'],\n",
    "#   ['u', 'u^2', 'u_{xx}', 'uu_{x}', 'u^2u_{x}', 'uu_{xx}', 'u^2u_{xx}'],\n",
    "#   ['u',\n",
    "#    'u^2',\n",
    "#    'u_{x}',\n",
    "#    'u_{xx}',\n",
    "#    'uu_{x}',\n",
    "#    'u^2u_{x}',\n",
    "#    'uu_{xx}',\n",
    "#    'u^2u_{xx}']])\n",
    "\n",
    "### RDAE ###\n",
    "# 5e-0\n",
    "# (array([-61457.79563302, -67768.04270879, -67892.04820035, -67912.10229129,\n",
    "#         -67929.64549213, -67937.40869858, -67945.9834522 ]),\n",
    "#  array([1, 2, 3, 4, 5, 6, 7]),\n",
    "#  [['uu_{x}'],\n",
    "#   ['u_{xx}', 'uu_{x}'],\n",
    "#   ['u_{xx}', 'uu_{x}', 'uu_{xx}'],\n",
    "#   ['u', 'u_{xx}', 'uu_{x}', 'uu_{xx}'],\n",
    "#   ['u', 'u_{xx}', 'uu_{x}', 'uu_{xx}', 'u^2u_{xx}'],\n",
    "#   ['u', 'u_{xx}', 'uu_{x}', 'u^2u_{x}', 'uu_{xx}', 'u^2u_{xx}'],\n",
    "#   ['u', 'u^2', 'u_{xx}', 'uu_{x}', 'u^2u_{x}', 'uu_{xx}', 'u^2u_{xx}']])\n",
    "\n",
    "# 1e-0\n",
    "# (array([-61470.53751784, -67403.7884947 , -67463.47315383, -67491.22503685,\n",
    "#         -67524.31114049, -67541.30459472, -67577.12280888]),\n",
    "#  array([1, 2, 3, 4, 5, 6, 7]),\n",
    "#  [['uu_{x}'],\n",
    "#   ['u_{xx}', 'uu_{x}'],\n",
    "#   ['u_{xx}', 'uu_{x}', 'uu_{xx}'],\n",
    "#   ['u_{xx}', 'uu_{x}', 'uu_{xx}', 'u^2u_{xx}'],\n",
    "#   ['u', 'u_{xx}', 'uu_{x}', 'uu_{xx}', 'u^2u_{xx}'],\n",
    "#   ['u', 'u_{xx}', 'uu_{x}', 'u^2u_{x}', 'uu_{xx}', 'u^2u_{xx}'],\n",
    "#   ['u', 'u^2', 'u_{xx}', 'uu_{x}', 'u^2u_{x}', 'uu_{xx}', 'u^2u_{xx}']])\n",
    "\n",
    "# 5e-1 (biggest drop)\n",
    "# (array([-61942.58641101, -68634.67590443, -68707.14669999, -68723.3471394 ,\n",
    "#         -68771.5720519 , -68784.91274736, -68791.13974807]),\n",
    "#  array([1, 2, 3, 4, 5, 6, 7]),\n",
    "#  [['uu_{x}'],\n",
    "#   ['u_{xx}', 'uu_{x}'],\n",
    "#   ['u_{xx}', 'uu_{x}', 'uu_{xx}'],\n",
    "#   ['u_{xx}', 'uu_{x}', 'uu_{xx}', 'u^2u_{xx}'],\n",
    "#   ['u', 'u_{xx}', 'uu_{x}', 'uu_{xx}', 'u^2u_{xx}'],\n",
    "#   ['u', 'u_{xx}', 'uu_{x}', 'u^2u_{x}', 'uu_{xx}', 'u^2u_{xx}'],\n",
    "#   ['u', 'u^2', 'u_{xx}', 'uu_{x}', 'u^2u_{x}', 'uu_{xx}', 'u^2u_{xx}']])\n",
    "\n",
    "# 5e-2\n",
    "# (array([-63319.57267493, -69422.77962975, -69521.1242639 , -69610.94610283,\n",
    "#         -69632.39125379, -69759.73072006, -69759.86095886, -69766.15596996]),\n",
    "#  array([1, 2, 3, 4, 5, 6, 7, 8]),\n",
    "#  [['uu_{x}'],\n",
    "#   ['u_{xx}', 'uu_{x}'],\n",
    "#   ['u_{xx}', 'uu_{x}', 'u^2u_{x}'],\n",
    "#   ['u_{xx}', 'uu_{x}', 'u^2u_{x}', 'uu_{xx}'],\n",
    "#   ['u_{xx}', 'uu_{x}', 'u^2u_{x}', 'uu_{xx}', 'u^2u_{xx}'],\n",
    "#   ['u', 'u^2', 'u_{xx}', 'uu_{x}', 'uu_{xx}', 'u^2u_{xx}'],\n",
    "#   ['u', 'u^2', 'u_{x}', 'u_{xx}', 'uu_{x}', 'uu_{xx}', 'u^2u_{xx}'],\n",
    "#   ['u',\n",
    "#    'u^2',\n",
    "#    'u_{x}',\n",
    "#    'u_{xx}',\n",
    "#    'uu_{x}',\n",
    "#    'u^2u_{x}',\n",
    "#    'uu_{xx}',\n",
    "#    'u^2u_{xx}']])\n",
    "\n",
    "# 5e-3\n",
    "# (array([-62616.9439043 , -64382.30756858, -65732.60951777, -67060.56858316,\n",
    "#         -67764.31672752, -67772.14160474, -67774.025401  , -67785.41418025]),\n",
    "#  array([1, 2, 3, 4, 5, 6, 7, 8]),\n",
    "#  [['uu_{x}'],\n",
    "#   ['u^2', 'uu_{x}'],\n",
    "#   ['u^2', 'uu_{x}', 'u^2u_{x}'],\n",
    "#   ['u', 'u^2', 'uu_{x}', 'u^2u_{x}'],\n",
    "#   ['u', 'u^2', 'u_{x}', 'uu_{x}', 'u^2u_{x}'],\n",
    "#   ['u', 'u^2', 'u_{x}', 'u_{xx}', 'uu_{x}', 'u^2u_{x}'],\n",
    "#   ['u', 'u^2', 'u_{x}', 'u_{xx}', 'uu_{x}', 'u^2u_{x}', 'uu_{xx}'],\n",
    "#   ['u',\n",
    "#    'u^2',\n",
    "#    'u_{x}',\n",
    "#    'u_{xx}',\n",
    "#    'uu_{x}',\n",
    "#    'u^2u_{x}',\n",
    "#    'uu_{xx}',\n",
    "#    'u^2u_{xx}']])\n",
    "\n",
    "decreasing_aics, complexities, eff_feature_names"
   ]
  },
  {
   "cell_type": "code",
   "execution_count": 28,
   "metadata": {},
   "outputs": [
    {
     "name": "stdout",
     "output_type": "stream",
     "text": [
      "hasattr threshold in optimizer...\n",
      "u_t = (0.090476 +0.000000i)u_11\n",
      "    + (-0.997913 +0.000000i)uu_1\n",
      "   \n",
      "['u_{xx}' 'uu_{x}']\n",
      "[ 0.09047557 -0.99791295]\n",
      "hasattr threshold in optimizer...\n",
      "u_t = (0.090045 +0.000000i)u_11\n",
      "    + (-0.998707 +0.000000i)uu_1\n",
      "   \n",
      "['u_{xx}' 'uu_{x}']\n",
      "[ 0.09004496 -0.99870661]\n",
      "hasattr threshold in optimizer...\n",
      "u_t = (0.090372 +0.000000i)u_11\n",
      "    + (-0.991646 +0.000000i)uu_1\n",
      "   \n",
      "['u_{xx}' 'uu_{x}']\n",
      "[ 0.09037211 -0.99164607]\n",
      "hasattr threshold in optimizer...\n",
      "u_t = (0.092288 +0.000000i)u_11\n",
      "    + (-0.999957 +0.000000i)uu_1\n",
      "   \n",
      "['u_{xx}' 'uu_{x}']\n",
      "[ 0.09228812 -0.99995737]\n",
      "hasattr threshold in optimizer...\n",
      "u_t = (0.090769 +0.000000i)u_11\n",
      "    + (-0.997455 +0.000000i)uu_1\n",
      "   \n",
      "['u_{xx}' 'uu_{x}']\n",
      "[ 0.09076854 -0.99745473]\n",
      "hasattr threshold in optimizer...\n",
      "u_t = (0.090926 +0.000000i)u_11\n",
      "    + (-0.993374 +0.000000i)uu_1\n",
      "   \n",
      "['u_{xx}' 'uu_{x}']\n",
      "[ 0.09092579 -0.99337402]\n",
      "hasattr threshold in optimizer...\n",
      "u_t = (0.091871 +0.000000i)u_11\n",
      "    + (-1.003958 +0.000000i)uu_1\n",
      "   \n",
      "['u_{xx}' 'uu_{x}']\n",
      "[ 0.09187114 -1.00395781]\n",
      "hasattr threshold in optimizer...\n",
      "u_t = (0.091771 +0.000000i)u_11\n",
      "    + (-1.001941 +0.000000i)uu_1\n",
      "   \n",
      "['u_{xx}' 'uu_{x}']\n",
      "[ 0.09177115 -1.00194065]\n",
      "hasattr threshold in optimizer...\n",
      "u_t = (0.090766 +0.000000i)u_11\n",
      "    + (-0.989868 +0.000000i)uu_1\n",
      "   \n",
      "['u_{xx}' 'uu_{x}']\n",
      "[ 0.09076579 -0.9898683 ]\n",
      "hasattr threshold in optimizer...\n",
      "u_t = (0.093366 +0.000000i)u_11\n",
      "    + (-0.993238 +0.000000i)uu_1\n",
      "   \n",
      "['u_{xx}' 'uu_{x}']\n",
      "[ 0.09336584 -0.99323751]\n"
     ]
    }
   ],
   "source": [
    "X_pre = np.zeros(X_pre.shape)\n",
    "y_pre = np.zeros(y_pre.shape)\n",
    "n_times = 10\n",
    "weak_coeffs = []\n",
    "for _ in range(n_times):\n",
    "    weak_pde_lib = ps.WeakPDELibrary(library_functions=[lambda x: x, lambda x: x * x], \n",
    "                                     function_names=[lambda x: x, lambda x: x + x], \n",
    "                                     derivative_order=diff_order, p=diff_order, \n",
    "                                     spatiotemporal_grid=XT, \n",
    "                                     include_bias=False, is_uniform=True, K=10000, \n",
    "                                     differentiation_method=differentiation_method, \n",
    "                                     differentiation_kwargs=differentiation_kwargs, \n",
    "                                     cache=True\n",
    "                                    )\n",
    "    kwargs = {'fit_intercept':False, 'copy_X':True, 'normalize_columns':False}\n",
    "    # Apply moving horizon to un is an interesting idea.\n",
    "    X_pre_sub, y_pre_sub, fns = ps_features(un, t, weak_pde_lib, kwargs)\n",
    "    X_pre = X_pre + X_pre_sub\n",
    "    y_pre = y_pre + y_pre_sub\n",
    "    optimizer = L0BNB(max_nonzeros=2, lam=1e-3, is_normal=True, normalize_columns=False)\n",
    "    n_ensemble_models = 50\n",
    "    model = ps.SINDy(feature_library=weak_pde_lib, optimizer=optimizer, \n",
    "                     differentiation_method=KalmanDiff(alpha=kalpha, poly_deg=poly_deg, rpca_lambda=rpca_lambda, axis=0, is_uniform=True), \n",
    "                     cache=True,\n",
    "                     feature_names=['u'])\n",
    "    model.fit(np.expand_dims(un, -1), t=dt, ensemble=True, \n",
    "              library_ensemble=True, n_candidates_to_drop=1, n_models=n_ensemble_models)\n",
    "    ols_model, eff_rhs_indices = model.validate_coef_list()[0]\n",
    "    print(np.array([convert2latex(f) for i,f in enumerate(model.get_feature_names()) if i in eff_rhs_indices]))\n",
    "    print(ols_model.params)\n",
    "    # percent_coeff = evaluate_coefficients(ols_model.params)\n",
    "    # print(percent_coeff)\n",
    "    # if percent_coeff[0] > 100: break\n",
    "    weak_coeffs.append(ols_model.params)\n",
    "weak_coeffs = np.array(weak_coeffs)\n",
    "avg_weak_coeff = np.mean(weak_coeffs, axis=0)\n",
    "X_pre = X_pre/n_times\n",
    "y_pre = y_pre/n_times"
   ]
  },
  {
   "cell_type": "code",
   "execution_count": 29,
   "metadata": {},
   "outputs": [
    {
     "data": {
      "text/plain": [
       "(0.0031711092487617786, 0.0075666086093852305)"
      ]
     },
     "execution_count": 29,
     "metadata": {},
     "output_type": "execute_result"
    }
   ],
   "source": [
    "# RDAE 5e-0: cv = 0.005062929348375081, 0.011023507990422338\n",
    "# RDAE 1e-0: cv = 0.004408008789094885, 0.00910193468516509\n",
    "# RDAE 5e-1: cv = 0.003467511174737858, 0.008040505161991068\n",
    "# RDAE 5e-2: cv = 0.004305311364345706, 0.007809099375818377\n",
    "\n",
    "cv_abs = (weak_coeffs.std(axis=0)/np.abs(weak_coeffs.mean(axis=0))).mean()\n",
    "cv = (weak_coeffs.std(axis=0)/weak_coeffs.mean(axis=0)).mean()\n",
    "cv, cv_abs"
   ]
  },
  {
   "cell_type": "code",
   "execution_count": 30,
   "metadata": {},
   "outputs": [
    {
     "data": {
      "text/plain": [
       "(4.527269031155649, 4.207829237535458)"
      ]
     },
     "execution_count": 30,
     "metadata": {},
     "output_type": "execute_result"
    }
   ],
   "source": [
    "# 50 percent noise\n",
    "# Robust PCA: (14.745720655392669, 6.347415766367691)\n",
    "# RDAE failed...\n",
    "\n",
    "# 40 percent noise\n",
    "# Robust PCA: (14.818002368919029, 7.899799685479938)\n",
    "# RDAE 5e-0: (2.9505659028666087, 1.8024006266427972)\n",
    "# RDAE 1e-0: (3.2008235132427463, 2.56690175990938)\n",
    "# RDAE 5e-1: (2.469185388081714, 1.7166311808760781)\n",
    "# RDAE 5e-2: (6.015975755333656, 5.859365864415776)\n",
    "# RDAE 5e-3: Failed\n",
    "\n",
    "evaluate_coefficients(avg_weak_coeff)"
   ]
  },
  {
   "cell_type": "code",
   "execution_count": 31,
   "metadata": {},
   "outputs": [
    {
     "name": "stdout",
     "output_type": "stream",
     "text": [
      "[ 0.0912649 -0.9968056]\n"
     ]
    },
    {
     "data": {
      "text/plain": [
       "(4.527269031155649, 4.207829237535458)"
      ]
     },
     "execution_count": 31,
     "metadata": {},
     "output_type": "execute_result"
    }
   ],
   "source": [
    "def percent_coeff(pred, ground):\n",
    "    return 100*np.abs(pred-ground)/np.abs(ground)\n",
    "print(avg_weak_coeff)\n",
    "errs = percent_coeff(avg_weak_coeff, np.array([0.1, -1]))\n",
    "errs.mean(), errs.std()"
   ]
  },
  {
   "cell_type": "code",
   "execution_count": 32,
   "metadata": {},
   "outputs": [],
   "source": [
    "# best_subsets = [(4,), (3, 4), (3, 4, 6), (0, 3, 4, 6), (0, 3, 4, 6, 7), (0, 1, 3, 4, 6, 7), (0, 1, 2, 3, 4, 6, 7), (0, 1, 2, 3, 4, 5, 6, 7)]\n",
    "# best_subsets = sorted([indices for _, (indices, _) in st.track.items()], key=lambda _: len(_))\n",
    "# tmp = np.zeros((len(best_subsets), X_pre.shape[-1]))\n",
    "# for i in range(len(best_subsets)):\n",
    "#     tmp[i:i+1, :][0, best_subsets[i]] = 1.0\n",
    "# best_subsets = tmp.astype(np.float32)\n",
    "# del tmp\n",
    "\n",
    "# pms_data = {nameof(X_pre): X_pre.astype(np.float32), \n",
    "#             nameof(y_pre): y_pre.astype(np.float32), \n",
    "#             nameof(best_subsets): best_subsets.astype(np.float32)}\n",
    "# h5file(file_path=\"../PMS_data/burgers_pms.h5\", cdict=pms_data, mode='w')"
   ]
  },
  {
   "cell_type": "code",
   "execution_count": null,
   "metadata": {},
   "outputs": [],
   "source": []
  },
  {
   "cell_type": "code",
   "execution_count": null,
   "metadata": {},
   "outputs": [],
   "source": []
  },
  {
   "cell_type": "code",
   "execution_count": 33,
   "metadata": {},
   "outputs": [
    {
     "name": "stdout",
     "output_type": "stream",
     "text": [
      "['X_pre', 'best_subsets', 'y_pre']\n"
     ]
    }
   ],
   "source": [
    "X_pre, best_subsets, y_pre = h5file(file_path=\"../PMS_data/burgers_pms.h5\", mode='r', return_dict=False)"
   ]
  },
  {
   "cell_type": "code",
   "execution_count": 34,
   "metadata": {},
   "outputs": [
    {
     "data": {
      "text/plain": [
       "['u', 'u*u', 'u_1', 'u_11', 'u*u_1', 'u*u*u_1', 'u*u_11', 'u*u*u_11']"
      ]
     },
     "execution_count": 34,
     "metadata": {},
     "output_type": "execute_result"
    }
   ],
   "source": [
    "basic_vars = {'u'}\n",
    "encoded_feature_names = []\n",
    "for feature in model.get_feature_names():\n",
    "    out_feature = []\n",
    "    last_index = -1\n",
    "    for i, c in enumerate(feature):\n",
    "        if i+1 < len(feature) and feature[i+1] in basic_vars:\n",
    "            last_index = i\n",
    "            out_feature.append(c+'*')\n",
    "    out_feature.append(feature[last_index+1:])\n",
    "    encoded_feature_names.append(''.join(out_feature))\n",
    "encoded_feature_names = np.array(encoded_feature_names)\n",
    "encoded_feature_names.tolist()"
   ]
  },
  {
   "cell_type": "code",
   "execution_count": 35,
   "metadata": {},
   "outputs": [
    {
     "name": "stdout",
     "output_type": "stream",
     "text": [
      "u*u_1\n",
      "----------\n",
      "u_11+u*u_1\n",
      "----------\n",
      "u*u+u_11+u*u_1\n",
      "----------\n",
      "u+u*u+u_11+u*u_1\n",
      "----------\n",
      "u+u*u+u_1+u_11+u*u_1\n",
      "----------\n",
      "u+u*u+u_1+u_11+u*u_1+u*u*u_11\n",
      "----------\n",
      "u+u*u+u_1+u_11+u*u_1+u*u_11+u*u*u_11\n",
      "----------\n",
      "u+u*u+u_1+u_11+u*u_1+u*u*u_1+u*u_11+u*u*u_11\n",
      "----------\n"
     ]
    }
   ],
   "source": [
    "for com in sorted(st.track.keys()):\n",
    "    indices, _ = st.track[com]\n",
    "    expr = '+'.join(encoded_feature_names[list(indices)])\n",
    "    print(expr)\n",
    "    print('----------')\n",
    "encoded_pde_names = ['+'.join(encoded_feature_names[list(indices)]) for _, (indices, _) \n",
    "                     in sorted(st.track.items())]"
   ]
  },
  {
   "cell_type": "code",
   "execution_count": 36,
   "metadata": {},
   "outputs": [],
   "source": [
    "import yaml\n",
    "from omegaconf import OmegaConf\n",
    "yml = {}\n",
    "yml[\"encoded_feature_names\"] = encoded_feature_names.tolist()\n",
    "yml[\"encoded_pde_names\"] = encoded_pde_names\n",
    "yml[\"information_criterion_score\"] = [float(ic) for _, (_, ic) in st.track.items()]\n",
    "OmegaConf.save(config=OmegaConf.create(yml), f=\"../PMS_data/burgers_pms_feature_names.yaml\")\n",
    "yml2 = OmegaConf.load(\"../PMS_data/burgers_pms_feature_names.yaml\")"
   ]
  },
  {
   "cell_type": "code",
   "execution_count": 37,
   "metadata": {},
   "outputs": [],
   "source": [
    "# indices, _ = st.track[2]\n",
    "# sympy_expr, basic_vars = math_eval('+'.join(encoded_feature_names[list(indices)]))\n",
    "# sympy_expr, basic_vars"
   ]
  },
  {
   "cell_type": "code",
   "execution_count": 38,
   "metadata": {},
   "outputs": [],
   "source": [
    "# tmp = X_pre[:, [model.get_feature_names().index(e) for e in basic_vars]]\n",
    "# tmp = [aa[:, i:i+1].flatten() for i in range(aa.shape[-1])]\n",
    "# tmp\n",
    "# sympy_expr_kwargs = dict(zip(basic_vars, \n",
    "#                              list(X_pre[:, [model.get_feature_names().index(e) for e in basic_vars]].T)))\n",
    "# print(sympy_expr_kwargs)\n",
    "# sympy_expr(**sympy_expr_kwargs)"
   ]
  },
  {
   "cell_type": "code",
   "execution_count": 39,
   "metadata": {},
   "outputs": [],
   "source": [
    "# mod, basic_vars = math_eval('+'.join(encoded_feature_names[list(indices)]), return_torch=True)"
   ]
  },
  {
   "cell_type": "code",
   "execution_count": 40,
   "metadata": {},
   "outputs": [],
   "source": [
    "# torch.tensor(sympy_expr_kwargs['u']).float()"
   ]
  },
  {
   "cell_type": "code",
   "execution_count": 41,
   "metadata": {},
   "outputs": [],
   "source": [
    "# sympytorch.SymPyModule -> implement แยกตามเครื่องหมาย +\n",
    "# torch_vars = [symbols(var) for var in basic_vars]\n",
    "# out = mod(u=torch.tensor(sympy_expr_kwargs['u']).float(), \n",
    "#           u_1=torch.tensor(sympy_expr_kwargs['u_1']).float(), \n",
    "#          u_11=torch.tensor(sympy_expr_kwargs['u_11']).float())  # out has shape (3, 2)\n",
    "# out[:,0]\n",
    "# out"
   ]
  },
  {
   "cell_type": "code",
   "execution_count": 42,
   "metadata": {},
   "outputs": [],
   "source": [
    "# np.allclose(sympy_expr(**sympy_expr_kwargs), out[:,0].detach().numpy())"
   ]
  },
  {
   "cell_type": "code",
   "execution_count": 43,
   "metadata": {},
   "outputs": [],
   "source": [
    "# mod, basic_vars = math_eval(\"u_11+u*u_1\", \n",
    "#                             return_torch=True, split_by_addition=True)\n",
    "# x_ = torch.rand(3)\n",
    "# mod(u_11=x_, u=x_, u_1=x_)"
   ]
  },
  {
   "cell_type": "code",
   "execution_count": 44,
   "metadata": {},
   "outputs": [],
   "source": [
    "# nameof(x_), x_, x_**2"
   ]
  },
  {
   "cell_type": "code",
   "execution_count": 45,
   "metadata": {},
   "outputs": [],
   "source": [
    "class PhysicalConstraintCalculator(torch.nn.Module):\n",
    "    def __init__(self, symbolic_module, basic_vars, init_coefficients=None, learnable_coefficients=False):\n",
    "        super(PhysicalConstraintCalculator, self).__init__()\n",
    "        self.symbolic_module = symbolic_module\n",
    "        self.basic_vars = basic_vars\n",
    "        \n",
    "        self.coefficients = init_coefficients\n",
    "        self.learnable_coefficients = learnable_coefficients\n",
    "\n",
    "        if self.coefficients is None:\n",
    "            self.coefficients = torch.ones(len(symbolic_module.sympy())).float().requires_grad_(self.learnable_coefficients)\n",
    "        else:\n",
    "            self.coefficients = torch.tensor(data=self.coefficients).float().requires_grad_(self.learnable_coefficients)\n",
    "            \n",
    "        if self.learnable_coefficients: print(\"Learnable coefficients:\", self.coefficients)\n",
    "        else: print(\"NOT learnable coefficients:\", self.coefficients)\n",
    "        print(symbolic_module.sympy())\n",
    "        print(\"Basic variables:\", self.basic_vars)\n",
    "            \n",
    "    def forward(self, input_dict):\n",
    "        return self.symbolic_module(**input_dict)*self.coefficients"
   ]
  },
  {
   "cell_type": "code",
   "execution_count": 46,
   "metadata": {},
   "outputs": [],
   "source": [
    "class Sine(nn.Module):\n",
    "    def __init__(self, ):\n",
    "        super(Sine, self).__init__()\n",
    "    def forward(self, x):\n",
    "        return torch.sin(x)\n",
    "\n",
    "class TorchMLP(nn.Module):\n",
    "    def __init__(self, dimensions, bias=True, activation_function=nn.Tanh(), bn=None, dropout=None):\n",
    "        super(TorchMLP, self).__init__()\n",
    "        # setup ModuleList\n",
    "        self.model  = nn.ModuleList()\n",
    "        for i in range(len(dimensions)-1):\n",
    "            self.model.append(nn.Linear(dimensions[i], dimensions[i+1], bias=bias))\n",
    "            if bn is not None and i!=len(dimensions)-2:\n",
    "                self.model.append(bn(dimensions[i+1]))\n",
    "                if dropout is not None:\n",
    "                    self.model.append(dropout)\n",
    "            if i==len(dimensions)-2: break\n",
    "            self.model.append(activation_function)\n",
    "        # weight init\n",
    "        self.model.apply(self.xavier_init)\n",
    "\n",
    "    def xavier_init(self, m):\n",
    "        if type(m) == nn.Linear:\n",
    "            torch.nn.init.xavier_uniform_(m.weight)\n",
    "            m.bias.data.fill_(0.0)\n",
    "\n",
    "    def forward(self, x):\n",
    "        for i, l in enumerate(self.model): \n",
    "            x = l(x)\n",
    "        return x"
   ]
  },
  {
   "cell_type": "code",
   "execution_count": 47,
   "metadata": {},
   "outputs": [],
   "source": [
    "rng = default_rng()\n",
    "sampled_indices_x = rng.choice(len(x), size=int(len(x)//(2)), replace=False)\n",
    "sampled_indices_t = rng.choice(len(t), size=int(len(t)//(2)), replace=False)"
   ]
  },
  {
   "cell_type": "code",
   "execution_count": 48,
   "metadata": {},
   "outputs": [],
   "source": [
    "X_train = np.hstack((X[sampled_indices_t, :][:, sampled_indices_x].flatten()[:,None], \n",
    "                     T[sampled_indices_t, :][:, sampled_indices_x].flatten()[:,None]))\n",
    "y_train = un.T[sampled_indices_t, :][:, sampled_indices_x].flatten()[:,None]\n",
    "lb = torch.tensor(X_train.min(axis=0)).float().requires_grad_(False)\n",
    "ub = torch.tensor(X_train.max(axis=0)).float().requires_grad_(False)"
   ]
  },
  {
   "cell_type": "code",
   "execution_count": 49,
   "metadata": {},
   "outputs": [
    {
     "data": {
      "text/plain": [
       "(torch.Size([6400, 2]), torch.Size([6400, 1]))"
      ]
     },
     "execution_count": 49,
     "metadata": {},
     "output_type": "execute_result"
    }
   ],
   "source": [
    "# Converting to tensors\n",
    "X_train = torch.tensor(X_train).float().requires_grad_(True)\n",
    "y_train = torch.tensor(y_train).float().requires_grad_(False)\n",
    "X_train.shape, y_train.shape"
   ]
  },
  {
   "cell_type": "code",
   "execution_count": 50,
   "metadata": {},
   "outputs": [
    {
     "data": {
      "text/plain": [
       "(array([ 0.09517879, -1.0106909 ], dtype=float32),\n",
       " SymPyModule(expressions=(u_11, u*u_1)))"
      ]
     },
     "execution_count": 50,
     "metadata": {},
     "output_type": "execute_result"
    }
   ],
   "source": [
    "com = 2; com = max(com, 1)\n",
    "init_coefficients = np.linalg.lstsq(X_pre[:, np.where(best_subsets[com-1]>0)[0]], \n",
    "                                    y_pre)[0].flatten()\n",
    "mod, basic_vars = math_eval(encoded_pde_names[com-1], \n",
    "                            return_torch=True, split_by_addition=True)\n",
    "init_coefficients, mod"
   ]
  },
  {
   "cell_type": "code",
   "execution_count": 51,
   "metadata": {},
   "outputs": [],
   "source": [
    "from torch.autograd import grad\n",
    "\n",
    "class PINN(nn.Module):\n",
    "    def __init__(self, solver, physics_calculator, lb, ub):\n",
    "        super(PINN, self).__init__()\n",
    "        self.solver = solver\n",
    "        self.physics_calculator = physics_calculator\n",
    "        self.lb = lb\n",
    "        self.ub = ub\n",
    "        \n",
    "    def forward(self, x, t):\n",
    "        return self.solver(self.input_normalize(torch.cat([x, t],  dim=-1)))\n",
    "    \n",
    "    def loss(self, x, t, y_input, print_losses=False):\n",
    "        u = self.forward(x, t)\n",
    "        \n",
    "        # PDE Loss calculation\n",
    "        u_t = self.gradients(u, t)[0]\n",
    "        u_1 = self.gradients(u, x)[0]\n",
    "        u_11 = self.gradients(u_1, x)[0]\n",
    "        physics = self.physics_calculator({nameof(u):u, \n",
    "                                        nameof(u_1):u_1, \n",
    "                                        nameof(u_11):u_11}).sum(axis=-1)\n",
    "        \n",
    "        l_eq = F.mse_loss(u_t, physics, reduction='mean')\n",
    "        mse = F.mse_loss(u, y_input, reduction='mean')\n",
    "        \n",
    "        return l_eq+mse\n",
    "    \n",
    "    def gradients(self, func, x):\n",
    "        return grad(func, x, create_graph=True, retain_graph=True, grad_outputs=torch.ones(func.shape))\n",
    "\n",
    "    def input_normalize(self, inp):\n",
    "        return -1.0+2.0*(inp-self.lb)/(self.ub-self.lb)"
   ]
  },
  {
   "cell_type": "code",
   "execution_count": 52,
   "metadata": {},
   "outputs": [
    {
     "name": "stdout",
     "output_type": "stream",
     "text": [
      "NOT learnable coefficients: tensor([ 0.0952, -1.0107])\n",
      "[u_11, u*u_1]\n",
      "Basic variables: ['u', 'u_1', 'u_11']\n"
     ]
    }
   ],
   "source": [
    "torch.manual_seed(1234)\n",
    "\n",
    "# Fix seeds | Try sin activation function | bias init at 0.01\n",
    "# solver = TorchMLP([2,50,50,50,50,1], bn=None, activation_function=nn.Tanh())\n",
    "solver = TorchMLP([2,50,50,50,50,1], bn=None, activation_function=Sine())\n",
    "physics_calculator = PhysicalConstraintCalculator(symbolic_module=mod, \n",
    "                                                  basic_vars=basic_vars, \n",
    "                                                  init_coefficients=init_coefficients)"
   ]
  },
  {
   "cell_type": "code",
   "execution_count": 53,
   "metadata": {},
   "outputs": [
    {
     "data": {
      "text/plain": [
       "tensor(0.0759, grad_fn=<AddBackward0>)"
      ]
     },
     "execution_count": 53,
     "metadata": {},
     "output_type": "execute_result"
    }
   ],
   "source": [
    "pinn = PINN(solver, physics_calculator, lb, ub)\n",
    "pinn.loss(X_train[:,0:1], X_train[:,1:2], y_train)\n",
    "# pinn.loss(X_train[:,0:1][:10, :], X_train[:,1:2][:10, :], y_train[:10])"
   ]
  },
  {
   "cell_type": "code",
   "execution_count": 54,
   "metadata": {},
   "outputs": [
    {
     "name": "stdout",
     "output_type": "stream",
     "text": [
      "Epoch 0:  0.0026267257053405046\n",
      "Epoch 50:  0.0023517562076449394\n"
     ]
    }
   ],
   "source": [
    "lbfgs = torch.optim.LBFGS(pinn.parameters(), lr=0.1, \n",
    "                          max_iter=500, max_eval=500, history_size=300, \n",
    "                          line_search_fn='strong_wolfe')\n",
    "epochs = 100\n",
    "pinn.train()\n",
    "\n",
    "for i in range(epochs):\n",
    "    def closure():\n",
    "        if torch.is_grad_enabled(): \n",
    "            lbfgs.zero_grad()\n",
    "        l = pinn.loss(X_train[:, 0:1], X_train[:, 1:2], y_train)\n",
    "        if l.requires_grad: \n",
    "            l.backward()\n",
    "        return l\n",
    "\n",
    "    lbfgs.step(closure)\n",
    "\n",
    "    # calculate the loss again for monitoring\n",
    "    if (i % 50) == 0:\n",
    "        l = closure()\n",
    "        print(\"Epoch {}: \".format(i), l.item())"
   ]
  },
  {
   "cell_type": "code",
   "execution_count": 55,
   "metadata": {},
   "outputs": [],
   "source": [
    "pinn.eval()\n",
    "pred = pinn(X_train[:, 0:1], X_train[:, 1:2]).detach().numpy()"
   ]
  },
  {
   "cell_type": "code",
   "execution_count": 56,
   "metadata": {},
   "outputs": [],
   "source": [
    "def log_like_value(prediction, ground):                                                                                                               \n",
    "    nobs = float(ground.shape[0])\n",
    "    nobs2 = nobs / 2.0\n",
    "    ssr = np.sum(np.abs(ground - prediction)**2)\n",
    "    llf = -nobs2 * np.log(2 * np.pi) - nobs2 * np.log(ssr / nobs) - nobs2\n",
    "    return llf\n",
    "\n",
    "def BIC_AIC(prediction, ground, nparams, reg_func = lambda x: x):\n",
    "    nparams = reg_func(nparams)\n",
    "    llf = log_like_value(prediction, ground)\n",
    "    return -2*llf + np.log(ground.shape[0])*nparams, -2*llf + 2*nparams"
   ]
  },
  {
   "cell_type": "code",
   "execution_count": 57,
   "metadata": {},
   "outputs": [
    {
     "data": {
      "text/plain": [
       "(-20597.461100696244, -20610.98920723494)"
      ]
     },
     "execution_count": 57,
     "metadata": {},
     "output_type": "execute_result"
    }
   ],
   "source": [
    "# On training data\n",
    "# com=1: \n",
    "# com=2: tanh -> (-20705.123519001616, -20718.65162554031) | sin ->\n",
    "# com=3: (-19456.586654227198, -19476.87881403524)\n",
    "# On validation data\n",
    "# com=1: \n",
    "# com=2: \n",
    "# com=3: \n",
    "# On entire data\n",
    "# com=1: \n",
    "# com=2: \n",
    "# com=3: \n",
    "\n",
    "BIC_AIC(pred, y_train.detach().numpy(), com)"
   ]
  },
  {
   "cell_type": "code",
   "execution_count": null,
   "metadata": {},
   "outputs": [],
   "source": []
  },
  {
   "cell_type": "code",
   "execution_count": null,
   "metadata": {},
   "outputs": [],
   "source": []
  },
  {
   "cell_type": "markdown",
   "metadata": {},
   "source": [
    "#### For training DeepONets"
   ]
  },
  {
   "cell_type": "code",
   "execution_count": 58,
   "metadata": {},
   "outputs": [],
   "source": [
    "# data['un'] = un_copy+0.0j\n",
    "# data['denoised_un'] = un+0.0j\n",
    "# data['discovered_coefficients'] = ols_model.params\n",
    "# data['feature_names'] = np.array([convert2latex(f) for i,f in enumerate(model.get_feature_names()) if i in eff_rhs_indices])\n",
    "# sio.savemat(\"../Datasets/noisy_burgers.mat\", data)\n",
    "\n",
    "# data['un'] = un_copy+0.0j\n",
    "# sio.savemat(\"../RDAE_data/noisy40_burgers.mat\", data)"
   ]
  },
  {
   "cell_type": "markdown",
   "metadata": {},
   "source": [
    "#### Physics-informed model selection.... (2 options)\n",
    "    - Fixed coefficients + learned diffivative values (by autodiff)\n",
    "    - Fixed polynomial candidate values (following feature_names: ['u', 'uu', 'u_1', 'u_11', 'uu_1', 'uuu_1', 'uu_11', 'uuu_11']) + learned coefficients"
   ]
  },
  {
   "cell_type": "code",
   "execution_count": null,
   "metadata": {},
   "outputs": [],
   "source": []
  },
  {
   "cell_type": "code",
   "execution_count": null,
   "metadata": {},
   "outputs": [],
   "source": []
  },
  {
   "cell_type": "code",
   "execution_count": 59,
   "metadata": {},
   "outputs": [],
   "source": [
    "%matplotlib inline\n",
    "import matplotlib.pyplot as plt\n",
    "import numpy as np"
   ]
  },
  {
   "cell_type": "code",
   "execution_count": 60,
   "metadata": {},
   "outputs": [
    {
     "data": {
      "image/png": "[encoded data removed]",
      "text/plain": [
       "<Figure size 432x288 with 1 Axes>"
      ]
     },
     "metadata": {
      "needs_background": "light"
     },
     "output_type": "display_data"
    }
   ],
   "source": [
    "ic1 = np.array([-61457.79563302, -67768.04270879, -67892.04820035, -67912.10229129, -67929.64549213, -67937.40869858, -67945.9834522 ])\n",
    "coms1 = np.array([1, 2, 3, 4, 5, 6, 7])\n",
    "ic2 = np.array([-61942.58641101, -68634.67590443, -68707.14669999, -68723.3471394 , -68771.5720519 , -68784.91274736, -68791.13974807])\n",
    "coms2 = np.array([1, 2, 3, 4, 5, 6, 7])\n",
    "ic3 = np.array([-61470.53751784, -67403.7884947 , -67463.47315383, -67491.22503685, -67524.31114049, -67541.30459472, -67577.12280888])\n",
    "coms3 = np.array([1, 2, 3, 4, 5, 6, 7])\n",
    "ic4 = np.array([-63319.57267493, -69422.77962975, -69521.1242639 , -69610.94610283, -69632.39125379, -69759.73072006, -69759.86095886, -69766.15596996])\n",
    "coms4 = np.array([1, 2, 3, 4, 5, 6, 7, 8])\n",
    "\n",
    "plt.plot(coms1, ic1, '-o', label='$\\lambda_{1}=5$', color='blue')\n",
    "plt.plot(coms3, ic3, '-o', label='$\\lambda_{1}=1.0$', color='red')\n",
    "plt.plot(coms2, ic2, '-o', label='$\\lambda_{1}=0.5$', color='darkgreen')\n",
    "plt.plot(coms4, ic4, '-o', label='$\\lambda_{1}=0.05$', color='black')\n",
    "plt.ylabel(\"(Decreasing) AIC\")\n",
    "plt.xlabel(\"#parameters\")\n",
    "plt.legend()\n",
    "plt.tight_layout()\n",
    "# plt.savefig('ffff1.pdf')\n",
    "plt.show()"
   ]
  },
  {
   "cell_type": "code",
   "execution_count": 61,
   "metadata": {},
   "outputs": [
    {
     "data": {
      "image/png": "[encoded data removed]",
      "text/plain": [
       "<Figure size 432x288 with 1 Axes>"
      ]
     },
     "metadata": {
      "needs_background": "light"
     },
     "output_type": "display_data"
    }
   ],
   "source": [
    "xs = ['$5$', '$1.0$', '$0.5$', '$0.05$']\n",
    "ys = [ic1[0]-ic1[1], ic3[0]-ic3[1], ic2[0]-ic2[1], ic4[0]-ic4[1]]\n",
    "colors = ['blue', 'red', 'darkgreen', 'black']\n",
    "for i in range(len(xs)):\n",
    "    plt.bar(xs[i], ys[i], color=colors[i])\n",
    "plt.ylabel('Maximum AIC decrease')\n",
    "plt.xlabel('$\\lambda_{1}$')\n",
    "plt.tight_layout()\n",
    "# plt.savefig('ffff2.pdf')\n",
    "plt.show()"
   ]
  },
  {
   "cell_type": "code",
   "execution_count": 62,
   "metadata": {},
   "outputs": [],
   "source": [
    "# RDAE 5e-0: (2.9505659028666087, 1.8024006266427972) -> 1\n",
    "# RDAE 1e-1: (3.2008235132427463, 2.56690175990938) -> 2\n",
    "# RDAE 5e-1: (2.469185388081714, 1.7166311808760781) -> 0\n",
    "# RDAE 5e-2: (6.015975755333656, 5.859365864415776) -> 3"
   ]
  },
  {
   "cell_type": "code",
   "execution_count": 63,
   "metadata": {},
   "outputs": [],
   "source": [
    "# cv_abs/(max_diff_bic) -> Experiments on more PDEs are required."
   ]
  },
  {
   "cell_type": "code",
   "execution_count": 64,
   "metadata": {},
   "outputs": [],
   "source": [
    "ics = np.array([ic1[0]-ic1[1], ic3[0]-ic3[1], ic2[0]-ic2[1], ic4[0]-ic4[1]])\n",
    "cvs = np.array([0.005062929348375081, 0.004408008789094885, 0.003467511174737858, 0.004305311364345706])\n",
    "cvs_abs = np.array([0.011023507990422338, 0.00910193468516509, 0.008040505161991068, 0.007809099375818377])"
   ]
  },
  {
   "cell_type": "code",
   "execution_count": 65,
   "metadata": {},
   "outputs": [
    {
     "data": {
      "text/plain": [
       "array([8.02334566e-07, 7.42933142e-07, 5.18150748e-07, 7.05417889e-07])"
      ]
     },
     "execution_count": 65,
     "metadata": {},
     "output_type": "execute_result"
    }
   ],
   "source": [
    "cvs/ics"
   ]
  },
  {
   "cell_type": "code",
   "execution_count": 66,
   "metadata": {},
   "outputs": [
    {
     "data": {
      "text/plain": [
       "array([1.74692177e-06, 1.53405523e-06, 1.20149397e-06, 1.27950755e-06])"
      ]
     },
     "execution_count": 66,
     "metadata": {},
     "output_type": "execute_result"
    }
   ],
   "source": [
    "cvs_abs/ics"
   ]
  },
  {
   "cell_type": "code",
   "execution_count": null,
   "metadata": {},
   "outputs": [],
   "source": []
  },
  {
   "cell_type": "code",
   "execution_count": null,
   "metadata": {},
   "outputs": [],
   "source": []
  }
 ],
 "metadata": {
  "anaconda-cloud": {},
  "kernelspec": {
   "display_name": "Python [conda env:pysr]",
   "language": "python",
   "name": "conda-env-pysr-py"
  },
  "language_info": {
   "codemirror_mode": {
    "name": "ipython",
    "version": 3
   },
   "file_extension": ".py",
   "mimetype": "text/x-python",
   "name": "python",
   "nbconvert_exporter": "python",
   "pygments_lexer": "ipython3",
   "version": "3.10.6"
  },
  "widgets": {
   "application/vnd.jupyter.widget-state+json": {
    "state": {},
    "version_major": 2,
    "version_minor": 0
   }
  }
 },
 "nbformat": 4,
 "nbformat_minor": 4
}
