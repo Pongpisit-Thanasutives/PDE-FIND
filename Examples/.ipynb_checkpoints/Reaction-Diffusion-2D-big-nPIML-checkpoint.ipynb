{
 "cells": [
  {
   "cell_type": "markdown",
   "id": "823da98c-2a31-4f1c-b696-317d0d110853",
   "metadata": {},
   "source": [
    "## ReactionDiffusion 2D big\n",
    "    - noise_lv = 15\n",
    "    - Now need bruteforcing\n",
    "    - V2 means เอา Odd indices -> Look at issub variable | Odd or even not different"
   ]
  },
  {
   "cell_type": "code",
   "execution_count": 1,
   "id": "5c8736f7-3fcd-49e0-9367-6a3627c14b26",
   "metadata": {},
   "outputs": [
    {
     "name": "stdout",
     "output_type": "stream",
     "text": [
      "Populating the interactive namespace from numpy and matplotlib\n"
     ]
    }
   ],
   "source": [
    "%load_ext autoreload\n",
    "%autoreload 2\n",
    "%pylab inline\n",
    "pylab.rcParams['figure.figsize'] = (12, 8)\n",
    "import warnings; warnings.filterwarnings(\"ignore\")\n",
    "\n",
    "import numpy as np\n",
    "import pandas as pd\n",
    "from mpl_toolkits.mplot3d import Axes3D\n",
    "from sympy import symbols\n",
    "\n",
    "import sys; sys.path.append('../')\n",
    "from PDE_FIND import *\n",
    "\n",
    "import sys; sys.path.append('../../parametric-discovery/')\n",
    "from best_subset import *\n",
    "from frols import frols\n",
    "from p_linear_regression import PLinearRegression\n",
    "from r_pca import R_pca\n",
    "from pde_diff_new import RPCA\n",
    "from RobustPCA.rpca import RobustPCA\n",
    "\n",
    "import scipy.io as sio\n",
    "from scipy.signal import savgol_filter\n",
    "import itertools\n",
    "\n",
    "from sklearn.preprocessing import normalize\n",
    "from sklearn.linear_model import Ridge, BayesianRidge, LinearRegression as SkLinearRegression\n",
    "from sklearn.base import BaseEstimator\n",
    "from sklearn.pipeline import make_pipeline\n",
    "from sklearn.metrics import mean_squared_error\n",
    "from abess.linear import LinearRegression\n",
    "from bess import PdasLm\n",
    "import pysindy as ps\n",
    "\n",
    "from tqdm import trange\n",
    "from os.path import join as join_path\n",
    "FIGURE_EXPORT_PATH = \"/Users/pongpisit/Documents/figure_export/\""
   ]
  },
  {
   "cell_type": "code",
   "execution_count": 2,
   "id": "f428bf63-f8aa-4de3-97c8-dd17f45a8c55",
   "metadata": {},
   "outputs": [],
   "source": [
    "def nonzero(wei):\n",
    "    return tuple(np.nonzero(wei)[0])\n",
    "\n",
    "def check_percent(bic_scores, complexities):\n",
    "    slope = (bic_scores[1:]-bic_scores[:-1])/(complexities[1:]-complexities[:-1])\n",
    "    slope_index = np.argmin(slope)\n",
    "    percent_improve = 100*np.abs(bic_scores[slope_index+1]-bic_scores[slope_index])/np.abs(bic_scores[slope_index])\n",
    "    percent_from_1 = 100*np.abs(bic_scores[slope_index+1]-bic_scores[0])/np.abs(bic_scores[0])\n",
    "    return slope_index+1, percent_improve, percent_from_1\n",
    "\n",
    "def percent_coeff(pred, ground):\n",
    "    return 100*(np.abs(pred-ground)/np.abs(ground))"
   ]
  },
  {
   "cell_type": "code",
   "execution_count": 3,
   "id": "0e366b04-cdf3-40e8-9cfc-b0e0c25ea165",
   "metadata": {},
   "outputs": [],
   "source": [
    "data = sio.loadmat('../Datasets/reaction_diffusion_2d_big.mat')\n",
    "u_sol = real(data['u'])\n",
    "v_sol = real(data['v'])\n",
    "x = real(data['x'][0])\n",
    "y = real(data['y'][0])\n",
    "t = real(data['t'][:,0])\n",
    "\n",
    "n = 512; issub = 2\n",
    "if issub > 1:\n",
    "    spatial_sub_indices = np.array([i for i in range(n) if i%issub==1])\n",
    "    u_sol = u_sol[spatial_sub_indices, :, :][:, spatial_sub_indices, :]\n",
    "    v_sol = v_sol[spatial_sub_indices, :, :][:, spatial_sub_indices, :]\n",
    "    x = x[spatial_sub_indices]\n",
    "    y = y[spatial_sub_indices]\n",
    "m = 201; issub = 1\n",
    "if issub > 1:\n",
    "    time_sub_indices = np.array([i for i in range(m) if i%issub==0])\n",
    "    u_sol = u_sol[:, :, time_sub_indices]\n",
    "    v_sol = v_sol[:, :, time_sub_indices]\n",
    "    t = t[time_sub_indices]\n",
    "\n",
    "dt = t[1] - t[0]\n",
    "dx = x[1] - x[0]\n",
    "dy = y[1] - y[0]\n",
    "\n",
    "# For WeakPDELibrary\n",
    "ground_indices_u = (0, 2, 3, 4, 5, 8, 14)\n",
    "ground_coeff_u = np.array([1.000,-1.000,1.000,-1.000,1.000,0.100,0.100])\n",
    "ground_indices_v = (1, 2, 3, 4, 5, 9, 15)\n",
    "ground_coeff_v = np.array([1.000,-1.000,-1.000,-1.000,-1.000,0.100,0.100])"
   ]
  },
  {
   "cell_type": "code",
   "execution_count": 4,
   "id": "1accd704-7384-41ab-bbbb-b145ab5732aa",
   "metadata": {},
   "outputs": [],
   "source": [
    "u = np.zeros((x.shape[0], y.shape[0], len(t), 2))\n",
    "u[:, :, :, 0] = u_sol\n",
    "u[:, :, :, 1] = v_sol\n",
    "\n",
    "# Odd polynomial terms in (u, v), up to second order derivatives in (u, v)\n",
    "library_functions = [\n",
    "    lambda x: x,\n",
    "    lambda x: x * x * x,\n",
    "    lambda x, y: x * y * y,\n",
    "    lambda x, y: x * x * y,\n",
    "]\n",
    "library_function_names = [\n",
    "    lambda x: x,\n",
    "    lambda x: x + x + x,\n",
    "    lambda x, y: x + y + y,\n",
    "    lambda x, y: x + x + y,\n",
    "]\n",
    "\n",
    "# Need to define the 2D spatial grid before calling the library\n",
    "np.random.seed(100)\n",
    "X, Y, T = np.meshgrid(x, y, t, indexing='ij')\n",
    "XYT = np.transpose([X, Y, T], [1, 2, 3, 0])"
   ]
  },
  {
   "cell_type": "code",
   "execution_count": 5,
   "id": "1010e2b8-1185-4063-963f-da0475f7ec76",
   "metadata": {},
   "outputs": [],
   "source": [
    "# Need to increase the weak form mesh resolution a bit if data is noisy\n",
    "weak_lib = ps.WeakPDELibrary(\n",
    "    library_functions=library_functions,\n",
    "    function_names=library_function_names,\n",
    "    derivative_order=2,\n",
    "    spatiotemporal_grid=XYT,\n",
    "    K=10000,\n",
    "    is_uniform=True,\n",
    "    periodic=True,\n",
    "    include_interaction=True, \n",
    "    cache=True\n",
    ")\n",
    "\n",
    "# Noiseless\n",
    "u_noisy = u.copy()\n",
    "noise_lv = 15\n",
    "domain_noise = 0.01*np.abs(noise_lv)*np.std(u_noisy)*np.random.randn(u_noisy.shape[0], \n",
    "                                                                     u_noisy.shape[1], \n",
    "                                                                     u_noisy.shape[2], \n",
    "                                                                     u_noisy.shape[3],)\n",
    "u_noisy = u_noisy + domain_noise"
   ]
  },
  {
   "cell_type": "code",
   "execution_count": 6,
   "id": "bdb4aec0-0bd1-410e-9d35-3523d2a440bb",
   "metadata": {},
   "outputs": [],
   "source": [
    "thres_stlsq = None\n",
    "thres_stlsq = 1e-1\n",
    "if thres_stlsq is not None:\n",
    "    optimizer = ps.STLSQ(threshold=thres_stlsq, alpha=1e-5, normalize_columns=True)\n",
    "\n",
    "# thres = 5e-4\n",
    "# optimizer = L0BNB(max_nonzeros=12, lam=1e-1, threshold=thres, \n",
    "#                   is_normal=False, normalize_columns=True)"
   ]
  },
  {
   "cell_type": "code",
   "execution_count": 7,
   "id": "37acbc57-7a13-496f-b1df-5d011439dd95",
   "metadata": {},
   "outputs": [
    {
     "name": "stdout",
     "output_type": "stream",
     "text": [
      "(u)' = 0.849 u + 0.179 v + -0.815 uuu + 0.769 vvv + -0.813 uvv + 0.767 uuv + 0.083 u_22 + 0.084 u_11\n",
      "(v)' = -0.151 u + 0.855 v + -0.799 uuu + -0.818 vvv + -0.797 uvv + -0.818 uuv + 0.086 v_22 + 0.086 v_11 + 0.009 vvvv_22 + -0.010 uvvv_22 + -0.011 uuvv_22 + 0.036 uu_1 + -0.085 uuuu_1 + 0.040 vvvv_1 + -0.090 uvvv_1 + -0.010 vvvv_11 + 0.011 uvvv_11 + 0.012 uuvv_11\n"
     ]
    }
   ],
   "source": [
    "model = ps.SINDy(feature_library=weak_lib, optimizer=optimizer, \n",
    "                 cache=True, feature_names=['u', 'v'])\n",
    "model.fit(u_noisy, ensemble=False, library_ensemble=False)\n",
    "model.print()"
   ]
  },
  {
   "cell_type": "code",
   "execution_count": 8,
   "id": "e1038a14-5752-4f4d-ba5a-541abed6c517",
   "metadata": {},
   "outputs": [
    {
     "name": "stdout",
     "output_type": "stream",
     "text": [
      "u_t = (0.067813 +0.000000i)u\n",
      "    + (1.103205 +0.000000i)v\n",
      "    + (-0.073863 +0.000000i)uuu\n",
      "    + (-0.205475 +0.000000i)vvv\n",
      "    + (-0.072619 +0.000000i)uvv\n",
      "    + (-0.210551 +0.000000i)uuv\n",
      "   \n"
     ]
    },
    {
     "data": {
      "text/plain": [
       "(0, 1, 2, 3, 4, 5)"
      ]
     },
     "execution_count": 8,
     "metadata": {},
     "output_type": "execute_result"
    }
   ],
   "source": [
    "_, ensemble_indices_u = model.validate_coef_list(target_index=0, criterion='bic')[0]\n",
    "ensemble_indices_u"
   ]
  },
  {
   "cell_type": "code",
   "execution_count": 9,
   "id": "ad6a44b6-4d84-443c-b60b-c655de9a0adc",
   "metadata": {},
   "outputs": [
    {
     "name": "stdout",
     "output_type": "stream",
     "text": [
      "u_t = (-1.100886 +0.000000i)u\n",
      "    + (0.037555 +0.000000i)v\n",
      "    + (0.203575 +0.000000i)uuu\n",
      "    + (-0.041613 +0.000000i)vvv\n",
      "    + (0.206424 +0.000000i)uvv\n",
      "    + (-0.039739 +0.000000i)uuv\n",
      "   \n"
     ]
    },
    {
     "data": {
      "text/plain": [
       "(0, 1, 2, 3, 4, 5)"
      ]
     },
     "execution_count": 9,
     "metadata": {},
     "output_type": "execute_result"
    }
   ],
   "source": [
    "_, ensemble_indices_v = model.validate_coef_list(target_index=1, criterion='bic')[0]\n",
    "ensemble_indices_v"
   ]
  },
  {
   "cell_type": "code",
   "execution_count": 10,
   "id": "148a5f2b-5bf4-4e7c-9bf9-6dcc9c740f72",
   "metadata": {},
   "outputs": [
    {
     "name": "stdout",
     "output_type": "stream",
     "text": [
      "stridge_u ...\n",
      "{(0, 1, 2, 3, 4, 5)}\n",
      "{(0, 1, 2, 3, 4, 5, 8, 14), (0, 1, 2, 3, 4, 5)}\n",
      "stridge_v ...\n",
      "{(0, 1, 2, 3, 4, 5)}\n",
      "{(0, 1, 2, 3, 4, 5, 9, 15, 35, 37, 39, 40, 44, 47, 49, 71, 73, 75), (0, 1, 2, 3, 4, 5)}\n"
     ]
    }
   ],
   "source": [
    "print(\"stridge_u ...\")\n",
    "stridge_u = set()\n",
    "stridge_u.add(ensemble_indices_u)\n",
    "print(stridge_u)\n",
    "for i in range(len(model.get_coef_list())):\n",
    "    stridge_u.add(nonzero(model.get_coef_list()[i][0]))\n",
    "print(stridge_u)\n",
    "\n",
    "print(\"stridge_v ...\")\n",
    "stridge_v = set()\n",
    "stridge_v.add(ensemble_indices_v)\n",
    "print(stridge_v)\n",
    "for i in range(len(model.get_coef_list())):\n",
    "    stridge_v.add(nonzero(model.get_coef_list()[i][1]))\n",
    "print(stridge_v)"
   ]
  },
  {
   "cell_type": "code",
   "execution_count": 11,
   "id": "83d7409c-12ff-4487-963b-970087cb975e",
   "metadata": {},
   "outputs": [],
   "source": [
    "X_pre, y_pre = model.feature_library.cached_xp_full[0], model.cached_x_dot\n",
    "# nonzero(brute_force(X_pre[:, :16], y_pre[:, 0:1], support_size=7))\n",
    "# nonzero(brute_force(X_pre[:, :16], y_pre[:, 1:2], support_size=7))"
   ]
  },
  {
   "cell_type": "code",
   "execution_count": 12,
   "id": "d4de109e-335c-4072-bfa7-c8f23df3b28e",
   "metadata": {},
   "outputs": [],
   "source": [
    "max_complexity = 12; target_index = 1"
   ]
  },
  {
   "cell_type": "code",
   "execution_count": 13,
   "id": "f4dedacd-7ba5-4f87-872b-b545d4d33bf4",
   "metadata": {},
   "outputs": [
    {
     "data": {
      "text/plain": [
       "{(0,),\n",
       " (0, 2, 3, 4, 5, 8, 9, 14, 15),\n",
       " (0, 2, 4),\n",
       " (0, 2, 4, 8),\n",
       " (0, 2, 4, 8, 9, 14, 15)}"
      ]
     },
     "execution_count": 13,
     "metadata": {},
     "output_type": "execute_result"
    }
   ],
   "source": [
    "thres = 1e-4\n",
    "nor_axis = None\n",
    "if nor_axis is not None: Xbnb = normalize(X_pre, axis=nor_axis)\n",
    "else: Xbnb = X_pre.copy()\n",
    "bnb_feature_hierarchy = set()\n",
    "for lam in (1e-1, ): # (1e-1, ) and (1e-2, ) are fine.\n",
    "    bnb_sols = bnb(Xbnb, y_pre[:, target_index:target_index+1].ravel(), max_nonzeros=max_complexity, \n",
    "                   lam=lam, threshold=thres, normalize=True, corrected_coefficients=True)\n",
    "    bnb_feature_hierarchy = bnb_feature_hierarchy.union(set([tuple(np.nonzero(bnb_sols[:, i:i+1].flatten())[0].tolist()) \n",
    "                                                             for i in range(bnb_sols.shape[1])]))\n",
    "bnb_feature_hierarchy"
   ]
  },
  {
   "cell_type": "code",
   "execution_count": 14,
   "id": "30b26968-a395-4d07-b510-923bf80de791",
   "metadata": {},
   "outputs": [
    {
     "data": {
      "text/plain": [
       "{(0,),\n",
       " (0, 1, 2, 3, 4, 5, 8, 9, 14, 15),\n",
       " (0, 1, 2, 3, 4, 5, 8, 9, 14, 15, 65, 70),\n",
       " (0, 1, 2, 3, 4, 5, 8, 9, 14, 15, 70),\n",
       " (0, 1, 2, 3, 4, 8, 9, 14, 15),\n",
       " (0, 1, 2, 4, 8, 9, 14, 15),\n",
       " (0, 1, 2, 8, 9, 14, 15),\n",
       " (0, 1, 8, 9, 14, 15),\n",
       " (0, 1, 8, 9, 15),\n",
       " (0, 1, 9, 15),\n",
       " (0, 1, 15),\n",
       " (0, 15)}"
      ]
     },
     "execution_count": 14,
     "metadata": {},
     "output_type": "execute_result"
    }
   ],
   "source": [
    "nor_axis = 0\n",
    "if nor_axis is not None: Xfrols = normalize(X_pre, axis=nor_axis)\n",
    "else: Xfrols = X_pre.copy()\n",
    "frols_coeffs,selected_inds_list,_,_,_ = frols(y_pre[:, target_index:target_index+1], Xfrols, max_nonzeros=max_complexity)\n",
    "selected_inds_list = set(selected_inds_list)\n",
    "selected_inds_list"
   ]
  },
  {
   "cell_type": "code",
   "execution_count": 15,
   "id": "977899a8-368b-4936-95b9-97f9780fb639",
   "metadata": {},
   "outputs": [],
   "source": [
    "feature_hierarchy_u = bnb_feature_hierarchy.union(selected_inds_list)\n",
    "if thres_stlsq is not None:\n",
    "    if target_index == 0:\n",
    "        feature_hierarchy_u = stridge_u.union((bnb_feature_hierarchy).union(selected_inds_list))\n",
    "    elif target_index == 1:\n",
    "        feature_hierarchy_u = stridge_v.union((bnb_feature_hierarchy).union(selected_inds_list))"
   ]
  },
  {
   "cell_type": "code",
   "execution_count": 16,
   "id": "81da2d5c-7940-4dd1-90c6-72710bd2f387",
   "metadata": {},
   "outputs": [
    {
     "name": "stdout",
     "output_type": "stream",
     "text": [
      "RFE_PLinearRegression\n",
      "(0, 2, 4, 8, 9, 14, 15)\n",
      "(0, 4, 8, 9, 14, 15)\n",
      "(0, 8, 9, 14, 15)\n",
      "(0, 8, 9, 15)\n",
      "(0, 9, 15)\n",
      "(0, 15)\n",
      "(0,)\n",
      "--------------------------------------------------\n",
      "(0, 1, 2, 3, 4, 5, 8, 9, 14, 15, 65, 70)\n",
      "(0, 1, 2, 3, 4, 5, 8, 9, 14, 15, 70)\n",
      "(0, 1, 2, 3, 4, 5, 9, 14, 15, 70)\n",
      "(0, 1, 2, 3, 4, 5, 9, 14, 15)\n",
      "(0, 1, 2, 3, 4, 5, 9, 15)\n",
      "(1, 2, 3, 4, 5, 9, 15)\n",
      "(1, 2, 3, 4, 9, 15)\n",
      "(1, 2, 4, 9, 15)\n",
      "(1, 2, 4, 15)\n",
      "(2, 4, 15)\n",
      "(2, 4)\n",
      "(2,)\n",
      "--------------------------------------------------\n",
      "(0, 2, 4, 8)\n",
      "(0, 2, 4)\n",
      "(0, 4)\n",
      "(0,)\n",
      "--------------------------------------------------\n",
      "(0, 2, 3, 4, 5, 8, 9, 14, 15)\n",
      "(2, 3, 4, 5, 8, 9, 14, 15)\n",
      "(2, 3, 4, 8, 9, 14, 15)\n",
      "(2, 3, 4, 8, 9, 15)\n",
      "(2, 3, 4, 9, 15)\n",
      "(2, 3, 4, 15)\n",
      "(2, 4, 15)\n",
      "--------------------------------------------------\n",
      "(0, 1, 2, 3, 4, 5)\n",
      "(0, 1, 2, 3, 4)\n",
      "(0, 2, 3, 4)\n",
      "(0, 2, 4)\n",
      "--------------------------------------------------\n",
      "(0, 1, 9, 15)\n",
      "(0, 1, 15)\n",
      "(0, 15)\n",
      "--------------------------------------------------\n",
      "(0, 1, 8, 9, 15)\n",
      "(0, 1, 9, 15)\n",
      "--------------------------------------------------\n",
      "(0, 1, 2, 3, 4, 8, 9, 14, 15)\n",
      "(0, 1, 2, 4, 8, 9, 14, 15)\n",
      "(1, 2, 4, 8, 9, 14, 15)\n",
      "(1, 2, 4, 8, 9, 15)\n",
      "(1, 2, 4, 9, 15)\n",
      "--------------------------------------------------\n",
      "(0, 1, 2, 4, 8, 9, 14, 15)\n",
      "--------------------------------------------------\n",
      "(0, 1, 8, 9, 14, 15)\n",
      "(0, 1, 8, 9, 15)\n",
      "--------------------------------------------------\n",
      "(0, 15)\n",
      "--------------------------------------------------\n",
      "(0, 1, 2, 8, 9, 14, 15)\n",
      "(0, 1, 8, 9, 14, 15)\n",
      "--------------------------------------------------\n",
      "(0, 1, 2, 3, 4, 5, 8, 9, 14, 15)\n",
      "(0, 1, 2, 3, 4, 5, 9, 14, 15)\n",
      "--------------------------------------------------\n",
      "(0, 1, 15)\n",
      "--------------------------------------------------\n",
      "(0, 1, 2, 3, 4, 5, 8, 9, 14, 15, 70)\n",
      "--------------------------------------------------\n",
      "(0, 1, 2, 3, 4, 5, 9, 15, 35, 37, 39, 40, 44, 47, 49, 71, 73, 75)\n",
      "(0, 1, 2, 3, 4, 5, 9, 15, 37, 39, 40, 44, 47, 49, 71, 73, 75)\n",
      "(0, 1, 2, 3, 4, 5, 9, 15, 39, 40, 44, 47, 49, 71, 73, 75)\n",
      "(0, 1, 2, 3, 4, 5, 9, 15, 39, 40, 44, 47, 49, 73, 75)\n",
      "(0, 1, 2, 3, 4, 5, 9, 15, 39, 40, 44, 47, 49, 75)\n",
      "(0, 1, 2, 3, 4, 5, 9, 15, 39, 40, 44, 47, 49)\n",
      "(0, 1, 2, 3, 4, 5, 9, 15, 40, 44, 47, 49)\n",
      "(0, 1, 2, 3, 4, 5, 9, 15, 40, 47, 49)\n",
      "(0, 1, 2, 3, 4, 5, 9, 15, 40, 47)\n",
      "(0, 1, 2, 3, 4, 5, 9, 15, 47)\n",
      "(0, 1, 2, 3, 4, 5, 9, 15)\n",
      "--------------------------------------------------\n",
      "(0, 2, 4)\n",
      "--------------------------------------------------\n",
      "SelectKBest\n",
      "(0, 2, 4, 8, 9, 14, 15)\n",
      "(0, 4, 8, 9, 14, 15)\n",
      "(0, 8, 9, 14, 15)\n",
      "(0, 8, 9, 15)\n",
      "(0, 9, 15)\n",
      "(0, 15)\n",
      "(0,)\n",
      "--------------------------------------------------\n",
      "(0, 1, 2, 3, 4, 5, 8, 9, 14, 15, 65, 70)\n",
      "(0, 1, 2, 3, 4, 5, 8, 9, 14, 15, 70)\n",
      "(0, 1, 2, 3, 4, 5, 9, 14, 15, 70)\n",
      "(0, 1, 2, 3, 4, 5, 9, 14, 15)\n",
      "(0, 1, 2, 3, 4, 5, 9, 15)\n",
      "(1, 2, 3, 4, 5, 9, 15)\n",
      "(1, 2, 3, 4, 9, 15)\n",
      "(1, 2, 4, 9, 15)\n",
      "(1, 2, 4, 15)\n",
      "(2, 4, 15)\n",
      "(2, 4)\n",
      "(2,)\n",
      "--------------------------------------------------\n",
      "(0, 2, 4, 8)\n",
      "(0, 2, 4)\n",
      "(0, 4)\n",
      "(0,)\n",
      "--------------------------------------------------\n",
      "(0, 2, 3, 4, 5, 8, 9, 14, 15)\n",
      "(2, 3, 4, 5, 8, 9, 14, 15)\n",
      "(2, 3, 4, 8, 9, 14, 15)\n",
      "(2, 3, 4, 8, 9, 15)\n",
      "(2, 3, 4, 9, 15)\n",
      "(2, 3, 4, 15)\n",
      "(2, 4, 15)\n",
      "--------------------------------------------------\n",
      "(0, 1, 2, 3, 4, 5)\n",
      "(0, 1, 2, 3, 4)\n",
      "(0, 2, 3, 4)\n",
      "(0, 2, 4)\n",
      "--------------------------------------------------\n",
      "(0, 1, 9, 15)\n",
      "(0, 1, 15)\n",
      "(0, 15)\n",
      "--------------------------------------------------\n",
      "(0, 1, 8, 9, 15)\n",
      "(0, 1, 9, 15)\n",
      "--------------------------------------------------\n",
      "(0, 1, 2, 3, 4, 8, 9, 14, 15)\n",
      "(0, 1, 2, 4, 8, 9, 14, 15)\n",
      "(1, 2, 4, 8, 9, 14, 15)\n",
      "(1, 2, 4, 8, 9, 15)\n",
      "(1, 2, 4, 9, 15)\n",
      "--------------------------------------------------\n",
      "(0, 1, 2, 4, 8, 9, 14, 15)\n",
      "--------------------------------------------------\n",
      "(0, 1, 8, 9, 14, 15)\n",
      "(0, 1, 8, 9, 15)\n",
      "--------------------------------------------------\n",
      "(0, 15)\n",
      "--------------------------------------------------\n",
      "(0, 1, 2, 8, 9, 14, 15)\n",
      "(0, 1, 8, 9, 14, 15)\n",
      "--------------------------------------------------\n",
      "(0, 1, 2, 3, 4, 5, 8, 9, 14, 15)\n",
      "(0, 1, 2, 3, 4, 5, 9, 14, 15)\n",
      "--------------------------------------------------\n",
      "(0, 1, 15)\n",
      "--------------------------------------------------\n",
      "(0, 1, 2, 3, 4, 5, 8, 9, 14, 15, 70)\n",
      "--------------------------------------------------\n",
      "(0, 1, 2, 3, 4, 5, 9, 15, 35, 37, 39, 40, 44, 47, 49, 71, 73, 75)\n",
      "(0, 1, 2, 3, 4, 5, 9, 15, 37, 39, 40, 44, 47, 49, 71, 73, 75)\n",
      "(0, 1, 2, 3, 4, 5, 9, 15, 39, 40, 44, 47, 49, 71, 73, 75)\n",
      "(0, 1, 2, 3, 4, 5, 9, 15, 39, 40, 44, 47, 49, 73, 75)\n",
      "(0, 1, 2, 3, 4, 5, 9, 15, 39, 40, 44, 47, 49, 75)\n",
      "(0, 1, 2, 3, 4, 5, 9, 15, 39, 40, 44, 47, 49)\n",
      "(0, 1, 2, 3, 4, 5, 9, 15, 40, 44, 47, 49)\n",
      "(0, 1, 2, 3, 4, 5, 9, 15, 40, 47, 49)\n",
      "(0, 1, 2, 3, 4, 5, 9, 15, 40, 47)\n",
      "(0, 1, 2, 3, 4, 5, 9, 15, 47)\n",
      "(0, 1, 2, 3, 4, 5, 9, 15)\n",
      "--------------------------------------------------\n",
      "(0, 2, 4)\n",
      "--------------------------------------------------\n"
     ]
    },
    {
     "data": {
      "text/plain": [
       "{1: ((0,), -79286.70104043813), 2: ((0, 15), -79782.41500301847), 3: ((0, 1, 15), -80148.37059246466), 4: ((0, 1, 9, 15), -82433.05404289016), 5: ((0, 1, 8, 9, 15), -82510.35281231243), 6: ((0, 1, 8, 9, 14, 15), -82591.15240150668), 7: ((1, 2, 3, 4, 5, 9, 15), -88655.88617596863), 8: ((0, 1, 2, 3, 4, 5, 9, 15), -88860.20954906201), 9: ((0, 1, 2, 3, 4, 5, 9, 14, 15), -88857.16238963649), 10: ((0, 1, 2, 3, 4, 5, 9, 14, 15, 70), -88852.8420606986), 11: ((0, 1, 2, 3, 4, 5, 8, 9, 14, 15, 70), -88847.59336399431), 12: ((0, 1, 2, 3, 4, 5, 8, 9, 14, 15, 65, 70), -88841.99953940697), 13: ((0, 1, 2, 3, 4, 5, 9, 15, 39, 40, 44, 47, 49), -88828.9240292045), 14: ((0, 1, 2, 3, 4, 5, 9, 15, 39, 40, 44, 47, 49, 75), -88822.6988259611), 15: ((0, 1, 2, 3, 4, 5, 9, 15, 39, 40, 44, 47, 49, 73, 75), -88813.64405214202), 16: ((0, 1, 2, 3, 4, 5, 9, 15, 39, 40, 44, 47, 49, 71, 73, 75), -88804.7869661112), 17: ((0, 1, 2, 3, 4, 5, 9, 15, 37, 39, 40, 44, 47, 49, 71, 73, 75), -88796.20936907997), 18: ((0, 1, 2, 3, 4, 5, 9, 15, 35, 37, 39, 40, 44, 47, 49, 71, 73, 75), -88796.10294784103)}"
      ]
     },
     "execution_count": 16,
     "metadata": {},
     "output_type": "execute_result"
    }
   ],
   "source": [
    "br1 = backward_refinement(feature_hierarchy_u, (X_pre,y_pre[:, target_index:target_index+1]), mode='rfe', ic_type='bic', verbose=True)\n",
    "br2 = backward_refinement(feature_hierarchy_u, (X_pre,y_pre[:, target_index:target_index+1]), mode='k best', ic_type='bic', verbose=True)\n",
    "br_u=br1+br2; br_u"
   ]
  },
  {
   "cell_type": "code",
   "execution_count": 17,
   "id": "3a723af4-722a-4f8b-990c-8188d2c6defd",
   "metadata": {},
   "outputs": [
    {
     "name": "stdout",
     "output_type": "stream",
     "text": [
      "Ploting less than max_complexity\n",
      "Delete 13 complexity\n",
      "Delete 14 complexity\n",
      "Delete 15 complexity\n",
      "Delete 16 complexity\n",
      "Delete 17 complexity\n",
      "Delete 18 complexity\n"
     ]
    }
   ],
   "source": [
    "print(\"Ploting less than max_complexity\")\n",
    "for c in range(max_complexity+1, max(list(br_u.track.keys()))+1):\n",
    "    del_c = br_u.delete(c)\n",
    "    if del_c is not None: print(f\"Delete {c} complexity\")\n",
    "    else: print(f\"{c} not exist\")"
   ]
  },
  {
   "cell_type": "code",
   "execution_count": 18,
   "id": "9aa75fe0-d6c5-4f23-883a-c27488f6d1d3",
   "metadata": {},
   "outputs": [
    {
     "name": "stdout",
     "output_type": "stream",
     "text": [
      "(0,) -79286.70104043813\n",
      "(0, 15) -79782.41500301847\n",
      "(0, 1, 15) -80148.37059246466\n",
      "(0, 1, 9, 15) -82433.05404289016\n",
      "(0, 1, 8, 9, 15) -82510.35281231243\n",
      "(0, 1, 8, 9, 14, 15) -82591.15240150668\n",
      "(1, 2, 3, 4, 5, 9, 15) -88655.88617596863\n",
      "(0, 1, 2, 3, 4, 5, 9, 15) -88860.20954906201\n",
      "(0, 1, 2, 3, 4, 5, 9, 14, 15) -88857.16238963649\n",
      "(0, 1, 2, 3, 4, 5, 9, 14, 15, 70) -88852.8420606986\n",
      "(0, 1, 2, 3, 4, 5, 8, 9, 14, 15, 70) -88847.59336399431\n",
      "(0, 1, 2, 3, 4, 5, 8, 9, 14, 15, 65, 70) -88841.99953940697\n"
     ]
    }
   ],
   "source": [
    "# For reproducibility of 2% noise experiment\n",
    "# u\n",
    "# (1,) -90432.11492322256\n",
    "# (1, 14) -90900.56314841735\n",
    "# (0, 1, 14) -91096.59801155927\n",
    "# (0, 1, 8, 14) -92631.07213881976\n",
    "# (0, 1, 8, 14, 15) -92711.06074776711\n",
    "# (0, 1, 8, 9, 14, 15) -92912.16926463085\n",
    "# (0, 2, 3, 4, 5, 8, 14) -99273.17863634705\n",
    "# (0, 1, 2, 3, 4, 5, 8, 14) -99629.82290987358\n",
    "# (0, 1, 2, 3, 4, 5, 8, 14, 67) -99627.38471701351\n",
    "# (0, 1, 2, 3, 4, 5, 8, 14, 67, 72) -99626.97018095759\n",
    "# (0, 1, 2, 3, 4, 5, 8, 9, 14, 67, 72) -99619.72292591527\n",
    "# (0, 1, 2, 3, 4, 5, 8, 9, 14, 15, 67, 72) -99611.13907227767\n",
    "# + stlsq before\n",
    "# (1,) -90432.11492322256\n",
    "# (1, 14) -90900.56314841735\n",
    "# (0, 1, 14) -91096.59801155927\n",
    "# (0, 1, 8, 14) -92631.07213881976\n",
    "# (0, 1, 8, 14, 15) -92711.06074776711\n",
    "# (0, 1, 2, 4, 8, 14) -94460.72867681735\n",
    "# (0, 2, 3, 4, 5, 8, 14) -99273.17863634705\n",
    "# (0, 1, 2, 3, 4, 5, 8, 14) -99629.82290987358\n",
    "# (0, 1, 2, 3, 4, 5, 8, 14, 67) -99627.38471701351\n",
    "# (0, 1, 2, 3, 4, 5, 8, 14, 67, 72) -99626.97018095759\n",
    "# (0, 1, 2, 3, 4, 5, 8, 9, 14, 67, 72) -99619.72292591527\n",
    "# (0, 1, 2, 3, 4, 5, 8, 9, 14, 15, 67, 72) -99611.13907227767\n",
    "\n",
    "# v\n",
    "# (0,) -89704.75044145095\n",
    "# (0, 15) -90094.80085394751\n",
    "# (0, 1, 15) -90433.5949355086\n",
    "# (0, 1, 9, 15) -92311.22556061689\n",
    "# (0, 1, 8, 9, 15) -92462.0683253755\n",
    "# (0, 1, 3, 5, 9, 15) -94229.07163281288\n",
    "# (1, 2, 3, 4, 5, 9, 15) -98884.21234254984\n",
    "# (0, 1, 2, 3, 4, 5, 9, 15) -99223.00785465668\n",
    "# (0, 1, 2, 3, 4, 5, 9, 14, 15) -99226.63012262661\n",
    "# (0, 1, 2, 3, 4, 5, 9, 14, 15, 69) -99230.05524578446\n",
    "# (0, 1, 2, 3, 4, 5, 8, 9, 14, 15, 69) -99224.97738853545\n",
    "# (0, 1, 2, 3, 4, 5, 8, 9, 14, 15, 69, 72) -99216.5636109259\n",
    "# + stlsq before\n",
    "# (0,) -89704.75044145095\n",
    "# (0, 15) -90094.80085394751\n",
    "# (0, 1, 15) -90433.5949355086\n",
    "# (0, 1, 9, 15) -92311.22556061689\n",
    "# (0, 1, 8, 9, 15) -92462.0683253755\n",
    "# (0, 1, 3, 5, 9, 15) -94229.07163281288\n",
    "# (1, 2, 3, 4, 5, 9, 15) -98884.21234254984\n",
    "# (0, 1, 2, 3, 4, 5, 9, 15) -99223.00785465668\n",
    "# (0, 1, 2, 3, 4, 5, 9, 14, 15) -99226.63012262661\n",
    "# (0, 1, 2, 3, 4, 5, 9, 14, 15, 69) -99230.05524578446\n",
    "# (0, 1, 2, 3, 4, 5, 8, 9, 14, 15, 69) -99224.97738853545\n",
    "# (0, 1, 2, 3, 4, 5, 8, 9, 14, 15, 69, 72) -99216.5636109259\n",
    "\n",
    "complexities = np.array(sorted(list(br_u.track.keys())))\n",
    "bic_scores = []\n",
    "eff_feature_names = []\n",
    "for com in complexities:\n",
    "    indices, bic = br_u.track[com]\n",
    "    bic_scores.append(bic)\n",
    "    print(indices, bic)\n",
    "bic_scores = np.array(bic_scores)\n",
    "min_bic_score = np.min(bic_scores)\n",
    "div_scale = 1e3\n",
    "rel_bic_scores = (bic_scores-min_bic_score)/div_scale"
   ]
  },
  {
   "cell_type": "code",
   "execution_count": 19,
   "id": "c8de7ab2-ca6d-422a-8ff3-0fa870c89efc",
   "metadata": {},
   "outputs": [
    {
     "data": {
      "image/png": "[encoded data removed]",
      "text/plain": [
       "<Figure size 350x262.5 with 1 Axes>"
      ]
     },
     "metadata": {},
     "output_type": "display_data"
    }
   ],
   "source": [
    "with plt.style.context('science'):\n",
    "    fig, ax = plt.subplots()\n",
    "    ax.plot(complexities, rel_bic_scores, color='black', linewidth=2.5//2)\n",
    "    ax.scatter(complexities, rel_bic_scores, marker='o', c='black', s=25)\n",
    "    plt.xlim(min(complexities)-0.3,max(complexities)+0.3)\n",
    "    plt.ylabel(r\"Relative BIC ($\\times 10^{3}$)\")\n",
    "    plt.xlabel(\"Complexity\")\n",
    "    plt.tight_layout()\n",
    "    plt.show()"
   ]
  },
  {
   "cell_type": "code",
   "execution_count": 20,
   "id": "af69617f-09fb-43c7-9f48-70b1e4c50fde",
   "metadata": {},
   "outputs": [
    {
     "data": {
      "text/plain": [
       "(6, 7.343079250158649, 11.816843193856668)"
      ]
     },
     "execution_count": 20,
     "metadata": {},
     "output_type": "execute_result"
    }
   ],
   "source": [
    "optimal_slope_index, im1, im2 = check_percent(bic_scores, complexities)\n",
    "optimal_slope_index, im1, im2"
   ]
  },
  {
   "cell_type": "code",
   "execution_count": 21,
   "id": "505cc741-c917-4a9f-8f19-0ee41d499d91",
   "metadata": {},
   "outputs": [
    {
     "name": "stdout",
     "output_type": "stream",
     "text": [
      "Correctly discover? True\n"
     ]
    },
    {
     "data": {
      "text/plain": [
       "(6.80229304597699, 2.4003721135393445)"
      ]
     },
     "execution_count": 21,
     "metadata": {},
     "output_type": "execute_result"
    }
   ],
   "source": [
    "if target_index == 0: \n",
    "    ground = ground_coeff_u\n",
    "    ground_indices = ground_indices_u\n",
    "elif target_index ==1 : \n",
    "    ground = ground_coeff_v\n",
    "    ground_indices = ground_indices_v\n",
    "correctly_discover = False\n",
    "if br_u.track[optimal_slope_index+1][0] == ground_indices: \n",
    "    correctly_discover = True\n",
    "    print(\"Correctly discover?\", correctly_discover)\n",
    "pred = np.linalg.lstsq(X_pre[:, br_u.track[optimal_slope_index+1][0]], \n",
    "                       y_pre[:, target_index:target_index+1], rcond=None)[0].flatten()\n",
    "errs = percent_coeff(pred, ground)\n",
    "errs.mean(), errs.std()"
   ]
  },
  {
   "cell_type": "code",
   "execution_count": 22,
   "id": "a79c6916-4a16-4b97-aaa2-aa533a155741",
   "metadata": {},
   "outputs": [
    {
     "data": {
      "text/plain": [
       "{'rel_bic_scores': array([9.57350851e+00, 9.07779455e+00, 8.71183896e+00, 6.42715551e+00,\n",
       "        6.34985674e+00, 6.26905715e+00, 2.04323373e-01, 0.00000000e+00,\n",
       "        3.04715943e-03, 7.36748836e-03, 1.26161851e-02, 1.82100097e-02]),\n",
       " 'complexities': array([ 1,  2,  3,  4,  5,  6,  7,  8,  9, 10, 11, 12]),\n",
       " 'min_bic_score': -88860.20954906201,\n",
       " 'found_coeff': array([ 0.93623127, -0.95866111, -0.89608068, -0.95636529, -0.89636987,\n",
       "         0.09433103,  0.0936821 ]),\n",
       " 'percent_coefficient_error_mean': 6.80229304597699,\n",
       " 'percent_coefficient_error_std': 2.4003721135393445}"
      ]
     },
     "execution_count": 22,
     "metadata": {},
     "output_type": "execute_result"
    }
   ],
   "source": [
    "metric_dict = {'rel_bic_scores': rel_bic_scores, \n",
    "               'complexities': complexities, \n",
    "               'min_bic_score': min_bic_score, \n",
    "               'found_coeff': pred, \n",
    "               'percent_coefficient_error_mean': errs.mean(), \n",
    "               'percent_coefficient_error_std': errs.std()}\n",
    "metric_dict"
   ]
  },
  {
   "cell_type": "code",
   "execution_count": 23,
   "id": "58e3d84d-2566-49d5-8ea9-597cb1b8bae5",
   "metadata": {},
   "outputs": [
    {
     "name": "stdout",
     "output_type": "stream",
     "text": [
      "./Visualization/reaction_diffustion_2d_big_v_stlsq_bnb_frols_noise_lv15_V2.mat\n"
     ]
    }
   ],
   "source": [
    "if correctly_discover:\n",
    "    target_index2name = ['u', 'v']\n",
    "    file_name = f\"./Visualization/reaction_diffustion_2d_big_{target_index2name[target_index]}_stlsq_bnb_frols_noise_lv{noise_lv}_V2.mat\"\n",
    "    print(file_name)\n",
    "    sio.savemat(file_name, metric_dict)"
   ]
  },
  {
   "cell_type": "code",
   "execution_count": null,
   "id": "e659555e-e4f2-4049-bb8e-70ca87c03ff7",
   "metadata": {},
   "outputs": [],
   "source": []
  },
  {
   "cell_type": "code",
   "execution_count": 24,
   "id": "4440d15e-2f78-487c-adc3-380bf3e2c5ce",
   "metadata": {},
   "outputs": [
    {
     "name": "stdout",
     "output_type": "stream",
     "text": [
      "(0,)\n",
      "(0, 15)\n",
      "(0, 1, 15)\n",
      "(0, 1, 9, 15)\n",
      "(0, 1, 8, 9, 15)\n",
      "(0, 1, 3, 5, 9, 15)\n",
      "(1, 2, 3, 4, 5, 9, 15)\n",
      "(0, 1, 2, 3, 4, 5, 9, 15)\n",
      "(0, 1, 2, 3, 4, 5, 9, 14, 15)\n",
      "(0, 1, 2, 3, 4, 5, 9, 14, 15, 70)\n",
      "(0, 1, 2, 3, 4, 5, 8, 9, 14, 15, 70)\n",
      "(0, 1, 2, 3, 4, 5, 8, 9, 14, 15, 65, 70)\n"
     ]
    }
   ],
   "source": [
    "all_possible_candidates = sorted(set().union(*[br_u.track[mc][0] for mc in br_u.track.keys()]))\n",
    "out = np.hstack([brute_force(X_pre[:, all_possible_candidates], y_pre[:, target_index:target_index+1], \n",
    "                             support_size=i+1) for i in range(len(all_possible_candidates))]).T\n",
    "for i in range(len(out)):\n",
    "    print(tuple(np.array(all_possible_candidates)[list(nonzero(out[i]))]))"
   ]
  },
  {
   "cell_type": "code",
   "execution_count": 25,
   "id": "47adf1b9-5803-4141-b18d-1daf65deec86",
   "metadata": {},
   "outputs": [],
   "source": [
    "feature_hierarchy = set(tuple(np.array(all_possible_candidates)[list(nonzero(out[i]))]) for i in range(len(out)))"
   ]
  },
  {
   "cell_type": "code",
   "execution_count": 26,
   "id": "020b75fc-62bf-4e0e-b850-fd0acf484098",
   "metadata": {},
   "outputs": [
    {
     "name": "stdout",
     "output_type": "stream",
     "text": [
      "RFE_PLinearRegression\n",
      "(1, 2, 3, 4, 5, 9, 15)\n",
      "(1, 2, 3, 4, 9, 15)\n",
      "(1, 2, 4, 9, 15)\n",
      "(1, 2, 4, 15)\n",
      "(2, 4, 15)\n",
      "(2, 4)\n",
      "(2,)\n",
      "--------------------------------------------------\n",
      "(0, 1, 2, 3, 4, 5, 8, 9, 14, 15, 65, 70)\n",
      "(0, 1, 2, 3, 4, 5, 8, 9, 14, 15, 70)\n",
      "(0, 1, 2, 3, 4, 5, 9, 14, 15, 70)\n",
      "(0, 1, 2, 3, 4, 5, 9, 14, 15)\n",
      "(0, 1, 2, 3, 4, 5, 9, 15)\n",
      "(1, 2, 3, 4, 5, 9, 15)\n",
      "--------------------------------------------------\n",
      "(0, 15)\n",
      "(0,)\n",
      "--------------------------------------------------\n",
      "(0, 1, 2, 3, 4, 5, 9, 14, 15, 70)\n",
      "--------------------------------------------------\n",
      "(0, 1, 2, 3, 4, 5, 9, 14, 15)\n",
      "--------------------------------------------------\n",
      "(0, 1, 3, 5, 9, 15)\n",
      "(0, 1, 3, 9, 15)\n",
      "(0, 1, 9, 15)\n",
      "(0, 1, 15)\n",
      "(0, 15)\n",
      "--------------------------------------------------\n",
      "(0, 1, 15)\n",
      "--------------------------------------------------\n",
      "(0, 1, 9, 15)\n",
      "--------------------------------------------------\n",
      "(0, 1, 2, 3, 4, 5, 8, 9, 14, 15, 70)\n",
      "--------------------------------------------------\n",
      "(0, 1, 8, 9, 15)\n",
      "(0, 1, 9, 15)\n",
      "--------------------------------------------------\n",
      "(0, 1, 2, 3, 4, 5, 9, 15)\n",
      "--------------------------------------------------\n",
      "SelectKBest\n",
      "(1, 2, 3, 4, 5, 9, 15)\n",
      "(1, 2, 3, 4, 9, 15)\n",
      "(1, 2, 4, 9, 15)\n",
      "(1, 2, 4, 15)\n",
      "(2, 4, 15)\n",
      "(2, 4)\n",
      "(2,)\n",
      "--------------------------------------------------\n",
      "(0, 1, 2, 3, 4, 5, 8, 9, 14, 15, 65, 70)\n",
      "(0, 1, 2, 3, 4, 5, 8, 9, 14, 15, 70)\n",
      "(0, 1, 2, 3, 4, 5, 9, 14, 15, 70)\n",
      "(0, 1, 2, 3, 4, 5, 9, 14, 15)\n",
      "(0, 1, 2, 3, 4, 5, 9, 15)\n",
      "(1, 2, 3, 4, 5, 9, 15)\n",
      "--------------------------------------------------\n",
      "(0, 15)\n",
      "(0,)\n",
      "--------------------------------------------------\n",
      "(0, 1, 2, 3, 4, 5, 9, 14, 15, 70)\n",
      "--------------------------------------------------\n",
      "(0, 1, 2, 3, 4, 5, 9, 14, 15)\n",
      "--------------------------------------------------\n",
      "(0, 1, 3, 5, 9, 15)\n",
      "(0, 1, 3, 9, 15)\n",
      "(0, 1, 9, 15)\n",
      "(0, 1, 15)\n",
      "(0, 15)\n",
      "--------------------------------------------------\n",
      "(0, 1, 15)\n",
      "--------------------------------------------------\n",
      "(0, 1, 9, 15)\n",
      "--------------------------------------------------\n",
      "(0, 1, 2, 3, 4, 5, 8, 9, 14, 15, 70)\n",
      "--------------------------------------------------\n",
      "(0, 1, 8, 9, 15)\n",
      "(0, 1, 9, 15)\n",
      "--------------------------------------------------\n",
      "(0, 1, 2, 3, 4, 5, 9, 15)\n",
      "--------------------------------------------------\n"
     ]
    },
    {
     "data": {
      "text/plain": [
       "{1: ((0,), -79286.70104043813), 2: ((0, 15), -79782.41500301847), 3: ((0, 1, 15), -80148.37059246466), 4: ((0, 1, 9, 15), -82433.05404289016), 5: ((0, 1, 8, 9, 15), -82510.35281231243), 6: ((0, 1, 3, 5, 9, 15), -84201.47229495611), 7: ((1, 2, 3, 4, 5, 9, 15), -88655.88617596863), 8: ((0, 1, 2, 3, 4, 5, 9, 15), -88860.20954906201), 9: ((0, 1, 2, 3, 4, 5, 9, 14, 15), -88857.16238963649), 10: ((0, 1, 2, 3, 4, 5, 9, 14, 15, 70), -88852.8420606986), 11: ((0, 1, 2, 3, 4, 5, 8, 9, 14, 15, 70), -88847.59336399431), 12: ((0, 1, 2, 3, 4, 5, 8, 9, 14, 15, 65, 70), -88841.99953940697)}"
      ]
     },
     "execution_count": 26,
     "metadata": {},
     "output_type": "execute_result"
    }
   ],
   "source": [
    "br1 = backward_refinement(feature_hierarchy, (X_pre,y_pre[:, target_index:target_index+1]), mode='rfe', ic_type='bic', verbose=True)\n",
    "br2 = backward_refinement(feature_hierarchy, (X_pre,y_pre[:, target_index:target_index+1]), mode='k best', ic_type='bic', verbose=True)\n",
    "br=br1+br2; br"
   ]
  },
  {
   "cell_type": "code",
   "execution_count": 27,
   "id": "4f216e7a-9282-455a-a894-29a5bd699496",
   "metadata": {},
   "outputs": [
    {
     "name": "stdout",
     "output_type": "stream",
     "text": [
      "Ploting less than max_complexity\n"
     ]
    }
   ],
   "source": [
    "print(\"Ploting less than max_complexity\")\n",
    "for c in range(max_complexity+1, max(list(br.track.keys()))+1):\n",
    "    del_c = br.delete(c)\n",
    "    if del_c is not None: print(f\"Delete {c} complexity\")\n",
    "    else: print(f\"{c} not exist\")"
   ]
  },
  {
   "cell_type": "code",
   "execution_count": 28,
   "id": "e965e4e2-db07-486b-b53b-96cacf6b1372",
   "metadata": {},
   "outputs": [
    {
     "name": "stdout",
     "output_type": "stream",
     "text": [
      "(0,) -79286.70104043813\n",
      "(0, 15) -79782.41500301847\n",
      "(0, 1, 15) -80148.37059246466\n",
      "(0, 1, 9, 15) -82433.05404289016\n",
      "(0, 1, 8, 9, 15) -82510.35281231243\n",
      "(0, 1, 3, 5, 9, 15) -84201.47229495611\n",
      "(1, 2, 3, 4, 5, 9, 15) -88655.88617596863\n",
      "(0, 1, 2, 3, 4, 5, 9, 15) -88860.20954906201\n",
      "(0, 1, 2, 3, 4, 5, 9, 14, 15) -88857.16238963649\n",
      "(0, 1, 2, 3, 4, 5, 9, 14, 15, 70) -88852.8420606986\n",
      "(0, 1, 2, 3, 4, 5, 8, 9, 14, 15, 70) -88847.59336399431\n",
      "(0, 1, 2, 3, 4, 5, 8, 9, 14, 15, 65, 70) -88841.99953940697\n"
     ]
    }
   ],
   "source": [
    "# For reproducibility of 2% noise experiment\n",
    "# u\n",
    "# (1,) -90432.11492322256\n",
    "# (1, 14) -90900.56314841735\n",
    "# (0, 1, 14) -91096.59801155927\n",
    "# (0, 1, 8, 14) -92631.07213881976\n",
    "# (0, 1, 8, 14, 15) -92711.06074776711\n",
    "# (0, 1, 2, 4, 8, 14) -94460.72867681735\n",
    "# (0, 2, 3, 4, 5, 8, 14) -99273.17863634705\n",
    "# (0, 1, 2, 3, 4, 5, 8, 14) -99629.82290987358\n",
    "# (0, 1, 2, 3, 4, 5, 8, 14, 67) -99627.38471701351\n",
    "# (0, 1, 2, 3, 4, 5, 8, 14, 67, 72) -99626.97018095759\n",
    "# (0, 1, 2, 3, 4, 5, 8, 9, 14, 67, 72) -99619.72292591527\n",
    "# (0, 1, 2, 3, 4, 5, 8, 9, 14, 15, 67, 72) -99611.13907227767\n",
    "# + stlsq before\n",
    "# (1,) -90432.11492322256\n",
    "# (1, 14) -90900.56314841735\n",
    "# (0, 1, 14) -91096.59801155927\n",
    "# (0, 1, 8, 14) -92631.07213881976\n",
    "# (0, 1, 8, 14, 15) -92711.06074776711\n",
    "# (0, 1, 2, 4, 8, 14) -94460.72867681735\n",
    "# (0, 2, 3, 4, 5, 8, 14) -99273.17863634705\n",
    "# (0, 1, 2, 3, 4, 5, 8, 14) -99629.82290987358\n",
    "# (0, 1, 2, 3, 4, 5, 8, 14, 67) -99627.38471701351\n",
    "# (0, 1, 2, 3, 4, 5, 8, 14, 67, 72) -99626.97018095759\n",
    "# (0, 1, 2, 3, 4, 5, 8, 9, 14, 67, 72) -99619.72292591527\n",
    "# (0, 1, 2, 3, 4, 5, 8, 9, 14, 15, 67, 72) -99611.13907227767\n",
    "\n",
    "# v\n",
    "# (0,) -89704.75044145095\n",
    "# (0, 15) -90094.80085394751\n",
    "# (0, 1, 15) -90433.5949355086\n",
    "# (0, 1, 9, 15) -92311.22556061689\n",
    "# (0, 1, 8, 9, 15) -92462.0683253755\n",
    "# (0, 1, 3, 5, 9, 15) -94229.07163281288\n",
    "# (1, 2, 3, 4, 5, 9, 15) -98884.21234254984\n",
    "# (0, 1, 2, 3, 4, 5, 9, 15) -99223.00785465668\n",
    "# (0, 1, 2, 3, 4, 5, 9, 14, 15) -99226.63012262661\n",
    "# (0, 1, 2, 3, 4, 5, 9, 14, 15, 69) -99230.05524578446\n",
    "# (0, 1, 2, 3, 4, 5, 8, 9, 14, 15, 69) -99224.97738853545\n",
    "# (0, 1, 2, 3, 4, 5, 8, 9, 14, 15, 69, 72) -99216.5636109259\n",
    "# + stlsq before\n",
    "# (0,) -89704.75044145095\n",
    "# (0, 15) -90094.80085394751\n",
    "# (0, 1, 15) -90433.5949355086\n",
    "# (0, 1, 9, 15) -92311.22556061689\n",
    "# (0, 1, 8, 9, 15) -92462.0683253755\n",
    "# (0, 1, 3, 5, 9, 15) -94229.07163281288\n",
    "# (1, 2, 3, 4, 5, 9, 15) -98884.21234254984\n",
    "# (0, 1, 2, 3, 4, 5, 9, 15) -99223.00785465668\n",
    "# (0, 1, 2, 3, 4, 5, 9, 14, 15) -99226.63012262661\n",
    "# (0, 1, 2, 3, 4, 5, 9, 14, 15, 69) -99230.05524578446\n",
    "# (0, 1, 2, 3, 4, 5, 8, 9, 14, 15, 69) -99224.97738853545\n",
    "# (0, 1, 2, 3, 4, 5, 8, 9, 14, 15, 69, 72) -99216.5636109259\n",
    "\n",
    "complexities = np.array(sorted(list(br.track.keys())))\n",
    "bic_scores = []\n",
    "eff_feature_names = []\n",
    "for com in complexities:\n",
    "    indices, bic = br.track[com]\n",
    "    bic_scores.append(bic)\n",
    "    print(indices, bic)\n",
    "bic_scores = np.array(bic_scores)\n",
    "min_bic_score = np.min(bic_scores)\n",
    "div_scale = 1e3\n",
    "rel_bic_scores = (bic_scores-min_bic_score)/div_scale"
   ]
  },
  {
   "cell_type": "code",
   "execution_count": 29,
   "id": "d5719e52-107d-4840-a35f-d782fdbbf9ad",
   "metadata": {},
   "outputs": [
    {
     "data": {
      "image/png": "[encoded data removed]",
      "text/plain": [
       "<Figure size 350x262.5 with 1 Axes>"
      ]
     },
     "metadata": {},
     "output_type": "display_data"
    }
   ],
   "source": [
    "with plt.style.context('science'):\n",
    "    fig, ax = plt.subplots()\n",
    "    ax.plot(complexities, rel_bic_scores, color='black', linewidth=2.5//2)\n",
    "    ax.scatter(complexities, rel_bic_scores, marker='o', c='black', s=25)\n",
    "    plt.xlim(min(complexities)-0.3,max(complexities)+0.3)\n",
    "    plt.ylabel(r\"Relative BIC ($\\times 10^{3}$)\")\n",
    "    plt.xlabel(\"Complexity\")\n",
    "    plt.tight_layout()\n",
    "    plt.show()"
   ]
  },
  {
   "cell_type": "code",
   "execution_count": 30,
   "id": "bb8b0ec2-6650-43b9-b37b-954041d4c9fb",
   "metadata": {},
   "outputs": [
    {
     "data": {
      "text/plain": [
       "(6, 5.2901852658927275, 11.816843193856668)"
      ]
     },
     "execution_count": 30,
     "metadata": {},
     "output_type": "execute_result"
    }
   ],
   "source": [
    "check_percent(bic_scores, complexities)"
   ]
  },
  {
   "cell_type": "code",
   "execution_count": 31,
   "id": "9d2fbfd9-8a10-4ac7-89ca-b5312a9c24ea",
   "metadata": {},
   "outputs": [
    {
     "data": {
      "text/plain": [
       "{'rel_bic_scores': array([9.57350851e+00, 9.07779455e+00, 8.71183896e+00, 6.42715551e+00,\n",
       "        6.34985674e+00, 4.65873725e+00, 2.04323373e-01, 0.00000000e+00,\n",
       "        3.04715943e-03, 7.36748836e-03, 1.26161851e-02, 1.82100097e-02]),\n",
       " 'complexities': array([ 1,  2,  3,  4,  5,  6,  7,  8,  9, 10, 11, 12]),\n",
       " 'min_bic_score': -88860.20954906201,\n",
       " 'found_coeff': array([ 0.93623127, -0.95866111, -0.89608068, -0.95636529, -0.89636987,\n",
       "         0.09433103,  0.0936821 ]),\n",
       " 'percent_coefficient_error_mean': 6.80229304597699,\n",
       " 'percent_coefficient_error_std': 2.4003721135393445}"
      ]
     },
     "execution_count": 31,
     "metadata": {},
     "output_type": "execute_result"
    }
   ],
   "source": [
    "metric_dict = {'rel_bic_scores': rel_bic_scores, \n",
    "               'complexities': complexities, \n",
    "               'min_bic_score': min_bic_score, \n",
    "               'found_coeff': pred, \n",
    "               'percent_coefficient_error_mean': errs.mean(), \n",
    "               'percent_coefficient_error_std': errs.std()}\n",
    "metric_dict"
   ]
  },
  {
   "cell_type": "code",
   "execution_count": 32,
   "id": "51a0a7f1-5302-46c7-9974-0466b1de2282",
   "metadata": {},
   "outputs": [
    {
     "name": "stdout",
     "output_type": "stream",
     "text": [
      "./Visualization/reaction_diffustion_2d_big_v_stlsq_bnb_frols_bruteforce_noise_lv15_V2.mat\n"
     ]
    }
   ],
   "source": [
    "if correctly_discover:\n",
    "    target_index2name = ['u', 'v']\n",
    "    file_name = f\"./Visualization/reaction_diffustion_2d_big_{target_index2name[target_index]}_stlsq_bnb_frols_bruteforce_noise_lv{noise_lv}_V2.mat\"\n",
    "    print(file_name)\n",
    "    sio.savemat(file_name, metric_dict)"
   ]
  },
  {
   "cell_type": "code",
   "execution_count": null,
   "id": "e77fa604-381a-4851-96a9-50d06ba8ead7",
   "metadata": {},
   "outputs": [],
   "source": []
  }
 ],
 "metadata": {
  "kernelspec": {
   "display_name": "Python [conda env:py3.7]",
   "language": "python",
   "name": "conda-env-py3.7-py"
  },
  "language_info": {
   "codemirror_mode": {
    "name": "ipython",
    "version": 3
   },
   "file_extension": ".py",
   "mimetype": "text/x-python",
   "name": "python",
   "nbconvert_exporter": "python",
   "pygments_lexer": "ipython3",
   "version": "3.7.12"
  },
  "widgets": {
   "application/vnd.jupyter.widget-state+json": {
    "state": {},
    "version_major": 2,
    "version_minor": 0
   }
  }
 },
 "nbformat": 4,
 "nbformat_minor": 5
}
