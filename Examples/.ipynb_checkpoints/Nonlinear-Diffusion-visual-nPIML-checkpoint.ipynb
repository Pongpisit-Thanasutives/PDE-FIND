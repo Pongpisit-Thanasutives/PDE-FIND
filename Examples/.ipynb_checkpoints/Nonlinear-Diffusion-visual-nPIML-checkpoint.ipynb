{
 "cells": [
  {
   "cell_type": "code",
   "execution_count": 1,
   "id": "734d8c98-6326-4212-8634-3367e861c682",
   "metadata": {},
   "outputs": [
    {
     "name": "stdout",
     "output_type": "stream",
     "text": [
      "Populating the interactive namespace from numpy and matplotlib\n"
     ]
    }
   ],
   "source": [
    "%load_ext autoreload\n",
    "%autoreload 2\n",
    "%pylab inline\n",
    "pylab.rcParams['figure.figsize'] = (12, 8)\n",
    "import warnings; warnings.filterwarnings(\"ignore\")\n",
    "\n",
    "import numpy as np\n",
    "import pandas as pd\n",
    "from mpl_toolkits.mplot3d import Axes3D\n",
    "from sympy import symbols\n",
    "\n",
    "import sys; sys.path.append('../')\n",
    "from PDE_FIND import *\n",
    "\n",
    "import sys; sys.path.append('../../parametric-discovery/')\n",
    "from best_subset import *\n",
    "from frols import frols\n",
    "from p_linear_regression import PLinearRegression\n",
    "from r_pca import R_pca\n",
    "from pde_diff_new import RPCA\n",
    "from RobustPCA.rpca import RobustPCA\n",
    "\n",
    "import scipy.io as sio\n",
    "from scipy.signal import savgol_filter\n",
    "import itertools\n",
    "\n",
    "from sklearn.preprocessing import normalize\n",
    "from sklearn.linear_model import Ridge, BayesianRidge, LinearRegression as SkLinearRegression\n",
    "from sklearn.base import BaseEstimator\n",
    "from sklearn.pipeline import make_pipeline\n",
    "from sklearn.metrics import mean_squared_error\n",
    "from abess.linear import LinearRegression\n",
    "from bess import PdasLm\n",
    "import pysindy as ps\n",
    "\n",
    "from tqdm import trange\n",
    "from os.path import join as join_path\n",
    "FIGURE_EXPORT_PATH = \"/Users/pongpisit/Documents/figure_export/\""
   ]
  },
  {
   "cell_type": "code",
   "execution_count": 2,
   "id": "bebe0ba3-4ac7-4c94-9237-13ee1035be1c",
   "metadata": {},
   "outputs": [
    {
     "data": {
      "text/plain": [
       "(array([0.   , 0.025, 0.05 , 0.075, 0.1  , 0.125, 0.15 , 0.175, 0.2  ,\n",
       "        0.225, 0.25 , 0.275, 0.3  , 0.325, 0.35 , 0.375, 0.4  , 0.425,\n",
       "        0.45 , 0.475, 0.5  , 0.525, 0.55 , 0.575, 0.6  , 0.625, 0.65 ,\n",
       "        0.675, 0.7  , 0.725, 0.75 , 0.775, 0.8  , 0.825, 0.85 , 0.875,\n",
       "        0.9  , 0.925, 0.95 , 0.975, 1.   , 1.025, 1.05 , 1.075, 1.1  ,\n",
       "        1.125, 1.15 , 1.175, 1.2  , 1.225, 1.25 , 1.275, 1.3  , 1.325,\n",
       "        1.35 , 1.375, 1.4  , 1.425, 1.45 , 1.475, 1.5  , 1.525, 1.55 ,\n",
       "        1.575, 1.6  , 1.625, 1.65 , 1.675, 1.7  , 1.725, 1.75 , 1.775,\n",
       "        1.8  , 1.825, 1.85 , 1.875, 1.9  , 1.925, 1.95 , 1.975, 2.   ,\n",
       "        2.025, 2.05 , 2.075, 2.1  , 2.125, 2.15 , 2.175, 2.2  , 2.225,\n",
       "        2.25 , 2.275, 2.3  , 2.325, 2.35 , 2.375, 2.4  , 2.425, 2.45 ,\n",
       "        2.475, 2.5  , 2.525, 2.55 , 2.575, 2.6  , 2.625, 2.65 , 2.675,\n",
       "        2.7  , 2.725, 2.75 , 2.775, 2.8  , 2.825, 2.85 , 2.875, 2.9  ,\n",
       "        2.925, 2.95 , 2.975, 3.   , 3.025, 3.05 , 3.075, 3.1  , 3.125,\n",
       "        3.15 , 3.175, 3.2  , 3.225, 3.25 , 3.275, 3.3  , 3.325, 3.35 ,\n",
       "        3.375, 3.4  , 3.425, 3.45 , 3.475, 3.5  , 3.525, 3.55 , 3.575,\n",
       "        3.6  , 3.625, 3.65 , 3.675, 3.7  , 3.725, 3.75 , 3.775, 3.8  ,\n",
       "        3.825, 3.85 , 3.875, 3.9  , 3.925, 3.95 , 3.975, 4.   , 4.025,\n",
       "        4.05 , 4.075, 4.1  , 4.125, 4.15 , 4.175, 4.2  , 4.225, 4.25 ,\n",
       "        4.275, 4.3  , 4.325, 4.35 , 4.375, 4.4  , 4.425, 4.45 , 4.475,\n",
       "        4.5  , 4.525, 4.55 , 4.575, 4.6  , 4.625, 4.65 , 4.675, 4.7  ,\n",
       "        4.725, 4.75 , 4.775, 4.8  , 4.825, 4.85 , 4.875, 4.9  , 4.925,\n",
       "        4.95 , 4.975]),\n",
       " array([0.        , 0.00502513, 0.01005025, 0.01507538, 0.0201005 ,\n",
       "        0.02512563, 0.03015075, 0.03517588, 0.04020101, 0.04522613,\n",
       "        0.05025126, 0.05527638, 0.06030151, 0.06532663, 0.07035176,\n",
       "        0.07537688, 0.08040201, 0.08542714, 0.09045226, 0.09547739,\n",
       "        0.10050251, 0.10552764, 0.11055276, 0.11557789, 0.12060302,\n",
       "        0.12562814, 0.13065327, 0.13567839, 0.14070352, 0.14572864,\n",
       "        0.15075377, 0.15577889, 0.16080402, 0.16582915, 0.17085427,\n",
       "        0.1758794 , 0.18090452, 0.18592965, 0.19095477, 0.1959799 ,\n",
       "        0.20100503, 0.20603015, 0.21105528, 0.2160804 , 0.22110553,\n",
       "        0.22613065, 0.23115578, 0.2361809 , 0.24120603, 0.24623116,\n",
       "        0.25125628, 0.25628141, 0.26130653, 0.26633166, 0.27135678,\n",
       "        0.27638191, 0.28140704, 0.28643216, 0.29145729, 0.29648241,\n",
       "        0.30150754, 0.30653266, 0.31155779, 0.31658291, 0.32160804,\n",
       "        0.32663317, 0.33165829, 0.33668342, 0.34170854, 0.34673367,\n",
       "        0.35175879, 0.35678392, 0.36180905, 0.36683417, 0.3718593 ,\n",
       "        0.37688442, 0.38190955, 0.38693467, 0.3919598 , 0.39698492,\n",
       "        0.40201005, 0.40703518, 0.4120603 , 0.41708543, 0.42211055,\n",
       "        0.42713568, 0.4321608 , 0.43718593, 0.44221106, 0.44723618,\n",
       "        0.45226131, 0.45728643, 0.46231156, 0.46733668, 0.47236181,\n",
       "        0.47738693, 0.48241206, 0.48743719, 0.49246231, 0.49748744,\n",
       "        0.50251256, 0.50753769, 0.51256281, 0.51758794, 0.52261307,\n",
       "        0.52763819, 0.53266332, 0.53768844, 0.54271357, 0.54773869,\n",
       "        0.55276382, 0.55778894, 0.56281407, 0.5678392 , 0.57286432,\n",
       "        0.57788945, 0.58291457, 0.5879397 , 0.59296482, 0.59798995,\n",
       "        0.60301508, 0.6080402 , 0.61306533, 0.61809045, 0.62311558,\n",
       "        0.6281407 , 0.63316583, 0.63819095, 0.64321608, 0.64824121,\n",
       "        0.65326633, 0.65829146, 0.66331658, 0.66834171, 0.67336683,\n",
       "        0.67839196, 0.68341709, 0.68844221, 0.69346734, 0.69849246,\n",
       "        0.70351759, 0.70854271, 0.71356784, 0.71859296, 0.72361809,\n",
       "        0.72864322, 0.73366834, 0.73869347, 0.74371859, 0.74874372,\n",
       "        0.75376884, 0.75879397, 0.7638191 , 0.76884422, 0.77386935,\n",
       "        0.77889447, 0.7839196 , 0.78894472, 0.79396985, 0.79899497,\n",
       "        0.8040201 , 0.80904523, 0.81407035, 0.81909548, 0.8241206 ,\n",
       "        0.82914573, 0.83417085, 0.83919598, 0.84422111, 0.84924623,\n",
       "        0.85427136, 0.85929648, 0.86432161, 0.86934673, 0.87437186,\n",
       "        0.87939698, 0.88442211, 0.88944724, 0.89447236, 0.89949749,\n",
       "        0.90452261, 0.90954774, 0.91457286, 0.91959799, 0.92462312,\n",
       "        0.92964824, 0.93467337, 0.93969849, 0.94472362, 0.94974874,\n",
       "        0.95477387, 0.95979899, 0.96482412, 0.96984925, 0.97487437,\n",
       "        0.9798995 , 0.98492462, 0.98994975, 0.99497487, 1.        ]))"
      ]
     },
     "execution_count": 2,
     "metadata": {},
     "output_type": "execute_result"
    }
   ],
   "source": [
    "data = sio.loadmat('../Datasets/nonlinear_diffusion.mat')\n",
    "u = real(data['usol'])\n",
    "x = real(data['x'][0])\n",
    "t = real(data['t'][0])\n",
    "dt = t[1]-t[0]\n",
    "dx = x[2]-x[1]\n",
    "X, T = np.meshgrid(x, t)\n",
    "XT = np.asarray([X, T]).T\n",
    "\n",
    "x, t"
   ]
  },
  {
   "cell_type": "code",
   "execution_count": 3,
   "id": "3127c4b9-8ce4-4891-8799-d880a27bb778",
   "metadata": {},
   "outputs": [
    {
     "name": "stdout",
     "output_type": "stream",
     "text": [
      "cmap = viridis\n"
     ]
    },
    {
     "data": {
      "image/png": "[encoded data removed]",
      "text/plain": [
       "<Figure size 1200x800 with 2 Axes>"
      ]
     },
     "metadata": {},
     "output_type": "display_data"
    }
   ],
   "source": [
    "from matplotlib import cm\n",
    "cmap_name = cm.get_cmap().name\n",
    "print(\"cmap =\", cmap_name)\n",
    "\n",
    "plt.contourf(X, T, u.T, levels=10, cmap=cmap_name)\n",
    "plt.colorbar()\n",
    "plt.show()"
   ]
  },
  {
   "cell_type": "code",
   "execution_count": 4,
   "id": "812319ef-0de3-4c9f-9b53-37378853b1d6",
   "metadata": {},
   "outputs": [],
   "source": [
    "np.random.seed(0)\n",
    "noise_lv = float(7)\n",
    "noise = 0.01*np.abs(noise_lv)*std(u)*np.random.randn(u.shape[0],u.shape[1])\n",
    "un = u + noise\n",
    "un = np.expand_dims(un, -1)"
   ]
  },
  {
   "cell_type": "code",
   "execution_count": 5,
   "id": "dd18dd95-40b5-4573-976a-de32bd93d4e1",
   "metadata": {},
   "outputs": [
    {
     "name": "stderr",
     "output_type": "stream",
     "text": [
      "100%|███████████████████████████████████████████████████████████████████████████████████████████████████████████████████████| 1/1 [00:08<00:00,  8.63s/it]\n"
     ]
    }
   ],
   "source": [
    "diff_order = 2; K = 10000\n",
    "differentiation_method = ps.FiniteDifference\n",
    "differentiation_kwargs = {}\n",
    "n_times = 1\n",
    "\n",
    "datasets = []\n",
    "for step in trange(n_times):\n",
    "    weak_pde_lib = ps.WeakPDELibrary(library_functions=[lambda x: x, lambda x: x * x], \n",
    "                                     function_names=[lambda x: x, lambda x: x + x], \n",
    "                                     derivative_order=diff_order, \n",
    "                                     spatiotemporal_grid=XT, \n",
    "                                     include_bias=False, is_uniform=True, K=K, \n",
    "                                     differentiation_method=differentiation_method, \n",
    "                                     differentiation_kwargs=differentiation_kwargs, \n",
    "                                     cache=False\n",
    "                                    )\n",
    "    X_weak = weak_pde_lib.fit_transform(un).reshape(-1, len(weak_pde_lib.get_feature_names()))\n",
    "    y_weak = weak_pde_lib.convert_u_dot_integral(un)\n",
    "    datasets.append((X_weak, y_weak))"
   ]
  },
  {
   "cell_type": "code",
   "execution_count": 6,
   "id": "64bef54c-0e83-440d-87d8-169ba2c2ed94",
   "metadata": {},
   "outputs": [],
   "source": [
    "X_weak_mean = np.array([X_weak for X_weak, _ in datasets]).mean(axis=0)\n",
    "y_weak_mean = np.array([y_weak for _, y_weak in datasets]).mean(axis=0)"
   ]
  },
  {
   "cell_type": "code",
   "execution_count": 7,
   "id": "381f07a9-d2b2-4463-b32a-a67bd56be0d5",
   "metadata": {},
   "outputs": [],
   "source": [
    "max_complexity = 10"
   ]
  },
  {
   "cell_type": "code",
   "execution_count": 8,
   "id": "42ed6fcb-5d6d-40f4-978e-90640ed6455f",
   "metadata": {},
   "outputs": [
    {
     "data": {
      "text/plain": [
       "{(0, 1, 2, 3, 4, 5, 6, 7), (0, 1, 2, 3, 5, 6, 7), (0, 6), (6,)}"
      ]
     },
     "execution_count": 8,
     "metadata": {},
     "output_type": "execute_result"
    }
   ],
   "source": [
    "bnb_sols = bnb(X_weak_mean, y_weak_mean, max_nonzeros=max_complexity, lam=1e-3, corrected_coefficients=True)\n",
    "bnb_feature_hierarchy = set([tuple(np.nonzero(bnb_sols[:, i:i+1].flatten())[0].tolist()) \n",
    "                             for i in range(bnb_sols.shape[1])])\n",
    "bnb_feature_hierarchy"
   ]
  },
  {
   "cell_type": "code",
   "execution_count": 9,
   "id": "4e5dd612-7e8b-44d3-9678-0b10724483c3",
   "metadata": {},
   "outputs": [
    {
     "data": {
      "text/plain": [
       "{(0, 1, 2, 3, 4, 6, 7),\n",
       " (0, 1, 2, 3, 6, 7),\n",
       " (0, 1, 3, 6),\n",
       " (0, 1, 3, 6, 7),\n",
       " (0, 1, 6),\n",
       " (0, 6),\n",
       " (6,)}"
      ]
     },
     "execution_count": 9,
     "metadata": {},
     "output_type": "execute_result"
    }
   ],
   "source": [
    "frols_coeffs,selected_inds_list,_,_,_ = frols(y_weak_mean,X_weak_mean,max_nonzeros=max_complexity)\n",
    "selected_inds_list = set(selected_inds_list)\n",
    "selected_inds_list"
   ]
  },
  {
   "cell_type": "code",
   "execution_count": 10,
   "id": "543e86ce-7f23-402b-9bbd-c3499e276b55",
   "metadata": {},
   "outputs": [],
   "source": [
    "feature_hierarchy = bnb_feature_hierarchy.union(selected_inds_list)"
   ]
  },
  {
   "cell_type": "code",
   "execution_count": 11,
   "id": "8a44b2c1-b047-451f-b1f3-01d177d128dc",
   "metadata": {},
   "outputs": [
    {
     "name": "stdout",
     "output_type": "stream",
     "text": [
      "RFE_PLinearRegression\n",
      "(0, 1, 6)\n",
      "(0, 6)\n",
      "(6,)\n",
      "--------------------------------------------------\n",
      "(0, 1, 2, 3, 4, 5, 6, 7)\n",
      "(0, 1, 2, 3, 4, 6, 7)\n",
      "(0, 1, 2, 3, 6, 7)\n",
      "(0, 1, 3, 6, 7)\n",
      "(0, 1, 3, 7)\n",
      "(0, 1, 3)\n",
      "(1, 3)\n",
      "(3,)\n",
      "--------------------------------------------------\n",
      "(0, 1, 2, 3, 4, 6, 7)\n",
      "--------------------------------------------------\n",
      "(0, 6)\n",
      "--------------------------------------------------\n",
      "(0, 1, 2, 3, 5, 6, 7)\n",
      "(0, 1, 2, 3, 6, 7)\n",
      "--------------------------------------------------\n",
      "(0, 1, 3, 6, 7)\n",
      "--------------------------------------------------\n",
      "(0, 1, 3, 6)\n",
      "(0, 1, 6)\n",
      "--------------------------------------------------\n",
      "(0, 1, 2, 3, 6, 7)\n",
      "--------------------------------------------------\n",
      "SelectKBest\n",
      "(0, 1, 6)\n",
      "(0, 6)\n",
      "(6,)\n",
      "--------------------------------------------------\n",
      "(0, 1, 2, 3, 4, 5, 6, 7)\n",
      "(0, 1, 2, 3, 4, 6, 7)\n",
      "(0, 1, 2, 3, 6, 7)\n",
      "(0, 1, 3, 6, 7)\n",
      "(0, 1, 3, 7)\n",
      "(0, 1, 3)\n",
      "(1, 3)\n",
      "(3,)\n",
      "--------------------------------------------------\n",
      "(0, 1, 2, 3, 4, 6, 7)\n",
      "--------------------------------------------------\n",
      "(0, 6)\n",
      "--------------------------------------------------\n",
      "(0, 1, 2, 3, 5, 6, 7)\n",
      "(0, 1, 2, 3, 6, 7)\n",
      "--------------------------------------------------\n",
      "(0, 1, 3, 6, 7)\n",
      "--------------------------------------------------\n",
      "(0, 1, 3, 6)\n",
      "(0, 1, 6)\n",
      "--------------------------------------------------\n",
      "(0, 1, 2, 3, 6, 7)\n",
      "--------------------------------------------------\n"
     ]
    },
    {
     "data": {
      "text/plain": [
       "{1: ((6,), -101077.15356578214), 2: ((0, 6), -105275.54729477703), 3: ((0, 1, 6), -107589.49439851158), 4: ((0, 1, 3, 7), -108173.5954215682), 5: ((0, 1, 3, 6, 7), -108186.74806661191), 6: ((0, 1, 2, 3, 6, 7), -108181.25705039898), 7: ((0, 1, 2, 3, 4, 6, 7), -108182.42898935443), 8: ((0, 1, 2, 3, 4, 5, 6, 7), -108173.23903614844)}"
      ]
     },
     "execution_count": 11,
     "metadata": {},
     "output_type": "execute_result"
    }
   ],
   "source": [
    "br1 = backward_refinement(feature_hierarchy, (X_weak_mean,y_weak_mean), mode='rfe', ic_type='bic', verbose=True)\n",
    "br2 = backward_refinement(feature_hierarchy, (X_weak_mean,y_weak_mean), mode='k best', ic_type='bic', verbose=True)\n",
    "br=br1+br2\n",
    "br"
   ]
  },
  {
   "cell_type": "code",
   "execution_count": 12,
   "id": "af641be8-2e3e-41ba-b0d2-6f65f63d1378",
   "metadata": {},
   "outputs": [
    {
     "data": {
      "text/plain": [
       "['u', 'u^2', 'u_{x}', 'u_{xx}', 'uu_{x}', 'u^2u_{x}', 'uu_{xx}', 'u^2u_{xx}']"
      ]
     },
     "execution_count": 12,
     "metadata": {},
     "output_type": "execute_result"
    }
   ],
   "source": [
    "[convert2latex(e.replace('x0', 'u').replace(\"uf\", \"u\").replace('*', '')) for i,e in enumerate(weak_pde_lib.get_feature_names())]"
   ]
  },
  {
   "cell_type": "code",
   "execution_count": 13,
   "id": "4de52344-9456-4930-a3a7-c3470fd9ac86",
   "metadata": {},
   "outputs": [
    {
     "name": "stdout",
     "output_type": "stream",
     "text": [
      "(6,) -101077.15356578214\n",
      "(0, 6) -105275.54729477703\n",
      "(0, 1, 6) -107589.49439851158\n",
      "(0, 1, 3, 7) -108173.5954215682\n",
      "(0, 1, 3, 6, 7) -108186.74806661191\n",
      "(0, 1, 2, 3, 6, 7) -108181.25705039898\n",
      "(0, 1, 2, 3, 4, 6, 7) -108182.42898935443\n",
      "(0, 1, 2, 3, 4, 5, 6, 7) -108173.23903614844\n"
     ]
    }
   ],
   "source": [
    "complexities = np.array(sorted(list(br.track.keys())))\n",
    "bic_scores = []\n",
    "eff_feature_names = []\n",
    "for com in complexities:\n",
    "    indices, bic = br.track[com]\n",
    "    bic_scores.append(bic)\n",
    "    # eff_feature_name = [e for i,e in enumerate(weak_pde_lib.get_feature_names()) if i in indices]\n",
    "    # print(eff_feature_name)\n",
    "    eff_feature_name = [convert2latex(e.replace('x0', 'u').replace(\"uf\", \"u\").replace('*', '')) for i,e in enumerate(weak_pde_lib.get_feature_names()) if i in indices]\n",
    "    eff_feature_names.append(f\"$[{', '.join(eff_feature_name)}]$\")\n",
    "    print(indices, bic)\n",
    "bic_scores = np.array(bic_scores)\n",
    "rel_bic_scores = (bic_scores-np.min(bic_scores))/1e3"
   ]
  },
  {
   "cell_type": "code",
   "execution_count": 14,
   "id": "f2adda4a-8d49-4a51-8cb2-261230a65663",
   "metadata": {},
   "outputs": [],
   "source": [
    "index = br.track[1][0][0]\n",
    "c = np.linalg.lstsq(X_weak_mean[:, index:index+1], y_weak_mean, rcond=None)[0].flatten()[0]"
   ]
  },
  {
   "cell_type": "code",
   "execution_count": 15,
   "id": "efc76089-4074-4354-b2b7-44eac59ad909",
   "metadata": {},
   "outputs": [],
   "source": [
    "# moving to what index and what percent gained\n",
    "def check_percent(bic_scores, complexities):\n",
    "    slope = (bic_scores[1:]-bic_scores[:-1])/(complexities[1:]-complexities[:-1])\n",
    "    slope_index = np.argmin(slope)\n",
    "    percent_improve = 100*np.abs(bic_scores[slope_index+1]-bic_scores[slope_index])/np.abs(bic_scores[slope_index])\n",
    "    percent_from_1 = 100*np.abs(bic_scores[slope_index+1]-bic_scores[0])/np.abs(bic_scores[0])\n",
    "    return slope_index+1, percent_improve, percent_from_1"
   ]
  },
  {
   "cell_type": "code",
   "execution_count": 16,
   "id": "539d9988-2a99-4ace-b7a6-a31c5c47058c",
   "metadata": {},
   "outputs": [
    {
     "name": "stdout",
     "output_type": "stream",
     "text": [
      "1 4.153652512842612 4.153652512842612\n",
      "2\n"
     ]
    }
   ],
   "source": [
    "ii, per1, per2 = check_percent(bic_scores, complexities)\n",
    "print(ii, per1, per2)\n",
    "print(complexities[ii])"
   ]
  },
  {
   "cell_type": "code",
   "execution_count": 17,
   "id": "97293fe7-a214-4453-9270-34db6fb158b8",
   "metadata": {},
   "outputs": [],
   "source": [
    "label=f'''Improves {format(per2, '.2f')}\\% from $u_t={format(c, '.2f')}uu_{{xx}}$'''"
   ]
  },
  {
   "cell_type": "code",
   "execution_count": 18,
   "id": "c87f0944-2726-4966-93b7-9fe665d04baa",
   "metadata": {},
   "outputs": [
    {
     "data": {
      "image/png": "[encoded data removed]",
      "text/plain": [
       "<Figure size 350x262.5 with 1 Axes>"
      ]
     },
     "metadata": {},
     "output_type": "display_data"
    }
   ],
   "source": [
    "%matplotlib inline\n",
    "import matplotlib.pyplot as plt\n",
    "from matplotlib.legend_handler import HandlerLine2D, HandlerTuple\n",
    "FT = 8\n",
    "plt.rcParams.update({'font.size': FT})\n",
    "\n",
    "with plt.style.context('science'):\n",
    "    fig, ax = plt.subplots()\n",
    "    ax.plot([], [], ' ', label=f\"Noise level {int(noise_lv)}\\%\")\n",
    "    ax.plot(complexities, rel_bic_scores, color='black', linewidth=2.5/2)\n",
    "    ax.scatter(complexities[:1], rel_bic_scores[:1], marker='o', linestyle='--', fc='none', ec='black', s=25/2, label=f'''Chose 1-complexity PDE: $u_t={format(c, '.2f')}uu_{{xx}}$''')\n",
    "    ax.scatter(complexities[1:], rel_bic_scores[1:], marker='o', fc='none', ec='black', s=25/2)\n",
    "    ax.plot([], [], ' ', label=f'''(Improved {format(per2, '.2f')}\\%)''')\n",
    "    plt.xlim(min(complexities)-0.3,max(complexities)+0.3)\n",
    "    plt.ylabel(r\"Relative BIC ($\\times 10^{3}$)\", fontsize=FT)\n",
    "    plt.xlabel(r\"Complexity $\\lVert\\overline{\\xi}\\rVert^{}_{0}$\", fontsize=FT)\n",
    "    plt.tight_layout()\n",
    "    plt.xticks([i for i in range(min(complexities), max(complexities)+1)])\n",
    "    plt.legend(loc='upper right', fontsize=FT)\n",
    "    # plt.savefig('./visualization/vis_pics/1Term.pdf')\n",
    "    plt.show()"
   ]
  },
  {
   "cell_type": "code",
   "execution_count": 19,
   "id": "764fee18-9640-4ebe-97e7-a24b1ea4c610",
   "metadata": {},
   "outputs": [
    {
     "name": "stdout",
     "output_type": "stream",
     "text": [
      "2 does not improve 1\n",
      "Percent improve: 0.04153652512842612\n",
      "OK!\n"
     ]
    }
   ],
   "source": [
    "# 2 does not improve 1\n",
    "# Percent improve: 0.04153652512842612\n",
    "# OK!\n",
    "d_bic_scores, d_complexities, _ = get_decreasing_vals(bic_scores, complexities)\n",
    "if find_transition_V5(d_bic_scores, d_complexities, 0.09, 0.01) == 1: print('OK!')"
   ]
  },
  {
   "cell_type": "code",
   "execution_count": 20,
   "id": "15bf175e-e431-4796-87dd-603d9bb56034",
   "metadata": {},
   "outputs": [],
   "source": [
    "# 1, 5, 10, 15 ?\n",
    "# 10 or 15 are good choices"
   ]
  },
  {
   "cell_type": "code",
   "execution_count": 21,
   "id": "570127fc-2bec-427a-8142-e7edfddfc184",
   "metadata": {},
   "outputs": [
    {
     "data": {
      "text/plain": [
       "17.171719528501995"
      ]
     },
     "execution_count": 21,
     "metadata": {},
     "output_type": "execute_result"
    }
   ],
   "source": [
    "(1-c)*100"
   ]
  },
  {
   "cell_type": "code",
   "execution_count": 22,
   "id": "f1364db6-f689-47e6-a828-9be6d756f16d",
   "metadata": {},
   "outputs": [],
   "source": [
    "# 1term: 17.171719528501995\n",
    "\n",
    "# NV: 15.590001029825158, 15.529212575624166\n",
    "\n",
    "# 2d\n",
    "# u, v\n",
    "# 3.1176646941363617 1.0275748708131187\n",
    "# 3.3250884079139156 1.2489754144067837\n",
    "\n",
    "# 3d 128\n",
    "# u, v\n",
    "# 0.04903734758057313 0.0720098613077069\n",
    "# 0.007095281555447451 0.007249215450554728\n",
    "\n",
    "# 3d 64\n",
    "# u, v\n",
    "# 0.08588200850846384 0.0973849324665898\n",
    "# 0.05842282826471952 0.03375502859786496"
   ]
  },
  {
   "cell_type": "code",
   "execution_count": null,
   "id": "cc95224a-9b39-4cd5-bc1a-e0c9aaaf0fec",
   "metadata": {},
   "outputs": [],
   "source": []
  },
  {
   "cell_type": "code",
   "execution_count": null,
   "id": "82b22f4e-98ee-4eba-a9d4-a7b434d87e42",
   "metadata": {},
   "outputs": [],
   "source": []
  }
 ],
 "metadata": {
  "kernelspec": {
   "display_name": "Python [conda env:py3.7]",
   "language": "python",
   "name": "conda-env-py3.7-py"
  },
  "language_info": {
   "codemirror_mode": {
    "name": "ipython",
    "version": 3
   },
   "file_extension": ".py",
   "mimetype": "text/x-python",
   "name": "python",
   "nbconvert_exporter": "python",
   "pygments_lexer": "ipython3",
   "version": "3.7.12"
  },
  "widgets": {
   "application/vnd.jupyter.widget-state+json": {
    "state": {},
    "version_major": 2,
    "version_minor": 0
   }
  }
 },
 "nbformat": 4,
 "nbformat_minor": 5
}
