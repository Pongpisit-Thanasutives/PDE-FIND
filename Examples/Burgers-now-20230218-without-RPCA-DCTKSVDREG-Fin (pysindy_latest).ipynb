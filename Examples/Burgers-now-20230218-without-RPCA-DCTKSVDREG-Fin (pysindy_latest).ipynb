{
 "cells": [
  {
   "cell_type": "markdown",
   "metadata": {},
   "source": [
    "# PDE-FIND for Burger's Equation\n",
    "\n",
    "This notebook demonstrates PDE-FIND on Burger's equation with an added diffusive term.\n",
    "$$\n",
    "u_t + uu_x = 0.1u_{xx}\n",
    "$$\n",
    "The solution given is a single travelling wave, starting out as a Gaussian."
   ]
  },
  {
   "cell_type": "code",
   "execution_count": 1,
   "metadata": {},
   "outputs": [
    {
     "name": "stdout",
     "output_type": "stream",
     "text": [
      "Sklearn's version: 1.2.2\n",
      "mrmr is not installed in the env you are using. This may cause an error in future if you try to use the (missing) lib.\n",
      "sympytorch is not installed, hence its disabled functionality\n"
     ]
    }
   ],
   "source": [
    "%load_ext autoreload\n",
    "%autoreload 2\n",
    "%matplotlib inline\n",
    "import matplotlib.pyplot as plt\n",
    "import warnings; warnings.filterwarnings(\"ignore\")\n",
    "\n",
    "import numpy as np\n",
    "from numpy.random import default_rng\n",
    "import pandas as pd\n",
    "\n",
    "import os\n",
    "import sys; sys.path.append('../')\n",
    "from PDE_FIND import *\n",
    "\n",
    "import sys; sys.path.append('../../parametric-discovery/')\n",
    "from best_subset import *\n",
    "from frols import frols\n",
    "from p_linear_regression import PLinearRegression\n",
    "from r_pca import R_pca\n",
    "from pde_diff_new import RPCA\n",
    "\n",
    "import scipy.io as sio\n",
    "from scipy.signal import savgol_filter, wiener\n",
    "from scipy.integrate import trapz\n",
    "import itertools\n",
    "\n",
    "from sklearn.preprocessing import normalize\n",
    "from sklearn.linear_model import Ridge, BayesianRidge, LinearRegression as SkLinearRegression\n",
    "from sklearn.base import BaseEstimator\n",
    "from sklearn.pipeline import make_pipeline\n",
    "from sklearn.metrics import mean_squared_error\n",
    "from abess.linear import LinearRegression\n",
    "import pysindy as ps\n",
    "\n",
    "from os.path import join as join_path\n",
    "FIGURE_EXPORT_PATH = \"/Users/pongpisit/Documents/figure_export/\"\n",
    "\n",
    "def evaluate_coefficients(prediected_coeffs):\n",
    "    GROUND = np.array([0.1, -1])\n",
    "    errs = 100*np.abs(GROUND-np.array(prediected_coeffs).flatten())/np.abs(GROUND)\n",
    "    return errs.mean(), errs.std()\n",
    "\n",
    "from sympy import symbols, simplify, lambdify\n",
    "from mathparser import math_eval\n",
    "from varname import nameof\n",
    "from misc import h5file\n",
    "\n",
    "from findiff import FinDiff\n",
    "from tqdm import tqdm, trange"
   ]
  },
  {
   "cell_type": "code",
   "execution_count": 2,
   "metadata": {},
   "outputs": [],
   "source": [
    "data = sio.loadmat('../Datasets/burgers.mat')\n",
    "u = (data['usol']).real\n",
    "x = (data['x'][0]).real\n",
    "t = (data['t'][:,0]).real\n",
    "dt = t[1]-t[0]\n",
    "dx = x[2]-x[1]\n",
    "X, T = np.meshgrid(x, t)\n",
    "XT = np.asarray([X, T]).T"
   ]
  },
  {
   "cell_type": "code",
   "execution_count": 3,
   "metadata": {},
   "outputs": [
    {
     "name": "stdout",
     "output_type": "stream",
     "text": [
      "STLSQ model: \n",
      "(x0)' = 0.100 x0_11 + -1.001 x0x0_1\n"
     ]
    }
   ],
   "source": [
    "library_functions = [lambda x: x, lambda x: x * x]\n",
    "library_function_names = [lambda x: x, lambda x: x + x]\n",
    "pde_lib = ps.PDELibrary(\n",
    "    library_functions=library_functions,\n",
    "    function_names=library_function_names,\n",
    "    derivative_order=2,\n",
    "    spatial_grid=x,\n",
    "    is_uniform=True,\n",
    ")\n",
    "\n",
    "print('STLSQ model: ')\n",
    "optimizer = ps.STLSQ(threshold=0.1, alpha=1e-5, normalize_columns=False)\n",
    "model = ps.SINDy(feature_library=pde_lib, optimizer=optimizer)\n",
    "model.fit(np.expand_dims(u, -1), t=dt)\n",
    "model.print()"
   ]
  },
  {
   "cell_type": "markdown",
   "metadata": {},
   "source": [
    "## Construct $\\Theta (U)$ and compute $U_t$\n",
    "\n",
    "The function build_linear_system does this for us.  We specify <br>\n",
    "D = highest derivative to appear in $\\Theta$  <br>\n",
    "P = highest degree polynomial of $u$ to appear in $\\Theta$ (not including multiplication by a derivative.  <br>\n",
    "time_diff and space_diff taken via finite differences\n",
    "\n",
    "Printed out is a list of candidate functions for the PDE.  Each is a column of $\\Theta (U)$"
   ]
  },
  {
   "cell_type": "code",
   "execution_count": 4,
   "metadata": {},
   "outputs": [],
   "source": [
    "Ut, R, rhs_des = build_linear_system(u, dt, dx, D=3, P=3, time_diff = 'FD', space_diff = 'FD')\n",
    "rhs_des = rhs_des[1:]\n",
    "R = R[:, 1:].real; Ut = Ut.real"
   ]
  },
  {
   "cell_type": "markdown",
   "metadata": {},
   "source": [
    "## Solve for $\\xi$\n",
    "\n",
    "TrainSTRidge splits the data up into 80% for training and 20% for validation.  It searches over various tolerances in the STRidge algorithm and finds the one with the best performance on the validation set, including an $\\ell^0$ penalty for $\\xi$ in the loss function."
   ]
  },
  {
   "cell_type": "code",
   "execution_count": 5,
   "metadata": {},
   "outputs": [
    {
     "name": "stdout",
     "output_type": "stream",
     "text": [
      "l0_penalty: 1.6123253173828125\n",
      "PDE derived using STRidge\n",
      "u_t = (-1.000403 +0.000000i)uu_{x}\n",
      "    + (0.100145 +0.000000i)u_{xx}\n",
      "   \n"
     ]
    }
   ],
   "source": [
    "# Solve with STRidge\n",
    "w = TrainSTRidge(R,Ut,10**-5,0.1)\n",
    "print(\"PDE derived using STRidge\")\n",
    "print_pde(w, rhs_des)"
   ]
  },
  {
   "cell_type": "markdown",
   "metadata": {},
   "source": [
    "## Now identify the same dynamics but with added noise.\n",
    "\n",
    "The only difference from above is that finite differences work poorly for noisy data so here we use polynomial interpolation.  With deg_x or deg_t and width_x or width_t we specify the degree number of points used to fit the polynomials used for differentiating x or t.  Unfortunately, the result can be sensitive to these."
   ]
  },
  {
   "cell_type": "code",
   "execution_count": 6,
   "metadata": {},
   "outputs": [
    {
     "name": "stdout",
     "output_type": "stream",
     "text": [
      "30.0\n"
     ]
    },
    {
     "data": {
      "text/plain": [
       "(-0.00013077012953346547,\n",
       " 0.05394066850914703,\n",
       " 0.2085282972955366,\n",
       " -0.24198836854079248)"
      ]
     },
     "execution_count": 6,
     "metadata": {},
     "output_type": "execute_result"
    }
   ],
   "source": [
    "# K = 2000 experiments\n",
    "# weak lib only can tolerate up to 75 (maybe more?)\n",
    "# weak lib + KalmanDiff: 90 (maybe more?)\n",
    "# weak lib + KalmanDiff + Robust PCA: 110\n",
    "# set np.random.seed(0) to reproduce...\n",
    "np.random.seed(0)\n",
    "noise_lv = float(30)\n",
    "print(noise_lv)\n",
    "noise = 0.01*np.abs(noise_lv)*(u.std())*np.random.randn(u.shape[0],u.shape[1])\n",
    "un = u + noise\n",
    "np.mean(noise), np.std(noise), np.max(noise), np.min(noise)"
   ]
  },
  {
   "cell_type": "code",
   "execution_count": 7,
   "metadata": {},
   "outputs": [],
   "source": [
    "Utn, Rn, rhs_des = build_linear_system(un, dt, dx, D=3, P=3, time_diff = 'poly',\n",
    "                                       deg_x = 4, deg_t = 4, \n",
    "                                       width_x = 10, width_t = 10)\n",
    "rhs_des = rhs_des[1:]\n",
    "Rn = Rn[:, 1:].real; Utn = Utn.real"
   ]
  },
  {
   "cell_type": "code",
   "execution_count": 8,
   "metadata": {},
   "outputs": [
    {
     "name": "stdout",
     "output_type": "stream",
     "text": [
      "l0_penalty: 1.93969921875\n",
      "PDE derived using STRidge\n",
      "u_t = (-0.775461 +0.000000i)uu_{x}\n",
      "   \n"
     ]
    }
   ],
   "source": [
    "# Solve with STRidge\n",
    "w = TrainSTRidge(Rn,Utn,10**-5,1)\n",
    "print(\"PDE derived using STRidge\")\n",
    "print_pde(w, rhs_des)"
   ]
  },
  {
   "cell_type": "markdown",
   "metadata": {},
   "source": [
    "## Getting started"
   ]
  },
  {
   "cell_type": "code",
   "execution_count": 9,
   "metadata": {},
   "outputs": [],
   "source": [
    "# ## Goals: implement my own optimizer and differentiation_method class!\n",
    "# from functools import partial\n",
    "# import derivative\n",
    "# from tvregdiff import TVRegDiff, tvregdiff, numdiff, pysindydiff, savgol_denoise\n",
    "\n",
    "# class KalmanDiff(ps.BaseDifferentiation):\n",
    "#     def __init__(self, alpha, poly_deg=None, rpca_lambda=None, d=1, axis=1, is_uniform=True, periodic=False):\n",
    "#         super(KalmanDiff, self).__init__()\n",
    "#         # Kalman diff\n",
    "#         self.alpha = alpha\n",
    "#         self.diff_func = derivative.Kalman(alpha=self.alpha)\n",
    "#         self.d = d\n",
    "#         self.diff = partial(pysindydiff, **{\"diff_method\":self.diff_func, \"order\":self.d})\n",
    "#         # Savgol denoising\n",
    "#         self.poly_deg = poly_deg\n",
    "#         if poly_deg is not None:\n",
    "#             if poly_deg%2 == 0: window_length = self.poly_deg + 1\n",
    "#             else: window_length = self.poly_deg + 2\n",
    "#             self.denoise = partial(savgol_denoise, **{\"window_length\":window_length, \"poly_deg\":self.poly_deg})\n",
    "#         else:\n",
    "#             self.denoise = lambda _: _\n",
    "#         # Robust PCA\n",
    "#         self.rpca_lambda = rpca_lambda\n",
    "#         # Other info...\n",
    "#         self.axis = axis\n",
    "#         self.is_uniform = is_uniform\n",
    "#         self.periodic = periodic\n",
    "#         # data transformation\n",
    "#         # rs = np.ones(2).astype(np.int32); rs[self.axis] = -1; rs = tuple(rs)\n",
    "#         self.transform = np.vectorize(composite_function(self.diff, self.denoise, left2right=True), signature=\"(m),(m)->(m)\")\n",
    "#     # _differentiate\n",
    "#     def _differentiate(self, x, t):\n",
    "#         in_shape = x.shape\n",
    "#         if len(in_shape) == 2: x = np.expand_dims(x, -1) # x should now be 3-dimensional\n",
    "#         if isinstance(t, float) and self.is_uniform: \n",
    "#             t = np.linspace(0, stop=t*(x.shape[self.axis]-1), num=x.shape[self.axis])\n",
    "#         out = []\n",
    "#         # wrt to x var\n",
    "#         if self.axis == 0:\n",
    "#             for i in range(x.shape[-1]):\n",
    "#                 # use lambda and partial from functools to help shorten the code\n",
    "#                 # diff = np.hstack([self.denoise(self.diff(x[:, j:j+1, i], t)).reshape(-1, 1) \n",
    "#                 #                   for j in range(x.shape[1])])\n",
    "#                 # diff = np.hstack([self.transform(x[:, j:j+1, i], t) for j in range(x.shape[1])])\n",
    "#                 # diff = np.vectorize(self.transform, signature=\"(m),(m)->(m)\")(x[:,:,i].T, t).T\n",
    "#                 diff = self.transform(x[:,:,i].T, t).T\n",
    "#                 if self.rpca_lambda is not None:\n",
    "#                     diff = self._get_low_rank(diff)\n",
    "#                 out.append(np.expand_dims(diff, axis=-1))\n",
    "#         # wrt to time var\n",
    "#         elif self.axis == 1:\n",
    "#             for i in range(x.shape[-1]):\n",
    "#                 # use lambda and partial from functools to help shorten the code\n",
    "#                 # diff = np.vstack([self.denoise(self.diff(x[j:j+1, :, i], t)).reshape(1, -1) \n",
    "#                 #                   for j in range(x.shape[0])])\n",
    "#                 # diff = np.vstack([self.transform(x[j:j+1, :, i], t) for j in range(x.shape[0])])\n",
    "#                 # diff = np.vectorize(self.transform, signature=\"(m),(m)->(m)\")(x[:,:,i], t)\n",
    "#                 diff = self.transform(x[:,:,i], t)\n",
    "#                 if self.rpca_lambda is not None:\n",
    "#                     diff = self._get_low_rank(diff)\n",
    "#                 out.append(np.expand_dims(diff, axis=-1))\n",
    "#         return np.concatenate(out, axis=-1).reshape(in_shape)\n",
    "#     # _get_low_rank\n",
    "#     def _get_low_rank(self, x):\n",
    "#         rpca = RobustPCA(lamb=self.rpca_lambda, tol=10, use_fbpca=True, max_iter=int(1e6))\n",
    "#         rpca.fit(x)\n",
    "#         return rpca.get_low_rank()"
   ]
  },
  {
   "cell_type": "markdown",
   "metadata": {},
   "source": [
    "#### RPCA before Savgol (Best with window length = 11, Seems fine)"
   ]
  },
  {
   "cell_type": "code",
   "execution_count": 10,
   "metadata": {},
   "outputs": [],
   "source": [
    "rpca_lambda = None; apply_savgol = False\n",
    "un_copy = un.copy()"
   ]
  },
  {
   "cell_type": "code",
   "execution_count": 11,
   "metadata": {},
   "outputs": [],
   "source": [
    "if rpca_lambda is not None:\n",
    "    rpca = RobustPCA(lamb=rpca_lambda, tol=10, use_fbpca=True, max_iter=int(1e4))\n",
    "    rpca.fit(un)\n",
    "    un = rpca.get_low_rank()\n",
    "    est_noise = un_copy-un\n",
    "    print(np.mean(est_noise), np.std(est_noise), np.max(est_noise), np.min(est_noise))\n",
    "    print(mean_squared_error(un, u))\n",
    "else:\n",
    "    ### noise40 ###\n",
    "    # un = sio.loadmat(\"../Datasets/l1rdae_noisy_burgers.mat\")[\"rdae_denoised_un\"].real\n",
    "    # un = sio.loadmat(\"../Datasets/rdae_noisy_burgers_best.mat\")[\"rdae_denoised_un\"].real    \n",
    "    # un = sio.loadmat(\"../RDAE_data/l21rdae_noisy40_burgers_0.5.mat\")[\"rdae_denoised_un\"].real # best\n",
    "    # un = sio.loadmat(\"../RDAE_data/l21rdae_noisy40_burgers_0.05.mat\")[\"rdae_denoised_un\"].real\n",
    "    \n",
    "    ### noise30 ###\n",
    "    # un = sio.loadmat(\"../RDAE_data/l21rdae_noisy30_burgers_5.0.mat\")[\"rdae_denoised_un\"].real # BIC slope = -9600.72546420795\n",
    "    # un = sio.loadmat(\"../RDAE_data/l21rdae_noisy30_burgers_1.0.mat\")[\"rdae_denoised_un\"].real # BIC slope = -9707.105703779773\n",
    "    # un = sio.loadmat(\"../RDAE_data/l21rdae_regression_noisy30_burgers_1.0.mat\")[\"rdae_denoised_un\"].real\n",
    "    # un = sio.loadmat(\"../RDAE_data/l21rdae_noisy30_burgers_0.5.mat\")[\"rdae_denoised_un\"].real # BIC slope = -9778.44580594571\n",
    "    # un = sio.loadmat(\"../RDAE_data/l21rdae_regression_noisy30_burgers_0.5.mat\")[\"rdae_denoised_un\"].real\n",
    "    # un = sio.loadmat(\"../RDAE_data/l21rdae_noisy30_burgers_0.05.mat\")[\"rdae_denoised_un\"].real # BIC slope = -9766.93551576839\n",
    "    # un = sio.loadmat(\"../RDAE_data/l21rdae_noisy30_burgers_0.005.mat\")[\"rdae_denoised_un\"].real # BIC slope = -1346.286018082552    \n",
    "    \n",
    "    ### noise30 | pytroch ###\n",
    "    # RDAE_lambda = 1.0\n",
    "    # un = np.load(f\"../RDAE_data/pytorch/burgers_RDAE_denoised30_lambda{RDAE_lambda}.npy\")\n",
    "    \n",
    "    ### noise30 | ksvd ###\n",
    "    denoising_mode = 'dctksvd_reg' # ksvd, dictionary_learning\n",
    "    n_components = 32\n",
    "    smoother_name = 'none' # none, lowess, kalman, gaussian, filterpy\n",
    "    transform_n_nonzero = \"_none\" # '1'\n",
    "    un = np.load(f\"../RDAE_data/{denoising_mode}/{smoother_name}/transform_n_nonzero_coefs{transform_n_nonzero}/burgers_dictlearn_denoised30_components{n_components}_8x8.npy\")\n",
    "\n",
    "# divide into 2 5 10\n",
    "if apply_savgol:\n",
    "    un_savgol = np.vstack([savgol_denoise(un[i:i+1, :], 11, 2) for i in range(un.shape[0])])\n",
    "    print(mean_squared_error(u, un_savgol))\n",
    "    un = un_savgol"
   ]
  },
  {
   "cell_type": "markdown",
   "metadata": {},
   "source": [
    "#### Avg weak coef from 10 runs"
   ]
  },
  {
   "cell_type": "code",
   "execution_count": 12,
   "metadata": {},
   "outputs": [],
   "source": [
    "# kalpha = 1e-1; poly_deg = None; diff_order = 2\n",
    "# differentiation_method = KalmanDiff\n",
    "# differentiation_kwargs = {\"alpha\":kalpha, \"poly_deg\":poly_deg, \"rpca_lambda\":None}\n",
    "\n",
    "poly_deg = None; diff_order = 2\n",
    "differentiation_method = ps.FiniteDifference\n",
    "differentiation_kwargs = {}"
   ]
  },
  {
   "cell_type": "code",
   "execution_count": 13,
   "metadata": {},
   "outputs": [
    {
     "name": "stdout",
     "output_type": "stream",
     "text": [
      "differentiation method or differentiation_kwargs is not implemented in feature_library.\n"
     ]
    }
   ],
   "source": [
    "weak_pde_lib = ps.WeakPDELibrary(library_functions=[lambda x: x, lambda x: x * x], \n",
    "                                 function_names=[lambda x: x, lambda x: x + x], \n",
    "                                 derivative_order=diff_order, p=diff_order, \n",
    "                                 spatiotemporal_grid=XT, \n",
    "                                 include_bias=False, is_uniform=True, K=10000, # new random K points in every calls to the ps.WeakPDELibrary\n",
    "                                 differentiation_method=differentiation_method, \n",
    "                                )\n",
    "kwargs = {'fit_intercept':False, 'copy_X':True, 'normalize_columns':False}\n",
    "X_pre, y_pre, fns = ps_features(un, t, weak_pde_lib, kwargs)"
   ]
  },
  {
   "cell_type": "code",
   "execution_count": 17,
   "metadata": {},
   "outputs": [
    {
     "name": "stderr",
     "output_type": "stream",
     "text": [
      "OMP: Info #276: omp_set_nested routine deprecated, please use omp_set_max_active_levels instead.\n"
     ]
    },
    {
     "name": "stdout",
     "output_type": "stream",
     "text": [
      "['u', 'uu', 'u_1', 'u_11', 'uu_1', 'uuu_1', 'uu_11', 'uuu_11']\n",
      "(u)' = 0.101 u_11 + -1.005 uu_1\n",
      "u_t = (0.101288 +0.000000i)u_11\n",
      "    + (-1.005335 +0.000000i)uu_1\n",
      "   \n"
     ]
    }
   ],
   "source": [
    "## give wrong answer\n",
    "# optimizer = ps.STLSQ(threshold=0.1, alpha=1e-5, normalize_columns=True)\n",
    "# optimizer = ps.SR3(threshold=0.1, thresholder='l0', tol=1e-8, normalize_columns=True, max_iter=1000)\n",
    "# optimizer = ABESS(abess_kw={'alpha':1e-2, 'support_size':2, 'cv':5}, group=None, is_normal=False, normalize_columns=True)\n",
    "# optimizer = BESS(bess_kw={'path_type':'seq', 'sequence':[2], 'is_cv':True, 'K':5}, is_normal=True, normalize_columns=False)\n",
    "\n",
    "## give correct answer (for reasonable noise levels) | L0BNB & ps.FROLS are now the best algos. \n",
    "# Fit a weak form model\n",
    "# optimizer = ps.SSR(criteria='model_residual', normalize_columns=True, kappa=1e-2)\n",
    "# optimizer = ps.FROLS(normalize_columns=True, kappa=5e-4, max_iter=100, alpha=1e-1) # kappa = 1e-3 or 5e-4 gives 2 effective candidates\n",
    "optimizer = L0BNB(max_nonzeros=2, lam=1e-3, is_normal=True, normalize_columns=False) # tune lam จาก (X_pre, y_pre) | ตอนนี้ยังไม่ได้ tune\n",
    "# optimizer = BruteForceRegressor(2)\n",
    "# if feature_library=weak_pde_lib, then just differentiation_method=None is fine.\n",
    "n_ensemble_models = 50\n",
    "model = ps.SINDy(feature_library=weak_pde_lib, optimizer=optimizer, \n",
    "                 differentiation_method=differentiation_method,\n",
    "                 feature_names=['u'])\n",
    "model.fit(np.expand_dims(un, -1), t=dt)\n",
    "\n",
    "# print the model selected by Pysindy package\n",
    "# (Not giving the best model if set ensemble or library_ensemble = True)\n",
    "print(model.get_feature_names())\n",
    "model.print()\n",
    "\n",
    "# Use the best-performing (on any validation set) coef in model.coef_list (Plse add this functionality to pysindy)\n",
    "# np.einsum('ij,jkl',X_pre,np.array(model.get_coef_list()).T) -> a cool-looking code\n",
    "# from opt_einsum import contract\n",
    "# contract('ij,jkl',X_pre,np.array(model.get_coef_list()).T) -> a cool-looking code\n",
    "print_pde(model.get_coef_list()[np.argmin(np.sum((np.squeeze(np.tensordot(X_pre, np.array(model.get_coef_list()).T, axes=([-1], [0])), axis=1)-y_pre)**2, axis=0))].reshape(-1,1), model.get_feature_names())"
   ]
  },
  {
   "cell_type": "code",
   "execution_count": 18,
   "metadata": {},
   "outputs": [
    {
     "name": "stdout",
     "output_type": "stream",
     "text": [
      "hasattr threshold in optimizer...\n",
      "u_t = (0.101288 +0.000000i)u_11\n",
      "    + (-1.005335 +0.000000i)uu_1\n",
      "   \n",
      "['u_{xx}' 'uu_{x}']\n",
      "[ 0.10128809 -1.0053352 ]\n"
     ]
    },
    {
     "data": {
      "text/plain": [
       "(0.9108044207096072, 0.3772832453250857)"
      ]
     },
     "execution_count": 18,
     "metadata": {},
     "output_type": "execute_result"
    }
   ],
   "source": [
    "ols_model, eff_rhs_indices = model.validate_coef_list(X_pre, y_pre)[0]\n",
    "print(np.array([convert2latex(f) for i,f in enumerate(model.get_feature_names()) if i in eff_rhs_indices]))\n",
    "print(ols_model.params)\n",
    "# (2.966546839959899, 1.8494019586055508) -> ksvd\n",
    "# (2.951366904136575, 1.8846719890201133) -> spm_ksvd\n",
    "# (2.0340810219237895, 1.5495206426166808) -> spm_ksvd + savgol\n",
    "evaluate_coefficients(ols_model.params) # (3.05658148186686, 2.101833972875855)"
   ]
  },
  {
   "cell_type": "code",
   "execution_count": 16,
   "metadata": {},
   "outputs": [
    {
     "name": "stdout",
     "output_type": "stream",
     "text": [
      "hasattr threshold in optimizer...\n",
      "u_t = (-0.944892 +0.000000i)uu_1\n",
      "   \n",
      "hasattr threshold in optimizer...\n",
      "u_t = (0.101288 +0.000000i)u_11\n",
      "    + (-1.005335 +0.000000i)uu_1\n",
      "   \n",
      "hasattr threshold in optimizer...\n",
      "u_t = (0.101288 +0.000000i)u_11\n",
      "    + (-1.005335 +0.000000i)uu_1\n",
      "   \n",
      "hasattr threshold in optimizer...\n",
      "u_t = (-0.005657 +0.000000i)uu\n",
      "    + (-0.012327 +0.000000i)u_1\n",
      "    + (0.098334 +0.000000i)u_11\n",
      "    + (-0.972223 +0.000000i)uu_1\n",
      "   \n",
      "hasattr threshold in optimizer...\n",
      "u_t = (-0.008759 +0.000000i)u_1\n",
      "    + (0.100518 +0.000000i)u_11\n",
      "    + (-0.982483 +0.000000i)uu_1\n",
      "   \n",
      "hasattr threshold in optimizer...\n",
      "u_t = (0.016372 +0.000000i)u\n",
      "    + (-0.050093 +0.000000i)uu\n",
      "    + (-0.022120 +0.000000i)u_1\n",
      "    + (0.095299 +0.000000i)u_11\n",
      "    + (-0.938399 +0.000000i)uu_1\n",
      "    + (-0.014896 +0.000000i)uuu_11\n",
      "   \n",
      "hasattr threshold in optimizer...\n",
      "u_t = (0.015653 +0.000000i)u\n",
      "    + (-0.048807 +0.000000i)uu\n",
      "    + (-0.021989 +0.000000i)u_1\n",
      "    + (0.095630 +0.000000i)u_11\n",
      "    + (-0.938401 +0.000000i)uu_1\n",
      "    + (-0.003510 +0.000000i)uu_11\n",
      "    + (-0.010700 +0.000000i)uuu_11\n",
      "   \n",
      "hasattr threshold in optimizer...\n",
      "u_t = (0.015653 +0.000000i)u\n",
      "    + (-0.048807 +0.000000i)uu\n",
      "    + (-0.021989 +0.000000i)u_1\n",
      "    + (0.095630 +0.000000i)u_11\n",
      "    + (-0.938401 +0.000000i)uu_1\n",
      "    + (-0.003510 +0.000000i)uu_11\n",
      "    + (-0.010700 +0.000000i)uuu_11\n",
      "   \n"
     ]
    }
   ],
   "source": [
    "all_ols_models = []\n",
    "all_eff_rhs = []\n",
    "for mnz in range(1, 9):\n",
    "    optimizer = L0BNB(max_nonzeros=mnz, lam=1e-3, is_normal=True, normalize_columns=False) # tune lam จาก (X_pre, y_pre) | ตอนนี้ยังไม่ได้ tune\n",
    "    n_ensemble_models = 50\n",
    "    model = ps.SINDy(feature_library=weak_pde_lib, optimizer=optimizer, \n",
    "                     differentiation_method=differentiation_method, \n",
    "                     feature_names=['u'])\n",
    "    model.fit(np.expand_dims(un, -1), t=dt, ensemble=True, \n",
    "              library_ensemble=True, n_candidates_to_drop=1, n_models=n_ensemble_models)\n",
    "    ols_model, eff_rhs_indices = model.validate_coef_list(X_pre, y_pre, criterion='bic')[0]\n",
    "    all_ols_models.append(ols_model)\n",
    "    all_eff_rhs.append(eff_rhs_indices)"
   ]
  },
  {
   "cell_type": "code",
   "execution_count": 17,
   "metadata": {},
   "outputs": [],
   "source": [
    "# u_t = (0.101288 +0.000000i)u_11\n",
    "#     + (-1.005335 +0.000000i)uu_1\n",
    "\n",
    "# u_t = (0.015653 +0.000000i)u\n",
    "#     + (-0.048807 +0.000000i)uu\n",
    "#     + (-0.021989 +0.000000i)u_1\n",
    "#     + (0.095630 +0.000000i)u_11\n",
    "#     + (-0.938401 +0.000000i)uu_1\n",
    "#     + (-0.003510 +0.000000i)uu_11\n",
    "#     + (-0.010700 +0.000000i)uuu_11"
   ]
  },
  {
   "cell_type": "markdown",
   "metadata": {},
   "source": [
    "#### Guarantee the optimality"
   ]
  },
  {
   "cell_type": "code",
   "execution_count": 18,
   "metadata": {},
   "outputs": [],
   "source": [
    "def hierarchy(fitted_model, dataset, target_index=0, field=0):\n",
    "    Xd, yd = dataset\n",
    "    yd = yd[:, target_index]\n",
    "    model_results = {}\n",
    "    for effective_indices in fitted_model:\n",
    "        com = len(effective_indices)\n",
    "        X_pre_sup = Xd[:, effective_indices]\n",
    "        solve = np.linalg.lstsq(X_pre_sup, yd, rcond=None)\n",
    "        coeff = solve[0]\n",
    "        if len(solve[1]) == 1:\n",
    "            mse = solve[1][0]\n",
    "            if (com not in model_results) or model_results[com][-1] > mse:\n",
    "                model_results[com] = effective_indices, coeff, mse\n",
    "    if field < 0: \n",
    "        return model_results\n",
    "    else: \n",
    "        dkeys = model_results.keys()\n",
    "        dvals = (lambda lst, _: [t[_] for t in lst if len(t)>_])(model_results.values(), field)\n",
    "        return dict(zip(dkeys, dvals))"
   ]
  },
  {
   "cell_type": "code",
   "execution_count": 19,
   "metadata": {},
   "outputs": [
    {
     "name": "stdout",
     "output_type": "stream",
     "text": [
      "From leaps\n"
     ]
    },
    {
     "data": {
      "text/plain": [
       "[(4,),\n",
       " (3, 4),\n",
       " (2, 3, 4),\n",
       " (2, 3, 4, 7),\n",
       " (0, 1, 2, 3, 4),\n",
       " (0, 1, 2, 3, 4, 7),\n",
       " (0, 1, 2, 3, 4, 6, 7),\n",
       " (0, 1, 2, 3, 4, 5, 6, 7)]"
      ]
     },
     "execution_count": 19,
     "metadata": {},
     "output_type": "execute_result"
    }
   ],
   "source": [
    "# np.save(\"../Burgers_exp/IPI_output_files/X_pre.npy\", X_pre)\n",
    "# np.save(\"../Burgers_exp/IPI_output_files/y_pre.npy\", y_pre)\n",
    "print(\"From leaps\")\n",
    "Rdata_name = \"leaps/leaps_efi_nbest10.npy\"\n",
    "leaps_best_subsets = np.load(os.path.join(\"/Users/pongpisit/Desktop/fun/R/data/Burgers/\", Rdata_name))\n",
    "leaps_best_subsets = [tuple(np.where(bs>0)[0]) for bs in leaps_best_subsets]\n",
    "leaps_best_subsets = [e[0] for e in backward_refinement(leaps_best_subsets, (X_pre, y_pre), \n",
    "                                                        mode='SelectKBest', ic_type='bic', \n",
    "                                                        verbose=False).track.values()]\n",
    "leaps_best_subsets"
   ]
  },
  {
   "cell_type": "code",
   "execution_count": 20,
   "metadata": {
    "scrolled": true
   },
   "outputs": [
    {
     "name": "stdout",
     "output_type": "stream",
     "text": [
      "From imsubsets\n"
     ]
    },
    {
     "data": {
      "text/plain": [
       "[(4,),\n",
       " (3, 4),\n",
       " (2, 3, 4),\n",
       " (2, 3, 4, 7),\n",
       " (0, 1, 2, 3, 4),\n",
       " (0, 1, 2, 3, 4, 7),\n",
       " (0, 1, 2, 3, 4, 6, 7),\n",
       " (0, 1, 2, 3, 4, 5, 6, 7)]"
      ]
     },
     "execution_count": 20,
     "metadata": {},
     "output_type": "execute_result"
    }
   ],
   "source": [
    "print(\"From imsubsets\")\n",
    "Rdata_name = \"imsubsets/imsubsets_efi.npy\"\n",
    "imsubsets_best_subsets = np.load(os.path.join(\"/Users/pongpisit/Desktop/fun/R/data/Burgers/\", Rdata_name))\n",
    "imsubsets_best_subsets = [tuple(np.where(bs>0)[0]) for bs in imsubsets_best_subsets]\n",
    "imsubsets_best_subsets = sorted(hierarchy(imsubsets_best_subsets, (X_pre, y_pre)).values(), key=len)\n",
    "imsubsets_best_subsets = [e[0] for e in backward_refinement(imsubsets_best_subsets, (X_pre, y_pre), \n",
    "                                                            mode='SelectKBest', ic_type='bic', \n",
    "                                                            verbose=False).track.values()]\n",
    "imsubsets_best_subsets"
   ]
  },
  {
   "cell_type": "code",
   "execution_count": 21,
   "metadata": {},
   "outputs": [
    {
     "name": "stdout",
     "output_type": "stream",
     "text": [
      "From brute-force solver\n"
     ]
    },
    {
     "data": {
      "text/plain": [
       "[(4,),\n",
       " (3, 4),\n",
       " (2, 3, 4),\n",
       " (2, 3, 4, 7),\n",
       " (0, 1, 2, 3, 4),\n",
       " (0, 1, 2, 3, 4, 7),\n",
       " (0, 1, 2, 3, 4, 6, 7),\n",
       " (0, 1, 2, 3, 4, 5, 6, 7)]"
      ]
     },
     "execution_count": 21,
     "metadata": {},
     "output_type": "execute_result"
    }
   ],
   "source": [
    "print(\"From brute-force solver\")\n",
    "brute_best_subsets = [tuple(np.where(abs(brute_force(X_pre, y_pre, support_size=i).flatten())>0)[0])\n",
    "                      for i in range(1, X_pre.shape[1]+1)]\n",
    "brute_best_subsets\n",
    "brute_best_subsets"
   ]
  },
  {
   "cell_type": "code",
   "execution_count": 22,
   "metadata": {},
   "outputs": [
    {
     "name": "stdout",
     "output_type": "stream",
     "text": [
      "From bestsubset\n"
     ]
    },
    {
     "data": {
      "text/plain": [
       "[(4,),\n",
       " (3, 4),\n",
       " (2, 3, 4),\n",
       " (2, 3, 4, 7),\n",
       " (0, 1, 2, 3, 4),\n",
       " (0, 1, 2, 3, 4, 7),\n",
       " (0, 1, 2, 3, 4, 6, 7),\n",
       " (0, 1, 2, 3, 4, 5, 6, 7)]"
      ]
     },
     "execution_count": 22,
     "metadata": {},
     "output_type": "execute_result"
    }
   ],
   "source": [
    "Rdata_name = \"bestsubset\"\n",
    "print(f\"From {Rdata_name}\")\n",
    "Rdata_name = f\"{Rdata_name}/{Rdata_name}_efi.npy\"\n",
    "bestsubset_best_subsets = np.load(os.path.join(\"/Users/pongpisit/Desktop/fun/R/data/Burgers/\", Rdata_name))\n",
    "bestsubset_best_subsets = [tuple(np.where(bs>0)[0]) for bs in bestsubset_best_subsets]\n",
    "bestsubset_best_subsets = [e[0] for e in backward_refinement(bestsubset_best_subsets, (X_pre, y_pre), \n",
    "                                                             mode='SelectKBest', ic_type='bic', \n",
    "                                                             verbose=False).track.values()]\n",
    "bestsubset_best_subsets"
   ]
  },
  {
   "cell_type": "code",
   "execution_count": 23,
   "metadata": {},
   "outputs": [
    {
     "name": "stdout",
     "output_type": "stream",
     "text": [
      "From l0learn\n"
     ]
    },
    {
     "data": {
      "text/plain": [
       "[(4,),\n",
       " (3, 4),\n",
       " (2, 3, 4),\n",
       " (2, 3, 4, 7),\n",
       " (0, 1, 2, 3, 4),\n",
       " (0, 1, 2, 3, 4, 7),\n",
       " (0, 1, 2, 3, 4, 6, 7),\n",
       " (0, 1, 2, 3, 4, 5, 6, 7)]"
      ]
     },
     "execution_count": 23,
     "metadata": {},
     "output_type": "execute_result"
    }
   ],
   "source": [
    "Rdata_name = \"l0learn\"\n",
    "print(f\"From {Rdata_name}\")\n",
    "Rdata_name = f\"{Rdata_name}/{Rdata_name}_efi.npy\"\n",
    "l0learn_best_subsets = np.load(os.path.join(\"/Users/pongpisit/Desktop/fun/R/data/Burgers/\", Rdata_name))\n",
    "l0learn_best_subsets = [tuple(np.where(bs>0)[0]) for bs in l0learn_best_subsets if sum(bs)>0]\n",
    "l0learn_best_subsets = sorted(hierarchy(l0learn_best_subsets, (X_pre, y_pre)).values(), key=len)\n",
    "l0learn_best_subsets = [e[0] for e in backward_refinement(l0learn_best_subsets, (X_pre, y_pre), \n",
    "                                                          mode='SelectKBest', ic_type='bic', \n",
    "                                                          verbose=False).track.values()]\n",
    "l0learn_best_subsets"
   ]
  },
  {
   "cell_type": "code",
   "execution_count": 24,
   "metadata": {},
   "outputs": [
    {
     "name": "stdout",
     "output_type": "stream",
     "text": [
      "From abess\n"
     ]
    },
    {
     "data": {
      "text/plain": [
       "[(4,),\n",
       " (3, 4),\n",
       " (2, 3, 4),\n",
       " (2, 3, 4, 7),\n",
       " (0, 1, 2, 3, 4),\n",
       " (0, 1, 2, 3, 4, 7),\n",
       " (0, 1, 2, 3, 4, 6, 7),\n",
       " (0, 1, 2, 3, 4, 5, 6, 7)]"
      ]
     },
     "execution_count": 24,
     "metadata": {},
     "output_type": "execute_result"
    }
   ],
   "source": [
    "Rdata_name = \"abess\"\n",
    "print(f\"From {Rdata_name}\")\n",
    "Rdata_name = f\"{Rdata_name}/{Rdata_name}_efi.npy\"\n",
    "abess_best_subsets = np.load(os.path.join(\"/Users/pongpisit/Desktop/fun/R/data/Burgers/\", Rdata_name))\n",
    "abess_best_subsets = [tuple(np.where(bs>0)[0]) for bs in abess_best_subsets if sum(bs)>0]\n",
    "abess_best_subsets = sorted(hierarchy(abess_best_subsets, (X_pre, y_pre)).values(), key=len)\n",
    "abess_best_subsets = [e[0] for e in backward_refinement(abess_best_subsets, (X_pre, y_pre), \n",
    "                                                        mode='SelectKBest', ic_type='bic', \n",
    "                                                        verbose=False).track.values()]\n",
    "abess_best_subsets"
   ]
  },
  {
   "cell_type": "code",
   "execution_count": 25,
   "metadata": {},
   "outputs": [
    {
     "name": "stdout",
     "output_type": "stream",
     "text": [
      "Leaps in R package got wrong!?\n"
     ]
    }
   ],
   "source": [
    "print(\"Leaps in R package got wrong!?\")\n",
    "for leaps_indices, imsubsets_indices, brute_indices in zip(leaps_best_subsets, imsubsets_best_subsets, brute_best_subsets):\n",
    "    if (leaps_indices != brute_indices) or (leaps_indices != brute_indices):\n",
    "        print(leaps_indices, brute_indices)"
   ]
  },
  {
   "cell_type": "code",
   "execution_count": 26,
   "metadata": {},
   "outputs": [],
   "source": [
    "all_eff_rhs.append(tuple(i for i in range(X_pre.shape[1])))\n",
    "all_eff_rhs.extend(leaps_best_subsets)"
   ]
  },
  {
   "cell_type": "code",
   "execution_count": 27,
   "metadata": {},
   "outputs": [
    {
     "data": {
      "text/plain": [
       "{1: ((4,), -65223.31323032364),\n",
       " 2: ((3, 4), -77439.44760272012),\n",
       " 4: ((2, 3, 4, 7), -77447.20457263225),\n",
       " 3: ((2, 3, 4), -77441.5826689938),\n",
       " 6: ((0, 1, 2, 3, 4, 7), -77456.32325949248),\n",
       " 5: ((0, 1, 2, 3, 4), -77459.16716992913),\n",
       " 7: ((0, 1, 2, 3, 4, 6, 7), -77447.7671773212),\n",
       " 8: ((0, 1, 2, 3, 4, 5, 6, 7), -77438.56630211977)}"
      ]
     },
     "execution_count": 27,
     "metadata": {},
     "output_type": "execute_result"
    }
   ],
   "source": [
    "ic_type = 'bic'; mode='rfe' # aic, bic | rfe, SelectKBest\n",
    "\n",
    "# st += backward_refinement(all_eff_rhs, (normalize(X_pre, axis=0), y_pre), \n",
    "#                           mode=mode, ic_type=ic_type, verbose=True)\n",
    "\n",
    "st = backward_refinement(all_eff_rhs, (X_pre, y_pre), \n",
    "                         mode=mode, ic_type=ic_type, verbose=False)\n",
    "st.track"
   ]
  },
  {
   "cell_type": "markdown",
   "metadata": {},
   "source": [
    "#### Find decreasing aics and plot"
   ]
  },
  {
   "cell_type": "code",
   "execution_count": 28,
   "metadata": {},
   "outputs": [
    {
     "name": "stdout",
     "output_type": "stream",
     "text": [
      "(4,)\n",
      "(3, 4)\n",
      "(2, 3, 4)\n",
      "(2, 3, 4, 7)\n",
      "(0, 1, 2, 3, 4)\n",
      "(0, 1, 2, 3, 4, 7)\n",
      "(0, 1, 2, 3, 4, 6, 7)\n",
      "(0, 1, 2, 3, 4, 5, 6, 7)\n"
     ]
    }
   ],
   "source": [
    "decreasing_aics = []\n",
    "complexities = []\n",
    "eff_feature_names = []\n",
    "now_aic = 1e6\n",
    "for com in sorted(st.track.keys()):\n",
    "    indices, aic = st.track[com]\n",
    "    print(indices)\n",
    "    if aic < now_aic:\n",
    "        complexities.append(len(indices))\n",
    "        decreasing_aics.append(aic)\n",
    "        eff_feature_names.append([convert2latex(f) for i,f in enumerate(model.get_feature_names()) if i in indices])\n",
    "        now_aic = aic\n",
    "decreasing_aics = np.array(decreasing_aics)\n",
    "complexities = np.array(complexities)\n",
    "relative_decreasing_aics = decreasing_aics-np.min(decreasing_aics)"
   ]
  },
  {
   "cell_type": "code",
   "execution_count": 29,
   "metadata": {},
   "outputs": [
    {
     "data": {
      "image/png": "[encoded data removed]",
      "text/plain": [
       "<Figure size 800x400 with 1 Axes>"
      ]
     },
     "metadata": {},
     "output_type": "display_data"
    }
   ],
   "source": [
    "fig, ax = plt.subplots(figsize=(8,4))\n",
    "ax.plot(complexities, relative_decreasing_aics, color='blue', linewidth=2.5, label=\"AIC-decreasing models\")\n",
    "ax.scatter(complexities, relative_decreasing_aics, marker='*', c='red', s=300)\n",
    "for com, name, rel_aic in zip(complexities, eff_feature_names, relative_decreasing_aics):\n",
    "    rotation = (90+45)/2\n",
    "    if com == 1: rotation = 0\n",
    "    ax.annotate(f\"    $({','.join(name)})$\", (com, rel_aic), rotation=rotation)\n",
    "plt.xlim(0.8,8.1)\n",
    "plt.title(r\"Model selection based on $\\frac{\\Delta AIC}{\\Delta s}$\")\n",
    "plt.ylabel(\"Relative AIC\")\n",
    "plt.xlabel(\"Number of support sizes\")\n",
    "plt.legend()\n",
    "plt.tight_layout()\n",
    "# plt.savefig(join_path(FIGURE_EXPORT_PATH, \"aic_model_selection.png\"), dpi=300)\n",
    "plt.show()"
   ]
  },
  {
   "cell_type": "code",
   "execution_count": 30,
   "metadata": {},
   "outputs": [
    {
     "name": "stdout",
     "output_type": "stream",
     "text": [
      "2 improves 1\n",
      "Percent improve: 0.1872970532677102\n",
      "5 does not improve 2\n",
      "Percent improve: 8.488166268171171e-05\n",
      "2 improves 1\n",
      "Percent improve: 0.1872970532677102\n",
      "5 does not improve 2\n",
      "Percent improve: 8.488166268171171e-05\n",
      "2 improves 1\n",
      "Percent improve: 0.1872970532677102\n",
      "5 does not improve 2\n",
      "Percent improve: 8.488166268171171e-05\n",
      "2 improves 1\n",
      "Percent improve: 0.1872970532677102\n",
      "5 does not improve 2\n",
      "Percent improve: 8.488166268171171e-05\n",
      "2 improves 1\n",
      "Percent improve: 0.1872970532677102\n",
      "5 does not improve 2\n",
      "Percent improve: 8.488166268171171e-05\n",
      "2 improves 1\n",
      "Percent improve: 0.1872970532677102\n",
      "5 does not improve 2\n",
      "Percent improve: 8.488166268171171e-05\n",
      "2 improves 1\n",
      "Percent improve: 0.1872970532677102\n",
      "5 does not improve 2\n",
      "Percent improve: 8.488166268171171e-05\n",
      "2 improves 1\n",
      "Percent improve: 0.1872970532677102\n",
      "5 does not improve 2\n",
      "Percent improve: 8.488166268171171e-05\n",
      "2 improves 1\n",
      "Percent improve: 0.1872970532677102\n",
      "5 does not improve 2\n",
      "Percent improve: 8.488166268171171e-05\n",
      "2 improves 1\n",
      "Percent improve: 0.1872970532677102\n",
      "5 does not improve 2\n",
      "Percent improve: 8.488166268171171e-05\n",
      "2 improves 1\n",
      "Percent improve: 0.1872970532677102\n",
      "5 does not improve 2\n",
      "Percent improve: 8.488166268171171e-05\n",
      "2 improves 1\n",
      "Percent improve: 0.1872970532677102\n",
      "5 does not improve 2\n",
      "Percent improve: 8.488166268171171e-05\n",
      "2 improves 1\n",
      "Percent improve: 0.1872970532677102\n",
      "5 does not improve 2\n",
      "Percent improve: 8.488166268171171e-05\n",
      "2 improves 1\n",
      "Percent improve: 0.1872970532677102\n",
      "5 does not improve 2\n",
      "Percent improve: 8.488166268171171e-05\n",
      "2 improves 1\n",
      "Percent improve: 0.1872970532677102\n",
      "5 does not improve 2\n",
      "Percent improve: 8.488166268171171e-05\n",
      "2 improves 1\n",
      "Percent improve: 0.1872970532677102\n",
      "5 does not improve 2\n",
      "Percent improve: 8.488166268171171e-05\n",
      "2 improves 1\n",
      "Percent improve: 0.1872970532677102\n",
      "5 does not improve 2\n",
      "Percent improve: 8.488166268171171e-05\n",
      "2 improves 1\n",
      "Percent improve: 0.1872970532677102\n",
      "5 does not improve 2\n",
      "Percent improve: 8.488166268171171e-05\n",
      "2 does not improve 1\n",
      "Percent improve: 0.1872970532677102\n"
     ]
    },
    {
     "data": {
      "text/plain": [
       "{2}"
      ]
     },
     "execution_count": 30,
     "metadata": {},
     "output_type": "execute_result"
    }
   ],
   "source": [
    "good_coms = set()\n",
    "min_pok = 0.01\n",
    "max_pok = 1./2\n",
    "delta_pok = min_pok\n",
    "for p in np.arange(min_pok, max_pok+delta_pok, delta_pok):\n",
    "    c = find_transition_V5(decreasing_aics, complexities, percent_ok=p)\n",
    "    if c == 1: break\n",
    "    good_coms.add(c)\n",
    "good_coms"
   ]
  },
  {
   "cell_type": "code",
   "execution_count": 31,
   "metadata": {
    "scrolled": true
   },
   "outputs": [
    {
     "name": "stdout",
     "output_type": "stream",
     "text": [
      "none 32\n",
      "-12216.134372396475\n"
     ]
    },
    {
     "data": {
      "text/plain": [
       "(array([-65223.31323032, -77439.44760272, -77441.58266899, -77447.20457263,\n",
       "        -77459.16716993]),\n",
       " array([1, 2, 3, 4, 5]),\n",
       " [['uu_{x}'],\n",
       "  ['u_{xx}', 'uu_{x}'],\n",
       "  ['u_{x}', 'u_{xx}', 'uu_{x}'],\n",
       "  ['u_{x}', 'u_{xx}', 'uu_{x}', 'u^2u_{xx}'],\n",
       "  ['u', 'u^2', 'u_{x}', 'u_{xx}', 'uu_{x}']])"
      ]
     },
     "execution_count": 31,
     "metadata": {},
     "output_type": "execute_result"
    }
   ],
   "source": [
    "print(smoother_name, n_components)\n",
    "print(decreasing_aics[1]-decreasing_aics[0])\n",
    "decreasing_aics, complexities, eff_feature_names"
   ]
  },
  {
   "cell_type": "markdown",
   "metadata": {},
   "source": [
    "#### More model selection"
   ]
  },
  {
   "cell_type": "code",
   "execution_count": 32,
   "metadata": {},
   "outputs": [],
   "source": [
    "# Use PDE_FIND_Loss from parametric_pde_find.py by formulating as a parametric problem\n",
    "# Moving horizon in time\n",
    "\n",
    "def ssr2llf(ssr, nobs):\n",
    "    nobs2 = nobs / 2.0\n",
    "    llf = -nobs2 * np.log(2 * np.pi) - nobs2 * np.log(ssr / nobs) - nobs2\n",
    "    return llf\n",
    "\n",
    "def log_like_value(prediction, ground):                                                                                                               \n",
    "    nobs = float(ground.shape[0])\n",
    "    ssr = np.sum(np.abs(ground - prediction)**2)\n",
    "    return ssr2llf(ssr, nobs)\n",
    "\n",
    "def BIC_AIC(prediction, ground, nparams, reg_func = lambda x: x):\n",
    "    nparams = reg_func(nparams)\n",
    "    llf = log_like_value(prediction, ground)\n",
    "    return -2*llf + np.log(ground.shape[0])*nparams, -2*llf + 2*nparams\n",
    "\n",
    "def AIC_Loss(A,b,x,epsilon=1e-5):\n",
    "    N = A.shape[0]\n",
    "    k = np.count_nonzero(x)\n",
    "    # Rudy et al., 2019\n",
    "    rss = ((b-A.dot(x))**2).sum()\n",
    "    aic = N*np.log(rss/N+epsilon) + 2*k + (2*k**2+2*k)/(N-k-1)\n",
    "    return aic\n",
    "\n",
    "def PDE_FIND_Loss(As,bs,x,epsilon=1e-5,const_coeff=True,cv=0,ic_type=\"bic\",version=0):\n",
    "    # D: Number of candidates | m: either len(t) or len(x) (temporal or spatial group)\n",
    "    D,m = x.shape\n",
    "    # n: Number of horizon\n",
    "    n,_ = As[0].shape\n",
    "    N = n*m\n",
    "    \n",
    "    rss = [np.linalg.norm(bs[j] - As[j].dot(x[:,j].reshape(D,1)))**2 for j in range(m)]\n",
    "    rss = np.sum(rss)\n",
    "    llf = ssr2llf(rss, N)\n",
    "    \n",
    "    k = np.count_nonzero(x)\n",
    "    if const_coeff:\n",
    "        k = np.count_nonzero(x)/m\n",
    "    k = k + k*cv\n",
    "    \n",
    "    if ic_type == \"aic\":\n",
    "        aic1 = N*np.log(rss/N+epsilon) + 2*k + (2*k**2+2*k)/(N-k-1)\n",
    "        aic2 = -2*llf + 2*k + (2*k**2+2*k)/(N-k-1)\n",
    "        if version > 0:\n",
    "            return aic2\n",
    "        return aic1\n",
    "    elif ic_type == \"bic\":\n",
    "        bic1 = N*np.log(rss/N+epsilon) + np.log(N)*k\n",
    "        bic2 = -2*llf + np.log(N)*k\n",
    "        if version > 0:\n",
    "            return bic2\n",
    "        return bic1"
   ]
  },
  {
   "cell_type": "markdown",
   "metadata": {},
   "source": [
    "#### Consider uncert from BayesianRidge (brr)"
   ]
  },
  {
   "cell_type": "code",
   "execution_count": 33,
   "metadata": {},
   "outputs": [
    {
     "name": "stdout",
     "output_type": "stream",
     "text": [
      "[  4.748106     3.26010445  10.55670157  13.62314075  20.22593841\n",
      "  35.18327326  55.42213097 118.6491847 ]\n",
      "2,2,2,2,2,2,2,2,2,"
     ]
    },
    {
     "data": {
      "image/png": "[encoded data removed]",
      "text/plain": [
       "<Figure size 640x480 with 1 Axes>"
      ]
     },
     "metadata": {},
     "output_type": "display_data"
    }
   ],
   "source": [
    "baye_alpha = 1e-6\n",
    "mul_val = 1\n",
    "brr_uncertainties = []\n",
    "brr_bics = []\n",
    "for com in sorted(st.track.keys()):\n",
    "    brr = BayesianRidge(compute_score=True, alpha_1=baye_alpha, alpha_2=baye_alpha)\n",
    "    brr.fit(X_pre[:, st.track[com][0]], y_pre)\n",
    "    uncert = mul_val*np.trace(np.sqrt(brr.sigma_))\n",
    "    brr_uncertainties.append(uncert)\n",
    "    brr_bics.append((brr.predict(X_pre[:, st.track[com][0]]).reshape(-1, 1), \n",
    "                     np.count_nonzero(brr.coef_), \n",
    "                     uncert))\n",
    "brr_uncertainties = np.array(brr_uncertainties)\n",
    "\n",
    "power = 0\n",
    "while 1:\n",
    "    e = brr_uncertainties.min()*(10**power)\n",
    "    if e > 1: break\n",
    "    power += 1\n",
    "mul_val = 10**power\n",
    "brr_uncertainties = brr_uncertainties*mul_val\n",
    "print(brr_uncertainties)\n",
    "\n",
    "for kkk in range(1, 10):\n",
    "    brr_bicaics = [BIC_AIC(brr_pred, y_pre, brr_com+kkk*mul_val*brr_uncert)[0] \n",
    "                   for brr_pred, brr_com, brr_uncert in brr_bics]\n",
    "    print(np.argmin(brr_bicaics)+1, end=',')\n",
    "    plt.plot(brr_bicaics)\n",
    "plt.show()"
   ]
  },
  {
   "cell_type": "code",
   "execution_count": 34,
   "metadata": {},
   "outputs": [],
   "source": [
    "### useful for checking whether it worth having function coefficienst or not? ###\n",
    "# diff_lib = ps.PDELibrary(library_functions=library_functions, \n",
    "#                          function_names=library_function_names, \n",
    "#                          derivative_order=2, \n",
    "#                          spatial_grid=x, \n",
    "#                          is_uniform=True, \n",
    "#                          differentiation_method=ps., \n",
    "#                          differentiation_kwargs=differentiation_kwargs)\n",
    "\n",
    "diff_lib = ps.PDELibrary(library_functions=library_functions, \n",
    "                         function_names=library_function_names, \n",
    "                         derivative_order=2, \n",
    "                         spatial_grid=x, \n",
    "                         is_uniform=True, \n",
    "                         differentiation_method=differentiation_method)\n",
    "\n",
    "candidate_lib = diff_lib.fit_transform(np.expand_dims(un[:, :], -1))\n",
    "candidate_lib = candidate_lib.reshape(-1, candidate_lib.shape[-1])\n",
    "dynamics = diff_lib.differentiation_method(axis=1)._differentiate(un[:, :], t)\n",
    "dynamics = dynamics.reshape(-1,1)\n",
    "\n",
    "dependent = \"temporal\"\n",
    "Theta_grouped, Ut_grouped = spatial_temporal_group(candidate_lib, dynamics, \n",
    "                                                   (len(x), len(t)), \n",
    "                                                   dependent=dependent)\n",
    "\n",
    "com2coeff = {}\n",
    "com2paracoeff = {}\n",
    "for com in sorted(st.track.keys()):\n",
    "    indices, _ = st.track[com]\n",
    "    paracoeff = np.zeros(shape=(candidate_lib.shape[-1], len(Theta_grouped)))\n",
    "    \n",
    "    paracoeff[list(indices)] = np.hstack([np.linalg.lstsq(Theta_grouped[_][:, indices], \n",
    "                                                          Ut_grouped[_], \n",
    "                                                          rcond=None)[0] for _ in range(len(Theta_grouped))])\n",
    "    \n",
    "    coeff = np.zeros(shape=(candidate_lib.shape[-1], 1))\n",
    "    coeff[list(indices)] = np.linalg.lstsq(candidate_lib[:, indices], dynamics)[0]\n",
    "    coeff = np.hstack([coeff for _ in range(len(Theta_grouped))])\n",
    "    \n",
    "    com2coeff[com] = coeff\n",
    "    com2paracoeff[com] = paracoeff"
   ]
  },
  {
   "cell_type": "code",
   "execution_count": 35,
   "metadata": {},
   "outputs": [
    {
     "data": {
      "image/png": "[encoded data removed]",
      "text/plain": [
       "<Figure size 640x480 with 1 Axes>"
      ]
     },
     "metadata": {},
     "output_type": "display_data"
    }
   ],
   "source": [
    "PDE_Losses = np.array([PDE_FIND_Loss(Theta_grouped, Ut_grouped, com2coeff[com])\n",
    "                       for com in sorted(st.track.keys())])\n",
    "paraPDE_Losses = np.array([PDE_FIND_Loss(Theta_grouped, Ut_grouped, com2paracoeff[com], const_coeff=False)\n",
    "                       for com in sorted(st.track.keys())])\n",
    "\n",
    "### decide whether you are dealing with functional coefficients here ###\n",
    "plt.plot(sorted(st.track.keys()), PDE_Losses, label='const')\n",
    "plt.plot(sorted(st.track.keys()), paraPDE_Losses, label='para')\n",
    "plt.legend()\n",
    "plt.show()"
   ]
  },
  {
   "cell_type": "code",
   "execution_count": 36,
   "metadata": {},
   "outputs": [
    {
     "name": "stdout",
     "output_type": "stream",
     "text": [
      "-0.006727176283387018\n"
     ]
    },
    {
     "data": {
      "image/png": "[encoded data removed]",
      "text/plain": [
       "<Figure size 640x480 with 1 Axes>"
      ]
     },
     "metadata": {},
     "output_type": "display_data"
    }
   ],
   "source": [
    "# 5 to 10 percent as threshold\n",
    "print(np.min(paraPDE_Losses-PDE_Losses)/PDE_Losses[np.argmin(paraPDE_Losses-PDE_Losses)])\n",
    "plt.plot(sorted(st.track.keys()), paraPDE_Losses-PDE_Losses)\n",
    "plt.show()"
   ]
  },
  {
   "cell_type": "code",
   "execution_count": 37,
   "metadata": {},
   "outputs": [
    {
     "data": {
      "image/png": "[encoded data removed]",
      "text/plain": [
       "<Figure size 640x480 with 1 Axes>"
      ]
     },
     "metadata": {},
     "output_type": "display_data"
    }
   ],
   "source": [
    "if dependent == \"temporal\":\n",
    "    plt.plot(t, com2paracoeff[2][list(st.track[2][0])][0])\n",
    "    plt.plot(t, com2paracoeff[2][list(st.track[2][0])][1])\n",
    "elif dependent == \"spatial\":\n",
    "    plt.plot(x, com2paracoeff[2][list(st.track[2][0])][0])\n",
    "    plt.plot(x, com2paracoeff[2][list(st.track[2][0])][1])\n",
    "plt.show()"
   ]
  },
  {
   "cell_type": "code",
   "execution_count": 38,
   "metadata": {},
   "outputs": [
    {
     "name": "stdout",
     "output_type": "stream",
     "text": [
      "0 -> 50\n",
      "1 -> 51\n",
      "2 -> 52\n",
      "3 -> 53\n",
      "4 -> 54\n",
      "5 -> 55\n",
      "6 -> 56\n",
      "7 -> 57\n",
      "8 -> 58\n",
      "9 -> 59\n",
      "10 -> 60\n",
      "11 -> 61\n",
      "12 -> 62\n",
      "13 -> 63\n",
      "14 -> 64\n",
      "15 -> 65\n",
      "16 -> 66\n",
      "17 -> 67\n",
      "18 -> 68\n",
      "19 -> 69\n",
      "20 -> 70\n",
      "21 -> 71\n",
      "22 -> 72\n",
      "23 -> 73\n",
      "24 -> 74\n",
      "25 -> 75\n",
      "26 -> 76\n",
      "27 -> 77\n",
      "28 -> 78\n",
      "29 -> 79\n",
      "30 -> 80\n",
      "31 -> 81\n",
      "32 -> 82\n",
      "33 -> 83\n",
      "34 -> 84\n",
      "35 -> 85\n",
      "36 -> 86\n",
      "37 -> 87\n",
      "38 -> 88\n",
      "39 -> 89\n",
      "40 -> 90\n",
      "41 -> 91\n",
      "42 -> 92\n",
      "43 -> 93\n",
      "44 -> 94\n",
      "45 -> 95\n",
      "46 -> 96\n",
      "47 -> 97\n",
      "48 -> 98\n",
      "49 -> 99\n",
      "50 -> 100\n"
     ]
    }
   ],
   "source": [
    "maxi = np.max(t); mini = np.min(t)\n",
    "mid = (mini+maxi)/2\n",
    "ss = np.arange(0, len(t)-(list(t).index(mid)), dtype=np.int32)\n",
    "\n",
    "com2coeff_sub = {}\n",
    "for s in ss:\n",
    "    t_sub_indices = [i+s for i in range(list(t).index(mid)+1)]\n",
    "    t_sub = t[t_sub_indices]\n",
    "    un_sub = (un.copy())[:, t_sub_indices]\n",
    "    print(t_sub_indices[0], \"->\", t_sub_indices[-1])\n",
    "\n",
    "    diff_lib = ps.PDELibrary(library_functions=library_functions, \n",
    "                             function_names=library_function_names, \n",
    "                             derivative_order=2, \n",
    "                             spatial_grid=x, \n",
    "                             is_uniform=True, \n",
    "                             differentiation_method=ps.SmoothedFiniteDifference)\n",
    "\n",
    "    candidate_lib_sub = diff_lib.fit_transform(np.expand_dims(un_sub, -1))\n",
    "    candidate_lib_sub = candidate_lib_sub.reshape(-1, candidate_lib_sub.shape[-1])\n",
    "    dynamics_sub = diff_lib.differentiation_method(axis=1)._differentiate(un_sub, \n",
    "                                                                          t_sub).reshape(-1,1)\n",
    "    \n",
    "    Theta_grouped_sub, Ut_grouped_sub = spatial_temporal_group(candidate_lib_sub, dynamics_sub, \n",
    "                                                               (len(x), len(t_sub)), \n",
    "                                                               dependent=dependent)\n",
    "    \n",
    "    for com in sorted(st.track.keys()):\n",
    "        indices, _ = st.track[com]\n",
    "        \n",
    "        coeff = np.hstack([np.linalg.lstsq(Theta_grouped_sub[_][:, indices], \n",
    "                                           Ut_grouped_sub[_], \n",
    "                                           rcond=None)[0] for _ in range(len(Theta_grouped_sub))])\n",
    "\n",
    "#         coeff = np.zeros(shape=(candidate_lib_sub.shape[-1], 1))\n",
    "#         coeff[list(indices)] = np.linalg.lstsq(candidate_lib_sub[:, indices], dynamics_sub)[0]\n",
    "#         coeff = np.hstack([coeff for _ in range(n)])\n",
    "\n",
    "        coeff = np.expand_dims(coeff, 0)\n",
    "        if com not in com2coeff_sub: \n",
    "            com2coeff_sub[com] = coeff\n",
    "        else: \n",
    "            com2coeff_sub[com] = np.vstack((com2coeff_sub[com], coeff))"
   ]
  },
  {
   "cell_type": "code",
   "execution_count": 39,
   "metadata": {},
   "outputs": [
    {
     "data": {
      "text/plain": [
       "array([ 0.9124344 ,  1.4843716 , 47.92320231, 10.71686891,  8.08162916,\n",
       "        9.22558612, 11.21813619, 21.91316652])"
      ]
     },
     "execution_count": 39,
     "metadata": {},
     "output_type": "execute_result"
    }
   ],
   "source": [
    "cvs = np.zeros((len(st.track.keys()), len(diff_lib.get_feature_names())))\n",
    "for com in sorted(st.track.keys()):\n",
    "    indices, _ = st.track[com]\n",
    "    cv_com = np.zeros(len(diff_lib.get_feature_names()))\n",
    "    \n",
    "    ### treat a seq of coeff values in one horizon as a mean constant number ###\n",
    "    mh_coeffs = np.mean(com2coeff_sub[com], axis=-1)\n",
    "    cv_com[list(indices)] = np.abs(np.std(mh_coeffs, axis=0)/np.mean(mh_coeffs, axis=0))\n",
    "    \n",
    "    ### mean over the horizon axis as well\n",
    "    # cv_com[list(indices)] = np.abs(com2coeff_sub[com].std(axis=0)/com2coeff_sub[com].mean(axis=0)).mean(axis=-1)\n",
    "    \n",
    "    cvs[com-1] = cv_com\n",
    "    \n",
    "cvs.sum(axis=-1)"
   ]
  },
  {
   "cell_type": "code",
   "execution_count": 40,
   "metadata": {},
   "outputs": [
    {
     "name": "stdout",
     "output_type": "stream",
     "text": [
      "2\n"
     ]
    },
    {
     "data": {
      "image/png": "[encoded data removed]",
      "text/plain": [
       "<Figure size 640x480 with 1 Axes>"
      ]
     },
     "metadata": {},
     "output_type": "display_data"
    }
   ],
   "source": [
    "brr_bicaics = [BIC_AIC(brr_pred, y_pre, brr_com+cvs.sum(axis=-1)[brr_com-1])[0] \n",
    "               for brr_pred, brr_com, brr_uncert in brr_bics]\n",
    "print(np.argmin(brr_bicaics)+1)\n",
    "plt.plot(brr_bicaics)\n",
    "plt.show()"
   ]
  },
  {
   "cell_type": "code",
   "execution_count": 41,
   "metadata": {},
   "outputs": [
    {
     "ename": "SystemExit",
     "evalue": "Stop right here!",
     "output_type": "error",
     "traceback": [
      "An exception has occurred, use %tb to see the full traceback.\n",
      "\u001b[0;31mSystemExit\u001b[0m\u001b[0;31m:\u001b[0m Stop right here!\n"
     ]
    }
   ],
   "source": [
    "raise SystemExit(\"Stop right here!\")"
   ]
  },
  {
   "cell_type": "markdown",
   "metadata": {},
   "source": [
    "#### Denoised weak form: Tune (p, q), ws"
   ]
  },
  {
   "cell_type": "code",
   "execution_count": null,
   "metadata": {},
   "outputs": [],
   "source": [
    "def weight_poly(x, m, k):\n",
    "    \"\"\"\n",
    "    Polynomial piece of weighting function used to satisfy BC A = d^k/dx^k[(x^2 - 1)^m]\n",
    "    x: independent variable\n",
    "    m: power of base function\n",
    "    k: order of derivative\n",
    "    \"\"\"\n",
    "    a = np.zeros((2*m+1, 1)) # initial coefficient vector\n",
    "    for l in range(m+1):\n",
    "        a[2*l] = ((-1)**(m-l))*np.math.comb(m, l) # set polynomial coefficients\n",
    "    \n",
    "    c = np.zeros((2*m+1, 1)) # final coefficient vector\n",
    "    for n in range(2*m-k+1):\n",
    "        c[n] = a[n+k]*np.math.factorial(n+k)/np.math.factorial(n)\n",
    "    \n",
    "    p = 0\n",
    "    for n in range(2*m-k+1):\n",
    "        p += c[n]*(x**n) # final windowing function\n",
    "\n",
    "    return p\n",
    "\n",
    "def weight_full(k, p, x, t):\n",
    "    \"\"\"\n",
    "    Assemble the 1D weight functions into the full weight\n",
    "    k = [kx,ky,kt]: order of derivative(s)\n",
    "    p = [px,py,pt]: exponents of weight polynomials\n",
    "    \"\"\"\n",
    "    if len(k) == 3:\n",
    "        wx = weight_poly(x, p[0], k[0])\n",
    "        wy = weight_poly(x, p[1], k[1])\n",
    "        wt = weight_poly(t, p[2], k[2])\n",
    "        wX, wY, wT = np.meshgrid(wx, wy, wt)\n",
    "        W = wX * wY * wT\n",
    "    elif len(k) == 2:\n",
    "        wx = weight_poly(x, p[0], k[0])\n",
    "        wt = weight_poly(t, p[1], k[1])\n",
    "        wT, wX = np.meshgrid(wt, wx)\n",
    "        W = wX * wT\n",
    "    \n",
    "    return W, wx, wt"
   ]
  },
  {
   "cell_type": "code",
   "execution_count": null,
   "metadata": {},
   "outputs": [],
   "source": [
    "u_weak = un.copy()\n",
    "n_domain = 10000\n",
    "div = 3.5\n",
    "x_size, t_size = int(max(u_weak.shape)/div), int(max(u_weak.shape)/div)\n",
    "\n",
    "xsup = np.linspace(-1,1,x_size+1)\n",
    "tsup = np.linspace(-1,1,t_size+1)\n",
    "S_x = 2/(dx*x_size)\n",
    "S_t = 2/(dt*t_size)"
   ]
  },
  {
   "cell_type": "code",
   "execution_count": null,
   "metadata": {},
   "outputs": [],
   "source": [
    "max_order = 2\n",
    "best_loss = 1e6; best_coeff = None\n",
    "for mo in range(max_order, max_order+10, 1):\n",
    "    wx, wt = np.meshgrid((xsup**2-1)**mo, (tsup**2-1)**(mo-1))\n",
    "    W = (wx*wt).T\n",
    "    \n",
    "    # Define the derivative:\n",
    "    d_dx = FinDiff(0, xsup[1]-xsup[0], 1)\n",
    "    d_dxx = FinDiff(0, xsup[1]-xsup[0], 2)\n",
    "    d_dxxxx = FinDiff(0, xsup[1]-xsup[0], 4)\n",
    "    d_dt = FinDiff(1, tsup[1]-tsup[0], 1)\n",
    "\n",
    "    dA01 = d_dt(W)\n",
    "    dA10 = d_dx(W)\n",
    "    dA20 = d_dxx(W)\n",
    "    dA40 = d_dxxxx(W)\n",
    "\n",
    "    X_weak = []\n",
    "    y_weak = []\n",
    "    for _ in trange(n_domain):\n",
    "        ix = np.random.randint(0, len(x)-x_size, size=1)[0] + np.arange(0, x_size+1)\n",
    "        it = np.random.randint(0, len(t)-t_size, size=1)[0] + np.arange(0, t_size+1)\n",
    "\n",
    "        usup = (u_weak[ix, :][:, it])\n",
    "\n",
    "        f1 = -(1/2)*(usup**2)*dA10*S_x\n",
    "        f1 = trapz(trapz(f1, tsup, dt, 1), xsup, dx, 0)\n",
    "\n",
    "        f2 = usup*dA20*(S_x**2)\n",
    "        f2 = trapz(trapz(f2, tsup, dt, 1), xsup, dx, 0)\n",
    "\n",
    "        X_weak.append([f2, f1])\n",
    "\n",
    "        f4 = -usup*dA01*S_t\n",
    "        f4 = trapz(trapz(f4, tsup, dt, 1), xsup, dx, 0)\n",
    "        y_weak.append(f4)\n",
    "\n",
    "    X_weak = np.array(X_weak)\n",
    "    y_weak = np.array(y_weak)\n",
    "\n",
    "    coeff = np.linalg.lstsq(X_weak, y_weak, rcond=None)[0]\n",
    "    loss = ((X_weak@coeff-y_weak)**2).mean()\n",
    "\n",
    "    print(mo)\n",
    "    print(loss, evaluate_coefficients(coeff))\n",
    "    if loss < best_loss:\n",
    "        best_loss = loss\n",
    "        best_coeff = coeff\n",
    "    else:\n",
    "        break\n",
    "\n",
    "best_coeff, evaluate_coefficients(best_coeff)"
   ]
  },
  {
   "cell_type": "markdown",
   "metadata": {},
   "source": [
    "#### Savgol_filter"
   ]
  },
  {
   "cell_type": "code",
   "execution_count": null,
   "metadata": {},
   "outputs": [],
   "source": [
    "wx, wt = np.meshgrid((xsup**2-1)**(mo-1), (tsup**2-1)**(mo-1))\n",
    "W = wx*wt\n",
    "\n",
    "# Define the derivative:\n",
    "d_dx = FinDiff(0, xsup[1]-xsup[0], 1, acc=4)\n",
    "d_dxx = FinDiff(0, xsup[1]-xsup[0], 2, acc=4)\n",
    "d_dxxxx = FinDiff(0, xsup[1]-xsup[0], 4, acc=4)\n",
    "d_dt = FinDiff(1, tsup[1]-tsup[0], 1, acc=4)\n",
    "\n",
    "dA01 = d_dt(W)\n",
    "dA10 = d_dx(W)\n",
    "dA20 = d_dxx(W)\n",
    "dA40 = d_dxxxx(W)\n",
    "\n",
    "min_loss = 1e6; best_coeff = None\n",
    "for ws in trange(3, 33, 2):\n",
    "    X_weak = []\n",
    "    y_weak = []\n",
    "    for _ in range(n_domain):\n",
    "        ix = np.random.randint(0, len(x)-x_size, size=1)[0] + np.arange(0, x_size+1)\n",
    "        it = np.random.randint(0, len(t)-t_size, size=1)[0] + np.arange(0, t_size+1)\n",
    "        \n",
    "        usup = savgol_filter(u_weak[ix, :][:, it], ws, 2)\n",
    "\n",
    "        f1 = -(1/2)*(usup**2)*dA10*S_x\n",
    "        f1 = trapz(trapz(f1, tsup, 1), xsup, 0)\n",
    "\n",
    "        f2 = usup*dA20*(S_x**2)\n",
    "        f2 = trapz(trapz(f2, tsup, 1), xsup, 0)\n",
    "\n",
    "        X_weak.append([f2, f1])\n",
    "\n",
    "        f4 = -usup*dA01*S_t\n",
    "        f4 = trapz(trapz(f4, tsup, 1), xsup, 0)\n",
    "        y_weak.append(f4)\n",
    "\n",
    "    X_weak = np.array(X_weak)\n",
    "    y_weak = np.array(y_weak)\n",
    "    \n",
    "    coeff = np.linalg.lstsq(X_weak, y_weak, rcond=None)[0]\n",
    "    loss = ((X_weak@coeff-y_weak)**2).mean()\n",
    "    if loss < min_loss:\n",
    "        min_loss = loss\n",
    "        best_coeff = coeff\n",
    "\n",
    "# (0.04606205985549505, 0.03820344646573992)\n",
    "min_loss, best_coeff, evaluate_coefficients(best_coeff)"
   ]
  },
  {
   "cell_type": "markdown",
   "metadata": {},
   "source": [
    "#### wiener"
   ]
  },
  {
   "cell_type": "code",
   "execution_count": null,
   "metadata": {},
   "outputs": [],
   "source": [
    "min_loss = 1e6; best_coeff = None\n",
    "for ws in trange(3, 33, 1):\n",
    "    X_weak = []\n",
    "    y_weak = []\n",
    "    for _ in range(n_domain):\n",
    "        ix = np.random.randint(0, len(x)-x_size, size=1)[0] + np.arange(0, x_size+1)\n",
    "        it = np.random.randint(0, len(t)-t_size, size=1)[0] + np.arange(0, t_size+1)\n",
    "        \n",
    "        usup = wiener(u_weak[ix, :][:, it], ws)\n",
    "\n",
    "        f1 = -(1/2)*(usup**2)*dA10*S_x\n",
    "        f1 = trapz(trapz(f1, tsup, 1), xsup, 0)\n",
    "\n",
    "        f2 = usup*dA20*(S_x**2)\n",
    "        f2 = trapz(trapz(f2, tsup, 1), xsup, 0)\n",
    "\n",
    "        X_weak.append([f2, f1])\n",
    "\n",
    "        f4 = -usup*dA01*S_t\n",
    "        f4 = trapz(trapz(f4, tsup, 1), xsup, 0)\n",
    "        y_weak.append(f4)\n",
    "\n",
    "    X_weak = np.array(X_weak)\n",
    "    y_weak = np.array(y_weak)\n",
    "    \n",
    "    coeff = np.linalg.lstsq(X_weak, y_weak, rcond=None)[0]\n",
    "    loss = ((X_weak@coeff-y_weak)**2).mean()\n",
    "    if loss < min_loss:\n",
    "        min_loss = loss\n",
    "        best_coeff = coeff\n",
    "\n",
    "# (0.4027586839031899, 0.06266909774915452)\n",
    "min_loss, best_coeff, evaluate_coefficients(best_coeff)"
   ]
  },
  {
   "cell_type": "code",
   "execution_count": null,
   "metadata": {},
   "outputs": [],
   "source": [
    "raise SystemExit(\"Stop right here!\")"
   ]
  },
  {
   "cell_type": "code",
   "execution_count": null,
   "metadata": {},
   "outputs": [],
   "source": [
    "# X_pre = np.zeros(X_pre.shape)\n",
    "# y_pre = np.zeros(y_pre.shape)\n",
    "# n_times = 10\n",
    "# weak_coeffs = []\n",
    "# for _ in range(n_times):\n",
    "#     weak_pde_lib = ps.WeakPDELibrary(library_functions=[lambda x: x, lambda x: x * x], \n",
    "#                                      function_names=[lambda x: x, lambda x: x + x], \n",
    "#                                      derivative_order=diff_order, p=diff_order, \n",
    "#                                      spatiotemporal_grid=XT, \n",
    "#                                      include_bias=False, is_uniform=True, K=10000, \n",
    "#                                      differentiation_method=differentiation_method, \n",
    "#                                      differentiation_kwargs=differentiation_kwargs, \n",
    "#                                      cache=True\n",
    "#                                     )\n",
    "#     kwargs = {'fit_intercept':False, 'copy_X':True, 'normalize_columns':False}\n",
    "#     # Apply moving horizon to un is an interesting idea.\n",
    "#     X_pre_sub, y_pre_sub, fns = ps_features(un, t, weak_pde_lib, kwargs)\n",
    "#     X_pre = X_pre + X_pre_sub\n",
    "#     y_pre = y_pre + y_pre_sub\n",
    "#     optimizer = L0BNB(max_nonzeros=2, lam=1e-3, is_normal=True, normalize_columns=False)\n",
    "#     n_ensemble_models = 50\n",
    "#     model = ps.SINDy(feature_library=weak_pde_lib, optimizer=optimizer, \n",
    "#                      differentiation_method=differentiation_method, \n",
    "#                      cache=True,\n",
    "#                      feature_names=['u'])\n",
    "#     model.fit(np.expand_dims(un, -1), t=dt, ensemble=True, \n",
    "#               library_ensemble=True, n_candidates_to_drop=1, n_models=n_ensemble_models)\n",
    "#     ols_model, eff_rhs_indices = model.validate_coef_list()[0]\n",
    "#     print(np.array([convert2latex(f) for i,f in enumerate(model.get_feature_names()) if i in eff_rhs_indices]))\n",
    "#     print(ols_model.params)\n",
    "#     # percent_coeff = evaluate_coefficients(ols_model.params)\n",
    "#     # print(percent_coeff)\n",
    "#     # if percent_coeff[0] > 100: break\n",
    "#     weak_coeffs.append(ols_model.params)\n",
    "# weak_coeffs = np.array(weak_coeffs)\n",
    "# avg_weak_coeff = np.mean(weak_coeffs, axis=0)\n",
    "# X_pre = X_pre/n_times\n",
    "# y_pre = y_pre/n_times"
   ]
  },
  {
   "cell_type": "code",
   "execution_count": null,
   "metadata": {},
   "outputs": [],
   "source": [
    "# RDAE 5e-0: cv = 0.005062929348375081, 0.011023507990422338\n",
    "# RDAE 1e-0: cv = 0.004408008789094885, 0.00910193468516509\n",
    "# RDAE 5e-1: cv = 0.003467511174737858, 0.008040505161991068\n",
    "# RDAE 5e-2: cv = 0.004305311364345706, 0.007809099375818377\n",
    "\n",
    "# cv_abs = (weak_coeffs.std(axis=0)/np.abs(weak_coeffs.mean(axis=0))).mean()\n",
    "# cv = (weak_coeffs.std(axis=0)/weak_coeffs.mean(axis=0)).mean()\n",
    "# cv, cv_abs"
   ]
  },
  {
   "cell_type": "code",
   "execution_count": null,
   "metadata": {},
   "outputs": [],
   "source": [
    "# 50 percent noise\n",
    "# Robust PCA: (14.745720655392669, 6.347415766367691)\n",
    "# RDAE failed...\n",
    "\n",
    "# 40 percent noise\n",
    "# Robust PCA: (14.818002368919029, 7.899799685479938)\n",
    "# RDAE 5e-0: (2.9505659028666087, 1.8024006266427972)\n",
    "# RDAE 1e-0: (3.2008235132427463, 2.56690175990938)\n",
    "# RDAE 5e-1: (2.469185388081714, 1.7166311808760781)\n",
    "# RDAE 5e-2: (6.015975755333656, 5.859365864415776)\n",
    "# RDAE 5e-3: Failed\n",
    "\n",
    "# evaluate_coefficients(avg_weak_coeff)"
   ]
  },
  {
   "cell_type": "code",
   "execution_count": null,
   "metadata": {},
   "outputs": [],
   "source": [
    "def percent_coeff(pred, ground):\n",
    "    return 100*np.abs(pred-ground)/np.abs(ground)\n",
    "print(avg_weak_coeff)\n",
    "errs = percent_coeff(avg_weak_coeff, np.array([0.1, -1]))\n",
    "errs.mean(), errs.std()"
   ]
  },
  {
   "cell_type": "code",
   "execution_count": null,
   "metadata": {},
   "outputs": [],
   "source": [
    "# print(np.linalg.lstsq(X_pre[:, [3,4]], y_pre, rcond=None)[0].flatten())\n",
    "# evaluate_coefficients(np.linalg.lstsq(X_pre[:, [3,4]], y_pre, rcond=None)[0].flatten())"
   ]
  },
  {
   "cell_type": "code",
   "execution_count": null,
   "metadata": {},
   "outputs": [],
   "source": []
  },
  {
   "cell_type": "code",
   "execution_count": null,
   "metadata": {},
   "outputs": [],
   "source": []
  },
  {
   "cell_type": "markdown",
   "metadata": {},
   "source": [
    "#### Save"
   ]
  },
  {
   "cell_type": "code",
   "execution_count": null,
   "metadata": {},
   "outputs": [],
   "source": [
    "best_subsets = sorted([indices for _, (indices, _) in st.track.items()], key=lambda _: len(_))\n",
    "tmp = np.zeros((len(best_subsets), X_pre.shape[-1]))\n",
    "for i in range(len(best_subsets)):\n",
    "    tmp[i:i+1, :][0, best_subsets[i]] = 1.0\n",
    "best_subsets = tmp.astype(np.float32)\n",
    "del tmp\n",
    "\n",
    "pms_data = {nameof(un): un, \n",
    "            nameof(X_pre): X_pre, \n",
    "            nameof(y_pre): y_pre, \n",
    "            nameof(best_subsets): best_subsets}\n",
    "pms_data"
   ]
  },
  {
   "cell_type": "code",
   "execution_count": null,
   "metadata": {},
   "outputs": [],
   "source": [
    "basic_vars = {'u'}\n",
    "encoded_feature_names = []\n",
    "for feature in model.get_feature_names():\n",
    "    out_feature = []\n",
    "    last_index = -1\n",
    "    for i, c in enumerate(feature):\n",
    "        if i+1 < len(feature) and feature[i+1] in basic_vars:\n",
    "            last_index = i\n",
    "            out_feature.append(c+'*')\n",
    "    out_feature.append(feature[last_index+1:])\n",
    "    encoded_feature_names.append(''.join(out_feature))\n",
    "encoded_feature_names = np.array(encoded_feature_names)\n",
    "encoded_feature_names.tolist()"
   ]
  },
  {
   "cell_type": "code",
   "execution_count": null,
   "metadata": {},
   "outputs": [],
   "source": [
    "for com in sorted(st.track.keys()):\n",
    "    indices, _ = st.track[com]\n",
    "    expr = '+'.join(encoded_feature_names[list(indices)])\n",
    "    print(expr)\n",
    "    print('----------')\n",
    "encoded_pde_names = ['+'.join(encoded_feature_names[list(indices)]) for _, (indices, _) \n",
    "                     in sorted(st.track.items())]"
   ]
  },
  {
   "cell_type": "code",
   "execution_count": null,
   "metadata": {},
   "outputs": [],
   "source": [
    "import yaml\n",
    "from omegaconf import OmegaConf\n",
    "yml = {}\n",
    "yml[\"encoded_feature_names\"] = encoded_feature_names.tolist()\n",
    "yml[\"encoded_pde_names\"] = encoded_pde_names\n",
    "yml[\"information_criterion_score\"] = [float(ic) for _, (_, ic) in st.track.items()]"
   ]
  },
  {
   "cell_type": "markdown",
   "metadata": {},
   "source": [
    "#### Save files for training PINNs & DeepONets"
   ]
  },
  {
   "cell_type": "code",
   "execution_count": null,
   "metadata": {},
   "outputs": [],
   "source": [
    "fp1 = \"../Burgers_exp/IPI_output_files/PMS_data.h5\"\n",
    "fp2 = \"../Burgers_exp/IPI_output_files/encoded_pde_names.yaml\"\n",
    "fp1, fp2"
   ]
  },
  {
   "cell_type": "code",
   "execution_count": null,
   "metadata": {},
   "outputs": [],
   "source": [
    "h5file(file_path=fp1, cdict=pms_data, mode='w')\n",
    "OmegaConf.save(config=OmegaConf.create(yml), f=fp2)"
   ]
  },
  {
   "cell_type": "code",
   "execution_count": null,
   "metadata": {},
   "outputs": [],
   "source": [
    "OmegaConf.load(fp2)"
   ]
  },
  {
   "cell_type": "code",
   "execution_count": null,
   "metadata": {},
   "outputs": [],
   "source": [
    "h5file(file_path=fp1, mode='r', return_dict=False)"
   ]
  }
 ],
 "metadata": {
  "anaconda-cloud": {},
  "kernelspec": {
   "display_name": "Python [conda env:pysindy_latest]",
   "language": "python",
   "name": "conda-env-pysindy_latest-py"
  },
  "language_info": {
   "codemirror_mode": {
    "name": "ipython",
    "version": 3
   },
   "file_extension": ".py",
   "mimetype": "text/x-python",
   "name": "python",
   "nbconvert_exporter": "python",
   "pygments_lexer": "ipython3",
   "version": "3.10.10"
  },
  "widgets": {
   "application/vnd.jupyter.widget-state+json": {
    "state": {},
    "version_major": 2,
    "version_minor": 0
   }
  }
 },
 "nbformat": 4,
 "nbformat_minor": 4
}
