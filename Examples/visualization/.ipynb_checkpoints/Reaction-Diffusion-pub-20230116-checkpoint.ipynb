{
 "cells": [
  {
   "cell_type": "code",
   "execution_count": 1,
   "id": "ae4a5cbd-0870-4ee3-90b4-77941211256d",
   "metadata": {},
   "outputs": [],
   "source": [
    "%matplotlib inline\n",
    "import matplotlib.pyplot as plt\n",
    "from matplotlib.legend_handler import HandlerLine2D, HandlerTuple\n",
    "FT = 8\n",
    "plt.rcParams.update({'font.size': FT})\n",
    "import numpy as np\n",
    "import scipy.io as io\n",
    "\n",
    "import sys\n",
    "sys.path.append('./../../../parametric-discovery/')\n",
    "from best_subset import get_decreasing_vals, find_transition, find_transition_V2, find_transition_V3, find_transition_V4, find_transition_V5\n",
    "\n",
    "from datetime import date\n",
    "def today(): return date.today().strftime(\"%Y%m%d\")\n",
    "from os.path import join as join_path\n",
    "FIGURE_EXPORT_PATH = \"./vis_pics/\""
   ]
  },
  {
   "cell_type": "markdown",
   "id": "6144201f-06be-43f0-858d-29166c2eaf69",
   "metadata": {},
   "source": [
    "## 2D-big"
   ]
  },
  {
   "cell_type": "code",
   "execution_count": 2,
   "id": "961c0352-d8c7-4aab-9496-0e3a4af15751",
   "metadata": {},
   "outputs": [
    {
     "name": "stdout",
     "output_type": "stream",
     "text": [
      "3.1176646941363617 1.0275748708131187\n",
      "3.3250884079139156 1.2489754144067837\n"
     ]
    }
   ],
   "source": [
    "udata = io.loadmat(\"./reaction_diffustion_2d_big_u_stlsq_bnb_frols_bruteforce_noise_lv10.mat\")\n",
    "rel_bic_scores_u = udata[\"rel_bic_scores\"][0]\n",
    "complexities_u = udata[\"complexities\"][0]\n",
    "\n",
    "vdata = io.loadmat(\"./reaction_diffustion_2d_big_v_stlsq_bnb_frols_bruteforce_noise_lv10.mat\")\n",
    "rel_bic_scores_v = vdata[\"rel_bic_scores\"][0]\n",
    "complexities_v = vdata[\"complexities\"][0]\n",
    "\n",
    "print(udata['percent_coefficient_error_mean'][0][0], \n",
    "      udata['percent_coefficient_error_std'][0][0])\n",
    "print(vdata['percent_coefficient_error_mean'][0][0], \n",
    "      vdata['percent_coefficient_error_std'][0][0])"
   ]
  },
  {
   "cell_type": "code",
   "execution_count": 3,
   "id": "28f2e6ec-1904-4876-9cb6-ec68fcd8e709",
   "metadata": {},
   "outputs": [],
   "source": [
    "mini = min(np.minimum(complexities_u, complexities_v))\n",
    "maxi = max(np.maximum(complexities_u, complexities_v))"
   ]
  },
  {
   "cell_type": "code",
   "execution_count": 4,
   "id": "675003a0-8d40-480b-b4a3-dc9a6d1e3fc7",
   "metadata": {},
   "outputs": [
    {
     "name": "stdout",
     "output_type": "stream",
     "text": [
      "7 improves 6\n",
      "Percent improve: 0.09583737702917063\n",
      "8 does not improve 7\n",
      "Percent improve: 0.0015569019691942943\n",
      "OK!\n",
      "7 improves 6\n",
      "Percent improve: 0.10549507638620763\n",
      "8 does not improve 7\n",
      "Percent improve: 0.000973592640045278\n",
      "OK!\n"
     ]
    }
   ],
   "source": [
    "d_bic_scores, d_complexities, _ = get_decreasing_vals(rel_bic_scores_u*1e3+udata[\"min_bic_score\"][0], complexities_u)\n",
    "# if find_transition_V4(d_bic_scores, d_complexities, 0.099) == 7: print('OK!')\n",
    "if find_transition_V5(d_bic_scores, d_complexities, 0.09, 0.01) == 7: print('OK!')\n",
    "d_bic_scores, d_complexities, _ = get_decreasing_vals(rel_bic_scores_v*1e3+vdata[\"min_bic_score\"][0], complexities_v)\n",
    "# if find_transition_V4(d_bic_scores, d_complexities, 0.099) == 7: print('OK!')\n",
    "if find_transition_V5(d_bic_scores, d_complexities, 0.09, 0.01) == 7: print('OK!')"
   ]
  },
  {
   "cell_type": "code",
   "execution_count": 5,
   "id": "f3b74f24-0feb-44d6-857a-7c429e1acfc0",
   "metadata": {},
   "outputs": [
    {
     "data": {
      "image/png": "[encoded data removed]",
      "text/plain": [
       "<Figure size 350x262.5 with 1 Axes>"
      ]
     },
     "metadata": {},
     "output_type": "display_data"
    }
   ],
   "source": [
    "with plt.style.context('science'):\n",
    "    fig, ax = plt.subplots()\n",
    "    ax.plot([], [], ' ', label=\"Noise level 10\\%\")\n",
    "    ax.plot([], [], ' ', label=\"Predicted vars.\")\n",
    "    ax.plot(complexities_u[:6], rel_bic_scores_u[:6], color='green', linewidth=2.5/2, label='$u_t(x, y, t)$', zorder=1)\n",
    "    ax.plot(complexities_u[5:7], rel_bic_scores_u[5:7], '--', color='green', linewidth=2.5/2, zorder=1)\n",
    "    ax.plot(complexities_u[6:], rel_bic_scores_u[6:], color='green', linewidth=2.5/2, zorder=1)\n",
    "    ax.scatter(complexities_u, rel_bic_scores_u, marker='o', fc='none', ec='green', s=25/2, zorder=1)\n",
    "    \n",
    "    ax.plot(complexities_v[:6], rel_bic_scores_v[:6], color='red', linewidth=2.5/2, label='$v_t(x, y, t)$', zorder=2)\n",
    "    ax.plot(complexities_v[5:7], rel_bic_scores_v[5:7], '--', color='red', linewidth=2.5/2, zorder=2)\n",
    "    ax.plot(complexities_v[6:], rel_bic_scores_v[6:], color='red', linewidth=2.5/2, zorder=2)\n",
    "    ax.scatter(complexities_v, rel_bic_scores_v, marker='o', fc='none', ec='red', s=25/2, zorder=2)\n",
    "    \n",
    "    plt.xlim(mini-0.3, maxi+0.3)\n",
    "    plt.xticks([i for i in range(mini, maxi+1)])\n",
    "    # plt.ylabel(r\"Relative BIC ($\\times 10^{3}$)\", fontsize=FT)\n",
    "    plt.xlabel(r\"Complexity $\\lVert\\overline{\\xi}\\rVert^{}_{0}$\", fontsize=FT)\n",
    "    plt.tight_layout()\n",
    "    plt.legend(fontsize=FT)\n",
    "    # plt.savefig(join_path(FIGURE_EXPORT_PATH, \"./2D_big.pdf\"))\n",
    "    plt.show()"
   ]
  },
  {
   "cell_type": "code",
   "execution_count": null,
   "id": "2c864140-2498-4a89-b73d-a8966d6cee80",
   "metadata": {},
   "outputs": [],
   "source": []
  },
  {
   "cell_type": "code",
   "execution_count": null,
   "id": "2095df1c-1a54-46bf-aead-b8a1005be5d5",
   "metadata": {},
   "outputs": [],
   "source": []
  },
  {
   "cell_type": "markdown",
   "id": "f0802d2d-ebbd-4534-be09-76840de36f5c",
   "metadata": {},
   "source": [
    "## 3D \n",
    "    - n = 64"
   ]
  },
  {
   "cell_type": "code",
   "execution_count": 6,
   "id": "1ccb5cdc-feee-4e01-af02-7772a7289db8",
   "metadata": {},
   "outputs": [
    {
     "name": "stdout",
     "output_type": "stream",
     "text": [
      "0.1006793041092446 0.10167797917687246\n",
      "0.07431126108408234 0.06076562562496081\n"
     ]
    }
   ],
   "source": [
    "udata = io.loadmat(\"./reaction_diffustion_3d_64_u_sr3_bnb_frols_noise_lv0.04_20230116.mat\")\n",
    "rel_bic_scores_u = udata[\"rel_bic_scores\"][0]\n",
    "complexities_u = udata[\"complexities\"][0]\n",
    "\n",
    "vdata = io.loadmat(\"./reaction_diffustion_3d_64_v_sr3_bnb_frols_noise_lv0.04_20230116.mat\")\n",
    "rel_bic_scores_v = vdata[\"rel_bic_scores\"][0]\n",
    "complexities_v = vdata[\"complexities\"][0]\n",
    "\n",
    "print(udata['percent_coefficient_error_mean'][0][0], \n",
    "      udata['percent_coefficient_error_std'][0][0])\n",
    "print(vdata['percent_coefficient_error_mean'][0][0], \n",
    "      vdata['percent_coefficient_error_std'][0][0])"
   ]
  },
  {
   "cell_type": "code",
   "execution_count": 7,
   "id": "0dce84a3-3743-4065-a441-5b44588b8c35",
   "metadata": {},
   "outputs": [],
   "source": [
    "mini = min(np.minimum(complexities_u, complexities_v))\n",
    "maxi = max(np.maximum(complexities_u, complexities_v))"
   ]
  },
  {
   "cell_type": "code",
   "execution_count": 8,
   "id": "9b305a8c-4a40-437a-84c8-09a31394d766",
   "metadata": {},
   "outputs": [
    {
     "name": "stdout",
     "output_type": "stream",
     "text": [
      "6 improves 5\n",
      "Percent improve: 0.11351849700530013\n",
      "OK!\n",
      "5 improves 4\n",
      "Percent improve: 0.23039654428853099\n",
      "OK!\n"
     ]
    }
   ],
   "source": [
    "d_bic_scores, d_complexities, _ = get_decreasing_vals(rel_bic_scores_u*1e3+udata[\"min_bic_score\"][0], complexities_u)\n",
    "# if find_transition_V4(d_bic_scores, d_complexities, 0.099) == 6: print('OK!')\n",
    "if find_transition_V5(d_bic_scores, d_complexities, 0.09, 0.01) == 6: print('OK!')\n",
    "d_bic_scores, d_complexities, _ = get_decreasing_vals(rel_bic_scores_v*1e3+vdata[\"min_bic_score\"][0], complexities_v)\n",
    "# if find_transition_V4(d_bic_scores, d_complexities, 0.099) == 5: print('OK!')\n",
    "if find_transition_V5(d_bic_scores, d_complexities, 0.09, 0.01) == 5: print('OK!')"
   ]
  },
  {
   "cell_type": "code",
   "execution_count": 9,
   "id": "d29cc0df-4fa5-4f7b-99ab-21f62593b311",
   "metadata": {},
   "outputs": [
    {
     "data": {
      "image/png": "[encoded data removed]",
      "text/plain": [
       "<Figure size 350x262.5 with 1 Axes>"
      ]
     },
     "metadata": {},
     "output_type": "display_data"
    }
   ],
   "source": [
    "with plt.style.context('science'):\n",
    "    fig, ax = plt.subplots()\n",
    "    ax.plot([], [], ' ', label=\"Noise level 0.04\\%\")\n",
    "    ax.plot([], [], ' ', label=\"Predicted vars.\")\n",
    "    ax.plot(complexities_u[:5], rel_bic_scores_u[:5], color='green', linewidth=2.5/2, label='$u_t(x, y, z, t)$', zorder=1)\n",
    "    ax.plot(complexities_u[4:6], rel_bic_scores_u[4:6], '--', color='green', linewidth=2.5/2, zorder=1)\n",
    "    ax.plot(complexities_u[5:], rel_bic_scores_u[5:], color='green', linewidth=2.5/2, zorder=1)\n",
    "    ax.scatter(complexities_u, rel_bic_scores_u, marker='o', fc='none', ec='green', s=25/2, zorder=1)\n",
    "    \n",
    "    ax.plot(complexities_v[:4], rel_bic_scores_v[:4], color='red', linewidth=2.5/2, label='$v_t(x, y, z, t)$', zorder=2)\n",
    "    ax.plot(complexities_v[3:5], rel_bic_scores_v[3:5], '--', color='red', linewidth=2.5/2, zorder=2)\n",
    "    ax.plot(complexities_v[4:], rel_bic_scores_v[4:], color='red', linewidth=2.5/2, zorder=2)\n",
    "    ax.scatter(complexities_v, rel_bic_scores_v, marker='o', fc='none', ec='red', s=25/2, zorder=2)\n",
    "    \n",
    "    plt.xlim(mini-0.3, maxi+0.3)\n",
    "    plt.xticks([i for i in range(mini, maxi+1)])\n",
    "    # plt.ylabel(r\"Relative BIC ($\\times 10^{3}$)\", fontsize=FT)\n",
    "    plt.xlabel(r\"Complexity $\\lVert\\overline{\\xi}\\rVert^{}_{0}$\", fontsize=FT)\n",
    "    plt.tight_layout()\n",
    "    plt.legend(fontsize=FT)\n",
    "    # plt.savefig(join_path(FIGURE_EXPORT_PATH, \"./3D_64.pdf\"))\n",
    "    plt.show()"
   ]
  },
  {
   "cell_type": "code",
   "execution_count": null,
   "id": "033fb9b9-40c0-4f50-a985-a03988b8543d",
   "metadata": {},
   "outputs": [],
   "source": []
  },
  {
   "cell_type": "code",
   "execution_count": null,
   "id": "6f8b9ef3-1c17-4808-9a45-d97955ab07a7",
   "metadata": {},
   "outputs": [],
   "source": []
  },
  {
   "cell_type": "markdown",
   "id": "6486b7cf-d2ac-42e0-8e2b-d9d9ac53c554",
   "metadata": {},
   "source": [
    "## 3D\n",
    "    - n = 128"
   ]
  },
  {
   "cell_type": "code",
   "execution_count": 10,
   "id": "215310f9-5f92-4404-8148-4f3b80054e88",
   "metadata": {},
   "outputs": [
    {
     "name": "stdout",
     "output_type": "stream",
     "text": [
      "0.05921411795153867 0.07593721092188789\n",
      "0.005869698238129731 0.0035361389274087924\n"
     ]
    }
   ],
   "source": [
    "# udata = io.loadmat(\"./reaction_diffustion_3d_128_u_sr3_bnb_frols_noise_lv0.1.mat\")\n",
    "udata = io.loadmat(\"./reaction_diffustion_3d_128_u_sr3_bnb_frols_noise_lv0.1_20230116.mat\")\n",
    "rel_bic_scores_u = udata[\"rel_bic_scores\"][0]\n",
    "complexities_u = udata[\"complexities\"][0]\n",
    "\n",
    "# vdata = io.loadmat(\"./reaction_diffustion_3d_128_v_sr3_bnb_frols_noise_lv0.1.mat\")\n",
    "vdata = io.loadmat(\"./reaction_diffustion_3d_128_v_sr3_bnb_frols_noise_lv0.1_20230116.mat\")\n",
    "rel_bic_scores_v = vdata[\"rel_bic_scores\"][0]\n",
    "complexities_v = vdata[\"complexities\"][0]\n",
    "\n",
    "print(udata['percent_coefficient_error_mean'][0][0], \n",
    "      udata['percent_coefficient_error_std'][0][0])\n",
    "print(vdata['percent_coefficient_error_mean'][0][0], \n",
    "      vdata['percent_coefficient_error_std'][0][0])"
   ]
  },
  {
   "cell_type": "code",
   "execution_count": 11,
   "id": "bcab9e91-ce65-44bb-b612-19b218a29747",
   "metadata": {},
   "outputs": [],
   "source": [
    "mini = min(np.minimum(complexities_u, complexities_v))\n",
    "maxi = max(np.maximum(complexities_u, complexities_v))"
   ]
  },
  {
   "cell_type": "code",
   "execution_count": 12,
   "id": "e3bf6146-ebd1-4990-ba35-e4ff77b09cbe",
   "metadata": {},
   "outputs": [
    {
     "name": "stdout",
     "output_type": "stream",
     "text": [
      "6 improves 5\n",
      "Percent improve: 0.13124774094580485\n",
      "7 does not improve 6\n",
      "Percent improve: 9.95182642822995e-06\n",
      "OK!\n",
      "5 improves 4\n",
      "Percent improve: 0.2540419866364351\n",
      "OK!\n"
     ]
    }
   ],
   "source": [
    "d_bic_scores, d_complexities, _ = get_decreasing_vals(rel_bic_scores_u*1e3+udata[\"min_bic_score\"][0], complexities_u)\n",
    "# if find_transition_V4(d_bic_scores, d_complexities, 0.099) == 6: print('OK!')\n",
    "if find_transition_V5(d_bic_scores, d_complexities, 0.09, 0.01) == 6: print('OK!')\n",
    "d_bic_scores, d_complexities, _ = get_decreasing_vals(rel_bic_scores_v*1e3+vdata[\"min_bic_score\"][0], complexities_v)\n",
    "# if find_transition_V4(d_bic_scores, d_complexities, 0.099) == 5: print('OK!')\n",
    "if find_transition_V5(d_bic_scores, d_complexities, 0.09, 0.01) == 5: print('OK!')"
   ]
  },
  {
   "cell_type": "code",
   "execution_count": 13,
   "id": "3b097e2f-a7d6-49ce-a10a-47d5c86c1194",
   "metadata": {},
   "outputs": [
    {
     "data": {
      "image/png": "[encoded data removed]",
      "text/plain": [
       "<Figure size 350x262.5 with 1 Axes>"
      ]
     },
     "metadata": {},
     "output_type": "display_data"
    }
   ],
   "source": [
    "with plt.style.context('science'):\n",
    "    fig, ax = plt.subplots()\n",
    "    ax.plot([], [], ' ', label=\"Noise level 0.1\\%\")\n",
    "    ax.plot([], [], ' ', label=\"Predicted vars.\")\n",
    "    ax.plot(complexities_u[:5], rel_bic_scores_u[:5], color='green', linewidth=2.5/2, label='$u_t(x, y, z, t)$', zorder=1)\n",
    "    ax.plot(complexities_u[4:6], rel_bic_scores_u[4:6], '--', color='green', linewidth=2.5/2, zorder=1)\n",
    "    ax.plot(complexities_u[5:], rel_bic_scores_u[5:], color='green', linewidth=2.5/2, zorder=1)\n",
    "    ax.scatter(complexities_u, rel_bic_scores_u, marker='o', fc='none', ec='green', s=25/2, zorder=1)\n",
    "    \n",
    "    ax.plot(complexities_v[:4], rel_bic_scores_v[:4], color='red', linewidth=2.5/2, label='$v_t(x, y, z, t)$', zorder=2)\n",
    "    ax.plot(complexities_v[3:5], rel_bic_scores_v[3:5], '--', color='red', linewidth=2.5/2, zorder=2)\n",
    "    ax.plot(complexities_v[4:], rel_bic_scores_v[4:], color='red', linewidth=2.5/2, zorder=2)\n",
    "    ax.scatter(complexities_v, rel_bic_scores_v, marker='o', fc='none', ec='red', s=25/2, zorder=2)\n",
    "    \n",
    "    plt.xlim(mini-0.3, maxi+0.3)\n",
    "    plt.xticks([i for i in range(mini, maxi+1)])\n",
    "    plt.ylabel(r\"Relative BIC ($\\times 10^{3}$)\", fontsize=FT)\n",
    "    plt.xlabel(r\"Complexity $\\lVert\\overline{\\xi}\\rVert^{}_{0}$\", fontsize=FT)\n",
    "    plt.tight_layout()\n",
    "    plt.legend(fontsize=FT)\n",
    "    # plt.savefig(join_path(FIGURE_EXPORT_PATH, \"./3D_128.pdf\"))\n",
    "    plt.show()"
   ]
  },
  {
   "cell_type": "code",
   "execution_count": null,
   "id": "20959d61-4c09-4acc-b263-785e2f867632",
   "metadata": {},
   "outputs": [],
   "source": []
  },
  {
   "cell_type": "code",
   "execution_count": null,
   "id": "aa1271db-82f2-4456-989d-7509f17ac1d8",
   "metadata": {},
   "outputs": [],
   "source": []
  },
  {
   "cell_type": "markdown",
   "id": "687c7205-8d2b-4dca-8da0-b6b91f843633",
   "metadata": {},
   "source": [
    "## 3D\n",
    "    - n = 32"
   ]
  },
  {
   "cell_type": "code",
   "execution_count": 14,
   "id": "92851ffb-9c24-43f0-9751-63acee5d20f3",
   "metadata": {},
   "outputs": [
    {
     "name": "stdout",
     "output_type": "stream",
     "text": [
      "nan nan\n",
      "nan nan\n"
     ]
    }
   ],
   "source": [
    "# udata = io.loadmat(\"./reaction_diffustion_3d_32_u_sr3_bnb_frols_noise_lv0.mat\")\n",
    "udata = io.loadmat(\"./reaction_diffustion_3d_32_u_sr3_bnb_frols_noise_lv0_20230116.mat\")\n",
    "rel_bic_scores_u = udata[\"rel_bic_scores\"][0]\n",
    "complexities_u = udata[\"complexities\"][0]\n",
    "\n",
    "# vdata = io.loadmat(\"./reaction_diffustion_3d_32_v_sr3_bnb_frols_noise_lv0.mat\")\n",
    "vdata = io.loadmat(\"./reaction_diffustion_3d_32_v_sr3_bnb_frols_noise_lv0_20230116.mat\")\n",
    "rel_bic_scores_v = vdata[\"rel_bic_scores\"][0]\n",
    "complexities_v = vdata[\"complexities\"][0]\n",
    "\n",
    "print(udata['percent_coefficient_error_mean'][0][0], \n",
    "      udata['percent_coefficient_error_std'][0][0])\n",
    "print(vdata['percent_coefficient_error_mean'][0][0], \n",
    "      vdata['percent_coefficient_error_std'][0][0])"
   ]
  },
  {
   "cell_type": "code",
   "execution_count": 15,
   "id": "28e08b06-f463-4236-a402-bed289fb696e",
   "metadata": {},
   "outputs": [],
   "source": [
    "mini = min(np.minimum(complexities_u, complexities_v))\n",
    "maxi = max(np.maximum(complexities_u, complexities_v))"
   ]
  },
  {
   "cell_type": "code",
   "execution_count": 16,
   "id": "ab61116a-c59e-4c99-aded-02229507ab24",
   "metadata": {},
   "outputs": [
    {
     "name": "stdout",
     "output_type": "stream",
     "text": [
      "4 improves 3\n",
      "Percent improve: 0.09633193234950362\n",
      "5 does not improve 4\n",
      "Percent improve: 0.019476519804443253\n",
      "OK!\n",
      "4 improves 3\n",
      "Percent improve: 0.09199878811030927\n",
      "5 does not improve 4\n",
      "Percent improve: 0.019935124884710387\n",
      "OK!\n"
     ]
    }
   ],
   "source": [
    "d_bic_scores, d_complexities, _ = get_decreasing_vals(rel_bic_scores_u*1e3+udata[\"min_bic_score\"][0], complexities_u)\n",
    "# if find_transition_V4(d_bic_scores, d_complexities, 0.099) == 4: print('OK!')\n",
    "if find_transition_V5(d_bic_scores, d_complexities, 0.09, 0.01) < 6: print('OK!')\n",
    "d_bic_scores, d_complexities, _ = get_decreasing_vals(rel_bic_scores_v*1e3+vdata[\"min_bic_score\"][0], complexities_v)\n",
    "# if find_transition_V4(d_bic_scores, d_complexities, 0.099) == 4: print('OK!')\n",
    "if find_transition_V5(d_bic_scores, d_complexities, 0.09, 0.01) < 5: print('OK!')"
   ]
  },
  {
   "cell_type": "code",
   "execution_count": 17,
   "id": "fa67babe-b28f-4182-8693-7143c857f60c",
   "metadata": {},
   "outputs": [
    {
     "data": {
      "image/png": "[encoded data removed]",
      "text/plain": [
       "<Figure size 350x262.5 with 1 Axes>"
      ]
     },
     "metadata": {},
     "output_type": "display_data"
    }
   ],
   "source": [
    "with plt.style.context('science'):\n",
    "    fig, ax = plt.subplots()\n",
    "    ax.plot([], [], ' ', label=\"Noiseless\")\n",
    "    ax.plot([], [], ' ', label=\"Predicted vars.\")\n",
    "    ax.plot(complexities_u[:3], rel_bic_scores_u[:3], color='green', linewidth=2.5/2, label='$u_t(x, y, z, t)$', zorder=1)\n",
    "    ax.plot(complexities_u[2:4], rel_bic_scores_u[2:4], '--', color='green', linewidth=2.5/2, label=\"Failed (Chose 4-complexity PDE)\", zorder=1)\n",
    "    ax.plot(complexities_u[3:], rel_bic_scores_u[3:], color='green', linewidth=2.5/2, zorder=1)\n",
    "    ax.scatter(complexities_u, rel_bic_scores_u, marker='o', fc='none', ec='green', s=25/2, zorder=1)\n",
    "    \n",
    "    ax.plot(complexities_v[:3], rel_bic_scores_v[:3], color='red', linewidth=2.5/2, label='$v_t(x, y, z, t)$', zorder=2)\n",
    "    ax.plot(complexities_v[2:4], rel_bic_scores_v[2:4], '--', color='red', linewidth=2.5/2, label=\"Failed (Chose 4-complexity PDE)\", zorder=2)\n",
    "    ax.plot(complexities_v[3:], rel_bic_scores_v[3:], color='red', linewidth=2.5/2, zorder=2)\n",
    "    ax.scatter(complexities_v, rel_bic_scores_v, marker='o', fc='none', ec='red', s=25/2, zorder=2)\n",
    "    \n",
    "    plt.xlim(mini-0.3, maxi+0.3)\n",
    "    plt.xticks([i for i in range(mini, maxi+1)])\n",
    "    # plt.ylabel(r\"Relative BIC ($\\times 10^{3}$)\", fontsize=FT)\n",
    "    plt.xlabel(r\"Complexity $\\lVert\\overline{\\xi}\\rVert^{}_{0}$\", fontsize=FT)\n",
    "    plt.tight_layout()\n",
    "    plt.legend(fontsize=FT)\n",
    "    # plt.savefig(join_path(FIGURE_EXPORT_PATH, \"./3D_32.pdf\"))\n",
    "    plt.show()"
   ]
  },
  {
   "cell_type": "code",
   "execution_count": 18,
   "id": "2f9a9363-e689-443d-b38c-59470c25e800",
   "metadata": {},
   "outputs": [],
   "source": [
    "# with plt.style.context('science'):\n",
    "#     fig, ax = plt.subplots()\n",
    "#     ax.plot([], [], ' ', label=\"Noiseless\")\n",
    "#     ax.plot([], [], ' ', label=\"Predicted vars.\")\n",
    "#     ax.plot(complexities_u[:3], rel_bic_scores_u[:3], color='green', linewidth=2.5/2, label='$u_t(x, y, z, t)$', zorder=1)\n",
    "#     ax.plot(complexities_u[2:4], rel_bic_scores_u[2:4], '--', color='green', linewidth=2.5/2, label=\"Failed (Chose 4-complexity)\", zorder=1)\n",
    "#     ax.plot(complexities_u[3:], rel_bic_scores_u[3:], color='green', linewidth=2.5/2, zorder=1)\n",
    "#     ax.scatter(complexities_u, rel_bic_scores_u, marker='o', fc='none', ec='green', s=25/2, zorder=1)\n",
    "    \n",
    "#     ax.plot(complexities_v, rel_bic_scores_v, color='red', linewidth=2.5/2, label='$v_t(x, y, z, t)$', zorder=2)\n",
    "#     ax.scatter(complexities_v[:2], rel_bic_scores_v[:2], marker='o', fc='none', ec='red', s=25/2, zorder=2)\n",
    "#     ax.scatter(complexities_v[2:3], rel_bic_scores_v[2:3], marker='o', linestyle='--', fc='none', ec='red', s=25/2, label=\"Failed (Chose 3-complexity)\", zorder=2)\n",
    "#     ax.scatter(complexities_v[3:], rel_bic_scores_v[3:], marker='o', fc='none', ec='red', s=25/2, zorder=2)\n",
    "    \n",
    "#     plt.xlim(mini-0.3, maxi+0.3)\n",
    "#     plt.xticks([i for i in range(mini, maxi+1)])\n",
    "#     plt.ylabel(r\"Relative BIC ($\\times 10^{3}$)\", fontsize=FT)\n",
    "#     plt.xlabel(r\"Complexity $\\lVert\\overline{\\xi}\\rVert^{}_{0}$\", fontsize=FT)\n",
    "#     plt.tight_layout()\n",
    "#     plt.legend(fontsize=FT)\n",
    "#     plt.savefig(join_path(FIGURE_EXPORT_PATH, \"./3D_32.pdf\"))\n",
    "#     plt.show()"
   ]
  },
  {
   "cell_type": "code",
   "execution_count": null,
   "id": "4afa98ad-a06e-48aa-9c4c-7a737da544e7",
   "metadata": {},
   "outputs": [],
   "source": []
  }
 ],
 "metadata": {
  "kernelspec": {
   "display_name": "Python [conda env:py3.7]",
   "language": "python",
   "name": "conda-env-py3.7-py"
  },
  "language_info": {
   "codemirror_mode": {
    "name": "ipython",
    "version": 3
   },
   "file_extension": ".py",
   "mimetype": "text/x-python",
   "name": "python",
   "nbconvert_exporter": "python",
   "pygments_lexer": "ipython3",
   "version": "3.7.12"
  },
  "widgets": {
   "application/vnd.jupyter.widget-state+json": {
    "state": {},
    "version_major": 2,
    "version_minor": 0
   }
  }
 },
 "nbformat": 4,
 "nbformat_minor": 5
}
