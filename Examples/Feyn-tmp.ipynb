{
 "cells": [
  {
   "cell_type": "code",
   "execution_count": 1,
   "id": "9333d98c",
   "metadata": {},
   "outputs": [],
   "source": [
    "%matplotlib inline\n",
    "import matplotlib.pyplot as plt\n",
    "\n",
    "import sys; sys.path.append('../')\n",
    "from misc import h5file\n",
    "import numpy as np\n",
    "\n",
    "import scipy.io as sio\n",
    "import sympy\n",
    "from sympy import Symbol, parse_expr, sympify, lambdify, Lambda\n",
    "\n",
    "import pandas as pd\n",
    "import subprocess\n",
    "\n",
    "from scipy.optimize import curve_fit\n",
    "\n",
    "MAIN_SEED = 1234\n",
    "np.random.seed(MAIN_SEED)"
   ]
  },
  {
   "cell_type": "code",
   "execution_count": 2,
   "id": "822a3532",
   "metadata": {},
   "outputs": [],
   "source": [
    "data = sio.loadmat('../Datasets/burgers.mat')\n",
    "u = (data['usol']).real\n",
    "x = (data['x'][0]).real\n",
    "t = (data['t'][:,0]).real"
   ]
  },
  {
   "cell_type": "code",
   "execution_count": 3,
   "id": "d4e9af4d",
   "metadata": {},
   "outputs": [],
   "source": [
    "y = np.load(\"./feyn_files/coeff.npy\")"
   ]
  },
  {
   "cell_type": "code",
   "execution_count": 4,
   "id": "b87827ed",
   "metadata": {},
   "outputs": [
    {
     "name": "stdout",
     "output_type": "stream",
     "text": [
      "This version of feyn and the QLattice is available for academic, personal, and non-commercial use. By using the community version of this software you agree to the terms and conditions which can be found at `https://abzu.ai/eula`.\n"
     ]
    }
   ],
   "source": [
    "import feyn\n",
    "ql = feyn.QLattice()"
   ]
  },
  {
   "cell_type": "code",
   "execution_count": 5,
   "id": "dc1d5192",
   "metadata": {},
   "outputs": [
    {
     "data": {
      "text/html": [
       "<?xml version=\"1.0\" encoding=\"utf-8\" ?>\n",
       "<svg baseProfile=\"full\" height=\"100.0\" preserveAspectRatio=\"none\" version=\"1.1\" viewBox=\"0 0 409 100.0\" width=\"409\" xmlns=\"http://www.w3.org/2000/svg\" xmlns:ev=\"http://www.w3.org/2001/xml-events\" xmlns:xlink=\"http://www.w3.org/1999/xlink\"><defs /><svg class=\"graph\" height=\"95.0\" width=\"409\" x=\"0\" y=\"0\"><defs /><text fill=\"#1E1E1E\" font-family=\"monospace\" font-size=\"12\" text-anchor=\"middle\" x=\"166.0\" y=\"69.0\">Loss: 4.34E+01</text><text fill=\"#1E1E1E\" font-family=\"monospace\" font-size=\"12\" text-anchor=\"start\" x=\"0\" y=\"85.0\">Epoch no. 10/10 - Tried 5416 models - Completed in 3s.</text><rect class=\"node\" fill=\"#00F082\" height=\"35\" stroke=\"#1E1E1E\" stroke-width=\"1\" width=\"90\" x=\"121\" y=\"20.0\"><title>y\n",
       "linear:\n",
       "scale=23.771692\n",
       "scale offset=0.000000\n",
       "w=-0.261467\n",
       "bias=-0.0529</title></rect><text fill=\"#1E1E1E\" font-family=\"monospace\" font-size=\"12\" style=\"pointer-events:none\" text-anchor=\"middle\" x=\"166.0\" y=\"41.5\">y</text><text fill=\"#1E1E1E\" font-family=\"monospace\" font-size=\"10\" style=\"pointer-events:none\" text-anchor=\"end\" x=\"209\" y=\"29.0\">0</text><text fill=\"#1E1E1E\" font-family=\"monospace\" font-size=\"10\" style=\"pointer-events:none\" text-anchor=\"start\" x=\"123\" y=\"29.0\">out</text><line stroke=\"#1E1E1E\" x1=\"91\" x2=\"121\" y1=\"37.5\" y2=\"37.5\" /><rect class=\"node\" fill=\"#00F082\" height=\"35\" stroke=\"#1E1E1E\" stroke-width=\"1\" width=\"90\" x=\"1\" y=\"20.0\"><title>x\n",
       "linear:\n",
       "scale=0.200000\n",
       "scale offset=5.000000\n",
       "w=0.159780\n",
       "bias=-0.0421</title></rect><text fill=\"#1E1E1E\" font-family=\"monospace\" font-size=\"12\" style=\"pointer-events:none\" text-anchor=\"middle\" x=\"46.0\" y=\"41.5\">x</text><text fill=\"#1E1E1E\" font-family=\"monospace\" font-size=\"10\" style=\"pointer-events:none\" text-anchor=\"end\" x=\"89\" y=\"29.0\">1</text><text fill=\"#1E1E1E\" font-family=\"monospace\" font-size=\"10\" style=\"pointer-events:none\" text-anchor=\"start\" x=\"3\" y=\"29.0\">num</text></svg></svg>"
      ],
      "text/plain": [
       "<IPython.core.display.HTML object>"
      ]
     },
     "metadata": {},
     "output_type": "display_data"
    }
   ],
   "source": [
    "train = pd.DataFrame({'x':t.flatten(), 'y':y})\n",
    "# starting from max_complexity = 10\n",
    "models = ql.auto_run(train, output_name = 'y', max_complexity=2) # max_complexity=2, 5, 10"
   ]
  },
  {
   "cell_type": "code",
   "execution_count": 6,
   "id": "bccb4ab4",
   "metadata": {},
   "outputs": [],
   "source": [
    "best = models[0]"
   ]
  },
  {
   "cell_type": "code",
   "execution_count": 7,
   "id": "eff6abd1",
   "metadata": {},
   "outputs": [
    {
     "data": {
      "text/latex": [
       "$\\displaystyle - 0.198624 x - 0.00317926$"
      ],
      "text/plain": [
       "-0.198624*x - 0.00317926"
      ]
     },
     "execution_count": 7,
     "metadata": {},
     "output_type": "execute_result"
    }
   ],
   "source": [
    "sympy_model = best.sympify()\n",
    "sympy_model.as_expr()"
   ]
  },
  {
   "cell_type": "code",
   "execution_count": 8,
   "id": "f3f204aa",
   "metadata": {},
   "outputs": [
    {
     "data": {
      "image/png": "[encoded data removed]",
      "text/plain": [
       "<Figure size 432x288 with 1 Axes>"
      ]
     },
     "metadata": {},
     "output_type": "display_data"
    }
   ],
   "source": [
    "from sympy.abc import x as symx\n",
    "plt.plot(t, [float(sympy_model.evalf(subs={symx:tt})) for tt in t])\n",
    "plt.plot(t, y)\n",
    "plt.show()"
   ]
  },
  {
   "cell_type": "code",
   "execution_count": 9,
   "id": "7d89237b",
   "metadata": {},
   "outputs": [
    {
     "data": {
      "text/plain": [
       "0.003412749296613171"
      ]
     },
     "execution_count": 9,
     "metadata": {},
     "output_type": "execute_result"
    }
   ],
   "source": [
    "prediction = np.array([float(sympy_model.evalf(subs={symx:tt})) for tt in t])\n",
    "1-np.sqrt(((prediction-y)**2).mean())/np.sqrt(((y.mean()-y)**2).mean())"
   ]
  },
  {
   "cell_type": "code",
   "execution_count": 10,
   "id": "3c01056a",
   "metadata": {},
   "outputs": [],
   "source": [
    "def ssr2llf(ssr, nobs):\n",
    "    nobs2 = nobs / 2.0\n",
    "    llf = -nobs2 * np.log(2 * np.pi) - nobs2 * np.log(ssr / nobs) - nobs2\n",
    "    return llf\n",
    "\n",
    "def log_like_value(prediction, ground):                                                                                                               \n",
    "    nobs = float(ground.shape[0])\n",
    "    ssr = np.sum(np.abs(ground - prediction)**2)\n",
    "    return ssr2llf(ssr, nobs)\n",
    "\n",
    "def BIC_AIC(prediction, ground, nparams, reg_func = lambda x: x):\n",
    "    nparams = reg_func(nparams)\n",
    "    llf = log_like_value(prediction, ground)\n",
    "    return -2*llf + np.log(ground.shape[0])*nparams, -2*llf + 2*nparams"
   ]
  },
  {
   "cell_type": "code",
   "execution_count": 11,
   "id": "97f8dde9",
   "metadata": {},
   "outputs": [
    {
     "data": {
      "text/plain": [
       "(668.0572112915833, 668.0572112915833)"
      ]
     },
     "execution_count": 11,
     "metadata": {},
     "output_type": "execute_result"
    }
   ],
   "source": [
    "BIC_AIC(y.mean()*np.ones_like(y).reshape(-1, 1), y.reshape(-1, 1), 0)"
   ]
  },
  {
   "cell_type": "code",
   "execution_count": 12,
   "id": "81e4be53",
   "metadata": {},
   "outputs": [
    {
     "data": {
      "text/plain": [
       "(676.5968979514947, 671.3666569178122)"
      ]
     },
     "execution_count": 12,
     "metadata": {},
     "output_type": "execute_result"
    }
   ],
   "source": [
    "BIC_AIC(prediction.reshape(-1, 1), y.reshape(-1, 1), \n",
    "        len(sympify(sympy_model).atoms(sympy.Number)))"
   ]
  },
  {
   "cell_type": "code",
   "execution_count": 13,
   "id": "c727019c",
   "metadata": {},
   "outputs": [
    {
     "data": {
      "text/plain": [
       "True"
      ]
     },
     "execution_count": 13,
     "metadata": {},
     "output_type": "execute_result"
    }
   ],
   "source": [
    "BIC_AIC(y.mean()*np.ones_like(y).reshape(-1, 1), y.reshape(-1, 1), 0)[0] < \\\n",
    "BIC_AIC(prediction.reshape(-1, 1), y.reshape(-1, 1), \n",
    "        len(sympify(sympy_model).atoms(sympy.Number)))[0]"
   ]
  },
  {
   "cell_type": "code",
   "execution_count": null,
   "id": "9d6ffe37",
   "metadata": {},
   "outputs": [],
   "source": []
  }
 ],
 "metadata": {
  "kernelspec": {
   "display_name": "Python [conda env:pysr]",
   "language": "python",
   "name": "conda-env-pysr-py"
  },
  "language_info": {
   "codemirror_mode": {
    "name": "ipython",
    "version": 3
   },
   "file_extension": ".py",
   "mimetype": "text/x-python",
   "name": "python",
   "nbconvert_exporter": "python",
   "pygments_lexer": "ipython3",
   "version": "3.10.10"
  }
 },
 "nbformat": 4,
 "nbformat_minor": 5
}
