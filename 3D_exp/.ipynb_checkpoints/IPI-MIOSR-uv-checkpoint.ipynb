{
 "cells": [
  {
   "cell_type": "code",
   "execution_count": 1,
   "id": "5c8736f7-3fcd-49e0-9367-6a3627c14b26",
   "metadata": {},
   "outputs": [
    {
     "name": "stdout",
     "output_type": "stream",
     "text": [
      "%pylab is deprecated, use %matplotlib inline and import the required libraries.\n",
      "Populating the interactive namespace from numpy and matplotlib\n",
      "Sklearn's version: 1.2.2\n",
      "mrmr is not installed in the env you are using. This may cause an error in future if you try to use the (missing) lib.\n"
     ]
    }
   ],
   "source": [
    "%load_ext autoreload\n",
    "%autoreload 2\n",
    "%pylab inline\n",
    "pylab.rcParams['figure.figsize'] = (12, 8)\n",
    "import warnings; warnings.filterwarnings(\"ignore\")\n",
    "\n",
    "import numpy as np\n",
    "import pandas as pd\n",
    "from mpl_toolkits.mplot3d import Axes3D\n",
    "from sympy import symbols\n",
    "\n",
    "import sys; sys.path.append('../')\n",
    "from PDE_FIND import *\n",
    "\n",
    "import sys; sys.path.append('../../parametric-discovery/')\n",
    "from best_subset import *\n",
    "from frols import frols\n",
    "from p_linear_regression import PLinearRegression\n",
    "from r_pca import R_pca\n",
    "from pde_diff_new import RPCA\n",
    "from RobustPCA.rpca import RobustPCA\n",
    "\n",
    "import scipy.io as sio\n",
    "from scipy.signal import savgol_filter\n",
    "import itertools\n",
    "\n",
    "from sklearn.preprocessing import normalize\n",
    "from sklearn.linear_model import Ridge, BayesianRidge, LinearRegression as SkLinearRegression\n",
    "from sklearn.base import BaseEstimator\n",
    "from sklearn.pipeline import make_pipeline\n",
    "from sklearn.metrics import mean_squared_error\n",
    "from abess.linear import LinearRegression\n",
    "import pysindy as ps\n",
    "from solvel0 import solvel0, miqp, miqp2, miqp3\n",
    "\n",
    "from tqdm import trange\n",
    "from os.path import join as join_path\n",
    "FIGURE_EXPORT_PATH = \"/Users/pongpisit/Documents/figure_export/\"\n",
    "\n",
    "np.random.seed(100)"
   ]
  },
  {
   "cell_type": "code",
   "execution_count": 2,
   "id": "f428bf63-f8aa-4de3-97c8-dd17f45a8c55",
   "metadata": {},
   "outputs": [],
   "source": [
    "def check_percent(bic_scores, complexities):\n",
    "    slope = (bic_scores[1:]-bic_scores[:-1])/(complexities[1:]-complexities[:-1])\n",
    "    slope_index = np.argmin(slope)\n",
    "    percent_improve = 100*np.abs(bic_scores[slope_index+1]-bic_scores[slope_index])/np.abs(bic_scores[slope_index])\n",
    "    percent_from_1 = 100*np.abs(bic_scores[slope_index+1]-bic_scores[0])/np.abs(bic_scores[0])\n",
    "    return slope_index+1, percent_improve, percent_from_1\n",
    "\n",
    "def percent_coeff(pred, ground):\n",
    "    return 100*(np.abs(pred-ground)/np.abs(ground))"
   ]
  },
  {
   "cell_type": "code",
   "execution_count": 3,
   "id": "0e366b04-cdf3-40e8-9cfc-b0e0c25ea165",
   "metadata": {},
   "outputs": [
    {
     "data": {
      "text/plain": [
       "(array([-1.25      , -1.23046875, -1.2109375 , -1.19140625, -1.171875  ,\n",
       "        -1.15234375, -1.1328125 , -1.11328125, -1.09375   , -1.07421875,\n",
       "        -1.0546875 , -1.03515625, -1.015625  , -0.99609375, -0.9765625 ,\n",
       "        -0.95703125, -0.9375    , -0.91796875, -0.8984375 , -0.87890625,\n",
       "        -0.859375  , -0.83984375, -0.8203125 , -0.80078125, -0.78125   ,\n",
       "        -0.76171875, -0.7421875 , -0.72265625, -0.703125  , -0.68359375,\n",
       "        -0.6640625 , -0.64453125, -0.625     , -0.60546875, -0.5859375 ,\n",
       "        -0.56640625, -0.546875  , -0.52734375, -0.5078125 , -0.48828125,\n",
       "        -0.46875   , -0.44921875, -0.4296875 , -0.41015625, -0.390625  ,\n",
       "        -0.37109375, -0.3515625 , -0.33203125, -0.3125    , -0.29296875,\n",
       "        -0.2734375 , -0.25390625, -0.234375  , -0.21484375, -0.1953125 ,\n",
       "        -0.17578125, -0.15625   , -0.13671875, -0.1171875 , -0.09765625,\n",
       "        -0.078125  , -0.05859375, -0.0390625 , -0.01953125,  0.        ,\n",
       "         0.01953125,  0.0390625 ,  0.05859375,  0.078125  ,  0.09765625,\n",
       "         0.1171875 ,  0.13671875,  0.15625   ,  0.17578125,  0.1953125 ,\n",
       "         0.21484375,  0.234375  ,  0.25390625,  0.2734375 ,  0.29296875,\n",
       "         0.3125    ,  0.33203125,  0.3515625 ,  0.37109375,  0.390625  ,\n",
       "         0.41015625,  0.4296875 ,  0.44921875,  0.46875   ,  0.48828125,\n",
       "         0.5078125 ,  0.52734375,  0.546875  ,  0.56640625,  0.5859375 ,\n",
       "         0.60546875,  0.625     ,  0.64453125,  0.6640625 ,  0.68359375,\n",
       "         0.703125  ,  0.72265625,  0.7421875 ,  0.76171875,  0.78125   ,\n",
       "         0.80078125,  0.8203125 ,  0.83984375,  0.859375  ,  0.87890625,\n",
       "         0.8984375 ,  0.91796875,  0.9375    ,  0.95703125,  0.9765625 ,\n",
       "         0.99609375,  1.015625  ,  1.03515625,  1.0546875 ,  1.07421875,\n",
       "         1.09375   ,  1.11328125,  1.1328125 ,  1.15234375,  1.171875  ,\n",
       "         1.19140625,  1.2109375 ,  1.23046875]),\n",
       " array([-1.25      , -1.23046875, -1.2109375 , -1.19140625, -1.171875  ,\n",
       "        -1.15234375, -1.1328125 , -1.11328125, -1.09375   , -1.07421875,\n",
       "        -1.0546875 , -1.03515625, -1.015625  , -0.99609375, -0.9765625 ,\n",
       "        -0.95703125, -0.9375    , -0.91796875, -0.8984375 , -0.87890625,\n",
       "        -0.859375  , -0.83984375, -0.8203125 , -0.80078125, -0.78125   ,\n",
       "        -0.76171875, -0.7421875 , -0.72265625, -0.703125  , -0.68359375,\n",
       "        -0.6640625 , -0.64453125, -0.625     , -0.60546875, -0.5859375 ,\n",
       "        -0.56640625, -0.546875  , -0.52734375, -0.5078125 , -0.48828125,\n",
       "        -0.46875   , -0.44921875, -0.4296875 , -0.41015625, -0.390625  ,\n",
       "        -0.37109375, -0.3515625 , -0.33203125, -0.3125    , -0.29296875,\n",
       "        -0.2734375 , -0.25390625, -0.234375  , -0.21484375, -0.1953125 ,\n",
       "        -0.17578125, -0.15625   , -0.13671875, -0.1171875 , -0.09765625,\n",
       "        -0.078125  , -0.05859375, -0.0390625 , -0.01953125,  0.        ,\n",
       "         0.01953125,  0.0390625 ,  0.05859375,  0.078125  ,  0.09765625,\n",
       "         0.1171875 ,  0.13671875,  0.15625   ,  0.17578125,  0.1953125 ,\n",
       "         0.21484375,  0.234375  ,  0.25390625,  0.2734375 ,  0.29296875,\n",
       "         0.3125    ,  0.33203125,  0.3515625 ,  0.37109375,  0.390625  ,\n",
       "         0.41015625,  0.4296875 ,  0.44921875,  0.46875   ,  0.48828125,\n",
       "         0.5078125 ,  0.52734375,  0.546875  ,  0.56640625,  0.5859375 ,\n",
       "         0.60546875,  0.625     ,  0.64453125,  0.6640625 ,  0.68359375,\n",
       "         0.703125  ,  0.72265625,  0.7421875 ,  0.76171875,  0.78125   ,\n",
       "         0.80078125,  0.8203125 ,  0.83984375,  0.859375  ,  0.87890625,\n",
       "         0.8984375 ,  0.91796875,  0.9375    ,  0.95703125,  0.9765625 ,\n",
       "         0.99609375,  1.015625  ,  1.03515625,  1.0546875 ,  1.07421875,\n",
       "         1.09375   ,  1.11328125,  1.1328125 ,  1.15234375,  1.171875  ,\n",
       "         1.19140625,  1.2109375 ,  1.23046875]),\n",
       " array([-1.25      , -1.23046875, -1.2109375 , -1.19140625, -1.171875  ,\n",
       "        -1.15234375, -1.1328125 , -1.11328125, -1.09375   , -1.07421875,\n",
       "        -1.0546875 , -1.03515625, -1.015625  , -0.99609375, -0.9765625 ,\n",
       "        -0.95703125, -0.9375    , -0.91796875, -0.8984375 , -0.87890625,\n",
       "        -0.859375  , -0.83984375, -0.8203125 , -0.80078125, -0.78125   ,\n",
       "        -0.76171875, -0.7421875 , -0.72265625, -0.703125  , -0.68359375,\n",
       "        -0.6640625 , -0.64453125, -0.625     , -0.60546875, -0.5859375 ,\n",
       "        -0.56640625, -0.546875  , -0.52734375, -0.5078125 , -0.48828125,\n",
       "        -0.46875   , -0.44921875, -0.4296875 , -0.41015625, -0.390625  ,\n",
       "        -0.37109375, -0.3515625 , -0.33203125, -0.3125    , -0.29296875,\n",
       "        -0.2734375 , -0.25390625, -0.234375  , -0.21484375, -0.1953125 ,\n",
       "        -0.17578125, -0.15625   , -0.13671875, -0.1171875 , -0.09765625,\n",
       "        -0.078125  , -0.05859375, -0.0390625 , -0.01953125,  0.        ,\n",
       "         0.01953125,  0.0390625 ,  0.05859375,  0.078125  ,  0.09765625,\n",
       "         0.1171875 ,  0.13671875,  0.15625   ,  0.17578125,  0.1953125 ,\n",
       "         0.21484375,  0.234375  ,  0.25390625,  0.2734375 ,  0.29296875,\n",
       "         0.3125    ,  0.33203125,  0.3515625 ,  0.37109375,  0.390625  ,\n",
       "         0.41015625,  0.4296875 ,  0.44921875,  0.46875   ,  0.48828125,\n",
       "         0.5078125 ,  0.52734375,  0.546875  ,  0.56640625,  0.5859375 ,\n",
       "         0.60546875,  0.625     ,  0.64453125,  0.6640625 ,  0.68359375,\n",
       "         0.703125  ,  0.72265625,  0.7421875 ,  0.76171875,  0.78125   ,\n",
       "         0.80078125,  0.8203125 ,  0.83984375,  0.859375  ,  0.87890625,\n",
       "         0.8984375 ,  0.91796875,  0.9375    ,  0.95703125,  0.9765625 ,\n",
       "         0.99609375,  1.015625  ,  1.03515625,  1.0546875 ,  1.07421875,\n",
       "         1.09375   ,  1.11328125,  1.1328125 ,  1.15234375,  1.171875  ,\n",
       "         1.19140625,  1.2109375 ,  1.23046875]),\n",
       " array([ 0.        ,  0.1010101 ,  0.2020202 ,  0.3030303 ,  0.4040404 ,\n",
       "         0.50505051,  0.60606061,  0.70707071,  0.80808081,  0.90909091,\n",
       "         1.01010101,  1.11111111,  1.21212121,  1.31313131,  1.41414141,\n",
       "         1.51515152,  1.61616162,  1.71717172,  1.81818182,  1.91919192,\n",
       "         2.02020202,  2.12121212,  2.22222222,  2.32323232,  2.42424242,\n",
       "         2.52525253,  2.62626263,  2.72727273,  2.82828283,  2.92929293,\n",
       "         3.03030303,  3.13131313,  3.23232323,  3.33333333,  3.43434343,\n",
       "         3.53535354,  3.63636364,  3.73737374,  3.83838384,  3.93939394,\n",
       "         4.04040404,  4.14141414,  4.24242424,  4.34343434,  4.44444444,\n",
       "         4.54545455,  4.64646465,  4.74747475,  4.84848485,  4.94949495,\n",
       "         5.05050505,  5.15151515,  5.25252525,  5.35353535,  5.45454545,\n",
       "         5.55555556,  5.65656566,  5.75757576,  5.85858586,  5.95959596,\n",
       "         6.06060606,  6.16161616,  6.26262626,  6.36363636,  6.46464646,\n",
       "         6.56565657,  6.66666667,  6.76767677,  6.86868687,  6.96969697,\n",
       "         7.07070707,  7.17171717,  7.27272727,  7.37373737,  7.47474747,\n",
       "         7.57575758,  7.67676768,  7.77777778,  7.87878788,  7.97979798,\n",
       "         8.08080808,  8.18181818,  8.28282828,  8.38383838,  8.48484848,\n",
       "         8.58585859,  8.68686869,  8.78787879,  8.88888889,  8.98989899,\n",
       "         9.09090909,  9.19191919,  9.29292929,  9.39393939,  9.49494949,\n",
       "         9.5959596 ,  9.6969697 ,  9.7979798 ,  9.8989899 , 10.        ]))"
      ]
     },
     "execution_count": 3,
     "metadata": {},
     "output_type": "execute_result"
    }
   ],
   "source": [
    "n = 128\n",
    "data = sio.loadmat(f\"../Datasets/reaction_diffusion_3d_{n}.mat\")\n",
    "u_sol = real(data['usol'])\n",
    "v_sol = real(data['vsol'])\n",
    "x = real(data['x'][0])\n",
    "y = real(data['y'][0])\n",
    "z = real(data['z'][0])\n",
    "t = real(data['t'][0])\n",
    "\n",
    "del data\n",
    "\n",
    "dt = t[1] - t[0]\n",
    "dx = x[1] - x[0]\n",
    "dy = y[1] - y[0]\n",
    "dz = z[1] - z[0]\n",
    "# For WeakPDELibrary\n",
    "ground_indices_u = (0, 1, 5, 9, 15, 23)\n",
    "ground_coeff_u = np.array([0.014, -0.014, -1.000, 0.020, 0.020, 0.020])\n",
    "ground_indices_v = (2, 5, 10, 16, 24)\n",
    "ground_coeff_v = np.array([-0.067, 1.0, 0.01, 0.01, 0.01])\n",
    "\n",
    "x, y, z, t"
   ]
  },
  {
   "cell_type": "code",
   "execution_count": 4,
   "id": "51a0a7f1-5302-46c7-9974-0466b1de2282",
   "metadata": {},
   "outputs": [],
   "source": [
    "time = t\n",
    "u = np.zeros((n, n, n, len(time), 2))\n",
    "u[:, :, :, :, 0] = u_sol\n",
    "u[:, :, :, :, 1] = v_sol\n",
    "# u_dot = ps.FiniteDifference(axis=3)._differentiate(u, dt)\n",
    "\n",
    "# Odd polynomial terms in (u, v), up to second order derivatives in (u, v)\n",
    "library_functions = [\n",
    "    lambda x: x,\n",
    "    lambda x: x * x * x,\n",
    "    lambda x, y: x * y * y,\n",
    "    lambda x, y: x * x * y,\n",
    "]\n",
    "library_function_names = [\n",
    "    lambda x: x,\n",
    "    lambda x: x + x + x,\n",
    "    lambda x, y: x + y + y,\n",
    "    lambda x, y: x + x + y,\n",
    "]\n",
    "\n",
    "# Need to define the 2D spatial grid before calling the library\n",
    "X, Y, Z, T = np.meshgrid(x, y, z, time, indexing=\"ij\")\n",
    "spatiotemporal_grid = np.asarray([X, Y, Z, T])\n",
    "spatiotemporal_grid = np.transpose(spatiotemporal_grid, axes=[1, 2, 3, 4, 0])\n",
    "weak_lib = ps.WeakPDELibrary(\n",
    "    library_functions=library_functions,\n",
    "    function_names=library_function_names,\n",
    "    derivative_order=2,\n",
    "    spatiotemporal_grid=spatiotemporal_grid,\n",
    "    is_uniform=True,\n",
    "    include_interaction=False,\n",
    "    include_bias=True,\n",
    "    periodic=True,\n",
    "    K=10000,\n",
    "    cache=True\n",
    ")"
   ]
  },
  {
   "cell_type": "code",
   "execution_count": 5,
   "id": "7ad8b85d-f21a-491d-ad42-d1c604f86f66",
   "metadata": {},
   "outputs": [],
   "source": [
    "np.random.seed(100)\n",
    "noise_lvs = [0, 0.04, 0.1]\n",
    "noise_lv = noise_lvs[-1]\n",
    "domain_noise = 0.01*np.abs(noise_lv)*np.std(u)*np.random.randn(*u.shape)\n",
    "u = u + domain_noise\n",
    "# np.save(\"u_noise1e-1.npy\", u)"
   ]
  },
  {
   "cell_type": "code",
   "execution_count": 6,
   "id": "13716122",
   "metadata": {},
   "outputs": [],
   "source": [
    "denoise = True\n",
    "if denoise: \n",
    "    u = np.load(\"u_noise1e-1_denoised.npy\")"
   ]
  },
  {
   "cell_type": "code",
   "execution_count": 7,
   "id": "a2e3479a",
   "metadata": {},
   "outputs": [],
   "source": [
    "target_index = 1\n",
    "max_complexity = 12\n",
    "X_pre = np.load(\"./IPI_output_files/X_pre_noise1e-1_denoised.npy\")\n",
    "y_pre = np.load(\"./IPI_output_files/y_pre_noise1e-1_denoised.npy\")"
   ]
  },
  {
   "cell_type": "code",
   "execution_count": 9,
   "id": "f624cd94",
   "metadata": {},
   "outputs": [
    {
     "name": "stderr",
     "output_type": "stream",
     "text": [
      "100%|█████████████████████████████████████████████████████████████████████████████████████| 12/12 [04:06<00:00, 20.56s/it]\n"
     ]
    },
    {
     "name": "stdout",
     "output_type": "stream",
     "text": [
      "Call backward_refinement...\n"
     ]
    },
    {
     "data": {
      "text/plain": [
       "[(2,),\n",
       " (16, 24),\n",
       " (5, 16, 24),\n",
       " (2, 5, 16, 24),\n",
       " (2, 5, 16, 23, 24),\n",
       " (2, 5, 6, 16, 23, 24),\n",
       " (2, 5, 6, 15, 16, 23, 24),\n",
       " (2, 4, 5, 6, 15, 16, 23, 24),\n",
       " (1, 2, 4, 5, 6, 15, 16, 23, 24),\n",
       " (1, 2, 3, 4, 5, 6, 15, 16, 23, 24),\n",
       " (0, 1, 2, 3, 4, 5, 6, 15, 16, 23, 24),\n",
       " (0, 1, 2, 3, 4, 5, 12, 15, 16, 17, 21, 24)]"
      ]
     },
     "execution_count": 9,
     "metadata": {},
     "output_type": "execute_result"
    }
   ],
   "source": [
    "solvel0(X_pre, y_pre[:, target_index:target_index+1], \n",
    "        is_normal=True, miosr=False, refine=True, \n",
    "        max_complexity=max_complexity)"
   ]
  },
  {
   "cell_type": "code",
   "execution_count": 10,
   "id": "be21b439",
   "metadata": {},
   "outputs": [
    {
     "name": "stderr",
     "output_type": "stream",
     "text": [
      "100%|█████████████████████████████████████████████████████████████████████████████████████| 12/12 [00:00<00:00, 40.54it/s]\n"
     ]
    },
    {
     "name": "stdout",
     "output_type": "stream",
     "text": [
      "Call backward_refinement...\n"
     ]
    },
    {
     "data": {
      "text/plain": [
       "[(2,), (16, 24), (5, 16, 24), (2, 5, 16, 24), (2, 5, 10, 16, 24)]"
      ]
     },
     "execution_count": 10,
     "metadata": {},
     "output_type": "execute_result"
    }
   ],
   "source": [
    "solvel0(X_pre, y_pre[:, target_index:target_index+1], \n",
    "        is_normal=True, miosr=True, refine=True, \n",
    "        max_complexity=max_complexity)"
   ]
  },
  {
   "cell_type": "code",
   "execution_count": 33,
   "id": "9937b21e",
   "metadata": {},
   "outputs": [
    {
     "data": {
      "text/plain": [
       "([(2,),\n",
       "  (16, 24),\n",
       "  (5, 16, 24),\n",
       "  (2, 5, 16, 24),\n",
       "  (2, 5, 10, 16, 24),\n",
       "  (1, 2, 5, 10, 16, 24),\n",
       "  (1, 2, 3, 5, 10, 16, 24),\n",
       "  (1, 2, 3, 5, 10, 15, 16, 24),\n",
       "  (1, 2, 3, 5, 10, 15, 16, 22, 24),\n",
       "  (1, 2, 3, 5, 9, 10, 15, 16, 22, 24),\n",
       "  (1, 2, 3, 4, 5, 10, 15, 16, 21, 22, 24),\n",
       "  (0, 1, 2, 3, 4, 5, 10, 15, 16, 21, 22, 24)],\n",
       " array([ 0,  1,  2,  3,  4,  5,  9, 10, 15, 16, 21, 22, 24]))"
      ]
     },
     "execution_count": 33,
     "metadata": {},
     "output_type": "execute_result"
    }
   ],
   "source": [
    "miosr_selected_inds_list = []\n",
    "for ts in range(1, max_complexity+1):\n",
    "    optimizer = ps.MIOSR(target_sparsity=ts, alpha=5e-2, normalize_columns=True, \n",
    "                         regression_timeout=100)\n",
    "    optimizer.fit(X_pre, y_pre[:, target_index:target_index+1])\n",
    "    miosr_selected_inds_list.append(tuple(np.nonzero(optimizer.coef_[0])[0]))\n",
    "miosr_selected_inds_list, reduce(np.union1d, miosr_selected_inds_list)"
   ]
  },
  {
   "cell_type": "code",
   "execution_count": 34,
   "id": "19450be1",
   "metadata": {},
   "outputs": [
    {
     "data": {
      "text/plain": [
       "([(2,),\n",
       "  (2, 24),\n",
       "  (2, 5, 24),\n",
       "  (2, 5, 16, 24),\n",
       "  (2, 5, 10, 16, 24),\n",
       "  (2, 5, 10, 16, 23, 24),\n",
       "  (2, 5, 10, 11, 16, 23, 24),\n",
       "  (2, 5, 10, 11, 16, 18, 23, 24),\n",
       "  (2, 5, 8, 10, 11, 16, 18, 23, 24),\n",
       "  (2, 5, 8, 9, 10, 11, 16, 18, 23, 24),\n",
       "  (2, 5, 8, 9, 10, 11, 16, 17, 18, 23, 24),\n",
       "  (2, 3, 5, 8, 9, 10, 11, 16, 17, 18, 23, 24)],\n",
       " array([ 2,  3,  5,  8,  9, 10, 11, 16, 17, 18, 23, 24]))"
      ]
     },
     "execution_count": 34,
     "metadata": {},
     "output_type": "execute_result"
    }
   ],
   "source": [
    "frols_coeffs,selected_inds_list,_,_,_ = frols(y_pre[:, target_index:target_index+1], X_pre, \n",
    "                                              max_nonzeros=max_complexity)\n",
    "frols_selected_inds_list = sorted(selected_inds_list, key=len)\n",
    "frols_selected_inds_list, reduce(np.union1d, frols_selected_inds_list)"
   ]
  },
  {
   "cell_type": "code",
   "execution_count": 41,
   "id": "a005deff",
   "metadata": {},
   "outputs": [
    {
     "data": {
      "text/plain": [
       "array([ 0,  1,  2,  3,  4,  5,  9, 10, 15, 16, 21, 22, 24])"
      ]
     },
     "execution_count": 41,
     "metadata": {},
     "output_type": "execute_result"
    }
   ],
   "source": [
    "ever = reduce(np.union1d, miosr_selected_inds_list)\n",
    "ever"
   ]
  },
  {
   "cell_type": "code",
   "execution_count": 42,
   "id": "545a8e38",
   "metadata": {},
   "outputs": [
    {
     "name": "stderr",
     "output_type": "stream",
     "text": [
      "100%|█████████████████████████████████████████████████████████████████████████████████████| 12/12 [00:06<00:00,  1.95it/s]\n"
     ]
    },
    {
     "data": {
      "text/plain": [
       "[(2,),\n",
       " (16, 24),\n",
       " (5, 16, 24),\n",
       " (2, 5, 16, 24),\n",
       " (2, 5, 10, 16, 24),\n",
       " (2, 4, 5, 10, 16, 24),\n",
       " (2, 4, 5, 9, 10, 16, 24),\n",
       " (2, 4, 5, 9, 10, 16, 21, 24),\n",
       " (1, 2, 4, 5, 9, 10, 16, 21, 24),\n",
       " (1, 2, 3, 4, 5, 9, 10, 16, 21, 24),\n",
       " (1, 2, 3, 4, 5, 9, 10, 16, 21, 22, 24),\n",
       " (0, 1, 2, 3, 4, 5, 9, 10, 16, 21, 22, 24)]"
      ]
     },
     "execution_count": 42,
     "metadata": {},
     "output_type": "execute_result"
    }
   ],
   "source": [
    "_, bs = brute_force_all_subsets(X_pre[:, ever], \n",
    "                                y_pre[:, target_index:target_index+1], \n",
    "                                max_support_size=12)\n",
    "best_subsets = [tuple(ever[list(b)]) for b in bs]\n",
    "del bs\n",
    "best_subsets"
   ]
  },
  {
   "cell_type": "code",
   "execution_count": 43,
   "id": "54df9e97",
   "metadata": {},
   "outputs": [],
   "source": [
    "from UBIC import UBIC, UBICs, baye_uncertainties, decreasing_values_indices, log_like_value"
   ]
  },
  {
   "cell_type": "code",
   "execution_count": 44,
   "id": "73567526",
   "metadata": {},
   "outputs": [
    {
     "name": "stdout",
     "output_type": "stream",
     "text": [
      "4 <---> 4 inf\n",
      "4 <---> 4 inf\n"
     ]
    },
    {
     "data": {
      "text/plain": [
       "(1.3319703656,\n",
       " array([-173871.31467316, -157363.78220475, -201031.85677548,\n",
       "        -248578.55509579, -325670.03750754, -325570.25215782,\n",
       "        -325537.96266964, -325520.63274289, -325439.03396138,\n",
       "        -325284.88168674, -325271.1044624 , -325246.89446851]),\n",
       " 4)"
      ]
     },
     "execution_count": 44,
     "metadata": {},
     "output_type": "execute_result"
    }
   ],
   "source": [
    "tau = 3\n",
    "thres = 0.02\n",
    "\n",
    "post_means, b_bics, b_uns = baye_uncertainties(best_subsets, (X_pre, y_pre[:, target_index:target_index+1]), u_type='cv1', take_sqrt=True)\n",
    "predictions = X_pre@post_means\n",
    "lower_bounds = []\n",
    "for k, efi in enumerate(best_subsets):\n",
    "    lower_bound = log_like_value(predictions[:, k:k+1], y_pre[:, 0:1])/np.log(len(y_pre[:, target_index:target_index+1]))-len(efi)\n",
    "    lower_bounds.append(lower_bound)\n",
    "    \n",
    "last_lam = np.log10(max(lower_bounds/b_uns))\n",
    "delta = last_lam/tau\n",
    "now_lam = last_lam-delta\n",
    "last_ubic = UBIC(b_bics, b_uns, len(y_pre[:, target_index:target_index+1]), hyp=10**last_lam)\n",
    "last_bc = np.argmin(last_ubic)\n",
    "while now_lam > 0:\n",
    "    now_ubic = UBIC(b_bics, b_uns, len(y_pre[:, target_index:target_index+1]), hyp=10**now_lam)\n",
    "    now_bc = np.argmin(now_ubic)\n",
    "    \n",
    "    diff_com = now_bc-last_bc\n",
    "    imp = abs((b_bics[now_bc]-b_bics[last_bc])/(b_bics[last_bc]*diff_com))\n",
    "    print(min(last_bc, now_bc), '<--->', max(last_bc, now_bc), np.nan_to_num(imp, nan=np.inf))\n",
    "    \n",
    "    if (diff_com > 0 and imp < thres) or (diff_com < 0 and imp > thres):\n",
    "        break\n",
    "    \n",
    "    last_lam = now_lam\n",
    "    now_lam = last_lam-delta\n",
    "    last_ubic = now_ubic\n",
    "    last_bc = now_bc\n",
    "\n",
    "last_lam = round(last_lam, 10)\n",
    "last_lam, last_ubic, last_bc"
   ]
  },
  {
   "cell_type": "code",
   "execution_count": 45,
   "id": "c56d9bc7",
   "metadata": {},
   "outputs": [
    {
     "data": {
      "text/plain": [
       "(array([ 2,  5, 10, 16, 24]),)"
      ]
     },
     "execution_count": 45,
     "metadata": {},
     "output_type": "execute_result"
    }
   ],
   "source": [
    "np.nonzero(miqp3(normalize(X_pre, axis=0), y_pre[:, 1:2].flatten(), 5))"
   ]
  },
  {
   "cell_type": "code",
   "execution_count": 46,
   "id": "42eefcb6",
   "metadata": {},
   "outputs": [
    {
     "data": {
      "text/plain": [
       "(array([ 2,  4,  5, 16, 24]),)"
      ]
     },
     "execution_count": 46,
     "metadata": {},
     "output_type": "execute_result"
    }
   ],
   "source": [
    "np.nonzero(miqp2(normalize(X_pre, axis=0), y_pre[:, 1:2].flatten(), 5))"
   ]
  }
 ],
 "metadata": {
  "kernelspec": {
   "display_name": "Python [conda env:pysr]",
   "language": "python",
   "name": "conda-env-pysr-py"
  },
  "language_info": {
   "codemirror_mode": {
    "name": "ipython",
    "version": 3
   },
   "file_extension": ".py",
   "mimetype": "text/x-python",
   "name": "python",
   "nbconvert_exporter": "python",
   "pygments_lexer": "ipython3",
   "version": "3.10.10"
  },
  "widgets": {
   "application/vnd.jupyter.widget-state+json": {
    "state": {},
    "version_major": 2,
    "version_minor": 0
   }
  }
 },
 "nbformat": 4,
 "nbformat_minor": 5
}
