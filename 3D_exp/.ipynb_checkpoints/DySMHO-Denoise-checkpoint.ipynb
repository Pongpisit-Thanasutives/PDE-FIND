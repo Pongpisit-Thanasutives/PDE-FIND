{
 "cells": [
  {
   "cell_type": "code",
   "execution_count": 1,
   "id": "5dd5be3e",
   "metadata": {},
   "outputs": [
    {
     "name": "stdout",
     "output_type": "stream",
     "text": [
      "%pylab is deprecated, use %matplotlib inline and import the required libraries.\n",
      "Populating the interactive namespace from numpy and matplotlib\n",
      "Sklearn's version: 1.2.2\n",
      "mrmr is not installed in the env you are using. This may cause an error in future if you try to use the (missing) lib.\n"
     ]
    }
   ],
   "source": [
    "%load_ext autoreload\n",
    "%autoreload 2\n",
    "%pylab inline\n",
    "pylab.rcParams['figure.figsize'] = (12, 8)\n",
    "import warnings; warnings.filterwarnings(\"ignore\")\n",
    "\n",
    "import numpy as np\n",
    "import pandas as pd\n",
    "from mpl_toolkits.mplot3d import Axes3D\n",
    "from sympy import symbols\n",
    "\n",
    "import sys; sys.path.append('../')\n",
    "from PDE_FIND import *\n",
    "\n",
    "import sys; sys.path.append('../../parametric-discovery/')\n",
    "from best_subset import *\n",
    "from frols import frols\n",
    "from p_linear_regression import PLinearRegression\n",
    "from r_pca import R_pca\n",
    "from pde_diff_new import RPCA\n",
    "from RobustPCA.rpca import RobustPCA\n",
    "\n",
    "import scipy.io as sio\n",
    "from scipy.signal import savgol_filter\n",
    "import itertools\n",
    "\n",
    "from sklearn.preprocessing import normalize\n",
    "from sklearn.linear_model import Ridge, BayesianRidge, LinearRegression as SkLinearRegression\n",
    "from sklearn.base import BaseEstimator\n",
    "from sklearn.pipeline import make_pipeline\n",
    "from sklearn.metrics import mean_squared_error\n",
    "from abess.linear import LinearRegression\n",
    "import pysindy as ps\n",
    "\n",
    "from tqdm import trange\n",
    "from os.path import join as join_path\n",
    "FIGURE_EXPORT_PATH = \"/Users/pongpisit/Documents/figure_export/\"\n",
    "\n",
    "np.random.seed(100)"
   ]
  },
  {
   "cell_type": "code",
   "execution_count": 2,
   "id": "825f3915",
   "metadata": {},
   "outputs": [],
   "source": [
    "def check_percent(bic_scores, complexities):\n",
    "    slope = (bic_scores[1:]-bic_scores[:-1])/(complexities[1:]-complexities[:-1])\n",
    "    slope_index = np.argmin(slope)\n",
    "    percent_improve = 100*np.abs(bic_scores[slope_index+1]-bic_scores[slope_index])/np.abs(bic_scores[slope_index])\n",
    "    percent_from_1 = 100*np.abs(bic_scores[slope_index+1]-bic_scores[0])/np.abs(bic_scores[0])\n",
    "    return slope_index+1, percent_improve, percent_from_1\n",
    "\n",
    "def percent_coeff(pred, ground):\n",
    "    return 100*(np.abs(pred-ground)/np.abs(ground))"
   ]
  },
  {
   "cell_type": "code",
   "execution_count": 3,
   "id": "c6fa7a6d",
   "metadata": {},
   "outputs": [
    {
     "data": {
      "text/plain": [
       "(array([-1.25      , -1.23046875, -1.2109375 , -1.19140625, -1.171875  ,\n",
       "        -1.15234375, -1.1328125 , -1.11328125, -1.09375   , -1.07421875,\n",
       "        -1.0546875 , -1.03515625, -1.015625  , -0.99609375, -0.9765625 ,\n",
       "        -0.95703125, -0.9375    , -0.91796875, -0.8984375 , -0.87890625,\n",
       "        -0.859375  , -0.83984375, -0.8203125 , -0.80078125, -0.78125   ,\n",
       "        -0.76171875, -0.7421875 , -0.72265625, -0.703125  , -0.68359375,\n",
       "        -0.6640625 , -0.64453125, -0.625     , -0.60546875, -0.5859375 ,\n",
       "        -0.56640625, -0.546875  , -0.52734375, -0.5078125 , -0.48828125,\n",
       "        -0.46875   , -0.44921875, -0.4296875 , -0.41015625, -0.390625  ,\n",
       "        -0.37109375, -0.3515625 , -0.33203125, -0.3125    , -0.29296875,\n",
       "        -0.2734375 , -0.25390625, -0.234375  , -0.21484375, -0.1953125 ,\n",
       "        -0.17578125, -0.15625   , -0.13671875, -0.1171875 , -0.09765625,\n",
       "        -0.078125  , -0.05859375, -0.0390625 , -0.01953125,  0.        ,\n",
       "         0.01953125,  0.0390625 ,  0.05859375,  0.078125  ,  0.09765625,\n",
       "         0.1171875 ,  0.13671875,  0.15625   ,  0.17578125,  0.1953125 ,\n",
       "         0.21484375,  0.234375  ,  0.25390625,  0.2734375 ,  0.29296875,\n",
       "         0.3125    ,  0.33203125,  0.3515625 ,  0.37109375,  0.390625  ,\n",
       "         0.41015625,  0.4296875 ,  0.44921875,  0.46875   ,  0.48828125,\n",
       "         0.5078125 ,  0.52734375,  0.546875  ,  0.56640625,  0.5859375 ,\n",
       "         0.60546875,  0.625     ,  0.64453125,  0.6640625 ,  0.68359375,\n",
       "         0.703125  ,  0.72265625,  0.7421875 ,  0.76171875,  0.78125   ,\n",
       "         0.80078125,  0.8203125 ,  0.83984375,  0.859375  ,  0.87890625,\n",
       "         0.8984375 ,  0.91796875,  0.9375    ,  0.95703125,  0.9765625 ,\n",
       "         0.99609375,  1.015625  ,  1.03515625,  1.0546875 ,  1.07421875,\n",
       "         1.09375   ,  1.11328125,  1.1328125 ,  1.15234375,  1.171875  ,\n",
       "         1.19140625,  1.2109375 ,  1.23046875]),\n",
       " array([-1.25      , -1.23046875, -1.2109375 , -1.19140625, -1.171875  ,\n",
       "        -1.15234375, -1.1328125 , -1.11328125, -1.09375   , -1.07421875,\n",
       "        -1.0546875 , -1.03515625, -1.015625  , -0.99609375, -0.9765625 ,\n",
       "        -0.95703125, -0.9375    , -0.91796875, -0.8984375 , -0.87890625,\n",
       "        -0.859375  , -0.83984375, -0.8203125 , -0.80078125, -0.78125   ,\n",
       "        -0.76171875, -0.7421875 , -0.72265625, -0.703125  , -0.68359375,\n",
       "        -0.6640625 , -0.64453125, -0.625     , -0.60546875, -0.5859375 ,\n",
       "        -0.56640625, -0.546875  , -0.52734375, -0.5078125 , -0.48828125,\n",
       "        -0.46875   , -0.44921875, -0.4296875 , -0.41015625, -0.390625  ,\n",
       "        -0.37109375, -0.3515625 , -0.33203125, -0.3125    , -0.29296875,\n",
       "        -0.2734375 , -0.25390625, -0.234375  , -0.21484375, -0.1953125 ,\n",
       "        -0.17578125, -0.15625   , -0.13671875, -0.1171875 , -0.09765625,\n",
       "        -0.078125  , -0.05859375, -0.0390625 , -0.01953125,  0.        ,\n",
       "         0.01953125,  0.0390625 ,  0.05859375,  0.078125  ,  0.09765625,\n",
       "         0.1171875 ,  0.13671875,  0.15625   ,  0.17578125,  0.1953125 ,\n",
       "         0.21484375,  0.234375  ,  0.25390625,  0.2734375 ,  0.29296875,\n",
       "         0.3125    ,  0.33203125,  0.3515625 ,  0.37109375,  0.390625  ,\n",
       "         0.41015625,  0.4296875 ,  0.44921875,  0.46875   ,  0.48828125,\n",
       "         0.5078125 ,  0.52734375,  0.546875  ,  0.56640625,  0.5859375 ,\n",
       "         0.60546875,  0.625     ,  0.64453125,  0.6640625 ,  0.68359375,\n",
       "         0.703125  ,  0.72265625,  0.7421875 ,  0.76171875,  0.78125   ,\n",
       "         0.80078125,  0.8203125 ,  0.83984375,  0.859375  ,  0.87890625,\n",
       "         0.8984375 ,  0.91796875,  0.9375    ,  0.95703125,  0.9765625 ,\n",
       "         0.99609375,  1.015625  ,  1.03515625,  1.0546875 ,  1.07421875,\n",
       "         1.09375   ,  1.11328125,  1.1328125 ,  1.15234375,  1.171875  ,\n",
       "         1.19140625,  1.2109375 ,  1.23046875]),\n",
       " array([-1.25      , -1.23046875, -1.2109375 , -1.19140625, -1.171875  ,\n",
       "        -1.15234375, -1.1328125 , -1.11328125, -1.09375   , -1.07421875,\n",
       "        -1.0546875 , -1.03515625, -1.015625  , -0.99609375, -0.9765625 ,\n",
       "        -0.95703125, -0.9375    , -0.91796875, -0.8984375 , -0.87890625,\n",
       "        -0.859375  , -0.83984375, -0.8203125 , -0.80078125, -0.78125   ,\n",
       "        -0.76171875, -0.7421875 , -0.72265625, -0.703125  , -0.68359375,\n",
       "        -0.6640625 , -0.64453125, -0.625     , -0.60546875, -0.5859375 ,\n",
       "        -0.56640625, -0.546875  , -0.52734375, -0.5078125 , -0.48828125,\n",
       "        -0.46875   , -0.44921875, -0.4296875 , -0.41015625, -0.390625  ,\n",
       "        -0.37109375, -0.3515625 , -0.33203125, -0.3125    , -0.29296875,\n",
       "        -0.2734375 , -0.25390625, -0.234375  , -0.21484375, -0.1953125 ,\n",
       "        -0.17578125, -0.15625   , -0.13671875, -0.1171875 , -0.09765625,\n",
       "        -0.078125  , -0.05859375, -0.0390625 , -0.01953125,  0.        ,\n",
       "         0.01953125,  0.0390625 ,  0.05859375,  0.078125  ,  0.09765625,\n",
       "         0.1171875 ,  0.13671875,  0.15625   ,  0.17578125,  0.1953125 ,\n",
       "         0.21484375,  0.234375  ,  0.25390625,  0.2734375 ,  0.29296875,\n",
       "         0.3125    ,  0.33203125,  0.3515625 ,  0.37109375,  0.390625  ,\n",
       "         0.41015625,  0.4296875 ,  0.44921875,  0.46875   ,  0.48828125,\n",
       "         0.5078125 ,  0.52734375,  0.546875  ,  0.56640625,  0.5859375 ,\n",
       "         0.60546875,  0.625     ,  0.64453125,  0.6640625 ,  0.68359375,\n",
       "         0.703125  ,  0.72265625,  0.7421875 ,  0.76171875,  0.78125   ,\n",
       "         0.80078125,  0.8203125 ,  0.83984375,  0.859375  ,  0.87890625,\n",
       "         0.8984375 ,  0.91796875,  0.9375    ,  0.95703125,  0.9765625 ,\n",
       "         0.99609375,  1.015625  ,  1.03515625,  1.0546875 ,  1.07421875,\n",
       "         1.09375   ,  1.11328125,  1.1328125 ,  1.15234375,  1.171875  ,\n",
       "         1.19140625,  1.2109375 ,  1.23046875]),\n",
       " array([ 0.        ,  0.1010101 ,  0.2020202 ,  0.3030303 ,  0.4040404 ,\n",
       "         0.50505051,  0.60606061,  0.70707071,  0.80808081,  0.90909091,\n",
       "         1.01010101,  1.11111111,  1.21212121,  1.31313131,  1.41414141,\n",
       "         1.51515152,  1.61616162,  1.71717172,  1.81818182,  1.91919192,\n",
       "         2.02020202,  2.12121212,  2.22222222,  2.32323232,  2.42424242,\n",
       "         2.52525253,  2.62626263,  2.72727273,  2.82828283,  2.92929293,\n",
       "         3.03030303,  3.13131313,  3.23232323,  3.33333333,  3.43434343,\n",
       "         3.53535354,  3.63636364,  3.73737374,  3.83838384,  3.93939394,\n",
       "         4.04040404,  4.14141414,  4.24242424,  4.34343434,  4.44444444,\n",
       "         4.54545455,  4.64646465,  4.74747475,  4.84848485,  4.94949495,\n",
       "         5.05050505,  5.15151515,  5.25252525,  5.35353535,  5.45454545,\n",
       "         5.55555556,  5.65656566,  5.75757576,  5.85858586,  5.95959596,\n",
       "         6.06060606,  6.16161616,  6.26262626,  6.36363636,  6.46464646,\n",
       "         6.56565657,  6.66666667,  6.76767677,  6.86868687,  6.96969697,\n",
       "         7.07070707,  7.17171717,  7.27272727,  7.37373737,  7.47474747,\n",
       "         7.57575758,  7.67676768,  7.77777778,  7.87878788,  7.97979798,\n",
       "         8.08080808,  8.18181818,  8.28282828,  8.38383838,  8.48484848,\n",
       "         8.58585859,  8.68686869,  8.78787879,  8.88888889,  8.98989899,\n",
       "         9.09090909,  9.19191919,  9.29292929,  9.39393939,  9.49494949,\n",
       "         9.5959596 ,  9.6969697 ,  9.7979798 ,  9.8989899 , 10.        ]))"
      ]
     },
     "execution_count": 3,
     "metadata": {},
     "output_type": "execute_result"
    }
   ],
   "source": [
    "n = 128\n",
    "data = sio.loadmat(f\"../Datasets/reaction_diffusion_3d_{n}.mat\")\n",
    "u_sol = real(data['usol'])\n",
    "v_sol = real(data['vsol'])\n",
    "u = np.stack([u_sol, v_sol], axis=-1)\n",
    "x = real(data['x'][0])\n",
    "y = real(data['y'][0])\n",
    "z = real(data['z'][0])\n",
    "t = real(data['t'][0])\n",
    "\n",
    "del data\n",
    "\n",
    "dt = t[1] - t[0]\n",
    "dx = x[1] - x[0]\n",
    "dy = y[1] - y[0]\n",
    "dz = z[1] - z[0]\n",
    "# For WeakPDELibrary\n",
    "ground_indices_u = (0, 1, 5, 9, 15, 23)\n",
    "ground_coeff_u = np.array([0.014, -0.014, -1.000, 0.020, 0.020, 0.020])\n",
    "ground_indices_v = (2, 5, 10, 16, 24)\n",
    "ground_coeff_v = np.array([-0.067, 1.0, 0.01, 0.01, 0.01])\n",
    "\n",
    "x, y, z, t"
   ]
  },
  {
   "cell_type": "code",
   "execution_count": 4,
   "id": "16e85d0c",
   "metadata": {},
   "outputs": [],
   "source": [
    "import numpy as np\n",
    "from scipy.signal import savgol_filter\n",
    "from scipy.misc import derivative\n",
    "differentiate = np.gradient\n",
    "\n",
    "import sgolay2\n",
    "from savitzkygolay import filter1D, filter2D, filter3D\n",
    "from function_collections import msemse"
   ]
  },
  {
   "cell_type": "code",
   "execution_count": 5,
   "id": "07a4c75b",
   "metadata": {},
   "outputs": [
    {
     "name": "stdout",
     "output_type": "stream",
     "text": [
      "6.281464129182443e-08\n"
     ]
    }
   ],
   "source": [
    "u_noisy = np.load(\"u_noise1e-1.npy\")\n",
    "print(msemse(u_noisy, u))\n",
    "un = u_noisy[:, :, :, :, 0]\n",
    "vn = u_noisy[:, :, :, :, 1]\n",
    "del u_noisy"
   ]
  },
  {
   "cell_type": "code",
   "execution_count": 6,
   "id": "8adc0e85",
   "metadata": {},
   "outputs": [],
   "source": [
    "# und = np.stack([filter3D(un[:, :, :, i], mu=5, poly=3, order=0) for i in trange(un.shape[-1])], axis=-1)\n",
    "# vnd = np.stack([filter3D(vn[:, :, :, i], mu=5, poly=3, order=0) for i in trange(vn.shape[-1])], axis=-1)\n",
    "# u_noisy = np.stack([und, vnd], axis=-1)\n",
    "# msemse(u_noisy, u)"
   ]
  },
  {
   "cell_type": "code",
   "execution_count": 7,
   "id": "6a487598",
   "metadata": {},
   "outputs": [
    {
     "name": "stderr",
     "output_type": "stream",
     "text": [
      "100%|███████████████████████████████████████████████████████████████████████| 100/100 [00:14<00:00,  7.01it/s]\n",
      "100%|███████████████████████████████████████████████████████████████████████| 100/100 [00:14<00:00,  6.70it/s]\n"
     ]
    },
    {
     "data": {
      "text/plain": [
       "6.281464129182435e-08"
      ]
     },
     "execution_count": 7,
     "metadata": {},
     "output_type": "execute_result"
    }
   ],
   "source": [
    "div = 30\n",
    "ws = max(un.shape[:-2])//div; po = 5\n",
    "if ws%2 == 0: ws -=1\n",
    "ws\n",
    "\n",
    "nun = np.zeros_like(un)\n",
    "for i in trange(un.shape[-1]):\n",
    "    for j in range(un.shape[-2]):\n",
    "        nun[:, :, j, i] = sgolay2.SGolayFilter2(window_size=ws, poly_order=po)(un[:, :, j, i])\n",
    "un = nun.copy()\n",
    "del nun\n",
    "nvn = np.zeros_like(vn)\n",
    "for i in trange(vn.shape[-1]):\n",
    "    for j in range(vn.shape[-2]):\n",
    "        nvn[:, :, j, i] = sgolay2.SGolayFilter2(window_size=ws, poly_order=po)(vn[:, :, j, i])\n",
    "vn = nvn.copy()\n",
    "del nvn\n",
    "\n",
    "msemse(np.stack([un, vn], axis=-1), u)"
   ]
  },
  {
   "cell_type": "code",
   "execution_count": 8,
   "id": "36d7e305",
   "metadata": {},
   "outputs": [],
   "source": [
    "dim = 10\n",
    "\n",
    "un = un.reshape(-1, len(t))\n",
    "uun, sigmaun, vun = np.linalg.svd(un, full_matrices=False); vun = vun.T\n",
    "un = uun[:,0: dim].dot(np.diag(sigmaun[0:dim]).dot(vun[:,0:dim].T))\n",
    "un = un.reshape(len(x), len(y), len(z), len(t))\n",
    "\n",
    "vn = vn.reshape(-1, len(t))\n",
    "uvn, sigmavn, vvn = np.linalg.svd(vn, full_matrices=False); vvn = vvn.T\n",
    "vn = uvn[:,0: dim].dot(np.diag(sigmavn[0:dim]).dot(vvn[:,0:dim].T))\n",
    "vn = vn.reshape(len(x), len(y), len(z), len(t))\n",
    "\n",
    "u_noisy = np.stack([un, vn], axis=-1)"
   ]
  },
  {
   "cell_type": "code",
   "execution_count": null,
   "id": "cd7a9562",
   "metadata": {},
   "outputs": [],
   "source": [
    "# np.save(\"u_noise1e-1_denoised.npy\", u_noisy)"
   ]
  }
 ],
 "metadata": {
  "kernelspec": {
   "display_name": "Python [conda env:pysr]",
   "language": "python",
   "name": "conda-env-pysr-py"
  },
  "language_info": {
   "codemirror_mode": {
    "name": "ipython",
    "version": 3
   },
   "file_extension": ".py",
   "mimetype": "text/x-python",
   "name": "python",
   "nbconvert_exporter": "python",
   "pygments_lexer": "ipython3",
   "version": "3.10.10"
  }
 },
 "nbformat": 4,
 "nbformat_minor": 5
}
