{
 "cells": [
  {
   "cell_type": "code",
   "execution_count": 1,
   "id": "fc5dccd1",
   "metadata": {},
   "outputs": [
    {
     "name": "stdout",
     "output_type": "stream",
     "text": [
      "%pylab is deprecated, use %matplotlib inline and import the required libraries.\n",
      "Populating the interactive namespace from numpy and matplotlib\n",
      "Sklearn's version: 1.2.2\n",
      "mrmr is not installed in the env you are using. This may cause an error in future if you try to use the (missing) lib.\n"
     ]
    }
   ],
   "source": [
    "%load_ext autoreload\n",
    "%autoreload 2\n",
    "%pylab inline\n",
    "pylab.rcParams['figure.figsize'] = (12, 8)\n",
    "import warnings; warnings.filterwarnings(\"ignore\")\n",
    "\n",
    "import numpy as np\n",
    "from mpl_toolkits.mplot3d import Axes3D\n",
    "import sys; sys.path.append('../')\n",
    "from PDE_FIND import *\n",
    "import scipy.io as sio\n",
    "import itertools\n",
    "\n",
    "import numpy as np\n",
    "import pandas as pd\n",
    "from mpl_toolkits.mplot3d import Axes3D\n",
    "from sympy import symbols\n",
    "\n",
    "import sys; sys.path.append('../')\n",
    "from PDE_FIND import *\n",
    "from solvel0 import solvel0\n",
    "\n",
    "import sys; sys.path.append('../../parametric-discovery/')\n",
    "from best_subset import *\n",
    "from frols import frols\n",
    "from p_linear_regression import PLinearRegression\n",
    "from r_pca import R_pca\n",
    "from pde_diff_new import RPCA\n",
    "\n",
    "import scipy.io as sio\n",
    "from scipy.signal import savgol_filter\n",
    "import itertools\n",
    "\n",
    "from sklearn.preprocessing import normalize\n",
    "from sklearn.linear_model import Ridge, BayesianRidge, LinearRegression as SkLinearRegression\n",
    "from sklearn.base import BaseEstimator\n",
    "from sklearn.pipeline import make_pipeline\n",
    "from sklearn.metrics import mean_squared_error\n",
    "from abess.linear import LinearRegression\n",
    "import pysindy as ps\n",
    "\n",
    "from tqdm import trange\n",
    "from os.path import join as join_path\n",
    "FIGURE_EXPORT_PATH = \"/Users/pongpisit/Documents/figure_export/\"\n",
    "\n",
    "from function_collections import msemse"
   ]
  },
  {
   "cell_type": "code",
   "execution_count": 2,
   "id": "2c9d3c0a",
   "metadata": {},
   "outputs": [],
   "source": [
    "X_pre = np.load(\"./IPI_output_files/X_pre_noise1e-1_denoised.npy\")\n",
    "y_pre = np.load(\"./IPI_output_files/y_pre_noise1e-1_denoised.npy\")\n",
    "u_pre, v_pre = y_pre[:, 0:1], y_pre[:, 1:2]\n",
    "del y_pre\n",
    "best_subsets_u = np.load('./IPI_output_files/u/best_subsets_denoised.npy', allow_pickle=True)\n",
    "best_subsets_v = np.load('./IPI_output_files/v/best_subsets_denoised.npy', allow_pickle=True)"
   ]
  },
  {
   "cell_type": "code",
   "execution_count": 3,
   "id": "394cb1b4",
   "metadata": {},
   "outputs": [],
   "source": [
    "from UBIC import *"
   ]
  },
  {
   "cell_type": "code",
   "execution_count": 4,
   "id": "b1061e0e",
   "metadata": {},
   "outputs": [
    {
     "name": "stdout",
     "output_type": "stream",
     "text": [
      "0.13696923174845235\n",
      "5 <---> 5 inf\n",
      "5 <---> 5 inf\n"
     ]
    },
    {
     "data": {
      "text/plain": [
       "(1.8322798448,\n",
       " array([-195110.75586127, -201130.44586789, -216027.29134386,\n",
       "        -249620.28077663, -271002.64944798, -313866.88943767,\n",
       "        -313863.10278065, -313849.72887549, -313838.57957242,\n",
       "        -313829.98022047, -313819.37377607, -313758.9904978 ]),\n",
       " 5)"
      ]
     },
     "execution_count": 4,
     "metadata": {},
     "output_type": "execute_result"
    }
   ],
   "source": [
    "tau = 3; per = 75 # 85\n",
    "scale = 1\n",
    "# scale = np.log(len(u_pre))\n",
    "\n",
    "post_means, b_bics, b_uns = baye_uncertainties(best_subsets_u, (X_pre, u_pre), u_type='cv1', take_sqrt=True)\n",
    "predictions = X_pre@post_means\n",
    "\n",
    "b_bics = np.array(b_bics)\n",
    "complexities = np.array([len(bs) for bs in best_subsets_u])\n",
    "slopes = np.diff(b_bics)/(np.diff(complexities)*b_bics[:-1])\n",
    "thres = np.percentile(slopes, per)\n",
    "while thres < 0:\n",
    "    percentile = per + 5\n",
    "    thres = np.percentile(slopes, min(99, percentile))\n",
    "    if percentile >= 100: \n",
    "        break\n",
    "\n",
    "d_complexities = complexities[decreasing_values_indices(b_bics)]\n",
    "d_bics = b_bics[decreasing_values_indices(b_bics)]\n",
    "thres = np.percentile(np.abs(np.diff(d_bics)/(np.diff(d_complexities)*d_bics[:-1])), per)\n",
    "\n",
    "# thres = 0.02\n",
    "print(thres)\n",
    "\n",
    "lower_bounds = []\n",
    "for k, efi in enumerate(best_subsets_u):\n",
    "    com = len(efi)\n",
    "    assert com == np.count_nonzero(post_means[:, k:k+1])\n",
    "#     lower_bound = 2*log_like_value(predictions[:, k:k+1], u_pre)/np.log(len(u_pre))-com\n",
    "    lower_bound = 2*log_like_value(predictions[:, k:k+1], u_pre)-np.log(len(u_pre))*com\n",
    "    lower_bounds.append(lower_bound)\n",
    "    \n",
    "last_lam = np.log10(max(lower_bounds/(b_uns*scale)))\n",
    "delta = last_lam/tau\n",
    "now_lam = last_lam-delta\n",
    "last_ubic = UBIC(b_bics, b_uns, len(u_pre), hyp=10**last_lam, scale=scale)\n",
    "last_bc = np.argmin(last_ubic)\n",
    "while now_lam > 0:\n",
    "    now_ubic = UBIC(b_bics, b_uns, len(u_pre), hyp=10**now_lam, scale=scale)\n",
    "    now_bc = np.argmin(now_ubic)\n",
    "    \n",
    "    diff_com = now_bc-last_bc\n",
    "    diff_bic = b_bics[now_bc]-b_bics[last_bc]\n",
    "    imp = abs(diff_bic/(b_bics[last_bc]*diff_com))\n",
    "    print(min(last_bc, now_bc), '<--->', max(last_bc, now_bc), np.nan_to_num(imp, nan=np.inf))\n",
    "    \n",
    "#     if (diff_com > 0 and imp < thres) or (diff_com < 0 and imp > thres):\n",
    "#         break\n",
    "    if (diff_com > 0 and (diff_bic > 0 or imp < thres)) or \\\n",
    "        (diff_com < 0 and diff_bic > 0 and imp > thres):\n",
    "        break\n",
    "    \n",
    "    last_lam = now_lam\n",
    "    now_lam = last_lam-delta\n",
    "    last_ubic = now_ubic\n",
    "    last_bc = now_bc\n",
    "    \n",
    "best_bc = last_bc\n",
    "if abs((b_bics[last_bc]-b_bics[last_bc-1])/b_bics[last_bc-1]) < thres:\n",
    "    best_bc = best_bc - 1\n",
    "\n",
    "last_lam = round(last_lam, 10)\n",
    "last_lam_d_u = last_lam\n",
    "last_ubic_d_u = last_ubic\n",
    "last_bc_d_u = last_bc\n",
    "uns_u = b_uns\n",
    "last_lam, last_ubic, last_bc"
   ]
  },
  {
   "cell_type": "code",
   "execution_count": 5,
   "id": "dcaf29c5",
   "metadata": {},
   "outputs": [
    {
     "name": "stdout",
     "output_type": "stream",
     "text": [
      "0.10598674457151297\n",
      "4 <---> 4 inf\n",
      "4 <---> 7 1.465320735032407e-05\n"
     ]
    },
    {
     "data": {
      "text/plain": [
       "(3.6753610071,\n",
       " array([ 546956.8112994 , 1016785.12276304,  364245.06502511,\n",
       "        -101756.40393391, -321132.39921461, -321015.85864907,\n",
       "        -320843.60843649, -320727.65704477, -320044.37078613,\n",
       "        -319425.7282828 , -319219.08943043, -316133.48461788]),\n",
       " 4)"
      ]
     },
     "execution_count": 5,
     "metadata": {},
     "output_type": "execute_result"
    }
   ],
   "source": [
    "tau = 3; per = 75 # 85\n",
    "scale = np.log(len(v_pre))\n",
    "scale = 1\n",
    "\n",
    "post_means, b_bics, b_uns = baye_uncertainties(best_subsets_v, (X_pre, v_pre), u_type='cv1', take_sqrt=True)\n",
    "predictions = X_pre@post_means\n",
    "\n",
    "b_bics = np.array(b_bics)\n",
    "complexities = np.array([len(bs) for bs in best_subsets_v])\n",
    "slopes = np.diff(b_bics)/(np.diff(complexities)*b_bics[:-1])\n",
    "thres = np.percentile(slopes, per)\n",
    "while thres < 0:\n",
    "    percentile = per + 5\n",
    "    thres = np.percentile(slopes, min(99, percentile))\n",
    "    if percentile >= 100: \n",
    "        break\n",
    "        \n",
    "d_complexities = complexities[decreasing_values_indices(b_bics)]\n",
    "d_bics = b_bics[decreasing_values_indices(b_bics)]\n",
    "thres = np.percentile(np.abs(np.diff(d_bics)/(np.diff(d_complexities)*d_bics[:-1])), per)\n",
    "        \n",
    "# thres = 0.02\n",
    "print(thres)\n",
    "\n",
    "lower_bounds = []\n",
    "for k, efi in enumerate(best_subsets_v):\n",
    "    com = len(efi)\n",
    "    assert com == np.count_nonzero(post_means[:, k:k+1])\n",
    "#     lower_bound = 2*log_like_value(predictions[:, k:k+1], v_pre)/np.log(len(v_pre))-com\n",
    "    lower_bound = 2*log_like_value(predictions[:, k:k+1], v_pre)-np.log(len(v_pre))*com\n",
    "    lower_bounds.append(lower_bound)\n",
    "\n",
    "last_lam = np.log10(max(lower_bounds/(b_uns*scale)))\n",
    "delta = last_lam/tau\n",
    "now_lam = last_lam-delta\n",
    "last_ubic = UBIC(b_bics, b_uns, len(v_pre), hyp=10**last_lam, scale=scale)\n",
    "last_bc = np.argmin(last_ubic)\n",
    "while now_lam > 0:\n",
    "    now_ubic = UBIC(b_bics, b_uns, len(v_pre), hyp=10**now_lam, scale=scale)\n",
    "    now_bc = np.argmin(now_ubic)\n",
    "    \n",
    "    diff_com = now_bc-last_bc\n",
    "    diff_bic = b_bics[now_bc]-b_bics[last_bc]\n",
    "    imp = abs(diff_bic/(b_bics[last_bc]*diff_com))\n",
    "    print(min(last_bc, now_bc), '<--->', max(last_bc, now_bc), np.nan_to_num(imp, nan=np.inf))\n",
    "    \n",
    "#     if (diff_com > 0 and imp < thres) or (diff_com < 0 and imp > thres):\n",
    "#         break\n",
    "    if (diff_com > 0 and (diff_bic > 0 or imp < thres)) or \\\n",
    "        (diff_com < 0 and diff_bic > 0 and imp > thres):\n",
    "        break\n",
    "    \n",
    "    last_lam = now_lam\n",
    "    now_lam = last_lam-delta\n",
    "    last_ubic = now_ubic\n",
    "    last_bc = now_bc\n",
    "    \n",
    "best_bc = last_bc\n",
    "if abs((b_bics[last_bc]-b_bics[last_bc-1])/b_bics[last_bc-1]) < thres:\n",
    "    best_bc = best_bc - 1\n",
    "\n",
    "last_lam = round(last_lam, 10)\n",
    "last_lam_d_v = last_lam\n",
    "last_ubic_d_v = last_ubic\n",
    "last_bc_d_v = last_bc\n",
    "uns_v = b_uns\n",
    "last_lam, last_ubic, last_bc"
   ]
  },
  {
   "cell_type": "code",
   "execution_count": 6,
   "id": "9d826e1e",
   "metadata": {},
   "outputs": [
    {
     "data": {
      "image/png": "[encoded data removed]",
      "text/plain": [
       "<Figure size 252x189 with 1 Axes>"
      ]
     },
     "metadata": {
      "needs_background": "light"
     },
     "output_type": "display_data"
    }
   ],
   "source": [
    "assert list(map(len, best_subsets_u)) == list(map(len, best_subsets_v))\n",
    "complexities = list(map(len, best_subsets_u))\n",
    "with plt.style.context(['science', 'grid']):\n",
    "    fig, ax = plt.subplots()\n",
    "    ax.plot(complexities, last_ubic_d_u, 'o-', c='blue', markerfacecolor='none', label=\"$u_t,\\, \\lambda_{\\\\textrm{U}}=$ \"+str(round(last_lam_d_u, 2)))\n",
    "    ax.plot(complexities, last_ubic_d_v, 's--', c='green', markerfacecolor='none', label=\"$v_t,\\, \\lambda_{\\\\textrm{U}}=$ \"+str(round(last_lam_d_v, 2)))\n",
    "    ax.set_xticks(complexities)\n",
    "    ax.set_ylabel(\"$\\\\textrm{UBIC}_{\\\\Gamma}(\\\\xi^{k}, 10^{\\\\lambda})$\", fontsize=12)\n",
    "    ax.set_xlabel(\"Support sizes ($s_{k}$)\", fontsize=12)\n",
    "\n",
    "    plt.annotate('min$\\checkmark$', fontsize=16, c='blue', \n",
    "             xy=(complexities[last_bc_d_u], last_ubic_d_u[last_bc_d_u]), \n",
    "             xytext=(complexities[last_bc_d_u]+0.5, last_ubic_d_u[last_bc_d_u]+1.75e5), \n",
    "             arrowprops={'arrowstyle': '->', 'linestyle':'-', 'color':'blue'})\n",
    "    \n",
    "    plt.annotate('min$\\checkmark$', fontsize=16, c='green', \n",
    "             xy=(complexities[last_bc_d_v], last_ubic_d_v[last_bc_d_v]), \n",
    "             xytext=(complexities[last_bc_d_v], last_ubic_d_v[last_bc_d_v]+3.5e5), \n",
    "             arrowprops={'arrowstyle': '->', 'linestyle':'--', 'color':'green'})\n",
    "    \n",
    "    plt.legend()\n",
    "    fig.savefig(\"../Figures/RD3D/rd3d_scale_ubics.pdf\")\n",
    "    plt.show()"
   ]
  },
  {
   "cell_type": "code",
   "execution_count": 7,
   "id": "094e4c2a",
   "metadata": {},
   "outputs": [
    {
     "data": {
      "image/png": "[encoded data removed]",
      "text/plain": [
       "<Figure size 252x189 with 1 Axes>"
      ]
     },
     "metadata": {
      "needs_background": "light"
     },
     "output_type": "display_data"
    }
   ],
   "source": [
    "assert list(map(len, best_subsets_u)) == list(map(len, best_subsets_v))\n",
    "complexities = list(map(len, best_subsets_u))\n",
    "with plt.style.context(['science', 'grid']):\n",
    "    fig, ax = plt.subplots()\n",
    "    ax.plot(complexities, uns_u, 'o-', c='blue', markerfacecolor='none', label=\"$u_t$\")\n",
    "    ax.plot(complexities, uns_v, 's--', c='green', markerfacecolor='none', label=\"$v_t$\")\n",
    "    ax.set_xticks(complexities)\n",
    "    ax.set_ylabel(\"Uncertainty ($\\\\textrm{U}^{k}$)\", fontsize=12)\n",
    "    ax.set_xlabel(\"Support sizes ($s_{k}$)\", fontsize=12)\n",
    "\n",
    "    plt.annotate('min', fontsize=16, c='blue', \n",
    "             xy=(complexities[np.argmin(uns_u)], uns_u[np.argmin(uns_u)]), \n",
    "             xytext=(complexities[np.argmin(uns_u)]+1, uns_u[np.argmin(uns_u)]+60), \n",
    "             arrowprops={'arrowstyle': '->', 'linestyle':'-', 'color':'blue'})\n",
    "    \n",
    "    plt.annotate('min', fontsize=16, c='green', \n",
    "             xy=(complexities[np.argmin(uns_v)], uns_v[np.argmin(uns_v)]), \n",
    "             xytext=(complexities[np.argmin(uns_v)], uns_v[np.argmin(uns_v)]+60), \n",
    "             arrowprops={'arrowstyle': '->', 'linestyle':'--', 'color':'green'})\n",
    "    \n",
    "    plt.legend()\n",
    "#     fig.savefig(\"../Figures/RD3D/rd3d_uns.pdf\")\n",
    "    plt.show()"
   ]
  },
  {
   "cell_type": "code",
   "execution_count": null,
   "id": "de3720b4",
   "metadata": {},
   "outputs": [],
   "source": []
  },
  {
   "cell_type": "code",
   "execution_count": null,
   "id": "1f03a942",
   "metadata": {},
   "outputs": [],
   "source": []
  },
  {
   "cell_type": "code",
   "execution_count": 8,
   "id": "f8fc736b",
   "metadata": {},
   "outputs": [],
   "source": [
    "# tmp = np.zeros((len(best_subsets_u), X_pre.shape[-1]))\n",
    "# for i in range(len(best_subsets_u)):\n",
    "#     tmp[i:i+1, :][0, best_subsets_u[i]] = 1.0\n",
    "# best_subsets_u = tmp.astype(np.float32)\n",
    "# # best_subsets_u"
   ]
  },
  {
   "cell_type": "code",
   "execution_count": 9,
   "id": "91a52db1",
   "metadata": {},
   "outputs": [],
   "source": [
    "# tmp = np.zeros((len(best_subsets_v), X_pre.shape[-1]))\n",
    "# for i in range(len(best_subsets_v)):\n",
    "#     tmp[i:i+1, :][0, best_subsets_v[i]] = 1.0\n",
    "# best_subsets_v = tmp.astype(np.float32)\n",
    "# # best_subsets_v"
   ]
  },
  {
   "cell_type": "code",
   "execution_count": 10,
   "id": "a626fb24",
   "metadata": {},
   "outputs": [],
   "source": [
    "# pms_data = {\"X_pre\": X_pre, \n",
    "#             \"u_pre\": u_pre,\n",
    "#             \"v_pre\": v_pre,\n",
    "#             \"best_subsets_u\": best_subsets_u, \n",
    "#             \"best_subsets_v\": best_subsets_v}\n",
    "\n",
    "# h5file(file_path=\"./IPI_output_files/PMS_data.h5\", cdict=pms_data, mode='w')\n",
    "\n",
    "# pms_data"
   ]
  }
 ],
 "metadata": {
  "kernelspec": {
   "display_name": "Python [conda env:pysr]",
   "language": "python",
   "name": "conda-env-pysr-py"
  },
  "language_info": {
   "codemirror_mode": {
    "name": "ipython",
    "version": 3
   },
   "file_extension": ".py",
   "mimetype": "text/x-python",
   "name": "python",
   "nbconvert_exporter": "python",
   "pygments_lexer": "ipython3",
   "version": "3.10.10"
  }
 },
 "nbformat": 4,
 "nbformat_minor": 5
}
