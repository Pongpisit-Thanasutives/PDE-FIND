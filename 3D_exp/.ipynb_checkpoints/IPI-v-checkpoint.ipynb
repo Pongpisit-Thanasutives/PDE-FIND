{
 "cells": [
  {
   "cell_type": "code",
   "execution_count": 1,
   "id": "5c8736f7-3fcd-49e0-9367-6a3627c14b26",
   "metadata": {},
   "outputs": [
    {
     "name": "stdout",
     "output_type": "stream",
     "text": [
      "Populating the interactive namespace from numpy and matplotlib\n",
      "Sklearn's version: 1.0.2\n"
     ]
    }
   ],
   "source": [
    "%load_ext autoreload\n",
    "%autoreload 2\n",
    "%pylab inline\n",
    "pylab.rcParams['figure.figsize'] = (12, 8)\n",
    "import warnings; warnings.filterwarnings(\"ignore\")\n",
    "\n",
    "import numpy as np\n",
    "import pandas as pd\n",
    "from mpl_toolkits.mplot3d import Axes3D\n",
    "from sympy import symbols\n",
    "\n",
    "import sys; sys.path.append('../')\n",
    "from PDE_FIND import *\n",
    "\n",
    "import sys; sys.path.append('../../parametric-discovery/')\n",
    "from best_subset import *\n",
    "from frols import frols\n",
    "from p_linear_regression import PLinearRegression\n",
    "from r_pca import R_pca\n",
    "from pde_diff_new import RPCA\n",
    "from RobustPCA.rpca import RobustPCA\n",
    "\n",
    "import scipy.io as sio\n",
    "from scipy.signal import savgol_filter\n",
    "import itertools\n",
    "\n",
    "from sklearn.preprocessing import normalize\n",
    "from sklearn.linear_model import Ridge, BayesianRidge, LinearRegression as SkLinearRegression\n",
    "from sklearn.base import BaseEstimator\n",
    "from sklearn.pipeline import make_pipeline\n",
    "from sklearn.metrics import mean_squared_error\n",
    "from abess.linear import LinearRegression\n",
    "from bess import PdasLm\n",
    "import pysindy as ps\n",
    "\n",
    "from tqdm import trange\n",
    "from os.path import join as join_path\n",
    "FIGURE_EXPORT_PATH = \"/Users/pongpisit/Documents/figure_export/\"\n",
    "\n",
    "np.random.seed(100)"
   ]
  },
  {
   "cell_type": "code",
   "execution_count": 2,
   "id": "f428bf63-f8aa-4de3-97c8-dd17f45a8c55",
   "metadata": {},
   "outputs": [],
   "source": [
    "def check_percent(bic_scores, complexities):\n",
    "    slope = (bic_scores[1:]-bic_scores[:-1])/(complexities[1:]-complexities[:-1])\n",
    "    slope_index = np.argmin(slope)\n",
    "    percent_improve = 100*np.abs(bic_scores[slope_index+1]-bic_scores[slope_index])/np.abs(bic_scores[slope_index])\n",
    "    percent_from_1 = 100*np.abs(bic_scores[slope_index+1]-bic_scores[0])/np.abs(bic_scores[0])\n",
    "    return slope_index+1, percent_improve, percent_from_1\n",
    "\n",
    "def percent_coeff(pred, ground):\n",
    "    return 100*(np.abs(pred-ground)/np.abs(ground))"
   ]
  },
  {
   "cell_type": "code",
   "execution_count": 3,
   "id": "0e366b04-cdf3-40e8-9cfc-b0e0c25ea165",
   "metadata": {},
   "outputs": [
    {
     "data": {
      "text/plain": [
       "(array([-1.25      , -1.23046875, -1.2109375 , -1.19140625, -1.171875  ,\n",
       "        -1.15234375, -1.1328125 , -1.11328125, -1.09375   , -1.07421875,\n",
       "        -1.0546875 , -1.03515625, -1.015625  , -0.99609375, -0.9765625 ,\n",
       "        -0.95703125, -0.9375    , -0.91796875, -0.8984375 , -0.87890625,\n",
       "        -0.859375  , -0.83984375, -0.8203125 , -0.80078125, -0.78125   ,\n",
       "        -0.76171875, -0.7421875 , -0.72265625, -0.703125  , -0.68359375,\n",
       "        -0.6640625 , -0.64453125, -0.625     , -0.60546875, -0.5859375 ,\n",
       "        -0.56640625, -0.546875  , -0.52734375, -0.5078125 , -0.48828125,\n",
       "        -0.46875   , -0.44921875, -0.4296875 , -0.41015625, -0.390625  ,\n",
       "        -0.37109375, -0.3515625 , -0.33203125, -0.3125    , -0.29296875,\n",
       "        -0.2734375 , -0.25390625, -0.234375  , -0.21484375, -0.1953125 ,\n",
       "        -0.17578125, -0.15625   , -0.13671875, -0.1171875 , -0.09765625,\n",
       "        -0.078125  , -0.05859375, -0.0390625 , -0.01953125,  0.        ,\n",
       "         0.01953125,  0.0390625 ,  0.05859375,  0.078125  ,  0.09765625,\n",
       "         0.1171875 ,  0.13671875,  0.15625   ,  0.17578125,  0.1953125 ,\n",
       "         0.21484375,  0.234375  ,  0.25390625,  0.2734375 ,  0.29296875,\n",
       "         0.3125    ,  0.33203125,  0.3515625 ,  0.37109375,  0.390625  ,\n",
       "         0.41015625,  0.4296875 ,  0.44921875,  0.46875   ,  0.48828125,\n",
       "         0.5078125 ,  0.52734375,  0.546875  ,  0.56640625,  0.5859375 ,\n",
       "         0.60546875,  0.625     ,  0.64453125,  0.6640625 ,  0.68359375,\n",
       "         0.703125  ,  0.72265625,  0.7421875 ,  0.76171875,  0.78125   ,\n",
       "         0.80078125,  0.8203125 ,  0.83984375,  0.859375  ,  0.87890625,\n",
       "         0.8984375 ,  0.91796875,  0.9375    ,  0.95703125,  0.9765625 ,\n",
       "         0.99609375,  1.015625  ,  1.03515625,  1.0546875 ,  1.07421875,\n",
       "         1.09375   ,  1.11328125,  1.1328125 ,  1.15234375,  1.171875  ,\n",
       "         1.19140625,  1.2109375 ,  1.23046875]),\n",
       " array([-1.25      , -1.23046875, -1.2109375 , -1.19140625, -1.171875  ,\n",
       "        -1.15234375, -1.1328125 , -1.11328125, -1.09375   , -1.07421875,\n",
       "        -1.0546875 , -1.03515625, -1.015625  , -0.99609375, -0.9765625 ,\n",
       "        -0.95703125, -0.9375    , -0.91796875, -0.8984375 , -0.87890625,\n",
       "        -0.859375  , -0.83984375, -0.8203125 , -0.80078125, -0.78125   ,\n",
       "        -0.76171875, -0.7421875 , -0.72265625, -0.703125  , -0.68359375,\n",
       "        -0.6640625 , -0.64453125, -0.625     , -0.60546875, -0.5859375 ,\n",
       "        -0.56640625, -0.546875  , -0.52734375, -0.5078125 , -0.48828125,\n",
       "        -0.46875   , -0.44921875, -0.4296875 , -0.41015625, -0.390625  ,\n",
       "        -0.37109375, -0.3515625 , -0.33203125, -0.3125    , -0.29296875,\n",
       "        -0.2734375 , -0.25390625, -0.234375  , -0.21484375, -0.1953125 ,\n",
       "        -0.17578125, -0.15625   , -0.13671875, -0.1171875 , -0.09765625,\n",
       "        -0.078125  , -0.05859375, -0.0390625 , -0.01953125,  0.        ,\n",
       "         0.01953125,  0.0390625 ,  0.05859375,  0.078125  ,  0.09765625,\n",
       "         0.1171875 ,  0.13671875,  0.15625   ,  0.17578125,  0.1953125 ,\n",
       "         0.21484375,  0.234375  ,  0.25390625,  0.2734375 ,  0.29296875,\n",
       "         0.3125    ,  0.33203125,  0.3515625 ,  0.37109375,  0.390625  ,\n",
       "         0.41015625,  0.4296875 ,  0.44921875,  0.46875   ,  0.48828125,\n",
       "         0.5078125 ,  0.52734375,  0.546875  ,  0.56640625,  0.5859375 ,\n",
       "         0.60546875,  0.625     ,  0.64453125,  0.6640625 ,  0.68359375,\n",
       "         0.703125  ,  0.72265625,  0.7421875 ,  0.76171875,  0.78125   ,\n",
       "         0.80078125,  0.8203125 ,  0.83984375,  0.859375  ,  0.87890625,\n",
       "         0.8984375 ,  0.91796875,  0.9375    ,  0.95703125,  0.9765625 ,\n",
       "         0.99609375,  1.015625  ,  1.03515625,  1.0546875 ,  1.07421875,\n",
       "         1.09375   ,  1.11328125,  1.1328125 ,  1.15234375,  1.171875  ,\n",
       "         1.19140625,  1.2109375 ,  1.23046875]),\n",
       " array([-1.25      , -1.23046875, -1.2109375 , -1.19140625, -1.171875  ,\n",
       "        -1.15234375, -1.1328125 , -1.11328125, -1.09375   , -1.07421875,\n",
       "        -1.0546875 , -1.03515625, -1.015625  , -0.99609375, -0.9765625 ,\n",
       "        -0.95703125, -0.9375    , -0.91796875, -0.8984375 , -0.87890625,\n",
       "        -0.859375  , -0.83984375, -0.8203125 , -0.80078125, -0.78125   ,\n",
       "        -0.76171875, -0.7421875 , -0.72265625, -0.703125  , -0.68359375,\n",
       "        -0.6640625 , -0.64453125, -0.625     , -0.60546875, -0.5859375 ,\n",
       "        -0.56640625, -0.546875  , -0.52734375, -0.5078125 , -0.48828125,\n",
       "        -0.46875   , -0.44921875, -0.4296875 , -0.41015625, -0.390625  ,\n",
       "        -0.37109375, -0.3515625 , -0.33203125, -0.3125    , -0.29296875,\n",
       "        -0.2734375 , -0.25390625, -0.234375  , -0.21484375, -0.1953125 ,\n",
       "        -0.17578125, -0.15625   , -0.13671875, -0.1171875 , -0.09765625,\n",
       "        -0.078125  , -0.05859375, -0.0390625 , -0.01953125,  0.        ,\n",
       "         0.01953125,  0.0390625 ,  0.05859375,  0.078125  ,  0.09765625,\n",
       "         0.1171875 ,  0.13671875,  0.15625   ,  0.17578125,  0.1953125 ,\n",
       "         0.21484375,  0.234375  ,  0.25390625,  0.2734375 ,  0.29296875,\n",
       "         0.3125    ,  0.33203125,  0.3515625 ,  0.37109375,  0.390625  ,\n",
       "         0.41015625,  0.4296875 ,  0.44921875,  0.46875   ,  0.48828125,\n",
       "         0.5078125 ,  0.52734375,  0.546875  ,  0.56640625,  0.5859375 ,\n",
       "         0.60546875,  0.625     ,  0.64453125,  0.6640625 ,  0.68359375,\n",
       "         0.703125  ,  0.72265625,  0.7421875 ,  0.76171875,  0.78125   ,\n",
       "         0.80078125,  0.8203125 ,  0.83984375,  0.859375  ,  0.87890625,\n",
       "         0.8984375 ,  0.91796875,  0.9375    ,  0.95703125,  0.9765625 ,\n",
       "         0.99609375,  1.015625  ,  1.03515625,  1.0546875 ,  1.07421875,\n",
       "         1.09375   ,  1.11328125,  1.1328125 ,  1.15234375,  1.171875  ,\n",
       "         1.19140625,  1.2109375 ,  1.23046875]),\n",
       " array([ 0.        ,  0.1010101 ,  0.2020202 ,  0.3030303 ,  0.4040404 ,\n",
       "         0.50505051,  0.60606061,  0.70707071,  0.80808081,  0.90909091,\n",
       "         1.01010101,  1.11111111,  1.21212121,  1.31313131,  1.41414141,\n",
       "         1.51515152,  1.61616162,  1.71717172,  1.81818182,  1.91919192,\n",
       "         2.02020202,  2.12121212,  2.22222222,  2.32323232,  2.42424242,\n",
       "         2.52525253,  2.62626263,  2.72727273,  2.82828283,  2.92929293,\n",
       "         3.03030303,  3.13131313,  3.23232323,  3.33333333,  3.43434343,\n",
       "         3.53535354,  3.63636364,  3.73737374,  3.83838384,  3.93939394,\n",
       "         4.04040404,  4.14141414,  4.24242424,  4.34343434,  4.44444444,\n",
       "         4.54545455,  4.64646465,  4.74747475,  4.84848485,  4.94949495,\n",
       "         5.05050505,  5.15151515,  5.25252525,  5.35353535,  5.45454545,\n",
       "         5.55555556,  5.65656566,  5.75757576,  5.85858586,  5.95959596,\n",
       "         6.06060606,  6.16161616,  6.26262626,  6.36363636,  6.46464646,\n",
       "         6.56565657,  6.66666667,  6.76767677,  6.86868687,  6.96969697,\n",
       "         7.07070707,  7.17171717,  7.27272727,  7.37373737,  7.47474747,\n",
       "         7.57575758,  7.67676768,  7.77777778,  7.87878788,  7.97979798,\n",
       "         8.08080808,  8.18181818,  8.28282828,  8.38383838,  8.48484848,\n",
       "         8.58585859,  8.68686869,  8.78787879,  8.88888889,  8.98989899,\n",
       "         9.09090909,  9.19191919,  9.29292929,  9.39393939,  9.49494949,\n",
       "         9.5959596 ,  9.6969697 ,  9.7979798 ,  9.8989899 , 10.        ]))"
      ]
     },
     "execution_count": 3,
     "metadata": {},
     "output_type": "execute_result"
    }
   ],
   "source": [
    "n = 128\n",
    "data = sio.loadmat(f\"../Datasets/reaction_diffusion_3d_{n}.mat\")\n",
    "u_sol = real(data['usol'])\n",
    "v_sol = real(data['vsol'])\n",
    "x = real(data['x'][0])\n",
    "y = real(data['y'][0])\n",
    "z = real(data['z'][0])\n",
    "t = real(data['t'][0])\n",
    "\n",
    "del data\n",
    "\n",
    "dt = t[1] - t[0]\n",
    "dx = x[1] - x[0]\n",
    "dy = y[1] - y[0]\n",
    "dz = z[1] - z[0]\n",
    "# For WeakPDELibrary\n",
    "ground_indices_u = (0, 1, 5, 9, 15, 23)\n",
    "ground_coeff_u = np.array([0.014, -0.014, -1.000, 0.020, 0.020, 0.020])\n",
    "ground_indices_v = (2, 5, 10, 16, 24)\n",
    "ground_coeff_v = np.array([-0.067, 1.0, 0.01, 0.01, 0.01])\n",
    "\n",
    "x, y, z, t"
   ]
  },
  {
   "cell_type": "code",
   "execution_count": 4,
   "id": "51a0a7f1-5302-46c7-9974-0466b1de2282",
   "metadata": {},
   "outputs": [],
   "source": [
    "time = t\n",
    "u = np.zeros((n, n, n, len(time), 2))\n",
    "u[:, :, :, :, 0] = u_sol\n",
    "u[:, :, :, :, 1] = v_sol\n",
    "# u_dot = ps.FiniteDifference(axis=3)._differentiate(u, dt)\n",
    "\n",
    "# Odd polynomial terms in (u, v), up to second order derivatives in (u, v)\n",
    "library_functions = [\n",
    "    lambda x: x,\n",
    "    lambda x: x * x * x,\n",
    "    lambda x, y: x * y * y,\n",
    "    lambda x, y: x * x * y,\n",
    "]\n",
    "library_function_names = [\n",
    "    lambda x: x,\n",
    "    lambda x: x + x + x,\n",
    "    lambda x, y: x + y + y,\n",
    "    lambda x, y: x + x + y,\n",
    "]\n",
    "\n",
    "# Need to define the 2D spatial grid before calling the library\n",
    "X, Y, Z, T = np.meshgrid(x, y, z, time, indexing=\"ij\")\n",
    "spatiotemporal_grid = np.asarray([X, Y, Z, T])\n",
    "spatiotemporal_grid = np.transpose(spatiotemporal_grid, axes=[1, 2, 3, 4, 0])\n",
    "weak_lib = ps.WeakPDELibrary(\n",
    "    library_functions=library_functions,\n",
    "    function_names=library_function_names,\n",
    "    derivative_order=2,\n",
    "    spatiotemporal_grid=spatiotemporal_grid,\n",
    "    is_uniform=True,\n",
    "    include_interaction=False,\n",
    "    include_bias=True,\n",
    "    periodic=True,\n",
    "    K=10000,\n",
    "    cache=True\n",
    ")"
   ]
  },
  {
   "cell_type": "code",
   "execution_count": 5,
   "id": "7ad8b85d-f21a-491d-ad42-d1c604f86f66",
   "metadata": {},
   "outputs": [],
   "source": [
    "np.random.seed(100)\n",
    "noise_lvs = [0, 0.04, 0.1]\n",
    "noise_lv = noise_lvs[-1]\n",
    "domain_noise = 0.01*np.abs(noise_lv)*np.std(u)*np.random.randn(*u.shape)\n",
    "u = u + domain_noise\n",
    "# np.save(\"u_noise1e-1.npy\", u)"
   ]
  },
  {
   "cell_type": "code",
   "execution_count": 6,
   "id": "1e8c3c5c",
   "metadata": {},
   "outputs": [],
   "source": [
    "denoise = True\n",
    "if denoise: \n",
    "    u = np.load(\"u_noise1e-1_denoised.npy\")"
   ]
  },
  {
   "cell_type": "code",
   "execution_count": 7,
   "id": "186a6ed9-e4ce-4734-a664-f27af8c1fdd1",
   "metadata": {},
   "outputs": [
    {
     "name": "stdout",
     "output_type": "stream",
     "text": [
      "(x0)' = 0.014 1 + -0.014 x0 + -1.000 x0x1x1 + 0.020 x0_33 + 0.020 x0_22 + 0.020 x0_11\n",
      "(x1)' = -0.067 x1 + 1.000 x0x1x1 + 0.010 x1_33 + 0.010 x1_22 + 0.010 x1_11\n"
     ]
    }
   ],
   "source": [
    "include_sr3 = True\n",
    "# Fit the 3D reaction-diffusion equation\n",
    "optimizer = ps.SR3(threshold=1e-5, normalize_columns=True, max_iter=100)\n",
    "model = ps.SINDy(feature_library=weak_lib, optimizer=optimizer, cache=True)\n",
    "model.fit(u, ensemble=False, library_ensemble=True)\n",
    "model.print()"
   ]
  },
  {
   "cell_type": "code",
   "execution_count": 8,
   "id": "cb0bae31-7357-4fce-8174-273997affaaa",
   "metadata": {},
   "outputs": [
    {
     "name": "stdout",
     "output_type": "stream",
     "text": [
      "hasattr threshold in optimizer...\n",
      "x0_t = (0.013997 +0.000000i)1\n",
      "    + (-0.013965 +0.000000i)x0\n",
      "    + (-1.000266 +0.000000i)x0x1x1\n",
      "    + (0.019998 +0.000000i)x0_33\n",
      "    + (0.020000 +0.000000i)x0_22\n",
      "    + (0.020004 +0.000000i)x0_11\n",
      "   \n"
     ]
    },
    {
     "data": {
      "text/plain": [
       "(0, 1, 5, 9, 15, 23)"
      ]
     },
     "execution_count": 8,
     "metadata": {},
     "output_type": "execute_result"
    }
   ],
   "source": [
    "_, ensemble_indices_u = model.validate_coef_list(target_index=0, criterion='bic')[0]\n",
    "ensemble_indices_u"
   ]
  },
  {
   "cell_type": "code",
   "execution_count": 9,
   "id": "e00d2a8f-1d40-41c9-9e18-4e1d0b512c1e",
   "metadata": {},
   "outputs": [
    {
     "name": "stdout",
     "output_type": "stream",
     "text": [
      "hasattr threshold in optimizer...\n",
      "x1_t = (-0.067002 +0.000000i)x1\n",
      "    + (1.000066 +0.000000i)x0x1x1\n",
      "    + (0.009997 +0.000000i)x1_33\n",
      "    + (0.009999 +0.000000i)x1_22\n",
      "    + (0.010000 +0.000000i)x1_11\n",
      "   \n"
     ]
    },
    {
     "data": {
      "text/plain": [
       "(2, 5, 10, 16, 24)"
      ]
     },
     "execution_count": 9,
     "metadata": {},
     "output_type": "execute_result"
    }
   ],
   "source": [
    "_, ensemble_indices_v = model.validate_coef_list(target_index=1, criterion='bic')[0]\n",
    "ensemble_indices_v"
   ]
  },
  {
   "cell_type": "code",
   "execution_count": 10,
   "id": "41ce20d8-be68-4bf6-b9df-91fcf1e226bf",
   "metadata": {},
   "outputs": [
    {
     "data": {
      "text/plain": [
       "({(0, 1, 5, 9, 15, 23),\n",
       "  (0, 3, 5, 9, 15, 23),\n",
       "  (1, 2, 3, 4, 5, 6, 9, 10, 15, 16, 21, 22, 23, 24)},\n",
       " {(0, 1, 2, 3, 4, 5, 6, 7, 9, 10, 15, 16, 17, 20, 21, 22, 23),\n",
       "  (1, 2, 5, 6, 9, 16, 23, 24),\n",
       "  (1, 3, 4, 5, 6, 9, 10, 15, 16, 22, 23, 24),\n",
       "  (2, 5, 10, 16, 24)})"
      ]
     },
     "execution_count": 10,
     "metadata": {},
     "output_type": "execute_result"
    }
   ],
   "source": [
    "# pub 32 v\n",
    "# ({(0, 1, 2, 4, 6, 9, 10, 15, 16, 22, 23, 24),\n",
    "#   (0, 1, 5, 9, 15, 23),\n",
    "#   (0, 1, 5, 10, 15, 23),\n",
    "#   (0, 3, 5, 9, 15, 23)},\n",
    "#  {(0, 1, 2, 3, 4, 5, 9, 10, 17, 21, 24),\n",
    "#   (0, 1, 2, 4, 6, 10, 15, 16, 22, 23, 24),\n",
    "#   (1, 2, 3, 4, 5, 6, 10, 15, 16, 21, 22),\n",
    "#   (1, 4, 5, 6, 10, 16, 22, 24),\n",
    "#   (2, 5, 10, 16, 24)})\n",
    "\n",
    "sr3_u = set()\n",
    "sr3_u.add(ensemble_indices_u)\n",
    "for i in range(len(model.get_coef_list())):\n",
    "    sr3_u.add(nonz(model.get_coef_list()[i][0]))\n",
    "sr3_v = set()\n",
    "sr3_v.add(ensemble_indices_v)\n",
    "for i in range(len(model.get_coef_list())):\n",
    "    sr3_v.add(nonz(model.get_coef_list()[i][1]))\n",
    "sr3_u, sr3_v"
   ]
  },
  {
   "cell_type": "code",
   "execution_count": 12,
   "id": "8f196144-5590-49d3-9cda-677a696e2da7",
   "metadata": {},
   "outputs": [],
   "source": [
    "X_pre, y_pre = model.feature_library.cached_xp_full[0], model.cached_x_dot\n",
    "X_pre = np.load(\"./IPI_output_files/X_pre_noise1e-1_denoised.npy\")\n",
    "y_pre = np.load(\"./IPI_output_files/y_pre_noise1e-1_denoised.npy\")"
   ]
  },
  {
   "cell_type": "code",
   "execution_count": 13,
   "id": "480c677f-954a-4bd7-a89b-dec21c1c956a",
   "metadata": {},
   "outputs": [],
   "source": [
    "max_complexity = 12; target_index = 1"
   ]
  },
  {
   "cell_type": "code",
   "execution_count": 14,
   "id": "b379cbbb-331e-425f-8b36-192b7c1498e3",
   "metadata": {},
   "outputs": [
    {
     "data": {
      "text/plain": [
       "{(2,), (2, 5, 10, 16, 24), (2, 5, 16, 24), (5, 16, 24)}"
      ]
     },
     "execution_count": 14,
     "metadata": {},
     "output_type": "execute_result"
    }
   ],
   "source": [
    "# pub 32 v\n",
    "# {(2,), (2, 5, 10, 16, 24), (2, 5, 16, 24), (5, 16, 24)}\n",
    "\n",
    "nor_axis = None\n",
    "Xbnb = X_pre.copy()\n",
    "if nor_axis is not None: Xbnb = normalize(Xbnb, axis=nor_axis)\n",
    "\n",
    "thres = 1e-4\n",
    "bnb_sols = bnb(Xbnb, y_pre[:, target_index:target_index+1].ravel(), max_nonzeros=max_complexity, \n",
    "               lam=1e-2, threshold=thres, normalize=True, corrected_coefficients=True)\n",
    "bnb_feature_hierarchy = set([tuple(np.nonzero(bnb_sols[:, i:i+1].flatten())[0].tolist()) \n",
    "                             for i in range(bnb_sols.shape[1])])\n",
    "bnb_feature_hierarchy"
   ]
  },
  {
   "cell_type": "code",
   "execution_count": 15,
   "id": "e79134d8-a02a-451c-9760-40070e2f0c23",
   "metadata": {},
   "outputs": [
    {
     "data": {
      "text/plain": [
       "{(2,),\n",
       " (2, 3, 5, 8, 9, 10, 11, 16, 17, 18, 23, 24),\n",
       " (2, 5, 8, 9, 10, 11, 16, 17, 18, 23, 24),\n",
       " (2, 5, 8, 9, 10, 11, 16, 18, 23, 24),\n",
       " (2, 5, 8, 10, 11, 16, 18, 23, 24),\n",
       " (2, 5, 10, 11, 16, 18, 23, 24),\n",
       " (2, 5, 10, 11, 16, 23, 24),\n",
       " (2, 5, 10, 16, 23, 24),\n",
       " (2, 5, 10, 16, 24),\n",
       " (2, 5, 16, 24),\n",
       " (2, 5, 24),\n",
       " (2, 24)}"
      ]
     },
     "execution_count": 15,
     "metadata": {},
     "output_type": "execute_result"
    }
   ],
   "source": [
    "nor_axis = None\n",
    "Xfrols = X_pre.copy()\n",
    "if nor_axis is not None: Xfrols = normalize(Xfrols, axis=nor_axis)\n",
    "frols_coeffs,selected_inds_list,_,_,_ = frols(y_pre[:, target_index:target_index+1], Xfrols, max_nonzeros=max_complexity)\n",
    "selected_inds_list = set(selected_inds_list)\n",
    "selected_inds_list"
   ]
  },
  {
   "cell_type": "code",
   "execution_count": 16,
   "id": "9f940b54-aa89-45a2-8286-fa0355578344",
   "metadata": {},
   "outputs": [],
   "source": [
    "feature_hierarchy = bnb_feature_hierarchy.union(selected_inds_list)\n",
    "if include_sr3:\n",
    "    if target_index == 0:\n",
    "        feature_hierarchy = feature_hierarchy.union(sr3_u)\n",
    "    elif target_index == 1:\n",
    "        feature_hierarchy = feature_hierarchy.union(sr3_v)"
   ]
  },
  {
   "cell_type": "code",
   "execution_count": 17,
   "id": "56e5dee8-db5e-4c3e-a9e6-74240ff0db54",
   "metadata": {},
   "outputs": [
    {
     "name": "stdout",
     "output_type": "stream",
     "text": [
      "RFE_PLinearRegression\n",
      "(2, 5, 24)\n",
      "(2, 24)\n",
      "(2,)\n",
      "--------------------------------------------------\n",
      "(2, 5, 8, 9, 10, 11, 16, 17, 18, 23, 24)\n",
      "(2, 5, 8, 9, 10, 11, 16, 18, 23, 24)\n",
      "(2, 5, 8, 10, 11, 16, 18, 23, 24)\n",
      "(2, 5, 10, 11, 16, 18, 23, 24)\n",
      "(2, 5, 10, 11, 16, 23, 24)\n",
      "(2, 5, 10, 16, 23, 24)\n",
      "(2, 5, 10, 16, 24)\n",
      "(2, 5, 16, 24)\n",
      "(5, 16, 24)\n",
      "(16, 24)\n",
      "(24,)\n",
      "--------------------------------------------------\n",
      "(1, 2, 5, 6, 9, 16, 23, 24)\n",
      "(2, 5, 6, 9, 16, 23, 24)\n",
      "(2, 5, 9, 16, 23, 24)\n",
      "(2, 5, 16, 23, 24)\n",
      "(2, 5, 16, 24)\n",
      "--------------------------------------------------\n",
      "(2, 5, 8, 9, 10, 11, 16, 18, 23, 24)\n",
      "--------------------------------------------------\n",
      "(2, 3, 5, 8, 9, 10, 11, 16, 17, 18, 23, 24)\n",
      "(2, 5, 8, 9, 10, 11, 16, 17, 18, 23, 24)\n",
      "--------------------------------------------------\n",
      "(2, 5, 10, 16, 24)\n",
      "--------------------------------------------------\n",
      "(2, 5, 16, 24)\n",
      "--------------------------------------------------\n",
      "(2, 5, 8, 10, 11, 16, 18, 23, 24)\n",
      "--------------------------------------------------\n",
      "(2, 5, 10, 16, 23, 24)\n",
      "--------------------------------------------------\n",
      "(2, 5, 10, 11, 16, 23, 24)\n",
      "--------------------------------------------------\n",
      "(1, 3, 4, 5, 6, 9, 10, 15, 16, 22, 23, 24)\n",
      "(1, 3, 4, 5, 6, 9, 10, 16, 22, 23, 24)\n",
      "(1, 4, 5, 6, 9, 10, 16, 22, 23, 24)\n",
      "(1, 4, 5, 6, 10, 16, 22, 23, 24)\n",
      "(1, 4, 5, 6, 10, 16, 22, 24)\n",
      "(1, 4, 5, 6, 10, 16, 24)\n",
      "(1, 4, 5, 6, 16, 24)\n",
      "(4, 5, 6, 16, 24)\n",
      "(4, 5, 16, 24)\n",
      "(5, 16, 24)\n",
      "--------------------------------------------------\n",
      "(0, 1, 2, 3, 4, 5, 6, 7, 9, 10, 15, 16, 17, 20, 21, 22, 23)\n",
      "(0, 1, 2, 3, 4, 5, 6, 7, 9, 10, 15, 16, 17, 20, 21, 22)\n",
      "(0, 1, 2, 3, 4, 5, 6, 7, 10, 15, 16, 17, 20, 21, 22)\n",
      "(0, 1, 2, 3, 4, 5, 6, 10, 15, 16, 17, 20, 21, 22)\n",
      "(1, 2, 3, 4, 5, 6, 10, 15, 16, 17, 20, 21, 22)\n",
      "(1, 2, 3, 4, 5, 6, 10, 15, 16, 20, 21, 22)\n",
      "(1, 2, 3, 4, 5, 6, 10, 15, 16, 21, 22)\n",
      "(1, 2, 3, 4, 5, 6, 10, 16, 21, 22)\n",
      "(1, 2, 4, 5, 6, 10, 16, 21, 22)\n",
      "(1, 2, 4, 5, 10, 16, 21, 22)\n",
      "(1, 2, 5, 10, 16, 21, 22)\n",
      "(1, 2, 5, 10, 16, 22)\n",
      "(1, 2, 5, 10, 16)\n",
      "(1, 2, 5, 16)\n",
      "(2, 5, 16)\n",
      "(2, 5)\n",
      "(2,)\n",
      "--------------------------------------------------\n",
      "(5, 16, 24)\n",
      "--------------------------------------------------\n",
      "(2, 24)\n",
      "--------------------------------------------------\n",
      "(2, 5, 10, 11, 16, 18, 23, 24)\n",
      "--------------------------------------------------\n",
      "SelectKBest\n",
      "(2, 5, 24)\n",
      "(2, 24)\n",
      "(2,)\n",
      "--------------------------------------------------\n",
      "(2, 5, 8, 9, 10, 11, 16, 17, 18, 23, 24)\n",
      "(2, 5, 8, 9, 10, 11, 16, 18, 23, 24)\n",
      "(2, 5, 8, 10, 11, 16, 18, 23, 24)\n",
      "(2, 5, 10, 11, 16, 18, 23, 24)\n",
      "(2, 5, 10, 11, 16, 23, 24)\n",
      "(2, 5, 10, 16, 23, 24)\n",
      "(2, 5, 10, 16, 24)\n",
      "(2, 5, 16, 24)\n",
      "(5, 16, 24)\n",
      "(16, 24)\n",
      "(24,)\n",
      "--------------------------------------------------\n",
      "(1, 2, 5, 6, 9, 16, 23, 24)\n",
      "(2, 5, 6, 9, 16, 23, 24)\n",
      "(2, 5, 9, 16, 23, 24)\n",
      "(2, 5, 16, 23, 24)\n",
      "(2, 5, 16, 24)\n",
      "--------------------------------------------------\n",
      "(2, 5, 8, 9, 10, 11, 16, 18, 23, 24)\n",
      "--------------------------------------------------\n",
      "(2, 3, 5, 8, 9, 10, 11, 16, 17, 18, 23, 24)\n",
      "(2, 5, 8, 9, 10, 11, 16, 17, 18, 23, 24)\n",
      "--------------------------------------------------\n",
      "(2, 5, 10, 16, 24)\n",
      "--------------------------------------------------\n",
      "(2, 5, 16, 24)\n",
      "--------------------------------------------------\n",
      "(2, 5, 8, 10, 11, 16, 18, 23, 24)\n",
      "--------------------------------------------------\n",
      "(2, 5, 10, 16, 23, 24)\n",
      "--------------------------------------------------\n",
      "(2, 5, 10, 11, 16, 23, 24)\n",
      "--------------------------------------------------\n",
      "(1, 3, 4, 5, 6, 9, 10, 15, 16, 22, 23, 24)\n",
      "(1, 3, 4, 5, 6, 9, 10, 16, 22, 23, 24)\n",
      "(1, 4, 5, 6, 9, 10, 16, 22, 23, 24)\n",
      "(1, 4, 5, 6, 10, 16, 22, 23, 24)\n",
      "(1, 4, 5, 6, 10, 16, 22, 24)\n",
      "(1, 4, 5, 6, 10, 16, 24)\n",
      "(1, 4, 5, 6, 16, 24)\n",
      "(4, 5, 6, 16, 24)\n",
      "(4, 5, 16, 24)\n",
      "(5, 16, 24)\n",
      "--------------------------------------------------\n",
      "(0, 1, 2, 3, 4, 5, 6, 7, 9, 10, 15, 16, 17, 20, 21, 22, 23)\n",
      "(0, 1, 2, 3, 4, 5, 6, 7, 9, 10, 15, 16, 17, 20, 21, 22)\n",
      "(0, 1, 2, 3, 4, 5, 6, 7, 10, 15, 16, 17, 20, 21, 22)\n",
      "(0, 1, 2, 3, 4, 5, 6, 10, 15, 16, 17, 20, 21, 22)\n",
      "(1, 2, 3, 4, 5, 6, 10, 15, 16, 17, 20, 21, 22)\n",
      "(1, 2, 3, 4, 5, 6, 10, 15, 16, 20, 21, 22)\n",
      "(1, 2, 3, 4, 5, 6, 10, 15, 16, 21, 22)\n",
      "(1, 2, 3, 4, 5, 6, 10, 16, 21, 22)\n",
      "(1, 2, 4, 5, 6, 10, 16, 21, 22)\n",
      "(1, 2, 4, 5, 10, 16, 21, 22)\n",
      "(1, 2, 5, 10, 16, 21, 22)\n",
      "(1, 2, 5, 10, 16, 22)\n",
      "(1, 2, 5, 10, 16)\n",
      "(1, 2, 5, 16)\n",
      "(2, 5, 16)\n",
      "(2, 5)\n",
      "(2,)\n",
      "--------------------------------------------------\n",
      "(5, 16, 24)\n",
      "--------------------------------------------------\n",
      "(2, 24)\n",
      "--------------------------------------------------\n",
      "(2, 5, 10, 11, 16, 18, 23, 24)\n",
      "--------------------------------------------------\n"
     ]
    },
    {
     "data": {
      "text/plain": [
       "{1: ((2,), -205294.33276816175), 2: ((16, 24), -208548.38635326718), 3: ((5, 16, 24), -225673.94037683957), 4: ((2, 5, 16, 24), -254978.96449502304), 5: ((2, 5, 10, 16, 24), -325867.846506729), 6: ((2, 5, 10, 16, 23, 24), -325874.43433331477), 7: ((2, 5, 10, 11, 16, 23, 24), -325880.3525063712), 8: ((2, 5, 10, 11, 16, 18, 23, 24), -325882.1715341), 9: ((2, 5, 8, 10, 11, 16, 18, 23, 24), -325877.40728853544), 10: ((2, 5, 8, 9, 10, 11, 16, 18, 23, 24), -325872.07208175457), 11: ((2, 5, 8, 9, 10, 11, 16, 17, 18, 23, 24), -325865.9927872089), 12: ((2, 3, 5, 8, 9, 10, 11, 16, 17, 18, 23, 24), -325859.614889683), 13: ((1, 2, 3, 4, 5, 6, 10, 15, 16, 17, 20, 21, 22), -214355.2010601697), 14: ((0, 1, 2, 3, 4, 5, 6, 10, 15, 16, 17, 20, 21, 22), -214354.82395822284), 15: ((0, 1, 2, 3, 4, 5, 6, 7, 10, 15, 16, 17, 20, 21, 22), -214351.3346953505), 16: ((0, 1, 2, 3, 4, 5, 6, 7, 9, 10, 15, 16, 17, 20, 21, 22), -214345.46636742094), 17: ((0, 1, 2, 3, 4, 5, 6, 7, 9, 10, 15, 16, 17, 20, 21, 22, 23), -214339.54408288823)}"
      ]
     },
     "execution_count": 17,
     "metadata": {},
     "output_type": "execute_result"
    }
   ],
   "source": [
    "br1 = backward_refinement(feature_hierarchy, (X_pre,y_pre[:, target_index:target_index+1]), mode='rfe', ic_type='bic', verbose=True)\n",
    "br2 = backward_refinement(feature_hierarchy, (X_pre,y_pre[:, target_index:target_index+1]), mode='k best', ic_type='bic', verbose=True)\n",
    "br=br1+br2; br"
   ]
  },
  {
   "cell_type": "code",
   "execution_count": 18,
   "id": "1d053d3e-7f83-4370-82dd-c4c53df3587a",
   "metadata": {},
   "outputs": [
    {
     "name": "stdout",
     "output_type": "stream",
     "text": [
      "Ploting less than max_complexity\n",
      "Delete 13 complexity\n",
      "Delete 14 complexity\n",
      "Delete 15 complexity\n",
      "Delete 16 complexity\n",
      "Delete 17 complexity\n"
     ]
    }
   ],
   "source": [
    "print(\"Ploting less than max_complexity\")\n",
    "for c in range(max_complexity+1, max(list(br.track.keys()))+1):\n",
    "    del_c = br.delete(c)\n",
    "    if del_c is not None: print(f\"Delete {c} complexity\")\n",
    "    else: print(f\"{c} not exist\")"
   ]
  },
  {
   "cell_type": "code",
   "execution_count": 19,
   "id": "80daf1ca-5b16-45d6-98e6-09e8d397a55e",
   "metadata": {},
   "outputs": [
    {
     "name": "stdout",
     "output_type": "stream",
     "text": [
      "(2,) -205294.33276816175\n",
      "(16, 24) -208548.38635326718\n",
      "(5, 16, 24) -225673.94037683957\n",
      "(2, 5, 16, 24) -254978.96449502304\n",
      "(2, 5, 10, 16, 24) -325867.846506729\n",
      "(2, 5, 10, 16, 23, 24) -325874.43433331477\n",
      "(2, 5, 10, 11, 16, 23, 24) -325880.3525063712\n",
      "(2, 5, 10, 11, 16, 18, 23, 24) -325882.1715341\n",
      "(2, 5, 8, 10, 11, 16, 18, 23, 24) -325877.40728853544\n",
      "(2, 5, 8, 9, 10, 11, 16, 18, 23, 24) -325872.07208175457\n",
      "(2, 5, 8, 9, 10, 11, 16, 17, 18, 23, 24) -325865.9927872089\n",
      "(2, 3, 5, 8, 9, 10, 11, 16, 17, 18, 23, 24) -325859.614889683\n"
     ]
    }
   ],
   "source": [
    "# pub 32 v\n",
    "# (2,) -225753.91368340503\n",
    "# (16, 24) -228763.57914524354\n",
    "# (5, 16, 24) -244641.6767333153\n",
    "# (2, 5, 16, 24) -267260.97739774553\n",
    "# (2, 5, 10, 16, 24) -272890.6729010754\n",
    "# (2, 5, 10, 16, 17, 24) -272914.162795415\n",
    "# (2, 3, 5, 10, 16, 17, 24) -272924.30835923535\n",
    "# (2, 3, 5, 7, 10, 16, 17, 24) -272932.6275170798\n",
    "# (0, 2, 3, 5, 7, 10, 16, 17, 24) -272938.3679217328\n",
    "# (0, 2, 3, 5, 7, 10, 16, 17, 23, 24) -272943.1201767921\n",
    "# (0, 2, 3, 4, 5, 7, 10, 16, 17, 23, 24) -272939.5732545059\n",
    "# (0, 2, 3, 4, 5, 7, 10, 16, 17, 22, 23, 24) -272934.92400972766\n",
    "\n",
    "complexities = np.array(sorted(list(br.track.keys())))\n",
    "bic_scores = []\n",
    "eff_feature_names = []\n",
    "for com in complexities:\n",
    "    indices, bic = br.track[com]\n",
    "    bic_scores.append(bic)\n",
    "    print(indices, bic)\n",
    "bic_scores = np.array(bic_scores)\n",
    "min_bic_score = np.min(bic_scores)\n",
    "div_scale = 1e3\n",
    "rel_bic_scores = (bic_scores-min_bic_score)/div_scale"
   ]
  },
  {
   "cell_type": "code",
   "execution_count": 20,
   "id": "2780a396",
   "metadata": {},
   "outputs": [],
   "source": [
    "best_subsets = [br.track[com][0] for com in complexities]"
   ]
  },
  {
   "cell_type": "code",
   "execution_count": 21,
   "id": "d502d5a2",
   "metadata": {},
   "outputs": [
    {
     "name": "stderr",
     "output_type": "stream",
     "text": [
      "100%|█████████████████████████████████████████████████████████████████████████| 12/12 [00:02<00:00,  5.57it/s]\n"
     ]
    },
    {
     "data": {
      "text/plain": [
       "[(2,),\n",
       " (16, 24),\n",
       " (5, 16, 24),\n",
       " (2, 5, 16, 24),\n",
       " (2, 5, 10, 16, 24),\n",
       " (2, 5, 10, 16, 23, 24),\n",
       " (2, 5, 10, 11, 16, 23, 24),\n",
       " (2, 5, 10, 11, 16, 18, 23, 24),\n",
       " (2, 5, 8, 10, 11, 16, 18, 23, 24),\n",
       " (2, 5, 8, 9, 10, 11, 16, 18, 23, 24),\n",
       " (2, 5, 8, 9, 10, 11, 16, 17, 18, 23, 24),\n",
       " (2, 3, 5, 8, 9, 10, 11, 16, 17, 18, 23, 24)]"
      ]
     },
     "execution_count": 21,
     "metadata": {},
     "output_type": "execute_result"
    }
   ],
   "source": [
    "ever = reduce(np.union1d, best_subsets)\n",
    "_, bs = brute_force_all_subsets(X_pre[:, ever], y_pre[:, target_index:target_index+1], max_support_size=len(best_subsets))\n",
    "best_subsets = [tuple(ever[list(b)]) for b in bs]\n",
    "del bs\n",
    "best_subsets"
   ]
  },
  {
   "cell_type": "code",
   "execution_count": 22,
   "id": "7a1b877c",
   "metadata": {},
   "outputs": [],
   "source": [
    "# np.save(\"./IPI_output_files/X_pre_noise1e-1.npy\", X_pre)\n",
    "# np.save(\"./IPI_output_files/y_pre_noise1e-1.npy\", y_pre)\n",
    "# np.save(\"./IPI_output_files/feature_names.npy\", model.get_feature_names(), allow_pickle=True)\n",
    "# np.save(\"./IPI_output_files/best_subsets.npy\", best_subsets, allow_pickle=True)\n",
    "\n",
    "np.save(\"./IPI_output_files/v/feature_names.npy\", model.get_feature_names(), allow_pickle=True)\n",
    "np.save(\"./IPI_output_files/v/best_subsets_denoised.npy\", best_subsets, allow_pickle=True)\n",
    "\n",
    "# np.load(\"./IPI_output_files/X_pre_noise1e-1.npy\")\n",
    "# np.load(\"./IPI_output_files/y_pre_noise1e-1.npy\")\n",
    "# np.load(\"./IPI_output_files/feature_names.npy\", allow_pickle=True)\n",
    "# np.load(\"./IPI_output_files/best_subsets.npy\", allow_pickle=True)"
   ]
  },
  {
   "cell_type": "code",
   "execution_count": 23,
   "id": "1c73c56f",
   "metadata": {},
   "outputs": [],
   "source": [
    "BICs = []\n",
    "uncertainties = []\n",
    "for com in complexities:\n",
    "    effective_indices, _ = br.track[com]\n",
    "    fit_res = sm.OLS(y_pre[:, 1:2], X_pre[:, effective_indices]).fit()    \n",
    "    BICs.append(fit_res.bic)\n",
    "    uncertainties.append(sum(fit_res.bse))\n",
    "BICs = np.array(BICs)\n",
    "uncertainties = np.array(uncertainties)/min(uncertainties)\n",
    "lam = 4\n",
    "UBICs = BICs+(10**lam)*log(len(y_pre)*uncertainties)"
   ]
  },
  {
   "cell_type": "code",
   "execution_count": 24,
   "id": "b7444cf4",
   "metadata": {},
   "outputs": [
    {
     "data": {
      "text/plain": [
       "7"
      ]
     },
     "execution_count": 24,
     "metadata": {},
     "output_type": "execute_result"
    }
   ],
   "source": [
    "np.argmin(BICs)"
   ]
  },
  {
   "cell_type": "code",
   "execution_count": 25,
   "id": "532d955e",
   "metadata": {},
   "outputs": [
    {
     "data": {
      "image/png": "[encoded data removed]",
      "text/plain": [
       "<Figure size 1200x800 with 1 Axes>"
      ]
     },
     "metadata": {},
     "output_type": "display_data"
    }
   ],
   "source": [
    "plt.plot(UBICs); plt.show()"
   ]
  },
  {
   "cell_type": "code",
   "execution_count": 26,
   "id": "cf14c59b",
   "metadata": {},
   "outputs": [],
   "source": [
    "from UBIC import *"
   ]
  },
  {
   "cell_type": "code",
   "execution_count": 27,
   "id": "d9f763b0",
   "metadata": {},
   "outputs": [
    {
     "name": "stdout",
     "output_type": "stream",
     "text": [
      "n_lams = 3\n",
      "Using baye_uncertainties\n",
      "[158.85535149 258.75771253 124.57513916  32.35651272   1.\n",
      "   1.02600143   1.06362583   1.0884958    1.23178153   1.36129565\n",
      "   1.40364847   2.05389896]\n",
      "0 ---> 8\n",
      "1.3333333333333333 ---> 6\n",
      "2.6666666666666665 ---> 5\n",
      "4.0 ---> 5\n",
      "5.333333333333333 ---> 5\n",
      "[ 473822.03308536  897656.69719111  306892.41629262 -116652.88906709\n",
      " -321592.7852043  -321488.21533194 -321333.28686819 -321228.78526099\n",
      " -320611.46574409 -320052.44972782 -319865.30952148 -317079.07092362]\n",
      "The optimal complexity is currently at the support sizes of 5.\n"
     ]
    },
    {
     "data": {
      "text/plain": [
       "(array([ 473822.03308536,  897656.69719111,  306892.41629262,\n",
       "        -116652.88906709, -321592.7852043 , -321488.21533194,\n",
       "        -321333.28686819, -321228.78526099, -320611.46574409,\n",
       "        -320052.44972782, -319865.30952148, -317079.07092362]),\n",
       " 4,\n",
       " 2.6666666666666665)"
      ]
     },
     "execution_count": 27,
     "metadata": {},
     "output_type": "execute_result"
    }
   ],
   "source": [
    "n_lams = 3\n",
    "ics, bc, lam = UBICs(best_subsets, \n",
    "                     (X_pre, y_pre[:, 1:2]), \n",
    "                     u_type='cv', take_sqrt=True, use_baye=True, \n",
    "                     delta=1+1/3, n_lams=n_lams)\n",
    "ics[-n_lams], bc, lam"
   ]
  },
  {
   "cell_type": "code",
   "execution_count": 28,
   "id": "0d69ff4f",
   "metadata": {},
   "outputs": [
    {
     "data": {
      "text/plain": [
       "4.247674455990428"
      ]
     },
     "execution_count": 28,
     "metadata": {},
     "output_type": "execute_result"
    }
   ],
   "source": [
    "_, _, b_uns = baye_uncertainties(best_subsets, (X_pre, y_pre[:, 1:2]), u_type='cv', take_sqrt=True)\n",
    "lower_bounds = []\n",
    "for efi in best_subsets:\n",
    "    com = len(efi)\n",
    "    w = np.linalg.lstsq(X_pre[:, efi], y_pre[:, 1:2], rcond=None)[0]\n",
    "    pred = X_pre[:, efi]@w\n",
    "    lower_bound = log_like_value(pred, y_pre[:, 1:2])/np.log(len(y_pre[:, 1:2]))-com\n",
    "    lower_bounds.append(lower_bound)\n",
    "max_lam = max(np.log10(lower_bounds/b_uns))\n",
    "delta = np.linspace(0, max_lam, 4)[1]\n",
    "max_lam"
   ]
  },
  {
   "cell_type": "code",
   "execution_count": 29,
   "id": "84cef451",
   "metadata": {},
   "outputs": [
    {
     "name": "stdout",
     "output_type": "stream",
     "text": [
      "n_lams = 3\n",
      "Using baye_uncertainties\n",
      "[158.85535149 258.75771253 124.57513916  32.35651272   1.\n",
      "   1.02600143   1.06362583   1.0884958    1.23178153   1.36129565\n",
      "   1.40364847   2.05389896]\n",
      "0 ---> 8\n",
      "1.4158914853301425 ---> 6\n",
      "2.831782970660285 ---> 5\n",
      "4.247674455990428 ---> 5\n",
      "[ 787960.07394269 1409352.65270575  553240.99559745  -52667.5626646\n",
      " -319615.2752375  -319459.28728199 -319229.95618283 -319076.27396736\n",
      " -318175.60549507 -317360.47401245 -317089.58067781 -313017.465258  ]\n",
      "The optimal complexity is currently at the support sizes of 5.\n"
     ]
    },
    {
     "data": {
      "text/plain": [
       "(array([-167172.9175316 , -146452.83771546, -195778.94116253,\n",
       "        -247214.18952482, -325627.87086299, -325628.21898013,\n",
       "        -325625.10821244, -325620.95905375, -325581.80972334,\n",
       "        -325545.39428185, -325529.1513415 , -325366.7291644 ]),\n",
       " 4,\n",
       " 2.831782970660285)"
      ]
     },
     "execution_count": 29,
     "metadata": {},
     "output_type": "execute_result"
    }
   ],
   "source": [
    "n_lams = 3\n",
    "ics, bc, lam = UBICs(best_subsets, \n",
    "                     (X_pre, y_pre[:, 1:2]), \n",
    "                     u_type='cv', take_sqrt=True, use_baye=True, \n",
    "                     max_lam=max_lam, \n",
    "                     delta=delta, \n",
    "                     n_lams=n_lams)\n",
    "ics[-n_lams], bc, lam"
   ]
  },
  {
   "cell_type": "code",
   "execution_count": 30,
   "id": "3e652b6b",
   "metadata": {},
   "outputs": [
    {
     "data": {
      "text/plain": [
       "2.831782970660285"
      ]
     },
     "execution_count": 30,
     "metadata": {},
     "output_type": "execute_result"
    }
   ],
   "source": [
    "lam"
   ]
  },
  {
   "cell_type": "code",
   "execution_count": null,
   "id": "5abd37e7",
   "metadata": {},
   "outputs": [],
   "source": []
  },
  {
   "cell_type": "code",
   "execution_count": null,
   "id": "eac9b889",
   "metadata": {},
   "outputs": [],
   "source": []
  },
  {
   "cell_type": "code",
   "execution_count": 32,
   "id": "c1bff1e5",
   "metadata": {},
   "outputs": [
    {
     "name": "stdout",
     "output_type": "stream",
     "text": [
      "4 <---> 4 inf\n",
      "4 <---> 5 2.0216252251847544e-05\n"
     ]
    },
    {
     "data": {
      "text/plain": [
       "(2.8317829707,\n",
       " array([ 787960.07394269, 1409352.65270575,  553240.99559745,\n",
       "         -52667.5626646 , -319615.2752375 , -319459.28728199,\n",
       "        -319229.95618283, -319076.27396736, -318175.60549507,\n",
       "        -317360.47401245, -317089.58067781, -313017.465258  ]),\n",
       " 4)"
      ]
     },
     "execution_count": 32,
     "metadata": {},
     "output_type": "execute_result"
    }
   ],
   "source": [
    "tau = 3\n",
    "thres = 0.02\n",
    "\n",
    "post_means, b_bics, b_uns = baye_uncertainties(best_subsets, (X_pre, y_pre[:, 1:2]), u_type='cv1', take_sqrt=True)\n",
    "preddictions = X_pre@post_means\n",
    "lower_bounds = []\n",
    "for k, efi in enumerate(best_subsets):\n",
    "    com = len(efi)\n",
    "    lower_bound = log_like_value(preddictions[:, k:k+1], y_pre[:, 1:2])/np.log(len(y_pre[:, 1:2]))-com\n",
    "    lower_bounds.append(lower_bound)\n",
    "    \n",
    "last_lam = np.log10(max(lower_bounds/b_uns))\n",
    "delta = last_lam/tau\n",
    "now_lam = max_lam-delta\n",
    "last_ubic = UBIC(b_bics, b_uns, len(y_pre[:, 1:2]), hyp=10**last_lam)\n",
    "last_bc = np.argmin(last_ubic)\n",
    "while now_lam > 0:\n",
    "    now_ubic = UBIC(b_bics, b_uns, len(y_pre[:, 1:2]), hyp=10**now_lam)\n",
    "    now_bc = np.argmin(now_ubic)\n",
    "    \n",
    "    diff_com = now_bc-last_bc\n",
    "    imp = abs((b_bics[now_bc]-b_bics[last_bc])/(b_bics[last_bc]*diff_com))\n",
    "    print(min(last_bc, now_bc), '<--->', max(last_bc, now_bc), np.nan_to_num(imp, nan=np.inf))\n",
    "    \n",
    "    if (diff_com > 0 and imp < thres) or (diff_com < 0 and imp > thres):\n",
    "        break\n",
    "    \n",
    "    last_lam = now_lam\n",
    "    now_lam = last_lam-delta\n",
    "    last_ubic = now_ubic\n",
    "    last_bc = now_bc\n",
    "\n",
    "last_lam = round(last_lam, 10)\n",
    "last_lam, last_ubic, last_bc"
   ]
  }
 ],
 "metadata": {
  "kernelspec": {
   "display_name": "Python [conda env:py3.7] *",
   "language": "python",
   "name": "conda-env-py3.7-py"
  },
  "language_info": {
   "codemirror_mode": {
    "name": "ipython",
    "version": 3
   },
   "file_extension": ".py",
   "mimetype": "text/x-python",
   "name": "python",
   "nbconvert_exporter": "python",
   "pygments_lexer": "ipython3",
   "version": "3.7.12"
  },
  "widgets": {
   "application/vnd.jupyter.widget-state+json": {
    "state": {},
    "version_major": 2,
    "version_minor": 0
   }
  }
 },
 "nbformat": 4,
 "nbformat_minor": 5
}
