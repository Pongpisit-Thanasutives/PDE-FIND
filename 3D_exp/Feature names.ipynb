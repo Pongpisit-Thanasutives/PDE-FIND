{
 "cells": [
  {
   "cell_type": "code",
   "execution_count": 1,
   "id": "4577ae5c",
   "metadata": {},
   "outputs": [],
   "source": [
    "import numpy as np"
   ]
  },
  {
   "cell_type": "code",
   "execution_count": 2,
   "id": "f4133a1f",
   "metadata": {},
   "outputs": [],
   "source": [
    "feature_names = np.load(\"./IPI_output_files/feature_names.npy\").tolist()"
   ]
  },
  {
   "cell_type": "code",
   "execution_count": 3,
   "id": "3c5675e2",
   "metadata": {},
   "outputs": [
    {
     "data": {
      "text/plain": [
       "['1', 'x0', 'x1', 'x0x0x0', 'x1x1x1', 'x0x1x1', 'x0x0x1']"
      ]
     },
     "execution_count": 3,
     "metadata": {},
     "output_type": "execute_result"
    }
   ],
   "source": [
    "variables = []\n",
    "derivatives = []\n",
    "for f in feature_names:\n",
    "    if '_' not in f: variables.append(f)\n",
    "    else: derivatives.append(f)\n",
    "variables"
   ]
  },
  {
   "cell_type": "code",
   "execution_count": 4,
   "id": "fe04f7f7",
   "metadata": {},
   "outputs": [
    {
     "data": {
      "text/plain": [
       "['x0_1',\n",
       " 'x0_11',\n",
       " 'x0_12',\n",
       " 'x0_13',\n",
       " 'x0_2',\n",
       " 'x0_22',\n",
       " 'x0_23',\n",
       " 'x0_3',\n",
       " 'x0_33',\n",
       " 'x1_1',\n",
       " 'x1_11',\n",
       " 'x1_12',\n",
       " 'x1_13',\n",
       " 'x1_2',\n",
       " 'x1_22',\n",
       " 'x1_23',\n",
       " 'x1_3',\n",
       " 'x1_33']"
      ]
     },
     "execution_count": 4,
     "metadata": {},
     "output_type": "execute_result"
    }
   ],
   "source": [
    "sorted(derivatives)"
   ]
  },
  {
   "cell_type": "code",
   "execution_count": null,
   "id": "586541b1",
   "metadata": {},
   "outputs": [],
   "source": []
  }
 ],
 "metadata": {
  "kernelspec": {
   "display_name": "Python [conda env:pysr]",
   "language": "python",
   "name": "conda-env-pysr-py"
  },
  "language_info": {
   "codemirror_mode": {
    "name": "ipython",
    "version": 3
   },
   "file_extension": ".py",
   "mimetype": "text/x-python",
   "name": "python",
   "nbconvert_exporter": "python",
   "pygments_lexer": "ipython3",
   "version": "3.10.10"
  }
 },
 "nbformat": 4,
 "nbformat_minor": 5
}
